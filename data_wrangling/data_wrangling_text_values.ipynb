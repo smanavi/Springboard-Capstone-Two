{
 "cells": [
  {
   "cell_type": "markdown",
   "metadata": {},
   "source": [
    "#### import the things"
   ]
  },
  {
   "cell_type": "code",
   "execution_count": 1,
   "metadata": {},
   "outputs": [],
   "source": [
    "import pandas as pd\n",
    "import json\n",
    "import os\n",
    "import numpy as np\n",
    "import matplotlib.pyplot as plt\n",
    "import seaborn as sns\n",
    "\n",
    "idx = pd.IndexSlice\n",
    "\n",
    "import scipy.stats\n",
    "import data\n",
    "raw_data_fol = os.path.join(data.__path__[0], \"raw\")"
   ]
  },
  {
   "cell_type": "code",
   "execution_count": 2,
   "metadata": {},
   "outputs": [],
   "source": [
    "from src.data import data_sorting_tools as dst\n",
    "%load_ext autoreload\n",
    "%autoreload 2"
   ]
  },
  {
   "cell_type": "markdown",
   "metadata": {},
   "source": [
    "#### look at tweet data keys"
   ]
  },
  {
   "cell_type": "markdown",
   "metadata": {},
   "source": [
    "Open one of the jsons to look at key structure and names"
   ]
  },
  {
   "cell_type": "code",
   "execution_count": 59,
   "metadata": {},
   "outputs": [],
   "source": [
    "query1_file = os.path.join(raw_data_fol, \"main_search1_fixed.json\")\n",
    "with open(query1_file) as f:\n",
    "    query1 = json.load(f)"
   ]
  },
  {
   "cell_type": "code",
   "execution_count": 60,
   "metadata": {},
   "outputs": [],
   "source": [
    "del query1['query']"
   ]
  },
  {
   "cell_type": "code",
   "execution_count": 61,
   "metadata": {},
   "outputs": [
    {
     "data": {
      "text/plain": [
       "dict_keys(['created_at', 'id', 'id_str', 'text', 'source', 'truncated', 'in_reply_to_status_id', 'in_reply_to_status_id_str', 'in_reply_to_user_id', 'in_reply_to_user_id_str', 'in_reply_to_screen_name', 'user', 'geo', 'coordinates', 'place', 'contributors', 'retweeted_status', 'is_quote_status', 'quote_count', 'reply_count', 'retweet_count', 'favorite_count', 'entities', 'extended_entities', 'favorited', 'retweeted', 'possibly_sensitive', 'filter_level', 'lang', 'matching_rules'])"
      ]
     },
     "execution_count": 61,
     "metadata": {},
     "output_type": "execute_result"
    }
   ],
   "source": [
    "query1['0'].keys()"
   ]
  },
  {
   "cell_type": "code",
   "execution_count": 62,
   "metadata": {},
   "outputs": [
    {
     "data": {
      "text/plain": [
       "dict_keys(['id', 'id_str', 'name', 'screen_name', 'location', 'url', 'description', 'translator_type', 'protected', 'verified', 'followers_count', 'friends_count', 'listed_count', 'favourites_count', 'statuses_count', 'created_at', 'utc_offset', 'time_zone', 'geo_enabled', 'lang', 'contributors_enabled', 'is_translator', 'profile_background_color', 'profile_background_image_url', 'profile_background_image_url_https', 'profile_background_tile', 'profile_link_color', 'profile_sidebar_border_color', 'profile_sidebar_fill_color', 'profile_text_color', 'profile_use_background_image', 'profile_image_url', 'profile_image_url_https', 'profile_banner_url', 'default_profile', 'default_profile_image', 'following', 'follow_request_sent', 'notifications'])"
      ]
     },
     "execution_count": 62,
     "metadata": {},
     "output_type": "execute_result"
    }
   ],
   "source": [
    "query1['0']['user'].keys()"
   ]
  },
  {
   "cell_type": "markdown",
   "metadata": {},
   "source": [
    "#### fix truncated tweets"
   ]
  },
  {
   "cell_type": "markdown",
   "metadata": {},
   "source": [
    "some tweets were truncated due to the way tweepy gathers them. So I had to go through and fix that for all 20000 tweets, and then saved the dictionaries again"
   ]
  },
  {
   "cell_type": "code",
   "execution_count": 37,
   "metadata": {
    "scrolled": true
   },
   "outputs": [],
   "source": [
    "q1_fixed = dst.fix_truncated_tweets(query1)"
   ]
  },
  {
   "cell_type": "code",
   "execution_count": 63,
   "metadata": {
    "scrolled": true
   },
   "outputs": [
    {
     "data": {
      "text/plain": [
       "dict_keys(['created_at', 'id', 'id_str', 'text', 'source', 'truncated', 'in_reply_to_status_id', 'in_reply_to_status_id_str', 'in_reply_to_user_id', 'in_reply_to_user_id_str', 'in_reply_to_screen_name', 'user', 'geo', 'coordinates', 'place', 'contributors', 'retweeted_status', 'quoted_status_id', 'quoted_status_id_str', 'quoted_status', 'quoted_status_permalink', 'is_quote_status', 'quote_count', 'reply_count', 'retweet_count', 'favorite_count', 'entities', 'favorited', 'retweeted', 'filter_level', 'lang', 'matching_rules', 'full_text'])"
      ]
     },
     "execution_count": 63,
     "metadata": {},
     "output_type": "execute_result"
    }
   ],
   "source": [
    "q1_fixed['16'].keys()"
   ]
  },
  {
   "cell_type": "code",
   "execution_count": 64,
   "metadata": {},
   "outputs": [
    {
     "data": {
      "text/plain": [
       "'Very useful seminar from @WaverleyCare, who have a base in Glasgow North, this morning on their response to pandemic challenges &amp; supporting people w #HIV &amp; #HepC - seminar running again at lunchtime and later on YouTube, well worth checking out https://t.co/CZkCAfqm5C'"
      ]
     },
     "execution_count": 64,
     "metadata": {},
     "output_type": "execute_result"
    }
   ],
   "source": [
    "query1['16']['full_text']"
   ]
  },
  {
   "cell_type": "code",
   "execution_count": null,
   "metadata": {},
   "outputs": [],
   "source": []
  },
  {
   "cell_type": "code",
   "execution_count": 47,
   "metadata": {
    "scrolled": true
   },
   "outputs": [
    {
     "name": "stderr",
     "output_type": "stream",
     "text": [
      "Rate limit reached. Sleeping for: 735\n",
      "Rate limit reached. Sleeping for: 751\n",
      "Rate limit reached. Sleeping for: 745\n",
      "Rate limit reached. Sleeping for: 749\n"
     ]
    },
    {
     "ename": "TweepError",
     "evalue": "[{'code': 179, 'message': 'Sorry, you are not authorized to see this status.'}]",
     "output_type": "error",
     "traceback": [
      "\u001b[1;31m---------------------------------------------------------------------------\u001b[0m",
      "\u001b[1;31mTweepError\u001b[0m                                Traceback (most recent call last)",
      "\u001b[1;32m<ipython-input-47-f2d9890e140f>\u001b[0m in \u001b[0;36m<module>\u001b[1;34m\u001b[0m\n\u001b[0;32m      3\u001b[0m     \u001b[1;32mwith\u001b[0m \u001b[0mopen\u001b[0m\u001b[1;33m(\u001b[0m\u001b[0mjson_file\u001b[0m\u001b[1;33m,\u001b[0m \u001b[1;34m'r'\u001b[0m\u001b[1;33m)\u001b[0m \u001b[1;32mas\u001b[0m \u001b[0mj\u001b[0m\u001b[1;33m:\u001b[0m\u001b[1;33m\u001b[0m\u001b[1;33m\u001b[0m\u001b[0m\n\u001b[0;32m      4\u001b[0m         \u001b[0mj_dict\u001b[0m \u001b[1;33m=\u001b[0m \u001b[0mjson\u001b[0m\u001b[1;33m.\u001b[0m\u001b[0mload\u001b[0m\u001b[1;33m(\u001b[0m\u001b[0mj\u001b[0m\u001b[1;33m)\u001b[0m\u001b[1;33m\u001b[0m\u001b[1;33m\u001b[0m\u001b[0m\n\u001b[1;32m----> 5\u001b[1;33m     \u001b[0mfixed_dict\u001b[0m \u001b[1;33m=\u001b[0m \u001b[0mdst\u001b[0m\u001b[1;33m.\u001b[0m\u001b[0mfix_truncated_tweets\u001b[0m\u001b[1;33m(\u001b[0m\u001b[0mj_dict\u001b[0m\u001b[1;33m)\u001b[0m\u001b[1;33m\u001b[0m\u001b[1;33m\u001b[0m\u001b[0m\n\u001b[0m\u001b[0;32m      6\u001b[0m \u001b[1;33m\u001b[0m\u001b[0m\n\u001b[0;32m      7\u001b[0m     \u001b[0mfname\u001b[0m \u001b[1;33m=\u001b[0m \u001b[0mos\u001b[0m\u001b[1;33m.\u001b[0m\u001b[0mpath\u001b[0m\u001b[1;33m.\u001b[0m\u001b[0mjoin\u001b[0m\u001b[1;33m(\u001b[0m\u001b[0mraw_data_fol\u001b[0m\u001b[1;33m,\u001b[0m \u001b[0mf\u001b[0m\u001b[1;33m.\u001b[0m\u001b[0mreplace\u001b[0m\u001b[1;33m(\u001b[0m\u001b[1;34m'.'\u001b[0m\u001b[1;33m,\u001b[0m \u001b[1;34m'_fixed.'\u001b[0m\u001b[1;33m)\u001b[0m\u001b[1;33m)\u001b[0m\u001b[1;33m\u001b[0m\u001b[1;33m\u001b[0m\u001b[0m\n",
      "\u001b[1;32mc:\\users\\smana\\documents\\springboard\\springboard_git_dir\\capstone2\\src\\data\\data_sorting_tools.py\u001b[0m in \u001b[0;36mfix_truncated_tweets\u001b[1;34m(tweets_json)\u001b[0m\n\u001b[0;32m     65\u001b[0m     \u001b[1;32mfor\u001b[0m \u001b[0mkey\u001b[0m \u001b[1;32min\u001b[0m \u001b[0mtweets_json\u001b[0m\u001b[1;33m.\u001b[0m\u001b[0mkeys\u001b[0m\u001b[1;33m(\u001b[0m\u001b[1;33m)\u001b[0m\u001b[1;33m:\u001b[0m\u001b[1;33m\u001b[0m\u001b[1;33m\u001b[0m\u001b[0m\n\u001b[0;32m     66\u001b[0m         \u001b[1;32mif\u001b[0m \u001b[1;33m(\u001b[0m\u001b[1;34m'query'\u001b[0m \u001b[1;32min\u001b[0m \u001b[0mkey\u001b[0m\u001b[1;33m)\u001b[0m\u001b[1;33m==\u001b[0m\u001b[1;32mFalse\u001b[0m\u001b[1;33m:\u001b[0m\u001b[1;33m\u001b[0m\u001b[1;33m\u001b[0m\u001b[0m\n\u001b[1;32m---> 67\u001b[1;33m             \u001b[1;32mif\u001b[0m \u001b[0mtweets_json\u001b[0m\u001b[1;33m[\u001b[0m\u001b[0mkey\u001b[0m\u001b[1;33m]\u001b[0m\u001b[1;33m[\u001b[0m\u001b[1;34m'truncated'\u001b[0m\u001b[1;33m]\u001b[0m \u001b[1;33m==\u001b[0m \u001b[1;32mTrue\u001b[0m\u001b[1;33m:\u001b[0m\u001b[1;33m\u001b[0m\u001b[1;33m\u001b[0m\u001b[0m\n\u001b[0m\u001b[0;32m     68\u001b[0m                 \u001b[0mtid\u001b[0m \u001b[1;33m=\u001b[0m \u001b[0mtweets_json\u001b[0m\u001b[1;33m[\u001b[0m\u001b[0mkey\u001b[0m\u001b[1;33m]\u001b[0m\u001b[1;33m[\u001b[0m\u001b[1;34m'id'\u001b[0m\u001b[1;33m]\u001b[0m\u001b[1;33m\u001b[0m\u001b[1;33m\u001b[0m\u001b[0m\n\u001b[0;32m     69\u001b[0m                 \u001b[0mstatus\u001b[0m \u001b[1;33m=\u001b[0m \u001b[0mapi\u001b[0m\u001b[1;33m.\u001b[0m\u001b[0mget_status\u001b[0m\u001b[1;33m(\u001b[0m\u001b[0mtid\u001b[0m\u001b[1;33m,\u001b[0m \u001b[0mtweet_mode\u001b[0m\u001b[1;33m=\u001b[0m\u001b[1;34m\"extended\"\u001b[0m\u001b[1;33m)\u001b[0m\u001b[1;33m\u001b[0m\u001b[1;33m\u001b[0m\u001b[0m\n",
      "\u001b[1;32m~\\anaconda3\\envs\\capstone2\\lib\\site-packages\\tweepy\\api.py\u001b[0m in \u001b[0;36mget_status\u001b[1;34m(self, *args, **kwargs)\u001b[0m\n\u001b[0;32m    167\u001b[0m                             \u001b[1;34m'include_card_uri'\u001b[0m\u001b[1;33m\u001b[0m\u001b[1;33m\u001b[0m\u001b[0m\n\u001b[0;32m    168\u001b[0m         \"\"\"\n\u001b[1;32m--> 169\u001b[1;33m         return bind_api(\n\u001b[0m\u001b[0;32m    170\u001b[0m             \u001b[0mapi\u001b[0m\u001b[1;33m=\u001b[0m\u001b[0mself\u001b[0m\u001b[1;33m,\u001b[0m\u001b[1;33m\u001b[0m\u001b[1;33m\u001b[0m\u001b[0m\n\u001b[0;32m    171\u001b[0m             \u001b[0mpath\u001b[0m\u001b[1;33m=\u001b[0m\u001b[1;34m'/statuses/show.json'\u001b[0m\u001b[1;33m,\u001b[0m\u001b[1;33m\u001b[0m\u001b[1;33m\u001b[0m\u001b[0m\n",
      "\u001b[1;32m~\\anaconda3\\envs\\capstone2\\lib\\site-packages\\tweepy\\binder.py\u001b[0m in \u001b[0;36m_call\u001b[1;34m(*args, **kwargs)\u001b[0m\n\u001b[0;32m    228\u001b[0m                 \u001b[1;32mreturn\u001b[0m \u001b[0mmethod\u001b[0m\u001b[1;33m\u001b[0m\u001b[1;33m\u001b[0m\u001b[0m\n\u001b[0;32m    229\u001b[0m             \u001b[1;32melse\u001b[0m\u001b[1;33m:\u001b[0m\u001b[1;33m\u001b[0m\u001b[1;33m\u001b[0m\u001b[0m\n\u001b[1;32m--> 230\u001b[1;33m                 \u001b[1;32mreturn\u001b[0m \u001b[0mmethod\u001b[0m\u001b[1;33m.\u001b[0m\u001b[0mexecute\u001b[0m\u001b[1;33m(\u001b[0m\u001b[1;33m)\u001b[0m\u001b[1;33m\u001b[0m\u001b[1;33m\u001b[0m\u001b[0m\n\u001b[0m\u001b[0;32m    231\u001b[0m         \u001b[1;32mfinally\u001b[0m\u001b[1;33m:\u001b[0m\u001b[1;33m\u001b[0m\u001b[1;33m\u001b[0m\u001b[0m\n\u001b[0;32m    232\u001b[0m             \u001b[0mmethod\u001b[0m\u001b[1;33m.\u001b[0m\u001b[0msession\u001b[0m\u001b[1;33m.\u001b[0m\u001b[0mclose\u001b[0m\u001b[1;33m(\u001b[0m\u001b[1;33m)\u001b[0m\u001b[1;33m\u001b[0m\u001b[1;33m\u001b[0m\u001b[0m\n",
      "\u001b[1;32m~\\anaconda3\\envs\\capstone2\\lib\\site-packages\\tweepy\\binder.py\u001b[0m in \u001b[0;36mexecute\u001b[1;34m(self)\u001b[0m\n\u001b[0;32m    209\u001b[0m                     \u001b[1;32mraise\u001b[0m \u001b[0mRateLimitError\u001b[0m\u001b[1;33m(\u001b[0m\u001b[0merror_msg\u001b[0m\u001b[1;33m,\u001b[0m \u001b[0mresp\u001b[0m\u001b[1;33m)\u001b[0m\u001b[1;33m\u001b[0m\u001b[1;33m\u001b[0m\u001b[0m\n\u001b[0;32m    210\u001b[0m                 \u001b[1;32melse\u001b[0m\u001b[1;33m:\u001b[0m\u001b[1;33m\u001b[0m\u001b[1;33m\u001b[0m\u001b[0m\n\u001b[1;32m--> 211\u001b[1;33m                     \u001b[1;32mraise\u001b[0m \u001b[0mTweepError\u001b[0m\u001b[1;33m(\u001b[0m\u001b[0merror_msg\u001b[0m\u001b[1;33m,\u001b[0m \u001b[0mresp\u001b[0m\u001b[1;33m,\u001b[0m \u001b[0mapi_code\u001b[0m\u001b[1;33m=\u001b[0m\u001b[0mapi_error_code\u001b[0m\u001b[1;33m)\u001b[0m\u001b[1;33m\u001b[0m\u001b[1;33m\u001b[0m\u001b[0m\n\u001b[0m\u001b[0;32m    212\u001b[0m \u001b[1;33m\u001b[0m\u001b[0m\n\u001b[0;32m    213\u001b[0m             \u001b[1;31m# Parse the response payload\u001b[0m\u001b[1;33m\u001b[0m\u001b[1;33m\u001b[0m\u001b[1;33m\u001b[0m\u001b[0m\n",
      "\u001b[1;31mTweepError\u001b[0m: [{'code': 179, 'message': 'Sorry, you are not authorized to see this status.'}]"
     ]
    }
   ],
   "source": [
    "for f in os.listdir(os.path.join(raw_data_fol, \"final_main_search\")):\n",
    "    json_file = os.path.join(raw_data_fol, \"final_main_search\", f)\n",
    "    with open(json_file, 'r') as j:\n",
    "        j_dict = json.load(j)\n",
    "    fixed_dict = dst.fix_truncated_tweets(j_dict)\n",
    "    \n",
    "    fname = os.path.join(raw_data_fol, f.replace('.', '_fixed.'))\n",
    "    with open(fname, 'w') as j:\n",
    "        json.dump(fixed_dict, j, indent=4)"
   ]
  },
  {
   "cell_type": "code",
   "execution_count": 53,
   "metadata": {},
   "outputs": [],
   "source": [
    "originals = [f for f in os.listdir(os.path.join(raw_data_fol, \"final_main_search\"))]"
   ]
  },
  {
   "cell_type": "code",
   "execution_count": 50,
   "metadata": {},
   "outputs": [],
   "source": [
    "fixed = [f.replace('_fixed', '') for f in os.listdir(raw_data_fol) if \"fixed\" in f]"
   ]
  },
  {
   "cell_type": "code",
   "execution_count": 55,
   "metadata": {},
   "outputs": [
    {
     "data": {
      "text/plain": [
       "{'main_search7.json', 'main_search8.json', 'main_search9.json'}"
      ]
     },
     "execution_count": 55,
     "metadata": {},
     "output_type": "execute_result"
    }
   ],
   "source": [
    "(set(originals) - set(fixed))"
   ]
  },
  {
   "cell_type": "code",
   "execution_count": 56,
   "metadata": {},
   "outputs": [],
   "source": [
    "for f in (set(originals) - set(fixed)):\n",
    "    json_file = os.path.join(raw_data_fol, \"final_main_search\", f)\n",
    "    with open(json_file, 'r') as j:\n",
    "        j_dict = json.load(j)\n",
    "    fixed_dict = dst.fix_truncated_tweets(j_dict)\n",
    "    \n",
    "    fname = os.path.join(raw_data_fol, f.replace('.', '_fixed.'))\n",
    "    with open(fname, 'w') as j:\n",
    "        json.dump(fixed_dict, j, indent=4)"
   ]
  },
  {
   "cell_type": "code",
   "execution_count": 57,
   "metadata": {},
   "outputs": [
    {
     "data": {
      "text/plain": [
       "set()"
      ]
     },
     "execution_count": 57,
     "metadata": {},
     "output_type": "execute_result"
    }
   ],
   "source": [
    "fixed = [f.replace('_fixed', '') for f in os.listdir(raw_data_fol) if \"fixed\" in f]\n",
    "(set(originals) - set(fixed))"
   ]
  },
  {
   "cell_type": "code",
   "execution_count": null,
   "metadata": {},
   "outputs": [],
   "source": []
  },
  {
   "cell_type": "markdown",
   "metadata": {},
   "source": [
    "#### decide which keys to put in a dataframe"
   ]
  },
  {
   "cell_type": "code",
   "execution_count": 67,
   "metadata": {},
   "outputs": [
    {
     "data": {
      "text/html": [
       "<div>\n",
       "<style scoped>\n",
       "    .dataframe tbody tr th:only-of-type {\n",
       "        vertical-align: middle;\n",
       "    }\n",
       "\n",
       "    .dataframe tbody tr th {\n",
       "        vertical-align: top;\n",
       "    }\n",
       "\n",
       "    .dataframe thead th {\n",
       "        text-align: right;\n",
       "    }\n",
       "</style>\n",
       "<table border=\"1\" class=\"dataframe\">\n",
       "  <thead>\n",
       "    <tr style=\"text-align: right;\">\n",
       "      <th></th>\n",
       "      <th>user_id</th>\n",
       "      <th>text</th>\n",
       "    </tr>\n",
       "  </thead>\n",
       "  <tbody>\n",
       "    <tr>\n",
       "      <th>1365080049200865280</th>\n",
       "      <td>1135444956145782784</td>\n",
       "      <td>RT @TheKingofReads: “Who gave you HIV?” https:...</td>\n",
       "    </tr>\n",
       "    <tr>\n",
       "      <th>1365079654529310721</th>\n",
       "      <td>1042186210943283200</td>\n",
       "      <td>@PozGee04 In the future hiv will just be like ...</td>\n",
       "    </tr>\n",
       "    <tr>\n",
       "      <th>1365079624992968708</th>\n",
       "      <td>804135657903824896</td>\n",
       "      <td>@QuasLacrimas @Peter_Nimitz ....of ritual defl...</td>\n",
       "    </tr>\n",
       "    <tr>\n",
       "      <th>1365079615115563011</th>\n",
       "      <td>3172127511</td>\n",
       "      <td>A certain boy on Legon campus says he contract...</td>\n",
       "    </tr>\n",
       "    <tr>\n",
       "      <th>1365079544022126593</th>\n",
       "      <td>1280964595</td>\n",
       "      <td>A certain boy on Legon campus says he contract...</td>\n",
       "    </tr>\n",
       "  </tbody>\n",
       "</table>\n",
       "</div>"
      ],
      "text/plain": [
       "                                 user_id  \\\n",
       "1365080049200865280  1135444956145782784   \n",
       "1365079654529310721  1042186210943283200   \n",
       "1365079624992968708   804135657903824896   \n",
       "1365079615115563011           3172127511   \n",
       "1365079544022126593           1280964595   \n",
       "\n",
       "                                                                  text  \n",
       "1365080049200865280  RT @TheKingofReads: “Who gave you HIV?” https:...  \n",
       "1365079654529310721  @PozGee04 In the future hiv will just be like ...  \n",
       "1365079624992968708  @QuasLacrimas @Peter_Nimitz ....of ritual defl...  \n",
       "1365079615115563011  A certain boy on Legon campus says he contract...  \n",
       "1365079544022126593  A certain boy on Legon campus says he contract...  "
      ]
     },
     "execution_count": 67,
     "metadata": {},
     "output_type": "execute_result"
    }
   ],
   "source": [
    "#this dataframe is just for the text of the tweet, so it's more straightforward\n",
    "#will keep the same index structure as the numeric df\n",
    "\n",
    "keepers = [('user','id'), 'text']\n",
    "\n",
    "df, main_dict = dst.json_to_df(query1_file, keepers, get_media=False, return_dict=True)\n",
    "df.head()"
   ]
  },
  {
   "cell_type": "code",
   "execution_count": null,
   "metadata": {},
   "outputs": [],
   "source": []
  },
  {
   "cell_type": "markdown",
   "metadata": {},
   "source": [
    "#### process all the tweet jsons to gather text data"
   ]
  },
  {
   "cell_type": "code",
   "execution_count": 68,
   "metadata": {},
   "outputs": [],
   "source": [
    "#repeat the process with all the saved json files\n",
    "keepers = [('user','id'), 'text']"
   ]
  },
  {
   "cell_type": "code",
   "execution_count": 69,
   "metadata": {
    "scrolled": true
   },
   "outputs": [
    {
     "data": {
      "text/plain": [
       "['.gitkeep',\n",
       " 'final_main_search',\n",
       " 'first_main_search',\n",
       " 'lifelong_statuses.json',\n",
       " 'lifelong_user_profile.json',\n",
       " 'main_search10_fixed.json',\n",
       " 'main_search11_fixed.json',\n",
       " 'main_search12_fixed.json',\n",
       " 'main_search13_fixed.json',\n",
       " 'main_search14_fixed.json',\n",
       " 'main_search15_fixed.json',\n",
       " 'main_search16_fixed.json',\n",
       " 'main_search17_fixed.json',\n",
       " 'main_search18_fixed.json',\n",
       " 'main_search19_fixed.json',\n",
       " 'main_search1_fixed.json',\n",
       " 'main_search20_fixed.json',\n",
       " 'main_search21_fixed.json',\n",
       " 'main_search22_fixed.json',\n",
       " 'main_search23_fixed.json',\n",
       " 'main_search24_fixed.json',\n",
       " 'main_search25_fixed.json',\n",
       " 'main_search26_fixed.json',\n",
       " 'main_search27_fixed.json',\n",
       " 'main_search28_fixed.json',\n",
       " 'main_search29_fixed.json',\n",
       " 'main_search2_fixed.json',\n",
       " 'main_search30_fixed.json',\n",
       " 'main_search31_fixed.json',\n",
       " 'main_search32_fixed.json',\n",
       " 'main_search33_fixed.json',\n",
       " 'main_search34_fixed.json',\n",
       " 'main_search35_fixed.json',\n",
       " 'main_search36_fixed.json',\n",
       " 'main_search37_fixed.json',\n",
       " 'main_search38_fixed.json',\n",
       " 'main_search39_fixed.json',\n",
       " 'main_search3_fixed.json',\n",
       " 'main_search40_fixed.json',\n",
       " 'main_search4_fixed.json',\n",
       " 'main_search5_fixed.json',\n",
       " 'main_search6_fixed.json',\n",
       " 'main_search7_fixed.json',\n",
       " 'main_search8_fixed.json',\n",
       " 'main_search9_fixed.json',\n",
       " 'prep_searches',\n",
       " 'second_main_search',\n",
       " 'test_search.json']"
      ]
     },
     "execution_count": 69,
     "metadata": {},
     "output_type": "execute_result"
    }
   ],
   "source": [
    "#where all the raw data jsons are kept\n",
    "os.listdir(raw_data_fol)"
   ]
  },
  {
   "cell_type": "code",
   "execution_count": 70,
   "metadata": {},
   "outputs": [],
   "source": [
    "#go through all the jsons to combine relevant columns of tweets in one dataframe, indexed by tweet ID\n",
    "all_dfs = []\n",
    "for f in os.listdir(raw_data_fol):\n",
    "    if (\"main\" in f) and (\".json\" in f):\n",
    "        df = dst.json_to_df(os.path.join(raw_data_fol, f), keepers, get_media=False, return_dict=False)\n",
    "        all_dfs.append(df)\n",
    "        \n",
    "text_df = pd.concat(all_dfs)"
   ]
  },
  {
   "cell_type": "code",
   "execution_count": 135,
   "metadata": {},
   "outputs": [
    {
     "data": {
      "text/plain": [
       "[('user', 'id'), 'text']"
      ]
     },
     "execution_count": 135,
     "metadata": {},
     "output_type": "execute_result"
    }
   ],
   "source": [
    "keepers"
   ]
  },
  {
   "cell_type": "code",
   "execution_count": 139,
   "metadata": {},
   "outputs": [],
   "source": [
    "keepers = [('user', 'id'), 'text', 'lang']\n",
    "#sort through previously collected tweets as well\n",
    "all_dfs = []\n",
    "for f in os.listdir(os.path.join(raw_data_fol, 'second_main_search')):\n",
    "    df = dst.json_to_df(os.path.join(raw_data_fol,'second_main_search', f), keepers, get_media=False, return_dict=False)\n",
    "    all_dfs.append(df)\n",
    "        \n",
    "text_df_2 = pd.concat(all_dfs)"
   ]
  },
  {
   "cell_type": "code",
   "execution_count": 140,
   "metadata": {},
   "outputs": [
    {
     "data": {
      "text/html": [
       "<div>\n",
       "<style scoped>\n",
       "    .dataframe tbody tr th:only-of-type {\n",
       "        vertical-align: middle;\n",
       "    }\n",
       "\n",
       "    .dataframe tbody tr th {\n",
       "        vertical-align: top;\n",
       "    }\n",
       "\n",
       "    .dataframe thead th {\n",
       "        text-align: right;\n",
       "    }\n",
       "</style>\n",
       "<table border=\"1\" class=\"dataframe\">\n",
       "  <thead>\n",
       "    <tr style=\"text-align: right;\">\n",
       "      <th></th>\n",
       "      <th>user_id</th>\n",
       "      <th>text</th>\n",
       "      <th>lang</th>\n",
       "    </tr>\n",
       "  </thead>\n",
       "  <tbody>\n",
       "    <tr>\n",
       "      <th>1363949890598969344</th>\n",
       "      <td>1148573841020428290</td>\n",
       "      <td>大昔の性病とされてきた梅毒に感染する男女が急増中です。HIVやクラミジア、淋病と違い、コンド...</td>\n",
       "      <td>ja</td>\n",
       "    </tr>\n",
       "    <tr>\n",
       "      <th>1363949864866971654</th>\n",
       "      <td>1101131404929392641</td>\n",
       "      <td>@isolapine @GrandjeanBenoit a nan mais bien su...</td>\n",
       "      <td>fr</td>\n",
       "    </tr>\n",
       "    <tr>\n",
       "      <th>1363949818079375360</th>\n",
       "      <td>1968806107</td>\n",
       "      <td>@N65Michelle @emzanotti @MeghanMcCain I agree-...</td>\n",
       "      <td>en</td>\n",
       "    </tr>\n",
       "    <tr>\n",
       "      <th>1363949774060351510</th>\n",
       "      <td>3044766416</td>\n",
       "      <td>RT @clorexiduda: # Esclarecimentos e informaçõ...</td>\n",
       "      <td>pt</td>\n",
       "    </tr>\n",
       "    <tr>\n",
       "      <th>1363949759694852107</th>\n",
       "      <td>489662233</td>\n",
       "      <td>RT @DocWoc71: Great 🧵 on #visceralLeishmaniasi...</td>\n",
       "      <td>en</td>\n",
       "    </tr>\n",
       "  </tbody>\n",
       "</table>\n",
       "</div>"
      ],
      "text/plain": [
       "                                 user_id  \\\n",
       "1363949890598969344  1148573841020428290   \n",
       "1363949864866971654  1101131404929392641   \n",
       "1363949818079375360           1968806107   \n",
       "1363949774060351510           3044766416   \n",
       "1363949759694852107            489662233   \n",
       "\n",
       "                                                                  text lang  \n",
       "1363949890598969344  大昔の性病とされてきた梅毒に感染する男女が急増中です。HIVやクラミジア、淋病と違い、コンド...   ja  \n",
       "1363949864866971654  @isolapine @GrandjeanBenoit a nan mais bien su...   fr  \n",
       "1363949818079375360  @N65Michelle @emzanotti @MeghanMcCain I agree-...   en  \n",
       "1363949774060351510  RT @clorexiduda: # Esclarecimentos e informaçõ...   pt  \n",
       "1363949759694852107  RT @DocWoc71: Great 🧵 on #visceralLeishmaniasi...   en  "
      ]
     },
     "execution_count": 140,
     "metadata": {},
     "output_type": "execute_result"
    }
   ],
   "source": [
    "text_df_2.head()"
   ]
  },
  {
   "cell_type": "code",
   "execution_count": 141,
   "metadata": {},
   "outputs": [],
   "source": [
    "text_df_2 = text_df_2[text_df_2.lang=='en']"
   ]
  },
  {
   "cell_type": "code",
   "execution_count": 142,
   "metadata": {},
   "outputs": [],
   "source": [
    "text_df_2 = text_df_2.convert_dtypes()"
   ]
  },
  {
   "cell_type": "code",
   "execution_count": 143,
   "metadata": {},
   "outputs": [
    {
     "data": {
      "text/html": [
       "<div>\n",
       "<style scoped>\n",
       "    .dataframe tbody tr th:only-of-type {\n",
       "        vertical-align: middle;\n",
       "    }\n",
       "\n",
       "    .dataframe tbody tr th {\n",
       "        vertical-align: top;\n",
       "    }\n",
       "\n",
       "    .dataframe thead th {\n",
       "        text-align: right;\n",
       "    }\n",
       "</style>\n",
       "<table border=\"1\" class=\"dataframe\">\n",
       "  <thead>\n",
       "    <tr style=\"text-align: right;\">\n",
       "      <th></th>\n",
       "      <th>0</th>\n",
       "    </tr>\n",
       "    <tr>\n",
       "      <th>text</th>\n",
       "      <th></th>\n",
       "    </tr>\n",
       "  </thead>\n",
       "  <tbody>\n",
       "    <tr>\n",
       "      <th>RT @jxremivh: To my HIV+ followers: “Your condition is not a confinement” please internalize that phrase and know you’re worthy of love. Yo…</th>\n",
       "      <td>95</td>\n",
       "    </tr>\n",
       "    <tr>\n",
       "      <th>RT @Danez_Smif: Thanks to Alex Hoyt and GQ for the space to talk about HIV, stigma, fuckin, and the first date of that one summer with that…</th>\n",
       "      <td>88</td>\n",
       "    </tr>\n",
       "    <tr>\n",
       "      <th>RT @EmekaNwaGuy: PLS RETWEET 🙏\\n\\nWard divider:40k\\nFacial Steamer:22k\\nBedside Locker:40k\\nOral HIV test kit:3k\\nTo order:https://t.co/O0GwsljDW…</th>\n",
       "      <td>77</td>\n",
       "    </tr>\n",
       "    <tr>\n",
       "      <th>RT @amandachinda_: How can you be having sex without a condom when you know HIV is real and you are not ready to have a family?</th>\n",
       "      <td>67</td>\n",
       "    </tr>\n",
       "    <tr>\n",
       "      <th>RT @Irunnia_: RULE NUMBER 1: \\n\\nALWAYS KNOW YOUR PARTNER'S HIV STATUS BEFORE ENTERING INTO A RELATIONSHIP!\\n\\nPLEASE. E GEY WHY!!!\\n#keepitsafe…</th>\n",
       "      <td>58</td>\n",
       "    </tr>\n",
       "    <tr>\n",
       "      <th>...</th>\n",
       "      <td>...</td>\n",
       "    </tr>\n",
       "    <tr>\n",
       "      <th>RT @HIVAIDSupdates: Register now for FREE Work and skills webinars focusing on supporting people living with #HIV who are concerned about #…</th>\n",
       "      <td>1</td>\n",
       "    </tr>\n",
       "    <tr>\n",
       "      <th>RT @HIVAIDSupdates: We must treat #HIV stigma like a public health emergency and #UequalsU as an effective response. It's time for everyone…</th>\n",
       "      <td>1</td>\n",
       "    </tr>\n",
       "    <tr>\n",
       "      <th>RT @HIVCenterARC: Join us on Thursday, 3/4, at 9:30 AM EDT for a Grand Rounds presentation by @DrRiveraMindt: \"Health Disparities and Neuro…</th>\n",
       "      <td>1</td>\n",
       "    </tr>\n",
       "    <tr>\n",
       "      <th>RT @HIVGov: Correct and consistent #MaskUse is crucial in preventing the spread of #COVID19, but not all masks provide the same protection.…</th>\n",
       "      <td>1</td>\n",
       "    </tr>\n",
       "    <tr>\n",
       "      <th>\"#Adherence is the single biggest factor in whether #ART is successful among #PLHIV.\"\\n\"People living with HIV can a… https://t.co/7dDsi1lGQb</th>\n",
       "      <td>1</td>\n",
       "    </tr>\n",
       "  </tbody>\n",
       "</table>\n",
       "<p>2437 rows × 1 columns</p>\n",
       "</div>"
      ],
      "text/plain": [
       "                                                     0\n",
       "text                                                  \n",
       "RT @jxremivh: To my HIV+ followers: “Your condi...  95\n",
       "RT @Danez_Smif: Thanks to Alex Hoyt and GQ for ...  88\n",
       "RT @EmekaNwaGuy: PLS RETWEET 🙏\\n\\nWard divider:...  77\n",
       "RT @amandachinda_: How can you be having sex wi...  67\n",
       "RT @Irunnia_: RULE NUMBER 1: \\n\\nALWAYS KNOW YO...  58\n",
       "...                                                 ..\n",
       "RT @HIVAIDSupdates: Register now for FREE Work ...   1\n",
       "RT @HIVAIDSupdates: We must treat #HIV stigma l...   1\n",
       "RT @HIVCenterARC: Join us on Thursday, 3/4, at ...   1\n",
       "RT @HIVGov: Correct and consistent #MaskUse is ...   1\n",
       "\"#Adherence is the single biggest factor in whe...   1\n",
       "\n",
       "[2437 rows x 1 columns]"
      ]
     },
     "execution_count": 143,
     "metadata": {},
     "output_type": "execute_result"
    }
   ],
   "source": [
    "pd.DataFrame(text_df_2.value_counts(subset='text', ascending=False))"
   ]
  },
  {
   "cell_type": "code",
   "execution_count": 144,
   "metadata": {},
   "outputs": [
    {
     "data": {
      "text/html": [
       "<div>\n",
       "<style scoped>\n",
       "    .dataframe tbody tr th:only-of-type {\n",
       "        vertical-align: middle;\n",
       "    }\n",
       "\n",
       "    .dataframe tbody tr th {\n",
       "        vertical-align: top;\n",
       "    }\n",
       "\n",
       "    .dataframe thead th {\n",
       "        text-align: right;\n",
       "    }\n",
       "</style>\n",
       "<table border=\"1\" class=\"dataframe\">\n",
       "  <thead>\n",
       "    <tr style=\"text-align: right;\">\n",
       "      <th></th>\n",
       "      <th>user_id</th>\n",
       "      <th>text</th>\n",
       "      <th>lang</th>\n",
       "    </tr>\n",
       "  </thead>\n",
       "  <tbody>\n",
       "    <tr>\n",
       "      <th>1363949818079375360</th>\n",
       "      <td>1968806107</td>\n",
       "      <td>@N65Michelle @emzanotti @MeghanMcCain I agree-...</td>\n",
       "      <td>en</td>\n",
       "    </tr>\n",
       "    <tr>\n",
       "      <th>1363949759694852107</th>\n",
       "      <td>489662233</td>\n",
       "      <td>RT @DocWoc71: Great 🧵 on #visceralLeishmaniasi...</td>\n",
       "      <td>en</td>\n",
       "    </tr>\n",
       "    <tr>\n",
       "      <th>1363949727235112961</th>\n",
       "      <td>2151411331</td>\n",
       "      <td>RT @glaad: Join us for the HIV Stigma and Fait...</td>\n",
       "      <td>en</td>\n",
       "    </tr>\n",
       "    <tr>\n",
       "      <th>1363949712102076419</th>\n",
       "      <td>17685299</td>\n",
       "      <td>RT @Holbornlolz: Hard Left: We must pursue ZER...</td>\n",
       "      <td>en</td>\n",
       "    </tr>\n",
       "    <tr>\n",
       "      <th>1363949692288004103</th>\n",
       "      <td>308788980</td>\n",
       "      <td>So he says what? This is the guy that was in c...</td>\n",
       "      <td>en</td>\n",
       "    </tr>\n",
       "    <tr>\n",
       "      <th>...</th>\n",
       "      <td>...</td>\n",
       "      <td>...</td>\n",
       "      <td>...</td>\n",
       "    </tr>\n",
       "    <tr>\n",
       "      <th>1363851720321880065</th>\n",
       "      <td>2463473684</td>\n",
       "      <td>RT @TransPHL: The conference covers a wide ran...</td>\n",
       "      <td>en</td>\n",
       "    </tr>\n",
       "    <tr>\n",
       "      <th>1363851681021136900</th>\n",
       "      <td>2234067829</td>\n",
       "      <td>Sindh to screen fresh school students for tube...</td>\n",
       "      <td>en</td>\n",
       "    </tr>\n",
       "    <tr>\n",
       "      <th>1363851664860598273</th>\n",
       "      <td>16240525</td>\n",
       "      <td>In 1993, M. Joycelyn Elders became the first B...</td>\n",
       "      <td>en</td>\n",
       "    </tr>\n",
       "    <tr>\n",
       "      <th>1363851630718951430</th>\n",
       "      <td>3141853811</td>\n",
       "      <td>Without addressing mental health, there will b...</td>\n",
       "      <td>en</td>\n",
       "    </tr>\n",
       "    <tr>\n",
       "      <th>1363851623584444420</th>\n",
       "      <td>35814608</td>\n",
       "      <td>Get the latest updates from  the HIV Research ...</td>\n",
       "      <td>en</td>\n",
       "    </tr>\n",
       "  </tbody>\n",
       "</table>\n",
       "<p>2437 rows × 3 columns</p>\n",
       "</div>"
      ],
      "text/plain": [
       "                        user_id  \\\n",
       "1363949818079375360  1968806107   \n",
       "1363949759694852107   489662233   \n",
       "1363949727235112961  2151411331   \n",
       "1363949712102076419    17685299   \n",
       "1363949692288004103   308788980   \n",
       "...                         ...   \n",
       "1363851720321880065  2463473684   \n",
       "1363851681021136900  2234067829   \n",
       "1363851664860598273    16240525   \n",
       "1363851630718951430  3141853811   \n",
       "1363851623584444420    35814608   \n",
       "\n",
       "                                                                  text lang  \n",
       "1363949818079375360  @N65Michelle @emzanotti @MeghanMcCain I agree-...   en  \n",
       "1363949759694852107  RT @DocWoc71: Great 🧵 on #visceralLeishmaniasi...   en  \n",
       "1363949727235112961  RT @glaad: Join us for the HIV Stigma and Fait...   en  \n",
       "1363949712102076419  RT @Holbornlolz: Hard Left: We must pursue ZER...   en  \n",
       "1363949692288004103  So he says what? This is the guy that was in c...   en  \n",
       "...                                                                ...  ...  \n",
       "1363851720321880065  RT @TransPHL: The conference covers a wide ran...   en  \n",
       "1363851681021136900  Sindh to screen fresh school students for tube...   en  \n",
       "1363851664860598273  In 1993, M. Joycelyn Elders became the first B...   en  \n",
       "1363851630718951430  Without addressing mental health, there will b...   en  \n",
       "1363851623584444420  Get the latest updates from  the HIV Research ...   en  \n",
       "\n",
       "[2437 rows x 3 columns]"
      ]
     },
     "execution_count": 144,
     "metadata": {},
     "output_type": "execute_result"
    }
   ],
   "source": [
    "text_df_2.drop_duplicates('text', keep=\"first\")"
   ]
  },
  {
   "cell_type": "code",
   "execution_count": 145,
   "metadata": {},
   "outputs": [
    {
     "data": {
      "text/plain": [
       "'@N65Michelle @emzanotti @MeghanMcCain I agree-I was teaching HIV/AIDS prevention classes way back when and used Dr… https://t.co/rriyIgjSZ0'"
      ]
     },
     "execution_count": 145,
     "metadata": {},
     "output_type": "execute_result"
    }
   ],
   "source": [
    "text_df_2.iloc[0].text"
   ]
  },
  {
   "cell_type": "code",
   "execution_count": null,
   "metadata": {},
   "outputs": [],
   "source": []
  },
  {
   "cell_type": "code",
   "execution_count": null,
   "metadata": {},
   "outputs": [],
   "source": []
  },
  {
   "cell_type": "code",
   "execution_count": null,
   "metadata": {},
   "outputs": [],
   "source": [
    "text_df.drop_duplicates('text', keep=\"first\")"
   ]
  },
  {
   "cell_type": "code",
   "execution_count": 71,
   "metadata": {
    "scrolled": true
   },
   "outputs": [
    {
     "data": {
      "text/html": [
       "<div>\n",
       "<style scoped>\n",
       "    .dataframe tbody tr th:only-of-type {\n",
       "        vertical-align: middle;\n",
       "    }\n",
       "\n",
       "    .dataframe tbody tr th {\n",
       "        vertical-align: top;\n",
       "    }\n",
       "\n",
       "    .dataframe thead th {\n",
       "        text-align: right;\n",
       "    }\n",
       "</style>\n",
       "<table border=\"1\" class=\"dataframe\">\n",
       "  <thead>\n",
       "    <tr style=\"text-align: right;\">\n",
       "      <th></th>\n",
       "      <th>user_id</th>\n",
       "      <th>text</th>\n",
       "    </tr>\n",
       "  </thead>\n",
       "  <tbody>\n",
       "    <tr>\n",
       "      <th>1364161520087818243</th>\n",
       "      <td>867033267895226368</td>\n",
       "      <td>Published today: analysis of @Prime_UCL - over...</td>\n",
       "    </tr>\n",
       "    <tr>\n",
       "      <th>1364161490668843011</th>\n",
       "      <td>1278251557826502656</td>\n",
       "      <td>There could be 123 000 to 293 000 additional H...</td>\n",
       "    </tr>\n",
       "    <tr>\n",
       "      <th>1364161361857679361</th>\n",
       "      <td>1130098020</td>\n",
       "      <td>RT @dondekojo: Even your HIV status, don't dec...</td>\n",
       "    </tr>\n",
       "    <tr>\n",
       "      <th>1364161322867429376</th>\n",
       "      <td>236806506</td>\n",
       "      <td>RT @ms_mabila: Teen pregnancy is high, HIV inf...</td>\n",
       "    </tr>\n",
       "    <tr>\n",
       "      <th>1364161232270487553</th>\n",
       "      <td>1331332400836726785</td>\n",
       "      <td>Even though it was a charity.  Stevens thought...</td>\n",
       "    </tr>\n",
       "  </tbody>\n",
       "</table>\n",
       "</div>"
      ],
      "text/plain": [
       "                                 user_id  \\\n",
       "1364161520087818243   867033267895226368   \n",
       "1364161490668843011  1278251557826502656   \n",
       "1364161361857679361           1130098020   \n",
       "1364161322867429376            236806506   \n",
       "1364161232270487553  1331332400836726785   \n",
       "\n",
       "                                                                  text  \n",
       "1364161520087818243  Published today: analysis of @Prime_UCL - over...  \n",
       "1364161490668843011  There could be 123 000 to 293 000 additional H...  \n",
       "1364161361857679361  RT @dondekojo: Even your HIV status, don't dec...  \n",
       "1364161322867429376  RT @ms_mabila: Teen pregnancy is high, HIV inf...  \n",
       "1364161232270487553  Even though it was a charity.  Stevens thought...  "
      ]
     },
     "execution_count": 71,
     "metadata": {},
     "output_type": "execute_result"
    }
   ],
   "source": [
    "text_df.head()"
   ]
  },
  {
   "cell_type": "code",
   "execution_count": 72,
   "metadata": {},
   "outputs": [
    {
     "data": {
      "text/plain": [
       "(20000, 2)"
      ]
     },
     "execution_count": 72,
     "metadata": {},
     "output_type": "execute_result"
    }
   ],
   "source": [
    "text_df.shape"
   ]
  },
  {
   "cell_type": "code",
   "execution_count": 95,
   "metadata": {},
   "outputs": [],
   "source": [
    "#go through all the jsons to combine relevant columns of tweets in one dataframe, indexed by tweet ID\n",
    "keepers = [('user','id'), 'text']\n",
    "\n",
    "all_dfs = []\n",
    "for f in os.listdir(raw_data_fol):\n",
    "    if (\"main\" in f) and (\".json\" in f):\n",
    "        df = dst.json_to_df(os.path.join(raw_data_fol, f), keepers, get_media=False, return_dict=False)\n",
    "        all_dfs.append(df)\n",
    "        \n",
    "alt_text_df = pd.concat(all_dfs)"
   ]
  },
  {
   "cell_type": "code",
   "execution_count": 97,
   "metadata": {},
   "outputs": [
    {
     "data": {
      "text/html": [
       "<div>\n",
       "<style scoped>\n",
       "    .dataframe tbody tr th:only-of-type {\n",
       "        vertical-align: middle;\n",
       "    }\n",
       "\n",
       "    .dataframe tbody tr th {\n",
       "        vertical-align: top;\n",
       "    }\n",
       "\n",
       "    .dataframe thead th {\n",
       "        text-align: right;\n",
       "    }\n",
       "</style>\n",
       "<table border=\"1\" class=\"dataframe\">\n",
       "  <thead>\n",
       "    <tr style=\"text-align: right;\">\n",
       "      <th></th>\n",
       "      <th>user_id</th>\n",
       "      <th>(user, id)</th>\n",
       "      <th>text</th>\n",
       "    </tr>\n",
       "  </thead>\n",
       "  <tbody>\n",
       "    <tr>\n",
       "      <th>1364161520087818243</th>\n",
       "      <td>867033267895226368</td>\n",
       "      <td>Published today: analysis of @Prime_UCL - over...</td>\n",
       "      <td>Published today: analysis of @Prime_UCL - over...</td>\n",
       "    </tr>\n",
       "    <tr>\n",
       "      <th>1364161490668843011</th>\n",
       "      <td>1278251557826502656</td>\n",
       "      <td>There could be 123 000 to 293 000 additional H...</td>\n",
       "      <td>There could be 123 000 to 293 000 additional H...</td>\n",
       "    </tr>\n",
       "    <tr>\n",
       "      <th>1364161361857679361</th>\n",
       "      <td>1130098020</td>\n",
       "      <td>NaN</td>\n",
       "      <td>RT @dondekojo: Even your HIV status, don't dec...</td>\n",
       "    </tr>\n",
       "    <tr>\n",
       "      <th>1364161322867429376</th>\n",
       "      <td>236806506</td>\n",
       "      <td>NaN</td>\n",
       "      <td>RT @ms_mabila: Teen pregnancy is high, HIV inf...</td>\n",
       "    </tr>\n",
       "    <tr>\n",
       "      <th>1364161232270487553</th>\n",
       "      <td>1331332400836726785</td>\n",
       "      <td>Even though it was a charity.  Stevens thought...</td>\n",
       "      <td>Even though it was a charity.  Stevens thought...</td>\n",
       "    </tr>\n",
       "  </tbody>\n",
       "</table>\n",
       "</div>"
      ],
      "text/plain": [
       "                                 user_id  \\\n",
       "1364161520087818243   867033267895226368   \n",
       "1364161490668843011  1278251557826502656   \n",
       "1364161361857679361           1130098020   \n",
       "1364161322867429376            236806506   \n",
       "1364161232270487553  1331332400836726785   \n",
       "\n",
       "                                                            (user, id)  \\\n",
       "1364161520087818243  Published today: analysis of @Prime_UCL - over...   \n",
       "1364161490668843011  There could be 123 000 to 293 000 additional H...   \n",
       "1364161361857679361                                                NaN   \n",
       "1364161322867429376                                                NaN   \n",
       "1364161232270487553  Even though it was a charity.  Stevens thought...   \n",
       "\n",
       "                                                                  text  \n",
       "1364161520087818243  Published today: analysis of @Prime_UCL - over...  \n",
       "1364161490668843011  There could be 123 000 to 293 000 additional H...  \n",
       "1364161361857679361  RT @dondekojo: Even your HIV status, don't dec...  \n",
       "1364161322867429376  RT @ms_mabila: Teen pregnancy is high, HIV inf...  \n",
       "1364161232270487553  Even though it was a charity.  Stevens thought...  "
      ]
     },
     "execution_count": 97,
     "metadata": {},
     "output_type": "execute_result"
    }
   ],
   "source": [
    "alt_text_df.head()"
   ]
  },
  {
   "cell_type": "code",
   "execution_count": 99,
   "metadata": {
    "scrolled": true
   },
   "outputs": [
    {
     "data": {
      "text/plain": [
       "Index(['user_id', ('user', 'id'), 'text'], dtype='object')"
      ]
     },
     "execution_count": 99,
     "metadata": {},
     "output_type": "execute_result"
    }
   ],
   "source": [
    "alt_text_df.columns"
   ]
  },
  {
   "cell_type": "code",
   "execution_count": 117,
   "metadata": {},
   "outputs": [],
   "source": [
    "alt_text_df.rename(columns={('user', 'id'):'trunc_text'}, inplace=True)"
   ]
  },
  {
   "cell_type": "code",
   "execution_count": 118,
   "metadata": {},
   "outputs": [
    {
     "data": {
      "text/plain": [
       "Index(['user_id', 'trunc_text', 'text'], dtype='object')"
      ]
     },
     "execution_count": 118,
     "metadata": {},
     "output_type": "execute_result"
    }
   ],
   "source": [
    "alt_text_df.columns"
   ]
  },
  {
   "cell_type": "code",
   "execution_count": 106,
   "metadata": {},
   "outputs": [
    {
     "data": {
      "text/html": [
       "<div>\n",
       "<style scoped>\n",
       "    .dataframe tbody tr th:only-of-type {\n",
       "        vertical-align: middle;\n",
       "    }\n",
       "\n",
       "    .dataframe tbody tr th {\n",
       "        vertical-align: top;\n",
       "    }\n",
       "\n",
       "    .dataframe thead th {\n",
       "        text-align: right;\n",
       "    }\n",
       "</style>\n",
       "<table border=\"1\" class=\"dataframe\">\n",
       "  <thead>\n",
       "    <tr style=\"text-align: right;\">\n",
       "      <th></th>\n",
       "      <th>user_id</th>\n",
       "      <th>trunc_text</th>\n",
       "      <th>text</th>\n",
       "    </tr>\n",
       "  </thead>\n",
       "  <tbody>\n",
       "    <tr>\n",
       "      <th>1364161520087818243</th>\n",
       "      <td>867033267895226368</td>\n",
       "      <td>Published today: analysis of @Prime_UCL - over...</td>\n",
       "      <td>Published today: analysis of @Prime_UCL - over...</td>\n",
       "    </tr>\n",
       "    <tr>\n",
       "      <th>1364161490668843011</th>\n",
       "      <td>1278251557826502656</td>\n",
       "      <td>There could be 123 000 to 293 000 additional H...</td>\n",
       "      <td>There could be 123 000 to 293 000 additional H...</td>\n",
       "    </tr>\n",
       "    <tr>\n",
       "      <th>1364161361857679361</th>\n",
       "      <td>1130098020</td>\n",
       "      <td>NaN</td>\n",
       "      <td>RT @dondekojo: Even your HIV status, don't dec...</td>\n",
       "    </tr>\n",
       "    <tr>\n",
       "      <th>1364161322867429376</th>\n",
       "      <td>236806506</td>\n",
       "      <td>NaN</td>\n",
       "      <td>RT @ms_mabila: Teen pregnancy is high, HIV inf...</td>\n",
       "    </tr>\n",
       "    <tr>\n",
       "      <th>1364161232270487553</th>\n",
       "      <td>1331332400836726785</td>\n",
       "      <td>Even though it was a charity.  Stevens thought...</td>\n",
       "      <td>Even though it was a charity.  Stevens thought...</td>\n",
       "    </tr>\n",
       "  </tbody>\n",
       "</table>\n",
       "</div>"
      ],
      "text/plain": [
       "                                 user_id  \\\n",
       "1364161520087818243   867033267895226368   \n",
       "1364161490668843011  1278251557826502656   \n",
       "1364161361857679361           1130098020   \n",
       "1364161322867429376            236806506   \n",
       "1364161232270487553  1331332400836726785   \n",
       "\n",
       "                                                            trunc_text  \\\n",
       "1364161520087818243  Published today: analysis of @Prime_UCL - over...   \n",
       "1364161490668843011  There could be 123 000 to 293 000 additional H...   \n",
       "1364161361857679361                                                NaN   \n",
       "1364161322867429376                                                NaN   \n",
       "1364161232270487553  Even though it was a charity.  Stevens thought...   \n",
       "\n",
       "                                                                  text  \n",
       "1364161520087818243  Published today: analysis of @Prime_UCL - over...  \n",
       "1364161490668843011  There could be 123 000 to 293 000 additional H...  \n",
       "1364161361857679361  RT @dondekojo: Even your HIV status, don't dec...  \n",
       "1364161322867429376  RT @ms_mabila: Teen pregnancy is high, HIV inf...  \n",
       "1364161232270487553  Even though it was a charity.  Stevens thought...  "
      ]
     },
     "execution_count": 106,
     "metadata": {},
     "output_type": "execute_result"
    }
   ],
   "source": [
    "alt_text_df.head()"
   ]
  },
  {
   "cell_type": "code",
   "execution_count": 115,
   "metadata": {},
   "outputs": [
    {
     "name": "stdout",
     "output_type": "stream",
     "text": [
      "<class 'pandas.core.frame.DataFrame'>\n",
      "Int64Index: 20000 entries, 1364161520087818243 to 1364931661583048707\n",
      "Data columns (total 3 columns):\n",
      " #   Column      Non-Null Count  Dtype \n",
      "---  ------      --------------  ----- \n",
      " 0   user_id     20000 non-null  Int64 \n",
      " 1   (user, id)  15704 non-null  string\n",
      " 2   text        20000 non-null  string\n",
      "dtypes: Int64(1), string(2)\n",
      "memory usage: 644.5 KB\n"
     ]
    }
   ],
   "source": [
    "alt_text_df = alt_text_df.convert_dtypes()\n",
    "alt_text_df.info()"
   ]
  },
  {
   "cell_type": "code",
   "execution_count": 119,
   "metadata": {},
   "outputs": [
    {
     "data": {
      "text/html": [
       "<div>\n",
       "<style scoped>\n",
       "    .dataframe tbody tr th:only-of-type {\n",
       "        vertical-align: middle;\n",
       "    }\n",
       "\n",
       "    .dataframe tbody tr th {\n",
       "        vertical-align: top;\n",
       "    }\n",
       "\n",
       "    .dataframe thead th {\n",
       "        text-align: right;\n",
       "    }\n",
       "</style>\n",
       "<table border=\"1\" class=\"dataframe\">\n",
       "  <thead>\n",
       "    <tr style=\"text-align: right;\">\n",
       "      <th></th>\n",
       "      <th>user_id</th>\n",
       "      <th>trunc_text</th>\n",
       "      <th>text</th>\n",
       "    </tr>\n",
       "  </thead>\n",
       "  <tbody>\n",
       "    <tr>\n",
       "      <th>1364161520087818243</th>\n",
       "      <td>867033267895226368</td>\n",
       "      <td>Published today: analysis of @Prime_UCL - over...</td>\n",
       "      <td>Published today: analysis of @Prime_UCL - over...</td>\n",
       "    </tr>\n",
       "    <tr>\n",
       "      <th>1364161490668843011</th>\n",
       "      <td>1278251557826502656</td>\n",
       "      <td>There could be 123 000 to 293 000 additional H...</td>\n",
       "      <td>There could be 123 000 to 293 000 additional H...</td>\n",
       "    </tr>\n",
       "    <tr>\n",
       "      <th>1364161232270487553</th>\n",
       "      <td>1331332400836726785</td>\n",
       "      <td>Even though it was a charity.  Stevens thought...</td>\n",
       "      <td>Even though it was a charity.  Stevens thought...</td>\n",
       "    </tr>\n",
       "    <tr>\n",
       "      <th>1364161201291153414</th>\n",
       "      <td>150301804</td>\n",
       "      <td>SCORA\n",
       "Standing Committee on Sexual &amp;amp; Repro...</td>\n",
       "      <td>SCORA\n",
       "Standing Committee on Sexual &amp;amp; Repro...</td>\n",
       "    </tr>\n",
       "    <tr>\n",
       "      <th>1364161184505737217</th>\n",
       "      <td>1317091162159747075</td>\n",
       "      <td>many females are HIV+, we wish you well, bless...</td>\n",
       "      <td>many females are HIV+, we wish you well, bless...</td>\n",
       "    </tr>\n",
       "  </tbody>\n",
       "</table>\n",
       "</div>"
      ],
      "text/plain": [
       "                                 user_id  \\\n",
       "1364161520087818243   867033267895226368   \n",
       "1364161490668843011  1278251557826502656   \n",
       "1364161232270487553  1331332400836726785   \n",
       "1364161201291153414            150301804   \n",
       "1364161184505737217  1317091162159747075   \n",
       "\n",
       "                                                            trunc_text  \\\n",
       "1364161520087818243  Published today: analysis of @Prime_UCL - over...   \n",
       "1364161490668843011  There could be 123 000 to 293 000 additional H...   \n",
       "1364161232270487553  Even though it was a charity.  Stevens thought...   \n",
       "1364161201291153414  SCORA\n",
       "Standing Committee on Sexual &amp; Repro...   \n",
       "1364161184505737217  many females are HIV+, we wish you well, bless...   \n",
       "\n",
       "                                                                  text  \n",
       "1364161520087818243  Published today: analysis of @Prime_UCL - over...  \n",
       "1364161490668843011  There could be 123 000 to 293 000 additional H...  \n",
       "1364161232270487553  Even though it was a charity.  Stevens thought...  \n",
       "1364161201291153414  SCORA\n",
       "Standing Committee on Sexual &amp; Repro...  \n",
       "1364161184505737217  many females are HIV+, we wish you well, bless...  "
      ]
     },
     "execution_count": 119,
     "metadata": {},
     "output_type": "execute_result"
    }
   ],
   "source": [
    "un_truncs = alt_text_df[pd.isnull(alt_text_df.trunc_text)==False]\n",
    "un_truncs.head()"
   ]
  },
  {
   "cell_type": "code",
   "execution_count": 120,
   "metadata": {},
   "outputs": [
    {
     "data": {
      "text/plain": [
       "'Published today: analysis of @Prime_UCL - over 50% of women with HIV aged 45-60 reported moderate/extreme pain. Increased prevalence in perimenopause. Pain assoc with insomnia + depression highlighting importance of eliciting pain history. Read more: https://t.co/woqgA0MGku https://t.co/vPNi0ORxse'"
      ]
     },
     "execution_count": 120,
     "metadata": {},
     "output_type": "execute_result"
    }
   ],
   "source": [
    "un_truncs.iloc[0].trunc_text"
   ]
  },
  {
   "cell_type": "code",
   "execution_count": 124,
   "metadata": {},
   "outputs": [
    {
     "data": {
      "text/plain": [
       "'Published '"
      ]
     },
     "execution_count": 124,
     "metadata": {},
     "output_type": "execute_result"
    }
   ],
   "source": [
    "un_truncs.iloc[0].text[:10]"
   ]
  },
  {
   "cell_type": "code",
   "execution_count": 126,
   "metadata": {},
   "outputs": [
    {
     "data": {
      "text/plain": [
       "True"
      ]
     },
     "execution_count": 126,
     "metadata": {},
     "output_type": "execute_result"
    }
   ],
   "source": [
    "un_truncs.iloc[0].trunc_text == un_truncs.iloc[0].text"
   ]
  },
  {
   "cell_type": "code",
   "execution_count": 129,
   "metadata": {},
   "outputs": [],
   "source": [
    "un_truncs = un_truncs.assign(Same = lambda x: x['trunc_text'] == x['text'])"
   ]
  },
  {
   "cell_type": "code",
   "execution_count": 131,
   "metadata": {},
   "outputs": [
    {
     "data": {
      "text/html": [
       "<div>\n",
       "<style scoped>\n",
       "    .dataframe tbody tr th:only-of-type {\n",
       "        vertical-align: middle;\n",
       "    }\n",
       "\n",
       "    .dataframe tbody tr th {\n",
       "        vertical-align: top;\n",
       "    }\n",
       "\n",
       "    .dataframe thead th {\n",
       "        text-align: right;\n",
       "    }\n",
       "</style>\n",
       "<table border=\"1\" class=\"dataframe\">\n",
       "  <thead>\n",
       "    <tr style=\"text-align: right;\">\n",
       "      <th></th>\n",
       "      <th>user_id</th>\n",
       "      <th>trunc_text</th>\n",
       "      <th>text</th>\n",
       "      <th>Same</th>\n",
       "    </tr>\n",
       "  </thead>\n",
       "  <tbody>\n",
       "    <tr>\n",
       "      <th>1364161520087818243</th>\n",
       "      <td>867033267895226368</td>\n",
       "      <td>Published today: analysis of @Prime_UCL - over...</td>\n",
       "      <td>Published today: analysis of @Prime_UCL - over...</td>\n",
       "      <td>True</td>\n",
       "    </tr>\n",
       "    <tr>\n",
       "      <th>1364161490668843011</th>\n",
       "      <td>1278251557826502656</td>\n",
       "      <td>There could be 123 000 to 293 000 additional H...</td>\n",
       "      <td>There could be 123 000 to 293 000 additional H...</td>\n",
       "      <td>True</td>\n",
       "    </tr>\n",
       "    <tr>\n",
       "      <th>1364161232270487553</th>\n",
       "      <td>1331332400836726785</td>\n",
       "      <td>Even though it was a charity.  Stevens thought...</td>\n",
       "      <td>Even though it was a charity.  Stevens thought...</td>\n",
       "      <td>True</td>\n",
       "    </tr>\n",
       "    <tr>\n",
       "      <th>1364161201291153414</th>\n",
       "      <td>150301804</td>\n",
       "      <td>SCORA\n",
       "Standing Committee on Sexual &amp;amp; Repro...</td>\n",
       "      <td>SCORA\n",
       "Standing Committee on Sexual &amp;amp; Repro...</td>\n",
       "      <td>True</td>\n",
       "    </tr>\n",
       "    <tr>\n",
       "      <th>1364161184505737217</th>\n",
       "      <td>1317091162159747075</td>\n",
       "      <td>many females are HIV+, we wish you well, bless...</td>\n",
       "      <td>many females are HIV+, we wish you well, bless...</td>\n",
       "      <td>True</td>\n",
       "    </tr>\n",
       "  </tbody>\n",
       "</table>\n",
       "</div>"
      ],
      "text/plain": [
       "                                 user_id  \\\n",
       "1364161520087818243   867033267895226368   \n",
       "1364161490668843011  1278251557826502656   \n",
       "1364161232270487553  1331332400836726785   \n",
       "1364161201291153414            150301804   \n",
       "1364161184505737217  1317091162159747075   \n",
       "\n",
       "                                                            trunc_text  \\\n",
       "1364161520087818243  Published today: analysis of @Prime_UCL - over...   \n",
       "1364161490668843011  There could be 123 000 to 293 000 additional H...   \n",
       "1364161232270487553  Even though it was a charity.  Stevens thought...   \n",
       "1364161201291153414  SCORA\n",
       "Standing Committee on Sexual &amp; Repro...   \n",
       "1364161184505737217  many females are HIV+, we wish you well, bless...   \n",
       "\n",
       "                                                                  text  Same  \n",
       "1364161520087818243  Published today: analysis of @Prime_UCL - over...  True  \n",
       "1364161490668843011  There could be 123 000 to 293 000 additional H...  True  \n",
       "1364161232270487553  Even though it was a charity.  Stevens thought...  True  \n",
       "1364161201291153414  SCORA\n",
       "Standing Committee on Sexual &amp; Repro...  True  \n",
       "1364161184505737217  many females are HIV+, we wish you well, bless...  True  "
      ]
     },
     "execution_count": 131,
     "metadata": {},
     "output_type": "execute_result"
    }
   ],
   "source": [
    "un_truncs.head()"
   ]
  },
  {
   "cell_type": "code",
   "execution_count": 130,
   "metadata": {},
   "outputs": [
    {
     "data": {
      "text/html": [
       "<div>\n",
       "<style scoped>\n",
       "    .dataframe tbody tr th:only-of-type {\n",
       "        vertical-align: middle;\n",
       "    }\n",
       "\n",
       "    .dataframe tbody tr th {\n",
       "        vertical-align: top;\n",
       "    }\n",
       "\n",
       "    .dataframe thead th {\n",
       "        text-align: right;\n",
       "    }\n",
       "</style>\n",
       "<table border=\"1\" class=\"dataframe\">\n",
       "  <thead>\n",
       "    <tr style=\"text-align: right;\">\n",
       "      <th></th>\n",
       "      <th>user_id</th>\n",
       "      <th>trunc_text</th>\n",
       "      <th>text</th>\n",
       "      <th>Same</th>\n",
       "    </tr>\n",
       "  </thead>\n",
       "  <tbody>\n",
       "  </tbody>\n",
       "</table>\n",
       "</div>"
      ],
      "text/plain": [
       "Empty DataFrame\n",
       "Columns: [user_id, trunc_text, text, Same]\n",
       "Index: []"
      ]
     },
     "execution_count": 130,
     "metadata": {},
     "output_type": "execute_result"
    }
   ],
   "source": [
    "un_truncs[un_truncs.Same==False]"
   ]
  },
  {
   "cell_type": "code",
   "execution_count": 133,
   "metadata": {},
   "outputs": [
    {
     "data": {
      "text/html": [
       "<div>\n",
       "<style scoped>\n",
       "    .dataframe tbody tr th:only-of-type {\n",
       "        vertical-align: middle;\n",
       "    }\n",
       "\n",
       "    .dataframe tbody tr th {\n",
       "        vertical-align: top;\n",
       "    }\n",
       "\n",
       "    .dataframe thead th {\n",
       "        text-align: right;\n",
       "    }\n",
       "</style>\n",
       "<table border=\"1\" class=\"dataframe\">\n",
       "  <thead>\n",
       "    <tr style=\"text-align: right;\">\n",
       "      <th></th>\n",
       "      <th>0</th>\n",
       "    </tr>\n",
       "    <tr>\n",
       "      <th>trunc_text</th>\n",
       "      <th></th>\n",
       "    </tr>\n",
       "  </thead>\n",
       "  <tbody>\n",
       "    <tr>\n",
       "      <th>Giving the girl HIV because her man clearly wasn’t paying enough  attention to her then MAKING the girl pick up her hiv medication from his family store! SICK! https://t.co/BB4yKczIjW</th>\n",
       "      <td>412</td>\n",
       "    </tr>\n",
       "    <tr>\n",
       "      <th>No pride for some of us without liberation for all of us.\\n\\nMarsha P. Johnson spent her life advocating for LGBTQ people of color, LGBTQ youth experiencing homelessness, and people living with HIV and AIDS.\\n\\nThank you, Marsha. #BlackHistoryMonth https://t.co/S9MDdKnD35</th>\n",
       "      <td>391</td>\n",
       "    </tr>\n",
       "    <tr>\n",
       "      <th>I hope someone is showing Baba this nation appreciation. History has no blank pages. I served on the board of SANAC the highest advisory body on HIV under Nxamalala. Changed lives &amp;amp; crushed stigma. He received criticism for appointing me and was not fazed 🙏🏾 #IBenefitedUnderZuma</th>\n",
       "      <td>261</td>\n",
       "    </tr>\n",
       "    <tr>\n",
       "      <th>Ritchie and Ash lying in a hospital bed together is a beautiful moment of love.\\n\\nIt’s reminiscent of Gideon Mendel’s photo series where he visited an AIDS ward to show the loving relationships between the men who were dying and their partners.\\n\\nTo humanise HIV.\\n\\n#ItsASin https://t.co/MLv3sGV8ik</th>\n",
       "      <td>242</td>\n",
       "    </tr>\n",
       "    <tr>\n",
       "      <th>A certain boy on Legon campus says he contracted HIV from a one night stand now he’s going around spreading the virus. This is not funny and should be taken serious. Please try and protect yourself. I know most of you don’t like to get tested so try and stay with one partner.</th>\n",
       "      <td>239</td>\n",
       "    </tr>\n",
       "    <tr>\n",
       "      <th>...</th>\n",
       "      <td>...</td>\n",
       "    </tr>\n",
       "    <tr>\n",
       "      <th>For queer folks, the HIV/AIDS epidemic was deeply traumatizing. Russell Davies' new series \"It's a Sin,\" a show depicting, and often celebrating, the folks who lived and died through the 80s, feels like it's right on time.\\n\\n#CultureIsPower\\n#HIVepidemic\\nhttps://t.co/1cZoYbS8Kh</th>\n",
       "      <td>1</td>\n",
       "    </tr>\n",
       "    <tr>\n",
       "      <th>Twitter,facebook,linkedin,flickr,youtube,weibo,instangram,wechat,tiktok,zalo:7 billions people:go to:https://t.co/73wWYwdVsP \\nand all the world test HIV now before infected HIV  your wife or your husbands,all in my many USB at every where. continue,,,, https://t.co/T67tiEEglN</th>\n",
       "      <td>1</td>\n",
       "    </tr>\n",
       "    <tr>\n",
       "      <th>For our second interview of the season, we had the privilege of interviewing Dr. Peter Rebeiro! We discuss the importance of infectious disease epidemiology, the HIV Care Continuum, health disparities of HIV, and mental health of HIV. #epitwitter #MedTwitter https://t.co/MqvKelIZIk</th>\n",
       "      <td>1</td>\n",
       "    </tr>\n",
       "    <tr>\n",
       "      <th>Twitter,facebook,linkedin,flickr,youtube,weibo,instangram,wechat,tiktok,zalo:7 billions people:go to:https://t.co/73wWYwdVsP \\nand all the world test HIV now before infected HIV  your wife or your husbands,all in my many USB at every where. continue,,,, https://t.co/Y8cQQ194Lu</th>\n",
       "      <td>1</td>\n",
       "    </tr>\n",
       "    <tr>\n",
       "      <th>For people living with HIV/AIDS, this includes fair access to economic opportunities, protection from unfair termination in the workplace and health care. #socialjustice #worldsocialjusticeday #nodiscrimination #LoveIsSafe</th>\n",
       "      <td>1</td>\n",
       "    </tr>\n",
       "  </tbody>\n",
       "</table>\n",
       "<p>6026 rows × 1 columns</p>\n",
       "</div>"
      ],
      "text/plain": [
       "                                                      0\n",
       "trunc_text                                             \n",
       "Giving the girl HIV because her man clearly was...  412\n",
       "No pride for some of us without liberation for ...  391\n",
       "I hope someone is showing Baba this nation appr...  261\n",
       "Ritchie and Ash lying in a hospital bed togethe...  242\n",
       "A certain boy on Legon campus says he contracte...  239\n",
       "...                                                 ...\n",
       "For queer folks, the HIV/AIDS epidemic was deep...    1\n",
       "Twitter,facebook,linkedin,flickr,youtube,weibo,...    1\n",
       "For our second interview of the season, we had ...    1\n",
       "Twitter,facebook,linkedin,flickr,youtube,weibo,...    1\n",
       "For people living with HIV/AIDS, this includes ...    1\n",
       "\n",
       "[6026 rows x 1 columns]"
      ]
     },
     "execution_count": 133,
     "metadata": {},
     "output_type": "execute_result"
    }
   ],
   "source": [
    "pd.DataFrame(un_truncs.value_counts(subset='trunc_text', ascending=False))"
   ]
  },
  {
   "cell_type": "code",
   "execution_count": null,
   "metadata": {},
   "outputs": [],
   "source": []
  },
  {
   "cell_type": "code",
   "execution_count": null,
   "metadata": {},
   "outputs": [],
   "source": []
  },
  {
   "cell_type": "code",
   "execution_count": null,
   "metadata": {},
   "outputs": [],
   "source": []
  },
  {
   "cell_type": "markdown",
   "metadata": {},
   "source": [
    "#### clean up the dataframe & save it as a pickle file"
   ]
  },
  {
   "cell_type": "code",
   "execution_count": 73,
   "metadata": {},
   "outputs": [
    {
     "data": {
      "text/html": [
       "<div>\n",
       "<style scoped>\n",
       "    .dataframe tbody tr th:only-of-type {\n",
       "        vertical-align: middle;\n",
       "    }\n",
       "\n",
       "    .dataframe tbody tr th {\n",
       "        vertical-align: top;\n",
       "    }\n",
       "\n",
       "    .dataframe thead th {\n",
       "        text-align: right;\n",
       "    }\n",
       "</style>\n",
       "<table border=\"1\" class=\"dataframe\">\n",
       "  <thead>\n",
       "    <tr style=\"text-align: right;\">\n",
       "      <th></th>\n",
       "      <th></th>\n",
       "      <th>text</th>\n",
       "    </tr>\n",
       "    <tr>\n",
       "      <th>tid</th>\n",
       "      <th>uid</th>\n",
       "      <th></th>\n",
       "    </tr>\n",
       "  </thead>\n",
       "  <tbody>\n",
       "  </tbody>\n",
       "</table>\n",
       "</div>"
      ],
      "text/plain": [
       "Empty DataFrame\n",
       "Columns: [text]\n",
       "Index: []"
      ]
     },
     "execution_count": 73,
     "metadata": {},
     "output_type": "execute_result"
    }
   ],
   "source": [
    "#multi index the df on tweet id and user id\n",
    "text_df.set_index('user_id', drop=True, append=True, inplace=True)\n",
    "text_df.index.rename(['tid', 'uid'], inplace=True)\n",
    "\n",
    "#show any true duplicates, based off of unique tweet id (tid)\n",
    "text_df[text_df.index.get_level_values('tid').duplicated(keep=False)]"
   ]
  },
  {
   "cell_type": "code",
   "execution_count": 74,
   "metadata": {
    "scrolled": true
   },
   "outputs": [
    {
     "name": "stdout",
     "output_type": "stream",
     "text": [
      "<class 'pandas.core.frame.DataFrame'>\n",
      "MultiIndex: 20000 entries, (1364161520087818243, 867033267895226368) to (1364931661583048707, 951148804564307969)\n",
      "Data columns (total 1 columns):\n",
      " #   Column  Non-Null Count  Dtype \n",
      "---  ------  --------------  ----- \n",
      " 0   text    20000 non-null  object\n",
      "dtypes: object(1)\n",
      "memory usage: 1.8+ MB\n"
     ]
    }
   ],
   "source": [
    "text_df.info()"
   ]
  },
  {
   "cell_type": "code",
   "execution_count": 75,
   "metadata": {},
   "outputs": [
    {
     "name": "stdout",
     "output_type": "stream",
     "text": [
      "<class 'pandas.core.frame.DataFrame'>\n",
      "MultiIndex: 20000 entries, (1364161520087818243, 867033267895226368) to (1364931661583048707, 951148804564307969)\n",
      "Data columns (total 1 columns):\n",
      " #   Column  Non-Null Count  Dtype \n",
      "---  ------  --------------  ----- \n",
      " 0   text    20000 non-null  string\n",
      "dtypes: string(1)\n",
      "memory usage: 1.8 MB\n"
     ]
    }
   ],
   "source": [
    "#convert dtypes to most obvious type\n",
    "text_df = text_df.convert_dtypes()\n",
    "text_df.info()"
   ]
  },
  {
   "cell_type": "markdown",
   "metadata": {},
   "source": [
    "remove duplicates due to retweets"
   ]
  },
  {
   "cell_type": "code",
   "execution_count": 83,
   "metadata": {},
   "outputs": [
    {
     "data": {
      "text/plain": [
       "(20000, 1)"
      ]
     },
     "execution_count": 83,
     "metadata": {},
     "output_type": "execute_result"
    }
   ],
   "source": [
    "text_df.shape"
   ]
  },
  {
   "cell_type": "code",
   "execution_count": 84,
   "metadata": {},
   "outputs": [
    {
     "data": {
      "text/html": [
       "<div>\n",
       "<style scoped>\n",
       "    .dataframe tbody tr th:only-of-type {\n",
       "        vertical-align: middle;\n",
       "    }\n",
       "\n",
       "    .dataframe tbody tr th {\n",
       "        vertical-align: top;\n",
       "    }\n",
       "\n",
       "    .dataframe thead th {\n",
       "        text-align: right;\n",
       "    }\n",
       "</style>\n",
       "<table border=\"1\" class=\"dataframe\">\n",
       "  <thead>\n",
       "    <tr style=\"text-align: right;\">\n",
       "      <th></th>\n",
       "      <th></th>\n",
       "      <th>text</th>\n",
       "    </tr>\n",
       "    <tr>\n",
       "      <th>tid</th>\n",
       "      <th>uid</th>\n",
       "      <th></th>\n",
       "    </tr>\n",
       "  </thead>\n",
       "  <tbody>\n",
       "    <tr>\n",
       "      <th>1363927154572939266</th>\n",
       "      <th>1257853784945946624</th>\n",
       "      <td>\"#Adherence is the single biggest factor in wh...</td>\n",
       "    </tr>\n",
       "    <tr>\n",
       "      <th>1364976477670932484</th>\n",
       "      <th>38105260</th>\n",
       "      <td>\"#Optimism 😊remains important. Being diagnosed...</td>\n",
       "    </tr>\n",
       "    <tr>\n",
       "      <th>1364963991550898194</th>\n",
       "      <th>165339820</th>\n",
       "      <td>\"'The concept of the campaign is to show that ...</td>\n",
       "    </tr>\n",
       "    <tr>\n",
       "      <th>1364937012286021632</th>\n",
       "      <th>405170497</th>\n",
       "      <td>\"... they say that SARS-CoV-2 is not a retrovi...</td>\n",
       "    </tr>\n",
       "    <tr>\n",
       "      <th>1365043923392081935</th>\n",
       "      <th>2903979971</th>\n",
       "      <td>\"Adult authors and publishers seem more intere...</td>\n",
       "    </tr>\n",
       "    <tr>\n",
       "      <th>...</th>\n",
       "      <th>...</th>\n",
       "      <td>...</td>\n",
       "    </tr>\n",
       "    <tr>\n",
       "      <th>1364967393575993356</th>\n",
       "      <th>747855054854561792</th>\n",
       "      <td>🤑 Updated: Funding List🤑  We've got a residenc...</td>\n",
       "    </tr>\n",
       "    <tr>\n",
       "      <th>1364977219332956165</th>\n",
       "      <th>256455823</th>\n",
       "      <td>🤔 How much do you know about HIV? 🤔\n",
       "Take 2 min...</td>\n",
       "    </tr>\n",
       "    <tr>\n",
       "      <th>1363060840992227329</th>\n",
       "      <th>256455823</th>\n",
       "      <td>🤔 How much do you know about HIV? 🤔\n",
       "Take 2 min...</td>\n",
       "    </tr>\n",
       "    <tr>\n",
       "      <th>1361892473870639110</th>\n",
       "      <th>923420184735395840</th>\n",
       "      <td>🥴.  And I don’t like STD’s, STI’s, AIDS/HIV or...</td>\n",
       "    </tr>\n",
       "    <tr>\n",
       "      <th>1361815898600923139</th>\n",
       "      <th>584138679</th>\n",
       "      <td>🧐 I only know what day of the week it is by th...</td>\n",
       "    </tr>\n",
       "  </tbody>\n",
       "</table>\n",
       "<p>6847 rows × 1 columns</p>\n",
       "</div>"
      ],
      "text/plain": [
       "                                                                                      text\n",
       "tid                 uid                                                                   \n",
       "1363927154572939266 1257853784945946624  \"#Adherence is the single biggest factor in wh...\n",
       "1364976477670932484 38105260             \"#Optimism 😊remains important. Being diagnosed...\n",
       "1364963991550898194 165339820            \"'The concept of the campaign is to show that ...\n",
       "1364937012286021632 405170497            \"... they say that SARS-CoV-2 is not a retrovi...\n",
       "1365043923392081935 2903979971           \"Adult authors and publishers seem more intere...\n",
       "...                                                                                    ...\n",
       "1364967393575993356 747855054854561792   🤑 Updated: Funding List🤑  We've got a residenc...\n",
       "1364977219332956165 256455823            🤔 How much do you know about HIV? 🤔\n",
       "Take 2 min...\n",
       "1363060840992227329 256455823            🤔 How much do you know about HIV? 🤔\n",
       "Take 2 min...\n",
       "1361892473870639110 923420184735395840   🥴.  And I don’t like STD’s, STI’s, AIDS/HIV or...\n",
       "1361815898600923139 584138679            🧐 I only know what day of the week it is by th...\n",
       "\n",
       "[6847 rows x 1 columns]"
      ]
     },
     "execution_count": 84,
     "metadata": {},
     "output_type": "execute_result"
    }
   ],
   "source": [
    "text_df.drop_duplicates('text', keep=False).sort_values('text')"
   ]
  },
  {
   "cell_type": "code",
   "execution_count": 80,
   "metadata": {},
   "outputs": [
    {
     "data": {
      "text/html": [
       "<div>\n",
       "<style scoped>\n",
       "    .dataframe tbody tr th:only-of-type {\n",
       "        vertical-align: middle;\n",
       "    }\n",
       "\n",
       "    .dataframe tbody tr th {\n",
       "        vertical-align: top;\n",
       "    }\n",
       "\n",
       "    .dataframe thead th {\n",
       "        text-align: right;\n",
       "    }\n",
       "</style>\n",
       "<table border=\"1\" class=\"dataframe\">\n",
       "  <thead>\n",
       "    <tr style=\"text-align: right;\">\n",
       "      <th></th>\n",
       "      <th></th>\n",
       "      <th>text</th>\n",
       "    </tr>\n",
       "    <tr>\n",
       "      <th>tid</th>\n",
       "      <th>uid</th>\n",
       "      <th></th>\n",
       "    </tr>\n",
       "  </thead>\n",
       "  <tbody>\n",
       "    <tr>\n",
       "      <th>1363927154572939266</th>\n",
       "      <th>1257853784945946624</th>\n",
       "      <td>\"#Adherence is the single biggest factor in wh...</td>\n",
       "    </tr>\n",
       "    <tr>\n",
       "      <th>1364976477670932484</th>\n",
       "      <th>38105260</th>\n",
       "      <td>\"#Optimism 😊remains important. Being diagnosed...</td>\n",
       "    </tr>\n",
       "    <tr>\n",
       "      <th>1364963991550898194</th>\n",
       "      <th>165339820</th>\n",
       "      <td>\"'The concept of the campaign is to show that ...</td>\n",
       "    </tr>\n",
       "    <tr>\n",
       "      <th>1364937012286021632</th>\n",
       "      <th>405170497</th>\n",
       "      <td>\"... they say that SARS-CoV-2 is not a retrovi...</td>\n",
       "    </tr>\n",
       "    <tr>\n",
       "      <th>1365043923392081935</th>\n",
       "      <th>2903979971</th>\n",
       "      <td>\"Adult authors and publishers seem more intere...</td>\n",
       "    </tr>\n",
       "    <tr>\n",
       "      <th>...</th>\n",
       "      <th>...</th>\n",
       "      <td>...</td>\n",
       "    </tr>\n",
       "    <tr>\n",
       "      <th>1364967393575993356</th>\n",
       "      <th>747855054854561792</th>\n",
       "      <td>🤑 Updated: Funding List🤑  We've got a residenc...</td>\n",
       "    </tr>\n",
       "    <tr>\n",
       "      <th>1364977219332956165</th>\n",
       "      <th>256455823</th>\n",
       "      <td>🤔 How much do you know about HIV? 🤔\n",
       "Take 2 min...</td>\n",
       "    </tr>\n",
       "    <tr>\n",
       "      <th>1363060840992227329</th>\n",
       "      <th>256455823</th>\n",
       "      <td>🤔 How much do you know about HIV? 🤔\n",
       "Take 2 min...</td>\n",
       "    </tr>\n",
       "    <tr>\n",
       "      <th>1361892473870639110</th>\n",
       "      <th>923420184735395840</th>\n",
       "      <td>🥴.  And I don’t like STD’s, STI’s, AIDS/HIV or...</td>\n",
       "    </tr>\n",
       "    <tr>\n",
       "      <th>1361815898600923139</th>\n",
       "      <th>584138679</th>\n",
       "      <td>🧐 I only know what day of the week it is by th...</td>\n",
       "    </tr>\n",
       "  </tbody>\n",
       "</table>\n",
       "<p>6847 rows × 1 columns</p>\n",
       "</div>"
      ],
      "text/plain": [
       "                                                                                      text\n",
       "tid                 uid                                                                   \n",
       "1363927154572939266 1257853784945946624  \"#Adherence is the single biggest factor in wh...\n",
       "1364976477670932484 38105260             \"#Optimism 😊remains important. Being diagnosed...\n",
       "1364963991550898194 165339820            \"'The concept of the campaign is to show that ...\n",
       "1364937012286021632 405170497            \"... they say that SARS-CoV-2 is not a retrovi...\n",
       "1365043923392081935 2903979971           \"Adult authors and publishers seem more intere...\n",
       "...                                                                                    ...\n",
       "1364967393575993356 747855054854561792   🤑 Updated: Funding List🤑  We've got a residenc...\n",
       "1364977219332956165 256455823            🤔 How much do you know about HIV? 🤔\n",
       "Take 2 min...\n",
       "1363060840992227329 256455823            🤔 How much do you know about HIV? 🤔\n",
       "Take 2 min...\n",
       "1361892473870639110 923420184735395840   🥴.  And I don’t like STD’s, STI’s, AIDS/HIV or...\n",
       "1361815898600923139 584138679            🧐 I only know what day of the week it is by th...\n",
       "\n",
       "[6847 rows x 1 columns]"
      ]
     },
     "execution_count": 80,
     "metadata": {},
     "output_type": "execute_result"
    }
   ],
   "source": [
    "dupes = text_df.drop_duplicates('text', keep=False).sort_values('text')\n",
    "dupes"
   ]
  },
  {
   "cell_type": "code",
   "execution_count": 134,
   "metadata": {},
   "outputs": [
    {
     "data": {
      "text/html": [
       "<div>\n",
       "<style scoped>\n",
       "    .dataframe tbody tr th:only-of-type {\n",
       "        vertical-align: middle;\n",
       "    }\n",
       "\n",
       "    .dataframe tbody tr th {\n",
       "        vertical-align: top;\n",
       "    }\n",
       "\n",
       "    .dataframe thead th {\n",
       "        text-align: right;\n",
       "    }\n",
       "</style>\n",
       "<table border=\"1\" class=\"dataframe\">\n",
       "  <thead>\n",
       "    <tr style=\"text-align: right;\">\n",
       "      <th></th>\n",
       "      <th></th>\n",
       "      <th>text</th>\n",
       "    </tr>\n",
       "    <tr>\n",
       "      <th>tid</th>\n",
       "      <th>uid</th>\n",
       "      <th></th>\n",
       "    </tr>\n",
       "  </thead>\n",
       "  <tbody>\n",
       "    <tr>\n",
       "      <th>1364161520087818243</th>\n",
       "      <th>867033267895226368</th>\n",
       "      <td>Published today: analysis of @Prime_UCL - over...</td>\n",
       "    </tr>\n",
       "    <tr>\n",
       "      <th>1364161490668843011</th>\n",
       "      <th>1278251557826502656</th>\n",
       "      <td>There could be 123 000 to 293 000 additional H...</td>\n",
       "    </tr>\n",
       "    <tr>\n",
       "      <th>1364161361857679361</th>\n",
       "      <th>1130098020</th>\n",
       "      <td>RT @dondekojo: Even your HIV status, don't dec...</td>\n",
       "    </tr>\n",
       "    <tr>\n",
       "      <th>1364161322867429376</th>\n",
       "      <th>236806506</th>\n",
       "      <td>RT @ms_mabila: Teen pregnancy is high, HIV inf...</td>\n",
       "    </tr>\n",
       "    <tr>\n",
       "      <th>1364161232270487553</th>\n",
       "      <th>1331332400836726785</th>\n",
       "      <td>Even though it was a charity.  Stevens thought...</td>\n",
       "    </tr>\n",
       "    <tr>\n",
       "      <th>...</th>\n",
       "      <th>...</th>\n",
       "      <td>...</td>\n",
       "    </tr>\n",
       "    <tr>\n",
       "      <th>1364932183023095815</th>\n",
       "      <th>3267499909</th>\n",
       "      <td>@eliowa @AlexDoser1 I thought the efficacy in ...</td>\n",
       "    </tr>\n",
       "    <tr>\n",
       "      <th>1364932040156659715</th>\n",
       "      <th>4030326073</th>\n",
       "      <td>In the 55th plenary meeting of the 75th #UNGA ...</td>\n",
       "    </tr>\n",
       "    <tr>\n",
       "      <th>1364931957977735172</th>\n",
       "      <th>1327999757634199552</th>\n",
       "      <td>with the LGBT poll thing yesterday I didn't se...</td>\n",
       "    </tr>\n",
       "    <tr>\n",
       "      <th>1364931814763204611</th>\n",
       "      <th>4030326073</th>\n",
       "      <td>Global partnership to eliminate gender discrim...</td>\n",
       "    </tr>\n",
       "    <tr>\n",
       "      <th>1364931681220653057</th>\n",
       "      <th>1337754019163496450</th>\n",
       "      <td>#HouseofLords #Politics Norman Fowler to step ...</td>\n",
       "    </tr>\n",
       "  </tbody>\n",
       "</table>\n",
       "<p>8682 rows × 1 columns</p>\n",
       "</div>"
      ],
      "text/plain": [
       "                                                                                      text\n",
       "tid                 uid                                                                   \n",
       "1364161520087818243 867033267895226368   Published today: analysis of @Prime_UCL - over...\n",
       "1364161490668843011 1278251557826502656  There could be 123 000 to 293 000 additional H...\n",
       "1364161361857679361 1130098020           RT @dondekojo: Even your HIV status, don't dec...\n",
       "1364161322867429376 236806506            RT @ms_mabila: Teen pregnancy is high, HIV inf...\n",
       "1364161232270487553 1331332400836726785  Even though it was a charity.  Stevens thought...\n",
       "...                                                                                    ...\n",
       "1364932183023095815 3267499909           @eliowa @AlexDoser1 I thought the efficacy in ...\n",
       "1364932040156659715 4030326073           In the 55th plenary meeting of the 75th #UNGA ...\n",
       "1364931957977735172 1327999757634199552  with the LGBT poll thing yesterday I didn't se...\n",
       "1364931814763204611 4030326073           Global partnership to eliminate gender discrim...\n",
       "1364931681220653057 1337754019163496450  #HouseofLords #Politics Norman Fowler to step ...\n",
       "\n",
       "[8682 rows x 1 columns]"
      ]
     },
     "execution_count": 134,
     "metadata": {},
     "output_type": "execute_result"
    }
   ],
   "source": [
    "text_df.drop_duplicates('text', keep=\"first\")"
   ]
  },
  {
   "cell_type": "code",
   "execution_count": 91,
   "metadata": {},
   "outputs": [],
   "source": [
    "RT_counts = pd.DataFrame(text_df.value_counts(subset='text', ascending=False))"
   ]
  },
  {
   "cell_type": "code",
   "execution_count": 92,
   "metadata": {},
   "outputs": [
    {
     "data": {
      "text/html": [
       "<div>\n",
       "<style scoped>\n",
       "    .dataframe tbody tr th:only-of-type {\n",
       "        vertical-align: middle;\n",
       "    }\n",
       "\n",
       "    .dataframe tbody tr th {\n",
       "        vertical-align: top;\n",
       "    }\n",
       "\n",
       "    .dataframe thead th {\n",
       "        text-align: right;\n",
       "    }\n",
       "</style>\n",
       "<table border=\"1\" class=\"dataframe\">\n",
       "  <thead>\n",
       "    <tr style=\"text-align: right;\">\n",
       "      <th></th>\n",
       "      <th>0</th>\n",
       "    </tr>\n",
       "    <tr>\n",
       "      <th>text</th>\n",
       "      <th></th>\n",
       "    </tr>\n",
       "  </thead>\n",
       "  <tbody>\n",
       "    <tr>\n",
       "      <th>Giving the girl HIV because her man clearly wasn’t paying enough  attention to her then MAKING the girl pick up her hiv medication from his family store! SICK! https://t.co/BB4yKczIjW</th>\n",
       "      <td>412</td>\n",
       "    </tr>\n",
       "    <tr>\n",
       "      <th>No pride for some of us without liberation for all of us.\\n\\nMarsha P. Johnson spent her life advocating for LGBTQ people of color, LGBTQ youth experiencing homelessness, and people living with HIV and AIDS.\\n\\nThank you, Marsha. #BlackHistoryMonth https://t.co/S9MDdKnD35</th>\n",
       "      <td>391</td>\n",
       "    </tr>\n",
       "    <tr>\n",
       "      <th>I hope someone is showing Baba this nation appreciation. History has no blank pages. I served on the board of SANAC the highest advisory body on HIV under Nxamalala. Changed lives &amp;amp; crushed stigma. He received criticism for appointing me and was not fazed 🙏🏾 #IBenefitedUnderZuma</th>\n",
       "      <td>261</td>\n",
       "    </tr>\n",
       "    <tr>\n",
       "      <th>Ritchie and Ash lying in a hospital bed together is a beautiful moment of love.\\n\\nIt’s reminiscent of Gideon Mendel’s photo series where he visited an AIDS ward to show the loving relationships between the men who were dying and their partners.\\n\\nTo humanise HIV.\\n\\n#ItsASin https://t.co/MLv3sGV8ik</th>\n",
       "      <td>242</td>\n",
       "    </tr>\n",
       "    <tr>\n",
       "      <th>A certain boy on Legon campus says he contracted HIV from a one night stand now he’s going around spreading the virus. This is not funny and should be taken serious. Please try and protect yourself. I know most of you don’t like to get tested so try and stay with one partner.</th>\n",
       "      <td>239</td>\n",
       "    </tr>\n",
       "    <tr>\n",
       "      <th>...</th>\n",
       "      <td>...</td>\n",
       "    </tr>\n",
       "    <tr>\n",
       "      <th>The fight against HIV has always been a fight. Lives were saved by those who wouldn’t be silenced or ignored by those unaffected.\\n\\nToday the fight is different. But — while we’ve come a long way in the fight against HIV — it’s not over. In the UK or globally. \\n\\n#ItsASin https://t.co/ZY3JKn7igM</th>\n",
       "      <td>2</td>\n",
       "    </tr>\n",
       "    <tr>\n",
       "      <th>Within 3 years of #opencontracting reforms the number of people receiving treatment for conditions like HIV grew from 50,000 to 113,000, without any increase in budget. Read how Ukraine reformed medical procurement: https://t.co/XqB2HShkgN https://t.co/fgyr2u9iHS</th>\n",
       "      <td>2</td>\n",
       "    </tr>\n",
       "    <tr>\n",
       "      <th>Through the success of @russelldavies63 'It’s A Sin' we’ve seen a remarkable swell in discussions about HIV and representations of HIV across various medias. So here's our Staff Top 12 for Song that also spotlight HIV as a central narrative. What else should be on the list? https://t.co/ByzldGXGtL</th>\n",
       "      <td>2</td>\n",
       "    </tr>\n",
       "    <tr>\n",
       "      <th>The fact that the spoilers say that Sheree is trying to warn Lola off Isaac and doesn’t want him to get into a relationship makes me wonder if the secret illness that Isaac has is a modern version of Mark Fowler’s HIV/AIDS storyline? Might be interesting to see the sl updated.</th>\n",
       "      <td>2</td>\n",
       "    </tr>\n",
       "    <tr>\n",
       "      <th>You don't have to stand for hours to get tested, just use an HIV self-test kit.\\n\\n#keepitssafeandsweet #safesex \\nFollow @kissnigeria for more update on safe sex</th>\n",
       "      <td>2</td>\n",
       "    </tr>\n",
       "  </tbody>\n",
       "</table>\n",
       "<p>1835 rows × 1 columns</p>\n",
       "</div>"
      ],
      "text/plain": [
       "                                                      0\n",
       "text                                                   \n",
       "Giving the girl HIV because her man clearly was...  412\n",
       "No pride for some of us without liberation for ...  391\n",
       "I hope someone is showing Baba this nation appr...  261\n",
       "Ritchie and Ash lying in a hospital bed togethe...  242\n",
       "A certain boy on Legon campus says he contracte...  239\n",
       "...                                                 ...\n",
       "The fight against HIV has always been a fight. ...    2\n",
       "Within 3 years of #opencontracting reforms the ...    2\n",
       "Through the success of @russelldavies63 'It’s A...    2\n",
       "The fact that the spoilers say that Sheree is t...    2\n",
       "You don't have to stand for hours to get tested...    2\n",
       "\n",
       "[1835 rows x 1 columns]"
      ]
     },
     "execution_count": 92,
     "metadata": {},
     "output_type": "execute_result"
    }
   ],
   "source": [
    "RT_counts[RT_counts[0] > 1]"
   ]
  },
  {
   "cell_type": "code",
   "execution_count": 94,
   "metadata": {},
   "outputs": [
    {
     "data": {
      "text/plain": [
       "0    13153\n",
       "dtype: int64"
      ]
     },
     "execution_count": 94,
     "metadata": {},
     "output_type": "execute_result"
    }
   ],
   "source": [
    "np.sum(RT_counts[RT_counts[0] > 1])"
   ]
  },
  {
   "cell_type": "code",
   "execution_count": null,
   "metadata": {},
   "outputs": [],
   "source": []
  },
  {
   "cell_type": "code",
   "execution_count": 33,
   "metadata": {},
   "outputs": [
    {
     "data": {
      "text/html": [
       "<div>\n",
       "<style scoped>\n",
       "    .dataframe tbody tr th:only-of-type {\n",
       "        vertical-align: middle;\n",
       "    }\n",
       "\n",
       "    .dataframe tbody tr th {\n",
       "        vertical-align: top;\n",
       "    }\n",
       "\n",
       "    .dataframe thead th {\n",
       "        text-align: right;\n",
       "    }\n",
       "</style>\n",
       "<table border=\"1\" class=\"dataframe\">\n",
       "  <thead>\n",
       "    <tr style=\"text-align: right;\">\n",
       "      <th></th>\n",
       "      <th></th>\n",
       "      <th>text</th>\n",
       "    </tr>\n",
       "    <tr>\n",
       "      <th>tid</th>\n",
       "      <th>uid</th>\n",
       "      <th></th>\n",
       "    </tr>\n",
       "  </thead>\n",
       "  <tbody>\n",
       "    <tr>\n",
       "      <th>1363949818079375360</th>\n",
       "      <th>1968806107</th>\n",
       "      <td>@N65Michelle @emzanotti @MeghanMcCain I agree-...</td>\n",
       "    </tr>\n",
       "    <tr>\n",
       "      <th>1363949759694852107</th>\n",
       "      <th>489662233</th>\n",
       "      <td>RT @DocWoc71: Great 🧵 on #visceralLeishmaniasi...</td>\n",
       "    </tr>\n",
       "    <tr>\n",
       "      <th>1363949727235112961</th>\n",
       "      <th>2151411331</th>\n",
       "      <td>RT @glaad: Join us for the HIV Stigma and Fait...</td>\n",
       "    </tr>\n",
       "    <tr>\n",
       "      <th>1363949712102076419</th>\n",
       "      <th>17685299</th>\n",
       "      <td>RT @Holbornlolz: Hard Left: We must pursue ZER...</td>\n",
       "    </tr>\n",
       "    <tr>\n",
       "      <th>1363949692288004103</th>\n",
       "      <th>308788980</th>\n",
       "      <td>So he says what? This is the guy that was in c...</td>\n",
       "    </tr>\n",
       "  </tbody>\n",
       "</table>\n",
       "</div>"
      ],
      "text/plain": [
       "                                                                             text\n",
       "tid                 uid                                                          \n",
       "1363949818079375360 1968806107  @N65Michelle @emzanotti @MeghanMcCain I agree-...\n",
       "1363949759694852107 489662233   RT @DocWoc71: Great 🧵 on #visceralLeishmaniasi...\n",
       "1363949727235112961 2151411331  RT @glaad: Join us for the HIV Stigma and Fait...\n",
       "1363949712102076419 17685299    RT @Holbornlolz: Hard Left: We must pursue ZER...\n",
       "1363949692288004103 308788980   So he says what? This is the guy that was in c..."
      ]
     },
     "execution_count": 33,
     "metadata": {},
     "output_type": "execute_result"
    }
   ],
   "source": [
    "#final structure\n",
    "text_df.head()"
   ]
  },
  {
   "cell_type": "code",
   "execution_count": null,
   "metadata": {},
   "outputs": [],
   "source": []
  },
  {
   "cell_type": "code",
   "execution_count": null,
   "metadata": {},
   "outputs": [],
   "source": []
  },
  {
   "cell_type": "code",
   "execution_count": null,
   "metadata": {},
   "outputs": [],
   "source": []
  },
  {
   "cell_type": "code",
   "execution_count": 39,
   "metadata": {},
   "outputs": [],
   "source": [
    "#save the dataframe as a pickle file to be loaded into other notebooks\n",
    "pd.to_pickle(text_df, os.path.join(data.__path__[0], \"compiled\", \"first_6000_text.pkl\"))"
   ]
  },
  {
   "cell_type": "code",
   "execution_count": 37,
   "metadata": {},
   "outputs": [],
   "source": [
    "#save the tweet IDs of the non-english tweets to remove them from the numeric dataframe as well\n",
    "np.save(os.path.join(data.__path__[0], \"compiled\", \"first_6000_non_eng_ind.npy\"), drop_tweets_id)"
   ]
  },
  {
   "cell_type": "code",
   "execution_count": 40,
   "metadata": {},
   "outputs": [
    {
     "name": "stdout",
     "output_type": "stream",
     "text": [
      "<class 'pandas.core.frame.DataFrame'>\n",
      "MultiIndex: 4567 entries, (1363949818079375360, 1968806107) to (1363851623584444420, 35814608)\n",
      "Data columns (total 1 columns):\n",
      " #   Column  Non-Null Count  Dtype \n",
      "---  ------  --------------  ----- \n",
      " 0   text    4567 non-null   string\n",
      "dtypes: string(1)\n",
      "memory usage: 438.1 KB\n"
     ]
    }
   ],
   "source": [
    "text_df.info()"
   ]
  },
  {
   "cell_type": "code",
   "execution_count": null,
   "metadata": {},
   "outputs": [],
   "source": []
  }
 ],
 "metadata": {
  "kernelspec": {
   "display_name": "nlp",
   "language": "python",
   "name": "nlp"
  },
  "language_info": {
   "codemirror_mode": {
    "name": "ipython",
    "version": 3
   },
   "file_extension": ".py",
   "mimetype": "text/x-python",
   "name": "python",
   "nbconvert_exporter": "python",
   "pygments_lexer": "ipython3",
   "version": "3.8.5"
  }
 },
 "nbformat": 4,
 "nbformat_minor": 4
}

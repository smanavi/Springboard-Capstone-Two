{
 "cells": [
  {
   "cell_type": "code",
   "execution_count": 1,
   "metadata": {},
   "outputs": [],
   "source": [
    "import pandas as pd\n",
    "import json\n",
    "import os\n",
    "import numpy as np\n",
    "import matplotlib.pyplot as plt\n",
    "import seaborn as sns\n",
    "import nltk\n",
    "import re\n",
    "import string\n",
    "\n",
    "idx = pd.IndexSlice\n",
    "pd.set_option('display.max_colwidth', 100)"
   ]
  },
  {
   "cell_type": "code",
   "execution_count": 16,
   "metadata": {},
   "outputs": [],
   "source": [
    "import warnings\n",
    "warnings.filterwarnings('ignore')"
   ]
  },
  {
   "cell_type": "code",
   "execution_count": 2,
   "metadata": {},
   "outputs": [],
   "source": [
    "stopwords = nltk.corpus.stopwords.words('english')\n",
    "custom_stopwords = ['amp']\n",
    "stopwords = stopwords + custom_stopwords"
   ]
  },
  {
   "cell_type": "code",
   "execution_count": 3,
   "metadata": {},
   "outputs": [],
   "source": [
    "data_fol = r\"..\\data_files\""
   ]
  },
  {
   "cell_type": "code",
   "execution_count": 68,
   "metadata": {},
   "outputs": [],
   "source": [
    "df = pd.read_pickle(os.path.join(data_fol, \"dataset.pkl\"))"
   ]
  },
  {
   "cell_type": "code",
   "execution_count": 69,
   "metadata": {},
   "outputs": [
    {
     "data": {
      "text/html": [
       "<div>\n",
       "<style scoped>\n",
       "    .dataframe tbody tr th:only-of-type {\n",
       "        vertical-align: middle;\n",
       "    }\n",
       "\n",
       "    .dataframe tbody tr th {\n",
       "        vertical-align: top;\n",
       "    }\n",
       "\n",
       "    .dataframe thead th {\n",
       "        text-align: right;\n",
       "    }\n",
       "</style>\n",
       "<table border=\"1\" class=\"dataframe\">\n",
       "  <thead>\n",
       "    <tr style=\"text-align: right;\">\n",
       "      <th></th>\n",
       "      <th>tid</th>\n",
       "      <th>text</th>\n",
       "    </tr>\n",
       "  </thead>\n",
       "  <tbody>\n",
       "    <tr>\n",
       "      <th>0</th>\n",
       "      <td>1333476068192366593</td>\n",
       "      <td>Teen pregnancy is high, HIV infection rate is growing fastest among teens, and teens are experim...</td>\n",
       "    </tr>\n",
       "    <tr>\n",
       "      <th>1</th>\n",
       "      <td>1364161232270487553</td>\n",
       "      <td>Even though it was a charity.  Stevens thought that speaking to DHSS rather than those suffering...</td>\n",
       "    </tr>\n",
       "    <tr>\n",
       "      <th>2</th>\n",
       "      <td>1364161201291153414</td>\n",
       "      <td>SCORA\\nStanding Committee on Sexual &amp;amp; Reproductive Health and Rights including HIV&amp;amp;AIDS\\...</td>\n",
       "    </tr>\n",
       "    <tr>\n",
       "      <th>3</th>\n",
       "      <td>1364161184505737217</td>\n",
       "      <td>many females are HIV+, we wish you well, blessings, we can't heal you totally, but providing rel...</td>\n",
       "    </tr>\n",
       "    <tr>\n",
       "      <th>4</th>\n",
       "      <td>1363439109948149760</td>\n",
       "      <td>@TheRustler83 Yep. Imagine if the government were demanding HIV tests weekly in every high school.</td>\n",
       "    </tr>\n",
       "  </tbody>\n",
       "</table>\n",
       "</div>"
      ],
      "text/plain": [
       "                   tid  \\\n",
       "0  1333476068192366593   \n",
       "1  1364161232270487553   \n",
       "2  1364161201291153414   \n",
       "3  1364161184505737217   \n",
       "4  1363439109948149760   \n",
       "\n",
       "                                                                                                  text  \n",
       "0  Teen pregnancy is high, HIV infection rate is growing fastest among teens, and teens are experim...  \n",
       "1  Even though it was a charity.  Stevens thought that speaking to DHSS rather than those suffering...  \n",
       "2  SCORA\\nStanding Committee on Sexual &amp; Reproductive Health and Rights including HIV&amp;AIDS\\...  \n",
       "3  many females are HIV+, we wish you well, blessings, we can't heal you totally, but providing rel...  \n",
       "4   @TheRustler83 Yep. Imagine if the government were demanding HIV tests weekly in every high school.  "
      ]
     },
     "execution_count": 69,
     "metadata": {},
     "output_type": "execute_result"
    }
   ],
   "source": [
    "text_df = df[['text']]\n",
    "text_df = text_df.reset_index().drop(columns='uid')\n",
    "text_df.head()"
   ]
  },
  {
   "cell_type": "code",
   "execution_count": 70,
   "metadata": {},
   "outputs": [],
   "source": [
    "wn = nltk.WordNetLemmatizer()"
   ]
  },
  {
   "cell_type": "code",
   "execution_count": 71,
   "metadata": {},
   "outputs": [],
   "source": [
    "def clean_tweet(tweet):\n",
    "    \"\"\"code adpated from LinkedIn Learning class NLP with Python for Machine Learning Essential Training by Derek Jedamski\"\"\"    \n",
    "    tweet = \"\".join([word.lower() for word in tweet if word not in string.punctuation])\n",
    "    tokens = re.split('\\W+', tweet)\n",
    "    tweet = [wn.lemmatize(word) for word in tokens if word not in stopwords]   \n",
    "    return tweet"
   ]
  },
  {
   "cell_type": "code",
   "execution_count": 72,
   "metadata": {
    "scrolled": true
   },
   "outputs": [],
   "source": [
    "text_df['clean'] = text_df['text'].apply(lambda x: clean_tweet(x))"
   ]
  },
  {
   "cell_type": "code",
   "execution_count": 73,
   "metadata": {},
   "outputs": [],
   "source": [
    "text_df['hashtags'] = text_df['text'].apply(lambda x: re.findall(r\"#(\\w+)\", x.lower().strip()))\n",
    "text_df['hashtags_count'] = text_df['hashtags'].apply(lambda x: len(x))\n",
    "text_df['mentions'] = text_df['text'].apply(lambda x: re.findall(r\"@(\\w+)\", x.lower().strip()))\n"
   ]
  },
  {
   "cell_type": "code",
   "execution_count": 74,
   "metadata": {},
   "outputs": [
    {
     "data": {
      "text/html": [
       "<div>\n",
       "<style scoped>\n",
       "    .dataframe tbody tr th:only-of-type {\n",
       "        vertical-align: middle;\n",
       "    }\n",
       "\n",
       "    .dataframe tbody tr th {\n",
       "        vertical-align: top;\n",
       "    }\n",
       "\n",
       "    .dataframe thead th {\n",
       "        text-align: right;\n",
       "    }\n",
       "</style>\n",
       "<table border=\"1\" class=\"dataframe\">\n",
       "  <thead>\n",
       "    <tr style=\"text-align: right;\">\n",
       "      <th></th>\n",
       "      <th>tid</th>\n",
       "      <th>text</th>\n",
       "      <th>clean</th>\n",
       "      <th>hashtags</th>\n",
       "      <th>hashtags_count</th>\n",
       "      <th>mentions</th>\n",
       "    </tr>\n",
       "  </thead>\n",
       "  <tbody>\n",
       "    <tr>\n",
       "      <th>0</th>\n",
       "      <td>1333476068192366593</td>\n",
       "      <td>Teen pregnancy is high, HIV infection rate is growing fastest among teens, and teens are experim...</td>\n",
       "      <td>[teen, pregnancy, high, hiv, infection, rate, growing, fastest, among, teen, teen, experimenting...</td>\n",
       "      <td>[]</td>\n",
       "      <td>0</td>\n",
       "      <td>[]</td>\n",
       "    </tr>\n",
       "    <tr>\n",
       "      <th>1</th>\n",
       "      <td>1364161232270487553</td>\n",
       "      <td>Even though it was a charity.  Stevens thought that speaking to DHSS rather than those suffering...</td>\n",
       "      <td>[even, though, charity, stevens, thought, speaking, dhss, rather, suffering, 1980, 1990, hiv, ha...</td>\n",
       "      <td>[hiv, haemophilia]</td>\n",
       "      <td>2</td>\n",
       "      <td>[bloodinquiry]</td>\n",
       "    </tr>\n",
       "    <tr>\n",
       "      <th>2</th>\n",
       "      <td>1364161201291153414</td>\n",
       "      <td>SCORA\\nStanding Committee on Sexual &amp;amp; Reproductive Health and Rights including HIV&amp;amp;AIDS\\...</td>\n",
       "      <td>[scora, standing, committee, sexual, reproductive, health, right, including, hivampaids, cimsa, ...</td>\n",
       "      <td>[]</td>\n",
       "      <td>0</td>\n",
       "      <td>[]</td>\n",
       "    </tr>\n",
       "    <tr>\n",
       "      <th>3</th>\n",
       "      <td>1364161184505737217</td>\n",
       "      <td>many females are HIV+, we wish you well, blessings, we can't heal you totally, but providing rel...</td>\n",
       "      <td>[many, female, hiv, wish, well, blessing, cant, heal, totally, providing, relief, medicine, salv...</td>\n",
       "      <td>[]</td>\n",
       "      <td>0</td>\n",
       "      <td>[]</td>\n",
       "    </tr>\n",
       "    <tr>\n",
       "      <th>4</th>\n",
       "      <td>1363439109948149760</td>\n",
       "      <td>@TheRustler83 Yep. Imagine if the government were demanding HIV tests weekly in every high school.</td>\n",
       "      <td>[therustler83, yep, imagine, government, demanding, hiv, test, weekly, every, high, school]</td>\n",
       "      <td>[]</td>\n",
       "      <td>0</td>\n",
       "      <td>[therustler83]</td>\n",
       "    </tr>\n",
       "  </tbody>\n",
       "</table>\n",
       "</div>"
      ],
      "text/plain": [
       "                   tid  \\\n",
       "0  1333476068192366593   \n",
       "1  1364161232270487553   \n",
       "2  1364161201291153414   \n",
       "3  1364161184505737217   \n",
       "4  1363439109948149760   \n",
       "\n",
       "                                                                                                  text  \\\n",
       "0  Teen pregnancy is high, HIV infection rate is growing fastest among teens, and teens are experim...   \n",
       "1  Even though it was a charity.  Stevens thought that speaking to DHSS rather than those suffering...   \n",
       "2  SCORA\\nStanding Committee on Sexual &amp; Reproductive Health and Rights including HIV&amp;AIDS\\...   \n",
       "3  many females are HIV+, we wish you well, blessings, we can't heal you totally, but providing rel...   \n",
       "4   @TheRustler83 Yep. Imagine if the government were demanding HIV tests weekly in every high school.   \n",
       "\n",
       "                                                                                                 clean  \\\n",
       "0  [teen, pregnancy, high, hiv, infection, rate, growing, fastest, among, teen, teen, experimenting...   \n",
       "1  [even, though, charity, stevens, thought, speaking, dhss, rather, suffering, 1980, 1990, hiv, ha...   \n",
       "2  [scora, standing, committee, sexual, reproductive, health, right, including, hivampaids, cimsa, ...   \n",
       "3  [many, female, hiv, wish, well, blessing, cant, heal, totally, providing, relief, medicine, salv...   \n",
       "4          [therustler83, yep, imagine, government, demanding, hiv, test, weekly, every, high, school]   \n",
       "\n",
       "             hashtags  hashtags_count        mentions  \n",
       "0                  []               0              []  \n",
       "1  [hiv, haemophilia]               2  [bloodinquiry]  \n",
       "2                  []               0              []  \n",
       "3                  []               0              []  \n",
       "4                  []               0  [therustler83]  "
      ]
     },
     "execution_count": 74,
     "metadata": {},
     "output_type": "execute_result"
    }
   ],
   "source": [
    "text_df.head()"
   ]
  },
  {
   "cell_type": "code",
   "execution_count": 52,
   "metadata": {},
   "outputs": [],
   "source": []
  },
  {
   "cell_type": "code",
   "execution_count": 80,
   "metadata": {},
   "outputs": [],
   "source": [
    "new_tweets = {}\n",
    "for row in text_df.index:\n",
    "    text = text_df.at[row, 'clean']\n",
    "    hashtags = text_df.at[row, 'hashtags']\n",
    "    mentions = text_df.at[row, 'mentions']\n",
    "    new_text = [word for word in text if word not in ' '.join(hashtags)]\n",
    "    new_text = ' '.join([word for word in new_text if word not in ' '.join(mentions)])\n",
    "    ind = text_df.at[row, 'tid']\n",
    "    new_tweets[ind] = new_text\n"
   ]
  },
  {
   "cell_type": "code",
   "execution_count": 83,
   "metadata": {},
   "outputs": [],
   "source": [
    "text_df = text_df.merge(pd.Series(new_tweets, name='clean_no_@#'), left_on='tid', right_index=True)"
   ]
  },
  {
   "cell_type": "code",
   "execution_count": 84,
   "metadata": {},
   "outputs": [
    {
     "data": {
      "text/html": [
       "<div>\n",
       "<style scoped>\n",
       "    .dataframe tbody tr th:only-of-type {\n",
       "        vertical-align: middle;\n",
       "    }\n",
       "\n",
       "    .dataframe tbody tr th {\n",
       "        vertical-align: top;\n",
       "    }\n",
       "\n",
       "    .dataframe thead th {\n",
       "        text-align: right;\n",
       "    }\n",
       "</style>\n",
       "<table border=\"1\" class=\"dataframe\">\n",
       "  <thead>\n",
       "    <tr style=\"text-align: right;\">\n",
       "      <th></th>\n",
       "      <th>tid</th>\n",
       "      <th>text</th>\n",
       "      <th>clean</th>\n",
       "      <th>hashtags</th>\n",
       "      <th>hashtags_count</th>\n",
       "      <th>mentions</th>\n",
       "      <th>clean_no_@#</th>\n",
       "    </tr>\n",
       "  </thead>\n",
       "  <tbody>\n",
       "    <tr>\n",
       "      <th>0</th>\n",
       "      <td>1333476068192366593</td>\n",
       "      <td>Teen pregnancy is high, HIV infection rate is growing fastest among teens, and teens are experim...</td>\n",
       "      <td>[teen, pregnancy, high, hiv, infection, rate, growing, fastest, among, teen, teen, experimenting...</td>\n",
       "      <td>[]</td>\n",
       "      <td>0</td>\n",
       "      <td>[]</td>\n",
       "      <td>teen pregnancy high hiv infection rate growing fastest among teen teen experimenting sex need srh</td>\n",
       "    </tr>\n",
       "    <tr>\n",
       "      <th>1</th>\n",
       "      <td>1364161232270487553</td>\n",
       "      <td>Even though it was a charity.  Stevens thought that speaking to DHSS rather than those suffering...</td>\n",
       "      <td>[even, though, charity, stevens, thought, speaking, dhss, rather, suffering, 1980, 1990, hiv, ha...</td>\n",
       "      <td>[hiv, haemophilia]</td>\n",
       "      <td>2</td>\n",
       "      <td>[bloodinquiry]</td>\n",
       "      <td>even though charity stevens thought speaking dhss rather suffering 1980 1990 httpstcohzrl1mm0rx</td>\n",
       "    </tr>\n",
       "    <tr>\n",
       "      <th>2</th>\n",
       "      <td>1364161201291153414</td>\n",
       "      <td>SCORA\\nStanding Committee on Sexual &amp;amp; Reproductive Health and Rights including HIV&amp;amp;AIDS\\...</td>\n",
       "      <td>[scora, standing, committee, sexual, reproductive, health, right, including, hivampaids, cimsa, ...</td>\n",
       "      <td>[]</td>\n",
       "      <td>0</td>\n",
       "      <td>[]</td>\n",
       "      <td>scora standing committee sexual reproductive health right including hivampaids cimsa empowering ...</td>\n",
       "    </tr>\n",
       "    <tr>\n",
       "      <th>3</th>\n",
       "      <td>1364161184505737217</td>\n",
       "      <td>many females are HIV+, we wish you well, blessings, we can't heal you totally, but providing rel...</td>\n",
       "      <td>[many, female, hiv, wish, well, blessing, cant, heal, totally, providing, relief, medicine, salv...</td>\n",
       "      <td>[]</td>\n",
       "      <td>0</td>\n",
       "      <td>[]</td>\n",
       "      <td>many female hiv wish well blessing cant heal totally providing relief medicine salve specialty m...</td>\n",
       "    </tr>\n",
       "    <tr>\n",
       "      <th>4</th>\n",
       "      <td>1363439109948149760</td>\n",
       "      <td>@TheRustler83 Yep. Imagine if the government were demanding HIV tests weekly in every high school.</td>\n",
       "      <td>[therustler83, yep, imagine, government, demanding, hiv, test, weekly, every, high, school]</td>\n",
       "      <td>[]</td>\n",
       "      <td>0</td>\n",
       "      <td>[therustler83]</td>\n",
       "      <td>yep imagine government demanding hiv test weekly every high school</td>\n",
       "    </tr>\n",
       "  </tbody>\n",
       "</table>\n",
       "</div>"
      ],
      "text/plain": [
       "                   tid  \\\n",
       "0  1333476068192366593   \n",
       "1  1364161232270487553   \n",
       "2  1364161201291153414   \n",
       "3  1364161184505737217   \n",
       "4  1363439109948149760   \n",
       "\n",
       "                                                                                                  text  \\\n",
       "0  Teen pregnancy is high, HIV infection rate is growing fastest among teens, and teens are experim...   \n",
       "1  Even though it was a charity.  Stevens thought that speaking to DHSS rather than those suffering...   \n",
       "2  SCORA\\nStanding Committee on Sexual &amp; Reproductive Health and Rights including HIV&amp;AIDS\\...   \n",
       "3  many females are HIV+, we wish you well, blessings, we can't heal you totally, but providing rel...   \n",
       "4   @TheRustler83 Yep. Imagine if the government were demanding HIV tests weekly in every high school.   \n",
       "\n",
       "                                                                                                 clean  \\\n",
       "0  [teen, pregnancy, high, hiv, infection, rate, growing, fastest, among, teen, teen, experimenting...   \n",
       "1  [even, though, charity, stevens, thought, speaking, dhss, rather, suffering, 1980, 1990, hiv, ha...   \n",
       "2  [scora, standing, committee, sexual, reproductive, health, right, including, hivampaids, cimsa, ...   \n",
       "3  [many, female, hiv, wish, well, blessing, cant, heal, totally, providing, relief, medicine, salv...   \n",
       "4          [therustler83, yep, imagine, government, demanding, hiv, test, weekly, every, high, school]   \n",
       "\n",
       "             hashtags  hashtags_count        mentions  \\\n",
       "0                  []               0              []   \n",
       "1  [hiv, haemophilia]               2  [bloodinquiry]   \n",
       "2                  []               0              []   \n",
       "3                  []               0              []   \n",
       "4                  []               0  [therustler83]   \n",
       "\n",
       "                                                                                           clean_no_@#  \n",
       "0    teen pregnancy high hiv infection rate growing fastest among teen teen experimenting sex need srh  \n",
       "1      even though charity stevens thought speaking dhss rather suffering 1980 1990 httpstcohzrl1mm0rx  \n",
       "2  scora standing committee sexual reproductive health right including hivampaids cimsa empowering ...  \n",
       "3  many female hiv wish well blessing cant heal totally providing relief medicine salve specialty m...  \n",
       "4                                   yep imagine government demanding hiv test weekly every high school  "
      ]
     },
     "execution_count": 84,
     "metadata": {},
     "output_type": "execute_result"
    }
   ],
   "source": [
    "text_df.head()"
   ]
  },
  {
   "cell_type": "code",
   "execution_count": 85,
   "metadata": {},
   "outputs": [],
   "source": [
    "pd.to_pickle(text_df, os.path.join(data_fol, 'dataset_text_only.pkl'))"
   ]
  },
  {
   "cell_type": "code",
   "execution_count": null,
   "metadata": {},
   "outputs": [],
   "source": [
    "text_df = pd.read_pickle(os.path.join(data_fol, 'dataset_text_only.pkl'))\n",
    "clean_df = pd.read_pickle(os.path.join(data_fol, 'dataset_no_outliers_engagement.pkl'))"
   ]
  },
  {
   "cell_type": "code",
   "execution_count": null,
   "metadata": {},
   "outputs": [],
   "source": [
    "keepers = list(clean_df.index.get_level_values('tid'))\n",
    "new_text_df = text_df[text_df.tid.isin(keepers)]"
   ]
  },
  {
   "cell_type": "code",
   "execution_count": null,
   "metadata": {},
   "outputs": [],
   "source": [
    "pd.to_pickle(new_text_df, os.path.join(data_fol, 'dataset_text_only_no_outliers.pkl'))"
   ]
  },
  {
   "cell_type": "code",
   "execution_count": null,
   "metadata": {},
   "outputs": [],
   "source": []
  }
 ],
 "metadata": {
  "kernelspec": {
   "display_name": "nlp",
   "language": "python",
   "name": "nlp"
  },
  "language_info": {
   "codemirror_mode": {
    "name": "ipython",
    "version": 3
   },
   "file_extension": ".py",
   "mimetype": "text/x-python",
   "name": "python",
   "nbconvert_exporter": "python",
   "pygments_lexer": "ipython3",
   "version": "3.8.5"
  }
 },
 "nbformat": 4,
 "nbformat_minor": 4
}

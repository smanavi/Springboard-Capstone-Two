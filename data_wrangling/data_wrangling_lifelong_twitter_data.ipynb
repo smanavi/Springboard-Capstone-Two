{
 "cells": [
  {
   "cell_type": "markdown",
   "metadata": {},
   "source": [
    "#### import the things"
   ]
  },
  {
   "cell_type": "code",
   "execution_count": 1,
   "metadata": {},
   "outputs": [],
   "source": [
    "import pandas as pd\n",
    "import json\n",
    "import os\n",
    "import numpy as np\n",
    "import matplotlib.pyplot as plt\n",
    "import seaborn as sns\n",
    "\n",
    "idx = pd.IndexSlice\n",
    "\n",
    "import scipy.stats\n",
    "import data\n",
    "raw_data_fol = os.path.join(data.__path__[0], \"raw\")"
   ]
  },
  {
   "cell_type": "code",
   "execution_count": 2,
   "metadata": {},
   "outputs": [],
   "source": [
    "from src.data import data_sorting_tools as dst\n",
    "%load_ext autoreload\n",
    "%autoreload 2"
   ]
  },
  {
   "cell_type": "code",
   "execution_count": null,
   "metadata": {},
   "outputs": [],
   "source": []
  },
  {
   "cell_type": "markdown",
   "metadata": {},
   "source": [
    "#### explore keys"
   ]
  },
  {
   "cell_type": "code",
   "execution_count": 3,
   "metadata": {},
   "outputs": [],
   "source": [
    "tf = os.path.join(raw_data_fol, \"lifelong_statuses.json\")\n",
    "with open(tf, 'r') as f:\n",
    "    ll_tweets = json.load(f)"
   ]
  },
  {
   "cell_type": "code",
   "execution_count": 7,
   "metadata": {},
   "outputs": [
    {
     "data": {
      "text/plain": [
       "dict_keys(['created_at', 'id', 'id_str', 'text', 'truncated', 'entities', 'source', 'in_reply_to_status_id', 'in_reply_to_status_id_str', 'in_reply_to_user_id', 'in_reply_to_user_id_str', 'in_reply_to_screen_name', 'user', 'geo', 'coordinates', 'place', 'contributors', 'is_quote_status', 'retweet_count', 'favorite_count', 'favorited', 'retweeted', 'possibly_sensitive', 'lang'])"
      ]
     },
     "execution_count": 7,
     "metadata": {},
     "output_type": "execute_result"
    }
   ],
   "source": [
    "ll_tweets['0'].keys()"
   ]
  },
  {
   "cell_type": "code",
   "execution_count": 70,
   "metadata": {},
   "outputs": [
    {
     "data": {
      "text/plain": [
       "{'hashtags': [],\n",
       " 'symbols': [],\n",
       " 'user_mentions': [],\n",
       " 'urls': [{'url': 'https://t.co/2a92fmtNSn',\n",
       "   'expanded_url': 'https://twitter.com/i/web/status/1334917683372912640',\n",
       "   'display_url': 'twitter.com/i/web/status/1…',\n",
       "   'indices': [117, 140]}]}"
      ]
     },
     "execution_count": 70,
     "metadata": {},
     "output_type": "execute_result"
    }
   ],
   "source": [
    "ll_tweets['0']['entities']"
   ]
  },
  {
   "cell_type": "markdown",
   "metadata": {},
   "source": [
    "pulling directly from a timeline doesn't seem to supply the reply_count and quote_count keys for some reason"
   ]
  },
  {
   "cell_type": "code",
   "execution_count": 28,
   "metadata": {},
   "outputs": [
    {
     "data": {
      "text/html": [
       "<div>\n",
       "<style scoped>\n",
       "    .dataframe tbody tr th:only-of-type {\n",
       "        vertical-align: middle;\n",
       "    }\n",
       "\n",
       "    .dataframe tbody tr th {\n",
       "        vertical-align: top;\n",
       "    }\n",
       "\n",
       "    .dataframe thead th {\n",
       "        text-align: right;\n",
       "    }\n",
       "</style>\n",
       "<table border=\"1\" class=\"dataframe\">\n",
       "  <thead>\n",
       "    <tr style=\"text-align: right;\">\n",
       "      <th></th>\n",
       "      <th>retweet_count</th>\n",
       "      <th>favorite_count</th>\n",
       "      <th>created_at</th>\n",
       "    </tr>\n",
       "  </thead>\n",
       "  <tbody>\n",
       "    <tr>\n",
       "      <th>1334917683372912640</th>\n",
       "      <td>0</td>\n",
       "      <td>1</td>\n",
       "      <td>Fri Dec 04 17:49:11 +0000 2020</td>\n",
       "    </tr>\n",
       "    <tr>\n",
       "      <th>1204495248187019264</th>\n",
       "      <td>1</td>\n",
       "      <td>3</td>\n",
       "      <td>Tue Dec 10 20:17:00 +0000 2019</td>\n",
       "    </tr>\n",
       "    <tr>\n",
       "      <th>1179432824505393152</th>\n",
       "      <td>2</td>\n",
       "      <td>1</td>\n",
       "      <td>Wed Oct 02 16:27:52 +0000 2019</td>\n",
       "    </tr>\n",
       "    <tr>\n",
       "      <th>1080491425458925568</th>\n",
       "      <td>0</td>\n",
       "      <td>2</td>\n",
       "      <td>Wed Jan 02 15:50:05 +0000 2019</td>\n",
       "    </tr>\n",
       "    <tr>\n",
       "      <th>1079778433813467136</th>\n",
       "      <td>0</td>\n",
       "      <td>2</td>\n",
       "      <td>Mon Dec 31 16:36:54 +0000 2018</td>\n",
       "    </tr>\n",
       "  </tbody>\n",
       "</table>\n",
       "</div>"
      ],
      "text/plain": [
       "                    retweet_count favorite_count  \\\n",
       "1334917683372912640             0              1   \n",
       "1204495248187019264             1              3   \n",
       "1179432824505393152             2              1   \n",
       "1080491425458925568             0              2   \n",
       "1079778433813467136             0              2   \n",
       "\n",
       "                                         created_at  \n",
       "1334917683372912640  Fri Dec 04 17:49:11 +0000 2020  \n",
       "1204495248187019264  Tue Dec 10 20:17:00 +0000 2019  \n",
       "1179432824505393152  Wed Oct 02 16:27:52 +0000 2019  \n",
       "1080491425458925568  Wed Jan 02 15:50:05 +0000 2019  \n",
       "1079778433813467136  Mon Dec 31 16:36:54 +0000 2018  "
      ]
     },
     "execution_count": 28,
     "metadata": {},
     "output_type": "execute_result"
    }
   ],
   "source": [
    "#keep these top level keys\n",
    "keepers = ['retweet_count', 'favorite_count', 'created_at']\n",
    "\n",
    "#check to see what they look like in a dataframe\n",
    "df, main_dict = dst.json_to_df(tf, keepers, return_dict=True)\n",
    "df.head()"
   ]
  },
  {
   "cell_type": "markdown",
   "metadata": {},
   "source": [
    "#### clean up the dataframe"
   ]
  },
  {
   "cell_type": "code",
   "execution_count": 29,
   "metadata": {},
   "outputs": [
    {
     "name": "stdout",
     "output_type": "stream",
     "text": [
      "<class 'pandas.core.frame.DataFrame'>\n",
      "Int64Index: 499 entries, 1334917683372912640 to 593899000291549184\n",
      "Data columns (total 3 columns):\n",
      " #   Column          Non-Null Count  Dtype \n",
      "---  ------          --------------  ----- \n",
      " 0   retweet_count   499 non-null    object\n",
      " 1   favorite_count  499 non-null    object\n",
      " 2   created_at      499 non-null    object\n",
      "dtypes: object(3)\n",
      "memory usage: 15.6+ KB\n"
     ]
    }
   ],
   "source": [
    "df.info()"
   ]
  },
  {
   "cell_type": "code",
   "execution_count": 32,
   "metadata": {},
   "outputs": [],
   "source": [
    "df = df.convert_dtypes()\n",
    "df['created_at'] = pd.to_datetime(df['created_at'])"
   ]
  },
  {
   "cell_type": "code",
   "execution_count": 33,
   "metadata": {},
   "outputs": [
    {
     "name": "stdout",
     "output_type": "stream",
     "text": [
      "<class 'pandas.core.frame.DataFrame'>\n",
      "Int64Index: 499 entries, 1334917683372912640 to 593899000291549184\n",
      "Data columns (total 3 columns):\n",
      " #   Column          Non-Null Count  Dtype              \n",
      "---  ------          --------------  -----              \n",
      " 0   retweet_count   499 non-null    Int64              \n",
      " 1   favorite_count  499 non-null    Int64              \n",
      " 2   created_at      499 non-null    datetime64[ns, UTC]\n",
      "dtypes: Int64(2), datetime64[ns, UTC](1)\n",
      "memory usage: 16.6 KB\n"
     ]
    }
   ],
   "source": [
    "df.info()"
   ]
  },
  {
   "cell_type": "code",
   "execution_count": 34,
   "metadata": {},
   "outputs": [
    {
     "data": {
      "text/html": [
       "<div>\n",
       "<style scoped>\n",
       "    .dataframe tbody tr th:only-of-type {\n",
       "        vertical-align: middle;\n",
       "    }\n",
       "\n",
       "    .dataframe tbody tr th {\n",
       "        vertical-align: top;\n",
       "    }\n",
       "\n",
       "    .dataframe thead th {\n",
       "        text-align: right;\n",
       "    }\n",
       "</style>\n",
       "<table border=\"1\" class=\"dataframe\">\n",
       "  <thead>\n",
       "    <tr style=\"text-align: right;\">\n",
       "      <th></th>\n",
       "      <th>retweet_count</th>\n",
       "      <th>favorite_count</th>\n",
       "    </tr>\n",
       "  </thead>\n",
       "  <tbody>\n",
       "    <tr>\n",
       "      <th>count</th>\n",
       "      <td>499.000000</td>\n",
       "      <td>499.000000</td>\n",
       "    </tr>\n",
       "    <tr>\n",
       "      <th>mean</th>\n",
       "      <td>0.394790</td>\n",
       "      <td>1.262525</td>\n",
       "    </tr>\n",
       "    <tr>\n",
       "      <th>std</th>\n",
       "      <td>0.844575</td>\n",
       "      <td>1.612333</td>\n",
       "    </tr>\n",
       "    <tr>\n",
       "      <th>min</th>\n",
       "      <td>0.000000</td>\n",
       "      <td>0.000000</td>\n",
       "    </tr>\n",
       "    <tr>\n",
       "      <th>25%</th>\n",
       "      <td>0.000000</td>\n",
       "      <td>0.000000</td>\n",
       "    </tr>\n",
       "    <tr>\n",
       "      <th>50%</th>\n",
       "      <td>0.000000</td>\n",
       "      <td>1.000000</td>\n",
       "    </tr>\n",
       "    <tr>\n",
       "      <th>75%</th>\n",
       "      <td>1.000000</td>\n",
       "      <td>2.000000</td>\n",
       "    </tr>\n",
       "    <tr>\n",
       "      <th>max</th>\n",
       "      <td>7.000000</td>\n",
       "      <td>12.000000</td>\n",
       "    </tr>\n",
       "  </tbody>\n",
       "</table>\n",
       "</div>"
      ],
      "text/plain": [
       "       retweet_count  favorite_count\n",
       "count     499.000000      499.000000\n",
       "mean        0.394790        1.262525\n",
       "std         0.844575        1.612333\n",
       "min         0.000000        0.000000\n",
       "25%         0.000000        0.000000\n",
       "50%         0.000000        1.000000\n",
       "75%         1.000000        2.000000\n",
       "max         7.000000       12.000000"
      ]
     },
     "execution_count": 34,
     "metadata": {},
     "output_type": "execute_result"
    }
   ],
   "source": [
    "df.describe()"
   ]
  },
  {
   "cell_type": "markdown",
   "metadata": {},
   "source": [
    "#### add media column"
   ]
  },
  {
   "cell_type": "code",
   "execution_count": 98,
   "metadata": {},
   "outputs": [
    {
     "data": {
      "text/plain": [
       "[{'id': 1078720223224700929,\n",
       "  'id_str': '1078720223224700929',\n",
       "  'indices': [103, 126],\n",
       "  'media_url': 'http://pbs.twimg.com/media/DvhiU-VWoAESfxo.jpg',\n",
       "  'media_url_https': 'https://pbs.twimg.com/media/DvhiU-VWoAESfxo.jpg',\n",
       "  'url': 'https://t.co/EbmILG9uDP',\n",
       "  'display_url': 'pic.twitter.com/EbmILG9uDP',\n",
       "  'expanded_url': 'https://twitter.com/LifelongWA/status/1078720227897073664/photo/1',\n",
       "  'type': 'photo',\n",
       "  'sizes': {'medium': {'w': 960, 'h': 640, 'resize': 'fit'},\n",
       "   'thumb': {'w': 150, 'h': 150, 'resize': 'crop'},\n",
       "   'large': {'w': 960, 'h': 640, 'resize': 'fit'},\n",
       "   'small': {'w': 680, 'h': 453, 'resize': 'fit'}}},\n",
       " {'id': 1078720223228948480,\n",
       "  'id_str': '1078720223228948480',\n",
       "  'indices': [103, 126],\n",
       "  'media_url': 'http://pbs.twimg.com/media/DvhiU-WXcAAuw6c.jpg',\n",
       "  'media_url_https': 'https://pbs.twimg.com/media/DvhiU-WXcAAuw6c.jpg',\n",
       "  'url': 'https://t.co/EbmILG9uDP',\n",
       "  'display_url': 'pic.twitter.com/EbmILG9uDP',\n",
       "  'expanded_url': 'https://twitter.com/LifelongWA/status/1078720227897073664/photo/1',\n",
       "  'type': 'photo',\n",
       "  'sizes': {'thumb': {'w': 150, 'h': 150, 'resize': 'crop'},\n",
       "   'large': {'w': 640, 'h': 960, 'resize': 'fit'},\n",
       "   'medium': {'w': 640, 'h': 960, 'resize': 'fit'},\n",
       "   'small': {'w': 453, 'h': 680, 'resize': 'fit'}}}]"
      ]
     },
     "execution_count": 98,
     "metadata": {},
     "output_type": "execute_result"
    }
   ],
   "source": [
    "ll_tweets['7']['extended_entities']['media']"
   ]
  },
  {
   "cell_type": "code",
   "execution_count": 39,
   "metadata": {},
   "outputs": [],
   "source": [
    "media_dict = {}\n",
    "for key in ll_tweets.keys():\n",
    "    temp = {}\n",
    "    if \"extended_entities\" in ll_tweets[key].keys():\n",
    "        dk = ll_tweets[key]['id']\n",
    "        temp['media_count'] = len(ll_tweets[key]['extended_entities']['media'])\n",
    "        temp['media_types'] = [t['type'] for t in ll_tweets[key]['extended_entities']['media']]\n",
    "        media_dict[dk] = temp"
   ]
  },
  {
   "cell_type": "code",
   "execution_count": 43,
   "metadata": {},
   "outputs": [
    {
     "data": {
      "text/html": [
       "<div>\n",
       "<style scoped>\n",
       "    .dataframe tbody tr th:only-of-type {\n",
       "        vertical-align: middle;\n",
       "    }\n",
       "\n",
       "    .dataframe tbody tr th {\n",
       "        vertical-align: top;\n",
       "    }\n",
       "\n",
       "    .dataframe thead th {\n",
       "        text-align: right;\n",
       "    }\n",
       "</style>\n",
       "<table border=\"1\" class=\"dataframe\">\n",
       "  <thead>\n",
       "    <tr style=\"text-align: right;\">\n",
       "      <th></th>\n",
       "      <th>media_count</th>\n",
       "      <th>media_types</th>\n",
       "    </tr>\n",
       "  </thead>\n",
       "  <tbody>\n",
       "    <tr>\n",
       "      <th>1078720227897073664</th>\n",
       "      <td>2</td>\n",
       "      <td>[photo, photo]</td>\n",
       "    </tr>\n",
       "    <tr>\n",
       "      <th>1069984969089581056</th>\n",
       "      <td>1</td>\n",
       "      <td>[photo]</td>\n",
       "    </tr>\n",
       "    <tr>\n",
       "      <th>1068655115635056640</th>\n",
       "      <td>4</td>\n",
       "      <td>[photo, photo, photo, photo]</td>\n",
       "    </tr>\n",
       "    <tr>\n",
       "      <th>1060570529474654208</th>\n",
       "      <td>1</td>\n",
       "      <td>[photo]</td>\n",
       "    </tr>\n",
       "    <tr>\n",
       "      <th>1060208199310073856</th>\n",
       "      <td>1</td>\n",
       "      <td>[photo]</td>\n",
       "    </tr>\n",
       "  </tbody>\n",
       "</table>\n",
       "</div>"
      ],
      "text/plain": [
       "                    media_count                   media_types\n",
       "1078720227897073664           2                [photo, photo]\n",
       "1069984969089581056           1                       [photo]\n",
       "1068655115635056640           4  [photo, photo, photo, photo]\n",
       "1060570529474654208           1                       [photo]\n",
       "1060208199310073856           1                       [photo]"
      ]
     },
     "execution_count": 43,
     "metadata": {},
     "output_type": "execute_result"
    }
   ],
   "source": [
    "media_statuses = pd.DataFrame(media_dict).T\n",
    "media_statuses.head()"
   ]
  },
  {
   "cell_type": "code",
   "execution_count": 48,
   "metadata": {},
   "outputs": [
    {
     "data": {
      "text/html": [
       "<div>\n",
       "<style scoped>\n",
       "    .dataframe tbody tr th:only-of-type {\n",
       "        vertical-align: middle;\n",
       "    }\n",
       "\n",
       "    .dataframe tbody tr th {\n",
       "        vertical-align: top;\n",
       "    }\n",
       "\n",
       "    .dataframe thead th {\n",
       "        text-align: right;\n",
       "    }\n",
       "</style>\n",
       "<table border=\"1\" class=\"dataframe\">\n",
       "  <thead>\n",
       "    <tr style=\"text-align: right;\">\n",
       "      <th></th>\n",
       "      <th>retweet_count</th>\n",
       "      <th>favorite_count</th>\n",
       "      <th>created_at</th>\n",
       "      <th>media_count</th>\n",
       "      <th>media_types</th>\n",
       "    </tr>\n",
       "  </thead>\n",
       "  <tbody>\n",
       "    <tr>\n",
       "      <th>1334917683372912640</th>\n",
       "      <td>0</td>\n",
       "      <td>1</td>\n",
       "      <td>2020-12-04 17:49:11+00:00</td>\n",
       "      <td>NaN</td>\n",
       "      <td>NaN</td>\n",
       "    </tr>\n",
       "    <tr>\n",
       "      <th>1204495248187019264</th>\n",
       "      <td>1</td>\n",
       "      <td>3</td>\n",
       "      <td>2019-12-10 20:17:00+00:00</td>\n",
       "      <td>NaN</td>\n",
       "      <td>NaN</td>\n",
       "    </tr>\n",
       "    <tr>\n",
       "      <th>1179432824505393152</th>\n",
       "      <td>2</td>\n",
       "      <td>1</td>\n",
       "      <td>2019-10-02 16:27:52+00:00</td>\n",
       "      <td>NaN</td>\n",
       "      <td>NaN</td>\n",
       "    </tr>\n",
       "    <tr>\n",
       "      <th>1080491425458925568</th>\n",
       "      <td>0</td>\n",
       "      <td>2</td>\n",
       "      <td>2019-01-02 15:50:05+00:00</td>\n",
       "      <td>NaN</td>\n",
       "      <td>NaN</td>\n",
       "    </tr>\n",
       "    <tr>\n",
       "      <th>1079778433813467136</th>\n",
       "      <td>0</td>\n",
       "      <td>2</td>\n",
       "      <td>2018-12-31 16:36:54+00:00</td>\n",
       "      <td>NaN</td>\n",
       "      <td>NaN</td>\n",
       "    </tr>\n",
       "    <tr>\n",
       "      <th>1079059702368161797</th>\n",
       "      <td>0</td>\n",
       "      <td>0</td>\n",
       "      <td>2018-12-29 17:00:55+00:00</td>\n",
       "      <td>NaN</td>\n",
       "      <td>NaN</td>\n",
       "    </tr>\n",
       "    <tr>\n",
       "      <th>1078772688196390912</th>\n",
       "      <td>0</td>\n",
       "      <td>0</td>\n",
       "      <td>2018-12-28 22:00:26+00:00</td>\n",
       "      <td>NaN</td>\n",
       "      <td>NaN</td>\n",
       "    </tr>\n",
       "    <tr>\n",
       "      <th>1078720227897073664</th>\n",
       "      <td>1</td>\n",
       "      <td>1</td>\n",
       "      <td>2018-12-28 18:31:58+00:00</td>\n",
       "      <td>2</td>\n",
       "      <td>[photo, photo]</td>\n",
       "    </tr>\n",
       "    <tr>\n",
       "      <th>1078019364123602945</th>\n",
       "      <td>0</td>\n",
       "      <td>0</td>\n",
       "      <td>2018-12-26 20:06:59+00:00</td>\n",
       "      <td>NaN</td>\n",
       "      <td>NaN</td>\n",
       "    </tr>\n",
       "    <tr>\n",
       "      <th>1077587002919284737</th>\n",
       "      <td>0</td>\n",
       "      <td>2</td>\n",
       "      <td>2018-12-25 15:28:56+00:00</td>\n",
       "      <td>NaN</td>\n",
       "      <td>NaN</td>\n",
       "    </tr>\n",
       "    <tr>\n",
       "      <th>1077239016087416834</th>\n",
       "      <td>2</td>\n",
       "      <td>2</td>\n",
       "      <td>2018-12-24 16:26:10+00:00</td>\n",
       "      <td>NaN</td>\n",
       "      <td>NaN</td>\n",
       "    </tr>\n",
       "    <tr>\n",
       "      <th>1076538046781247488</th>\n",
       "      <td>0</td>\n",
       "      <td>0</td>\n",
       "      <td>2018-12-22 18:00:46+00:00</td>\n",
       "      <td>NaN</td>\n",
       "      <td>NaN</td>\n",
       "    </tr>\n",
       "    <tr>\n",
       "      <th>1076244188356722690</th>\n",
       "      <td>0</td>\n",
       "      <td>1</td>\n",
       "      <td>2018-12-21 22:33:04+00:00</td>\n",
       "      <td>NaN</td>\n",
       "      <td>NaN</td>\n",
       "    </tr>\n",
       "    <tr>\n",
       "      <th>1075799677902061568</th>\n",
       "      <td>1</td>\n",
       "      <td>1</td>\n",
       "      <td>2018-12-20 17:06:45+00:00</td>\n",
       "      <td>NaN</td>\n",
       "      <td>NaN</td>\n",
       "    </tr>\n",
       "    <tr>\n",
       "      <th>1075780260208078848</th>\n",
       "      <td>0</td>\n",
       "      <td>2</td>\n",
       "      <td>2018-12-20 15:49:35+00:00</td>\n",
       "      <td>NaN</td>\n",
       "      <td>NaN</td>\n",
       "    </tr>\n",
       "  </tbody>\n",
       "</table>\n",
       "</div>"
      ],
      "text/plain": [
       "                     retweet_count  favorite_count                created_at  \\\n",
       "1334917683372912640              0               1 2020-12-04 17:49:11+00:00   \n",
       "1204495248187019264              1               3 2019-12-10 20:17:00+00:00   \n",
       "1179432824505393152              2               1 2019-10-02 16:27:52+00:00   \n",
       "1080491425458925568              0               2 2019-01-02 15:50:05+00:00   \n",
       "1079778433813467136              0               2 2018-12-31 16:36:54+00:00   \n",
       "1079059702368161797              0               0 2018-12-29 17:00:55+00:00   \n",
       "1078772688196390912              0               0 2018-12-28 22:00:26+00:00   \n",
       "1078720227897073664              1               1 2018-12-28 18:31:58+00:00   \n",
       "1078019364123602945              0               0 2018-12-26 20:06:59+00:00   \n",
       "1077587002919284737              0               2 2018-12-25 15:28:56+00:00   \n",
       "1077239016087416834              2               2 2018-12-24 16:26:10+00:00   \n",
       "1076538046781247488              0               0 2018-12-22 18:00:46+00:00   \n",
       "1076244188356722690              0               1 2018-12-21 22:33:04+00:00   \n",
       "1075799677902061568              1               1 2018-12-20 17:06:45+00:00   \n",
       "1075780260208078848              0               2 2018-12-20 15:49:35+00:00   \n",
       "\n",
       "                    media_count     media_types  \n",
       "1334917683372912640         NaN             NaN  \n",
       "1204495248187019264         NaN             NaN  \n",
       "1179432824505393152         NaN             NaN  \n",
       "1080491425458925568         NaN             NaN  \n",
       "1079778433813467136         NaN             NaN  \n",
       "1079059702368161797         NaN             NaN  \n",
       "1078772688196390912         NaN             NaN  \n",
       "1078720227897073664           2  [photo, photo]  \n",
       "1078019364123602945         NaN             NaN  \n",
       "1077587002919284737         NaN             NaN  \n",
       "1077239016087416834         NaN             NaN  \n",
       "1076538046781247488         NaN             NaN  \n",
       "1076244188356722690         NaN             NaN  \n",
       "1075799677902061568         NaN             NaN  \n",
       "1075780260208078848         NaN             NaN  "
      ]
     },
     "execution_count": 48,
     "metadata": {},
     "output_type": "execute_result"
    }
   ],
   "source": [
    "ll_df = pd.concat([df, media_statuses], axis=1).sort_values('created_at', ascending=False)\n",
    "ll_df.head(15)"
   ]
  },
  {
   "cell_type": "code",
   "execution_count": 53,
   "metadata": {},
   "outputs": [],
   "source": [
    "ll_df['media_count'] = ll_df['media_count'].fillna(0)\n",
    "ll_df['media_types'] = ll_df['media_types'].fillna('none')"
   ]
  },
  {
   "cell_type": "code",
   "execution_count": 73,
   "metadata": {},
   "outputs": [
    {
     "data": {
      "text/html": [
       "<div>\n",
       "<style scoped>\n",
       "    .dataframe tbody tr th:only-of-type {\n",
       "        vertical-align: middle;\n",
       "    }\n",
       "\n",
       "    .dataframe tbody tr th {\n",
       "        vertical-align: top;\n",
       "    }\n",
       "\n",
       "    .dataframe thead th {\n",
       "        text-align: right;\n",
       "    }\n",
       "</style>\n",
       "<table border=\"1\" class=\"dataframe\">\n",
       "  <thead>\n",
       "    <tr style=\"text-align: right;\">\n",
       "      <th></th>\n",
       "      <th>retweet_count</th>\n",
       "      <th>favorite_count</th>\n",
       "      <th>created_at</th>\n",
       "      <th>media_count</th>\n",
       "      <th>media_types</th>\n",
       "    </tr>\n",
       "  </thead>\n",
       "  <tbody>\n",
       "    <tr>\n",
       "      <th>1334917683372912640</th>\n",
       "      <td>0</td>\n",
       "      <td>1</td>\n",
       "      <td>2020-12-04 17:49:11+00:00</td>\n",
       "      <td>0</td>\n",
       "      <td>none</td>\n",
       "    </tr>\n",
       "    <tr>\n",
       "      <th>1204495248187019264</th>\n",
       "      <td>1</td>\n",
       "      <td>3</td>\n",
       "      <td>2019-12-10 20:17:00+00:00</td>\n",
       "      <td>0</td>\n",
       "      <td>none</td>\n",
       "    </tr>\n",
       "    <tr>\n",
       "      <th>1179432824505393152</th>\n",
       "      <td>2</td>\n",
       "      <td>1</td>\n",
       "      <td>2019-10-02 16:27:52+00:00</td>\n",
       "      <td>0</td>\n",
       "      <td>none</td>\n",
       "    </tr>\n",
       "    <tr>\n",
       "      <th>1080491425458925568</th>\n",
       "      <td>0</td>\n",
       "      <td>2</td>\n",
       "      <td>2019-01-02 15:50:05+00:00</td>\n",
       "      <td>0</td>\n",
       "      <td>none</td>\n",
       "    </tr>\n",
       "    <tr>\n",
       "      <th>1079778433813467136</th>\n",
       "      <td>0</td>\n",
       "      <td>2</td>\n",
       "      <td>2018-12-31 16:36:54+00:00</td>\n",
       "      <td>0</td>\n",
       "      <td>none</td>\n",
       "    </tr>\n",
       "  </tbody>\n",
       "</table>\n",
       "</div>"
      ],
      "text/plain": [
       "                     retweet_count  favorite_count                created_at  \\\n",
       "1334917683372912640              0               1 2020-12-04 17:49:11+00:00   \n",
       "1204495248187019264              1               3 2019-12-10 20:17:00+00:00   \n",
       "1179432824505393152              2               1 2019-10-02 16:27:52+00:00   \n",
       "1080491425458925568              0               2 2019-01-02 15:50:05+00:00   \n",
       "1079778433813467136              0               2 2018-12-31 16:36:54+00:00   \n",
       "\n",
       "                     media_count media_types  \n",
       "1334917683372912640            0        none  \n",
       "1204495248187019264            0        none  \n",
       "1179432824505393152            0        none  \n",
       "1080491425458925568            0        none  \n",
       "1079778433813467136            0        none  "
      ]
     },
     "execution_count": 73,
     "metadata": {},
     "output_type": "execute_result"
    }
   ],
   "source": [
    "ll_df.head()"
   ]
  },
  {
   "cell_type": "code",
   "execution_count": 67,
   "metadata": {},
   "outputs": [
    {
     "data": {
      "image/png": "[encoded data removed]",
      "text/plain": [
       "<Figure size 432x288 with 1 Axes>"
      ]
     },
     "metadata": {
      "needs_background": "light"
     },
     "output_type": "display_data"
    }
   ],
   "source": [
    "sns.violinplot(data=ll_df[['retweet_count', 'favorite_count']],)\n",
    "plt.show()"
   ]
  },
  {
   "cell_type": "markdown",
   "metadata": {},
   "source": [
    "#### add tweet text to the same df, so the data is all stored in one place"
   ]
  },
  {
   "cell_type": "code",
   "execution_count": 85,
   "metadata": {},
   "outputs": [
    {
     "data": {
      "text/html": [
       "<div>\n",
       "<style scoped>\n",
       "    .dataframe tbody tr th:only-of-type {\n",
       "        vertical-align: middle;\n",
       "    }\n",
       "\n",
       "    .dataframe tbody tr th {\n",
       "        vertical-align: top;\n",
       "    }\n",
       "\n",
       "    .dataframe thead th {\n",
       "        text-align: right;\n",
       "    }\n",
       "</style>\n",
       "<table border=\"1\" class=\"dataframe\">\n",
       "  <thead>\n",
       "    <tr style=\"text-align: right;\">\n",
       "      <th></th>\n",
       "      <th>text</th>\n",
       "    </tr>\n",
       "  </thead>\n",
       "  <tbody>\n",
       "    <tr>\n",
       "      <th>1334917683372912640</th>\n",
       "      <td>In order to achieve health for all, we need to...</td>\n",
       "    </tr>\n",
       "    <tr>\n",
       "      <th>1204495248187019264</th>\n",
       "      <td>65,000 people in WA are living with hepatitis ...</td>\n",
       "    </tr>\n",
       "    <tr>\n",
       "      <th>1179432824505393152</th>\n",
       "      <td>Chronic Disease Management Undermined by Surpr...</td>\n",
       "    </tr>\n",
       "    <tr>\n",
       "      <th>1080491425458925568</th>\n",
       "      <td>What are your New Year's resolutions? If you a...</td>\n",
       "    </tr>\n",
       "    <tr>\n",
       "      <th>1079778433813467136</th>\n",
       "      <td>In 2019, we will serve 20,000 more meals than ...</td>\n",
       "    </tr>\n",
       "  </tbody>\n",
       "</table>\n",
       "</div>"
      ],
      "text/plain": [
       "                                                                  text\n",
       "1334917683372912640  In order to achieve health for all, we need to...\n",
       "1204495248187019264  65,000 people in WA are living with hepatitis ...\n",
       "1179432824505393152  Chronic Disease Management Undermined by Surpr...\n",
       "1080491425458925568  What are your New Year's resolutions? If you a...\n",
       "1079778433813467136  In 2019, we will serve 20,000 more meals than ..."
      ]
     },
     "execution_count": 85,
     "metadata": {},
     "output_type": "execute_result"
    }
   ],
   "source": [
    "keepers = ['text']\n",
    "\n",
    "text_df = dst.json_to_df(tf, keepers, return_dict=False)\n",
    "text_df.head()"
   ]
  },
  {
   "cell_type": "code",
   "execution_count": 92,
   "metadata": {},
   "outputs": [],
   "source": [
    "text_df = text_df.convert_dtypes()"
   ]
  },
  {
   "cell_type": "code",
   "execution_count": 94,
   "metadata": {
    "scrolled": true
   },
   "outputs": [],
   "source": [
    "ll_df = pd.concat([ll_df, text_df], axis=1)"
   ]
  },
  {
   "cell_type": "code",
   "execution_count": 95,
   "metadata": {},
   "outputs": [
    {
     "data": {
      "text/html": [
       "<div>\n",
       "<style scoped>\n",
       "    .dataframe tbody tr th:only-of-type {\n",
       "        vertical-align: middle;\n",
       "    }\n",
       "\n",
       "    .dataframe tbody tr th {\n",
       "        vertical-align: top;\n",
       "    }\n",
       "\n",
       "    .dataframe thead th {\n",
       "        text-align: right;\n",
       "    }\n",
       "</style>\n",
       "<table border=\"1\" class=\"dataframe\">\n",
       "  <thead>\n",
       "    <tr style=\"text-align: right;\">\n",
       "      <th></th>\n",
       "      <th>retweet_count</th>\n",
       "      <th>favorite_count</th>\n",
       "      <th>created_at</th>\n",
       "      <th>media_count</th>\n",
       "      <th>media_types</th>\n",
       "      <th>text</th>\n",
       "    </tr>\n",
       "  </thead>\n",
       "  <tbody>\n",
       "    <tr>\n",
       "      <th>1334917683372912640</th>\n",
       "      <td>0</td>\n",
       "      <td>1</td>\n",
       "      <td>2020-12-04 17:49:11+00:00</td>\n",
       "      <td>0</td>\n",
       "      <td>none</td>\n",
       "      <td>In order to achieve health for all, we need to...</td>\n",
       "    </tr>\n",
       "    <tr>\n",
       "      <th>1204495248187019264</th>\n",
       "      <td>1</td>\n",
       "      <td>3</td>\n",
       "      <td>2019-12-10 20:17:00+00:00</td>\n",
       "      <td>0</td>\n",
       "      <td>none</td>\n",
       "      <td>65,000 people in WA are living with hepatitis ...</td>\n",
       "    </tr>\n",
       "    <tr>\n",
       "      <th>1179432824505393152</th>\n",
       "      <td>2</td>\n",
       "      <td>1</td>\n",
       "      <td>2019-10-02 16:27:52+00:00</td>\n",
       "      <td>0</td>\n",
       "      <td>none</td>\n",
       "      <td>Chronic Disease Management Undermined by Surpr...</td>\n",
       "    </tr>\n",
       "    <tr>\n",
       "      <th>1080491425458925568</th>\n",
       "      <td>0</td>\n",
       "      <td>2</td>\n",
       "      <td>2019-01-02 15:50:05+00:00</td>\n",
       "      <td>0</td>\n",
       "      <td>none</td>\n",
       "      <td>What are your New Year's resolutions? If you a...</td>\n",
       "    </tr>\n",
       "    <tr>\n",
       "      <th>1079778433813467136</th>\n",
       "      <td>0</td>\n",
       "      <td>2</td>\n",
       "      <td>2018-12-31 16:36:54+00:00</td>\n",
       "      <td>0</td>\n",
       "      <td>none</td>\n",
       "      <td>In 2019, we will serve 20,000 more meals than ...</td>\n",
       "    </tr>\n",
       "  </tbody>\n",
       "</table>\n",
       "</div>"
      ],
      "text/plain": [
       "                     retweet_count  favorite_count                created_at  \\\n",
       "1334917683372912640              0               1 2020-12-04 17:49:11+00:00   \n",
       "1204495248187019264              1               3 2019-12-10 20:17:00+00:00   \n",
       "1179432824505393152              2               1 2019-10-02 16:27:52+00:00   \n",
       "1080491425458925568              0               2 2019-01-02 15:50:05+00:00   \n",
       "1079778433813467136              0               2 2018-12-31 16:36:54+00:00   \n",
       "\n",
       "                     media_count media_types  \\\n",
       "1334917683372912640            0        none   \n",
       "1204495248187019264            0        none   \n",
       "1179432824505393152            0        none   \n",
       "1080491425458925568            0        none   \n",
       "1079778433813467136            0        none   \n",
       "\n",
       "                                                                  text  \n",
       "1334917683372912640  In order to achieve health for all, we need to...  \n",
       "1204495248187019264  65,000 people in WA are living with hepatitis ...  \n",
       "1179432824505393152  Chronic Disease Management Undermined by Surpr...  \n",
       "1080491425458925568  What are your New Year's resolutions? If you a...  \n",
       "1079778433813467136  In 2019, we will serve 20,000 more meals than ...  "
      ]
     },
     "execution_count": 95,
     "metadata": {},
     "output_type": "execute_result"
    }
   ],
   "source": [
    "ll_df.head()"
   ]
  },
  {
   "cell_type": "code",
   "execution_count": 96,
   "metadata": {},
   "outputs": [
    {
     "name": "stdout",
     "output_type": "stream",
     "text": [
      "<class 'pandas.core.frame.DataFrame'>\n",
      "Int64Index: 499 entries, 1334917683372912640 to 593899000291549184\n",
      "Data columns (total 6 columns):\n",
      " #   Column          Non-Null Count  Dtype              \n",
      "---  ------          --------------  -----              \n",
      " 0   retweet_count   499 non-null    Int64              \n",
      " 1   favorite_count  499 non-null    Int64              \n",
      " 2   created_at      499 non-null    datetime64[ns, UTC]\n",
      " 3   media_count     499 non-null    int64              \n",
      " 4   media_types     499 non-null    object             \n",
      " 5   text            499 non-null    string             \n",
      "dtypes: Int64(2), datetime64[ns, UTC](1), int64(1), object(1), string(1)\n",
      "memory usage: 28.3+ KB\n"
     ]
    }
   ],
   "source": [
    "ll_df.info()"
   ]
  },
  {
   "cell_type": "markdown",
   "metadata": {},
   "source": [
    "The media_types column is still an object, and it's a bit messy as it's a combination of strings and lists, but it's more convenient to keep it this way, as it will only be accessed by filtering on the media_count column, anyway."
   ]
  },
  {
   "cell_type": "code",
   "execution_count": null,
   "metadata": {},
   "outputs": [],
   "source": []
  },
  {
   "cell_type": "code",
   "execution_count": 97,
   "metadata": {},
   "outputs": [],
   "source": [
    "#save the dataframe as a pickle file to be loaded into other notebooks\n",
    "pd.to_pickle(ll_df, os.path.join(data.__path__[0], \"compiled\", \"ll_tweets.pkl\"))"
   ]
  },
  {
   "cell_type": "code",
   "execution_count": null,
   "metadata": {},
   "outputs": [],
   "source": []
  },
  {
   "cell_type": "code",
   "execution_count": null,
   "metadata": {},
   "outputs": [],
   "source": []
  }
 ],
 "metadata": {
  "kernelspec": {
   "display_name": "capstone2",
   "language": "python",
   "name": "capstone2"
  },
  "language_info": {
   "codemirror_mode": {
    "name": "ipython",
    "version": 3
   },
   "file_extension": ".py",
   "mimetype": "text/x-python",
   "name": "python",
   "nbconvert_exporter": "python",
   "pygments_lexer": "ipython3",
   "version": "3.8.5"
  }
 },
 "nbformat": 4,
 "nbformat_minor": 4
}

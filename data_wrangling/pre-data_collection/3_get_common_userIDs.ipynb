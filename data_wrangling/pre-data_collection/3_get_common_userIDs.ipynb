{
 "cells": [
  {
   "cell_type": "markdown",
   "metadata": {},
   "source": [
    "From these 2000 tweets found in a generic search, I looked at the most frequently appearing user IDs on the assumption that these were people who were in some way or another connected with the HIV/AIDS Twitter community, and therefore would be most in touch with the important keywords, hashtags, etc. I collected the on-topic tweets from these users for my keyword-findig corpus."
   ]
  },
  {
   "cell_type": "markdown",
   "metadata": {},
   "source": [
    "#### import the things"
   ]
  },
  {
   "cell_type": "code",
   "execution_count": 4,
   "metadata": {},
   "outputs": [],
   "source": [
    "from datetime import datetime\n",
    "import pandas as pd\n",
    "import json\n",
    "import os\n",
    "import numpy as np\n",
    "import glob2\n",
    "from collections import Counter\n",
    "\n",
    "import data"
   ]
  },
  {
   "cell_type": "code",
   "execution_count": 3,
   "metadata": {},
   "outputs": [],
   "source": [
    "root_dir = os.path.join(data.__path__[0], \"raw\")"
   ]
  },
  {
   "cell_type": "code",
   "execution_count": null,
   "metadata": {},
   "outputs": [],
   "source": []
  },
  {
   "cell_type": "markdown",
   "metadata": {},
   "source": [
    "#### import jsons and extract data from tweets from step 1"
   ]
  },
  {
   "cell_type": "code",
   "execution_count": 6,
   "metadata": {},
   "outputs": [],
   "source": [
    "json_files = glob2.glob(os.path.join(root_dir, '*30day*'))"
   ]
  },
  {
   "cell_type": "code",
   "execution_count": 13,
   "metadata": {},
   "outputs": [],
   "source": [
    "jsons = []\n",
    "for file in json_files:\n",
    "    with open(file) as f:\n",
    "        j = json.load(f)\n",
    "        jsons.append(j)"
   ]
  },
  {
   "cell_type": "code",
   "execution_count": 18,
   "metadata": {},
   "outputs": [
    {
     "name": "stdout",
     "output_type": "stream",
     "text": [
      "501\n",
      "501\n",
      "501\n",
      "501\n"
     ]
    }
   ],
   "source": [
    "for j in jsons:\n",
    "    print(len(j))"
   ]
  },
  {
   "cell_type": "code",
   "execution_count": 21,
   "metadata": {},
   "outputs": [],
   "source": [
    "\n",
    "users_30day_dict = {}\n",
    "k = 0\n",
    "for n, jd in enumerate(jsons):\n",
    "    for key in jd.keys():\n",
    "        temp = {}\n",
    "        if 'query' not in key:\n",
    "            temp['user_id'] = jd[key]['user']['id']\n",
    "            temp['follower_count'] = jd[key]['user']['followers_count']\n",
    "            temp['verified'] = jd[key]['user']['verified']\n",
    "            temp['num_tweets'] = jd[key]['user']['statuses_count']\n",
    "            users_30day_dict[k] = temp\n",
    "            k += 1"
   ]
  },
  {
   "cell_type": "code",
   "execution_count": 22,
   "metadata": {},
   "outputs": [
    {
     "data": {
      "text/plain": [
       "2000"
      ]
     },
     "execution_count": 22,
     "metadata": {},
     "output_type": "execute_result"
    }
   ],
   "source": [
    "len(users_30day_dict)"
   ]
  },
  {
   "cell_type": "markdown",
   "metadata": {},
   "source": [
    "#### create data frame with some general user data"
   ]
  },
  {
   "cell_type": "code",
   "execution_count": 23,
   "metadata": {},
   "outputs": [
    {
     "data": {
      "text/html": [
       "<div>\n",
       "<style scoped>\n",
       "    .dataframe tbody tr th:only-of-type {\n",
       "        vertical-align: middle;\n",
       "    }\n",
       "\n",
       "    .dataframe tbody tr th {\n",
       "        vertical-align: top;\n",
       "    }\n",
       "\n",
       "    .dataframe thead th {\n",
       "        text-align: right;\n",
       "    }\n",
       "</style>\n",
       "<table border=\"1\" class=\"dataframe\">\n",
       "  <thead>\n",
       "    <tr style=\"text-align: right;\">\n",
       "      <th></th>\n",
       "      <th>user_id</th>\n",
       "      <th>follower_count</th>\n",
       "      <th>verified</th>\n",
       "      <th>num_tweets</th>\n",
       "    </tr>\n",
       "  </thead>\n",
       "  <tbody>\n",
       "    <tr>\n",
       "      <th>0</th>\n",
       "      <td>604651118</td>\n",
       "      <td>740</td>\n",
       "      <td>False</td>\n",
       "      <td>26077</td>\n",
       "    </tr>\n",
       "    <tr>\n",
       "      <th>1</th>\n",
       "      <td>1028001153517268994</td>\n",
       "      <td>1113</td>\n",
       "      <td>False</td>\n",
       "      <td>1909</td>\n",
       "    </tr>\n",
       "    <tr>\n",
       "      <th>2</th>\n",
       "      <td>1086461753599262720</td>\n",
       "      <td>344</td>\n",
       "      <td>False</td>\n",
       "      <td>935</td>\n",
       "    </tr>\n",
       "    <tr>\n",
       "      <th>3</th>\n",
       "      <td>2651353567</td>\n",
       "      <td>443</td>\n",
       "      <td>False</td>\n",
       "      <td>318</td>\n",
       "    </tr>\n",
       "    <tr>\n",
       "      <th>4</th>\n",
       "      <td>216750349</td>\n",
       "      <td>5323</td>\n",
       "      <td>False</td>\n",
       "      <td>427794</td>\n",
       "    </tr>\n",
       "  </tbody>\n",
       "</table>\n",
       "</div>"
      ],
      "text/plain": [
       "               user_id follower_count verified num_tweets\n",
       "0            604651118            740    False      26077\n",
       "1  1028001153517268994           1113    False       1909\n",
       "2  1086461753599262720            344    False        935\n",
       "3           2651353567            443    False        318\n",
       "4            216750349           5323    False     427794"
      ]
     },
     "execution_count": 23,
     "metadata": {},
     "output_type": "execute_result"
    }
   ],
   "source": [
    "user_30day_df = pd.DataFrame.from_dict(users_30day_dict).T\n",
    "user_30day_df.head()"
   ]
  },
  {
   "cell_type": "code",
   "execution_count": 24,
   "metadata": {},
   "outputs": [],
   "source": [
    "user_30day_df['follower_count'] = user_30day_df['follower_count'].astype(int, errors='ignore')\n",
    "user_30day_df['verified'] = user_30day_df['verified'].astype(bool, errors='ignore')\n",
    "user_30day_df['num_tweets'] = user_30day_df['num_tweets'].astype(int, errors='ignore')"
   ]
  },
  {
   "cell_type": "code",
   "execution_count": 25,
   "metadata": {},
   "outputs": [
    {
     "name": "stdout",
     "output_type": "stream",
     "text": [
      "<class 'pandas.core.frame.DataFrame'>\n",
      "Int64Index: 2000 entries, 0 to 1999\n",
      "Data columns (total 4 columns):\n",
      " #   Column          Non-Null Count  Dtype \n",
      "---  ------          --------------  ----- \n",
      " 0   user_id         2000 non-null   object\n",
      " 1   follower_count  2000 non-null   int32 \n",
      " 2   verified        2000 non-null   bool  \n",
      " 3   num_tweets      2000 non-null   int32 \n",
      "dtypes: bool(1), int32(2), object(1)\n",
      "memory usage: 48.8+ KB\n"
     ]
    }
   ],
   "source": [
    "user_30day_df.info()"
   ]
  },
  {
   "cell_type": "markdown",
   "metadata": {},
   "source": [
    "#### extract the frequent posters"
   ]
  },
  {
   "cell_type": "code",
   "execution_count": 35,
   "metadata": {},
   "outputs": [
    {
     "data": {
      "text/plain": [
       "1055712964039168002    31\n",
       "116559291              27\n",
       "355696940              17\n",
       "263981499              16\n",
       "1372554174             14\n",
       "1057379674022727680    13\n",
       "715280940675817472     13\n",
       "28794698               12\n",
       "1346984867356172292    12\n",
       "16638543               12\n",
       "1169994069940080641    11\n",
       "35814608               10\n",
       "39020280               10\n",
       "931657800              10\n",
       "1258092054510555136    10\n",
       "148477475              10\n",
       "1010757472238342145     8\n",
       "125752710               8\n",
       "171923367               8\n",
       "25105436                8\n",
       "Name: user_id, dtype: int64"
      ]
     },
     "execution_count": 35,
     "metadata": {},
     "output_type": "execute_result"
    }
   ],
   "source": [
    "user_counts = user_30day_df['user_id'].value_counts()\n",
    "user_counts[:20]"
   ]
  },
  {
   "cell_type": "code",
   "execution_count": 60,
   "metadata": {},
   "outputs": [
    {
     "data": {
      "text/plain": [
       "['1055712964039168002',\n",
       " '116559291',\n",
       " '355696940',\n",
       " '263981499',\n",
       " '1372554174',\n",
       " '1057379674022727680',\n",
       " '715280940675817472',\n",
       " '28794698',\n",
       " '1346984867356172292',\n",
       " '16638543',\n",
       " '1169994069940080641',\n",
       " '35814608',\n",
       " '39020280',\n",
       " '931657800',\n",
       " '1258092054510555136',\n",
       " '148477475']"
      ]
     },
     "execution_count": 60,
     "metadata": {},
     "output_type": "execute_result"
    }
   ],
   "source": [
    "high_posters = list(user_counts.iloc[np.where(user_counts >=10)].index)\n",
    "high_posters = [str(hp) for hp in high_posters]\n",
    "high_posters"
   ]
  },
  {
   "cell_type": "markdown",
   "metadata": {},
   "source": [
    "#### extract the tweets made by the high posters & clean up the data a bit"
   ]
  },
  {
   "cell_type": "code",
   "execution_count": 72,
   "metadata": {},
   "outputs": [],
   "source": [
    "tweets_30day_dict = {}\n",
    "k = 0\n",
    "for n, jd in enumerate(jsons):\n",
    "    for key in jd.keys():\n",
    "        temp = {}\n",
    "        if 'query' not in key:\n",
    "            if (str(jd[key]['user']['id']) in high_posters)==True:\n",
    "                temp['user_id'] = jd[key]['user']['id']\n",
    "                temp['tweet'] = jd[key]['text']\n",
    "                temp['tweet_id'] = jd[key]['id']\n",
    "                tweets_30day_dict[k] = temp\n",
    "                k += 1"
   ]
  },
  {
   "cell_type": "code",
   "execution_count": 78,
   "metadata": {},
   "outputs": [
    {
     "data": {
      "text/plain": [
       "228"
      ]
     },
     "execution_count": 78,
     "metadata": {},
     "output_type": "execute_result"
    }
   ],
   "source": [
    "user_counts.iloc[np.where(user_counts >=10)].sum()"
   ]
  },
  {
   "cell_type": "code",
   "execution_count": 79,
   "metadata": {},
   "outputs": [
    {
     "data": {
      "text/plain": [
       "228"
      ]
     },
     "execution_count": 79,
     "metadata": {},
     "output_type": "execute_result"
    }
   ],
   "source": [
    "len(tweets_30day_dict.keys())"
   ]
  },
  {
   "cell_type": "code",
   "execution_count": 81,
   "metadata": {},
   "outputs": [
    {
     "data": {
      "text/html": [
       "<div>\n",
       "<style scoped>\n",
       "    .dataframe tbody tr th:only-of-type {\n",
       "        vertical-align: middle;\n",
       "    }\n",
       "\n",
       "    .dataframe tbody tr th {\n",
       "        vertical-align: top;\n",
       "    }\n",
       "\n",
       "    .dataframe thead th {\n",
       "        text-align: right;\n",
       "    }\n",
       "</style>\n",
       "<table border=\"1\" class=\"dataframe\">\n",
       "  <thead>\n",
       "    <tr style=\"text-align: right;\">\n",
       "      <th></th>\n",
       "      <th>user_id</th>\n",
       "      <th>tweet</th>\n",
       "      <th>tweet_id</th>\n",
       "    </tr>\n",
       "  </thead>\n",
       "  <tbody>\n",
       "    <tr>\n",
       "      <th>0</th>\n",
       "      <td>715280940675817472</td>\n",
       "      <td>RT @BATLabUNC: #DYK that #theSouth accounts fo...</td>\n",
       "      <td>1360007586179915787</td>\n",
       "    </tr>\n",
       "    <tr>\n",
       "      <th>1</th>\n",
       "      <td>931657800</td>\n",
       "      <td>RT @QueerCultureIre: If you enjoyed our #LGBTH...</td>\n",
       "      <td>1359993487689719810</td>\n",
       "    </tr>\n",
       "    <tr>\n",
       "      <th>2</th>\n",
       "      <td>715280940675817472</td>\n",
       "      <td>RT @CDC_HIVAIDS: CDC's updated fact sheet summ...</td>\n",
       "      <td>1359991518803730435</td>\n",
       "    </tr>\n",
       "    <tr>\n",
       "      <th>3</th>\n",
       "      <td>1372554174</td>\n",
       "      <td>RT @achievetgthrtx: With #Valentines right aro...</td>\n",
       "      <td>1359989178440822785</td>\n",
       "    </tr>\n",
       "    <tr>\n",
       "      <th>4</th>\n",
       "      <td>1055712964039168002</td>\n",
       "      <td>Meth Overdose Deaths Rise Rapidly Across All R...</td>\n",
       "      <td>1359985644416753669</td>\n",
       "    </tr>\n",
       "  </tbody>\n",
       "</table>\n",
       "</div>"
      ],
      "text/plain": [
       "               user_id                                              tweet  \\\n",
       "0   715280940675817472  RT @BATLabUNC: #DYK that #theSouth accounts fo...   \n",
       "1            931657800  RT @QueerCultureIre: If you enjoyed our #LGBTH...   \n",
       "2   715280940675817472  RT @CDC_HIVAIDS: CDC's updated fact sheet summ...   \n",
       "3           1372554174  RT @achievetgthrtx: With #Valentines right aro...   \n",
       "4  1055712964039168002  Meth Overdose Deaths Rise Rapidly Across All R...   \n",
       "\n",
       "              tweet_id  \n",
       "0  1360007586179915787  \n",
       "1  1359993487689719810  \n",
       "2  1359991518803730435  \n",
       "3  1359989178440822785  \n",
       "4  1359985644416753669  "
      ]
     },
     "execution_count": 81,
     "metadata": {},
     "output_type": "execute_result"
    }
   ],
   "source": [
    "tweets_30day_df = pd.DataFrame(tweets_30day_dict).T\n",
    "tweets_30day_df.head()"
   ]
  },
  {
   "cell_type": "code",
   "execution_count": 85,
   "metadata": {},
   "outputs": [
    {
     "name": "stdout",
     "output_type": "stream",
     "text": [
      "<class 'pandas.core.frame.DataFrame'>\n",
      "Int64Index: 228 entries, 0 to 227\n",
      "Data columns (total 3 columns):\n",
      " #   Column    Non-Null Count  Dtype \n",
      "---  ------    --------------  ----- \n",
      " 0   user_id   228 non-null    object\n",
      " 1   tweet     228 non-null    object\n",
      " 2   tweet_id  228 non-null    object\n",
      "dtypes: object(3)\n",
      "memory usage: 7.1+ KB\n"
     ]
    }
   ],
   "source": [
    "tweets_30day_df.info()"
   ]
  },
  {
   "cell_type": "code",
   "execution_count": 83,
   "metadata": {},
   "outputs": [
    {
     "data": {
      "text/plain": [
       "152"
      ]
     },
     "execution_count": 83,
     "metadata": {},
     "output_type": "execute_result"
    }
   ],
   "source": [
    "len(tweets_30day_df.tweet_id.unique())"
   ]
  },
  {
   "cell_type": "code",
   "execution_count": 91,
   "metadata": {},
   "outputs": [
    {
     "data": {
      "text/html": [
       "<div>\n",
       "<style scoped>\n",
       "    .dataframe tbody tr th:only-of-type {\n",
       "        vertical-align: middle;\n",
       "    }\n",
       "\n",
       "    .dataframe tbody tr th {\n",
       "        vertical-align: top;\n",
       "    }\n",
       "\n",
       "    .dataframe thead th {\n",
       "        text-align: right;\n",
       "    }\n",
       "</style>\n",
       "<table border=\"1\" class=\"dataframe\">\n",
       "  <thead>\n",
       "    <tr style=\"text-align: right;\">\n",
       "      <th></th>\n",
       "      <th>user_id</th>\n",
       "      <th>tweet</th>\n",
       "      <th>tweet_id</th>\n",
       "    </tr>\n",
       "  </thead>\n",
       "  <tbody>\n",
       "    <tr>\n",
       "      <th>116</th>\n",
       "      <td>1055712964039168002</td>\n",
       "      <td>Uganda: Ugandan Wins International Award in HI...</td>\n",
       "      <td>1359555239586779138</td>\n",
       "    </tr>\n",
       "    <tr>\n",
       "      <th>192</th>\n",
       "      <td>1055712964039168002</td>\n",
       "      <td>Uganda: Ugandan Wins International Award in HI...</td>\n",
       "      <td>1359555239586779138</td>\n",
       "    </tr>\n",
       "    <tr>\n",
       "      <th>191</th>\n",
       "      <td>1055712964039168002</td>\n",
       "      <td>Cone-shaped HIV-1 capsids are transported thro...</td>\n",
       "      <td>1359562781960372226</td>\n",
       "    </tr>\n",
       "    <tr>\n",
       "      <th>115</th>\n",
       "      <td>1055712964039168002</td>\n",
       "      <td>Cone-shaped HIV-1 capsids are transported thro...</td>\n",
       "      <td>1359562781960372226</td>\n",
       "    </tr>\n",
       "    <tr>\n",
       "      <th>114</th>\n",
       "      <td>1258092054510555136</td>\n",
       "      <td>Learning  you’re living with #HIV can be overw...</td>\n",
       "      <td>1359564036115816449</td>\n",
       "    </tr>\n",
       "    <tr>\n",
       "      <th>...</th>\n",
       "      <td>...</td>\n",
       "      <td>...</td>\n",
       "      <td>...</td>\n",
       "    </tr>\n",
       "    <tr>\n",
       "      <th>119</th>\n",
       "      <td>39020280</td>\n",
       "      <td>RT @TakuMukiwa: Follow @LuckmorePamhid1 for a ...</td>\n",
       "      <td>1359627688160489484</td>\n",
       "    </tr>\n",
       "    <tr>\n",
       "      <th>42</th>\n",
       "      <td>39020280</td>\n",
       "      <td>🤣OMG so much about this is funny. Thank you fa...</td>\n",
       "      <td>1359628911542489089</td>\n",
       "    </tr>\n",
       "    <tr>\n",
       "      <th>118</th>\n",
       "      <td>39020280</td>\n",
       "      <td>🤣OMG so much about this is funny. Thank you fa...</td>\n",
       "      <td>1359628911542489089</td>\n",
       "    </tr>\n",
       "    <tr>\n",
       "      <th>117</th>\n",
       "      <td>1346984867356172292</td>\n",
       "      <td>@MassDPH #DisabilityHasNoAgeRequirement \\nBunc...</td>\n",
       "      <td>1359643355374845954</td>\n",
       "    </tr>\n",
       "    <tr>\n",
       "      <th>41</th>\n",
       "      <td>1346984867356172292</td>\n",
       "      <td>@MassDPH #DisabilityHasNoAgeRequirement \\nBunc...</td>\n",
       "      <td>1359643355374845954</td>\n",
       "    </tr>\n",
       "  </tbody>\n",
       "</table>\n",
       "<p>152 rows × 3 columns</p>\n",
       "</div>"
      ],
      "text/plain": [
       "                 user_id                                              tweet  \\\n",
       "116  1055712964039168002  Uganda: Ugandan Wins International Award in HI...   \n",
       "192  1055712964039168002  Uganda: Ugandan Wins International Award in HI...   \n",
       "191  1055712964039168002  Cone-shaped HIV-1 capsids are transported thro...   \n",
       "115  1055712964039168002  Cone-shaped HIV-1 capsids are transported thro...   \n",
       "114  1258092054510555136  Learning  you’re living with #HIV can be overw...   \n",
       "..                   ...                                                ...   \n",
       "119             39020280  RT @TakuMukiwa: Follow @LuckmorePamhid1 for a ...   \n",
       "42              39020280  🤣OMG so much about this is funny. Thank you fa...   \n",
       "118             39020280  🤣OMG so much about this is funny. Thank you fa...   \n",
       "117  1346984867356172292  @MassDPH #DisabilityHasNoAgeRequirement \\nBunc...   \n",
       "41   1346984867356172292  @MassDPH #DisabilityHasNoAgeRequirement \\nBunc...   \n",
       "\n",
       "                tweet_id  \n",
       "116  1359555239586779138  \n",
       "192  1359555239586779138  \n",
       "191  1359562781960372226  \n",
       "115  1359562781960372226  \n",
       "114  1359564036115816449  \n",
       "..                   ...  \n",
       "119  1359627688160489484  \n",
       "42   1359628911542489089  \n",
       "118  1359628911542489089  \n",
       "117  1359643355374845954  \n",
       "41   1359643355374845954  \n",
       "\n",
       "[152 rows x 3 columns]"
      ]
     },
     "execution_count": 91,
     "metadata": {},
     "output_type": "execute_result"
    }
   ],
   "source": [
    "tweets_30day_df[tweets_30day_df.duplicated(subset='tweet_id', keep=False)==True].sort_values('tweet_id')"
   ]
  },
  {
   "cell_type": "code",
   "execution_count": 92,
   "metadata": {},
   "outputs": [],
   "source": [
    "tweets_30day_df.drop_duplicates(subset=['tweet_id', 'tweet'], keep='first', inplace=True, ignore_index=False)"
   ]
  },
  {
   "cell_type": "code",
   "execution_count": 95,
   "metadata": {},
   "outputs": [
    {
     "data": {
      "text/html": [
       "<div>\n",
       "<style scoped>\n",
       "    .dataframe tbody tr th:only-of-type {\n",
       "        vertical-align: middle;\n",
       "    }\n",
       "\n",
       "    .dataframe tbody tr th {\n",
       "        vertical-align: top;\n",
       "    }\n",
       "\n",
       "    .dataframe thead th {\n",
       "        text-align: right;\n",
       "    }\n",
       "</style>\n",
       "<table border=\"1\" class=\"dataframe\">\n",
       "  <thead>\n",
       "    <tr style=\"text-align: right;\">\n",
       "      <th></th>\n",
       "      <th>user_id</th>\n",
       "      <th>tweet</th>\n",
       "      <th>tweet_id</th>\n",
       "    </tr>\n",
       "  </thead>\n",
       "  <tbody>\n",
       "  </tbody>\n",
       "</table>\n",
       "</div>"
      ],
      "text/plain": [
       "Empty DataFrame\n",
       "Columns: [user_id, tweet, tweet_id]\n",
       "Index: []"
      ]
     },
     "execution_count": 95,
     "metadata": {},
     "output_type": "execute_result"
    }
   ],
   "source": [
    "tweets_30day_df[tweets_30day_df.duplicated(subset='tweet_id', keep=False)==True]"
   ]
  },
  {
   "cell_type": "code",
   "execution_count": 97,
   "metadata": {},
   "outputs": [
    {
     "data": {
      "text/html": [
       "<div>\n",
       "<style scoped>\n",
       "    .dataframe tbody tr th:only-of-type {\n",
       "        vertical-align: middle;\n",
       "    }\n",
       "\n",
       "    .dataframe tbody tr th {\n",
       "        vertical-align: top;\n",
       "    }\n",
       "\n",
       "    .dataframe thead th {\n",
       "        text-align: right;\n",
       "    }\n",
       "</style>\n",
       "<table border=\"1\" class=\"dataframe\">\n",
       "  <thead>\n",
       "    <tr style=\"text-align: right;\">\n",
       "      <th></th>\n",
       "      <th>user_id</th>\n",
       "      <th>tweet</th>\n",
       "      <th>tweet_id</th>\n",
       "    </tr>\n",
       "  </thead>\n",
       "  <tbody>\n",
       "    <tr>\n",
       "      <th>103</th>\n",
       "      <td>16638543</td>\n",
       "      <td>RT @TheGraceProjec2: Did you know in 2019 Blac...</td>\n",
       "      <td>1359578312167809037</td>\n",
       "    </tr>\n",
       "    <tr>\n",
       "      <th>51</th>\n",
       "      <td>16638543</td>\n",
       "      <td>SisterLove is planning a week of programming t...</td>\n",
       "      <td>1359615589917032454</td>\n",
       "    </tr>\n",
       "    <tr>\n",
       "      <th>52</th>\n",
       "      <td>16638543</td>\n",
       "      <td>Black #Trans Women are Women! We must recogniz...</td>\n",
       "      <td>1359614991742164992</td>\n",
       "    </tr>\n",
       "    <tr>\n",
       "      <th>54</th>\n",
       "      <td>16638543</td>\n",
       "      <td>We must recognize the communities we serve not...</td>\n",
       "      <td>1359613245041102853</td>\n",
       "    </tr>\n",
       "    <tr>\n",
       "      <th>98</th>\n",
       "      <td>16638543</td>\n",
       "      <td>RT @SisterSong_WOC: A2) We #CelebrateBlackWome...</td>\n",
       "      <td>1359580156277448713</td>\n",
       "    </tr>\n",
       "    <tr>\n",
       "      <th>...</th>\n",
       "      <td>...</td>\n",
       "      <td>...</td>\n",
       "      <td>...</td>\n",
       "    </tr>\n",
       "    <tr>\n",
       "      <th>92</th>\n",
       "      <td>1346984867356172292</td>\n",
       "      <td>RT @LupieLady08: @MassGov #VaccinateTheMostVul...</td>\n",
       "      <td>1359581561566412810</td>\n",
       "    </tr>\n",
       "    <tr>\n",
       "      <th>91</th>\n",
       "      <td>1346984867356172292</td>\n",
       "      <td>@MassGovernor VaccinateTheMostVulnerable \\n#Va...</td>\n",
       "      <td>1359581974264963083</td>\n",
       "    </tr>\n",
       "    <tr>\n",
       "      <th>89</th>\n",
       "      <td>1346984867356172292</td>\n",
       "      <td>@bostonherald Yet the sickest in this dumpster...</td>\n",
       "      <td>1359582886211551232</td>\n",
       "    </tr>\n",
       "    <tr>\n",
       "      <th>84</th>\n",
       "      <td>1346984867356172292</td>\n",
       "      <td>@MassGovernor You’ve COMPLETELY IGNORED THE #D...</td>\n",
       "      <td>1359584625807523853</td>\n",
       "    </tr>\n",
       "    <tr>\n",
       "      <th>41</th>\n",
       "      <td>1346984867356172292</td>\n",
       "      <td>@MassDPH #DisabilityHasNoAgeRequirement \\nBunc...</td>\n",
       "      <td>1359643355374845954</td>\n",
       "    </tr>\n",
       "  </tbody>\n",
       "</table>\n",
       "<p>152 rows × 3 columns</p>\n",
       "</div>"
      ],
      "text/plain": [
       "                 user_id                                              tweet  \\\n",
       "103             16638543  RT @TheGraceProjec2: Did you know in 2019 Blac...   \n",
       "51              16638543  SisterLove is planning a week of programming t...   \n",
       "52              16638543  Black #Trans Women are Women! We must recogniz...   \n",
       "54              16638543  We must recognize the communities we serve not...   \n",
       "98              16638543  RT @SisterSong_WOC: A2) We #CelebrateBlackWome...   \n",
       "..                   ...                                                ...   \n",
       "92   1346984867356172292  RT @LupieLady08: @MassGov #VaccinateTheMostVul...   \n",
       "91   1346984867356172292  @MassGovernor VaccinateTheMostVulnerable \\n#Va...   \n",
       "89   1346984867356172292  @bostonherald Yet the sickest in this dumpster...   \n",
       "84   1346984867356172292  @MassGovernor You’ve COMPLETELY IGNORED THE #D...   \n",
       "41   1346984867356172292  @MassDPH #DisabilityHasNoAgeRequirement \\nBunc...   \n",
       "\n",
       "                tweet_id  \n",
       "103  1359578312167809037  \n",
       "51   1359615589917032454  \n",
       "52   1359614991742164992  \n",
       "54   1359613245041102853  \n",
       "98   1359580156277448713  \n",
       "..                   ...  \n",
       "92   1359581561566412810  \n",
       "91   1359581974264963083  \n",
       "89   1359582886211551232  \n",
       "84   1359584625807523853  \n",
       "41   1359643355374845954  \n",
       "\n",
       "[152 rows x 3 columns]"
      ]
     },
     "execution_count": 97,
     "metadata": {},
     "output_type": "execute_result"
    }
   ],
   "source": [
    "tweets_30day_df.sort_values('user_id')"
   ]
  },
  {
   "cell_type": "markdown",
   "metadata": {},
   "source": [
    "#### extract just the text of the tweets"
   ]
  },
  {
   "cell_type": "code",
   "execution_count": 99,
   "metadata": {},
   "outputs": [],
   "source": [
    "tweets = []\n",
    "for row in tweets_30day_df.index:\n",
    "    tweets.append(tweets_30day_df.at[row, 'tweet'])"
   ]
  },
  {
   "cell_type": "code",
   "execution_count": 102,
   "metadata": {},
   "outputs": [],
   "source": [
    "tweet_file = os.path.join(root_dir, \"high_count_user_tweets.json\")\n",
    "with open(tweet_file, 'w') as f:\n",
    "    json.dump(tweets, f)"
   ]
  },
  {
   "cell_type": "code",
   "execution_count": null,
   "metadata": {},
   "outputs": [],
   "source": []
  }
 ],
 "metadata": {
  "kernelspec": {
   "display_name": "nlp",
   "language": "python",
   "name": "nlp"
  },
  "language_info": {
   "codemirror_mode": {
    "name": "ipython",
    "version": 3
   },
   "file_extension": ".py",
   "mimetype": "text/x-python",
   "name": "python",
   "nbconvert_exporter": "python",
   "pygments_lexer": "ipython3",
   "version": "3.8.5"
  }
 },
 "nbformat": 4,
 "nbformat_minor": 4
}

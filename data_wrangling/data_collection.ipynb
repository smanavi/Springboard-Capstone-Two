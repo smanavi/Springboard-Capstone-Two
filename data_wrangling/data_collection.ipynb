{
 "cells": [
  {
   "cell_type": "markdown",
   "metadata": {},
   "source": [
    "#### import the things"
   ]
  },
  {
   "cell_type": "code",
   "execution_count": 1,
   "metadata": {},
   "outputs": [],
   "source": [
    "import tweepy\n",
    "from datetime import datetime, timedelta, timezone\n",
    "import pandas as pd\n",
    "import json\n",
    "import os\n",
    "import random\n",
    "import time"
   ]
  },
  {
   "cell_type": "code",
   "execution_count": 2,
   "metadata": {
    "scrolled": true
   },
   "outputs": [],
   "source": [
    "with open(r\"..\\path.txt\") as p:\n",
    "    path = p.readlines()[0]\n",
    "import sys\n",
    "sys.path.append(path)\n",
    "\n",
    "import data_acquisition_tools as dat\n",
    "\n",
    "%load_ext autoreload\n",
    "%autoreload 2"
   ]
  },
  {
   "cell_type": "markdown",
   "metadata": {},
   "source": [
    "#### load hashtags from previous step"
   ]
  },
  {
   "cell_type": "code",
   "execution_count": 3,
   "metadata": {},
   "outputs": [],
   "source": [
    "hashtags = pd.read_pickle( r'..\\data_files\\common_hashtags.pkl')"
   ]
  },
  {
   "cell_type": "code",
   "execution_count": 4,
   "metadata": {
    "scrolled": true
   },
   "outputs": [
    {
     "data": {
      "text/plain": [
       "{'aids',\n",
       " 'disclose',\n",
       " 'endaids',\n",
       " 'endhivepidemic',\n",
       " 'endhivstigma',\n",
       " 'hiv',\n",
       " 'hivhometest',\n",
       " 'hivstigma',\n",
       " 'hivtestweek',\n",
       " 'hivtreatment',\n",
       " 'plhiv',\n",
       " 'plwhiv',\n",
       " 'prep',\n",
       " 'sciencenotstigma',\n",
       " 'uequalsu',\n",
       " 'vaccinatethemostvulnerable',\n",
       " 'vaccinatethemostvulneranle'}"
      ]
     },
     "execution_count": 4,
     "metadata": {},
     "output_type": "execute_result"
    }
   ],
   "source": [
    "hashtags"
   ]
  },
  {
   "cell_type": "code",
   "execution_count": 5,
   "metadata": {},
   "outputs": [],
   "source": [
    "#had to remove #disclose due to the recent DISCLOSE act from US congress\n",
    "#removed the last one as I didn't realize initially it's a typo\n",
    "hashtags.remove('disclose')\n",
    "hashtags.remove('vaccinatethemostvulneranle')"
   ]
  },
  {
   "cell_type": "code",
   "execution_count": 6,
   "metadata": {},
   "outputs": [
    {
     "name": "stdout",
     "output_type": "stream",
     "text": [
      "223\n",
      "(uequalsu OR hivstigma OR hivtreatment OR hivhometest OR sciencenotstigma OR #prep OR endhivepidemic OR endaids OR plwhiv OR #aids OR hiv OR vaccinatethemostvulnerable OR hivtestweek OR plhiv OR endhivstigma) -covid lang:en\n"
     ]
    }
   ],
   "source": [
    "#format the hashtags to add operators and hash symbol where necessary, as well as language filter\n",
    "#need to remove keyword covid because otherwise it dominates the results\n",
    "add_hash = [\"#{}\".format(h) if (h=='aids') or (h=='prep') else h for h in hashtags]\n",
    "add_or = \" OR \".join(add_hash)\n",
    "query = \"({}) -covid lang:en\".format(add_or)\n",
    "print(len(query))\n",
    "print(query)"
   ]
  },
  {
   "cell_type": "markdown",
   "metadata": {},
   "source": [
    "#### do a test search on the standard api (with generous rate limits) to make sure everything works"
   ]
  },
  {
   "cell_type": "code",
   "execution_count": 7,
   "metadata": {},
   "outputs": [],
   "source": [
    "fname = r'..\\data_files\\test_file.json'"
   ]
  },
  {
   "cell_type": "code",
   "execution_count": 8,
   "metadata": {
    "scrolled": false
   },
   "outputs": [],
   "source": [
    "test = dat.api_search(query, fname, n_items=500, return_dict=True)\n",
    "del test['query']"
   ]
  },
  {
   "cell_type": "code",
   "execution_count": 9,
   "metadata": {},
   "outputs": [
    {
     "data": {
      "text/plain": [
       "'Tue Apr 06 02:43:02 +0000 2021'"
      ]
     },
     "execution_count": 9,
     "metadata": {},
     "output_type": "execute_result"
    }
   ],
   "source": [
    "test[0]['created_at']"
   ]
  },
  {
   "cell_type": "code",
   "execution_count": 10,
   "metadata": {
    "scrolled": true
   },
   "outputs": [
    {
     "data": {
      "text/plain": [
       "'Tue Apr 06 01:50:37 +0000 2021'"
      ]
     },
     "execution_count": 10,
     "metadata": {},
     "output_type": "execute_result"
    }
   ],
   "source": [
    "test[499]['created_at']"
   ]
  },
  {
   "cell_type": "code",
   "execution_count": 11,
   "metadata": {},
   "outputs": [
    {
     "data": {
      "text/plain": [
       "'RT @DrMikeStanton: HIV vaccine might be right around the corner.'"
      ]
     },
     "execution_count": 11,
     "metadata": {},
     "output_type": "execute_result"
    }
   ],
   "source": [
    "test[499]['full_text']"
   ]
  },
  {
   "cell_type": "code",
   "execution_count": 13,
   "metadata": {},
   "outputs": [
    {
     "name": "stdout",
     "output_type": "stream",
     "text": [
      "[('en', 500)]\n"
     ]
    }
   ],
   "source": [
    "langs = []\n",
    "for key in test.keys():\n",
    "    langs.append(test[key]['lang'])\n",
    "\n",
    "from collections import Counter\n",
    "lang_counts = Counter(langs)\n",
    "print(lang_counts.most_common(5))"
   ]
  },
  {
   "cell_type": "markdown",
   "metadata": {},
   "source": [
    "I had some trouble in previous pulls with the lang command in the query not working properly, but this seems to have worked. "
   ]
  },
  {
   "cell_type": "markdown",
   "metadata": {},
   "source": [
    "#### pull tweets"
   ]
  },
  {
   "cell_type": "markdown",
   "metadata": {},
   "source": [
    "In order to account for the way topics cluster on twitter (due to intra-community discussion of the same topic over a short period of time), as well as potential time zone biases, every 2500 tweets (5 pulls), I set the timestamp to go back 2 days and randomize start time by subtracting a random number of hours (up to 23)."
   ]
  },
  {
   "cell_type": "code",
   "execution_count": 14,
   "metadata": {},
   "outputs": [
    {
     "data": {
      "text/plain": [
       "(datetime.datetime(2021, 3, 29, 6, 43, 47, tzinfo=datetime.timezone.utc),\n",
       " '202103290643',\n",
       " 1)"
      ]
     },
     "execution_count": 14,
     "metadata": {},
     "output_type": "execute_result"
    }
   ],
   "source": [
    "#set parameters to begin collecting tweets that are at least 1 week old\n",
    "random.seed(42)\n",
    "h = random.randint(0,23)\n",
    "last_dt, last_str = dat.timestamp_to_toDate((datetime.now(timezone.utc) - timedelta(days=7, hours=h)).strftime(\"%a %b %d %H:%M:%S %z %Y\"))\n",
    "\n",
    "n = 1\n",
    "saved_params = (last_dt, last_str, n)\n",
    "saved_params"
   ]
  },
  {
   "cell_type": "code",
   "execution_count": 15,
   "metadata": {
    "scrolled": false
   },
   "outputs": [
    {
     "name": "stdout",
     "output_type": "stream",
     "text": [
      "2021-03-29 06:43:47+00:00 n=1\n",
      "2021-03-29 04:58:08+00:00 n=2\n",
      "2021-03-29 02:55:13+00:00 n=3\n",
      "2021-03-29 00:56:26+00:00 n=4\n",
      "going back 2 days\n",
      "2021-03-26 19:50:02+00:00 n=5\n",
      "2021-03-26 18:27:47+00:00 n=6\n",
      "2021-03-26 17:04:45+00:00 n=7\n",
      "(datetime.datetime(2021, 3, 26, 17, 4, 45, tzinfo=datetime.timezone.utc), '202103261704', 7)\n",
      "exception =  {'message': 'Exceeded rate limit', 'sent': '2021-04-06T02:44:55+00:00', 'transactionId': '000265bc0033697f'}\n",
      "...sleeping...\n",
      "2021-03-26 17:04:45+00:00 n=7\n",
      "2021-03-26 15:58:32+00:00 n=8\n",
      "2021-03-26 14:43:43+00:00 n=9\n",
      "going back 2 days\n",
      "2021-03-24 13:49:06+00:00 n=10\n",
      "2021-03-24 12:52:57+00:00 n=11\n",
      "2021-03-24 11:44:02+00:00 n=12\n",
      "2021-03-24 10:33:54+00:00 n=13\n",
      "(datetime.datetime(2021, 3, 24, 10, 33, 54, tzinfo=datetime.timezone.utc), '202103241033', 13)\n",
      "exception =  {'message': 'Exceeded rate limit', 'sent': '2021-04-06T02:46:17+00:00', 'transactionId': '00333bcf00758e10'}\n",
      "...sleeping...\n",
      "2021-03-24 10:33:54+00:00 n=13\n",
      "2021-03-24 09:00:17+00:00 n=14\n",
      "going back 2 days\n",
      "2021-03-21 08:41:40+00:00 n=15\n",
      "2021-03-21 04:41:10+00:00 n=16\n",
      "2021-03-21 01:04:43+00:00 n=17\n",
      "2021-03-20 22:06:43+00:00 n=18\n",
      "2021-03-20 20:12:35+00:00 n=19\n",
      "(datetime.datetime(2021, 3, 20, 20, 12, 35, tzinfo=datetime.timezone.utc), '202103202012', 19)\n",
      "exception =  {'message': 'Exceeded rate limit', 'sent': '2021-04-06T02:47:39+00:00', 'transactionId': '00596b9000300661'}\n",
      "...sleeping...\n",
      "2021-03-20 20:12:35+00:00 n=19\n",
      "going back 2 days\n",
      "2021-03-18 10:24:32+00:00 n=20\n",
      "2021-03-17 22:17:57+00:00 n=21\n",
      "2021-03-17 21:06:59+00:00 n=22\n",
      "2021-03-17 19:57:41+00:00 n=23\n",
      "2021-03-17 19:00:06+00:00 n=24\n",
      "going back 2 days\n",
      "2021-03-15 10:59:48+00:00 n=25\n",
      "(datetime.datetime(2021, 3, 15, 10, 59, 48, tzinfo=datetime.timezone.utc), '202103151059', 25)\n",
      "exception =  {'message': 'Exceeded rate limit', 'sent': '2021-04-06T02:49:03+00:00', 'transactionId': '00d0376700ccd325'}\n",
      "...sleeping...\n",
      "going back 2 days\n",
      "2021-03-13 03:59:48+00:00 n=25\n",
      "2021-03-13 00:24:38+00:00 n=26\n",
      "2021-03-12 21:26:56+00:00 n=27\n",
      "2021-03-12 19:43:01+00:00 n=28\n",
      "2021-03-12 17:55:28+00:00 n=29\n",
      "going back 2 days\n",
      "2021-03-10 12:26:24+00:00 n=30\n",
      "2021-03-10 10:35:25+00:00 n=31\n",
      "(datetime.datetime(2021, 3, 10, 10, 35, 25, tzinfo=datetime.timezone.utc), '202103101035', 31)\n",
      "exception =  {'message': 'Exceeded rate limit', 'sent': '2021-04-06T02:50:25+00:00', 'transactionId': '00ba6e69005e8cd1'}\n",
      "...sleeping...\n",
      "2021-03-10 10:35:25+00:00 n=31\n",
      "2021-03-10 08:27:57+00:00 n=32\n",
      "2021-03-10 06:14:54+00:00 n=33\n",
      "2021-03-10 04:10:23+00:00 n=34\n",
      "going back 2 days\n",
      "2021-03-07 02:25:47+00:00 n=35\n",
      "2021-03-06 22:36:39+00:00 n=36\n",
      "2021-03-06 19:45:37+00:00 n=37\n",
      "(datetime.datetime(2021, 3, 6, 19, 45, 37, tzinfo=datetime.timezone.utc), '202103061945', 37)\n",
      "exception =  {'message': 'Exceeded rate limit', 'sent': '2021-04-06T02:51:50+00:00', 'transactionId': '008bec4c00967127'}\n",
      "...sleeping...\n",
      "2021-03-06 19:45:37+00:00 n=37\n",
      "2021-03-06 17:43:18+00:00 n=38\n",
      "2021-03-06 15:35:19+00:00 n=39\n",
      "going back 2 days\n",
      "2021-03-04 10:23:32+00:00 n=40\n",
      "(datetime.datetime(2021, 3, 4, 10, 23, 32, tzinfo=datetime.timezone.utc), '202103041023', 40)\n",
      "exception =  {'message': \"There were errors processing your request: Invalid 'toDate':'202103041023'. 'toDate' must be on or after 202103050252\", 'sent': '2021-04-06T02:53:02+00:00', 'transactionId': '0010680e005333b6'}\n",
      "...sleeping...\n",
      "going back 2 days\n",
      "2021-03-01 13:23:32+00:00 n=40\n",
      "(datetime.datetime(2021, 3, 1, 13, 23, 32, tzinfo=datetime.timezone.utc), '202103011323', 40)\n",
      "exception =  {'message': \"There were errors processing your request: Invalid 'toDate':'202103011323'. 'toDate' must be on or after 202103050253\", 'sent': '2021-04-06T02:54:02+00:00', 'transactionId': '00e2b459007fbb04'}\n",
      "...sleeping...\n",
      "going back 2 days\n",
      "2021-02-26 14:23:32+00:00 n=40\n",
      "(datetime.datetime(2021, 2, 26, 14, 23, 32, tzinfo=datetime.timezone.utc), '202102261423', 40)\n",
      "exception =  {'message': \"There were errors processing your request: Invalid 'toDate':'202102261423'. 'toDate' must be on or after 202103050254\", 'sent': '2021-04-06T02:55:02+00:00', 'transactionId': '008fcc3d007fd0bf'}\n",
      "...sleeping...\n",
      "going back 2 days\n",
      "2021-02-23 21:23:32+00:00 n=40\n",
      "(datetime.datetime(2021, 2, 23, 21, 23, 32, tzinfo=datetime.timezone.utc), '202102232123', 40)\n",
      "exception =  {'message': \"There were errors processing your request: Invalid 'toDate':'202102232123'. 'toDate' must be on or after 202103050255\", 'sent': '2021-04-06T02:56:03+00:00', 'transactionId': '0050207f00e207c4'}\n",
      "...sleeping...\n",
      "going back 2 days\n",
      "2021-02-21 19:23:32+00:00 n=40\n",
      "(datetime.datetime(2021, 2, 21, 19, 23, 32, tzinfo=datetime.timezone.utc), '202102211923', 40)\n",
      "exception =  {'message': \"There were errors processing your request: Invalid 'toDate':'202102211923'. 'toDate' must be on or after 202103050256\", 'sent': '2021-04-06T02:57:03+00:00', 'transactionId': '003019aa00733247'}\n",
      "...sleeping...\n",
      "going back 2 days\n",
      "2021-02-19 01:23:32+00:00 n=40\n",
      "(datetime.datetime(2021, 2, 19, 1, 23, 32, tzinfo=datetime.timezone.utc), '202102190123', 40)\n",
      "exception =  {'message': \"There were errors processing your request: Invalid 'toDate':'202102190123'. 'toDate' must be on or after 202103050257\", 'sent': '2021-04-06T02:58:03+00:00', 'transactionId': '00e8ef9800b531d4'}\n",
      "...sleeping...\n",
      "going back 2 days\n",
      "2021-02-16 12:23:32+00:00 n=40\n",
      "(datetime.datetime(2021, 2, 16, 12, 23, 32, tzinfo=datetime.timezone.utc), '202102161223', 40)\n",
      "exception =  {'message': \"There were errors processing your request: Invalid 'toDate':'202102161223'. 'toDate' must be on or after 202103050258\", 'sent': '2021-04-06T02:59:03+00:00', 'transactionId': '001eb7de005d1630'}\n",
      "...sleeping...\n",
      "going back 2 days\n",
      "2021-02-14 11:23:32+00:00 n=40\n",
      "(datetime.datetime(2021, 2, 14, 11, 23, 32, tzinfo=datetime.timezone.utc), '202102141123', 40)\n",
      "exception =  {'message': \"There were errors processing your request: Invalid 'toDate':'202102141123'. 'toDate' must be on or after 202103050259\", 'sent': '2021-04-06T03:00:03+00:00', 'transactionId': '000d0ba30088dea7'}\n",
      "...sleeping...\n",
      "going back 2 days\n",
      "2021-02-12 11:23:32+00:00 n=40\n",
      "(datetime.datetime(2021, 2, 12, 11, 23, 32, tzinfo=datetime.timezone.utc), '202102121123', 40)\n",
      "exception =  {'message': \"There were errors processing your request: Invalid 'toDate':'202102121123'. 'toDate' must be on or after 202103050300\", 'sent': '2021-04-06T03:01:03+00:00', 'transactionId': 'afb4a3527b96589b'}\n",
      "...sleeping...\n",
      "going back 2 days\n",
      "2021-02-10 09:23:32+00:00 n=40\n",
      "(datetime.datetime(2021, 2, 10, 9, 23, 32, tzinfo=datetime.timezone.utc), '202102100923', 40)\n",
      "exception =  {'message': \"There were errors processing your request: Invalid 'toDate':'202102100923'. 'toDate' must be on or after 202103050301\", 'sent': '2021-04-06T03:02:04+00:00', 'transactionId': '00c2941700381859'}\n",
      "...sleeping...\n",
      "going back 2 days\n",
      "2021-02-08 03:23:32+00:00 n=40\n",
      "(datetime.datetime(2021, 2, 8, 3, 23, 32, tzinfo=datetime.timezone.utc), '202102080323', 40)\n",
      "exception =  {'message': \"There were errors processing your request: Invalid 'toDate':'202102080323'. 'toDate' must be on or after 202103050302\", 'sent': '2021-04-06T03:03:04+00:00', 'transactionId': '863abd892081f0d4'}\n",
      "...sleeping...\n",
      "going back 2 days\n",
      "2021-02-05 20:23:32+00:00 n=40\n",
      "(datetime.datetime(2021, 2, 5, 20, 23, 32, tzinfo=datetime.timezone.utc), '202102052023', 40)\n",
      "exception =  {'message': \"There were errors processing your request: Invalid 'toDate':'202102052023'. 'toDate' must be on or after 202103050303\", 'sent': '2021-04-06T03:04:04+00:00', 'transactionId': '00d60bbe0095e1d1'}\n",
      "...sleeping...\n",
      "going back 2 days\n",
      "2021-02-03 04:23:32+00:00 n=40\n",
      "(datetime.datetime(2021, 2, 3, 4, 23, 32, tzinfo=datetime.timezone.utc), '202102030423', 40)\n",
      "exception =  {'message': \"There were errors processing your request: Invalid 'toDate':'202102030423'. 'toDate' must be on or after 202103050304\", 'sent': '2021-04-06T03:05:04+00:00', 'transactionId': '3e6a0a817d09d060'}\n",
      "...sleeping...\n",
      "going back 2 days\n",
      "2021-01-31 09:23:32+00:00 n=40\n",
      "(datetime.datetime(2021, 1, 31, 9, 23, 32, tzinfo=datetime.timezone.utc), '202101310923', 40)\n",
      "exception =  {'message': \"There were errors processing your request: Invalid 'toDate':'202101310923'. 'toDate' must be on or after 202103050305\", 'sent': '2021-04-06T03:06:04+00:00', 'transactionId': '000ac12700fdb7c8'}\n",
      "...sleeping...\n"
     ]
    },
    {
     "name": "stdout",
     "output_type": "stream",
     "text": [
      "going back 2 days\n",
      "2021-01-29 09:23:32+00:00 n=40\n",
      "(datetime.datetime(2021, 1, 29, 9, 23, 32, tzinfo=datetime.timezone.utc), '202101290923', 40)\n",
      "exception =  {'message': \"There were errors processing your request: Invalid 'toDate':'202101290923'. 'toDate' must be on or after 202103050306\", 'sent': '2021-04-06T03:07:04+00:00', 'transactionId': '004c808100212fc8'}\n",
      "...sleeping...\n",
      "going back 2 days\n",
      "2021-01-26 16:23:32+00:00 n=40\n",
      "(datetime.datetime(2021, 1, 26, 16, 23, 32, tzinfo=datetime.timezone.utc), '202101261623', 40)\n",
      "exception =  {'message': \"There were errors processing your request: Invalid 'toDate':'202101261623'. 'toDate' must be on or after 202103050307\", 'sent': '2021-04-06T03:08:05+00:00', 'transactionId': '0023364e00b80e99'}\n",
      "...sleeping...\n",
      "going back 2 days\n",
      "2021-01-24 10:23:32+00:00 n=40\n",
      "(datetime.datetime(2021, 1, 24, 10, 23, 32, tzinfo=datetime.timezone.utc), '202101241023', 40)\n",
      "exception =  {'message': \"There were errors processing your request: Invalid 'toDate':'202101241023'. 'toDate' must be on or after 202103050308\", 'sent': '2021-04-06T03:09:05+00:00', 'transactionId': '007f86e30073f9f0'}\n",
      "...sleeping...\n",
      "going back 2 days\n",
      "2021-01-21 12:23:32+00:00 n=40\n",
      "(datetime.datetime(2021, 1, 21, 12, 23, 32, tzinfo=datetime.timezone.utc), '202101211223', 40)\n",
      "exception =  {'message': \"There were errors processing your request: Invalid 'toDate':'202101211223'. 'toDate' must be on or after 202103050309\", 'sent': '2021-04-06T03:10:05+00:00', 'transactionId': '00d7272c00c45f72'}\n",
      "...sleeping...\n",
      "going back 2 days\n",
      "2021-01-18 16:23:32+00:00 n=40\n",
      "(datetime.datetime(2021, 1, 18, 16, 23, 32, tzinfo=datetime.timezone.utc), '202101181623', 40)\n",
      "exception =  {'message': \"There were errors processing your request: Invalid 'toDate':'202101181623'. 'toDate' must be on or after 202103050310\", 'sent': '2021-04-06T03:11:05+00:00', 'transactionId': '001f99a800009280'}\n",
      "...sleeping...\n",
      "going back 2 days\n",
      "2021-01-15 18:23:32+00:00 n=40\n",
      "(datetime.datetime(2021, 1, 15, 18, 23, 32, tzinfo=datetime.timezone.utc), '202101151823', 40)\n",
      "exception =  {'message': \"There were errors processing your request: Invalid 'toDate':'202101151823'. 'toDate' must be on or after 202103050311\", 'sent': '2021-04-06T03:12:05+00:00', 'transactionId': '00b4039100a2e9be'}\n",
      "...sleeping...\n",
      "going back 2 days\n",
      "2021-01-13 01:23:32+00:00 n=40\n",
      "(datetime.datetime(2021, 1, 13, 1, 23, 32, tzinfo=datetime.timezone.utc), '202101130123', 40)\n",
      "exception =  {'message': \"There were errors processing your request: Invalid 'toDate':'202101130123'. 'toDate' must be on or after 202103050312\", 'sent': '2021-04-06T03:13:05+00:00', 'transactionId': '0024077100f4f7e2'}\n",
      "...sleeping...\n",
      "going back 2 days\n",
      "2021-01-10 12:23:32+00:00 n=40\n",
      "(datetime.datetime(2021, 1, 10, 12, 23, 32, tzinfo=datetime.timezone.utc), '202101101223', 40)\n",
      "exception =  {'message': \"There were errors processing your request: Invalid 'toDate':'202101101223'. 'toDate' must be on or after 202103050313\", 'sent': '2021-04-06T03:14:06+00:00', 'transactionId': '00fe805100c08224'}\n",
      "...sleeping...\n",
      "going back 2 days\n",
      "2021-01-08 05:23:32+00:00 n=40\n",
      "(datetime.datetime(2021, 1, 8, 5, 23, 32, tzinfo=datetime.timezone.utc), '202101080523', 40)\n",
      "exception =  {'message': \"There were errors processing your request: Invalid 'toDate':'202101080523'. 'toDate' must be on or after 202103050314\", 'sent': '2021-04-06T03:15:06+00:00', 'transactionId': '794afa478546056c'}\n",
      "...sleeping...\n",
      "going back 2 days\n",
      "2021-01-05 15:23:32+00:00 n=40\n",
      "(datetime.datetime(2021, 1, 5, 15, 23, 32, tzinfo=datetime.timezone.utc), '202101051523', 40)\n",
      "exception =  {'message': \"There were errors processing your request: Invalid 'toDate':'202101051523'. 'toDate' must be on or after 202103050315\", 'sent': '2021-04-06T03:16:06+00:00', 'transactionId': '00ad21fc00f0161c'}\n",
      "...sleeping...\n",
      "going back 2 days\n",
      "2021-01-02 21:23:32+00:00 n=40\n",
      "(datetime.datetime(2021, 1, 2, 21, 23, 32, tzinfo=datetime.timezone.utc), '202101022123', 40)\n",
      "exception =  {'message': \"There were errors processing your request: Invalid 'toDate':'202101022123'. 'toDate' must be on or after 202103050316\", 'sent': '2021-04-06T03:17:06+00:00', 'transactionId': '008c2a46009a73c8'}\n",
      "...sleeping...\n",
      "going back 2 days\n",
      "2020-12-31 13:23:32+00:00 n=40\n",
      "(datetime.datetime(2020, 12, 31, 13, 23, 32, tzinfo=datetime.timezone.utc), '202012311323', 40)\n",
      "exception =  {'message': \"There were errors processing your request: Invalid 'toDate':'202012311323'. 'toDate' must be on or after 202103050317\", 'sent': '2021-04-06T03:18:06+00:00', 'transactionId': '00885a3d0053138a'}\n",
      "...sleeping...\n",
      "going back 2 days\n",
      "2020-12-29 13:23:32+00:00 n=40\n",
      "(datetime.datetime(2020, 12, 29, 13, 23, 32, tzinfo=datetime.timezone.utc), '202012291323', 40)\n",
      "exception =  {'message': \"There were errors processing your request: Invalid 'toDate':'202012291323'. 'toDate' must be on or after 202103050318\", 'sent': '2021-04-06T03:19:07+00:00', 'transactionId': '00421d950035b05c'}\n",
      "...sleeping...\n",
      "going back 2 days\n",
      "2020-12-27 08:23:32+00:00 n=40\n",
      "(datetime.datetime(2020, 12, 27, 8, 23, 32, tzinfo=datetime.timezone.utc), '202012270823', 40)\n",
      "exception =  {'message': \"There were errors processing your request: Invalid 'toDate':'202012270823'. 'toDate' must be on or after 202103050319\", 'sent': '2021-04-06T03:20:07+00:00', 'transactionId': '00087ae700d6ad25'}\n",
      "...sleeping...\n",
      "going back 2 days\n",
      "2020-12-24 10:23:32+00:00 n=40\n",
      "(datetime.datetime(2020, 12, 24, 10, 23, 32, tzinfo=datetime.timezone.utc), '202012241023', 40)\n",
      "exception =  {'message': \"There were errors processing your request: Invalid 'toDate':'202012241023'. 'toDate' must be on or after 202103050320\", 'sent': '2021-04-06T03:21:07+00:00', 'transactionId': '001f5f5300a0f30f'}\n",
      "...sleeping...\n",
      "going back 2 days\n",
      "2020-12-21 21:23:32+00:00 n=40\n",
      "(datetime.datetime(2020, 12, 21, 21, 23, 32, tzinfo=datetime.timezone.utc), '202012212123', 40)\n",
      "exception =  {'message': \"There were errors processing your request: Invalid 'toDate':'202012212123'. 'toDate' must be on or after 202103050321\", 'sent': '2021-04-06T03:22:07+00:00', 'transactionId': '002dfbbb00438242'}\n",
      "...sleeping...\n",
      "going back 2 days\n",
      "2020-12-19 11:23:32+00:00 n=40\n",
      "(datetime.datetime(2020, 12, 19, 11, 23, 32, tzinfo=datetime.timezone.utc), '202012191123', 40)\n",
      "exception =  {'message': \"There were errors processing your request: Invalid 'toDate':'202012191123'. 'toDate' must be on or after 202103050322\", 'sent': '2021-04-06T03:23:07+00:00', 'transactionId': '00168af7004159c9'}\n",
      "...sleeping...\n",
      "going back 2 days\n",
      "2020-12-17 03:23:32+00:00 n=40\n",
      "(datetime.datetime(2020, 12, 17, 3, 23, 32, tzinfo=datetime.timezone.utc), '202012170323', 40)\n",
      "exception =  {'message': \"There were errors processing your request: Invalid 'toDate':'202012170323'. 'toDate' must be on or after 202103050323\", 'sent': '2021-04-06T03:24:07+00:00', 'transactionId': '001e300400b7ab1e'}\n",
      "...sleeping...\n",
      "going back 2 days\n",
      "2020-12-14 23:23:32+00:00 n=40\n",
      "(datetime.datetime(2020, 12, 14, 23, 23, 32, tzinfo=datetime.timezone.utc), '202012142323', 40)\n",
      "exception =  {'message': \"There were errors processing your request: Invalid 'toDate':'202012142323'. 'toDate' must be on or after 202103050324\", 'sent': '2021-04-06T03:25:08+00:00', 'transactionId': '0068f874005e464a'}\n",
      "...sleeping...\n",
      "going back 2 days\n",
      "2020-12-12 17:23:32+00:00 n=40\n",
      "(datetime.datetime(2020, 12, 12, 17, 23, 32, tzinfo=datetime.timezone.utc), '202012121723', 40)\n",
      "exception =  {'message': \"There were errors processing your request: Invalid 'toDate':'202012121723'. 'toDate' must be on or after 202103050325\", 'sent': '2021-04-06T03:26:08+00:00', 'transactionId': '007384bf006892ce'}\n",
      "...sleeping...\n",
      "going back 2 days\n",
      "2020-12-10 07:23:32+00:00 n=40\n",
      "(datetime.datetime(2020, 12, 10, 7, 23, 32, tzinfo=datetime.timezone.utc), '202012100723', 40)\n",
      "exception =  {'message': \"There were errors processing your request: Invalid 'toDate':'202012100723'. 'toDate' must be on or after 202103050326\", 'sent': '2021-04-06T03:27:08+00:00', 'transactionId': '00462639003eff85'}\n",
      "...sleeping...\n",
      "going back 2 days\n",
      "2020-12-08 04:23:32+00:00 n=40\n",
      "(datetime.datetime(2020, 12, 8, 4, 23, 32, tzinfo=datetime.timezone.utc), '202012080423', 40)\n",
      "exception =  {'message': \"There were errors processing your request: Invalid 'toDate':'202012080423'. 'toDate' must be on or after 202103050327\", 'sent': '2021-04-06T03:28:08+00:00', 'transactionId': '0045da3500638a8c'}\n",
      "...sleeping...\n"
     ]
    },
    {
     "name": "stdout",
     "output_type": "stream",
     "text": [
      "going back 2 days\n",
      "2020-12-06 02:23:32+00:00 n=40\n",
      "(datetime.datetime(2020, 12, 6, 2, 23, 32, tzinfo=datetime.timezone.utc), '202012060223', 40)\n",
      "exception =  {'message': \"There were errors processing your request: Invalid 'toDate':'202012060223'. 'toDate' must be on or after 202103050328\", 'sent': '2021-04-06T03:29:08+00:00', 'transactionId': '007ea72000c5061f'}\n",
      "...sleeping...\n",
      "going back 2 days\n",
      "2020-12-03 14:23:32+00:00 n=40\n",
      "(datetime.datetime(2020, 12, 3, 14, 23, 32, tzinfo=datetime.timezone.utc), '202012031423', 40)\n",
      "exception =  {'message': \"There were errors processing your request: Invalid 'toDate':'202012031423'. 'toDate' must be on or after 202103050329\", 'sent': '2021-04-06T03:30:09+00:00', 'transactionId': '004088fe00da3428'}\n",
      "...sleeping...\n",
      "going back 2 days\n",
      "2020-12-01 11:23:32+00:00 n=40\n",
      "(datetime.datetime(2020, 12, 1, 11, 23, 32, tzinfo=datetime.timezone.utc), '202012011123', 40)\n",
      "exception =  {'message': \"There were errors processing your request: Invalid 'toDate':'202012011123'. 'toDate' must be on or after 202103050330\", 'sent': '2021-04-06T03:31:09+00:00', 'transactionId': '0084f09900c76aec'}\n",
      "...sleeping...\n",
      "going back 2 days\n",
      "2020-11-29 00:23:32+00:00 n=40\n",
      "(datetime.datetime(2020, 11, 29, 0, 23, 32, tzinfo=datetime.timezone.utc), '202011290023', 40)\n",
      "exception =  {'message': \"There were errors processing your request: Invalid 'toDate':'202011290023'. 'toDate' must be on or after 202103050331\", 'sent': '2021-04-06T03:32:09+00:00', 'transactionId': '00c23d1200300089'}\n",
      "...sleeping...\n",
      "going back 2 days\n",
      "2020-11-26 13:23:32+00:00 n=40\n",
      "(datetime.datetime(2020, 11, 26, 13, 23, 32, tzinfo=datetime.timezone.utc), '202011261323', 40)\n",
      "exception =  {'message': \"There were errors processing your request: Invalid 'toDate':'202011261323'. 'toDate' must be on or after 202103050332\", 'sent': '2021-04-06T03:33:09+00:00', 'transactionId': '00e698f500e09d66'}\n",
      "...sleeping...\n",
      "going back 2 days\n",
      "2020-11-23 18:23:32+00:00 n=40\n",
      "(datetime.datetime(2020, 11, 23, 18, 23, 32, tzinfo=datetime.timezone.utc), '202011231823', 40)\n",
      "exception =  {'message': \"There were errors processing your request: Invalid 'toDate':'202011231823'. 'toDate' must be on or after 202103050333\", 'sent': '2021-04-06T03:34:09+00:00', 'transactionId': '001d767a006d878e'}\n",
      "...sleeping...\n",
      "going back 2 days\n",
      "2020-11-21 10:23:32+00:00 n=40\n",
      "(datetime.datetime(2020, 11, 21, 10, 23, 32, tzinfo=datetime.timezone.utc), '202011211023', 40)\n",
      "exception =  {'message': \"There were errors processing your request: Invalid 'toDate':'202011211023'. 'toDate' must be on or after 202103050334\", 'sent': '2021-04-06T03:35:09+00:00', 'transactionId': '0076a6570019742e'}\n",
      "...sleeping...\n",
      "going back 2 days\n",
      "2020-11-19 09:23:32+00:00 n=40\n",
      "(datetime.datetime(2020, 11, 19, 9, 23, 32, tzinfo=datetime.timezone.utc), '202011190923', 40)\n",
      "exception =  {'message': \"There were errors processing your request: Invalid 'toDate':'202011190923'. 'toDate' must be on or after 202103050336\", 'sent': '2021-04-06T03:36:10+00:00', 'transactionId': '5f9a767850b8fd58'}\n",
      "...sleeping...\n",
      "going back 2 days\n",
      "2020-11-16 10:23:32+00:00 n=40\n",
      "(datetime.datetime(2020, 11, 16, 10, 23, 32, tzinfo=datetime.timezone.utc), '202011161023', 40)\n",
      "exception =  {'message': \"There were errors processing your request: Invalid 'toDate':'202011161023'. 'toDate' must be on or after 202103050337\", 'sent': '2021-04-06T03:37:10+00:00', 'transactionId': '0088a2fa0071f21c'}\n",
      "...sleeping...\n",
      "going back 2 days\n",
      "2020-11-13 20:23:32+00:00 n=40\n",
      "(datetime.datetime(2020, 11, 13, 20, 23, 32, tzinfo=datetime.timezone.utc), '202011132023', 40)\n",
      "exception =  {'message': \"There were errors processing your request: Invalid 'toDate':'202011132023'. 'toDate' must be on or after 202103050338\", 'sent': '2021-04-06T03:38:10+00:00', 'transactionId': 'a85a37d3c8ac2928'}\n",
      "...sleeping...\n",
      "going back 2 days\n",
      "2020-11-11 03:23:32+00:00 n=40\n",
      "(datetime.datetime(2020, 11, 11, 3, 23, 32, tzinfo=datetime.timezone.utc), '202011110323', 40)\n",
      "exception =  {'message': \"There were errors processing your request: Invalid 'toDate':'202011110323'. 'toDate' must be on or after 202103050339\", 'sent': '2021-04-06T03:39:10+00:00', 'transactionId': '00b6e3df009ce7ad'}\n",
      "...sleeping...\n",
      "going back 2 days\n",
      "2020-11-09 00:23:32+00:00 n=40\n",
      "(datetime.datetime(2020, 11, 9, 0, 23, 32, tzinfo=datetime.timezone.utc), '202011090023', 40)\n",
      "exception =  Failed to send request: HTTPSConnectionPool(host='api.twitter.com', port=443): Max retries exceeded with url: /1.1/tweets/search/30day/30dayarchive2.json?toDate=202011090023&query=%28uequalsu+OR+hivstigma+OR+hivtreatment+OR+hivhometest+OR+sciencenotstigma+OR+%23prep+OR+endhivepidemic+OR+endaids+OR+plwhiv+OR+%23aids+OR+hiv+OR+vaccinatethemostvulnerable+OR+hivtestweek+OR+plhiv+OR+endhivstigma%29+-covid+lang%3Aen (Caused by NewConnectionError('<urllib3.connection.HTTPSConnection object at 0x000001FE7755AE20>: Failed to establish a new connection: [WinError 10060] A connection attempt failed because the connected party did not properly respond after a period of time, or established connection failed because connected host has failed to respond'))\n",
      "...sleeping...\n",
      "going back 2 days\n",
      "2020-11-06 12:23:32+00:00 n=40\n"
     ]
    },
    {
     "ename": "KeyboardInterrupt",
     "evalue": "",
     "output_type": "error",
     "traceback": [
      "\u001b[1;31m---------------------------------------------------------------------------\u001b[0m",
      "\u001b[1;31mTimeoutError\u001b[0m                              Traceback (most recent call last)",
      "\u001b[1;32m~\\anaconda3\\envs\\nlp\\lib\\site-packages\\urllib3\\util\\connection.py\u001b[0m in \u001b[0;36mcreate_connection\u001b[1;34m(address, timeout, source_address, socket_options)\u001b[0m\n\u001b[0;32m     85\u001b[0m                 \u001b[0msock\u001b[0m\u001b[1;33m.\u001b[0m\u001b[0mbind\u001b[0m\u001b[1;33m(\u001b[0m\u001b[0msource_address\u001b[0m\u001b[1;33m)\u001b[0m\u001b[1;33m\u001b[0m\u001b[1;33m\u001b[0m\u001b[0m\n\u001b[1;32m---> 86\u001b[1;33m             \u001b[0msock\u001b[0m\u001b[1;33m.\u001b[0m\u001b[0mconnect\u001b[0m\u001b[1;33m(\u001b[0m\u001b[0msa\u001b[0m\u001b[1;33m)\u001b[0m\u001b[1;33m\u001b[0m\u001b[1;33m\u001b[0m\u001b[0m\n\u001b[0m\u001b[0;32m     87\u001b[0m             \u001b[1;32mreturn\u001b[0m \u001b[0msock\u001b[0m\u001b[1;33m\u001b[0m\u001b[1;33m\u001b[0m\u001b[0m\n",
      "\u001b[1;31mTimeoutError\u001b[0m: [WinError 10060] A connection attempt failed because the connected party did not properly respond after a period of time, or established connection failed because connected host has failed to respond",
      "\nDuring handling of the above exception, another exception occurred:\n",
      "\u001b[1;31mKeyboardInterrupt\u001b[0m                         Traceback (most recent call last)",
      "\u001b[1;32m<ipython-input-15-9a7e28c17859>\u001b[0m in \u001b[0;36m<module>\u001b[1;34m\u001b[0m\n\u001b[0;32m     11\u001b[0m         \u001b[0mprint\u001b[0m\u001b[1;33m(\u001b[0m\u001b[0mlast_dt\u001b[0m\u001b[1;33m,\u001b[0m \u001b[1;34m\"n={}\"\u001b[0m\u001b[1;33m.\u001b[0m\u001b[0mformat\u001b[0m\u001b[1;33m(\u001b[0m\u001b[0mn\u001b[0m\u001b[1;33m)\u001b[0m\u001b[1;33m)\u001b[0m\u001b[1;33m\u001b[0m\u001b[1;33m\u001b[0m\u001b[0m\n\u001b[0;32m     12\u001b[0m         \u001b[0mfname\u001b[0m \u001b[1;33m=\u001b[0m \u001b[0mos\u001b[0m\u001b[1;33m.\u001b[0m\u001b[0mpath\u001b[0m\u001b[1;33m.\u001b[0m\u001b[0mjoin\u001b[0m\u001b[1;33m(\u001b[0m\u001b[1;34mr'..\\data_files'\u001b[0m\u001b[1;33m,\u001b[0m \u001b[1;34m'main_search{}.json'\u001b[0m\u001b[1;33m.\u001b[0m\u001b[0mformat\u001b[0m\u001b[1;33m(\u001b[0m\u001b[0mn\u001b[0m\u001b[1;33m)\u001b[0m\u001b[1;33m)\u001b[0m\u001b[1;33m\u001b[0m\u001b[1;33m\u001b[0m\u001b[0m\n\u001b[1;32m---> 13\u001b[1;33m         \u001b[0msearch\u001b[0m \u001b[1;33m=\u001b[0m \u001b[0mdat\u001b[0m\u001b[1;33m.\u001b[0m\u001b[0mapi_advanced_search\u001b[0m\u001b[1;33m(\u001b[0m\u001b[0mquery\u001b[0m\u001b[1;33m,\u001b[0m \u001b[0mfname\u001b[0m\u001b[1;33m,\u001b[0m \u001b[0mwhich_api\u001b[0m\u001b[1;33m=\u001b[0m\u001b[1;34m'30day'\u001b[0m\u001b[1;33m,\u001b[0m \u001b[0mtodate\u001b[0m\u001b[1;33m=\u001b[0m\u001b[0mlast_str\u001b[0m\u001b[1;33m,\u001b[0m \u001b[0mn_items\u001b[0m\u001b[1;33m=\u001b[0m\u001b[1;36m500\u001b[0m\u001b[1;33m,\u001b[0m \u001b[0mreturn_dict\u001b[0m\u001b[1;33m=\u001b[0m\u001b[1;32mTrue\u001b[0m\u001b[1;33m)\u001b[0m\u001b[1;33m\u001b[0m\u001b[1;33m\u001b[0m\u001b[0m\n\u001b[0m\u001b[0;32m     14\u001b[0m         \u001b[0mlast_dt\u001b[0m\u001b[1;33m,\u001b[0m \u001b[0mlast_str\u001b[0m \u001b[1;33m=\u001b[0m \u001b[0mdat\u001b[0m\u001b[1;33m.\u001b[0m\u001b[0mtimestamp_to_toDate\u001b[0m\u001b[1;33m(\u001b[0m\u001b[0msearch\u001b[0m\u001b[1;33m[\u001b[0m\u001b[1;36m499\u001b[0m\u001b[1;33m]\u001b[0m\u001b[1;33m[\u001b[0m\u001b[1;34m'created_at'\u001b[0m\u001b[1;33m]\u001b[0m\u001b[1;33m)\u001b[0m\u001b[1;33m\u001b[0m\u001b[1;33m\u001b[0m\u001b[0m\n\u001b[0;32m     15\u001b[0m         \u001b[0mn\u001b[0m \u001b[1;33m+=\u001b[0m \u001b[1;36m1\u001b[0m\u001b[1;33m\u001b[0m\u001b[1;33m\u001b[0m\u001b[0m\n",
      "\u001b[1;32m~\\Documents\\Springboard\\Capstone_Two\\scripts\\data_acquisition_tools.py\u001b[0m in \u001b[0;36mapi_advanced_search\u001b[1;34m(query, filename, which_api, todate, fromdate, n_items, return_dict)\u001b[0m\n\u001b[0;32m     68\u001b[0m \u001b[1;33m\u001b[0m\u001b[0m\n\u001b[0;32m     69\u001b[0m     \u001b[0mtweets\u001b[0m \u001b[1;33m=\u001b[0m \u001b[1;33m{\u001b[0m\u001b[1;33m}\u001b[0m\u001b[1;33m\u001b[0m\u001b[1;33m\u001b[0m\u001b[0m\n\u001b[1;32m---> 70\u001b[1;33m     \u001b[1;32mfor\u001b[0m \u001b[0mn\u001b[0m\u001b[1;33m,\u001b[0m\u001b[0mt\u001b[0m \u001b[1;32min\u001b[0m \u001b[0menumerate\u001b[0m\u001b[1;33m(\u001b[0m\u001b[0mcursor\u001b[0m\u001b[1;33m)\u001b[0m\u001b[1;33m:\u001b[0m\u001b[1;33m\u001b[0m\u001b[1;33m\u001b[0m\u001b[0m\n\u001b[0m\u001b[0;32m     71\u001b[0m         \u001b[0mtweets\u001b[0m\u001b[1;33m[\u001b[0m\u001b[0mn\u001b[0m\u001b[1;33m]\u001b[0m \u001b[1;33m=\u001b[0m \u001b[0mt\u001b[0m\u001b[1;33m.\u001b[0m\u001b[0m_json\u001b[0m\u001b[1;33m\u001b[0m\u001b[1;33m\u001b[0m\u001b[0m\n\u001b[0;32m     72\u001b[0m         \u001b[1;32mif\u001b[0m \u001b[0mt\u001b[0m\u001b[1;33m.\u001b[0m\u001b[0mtruncated\u001b[0m\u001b[1;33m:\u001b[0m\u001b[1;33m\u001b[0m\u001b[1;33m\u001b[0m\u001b[0m\n",
      "\u001b[1;32m~\\anaconda3\\envs\\nlp\\lib\\site-packages\\tweepy\\cursor.py\u001b[0m in \u001b[0;36m__next__\u001b[1;34m(self)\u001b[0m\n\u001b[0;32m     49\u001b[0m \u001b[1;33m\u001b[0m\u001b[0m\n\u001b[0;32m     50\u001b[0m     \u001b[1;32mdef\u001b[0m \u001b[0m__next__\u001b[0m\u001b[1;33m(\u001b[0m\u001b[0mself\u001b[0m\u001b[1;33m)\u001b[0m\u001b[1;33m:\u001b[0m\u001b[1;33m\u001b[0m\u001b[1;33m\u001b[0m\u001b[0m\n\u001b[1;32m---> 51\u001b[1;33m         \u001b[1;32mreturn\u001b[0m \u001b[0mself\u001b[0m\u001b[1;33m.\u001b[0m\u001b[0mnext\u001b[0m\u001b[1;33m(\u001b[0m\u001b[1;33m)\u001b[0m\u001b[1;33m\u001b[0m\u001b[1;33m\u001b[0m\u001b[0m\n\u001b[0m\u001b[0;32m     52\u001b[0m \u001b[1;33m\u001b[0m\u001b[0m\n\u001b[0;32m     53\u001b[0m     \u001b[1;32mdef\u001b[0m \u001b[0mnext\u001b[0m\u001b[1;33m(\u001b[0m\u001b[0mself\u001b[0m\u001b[1;33m)\u001b[0m\u001b[1;33m:\u001b[0m\u001b[1;33m\u001b[0m\u001b[1;33m\u001b[0m\u001b[0m\n",
      "\u001b[1;32m~\\anaconda3\\envs\\nlp\\lib\\site-packages\\tweepy\\cursor.py\u001b[0m in \u001b[0;36mnext\u001b[1;34m(self)\u001b[0m\n\u001b[0;32m    241\u001b[0m         \u001b[1;32mif\u001b[0m \u001b[0mself\u001b[0m\u001b[1;33m.\u001b[0m\u001b[0mcurrent_page\u001b[0m \u001b[1;32mis\u001b[0m \u001b[1;32mNone\u001b[0m \u001b[1;32mor\u001b[0m \u001b[0mself\u001b[0m\u001b[1;33m.\u001b[0m\u001b[0mpage_index\u001b[0m \u001b[1;33m==\u001b[0m \u001b[0mlen\u001b[0m\u001b[1;33m(\u001b[0m\u001b[0mself\u001b[0m\u001b[1;33m.\u001b[0m\u001b[0mcurrent_page\u001b[0m\u001b[1;33m)\u001b[0m \u001b[1;33m-\u001b[0m \u001b[1;36m1\u001b[0m\u001b[1;33m:\u001b[0m\u001b[1;33m\u001b[0m\u001b[1;33m\u001b[0m\u001b[0m\n\u001b[0;32m    242\u001b[0m             \u001b[1;31m# Reached end of current page, get the next page...\u001b[0m\u001b[1;33m\u001b[0m\u001b[1;33m\u001b[0m\u001b[1;33m\u001b[0m\u001b[0m\n\u001b[1;32m--> 243\u001b[1;33m             \u001b[0mself\u001b[0m\u001b[1;33m.\u001b[0m\u001b[0mcurrent_page\u001b[0m \u001b[1;33m=\u001b[0m \u001b[0mself\u001b[0m\u001b[1;33m.\u001b[0m\u001b[0mpage_iterator\u001b[0m\u001b[1;33m.\u001b[0m\u001b[0mnext\u001b[0m\u001b[1;33m(\u001b[0m\u001b[1;33m)\u001b[0m\u001b[1;33m\u001b[0m\u001b[1;33m\u001b[0m\u001b[0m\n\u001b[0m\u001b[0;32m    244\u001b[0m             \u001b[1;32mwhile\u001b[0m \u001b[0mlen\u001b[0m\u001b[1;33m(\u001b[0m\u001b[0mself\u001b[0m\u001b[1;33m.\u001b[0m\u001b[0mcurrent_page\u001b[0m\u001b[1;33m)\u001b[0m \u001b[1;33m==\u001b[0m \u001b[1;36m0\u001b[0m\u001b[1;33m:\u001b[0m\u001b[1;33m\u001b[0m\u001b[1;33m\u001b[0m\u001b[0m\n\u001b[0;32m    245\u001b[0m                 \u001b[0mself\u001b[0m\u001b[1;33m.\u001b[0m\u001b[0mcurrent_page\u001b[0m \u001b[1;33m=\u001b[0m \u001b[0mself\u001b[0m\u001b[1;33m.\u001b[0m\u001b[0mpage_iterator\u001b[0m\u001b[1;33m.\u001b[0m\u001b[0mnext\u001b[0m\u001b[1;33m(\u001b[0m\u001b[1;33m)\u001b[0m\u001b[1;33m\u001b[0m\u001b[1;33m\u001b[0m\u001b[0m\n",
      "\u001b[1;32m~\\anaconda3\\envs\\nlp\\lib\\site-packages\\tweepy\\cursor.py\u001b[0m in \u001b[0;36mnext\u001b[1;34m(self)\u001b[0m\n\u001b[0;32m    214\u001b[0m         \u001b[1;32mif\u001b[0m \u001b[0mself\u001b[0m\u001b[1;33m.\u001b[0m\u001b[0mnext_token\u001b[0m \u001b[1;33m==\u001b[0m \u001b[1;33m-\u001b[0m\u001b[1;36m1\u001b[0m \u001b[1;32mor\u001b[0m \u001b[1;33m(\u001b[0m\u001b[0mself\u001b[0m\u001b[1;33m.\u001b[0m\u001b[0mlimit\u001b[0m \u001b[1;32mand\u001b[0m \u001b[0mself\u001b[0m\u001b[1;33m.\u001b[0m\u001b[0mpage_count\u001b[0m \u001b[1;33m==\u001b[0m \u001b[0mself\u001b[0m\u001b[1;33m.\u001b[0m\u001b[0mlimit\u001b[0m\u001b[1;33m)\u001b[0m\u001b[1;33m:\u001b[0m\u001b[1;33m\u001b[0m\u001b[1;33m\u001b[0m\u001b[0m\n\u001b[0;32m    215\u001b[0m             \u001b[1;32mraise\u001b[0m \u001b[0mStopIteration\u001b[0m\u001b[1;33m\u001b[0m\u001b[1;33m\u001b[0m\u001b[0m\n\u001b[1;32m--> 216\u001b[1;33m         \u001b[0mdata\u001b[0m \u001b[1;33m=\u001b[0m \u001b[0mself\u001b[0m\u001b[1;33m.\u001b[0m\u001b[0mmethod\u001b[0m\u001b[1;33m(\u001b[0m\u001b[0mnext\u001b[0m\u001b[1;33m=\u001b[0m\u001b[0mself\u001b[0m\u001b[1;33m.\u001b[0m\u001b[0mnext_token\u001b[0m\u001b[1;33m,\u001b[0m \u001b[0mreturn_cursors\u001b[0m\u001b[1;33m=\u001b[0m\u001b[1;32mTrue\u001b[0m\u001b[1;33m,\u001b[0m \u001b[1;33m*\u001b[0m\u001b[0mself\u001b[0m\u001b[1;33m.\u001b[0m\u001b[0margs\u001b[0m\u001b[1;33m,\u001b[0m \u001b[1;33m**\u001b[0m\u001b[0mself\u001b[0m\u001b[1;33m.\u001b[0m\u001b[0mkwargs\u001b[0m\u001b[1;33m)\u001b[0m\u001b[1;33m\u001b[0m\u001b[1;33m\u001b[0m\u001b[0m\n\u001b[0m\u001b[0;32m    217\u001b[0m         \u001b[0mself\u001b[0m\u001b[1;33m.\u001b[0m\u001b[0mpage_count\u001b[0m \u001b[1;33m+=\u001b[0m \u001b[1;36m1\u001b[0m\u001b[1;33m\u001b[0m\u001b[1;33m\u001b[0m\u001b[0m\n\u001b[0;32m    218\u001b[0m         \u001b[1;32mif\u001b[0m \u001b[0misinstance\u001b[0m\u001b[1;33m(\u001b[0m\u001b[0mdata\u001b[0m\u001b[1;33m,\u001b[0m \u001b[0mtuple\u001b[0m\u001b[1;33m)\u001b[0m\u001b[1;33m:\u001b[0m\u001b[1;33m\u001b[0m\u001b[1;33m\u001b[0m\u001b[0m\n",
      "\u001b[1;32m~\\anaconda3\\envs\\nlp\\lib\\site-packages\\tweepy\\api.py\u001b[0m in \u001b[0;36msearch_30_day\u001b[1;34m(self, environment_name, *args, **kwargs)\u001b[0m\n\u001b[0;32m   1290\u001b[0m                             \u001b[1;34m'next'\u001b[0m\u001b[1;33m\u001b[0m\u001b[1;33m\u001b[0m\u001b[0m\n\u001b[0;32m   1291\u001b[0m         \"\"\"\n\u001b[1;32m-> 1292\u001b[1;33m         return bind_api(\n\u001b[0m\u001b[0;32m   1293\u001b[0m             \u001b[0mapi\u001b[0m\u001b[1;33m=\u001b[0m\u001b[0mself\u001b[0m\u001b[1;33m,\u001b[0m\u001b[1;33m\u001b[0m\u001b[1;33m\u001b[0m\u001b[0m\n\u001b[0;32m   1294\u001b[0m             \u001b[0mpath\u001b[0m\u001b[1;33m=\u001b[0m\u001b[1;34m'/tweets/search/30day/{}.json'\u001b[0m\u001b[1;33m.\u001b[0m\u001b[0mformat\u001b[0m\u001b[1;33m(\u001b[0m\u001b[0menvironment_name\u001b[0m\u001b[1;33m)\u001b[0m\u001b[1;33m,\u001b[0m\u001b[1;33m\u001b[0m\u001b[1;33m\u001b[0m\u001b[0m\n",
      "\u001b[1;32m~\\anaconda3\\envs\\nlp\\lib\\site-packages\\tweepy\\binder.py\u001b[0m in \u001b[0;36m_call\u001b[1;34m(*args, **kwargs)\u001b[0m\n\u001b[0;32m    251\u001b[0m                 \u001b[1;32mreturn\u001b[0m \u001b[0mmethod\u001b[0m\u001b[1;33m\u001b[0m\u001b[1;33m\u001b[0m\u001b[0m\n\u001b[0;32m    252\u001b[0m             \u001b[1;32melse\u001b[0m\u001b[1;33m:\u001b[0m\u001b[1;33m\u001b[0m\u001b[1;33m\u001b[0m\u001b[0m\n\u001b[1;32m--> 253\u001b[1;33m                 \u001b[1;32mreturn\u001b[0m \u001b[0mmethod\u001b[0m\u001b[1;33m.\u001b[0m\u001b[0mexecute\u001b[0m\u001b[1;33m(\u001b[0m\u001b[1;33m)\u001b[0m\u001b[1;33m\u001b[0m\u001b[1;33m\u001b[0m\u001b[0m\n\u001b[0m\u001b[0;32m    254\u001b[0m         \u001b[1;32mfinally\u001b[0m\u001b[1;33m:\u001b[0m\u001b[1;33m\u001b[0m\u001b[1;33m\u001b[0m\u001b[0m\n\u001b[0;32m    255\u001b[0m             \u001b[0mmethod\u001b[0m\u001b[1;33m.\u001b[0m\u001b[0msession\u001b[0m\u001b[1;33m.\u001b[0m\u001b[0mclose\u001b[0m\u001b[1;33m(\u001b[0m\u001b[1;33m)\u001b[0m\u001b[1;33m\u001b[0m\u001b[1;33m\u001b[0m\u001b[0m\n",
      "\u001b[1;32m~\\anaconda3\\envs\\nlp\\lib\\site-packages\\tweepy\\binder.py\u001b[0m in \u001b[0;36mexecute\u001b[1;34m(self)\u001b[0m\n\u001b[0;32m    182\u001b[0m                 \u001b[1;31m# Execute request\u001b[0m\u001b[1;33m\u001b[0m\u001b[1;33m\u001b[0m\u001b[1;33m\u001b[0m\u001b[0m\n\u001b[0;32m    183\u001b[0m                 \u001b[1;32mtry\u001b[0m\u001b[1;33m:\u001b[0m\u001b[1;33m\u001b[0m\u001b[1;33m\u001b[0m\u001b[0m\n\u001b[1;32m--> 184\u001b[1;33m                     resp = self.session.request(self.method,\n\u001b[0m\u001b[0;32m    185\u001b[0m                                                 \u001b[0mfull_url\u001b[0m\u001b[1;33m,\u001b[0m\u001b[1;33m\u001b[0m\u001b[1;33m\u001b[0m\u001b[0m\n\u001b[0;32m    186\u001b[0m                                                 \u001b[0mdata\u001b[0m\u001b[1;33m=\u001b[0m\u001b[0mself\u001b[0m\u001b[1;33m.\u001b[0m\u001b[0mpost_data\u001b[0m\u001b[1;33m,\u001b[0m\u001b[1;33m\u001b[0m\u001b[1;33m\u001b[0m\u001b[0m\n",
      "\u001b[1;32m~\\anaconda3\\envs\\nlp\\lib\\site-packages\\requests\\sessions.py\u001b[0m in \u001b[0;36mrequest\u001b[1;34m(self, method, url, params, data, headers, cookies, files, auth, timeout, allow_redirects, proxies, hooks, stream, verify, cert, json)\u001b[0m\n\u001b[0;32m    540\u001b[0m         }\n\u001b[0;32m    541\u001b[0m         \u001b[0msend_kwargs\u001b[0m\u001b[1;33m.\u001b[0m\u001b[0mupdate\u001b[0m\u001b[1;33m(\u001b[0m\u001b[0msettings\u001b[0m\u001b[1;33m)\u001b[0m\u001b[1;33m\u001b[0m\u001b[1;33m\u001b[0m\u001b[0m\n\u001b[1;32m--> 542\u001b[1;33m         \u001b[0mresp\u001b[0m \u001b[1;33m=\u001b[0m \u001b[0mself\u001b[0m\u001b[1;33m.\u001b[0m\u001b[0msend\u001b[0m\u001b[1;33m(\u001b[0m\u001b[0mprep\u001b[0m\u001b[1;33m,\u001b[0m \u001b[1;33m**\u001b[0m\u001b[0msend_kwargs\u001b[0m\u001b[1;33m)\u001b[0m\u001b[1;33m\u001b[0m\u001b[1;33m\u001b[0m\u001b[0m\n\u001b[0m\u001b[0;32m    543\u001b[0m \u001b[1;33m\u001b[0m\u001b[0m\n\u001b[0;32m    544\u001b[0m         \u001b[1;32mreturn\u001b[0m \u001b[0mresp\u001b[0m\u001b[1;33m\u001b[0m\u001b[1;33m\u001b[0m\u001b[0m\n",
      "\u001b[1;32m~\\anaconda3\\envs\\nlp\\lib\\site-packages\\requests\\sessions.py\u001b[0m in \u001b[0;36msend\u001b[1;34m(self, request, **kwargs)\u001b[0m\n\u001b[0;32m    653\u001b[0m \u001b[1;33m\u001b[0m\u001b[0m\n\u001b[0;32m    654\u001b[0m         \u001b[1;31m# Send the request\u001b[0m\u001b[1;33m\u001b[0m\u001b[1;33m\u001b[0m\u001b[1;33m\u001b[0m\u001b[0m\n\u001b[1;32m--> 655\u001b[1;33m         \u001b[0mr\u001b[0m \u001b[1;33m=\u001b[0m \u001b[0madapter\u001b[0m\u001b[1;33m.\u001b[0m\u001b[0msend\u001b[0m\u001b[1;33m(\u001b[0m\u001b[0mrequest\u001b[0m\u001b[1;33m,\u001b[0m \u001b[1;33m**\u001b[0m\u001b[0mkwargs\u001b[0m\u001b[1;33m)\u001b[0m\u001b[1;33m\u001b[0m\u001b[1;33m\u001b[0m\u001b[0m\n\u001b[0m\u001b[0;32m    656\u001b[0m \u001b[1;33m\u001b[0m\u001b[0m\n\u001b[0;32m    657\u001b[0m         \u001b[1;31m# Total elapsed time of the request (approximately)\u001b[0m\u001b[1;33m\u001b[0m\u001b[1;33m\u001b[0m\u001b[1;33m\u001b[0m\u001b[0m\n",
      "\u001b[1;32m~\\anaconda3\\envs\\nlp\\lib\\site-packages\\requests\\adapters.py\u001b[0m in \u001b[0;36msend\u001b[1;34m(self, request, stream, timeout, verify, cert, proxies)\u001b[0m\n\u001b[0;32m    437\u001b[0m         \u001b[1;32mtry\u001b[0m\u001b[1;33m:\u001b[0m\u001b[1;33m\u001b[0m\u001b[1;33m\u001b[0m\u001b[0m\n\u001b[0;32m    438\u001b[0m             \u001b[1;32mif\u001b[0m \u001b[1;32mnot\u001b[0m \u001b[0mchunked\u001b[0m\u001b[1;33m:\u001b[0m\u001b[1;33m\u001b[0m\u001b[1;33m\u001b[0m\u001b[0m\n\u001b[1;32m--> 439\u001b[1;33m                 resp = conn.urlopen(\n\u001b[0m\u001b[0;32m    440\u001b[0m                     \u001b[0mmethod\u001b[0m\u001b[1;33m=\u001b[0m\u001b[0mrequest\u001b[0m\u001b[1;33m.\u001b[0m\u001b[0mmethod\u001b[0m\u001b[1;33m,\u001b[0m\u001b[1;33m\u001b[0m\u001b[1;33m\u001b[0m\u001b[0m\n\u001b[0;32m    441\u001b[0m                     \u001b[0murl\u001b[0m\u001b[1;33m=\u001b[0m\u001b[0murl\u001b[0m\u001b[1;33m,\u001b[0m\u001b[1;33m\u001b[0m\u001b[1;33m\u001b[0m\u001b[0m\n",
      "\u001b[1;32m~\\anaconda3\\envs\\nlp\\lib\\site-packages\\urllib3\\connectionpool.py\u001b[0m in \u001b[0;36murlopen\u001b[1;34m(self, method, url, body, headers, retries, redirect, assert_same_host, timeout, pool_timeout, release_conn, chunked, body_pos, **response_kw)\u001b[0m\n\u001b[0;32m    697\u001b[0m \u001b[1;33m\u001b[0m\u001b[0m\n\u001b[0;32m    698\u001b[0m             \u001b[1;31m# Make the request on the httplib connection object.\u001b[0m\u001b[1;33m\u001b[0m\u001b[1;33m\u001b[0m\u001b[1;33m\u001b[0m\u001b[0m\n\u001b[1;32m--> 699\u001b[1;33m             httplib_response = self._make_request(\n\u001b[0m\u001b[0;32m    700\u001b[0m                 \u001b[0mconn\u001b[0m\u001b[1;33m,\u001b[0m\u001b[1;33m\u001b[0m\u001b[1;33m\u001b[0m\u001b[0m\n\u001b[0;32m    701\u001b[0m                 \u001b[0mmethod\u001b[0m\u001b[1;33m,\u001b[0m\u001b[1;33m\u001b[0m\u001b[1;33m\u001b[0m\u001b[0m\n",
      "\u001b[1;32m~\\anaconda3\\envs\\nlp\\lib\\site-packages\\urllib3\\connectionpool.py\u001b[0m in \u001b[0;36m_make_request\u001b[1;34m(self, conn, method, url, timeout, chunked, **httplib_request_kw)\u001b[0m\n\u001b[0;32m    380\u001b[0m         \u001b[1;31m# Trigger any extra validation we need to do.\u001b[0m\u001b[1;33m\u001b[0m\u001b[1;33m\u001b[0m\u001b[1;33m\u001b[0m\u001b[0m\n\u001b[0;32m    381\u001b[0m         \u001b[1;32mtry\u001b[0m\u001b[1;33m:\u001b[0m\u001b[1;33m\u001b[0m\u001b[1;33m\u001b[0m\u001b[0m\n\u001b[1;32m--> 382\u001b[1;33m             \u001b[0mself\u001b[0m\u001b[1;33m.\u001b[0m\u001b[0m_validate_conn\u001b[0m\u001b[1;33m(\u001b[0m\u001b[0mconn\u001b[0m\u001b[1;33m)\u001b[0m\u001b[1;33m\u001b[0m\u001b[1;33m\u001b[0m\u001b[0m\n\u001b[0m\u001b[0;32m    383\u001b[0m         \u001b[1;32mexcept\u001b[0m \u001b[1;33m(\u001b[0m\u001b[0mSocketTimeout\u001b[0m\u001b[1;33m,\u001b[0m \u001b[0mBaseSSLError\u001b[0m\u001b[1;33m)\u001b[0m \u001b[1;32mas\u001b[0m \u001b[0me\u001b[0m\u001b[1;33m:\u001b[0m\u001b[1;33m\u001b[0m\u001b[1;33m\u001b[0m\u001b[0m\n\u001b[0;32m    384\u001b[0m             \u001b[1;31m# Py2 raises this as a BaseSSLError, Py3 raises it as socket timeout.\u001b[0m\u001b[1;33m\u001b[0m\u001b[1;33m\u001b[0m\u001b[1;33m\u001b[0m\u001b[0m\n",
      "\u001b[1;32m~\\anaconda3\\envs\\nlp\\lib\\site-packages\\urllib3\\connectionpool.py\u001b[0m in \u001b[0;36m_validate_conn\u001b[1;34m(self, conn)\u001b[0m\n\u001b[0;32m   1008\u001b[0m         \u001b[1;31m# Force connect early to allow us to validate the connection.\u001b[0m\u001b[1;33m\u001b[0m\u001b[1;33m\u001b[0m\u001b[1;33m\u001b[0m\u001b[0m\n\u001b[0;32m   1009\u001b[0m         \u001b[1;32mif\u001b[0m \u001b[1;32mnot\u001b[0m \u001b[0mgetattr\u001b[0m\u001b[1;33m(\u001b[0m\u001b[0mconn\u001b[0m\u001b[1;33m,\u001b[0m \u001b[1;34m\"sock\"\u001b[0m\u001b[1;33m,\u001b[0m \u001b[1;32mNone\u001b[0m\u001b[1;33m)\u001b[0m\u001b[1;33m:\u001b[0m  \u001b[1;31m# AppEngine might not have  `.sock`\u001b[0m\u001b[1;33m\u001b[0m\u001b[1;33m\u001b[0m\u001b[0m\n\u001b[1;32m-> 1010\u001b[1;33m             \u001b[0mconn\u001b[0m\u001b[1;33m.\u001b[0m\u001b[0mconnect\u001b[0m\u001b[1;33m(\u001b[0m\u001b[1;33m)\u001b[0m\u001b[1;33m\u001b[0m\u001b[1;33m\u001b[0m\u001b[0m\n\u001b[0m\u001b[0;32m   1011\u001b[0m \u001b[1;33m\u001b[0m\u001b[0m\n\u001b[0;32m   1012\u001b[0m         \u001b[1;32mif\u001b[0m \u001b[1;32mnot\u001b[0m \u001b[0mconn\u001b[0m\u001b[1;33m.\u001b[0m\u001b[0mis_verified\u001b[0m\u001b[1;33m:\u001b[0m\u001b[1;33m\u001b[0m\u001b[1;33m\u001b[0m\u001b[0m\n",
      "\u001b[1;32m~\\anaconda3\\envs\\nlp\\lib\\site-packages\\urllib3\\connection.py\u001b[0m in \u001b[0;36mconnect\u001b[1;34m(self)\u001b[0m\n\u001b[0;32m    351\u001b[0m     \u001b[1;32mdef\u001b[0m \u001b[0mconnect\u001b[0m\u001b[1;33m(\u001b[0m\u001b[0mself\u001b[0m\u001b[1;33m)\u001b[0m\u001b[1;33m:\u001b[0m\u001b[1;33m\u001b[0m\u001b[1;33m\u001b[0m\u001b[0m\n\u001b[0;32m    352\u001b[0m         \u001b[1;31m# Add certificate verification\u001b[0m\u001b[1;33m\u001b[0m\u001b[1;33m\u001b[0m\u001b[1;33m\u001b[0m\u001b[0m\n\u001b[1;32m--> 353\u001b[1;33m         \u001b[0mconn\u001b[0m \u001b[1;33m=\u001b[0m \u001b[0mself\u001b[0m\u001b[1;33m.\u001b[0m\u001b[0m_new_conn\u001b[0m\u001b[1;33m(\u001b[0m\u001b[1;33m)\u001b[0m\u001b[1;33m\u001b[0m\u001b[1;33m\u001b[0m\u001b[0m\n\u001b[0m\u001b[0;32m    354\u001b[0m         \u001b[0mhostname\u001b[0m \u001b[1;33m=\u001b[0m \u001b[0mself\u001b[0m\u001b[1;33m.\u001b[0m\u001b[0mhost\u001b[0m\u001b[1;33m\u001b[0m\u001b[1;33m\u001b[0m\u001b[0m\n\u001b[0;32m    355\u001b[0m         \u001b[0mtls_in_tls\u001b[0m \u001b[1;33m=\u001b[0m \u001b[1;32mFalse\u001b[0m\u001b[1;33m\u001b[0m\u001b[1;33m\u001b[0m\u001b[0m\n",
      "\u001b[1;32m~\\anaconda3\\envs\\nlp\\lib\\site-packages\\urllib3\\connection.py\u001b[0m in \u001b[0;36m_new_conn\u001b[1;34m(self)\u001b[0m\n\u001b[0;32m    167\u001b[0m \u001b[1;33m\u001b[0m\u001b[0m\n\u001b[0;32m    168\u001b[0m         \u001b[1;32mtry\u001b[0m\u001b[1;33m:\u001b[0m\u001b[1;33m\u001b[0m\u001b[1;33m\u001b[0m\u001b[0m\n\u001b[1;32m--> 169\u001b[1;33m             conn = connection.create_connection(\n\u001b[0m\u001b[0;32m    170\u001b[0m                 \u001b[1;33m(\u001b[0m\u001b[0mself\u001b[0m\u001b[1;33m.\u001b[0m\u001b[0m_dns_host\u001b[0m\u001b[1;33m,\u001b[0m \u001b[0mself\u001b[0m\u001b[1;33m.\u001b[0m\u001b[0mport\u001b[0m\u001b[1;33m)\u001b[0m\u001b[1;33m,\u001b[0m \u001b[0mself\u001b[0m\u001b[1;33m.\u001b[0m\u001b[0mtimeout\u001b[0m\u001b[1;33m,\u001b[0m \u001b[1;33m**\u001b[0m\u001b[0mextra_kw\u001b[0m\u001b[1;33m\u001b[0m\u001b[1;33m\u001b[0m\u001b[0m\n\u001b[0;32m    171\u001b[0m             )\n",
      "\u001b[1;32m~\\anaconda3\\envs\\nlp\\lib\\site-packages\\urllib3\\util\\connection.py\u001b[0m in \u001b[0;36mcreate_connection\u001b[1;34m(address, timeout, source_address, socket_options)\u001b[0m\n\u001b[0;32m     84\u001b[0m             \u001b[1;32mif\u001b[0m \u001b[0msource_address\u001b[0m\u001b[1;33m:\u001b[0m\u001b[1;33m\u001b[0m\u001b[1;33m\u001b[0m\u001b[0m\n\u001b[0;32m     85\u001b[0m                 \u001b[0msock\u001b[0m\u001b[1;33m.\u001b[0m\u001b[0mbind\u001b[0m\u001b[1;33m(\u001b[0m\u001b[0msource_address\u001b[0m\u001b[1;33m)\u001b[0m\u001b[1;33m\u001b[0m\u001b[1;33m\u001b[0m\u001b[0m\n\u001b[1;32m---> 86\u001b[1;33m             \u001b[0msock\u001b[0m\u001b[1;33m.\u001b[0m\u001b[0mconnect\u001b[0m\u001b[1;33m(\u001b[0m\u001b[0msa\u001b[0m\u001b[1;33m)\u001b[0m\u001b[1;33m\u001b[0m\u001b[1;33m\u001b[0m\u001b[0m\n\u001b[0m\u001b[0;32m     87\u001b[0m             \u001b[1;32mreturn\u001b[0m \u001b[0msock\u001b[0m\u001b[1;33m\u001b[0m\u001b[1;33m\u001b[0m\u001b[0m\n\u001b[0;32m     88\u001b[0m \u001b[1;33m\u001b[0m\u001b[0m\n",
      "\u001b[1;31mKeyboardInterrupt\u001b[0m: "
     ]
    }
   ],
   "source": [
    "#collect 20,000 tweets\n",
    "last_dt, last_str = saved_params[:2]\n",
    "\n",
    "n = saved_params[2]\n",
    "while n <= 40:\n",
    "    if n % 5 == 0:\n",
    "        h = random.randint(0,23)\n",
    "        last_dt, last_str = dat.timestamp_to_toDate((last_dt - timedelta(days=2, hours=h)).strftime(\"%a %b %d %H:%M:%S %z %Y\"))\n",
    "        print(\"going back 2 days\")\n",
    "    try:\n",
    "        print(last_dt, \"n={}\".format(n))\n",
    "        fname = os.path.join(r'..\\data_files', 'main_search{}.json'.format(n))\n",
    "        search = dat.api_advanced_search(query, fname, which_api='30day', todate=last_str, n_items=500, return_dict=True)\n",
    "        last_dt, last_str = dat.timestamp_to_toDate(search[499]['created_at'])    \n",
    "        n += 1\n",
    "    except Exception as e:\n",
    "        saved_params = last_dt, last_str, n\n",
    "        print(saved_params)\n",
    "        print(\"exception = \", e)\n",
    "        print(\"...sleeping...\")\n",
    "        time.sleep(60)\n",
    "        continue"
   ]
  },
  {
   "cell_type": "code",
   "execution_count": null,
   "metadata": {},
   "outputs": [],
   "source": []
  }
 ],
 "metadata": {
  "kernelspec": {
   "display_name": "nlp",
   "language": "python",
   "name": "nlp"
  },
  "language_info": {
   "codemirror_mode": {
    "name": "ipython",
    "version": 3
   },
   "file_extension": ".py",
   "mimetype": "text/x-python",
   "name": "python",
   "nbconvert_exporter": "python",
   "pygments_lexer": "ipython3",
   "version": "3.8.5"
  }
 },
 "nbformat": 4,
 "nbformat_minor": 4
}

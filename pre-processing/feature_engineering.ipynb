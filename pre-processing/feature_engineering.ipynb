{
 "cells": [
  {
   "cell_type": "markdown",
   "metadata": {},
   "source": [
    "#### import the things"
   ]
  },
  {
   "cell_type": "code",
   "execution_count": 2,
   "metadata": {},
   "outputs": [],
   "source": [
    "import os\n",
    "import nltk\n",
    "import pandas as pd\n",
    "import re\n",
    "import string\n",
    "from sklearn.feature_extraction.text import CountVectorizer"
   ]
  },
  {
   "cell_type": "code",
   "execution_count": 3,
   "metadata": {},
   "outputs": [],
   "source": [
    "import matplotlib.pyplot as plt\n",
    "import seaborn as sns"
   ]
  },
  {
   "cell_type": "code",
   "execution_count": 4,
   "metadata": {},
   "outputs": [],
   "source": [
    "import numpy as np"
   ]
  },
  {
   "cell_type": "code",
   "execution_count": 5,
   "metadata": {},
   "outputs": [],
   "source": [
    "wn = nltk.WordNetLemmatizer()\n",
    "pd.set_option('display.max_colwidth', 100)\n",
    "idx = pd.IndexSlice"
   ]
  },
  {
   "cell_type": "code",
   "execution_count": 6,
   "metadata": {},
   "outputs": [],
   "source": [
    "from src.data import data_sorting_tools as dst\n",
    "%load_ext autoreload\n",
    "%autoreload 2"
   ]
  },
  {
   "cell_type": "code",
   "execution_count": 7,
   "metadata": {},
   "outputs": [],
   "source": [
    "def remove_things(list_to_clean, to_remove):\n",
    "    new_list = [thing for thing in list_to_clean if thing not in to_remove]\n",
    "    return new_list"
   ]
  },
  {
   "cell_type": "code",
   "execution_count": 8,
   "metadata": {},
   "outputs": [],
   "source": [
    "stopwords = nltk.corpus.stopwords.words('english')\n",
    "custom_stopwords = ['amp']\n",
    "stopwords = stopwords + custom_stopwords"
   ]
  },
  {
   "cell_type": "code",
   "execution_count": null,
   "metadata": {},
   "outputs": [],
   "source": []
  },
  {
   "cell_type": "code",
   "execution_count": 9,
   "metadata": {},
   "outputs": [],
   "source": [
    "def clean_tweet(tweet):\n",
    "    \"\"\"code adpated from LinkedIn Learning class NLP with Python for Machine Learning Essential Training by Derek Jedamski\"\"\"    \n",
    "    tweet = \"\".join([word.lower() for word in tweet if word not in string.punctuation])\n",
    "    tokens = re.split('\\W+', tweet)\n",
    "    tweet = [wn.lemmatize(word) for word in tokens if word not in stopwords]   \n",
    "    return tweet"
   ]
  },
  {
   "cell_type": "markdown",
   "metadata": {},
   "source": [
    "#### load the data and process the text"
   ]
  },
  {
   "cell_type": "code",
   "execution_count": 10,
   "metadata": {},
   "outputs": [],
   "source": [
    "df = pd.read_pickle(\"../data/compiled/full_dataset_cleaned.pkl\")"
   ]
  },
  {
   "cell_type": "code",
   "execution_count": 11,
   "metadata": {},
   "outputs": [
    {
     "data": {
      "text/html": [
       "<div>\n",
       "<style scoped>\n",
       "    .dataframe tbody tr th:only-of-type {\n",
       "        vertical-align: middle;\n",
       "    }\n",
       "\n",
       "    .dataframe tbody tr th {\n",
       "        vertical-align: top;\n",
       "    }\n",
       "\n",
       "    .dataframe thead th {\n",
       "        text-align: right;\n",
       "    }\n",
       "</style>\n",
       "<table border=\"1\" class=\"dataframe\">\n",
       "  <thead>\n",
       "    <tr style=\"text-align: right;\">\n",
       "      <th></th>\n",
       "      <th></th>\n",
       "      <th>quote_count</th>\n",
       "      <th>reply_count</th>\n",
       "      <th>retweet_count</th>\n",
       "      <th>favorite_count</th>\n",
       "      <th>user_followers_count</th>\n",
       "      <th>user_verified</th>\n",
       "      <th>full_text</th>\n",
       "      <th>media_count</th>\n",
       "      <th>media_types</th>\n",
       "    </tr>\n",
       "    <tr>\n",
       "      <th>tid</th>\n",
       "      <th>uid</th>\n",
       "      <th></th>\n",
       "      <th></th>\n",
       "      <th></th>\n",
       "      <th></th>\n",
       "      <th></th>\n",
       "      <th></th>\n",
       "      <th></th>\n",
       "      <th></th>\n",
       "      <th></th>\n",
       "    </tr>\n",
       "  </thead>\n",
       "  <tbody>\n",
       "    <tr>\n",
       "      <th>1333476068192366593</th>\n",
       "      <th>2152363202</th>\n",
       "      <td>0</td>\n",
       "      <td>2</td>\n",
       "      <td>3</td>\n",
       "      <td>16</td>\n",
       "      <td>6070</td>\n",
       "      <td>False</td>\n",
       "      <td>Teen pregnancy is high, HIV infection rate is growing fastest among teens, and teens are experim...</td>\n",
       "      <td>0</td>\n",
       "      <td>none</td>\n",
       "    </tr>\n",
       "    <tr>\n",
       "      <th>1364161232270487553</th>\n",
       "      <th>1331332400836726785</th>\n",
       "      <td>0</td>\n",
       "      <td>0</td>\n",
       "      <td>0</td>\n",
       "      <td>0</td>\n",
       "      <td>62</td>\n",
       "      <td>False</td>\n",
       "      <td>Even though it was a charity.  Stevens thought that speaking to DHSS rather than those suffering...</td>\n",
       "      <td>0</td>\n",
       "      <td>none</td>\n",
       "    </tr>\n",
       "    <tr>\n",
       "      <th>1364161201291153414</th>\n",
       "      <th>150301804</th>\n",
       "      <td>0</td>\n",
       "      <td>0</td>\n",
       "      <td>0</td>\n",
       "      <td>0</td>\n",
       "      <td>1044</td>\n",
       "      <td>False</td>\n",
       "      <td>SCORA\\nStanding Committee on Sexual &amp;amp; Reproductive Health and Rights including HIV&amp;amp;AIDS\\...</td>\n",
       "      <td>0</td>\n",
       "      <td>none</td>\n",
       "    </tr>\n",
       "    <tr>\n",
       "      <th>1364161184505737217</th>\n",
       "      <th>1317091162159747075</th>\n",
       "      <td>0</td>\n",
       "      <td>0</td>\n",
       "      <td>0</td>\n",
       "      <td>0</td>\n",
       "      <td>15</td>\n",
       "      <td>False</td>\n",
       "      <td>many females are HIV+, we wish you well, blessings, we can't heal you totally, but providing rel...</td>\n",
       "      <td>0</td>\n",
       "      <td>none</td>\n",
       "    </tr>\n",
       "    <tr>\n",
       "      <th>1363439109948149760</th>\n",
       "      <th>1353391442408792066</th>\n",
       "      <td>0</td>\n",
       "      <td>0</td>\n",
       "      <td>2</td>\n",
       "      <td>24</td>\n",
       "      <td>184</td>\n",
       "      <td>False</td>\n",
       "      <td>@TheRustler83 Yep. Imagine if the government were demanding HIV tests weekly in every high school.</td>\n",
       "      <td>0</td>\n",
       "      <td>none</td>\n",
       "    </tr>\n",
       "  </tbody>\n",
       "</table>\n",
       "</div>"
      ],
      "text/plain": [
       "                                         quote_count  reply_count  \\\n",
       "tid                 uid                                             \n",
       "1333476068192366593 2152363202                     0            2   \n",
       "1364161232270487553 1331332400836726785            0            0   \n",
       "1364161201291153414 150301804                      0            0   \n",
       "1364161184505737217 1317091162159747075            0            0   \n",
       "1363439109948149760 1353391442408792066            0            0   \n",
       "\n",
       "                                         retweet_count  favorite_count  \\\n",
       "tid                 uid                                                  \n",
       "1333476068192366593 2152363202                       3              16   \n",
       "1364161232270487553 1331332400836726785              0               0   \n",
       "1364161201291153414 150301804                        0               0   \n",
       "1364161184505737217 1317091162159747075              0               0   \n",
       "1363439109948149760 1353391442408792066              2              24   \n",
       "\n",
       "                                         user_followers_count  user_verified  \\\n",
       "tid                 uid                                                        \n",
       "1333476068192366593 2152363202                           6070          False   \n",
       "1364161232270487553 1331332400836726785                    62          False   \n",
       "1364161201291153414 150301804                            1044          False   \n",
       "1364161184505737217 1317091162159747075                    15          False   \n",
       "1363439109948149760 1353391442408792066                   184          False   \n",
       "\n",
       "                                                                                                                                   full_text  \\\n",
       "tid                 uid                                                                                                                        \n",
       "1333476068192366593 2152363202           Teen pregnancy is high, HIV infection rate is growing fastest among teens, and teens are experim...   \n",
       "1364161232270487553 1331332400836726785  Even though it was a charity.  Stevens thought that speaking to DHSS rather than those suffering...   \n",
       "1364161201291153414 150301804            SCORA\\nStanding Committee on Sexual &amp; Reproductive Health and Rights including HIV&amp;AIDS\\...   \n",
       "1364161184505737217 1317091162159747075  many females are HIV+, we wish you well, blessings, we can't heal you totally, but providing rel...   \n",
       "1363439109948149760 1353391442408792066   @TheRustler83 Yep. Imagine if the government were demanding HIV tests weekly in every high school.   \n",
       "\n",
       "                                         media_count media_types  \n",
       "tid                 uid                                           \n",
       "1333476068192366593 2152363202                     0        none  \n",
       "1364161232270487553 1331332400836726785            0        none  \n",
       "1364161201291153414 150301804                      0        none  \n",
       "1364161184505737217 1317091162159747075            0        none  \n",
       "1363439109948149760 1353391442408792066            0        none  "
      ]
     },
     "execution_count": 11,
     "metadata": {},
     "output_type": "execute_result"
    }
   ],
   "source": [
    "df.head()"
   ]
  },
  {
   "cell_type": "code",
   "execution_count": 12,
   "metadata": {},
   "outputs": [
    {
     "name": "stdout",
     "output_type": "stream",
     "text": [
      "<class 'pandas.core.frame.DataFrame'>\n",
      "MultiIndex: 7662 entries, (1333476068192366593, 2152363202) to (1363949692288004103, 308788980)\n",
      "Data columns (total 9 columns):\n",
      " #   Column                Non-Null Count  Dtype  \n",
      "---  ------                --------------  -----  \n",
      " 0   quote_count           7662 non-null   Int64  \n",
      " 1   reply_count           7662 non-null   Int64  \n",
      " 2   retweet_count         7662 non-null   Int64  \n",
      " 3   favorite_count        7662 non-null   Int64  \n",
      " 4   user_followers_count  7662 non-null   Int64  \n",
      " 5   user_verified         7662 non-null   boolean\n",
      " 6   full_text             7662 non-null   object \n",
      " 7   media_count           7662 non-null   Int64  \n",
      " 8   media_types           7662 non-null   string \n",
      "dtypes: Int64(6), boolean(1), object(1), string(1)\n",
      "memory usage: 1.1+ MB\n"
     ]
    }
   ],
   "source": [
    "df.info()"
   ]
  },
  {
   "cell_type": "code",
   "execution_count": 152,
   "metadata": {},
   "outputs": [],
   "source": [
    "tdf = df.loc[idx[:,],['full_text']]\n",
    "tdf = tdf.reset_index().drop(columns='uid')"
   ]
  },
  {
   "cell_type": "code",
   "execution_count": 153,
   "metadata": {},
   "outputs": [],
   "source": [
    "tdf['clean'] = tdf['full_text'].apply(lambda x: clean_tweet(x))"
   ]
  },
  {
   "cell_type": "code",
   "execution_count": 154,
   "metadata": {},
   "outputs": [],
   "source": [
    "tdf['hashtags'] = tdf['full_text'].apply(lambda x: re.findall(r\"#(\\w+)\", x.lower().strip()))\n",
    "tdf['hashtags_count'] = tdf['hashtags'].apply(lambda x: len(x))\n",
    "tdf['mentions'] = tdf['full_text'].apply(lambda x: re.findall(r\"@(\\w+)\", x.lower().strip()))\n",
    "tdf['mentions_count'] = tdf['mentions'].apply(lambda x: len(x))\n",
    "\n",
    "tdf['full_word_count'] = tdf['full_text'].apply(lambda x: len(x.split(' ')))"
   ]
  },
  {
   "cell_type": "code",
   "execution_count": null,
   "metadata": {},
   "outputs": [],
   "source": []
  },
  {
   "cell_type": "code",
   "execution_count": 170,
   "metadata": {},
   "outputs": [],
   "source": [
    "new_tweets = {}\n",
    "for row in tdf.index:\n",
    "    text = tdf.at[row, 'clean']\n",
    "    hashtags = tdf.at[row, 'hashtags']\n",
    "    mentions = tdf.at[row, 'mentions']\n",
    "    new_text = [word for word in text if word not in ' '.join(hashtags)]\n",
    "    new_text = ' '.join([word for word in new_text if word not in ' '.join(mentions)])\n",
    "    ind = tdf.at[row, 'tid']\n",
    "    new_tweets[ind] = new_text"
   ]
  },
  {
   "cell_type": "code",
   "execution_count": 171,
   "metadata": {},
   "outputs": [],
   "source": [
    "tdf = tdf.merge(pd.Series(new_tweets, name='clean_no_@#'), left_on='tid', right_index=True)"
   ]
  },
  {
   "cell_type": "code",
   "execution_count": 166,
   "metadata": {},
   "outputs": [],
   "source": [
    "tdf['hashtags_ratio'] = tdf.apply(lambda x: np.round(x['hashtags_count'] / len(x['clean_no_@#']), 3), axis=1)\n",
    "tdf['mentions_ratio'] = tdf.apply(lambda x: np.round(x['mentions_count'] / len(x['clean_no_@#']), 3), axis=1)"
   ]
  },
  {
   "cell_type": "code",
   "execution_count": 176,
   "metadata": {},
   "outputs": [
    {
     "data": {
      "text/html": [
       "<div>\n",
       "<style scoped>\n",
       "    .dataframe tbody tr th:only-of-type {\n",
       "        vertical-align: middle;\n",
       "    }\n",
       "\n",
       "    .dataframe tbody tr th {\n",
       "        vertical-align: top;\n",
       "    }\n",
       "\n",
       "    .dataframe thead th {\n",
       "        text-align: right;\n",
       "    }\n",
       "</style>\n",
       "<table border=\"1\" class=\"dataframe\">\n",
       "  <thead>\n",
       "    <tr style=\"text-align: right;\">\n",
       "      <th></th>\n",
       "      <th>tid</th>\n",
       "      <th>full_text</th>\n",
       "      <th>clean</th>\n",
       "      <th>hashtags</th>\n",
       "      <th>hashtags_count</th>\n",
       "      <th>mentions</th>\n",
       "      <th>mentions_count</th>\n",
       "      <th>full_word_count</th>\n",
       "      <th>hashtags_ratio</th>\n",
       "      <th>mentions_ratio</th>\n",
       "      <th>clean_no_@#</th>\n",
       "    </tr>\n",
       "  </thead>\n",
       "  <tbody>\n",
       "    <tr>\n",
       "      <th>0</th>\n",
       "      <td>1333476068192366593</td>\n",
       "      <td>Teen pregnancy is high, HIV infection rate is growing fastest among teens, and teens are experim...</td>\n",
       "      <td>[teen, pregnancy, high, hiv, infection, rate, growing, fastest, among, teen, teen, experimenting...</td>\n",
       "      <td>[]</td>\n",
       "      <td>0</td>\n",
       "      <td>[]</td>\n",
       "      <td>0</td>\n",
       "      <td>22</td>\n",
       "      <td>0.000</td>\n",
       "      <td>0.000</td>\n",
       "      <td>teen pregnancy high hiv infection rate growing fastest among teen teen experimenting sex need srh</td>\n",
       "    </tr>\n",
       "    <tr>\n",
       "      <th>1</th>\n",
       "      <td>1364161232270487553</td>\n",
       "      <td>Even though it was a charity.  Stevens thought that speaking to DHSS rather than those suffering...</td>\n",
       "      <td>[even, though, charity, stevens, thought, speaking, dhss, rather, suffering, 1980, 1990, hiv, ha...</td>\n",
       "      <td>[hiv, haemophilia]</td>\n",
       "      <td>2</td>\n",
       "      <td>[bloodinquiry]</td>\n",
       "      <td>1</td>\n",
       "      <td>25</td>\n",
       "      <td>0.167</td>\n",
       "      <td>0.083</td>\n",
       "      <td>even though charity stevens thought speaking dhss rather suffering 1980 1990 httpstcohzrl1mm0rx</td>\n",
       "    </tr>\n",
       "    <tr>\n",
       "      <th>2</th>\n",
       "      <td>1364161201291153414</td>\n",
       "      <td>SCORA\\nStanding Committee on Sexual &amp;amp; Reproductive Health and Rights including HIV&amp;amp;AIDS\\...</td>\n",
       "      <td>[scora, standing, committee, sexual, reproductive, health, right, including, hivampaids, cimsa, ...</td>\n",
       "      <td>[]</td>\n",
       "      <td>0</td>\n",
       "      <td>[]</td>\n",
       "      <td>0</td>\n",
       "      <td>15</td>\n",
       "      <td>0.000</td>\n",
       "      <td>0.000</td>\n",
       "      <td>scora standing committee sexual reproductive health right including hivampaids cimsa empowering ...</td>\n",
       "    </tr>\n",
       "    <tr>\n",
       "      <th>3</th>\n",
       "      <td>1364161184505737217</td>\n",
       "      <td>many females are HIV+, we wish you well, blessings, we can't heal you totally, but providing rel...</td>\n",
       "      <td>[many, female, hiv, wish, well, blessing, cant, heal, totally, providing, relief, medicine, salv...</td>\n",
       "      <td>[]</td>\n",
       "      <td>0</td>\n",
       "      <td>[]</td>\n",
       "      <td>0</td>\n",
       "      <td>33</td>\n",
       "      <td>0.000</td>\n",
       "      <td>0.000</td>\n",
       "      <td>many female hiv wish well blessing cant heal totally providing relief medicine salve specialty m...</td>\n",
       "    </tr>\n",
       "    <tr>\n",
       "      <th>4</th>\n",
       "      <td>1363439109948149760</td>\n",
       "      <td>@TheRustler83 Yep. Imagine if the government were demanding HIV tests weekly in every high school.</td>\n",
       "      <td>[therustler83, yep, imagine, government, demanding, hiv, test, weekly, every, high, school]</td>\n",
       "      <td>[]</td>\n",
       "      <td>0</td>\n",
       "      <td>[therustler83]</td>\n",
       "      <td>1</td>\n",
       "      <td>15</td>\n",
       "      <td>0.000</td>\n",
       "      <td>0.100</td>\n",
       "      <td>yep imagine government demanding hiv test weekly every high school</td>\n",
       "    </tr>\n",
       "  </tbody>\n",
       "</table>\n",
       "</div>"
      ],
      "text/plain": [
       "                   tid  \\\n",
       "0  1333476068192366593   \n",
       "1  1364161232270487553   \n",
       "2  1364161201291153414   \n",
       "3  1364161184505737217   \n",
       "4  1363439109948149760   \n",
       "\n",
       "                                                                                             full_text  \\\n",
       "0  Teen pregnancy is high, HIV infection rate is growing fastest among teens, and teens are experim...   \n",
       "1  Even though it was a charity.  Stevens thought that speaking to DHSS rather than those suffering...   \n",
       "2  SCORA\\nStanding Committee on Sexual &amp; Reproductive Health and Rights including HIV&amp;AIDS\\...   \n",
       "3  many females are HIV+, we wish you well, blessings, we can't heal you totally, but providing rel...   \n",
       "4   @TheRustler83 Yep. Imagine if the government were demanding HIV tests weekly in every high school.   \n",
       "\n",
       "                                                                                                 clean  \\\n",
       "0  [teen, pregnancy, high, hiv, infection, rate, growing, fastest, among, teen, teen, experimenting...   \n",
       "1  [even, though, charity, stevens, thought, speaking, dhss, rather, suffering, 1980, 1990, hiv, ha...   \n",
       "2  [scora, standing, committee, sexual, reproductive, health, right, including, hivampaids, cimsa, ...   \n",
       "3  [many, female, hiv, wish, well, blessing, cant, heal, totally, providing, relief, medicine, salv...   \n",
       "4          [therustler83, yep, imagine, government, demanding, hiv, test, weekly, every, high, school]   \n",
       "\n",
       "             hashtags  hashtags_count        mentions  mentions_count  \\\n",
       "0                  []               0              []               0   \n",
       "1  [hiv, haemophilia]               2  [bloodinquiry]               1   \n",
       "2                  []               0              []               0   \n",
       "3                  []               0              []               0   \n",
       "4                  []               0  [therustler83]               1   \n",
       "\n",
       "   full_word_count  hashtags_ratio  mentions_ratio  \\\n",
       "0               22           0.000           0.000   \n",
       "1               25           0.167           0.083   \n",
       "2               15           0.000           0.000   \n",
       "3               33           0.000           0.000   \n",
       "4               15           0.000           0.100   \n",
       "\n",
       "                                                                                           clean_no_@#  \n",
       "0    teen pregnancy high hiv infection rate growing fastest among teen teen experimenting sex need srh  \n",
       "1      even though charity stevens thought speaking dhss rather suffering 1980 1990 httpstcohzrl1mm0rx  \n",
       "2  scora standing committee sexual reproductive health right including hivampaids cimsa empowering ...  \n",
       "3  many female hiv wish well blessing cant heal totally providing relief medicine salve specialty m...  \n",
       "4                                   yep imagine government demanding hiv test weekly every high school  "
      ]
     },
     "execution_count": 176,
     "metadata": {},
     "output_type": "execute_result"
    }
   ],
   "source": [
    "tdf.head()"
   ]
  },
  {
   "cell_type": "code",
   "execution_count": null,
   "metadata": {},
   "outputs": [],
   "source": []
  },
  {
   "cell_type": "code",
   "execution_count": null,
   "metadata": {},
   "outputs": [],
   "source": []
  },
  {
   "cell_type": "markdown",
   "metadata": {},
   "source": [
    "#### try some data transformations"
   ]
  },
  {
   "cell_type": "code",
   "execution_count": 238,
   "metadata": {},
   "outputs": [
    {
     "data": {
      "text/plain": [
       "<AxesSubplot:xlabel='full_word_count', ylabel='Density'>"
      ]
     },
     "execution_count": 238,
     "metadata": {},
     "output_type": "execute_result"
    },
    {
     "data": {
      "image/png": "[encoded data removed]",
      "text/plain": [
       "<Figure size 432x288 with 1 Axes>"
      ]
     },
     "metadata": {
      "needs_background": "light"
     },
     "output_type": "display_data"
    }
   ],
   "source": [
    "bins = np.linspace(0, 100, 60)\n",
    "sns.histplot(tdf['full_word_count'], bins = bins, stat='density')"
   ]
  },
  {
   "cell_type": "code",
   "execution_count": 228,
   "metadata": {},
   "outputs": [
    {
     "data": {
      "image/png": "[encoded data removed]",
      "text/plain": [
       "<Figure size 432x288 with 1 Axes>"
      ]
     },
     "metadata": {
      "needs_background": "light"
     },
     "output_type": "display_data"
    },
    {
     "data": {
      "image/png": "[encoded data removed]",
      "text/plain": [
       "<Figure size 432x288 with 1 Axes>"
      ]
     },
     "metadata": {
      "needs_background": "light"
     },
     "output_type": "display_data"
    },
    {
     "data": {
      "image/png": "[encoded data removed]",
      "text/plain": [
       "<Figure size 432x288 with 1 Axes>"
      ]
     },
     "metadata": {
      "needs_background": "light"
     },
     "output_type": "display_data"
    },
    {
     "data": {
      "image/png": "[encoded data removed]",
      "text/plain": [
       "<Figure size 432x288 with 1 Axes>"
      ]
     },
     "metadata": {
      "needs_background": "light"
     },
     "output_type": "display_data"
    },
    {
     "data": {
      "image/png": "[encoded data removed]",
      "text/plain": [
       "<Figure size 432x288 with 1 Axes>"
      ]
     },
     "metadata": {
      "needs_background": "light"
     },
     "output_type": "display_data"
    }
   ],
   "source": [
    "bins = np.linspace(0, 1, 60)\n",
    "# plt.hist(tdf['hashtags_ratio'], bins)\n",
    "# plt.show()\n",
    "\n",
    "col = 'hashtags_ratio'\n",
    "\n",
    "for i in [1,2,3,4,5]:\n",
    "    sns.histplot(tdf[tdf[col] > 0][col]**(1/i), bins = bins, stat='density')\n",
    "#     sns.histplot(tdf[col]**(1/i), bins = bins, stat='density')\n",
    "#     plt.hist((tdf[col])**(1/i), bins=40, normalize =True)\n",
    "    plt.title('{} transformation: 1/{}'.format(col, i))\n",
    "    plt.show()"
   ]
  },
  {
   "cell_type": "code",
   "execution_count": 230,
   "metadata": {},
   "outputs": [
    {
     "data": {
      "image/png": "[encoded data removed]",
      "text/plain": [
       "<Figure size 432x288 with 1 Axes>"
      ]
     },
     "metadata": {
      "needs_background": "light"
     },
     "output_type": "display_data"
    },
    {
     "data": {
      "image/png": "[encoded data removed]",
      "text/plain": [
       "<Figure size 432x288 with 1 Axes>"
      ]
     },
     "metadata": {
      "needs_background": "light"
     },
     "output_type": "display_data"
    },
    {
     "data": {
      "image/png": "[encoded data removed]",
      "text/plain": [
       "<Figure size 432x288 with 1 Axes>"
      ]
     },
     "metadata": {
      "needs_background": "light"
     },
     "output_type": "display_data"
    },
    {
     "data": {
      "image/png": "[encoded data removed]",
      "text/plain": [
       "<Figure size 432x288 with 1 Axes>"
      ]
     },
     "metadata": {
      "needs_background": "light"
     },
     "output_type": "display_data"
    },
    {
     "data": {
      "image/png": "[encoded data removed]",
      "text/plain": [
       "<Figure size 432x288 with 1 Axes>"
      ]
     },
     "metadata": {
      "needs_background": "light"
     },
     "output_type": "display_data"
    }
   ],
   "source": [
    "bins = np.linspace(0, 20, 20)\n",
    "# plt.hist(tdf['hashtags_ratio'], bins)\n",
    "# plt.show()\n",
    "\n",
    "col = 'hashtags_count'\n",
    "\n",
    "for i in [1,2,3,4,5]:\n",
    "#     sns.histplot(tdf[tdf[col] > 0][col]**(1/i), bins = bins, stat='density')\n",
    "    sns.histplot(tdf[col]**(1/i), bins = bins, stat='density')\n",
    "#     plt.hist((tdf[col])**(1/i), bins=40, normalize =True)\n",
    "    plt.title('{} transformation: 1/{}'.format(col, i))\n",
    "    plt.show()"
   ]
  },
  {
   "cell_type": "code",
   "execution_count": 239,
   "metadata": {},
   "outputs": [
    {
     "data": {
      "image/png": "[encoded data removed]",
      "text/plain": [
       "<Figure size 432x288 with 1 Axes>"
      ]
     },
     "metadata": {
      "needs_background": "light"
     },
     "output_type": "display_data"
    },
    {
     "data": {
      "image/png": "[encoded data removed]",
      "text/plain": [
       "<Figure size 432x288 with 1 Axes>"
      ]
     },
     "metadata": {
      "needs_background": "light"
     },
     "output_type": "display_data"
    },
    {
     "data": {
      "image/png": "[encoded data removed]",
      "text/plain": [
       "<Figure size 432x288 with 1 Axes>"
      ]
     },
     "metadata": {
      "needs_background": "light"
     },
     "output_type": "display_data"
    },
    {
     "data": {
      "image/png": "[encoded data removed]",
      "text/plain": [
       "<Figure size 432x288 with 1 Axes>"
      ]
     },
     "metadata": {
      "needs_background": "light"
     },
     "output_type": "display_data"
    },
    {
     "data": {
      "image/png": "[encoded data removed]",
      "text/plain": [
       "<Figure size 432x288 with 1 Axes>"
      ]
     },
     "metadata": {
      "needs_background": "light"
     },
     "output_type": "display_data"
    },
    {
     "data": {
      "image/png": "[encoded data removed]",
      "text/plain": [
       "<Figure size 432x288 with 1 Axes>"
      ]
     },
     "metadata": {
      "needs_background": "light"
     },
     "output_type": "display_data"
    }
   ],
   "source": [
    "bins = np.linspace(0, 1, 60)\n",
    "# plt.hist(tdf['mentions_ratio'], bins)\n",
    "col = 'mentions_ratio'\n",
    "\n",
    "for i in [1,2,3,4,5, 6]:\n",
    "    sns.histplot(tdf[tdf[col] > 0][col]**(1/i), bins = bins, stat='density')\n",
    "#     sns.histplot(tdf[col]**(1/i), bins = bins, stat='density')\n",
    "#     plt.hist((tdf[col])**(1/i), bins=40, normalize =True)\n",
    "    plt.title('{} transformation: 1/{}'.format(col, i))\n",
    "    plt.show()"
   ]
  },
  {
   "cell_type": "code",
   "execution_count": 232,
   "metadata": {},
   "outputs": [
    {
     "data": {
      "image/png": "[encoded data removed]",
      "text/plain": [
       "<Figure size 432x288 with 1 Axes>"
      ]
     },
     "metadata": {
      "needs_background": "light"
     },
     "output_type": "display_data"
    },
    {
     "data": {
      "image/png": "[encoded data removed]",
      "text/plain": [
       "<Figure size 432x288 with 1 Axes>"
      ]
     },
     "metadata": {
      "needs_background": "light"
     },
     "output_type": "display_data"
    },
    {
     "data": {
      "image/png": "[encoded data removed]",
      "text/plain": [
       "<Figure size 432x288 with 1 Axes>"
      ]
     },
     "metadata": {
      "needs_background": "light"
     },
     "output_type": "display_data"
    },
    {
     "data": {
      "image/png": "[encoded data removed]",
      "text/plain": [
       "<Figure size 432x288 with 1 Axes>"
      ]
     },
     "metadata": {
      "needs_background": "light"
     },
     "output_type": "display_data"
    },
    {
     "data": {
      "image/png": "[encoded data removed]",
      "text/plain": [
       "<Figure size 432x288 with 1 Axes>"
      ]
     },
     "metadata": {
      "needs_background": "light"
     },
     "output_type": "display_data"
    }
   ],
   "source": [
    "bins = np.linspace(0, 20, 20)\n",
    "# plt.hist(tdf['mentions_count'], bins)\n",
    "col = 'mentions_count'\n",
    "\n",
    "for i in [1,2,3,4,5]:\n",
    "#     sns.histplot(tdf[tdf[col] > 0][col]**(1/i), bins = bins, stat='density')\n",
    "    sns.histplot(tdf[col]**(1/i), bins = bins, stat='density')\n",
    "#     plt.hist((tdf[col])**(1/i), bins=40, normalize =True)\n",
    "    plt.title('{} transformation: 1/{}'.format(col, i))\n",
    "    plt.show()"
   ]
  },
  {
   "cell_type": "code",
   "execution_count": 240,
   "metadata": {},
   "outputs": [
    {
     "data": {
      "text/plain": [
       "Index(['quote_count', 'reply_count', 'retweet_count', 'favorite_count',\n",
       "       'user_followers_count', 'user_verified', 'full_text', 'media_count',\n",
       "       'media_types'],\n",
       "      dtype='object')"
      ]
     },
     "execution_count": 240,
     "metadata": {},
     "output_type": "execute_result"
    }
   ],
   "source": [
    "df.columns"
   ]
  },
  {
   "cell_type": "code",
   "execution_count": 245,
   "metadata": {},
   "outputs": [
    {
     "data": {
      "text/plain": [
       "<IntegerArray>\n",
       "[16,  0,  0,  0, 24,  0,  0, 19,  0, 91,\n",
       " ...\n",
       "  0, 21,  7,  4, 10,  0,  0,  1,  2,  1]\n",
       "Length: 7662, dtype: Int64"
      ]
     },
     "execution_count": 245,
     "metadata": {},
     "output_type": "execute_result"
    }
   ],
   "source": [
    "df['favorite_count'].values"
   ]
  },
  {
   "cell_type": "code",
   "execution_count": 254,
   "metadata": {},
   "outputs": [
    {
     "data": {
      "image/png": "[encoded data removed]",
      "text/plain": [
       "<Figure size 432x288 with 1 Axes>"
      ]
     },
     "metadata": {
      "needs_background": "light"
     },
     "output_type": "display_data"
    }
   ],
   "source": [
    "bins = np.linspace(0, 100, 50)\n",
    "\n",
    "sns.histplot(df['favorite_count'], bins=bins, stat='density')\n",
    "plt.show()"
   ]
  },
  {
   "cell_type": "code",
   "execution_count": 286,
   "metadata": {
    "scrolled": false
   },
   "outputs": [
    {
     "data": {
      "image/png": "[encoded data removed]",
      "text/plain": [
       "<Figure size 432x288 with 1 Axes>"
      ]
     },
     "metadata": {
      "needs_background": "light"
     },
     "output_type": "display_data"
    },
    {
     "data": {
      "image/png": "[encoded data removed]",
      "text/plain": [
       "<Figure size 432x288 with 1 Axes>"
      ]
     },
     "metadata": {
      "needs_background": "light"
     },
     "output_type": "display_data"
    },
    {
     "data": {
      "image/png": "[encoded data removed]",
      "text/plain": [
       "<Figure size 432x288 with 1 Axes>"
      ]
     },
     "metadata": {
      "needs_background": "light"
     },
     "output_type": "display_data"
    },
    {
     "data": {
      "image/png": "[encoded data removed]",
      "text/plain": [
       "<Figure size 432x288 with 1 Axes>"
      ]
     },
     "metadata": {
      "needs_background": "light"
     },
     "output_type": "display_data"
    },
    {
     "data": {
      "image/png": "[encoded data removed]",
      "text/plain": [
       "<Figure size 432x288 with 1 Axes>"
      ]
     },
     "metadata": {
      "needs_background": "light"
     },
     "output_type": "display_data"
    },
    {
     "data": {
      "image/png": "[encoded data removed]",
      "text/plain": [
       "<Figure size 432x288 with 1 Axes>"
      ]
     },
     "metadata": {
      "needs_background": "light"
     },
     "output_type": "display_data"
    },
    {
     "data": {
      "image/png": "[encoded data removed]",
      "text/plain": [
       "<Figure size 432x288 with 1 Axes>"
      ]
     },
     "metadata": {
      "needs_background": "light"
     },
     "output_type": "display_data"
    }
   ],
   "source": [
    "bins = np.linspace(0, 100, 50)\n",
    "col = 'all_interactions'\n",
    "\n",
    "for i in [1,2,3,4,5,6,7]:\n",
    "    sns.histplot(df[df[col] > 0][col]**(1/i), bins = 40, stat='density')\n",
    "#     sns.histplot(df[col]**(1/i), bins = bins, stat='density')\n",
    "#     plt.hist((tdf[col])**(1/i), bins=40, normalize =True)\n",
    "    plt.title('{} transformation: 1/{}'.format(col, i))\n",
    "    plt.show()"
   ]
  },
  {
   "cell_type": "code",
   "execution_count": null,
   "metadata": {},
   "outputs": [],
   "source": [
    "np.log10"
   ]
  },
  {
   "cell_type": "code",
   "execution_count": 282,
   "metadata": {},
   "outputs": [
    {
     "data": {
      "text/plain": [
       "tid                  uid                \n",
       "1333476068192366593  2152363202             1.342423\n",
       "1364161232270487553  1331332400836726785    0.000000\n",
       "1364161201291153414  150301804              0.000000\n",
       "1364161184505737217  1317091162159747075    0.000000\n",
       "1363439109948149760  1353391442408792066    1.431364\n",
       "                                              ...   \n",
       "1363947236128866322  983308145412931585     0.000000\n",
       "1363947304705753090  802952556737691652     0.000000\n",
       "1363947807921561600  290165045              0.301030\n",
       "1363949275005263879  1680848514             0.602060\n",
       "1363949692288004103  308788980              0.301030\n",
       "Name: all_interactions, Length: 7662, dtype: float64"
      ]
     },
     "execution_count": 282,
     "metadata": {},
     "output_type": "execute_result"
    }
   ],
   "source": [
    "np.log10(df[col]+1)"
   ]
  },
  {
   "cell_type": "code",
   "execution_count": 298,
   "metadata": {},
   "outputs": [
    {
     "data": {
      "image/png": "[encoded data removed]",
      "text/plain": [
       "<Figure size 432x288 with 1 Axes>"
      ]
     },
     "metadata": {
      "needs_background": "light"
     },
     "output_type": "display_data"
    }
   ],
   "source": [
    "# bins = np.linspace(0, 100, 50)\n",
    "col = 'all_interactions'\n",
    "\n",
    "sns.histplot(np.log10(df[col]+1), bins = 40, stat='density')\n",
    "\n",
    "plt.title('{} transformation: log'.format(col, i))\n",
    "plt.show()"
   ]
  },
  {
   "cell_type": "code",
   "execution_count": 260,
   "metadata": {},
   "outputs": [
    {
     "data": {
      "text/plain": [
       "Index(['quote_count', 'reply_count', 'retweet_count', 'favorite_count',\n",
       "       'user_followers_count', 'user_verified', 'full_text', 'media_count',\n",
       "       'media_types'],\n",
       "      dtype='object')"
      ]
     },
     "execution_count": 260,
     "metadata": {},
     "output_type": "execute_result"
    }
   ],
   "source": [
    "df.columns"
   ]
  },
  {
   "cell_type": "markdown",
   "metadata": {},
   "source": [
    "trying to use the sum of all interactions instead of just favorites to get more non-zero values"
   ]
  },
  {
   "cell_type": "code",
   "execution_count": 263,
   "metadata": {},
   "outputs": [],
   "source": [
    "df['all_interactions'] = df.apply(lambda x: sum([x['quote_count'], x['reply_count'], x['retweet_count'], x['favorite_count']]), axis=1)"
   ]
  },
  {
   "cell_type": "code",
   "execution_count": 264,
   "metadata": {},
   "outputs": [
    {
     "data": {
      "text/html": [
       "<div>\n",
       "<style scoped>\n",
       "    .dataframe tbody tr th:only-of-type {\n",
       "        vertical-align: middle;\n",
       "    }\n",
       "\n",
       "    .dataframe tbody tr th {\n",
       "        vertical-align: top;\n",
       "    }\n",
       "\n",
       "    .dataframe thead th {\n",
       "        text-align: right;\n",
       "    }\n",
       "</style>\n",
       "<table border=\"1\" class=\"dataframe\">\n",
       "  <thead>\n",
       "    <tr style=\"text-align: right;\">\n",
       "      <th></th>\n",
       "      <th></th>\n",
       "      <th>quote_count</th>\n",
       "      <th>reply_count</th>\n",
       "      <th>retweet_count</th>\n",
       "      <th>favorite_count</th>\n",
       "      <th>user_followers_count</th>\n",
       "      <th>user_verified</th>\n",
       "      <th>full_text</th>\n",
       "      <th>media_count</th>\n",
       "      <th>media_types</th>\n",
       "      <th>all_interactions</th>\n",
       "    </tr>\n",
       "    <tr>\n",
       "      <th>tid</th>\n",
       "      <th>uid</th>\n",
       "      <th></th>\n",
       "      <th></th>\n",
       "      <th></th>\n",
       "      <th></th>\n",
       "      <th></th>\n",
       "      <th></th>\n",
       "      <th></th>\n",
       "      <th></th>\n",
       "      <th></th>\n",
       "      <th></th>\n",
       "    </tr>\n",
       "  </thead>\n",
       "  <tbody>\n",
       "    <tr>\n",
       "      <th>1333476068192366593</th>\n",
       "      <th>2152363202</th>\n",
       "      <td>0</td>\n",
       "      <td>2</td>\n",
       "      <td>3</td>\n",
       "      <td>16</td>\n",
       "      <td>6070</td>\n",
       "      <td>False</td>\n",
       "      <td>Teen pregnancy is high, HIV infection rate is growing fastest among teens, and teens are experim...</td>\n",
       "      <td>0</td>\n",
       "      <td>none</td>\n",
       "      <td>21</td>\n",
       "    </tr>\n",
       "    <tr>\n",
       "      <th>1364161232270487553</th>\n",
       "      <th>1331332400836726785</th>\n",
       "      <td>0</td>\n",
       "      <td>0</td>\n",
       "      <td>0</td>\n",
       "      <td>0</td>\n",
       "      <td>62</td>\n",
       "      <td>False</td>\n",
       "      <td>Even though it was a charity.  Stevens thought that speaking to DHSS rather than those suffering...</td>\n",
       "      <td>0</td>\n",
       "      <td>none</td>\n",
       "      <td>0</td>\n",
       "    </tr>\n",
       "    <tr>\n",
       "      <th>1364161201291153414</th>\n",
       "      <th>150301804</th>\n",
       "      <td>0</td>\n",
       "      <td>0</td>\n",
       "      <td>0</td>\n",
       "      <td>0</td>\n",
       "      <td>1044</td>\n",
       "      <td>False</td>\n",
       "      <td>SCORA\\nStanding Committee on Sexual &amp;amp; Reproductive Health and Rights including HIV&amp;amp;AIDS\\...</td>\n",
       "      <td>0</td>\n",
       "      <td>none</td>\n",
       "      <td>0</td>\n",
       "    </tr>\n",
       "    <tr>\n",
       "      <th>1364161184505737217</th>\n",
       "      <th>1317091162159747075</th>\n",
       "      <td>0</td>\n",
       "      <td>0</td>\n",
       "      <td>0</td>\n",
       "      <td>0</td>\n",
       "      <td>15</td>\n",
       "      <td>False</td>\n",
       "      <td>many females are HIV+, we wish you well, blessings, we can't heal you totally, but providing rel...</td>\n",
       "      <td>0</td>\n",
       "      <td>none</td>\n",
       "      <td>0</td>\n",
       "    </tr>\n",
       "    <tr>\n",
       "      <th>1363439109948149760</th>\n",
       "      <th>1353391442408792066</th>\n",
       "      <td>0</td>\n",
       "      <td>0</td>\n",
       "      <td>2</td>\n",
       "      <td>24</td>\n",
       "      <td>184</td>\n",
       "      <td>False</td>\n",
       "      <td>@TheRustler83 Yep. Imagine if the government were demanding HIV tests weekly in every high school.</td>\n",
       "      <td>0</td>\n",
       "      <td>none</td>\n",
       "      <td>26</td>\n",
       "    </tr>\n",
       "  </tbody>\n",
       "</table>\n",
       "</div>"
      ],
      "text/plain": [
       "                                         quote_count  reply_count  \\\n",
       "tid                 uid                                             \n",
       "1333476068192366593 2152363202                     0            2   \n",
       "1364161232270487553 1331332400836726785            0            0   \n",
       "1364161201291153414 150301804                      0            0   \n",
       "1364161184505737217 1317091162159747075            0            0   \n",
       "1363439109948149760 1353391442408792066            0            0   \n",
       "\n",
       "                                         retweet_count  favorite_count  \\\n",
       "tid                 uid                                                  \n",
       "1333476068192366593 2152363202                       3              16   \n",
       "1364161232270487553 1331332400836726785              0               0   \n",
       "1364161201291153414 150301804                        0               0   \n",
       "1364161184505737217 1317091162159747075              0               0   \n",
       "1363439109948149760 1353391442408792066              2              24   \n",
       "\n",
       "                                         user_followers_count  user_verified  \\\n",
       "tid                 uid                                                        \n",
       "1333476068192366593 2152363202                           6070          False   \n",
       "1364161232270487553 1331332400836726785                    62          False   \n",
       "1364161201291153414 150301804                            1044          False   \n",
       "1364161184505737217 1317091162159747075                    15          False   \n",
       "1363439109948149760 1353391442408792066                   184          False   \n",
       "\n",
       "                                                                                                                                   full_text  \\\n",
       "tid                 uid                                                                                                                        \n",
       "1333476068192366593 2152363202           Teen pregnancy is high, HIV infection rate is growing fastest among teens, and teens are experim...   \n",
       "1364161232270487553 1331332400836726785  Even though it was a charity.  Stevens thought that speaking to DHSS rather than those suffering...   \n",
       "1364161201291153414 150301804            SCORA\\nStanding Committee on Sexual &amp; Reproductive Health and Rights including HIV&amp;AIDS\\...   \n",
       "1364161184505737217 1317091162159747075  many females are HIV+, we wish you well, blessings, we can't heal you totally, but providing rel...   \n",
       "1363439109948149760 1353391442408792066   @TheRustler83 Yep. Imagine if the government were demanding HIV tests weekly in every high school.   \n",
       "\n",
       "                                         media_count media_types  \\\n",
       "tid                 uid                                            \n",
       "1333476068192366593 2152363202                     0        none   \n",
       "1364161232270487553 1331332400836726785            0        none   \n",
       "1364161201291153414 150301804                      0        none   \n",
       "1364161184505737217 1317091162159747075            0        none   \n",
       "1363439109948149760 1353391442408792066            0        none   \n",
       "\n",
       "                                         all_interactions  \n",
       "tid                 uid                                    \n",
       "1333476068192366593 2152363202                         21  \n",
       "1364161232270487553 1331332400836726785                 0  \n",
       "1364161201291153414 150301804                           0  \n",
       "1364161184505737217 1317091162159747075                 0  \n",
       "1363439109948149760 1353391442408792066                26  "
      ]
     },
     "execution_count": 264,
     "metadata": {},
     "output_type": "execute_result"
    }
   ],
   "source": [
    "df.head()"
   ]
  },
  {
   "cell_type": "code",
   "execution_count": 266,
   "metadata": {},
   "outputs": [
    {
     "data": {
      "text/plain": [
       "Index(['tid', 'full_text', 'clean', 'hashtags', 'hashtags_count', 'mentions',\n",
       "       'mentions_count', 'full_word_count', 'hashtags_ratio', 'mentions_ratio',\n",
       "       'clean_no_@#'],\n",
       "      dtype='object')"
      ]
     },
     "execution_count": 266,
     "metadata": {},
     "output_type": "execute_result"
    }
   ],
   "source": [
    "tdf.columns"
   ]
  },
  {
   "cell_type": "code",
   "execution_count": 289,
   "metadata": {
    "scrolled": false
   },
   "outputs": [
    {
     "data": {
      "image/png": "[encoded data removed]",
      "text/plain": [
       "<Figure size 432x288 with 1 Axes>"
      ]
     },
     "metadata": {
      "needs_background": "light"
     },
     "output_type": "display_data"
    }
   ],
   "source": [
    "sns.scatterplot(x=np.log10(tdf['full_word_count'].values+1), y=np.log10(df['all_interactions'].values+1))\n",
    "plt.show()"
   ]
  },
  {
   "cell_type": "code",
   "execution_count": 287,
   "metadata": {},
   "outputs": [
    {
     "data": {
      "image/png": "[encoded data removed]",
      "text/plain": [
       "<Figure size 432x288 with 1 Axes>"
      ]
     },
     "metadata": {
      "needs_background": "light"
     },
     "output_type": "display_data"
    }
   ],
   "source": [
    "sns.scatterplot(x=np.log10(tdf['hashtags_ratio'].values+1), y=np.log10(df['all_interactions'].values+1))\n",
    "plt.show()"
   ]
  },
  {
   "cell_type": "code",
   "execution_count": 288,
   "metadata": {},
   "outputs": [
    {
     "data": {
      "image/png": "[encoded data removed]",
      "text/plain": [
       "<Figure size 432x288 with 1 Axes>"
      ]
     },
     "metadata": {
      "needs_background": "light"
     },
     "output_type": "display_data"
    }
   ],
   "source": [
    "sns.scatterplot(x=np.log10(tdf['mentions_ratio'].values+1), y=np.log10(df['all_interactions'].values+1))\n",
    "plt.show()"
   ]
  },
  {
   "cell_type": "markdown",
   "metadata": {},
   "source": [
    "#### count vectorize all words (not stopwords, hashtags, or mentions)"
   ]
  },
  {
   "cell_type": "code",
   "execution_count": 168,
   "metadata": {},
   "outputs": [],
   "source": [
    "cv = CountVectorizer()"
   ]
  },
  {
   "cell_type": "code",
   "execution_count": 177,
   "metadata": {},
   "outputs": [],
   "source": [
    "X = cv.fit_transform(tdf['clean_no_@#'])"
   ]
  },
  {
   "cell_type": "code",
   "execution_count": 178,
   "metadata": {},
   "outputs": [
    {
     "data": {
      "text/plain": [
       "(7662, 21131)"
      ]
     },
     "execution_count": 178,
     "metadata": {},
     "output_type": "execute_result"
    }
   ],
   "source": [
    "X.shape"
   ]
  },
  {
   "cell_type": "code",
   "execution_count": 181,
   "metadata": {},
   "outputs": [],
   "source": [
    "X_df = pd.DataFrame(X.toarray())\n",
    "X_df.columns = cv.get_feature_names()\n",
    "X_df.index = tdf.tid"
   ]
  },
  {
   "cell_type": "code",
   "execution_count": 182,
   "metadata": {},
   "outputs": [
    {
     "data": {
      "text/html": [
       "<div>\n",
       "<style scoped>\n",
       "    .dataframe tbody tr th:only-of-type {\n",
       "        vertical-align: middle;\n",
       "    }\n",
       "\n",
       "    .dataframe tbody tr th {\n",
       "        vertical-align: top;\n",
       "    }\n",
       "\n",
       "    .dataframe thead th {\n",
       "        text-align: right;\n",
       "    }\n",
       "</style>\n",
       "<table border=\"1\" class=\"dataframe\">\n",
       "  <thead>\n",
       "    <tr style=\"text-align: right;\">\n",
       "      <th></th>\n",
       "      <th>000</th>\n",
       "      <th>0008</th>\n",
       "      <th>008world</th>\n",
       "      <th>00s</th>\n",
       "      <th>010</th>\n",
       "      <th>0121</th>\n",
       "      <th>01482</th>\n",
       "      <th>0151</th>\n",
       "      <th>01sbuh</th>\n",
       "      <th>02</th>\n",
       "      <th>...</th>\n",
       "      <th>อนค</th>\n",
       "      <th>ትሐ</th>\n",
       "      <th>养皋ｄ</th>\n",
       "      <th>ｐｒ</th>\n",
       "      <th>𝐐𝐔𝐄𝐄𝐍ᵇᵍº</th>\n",
       "      <th>𝑱𝒐𝒌𝒆𝒔</th>\n",
       "      <th>𝗡𝗢𝗪</th>\n",
       "      <th>𝗥𝗘𝗚𝗜𝗦𝗧𝗘𝗥</th>\n",
       "      <th>𝘽𝙍𝙀𝘼𝙆𝙄𝙉𝙂</th>\n",
       "      <th>𝙊𝙏𝘾</th>\n",
       "    </tr>\n",
       "    <tr>\n",
       "      <th>tid</th>\n",
       "      <th></th>\n",
       "      <th></th>\n",
       "      <th></th>\n",
       "      <th></th>\n",
       "      <th></th>\n",
       "      <th></th>\n",
       "      <th></th>\n",
       "      <th></th>\n",
       "      <th></th>\n",
       "      <th></th>\n",
       "      <th></th>\n",
       "      <th></th>\n",
       "      <th></th>\n",
       "      <th></th>\n",
       "      <th></th>\n",
       "      <th></th>\n",
       "      <th></th>\n",
       "      <th></th>\n",
       "      <th></th>\n",
       "      <th></th>\n",
       "      <th></th>\n",
       "    </tr>\n",
       "  </thead>\n",
       "  <tbody>\n",
       "    <tr>\n",
       "      <th>1333476068192366593</th>\n",
       "      <td>0</td>\n",
       "      <td>0</td>\n",
       "      <td>0</td>\n",
       "      <td>0</td>\n",
       "      <td>0</td>\n",
       "      <td>0</td>\n",
       "      <td>0</td>\n",
       "      <td>0</td>\n",
       "      <td>0</td>\n",
       "      <td>0</td>\n",
       "      <td>...</td>\n",
       "      <td>0</td>\n",
       "      <td>0</td>\n",
       "      <td>0</td>\n",
       "      <td>0</td>\n",
       "      <td>0</td>\n",
       "      <td>0</td>\n",
       "      <td>0</td>\n",
       "      <td>0</td>\n",
       "      <td>0</td>\n",
       "      <td>0</td>\n",
       "    </tr>\n",
       "    <tr>\n",
       "      <th>1364161232270487553</th>\n",
       "      <td>0</td>\n",
       "      <td>0</td>\n",
       "      <td>0</td>\n",
       "      <td>0</td>\n",
       "      <td>0</td>\n",
       "      <td>0</td>\n",
       "      <td>0</td>\n",
       "      <td>0</td>\n",
       "      <td>0</td>\n",
       "      <td>0</td>\n",
       "      <td>...</td>\n",
       "      <td>0</td>\n",
       "      <td>0</td>\n",
       "      <td>0</td>\n",
       "      <td>0</td>\n",
       "      <td>0</td>\n",
       "      <td>0</td>\n",
       "      <td>0</td>\n",
       "      <td>0</td>\n",
       "      <td>0</td>\n",
       "      <td>0</td>\n",
       "    </tr>\n",
       "    <tr>\n",
       "      <th>1364161201291153414</th>\n",
       "      <td>0</td>\n",
       "      <td>0</td>\n",
       "      <td>0</td>\n",
       "      <td>0</td>\n",
       "      <td>0</td>\n",
       "      <td>0</td>\n",
       "      <td>0</td>\n",
       "      <td>0</td>\n",
       "      <td>0</td>\n",
       "      <td>0</td>\n",
       "      <td>...</td>\n",
       "      <td>0</td>\n",
       "      <td>0</td>\n",
       "      <td>0</td>\n",
       "      <td>0</td>\n",
       "      <td>0</td>\n",
       "      <td>0</td>\n",
       "      <td>0</td>\n",
       "      <td>0</td>\n",
       "      <td>0</td>\n",
       "      <td>0</td>\n",
       "    </tr>\n",
       "    <tr>\n",
       "      <th>1364161184505737217</th>\n",
       "      <td>0</td>\n",
       "      <td>0</td>\n",
       "      <td>0</td>\n",
       "      <td>0</td>\n",
       "      <td>0</td>\n",
       "      <td>0</td>\n",
       "      <td>0</td>\n",
       "      <td>0</td>\n",
       "      <td>0</td>\n",
       "      <td>0</td>\n",
       "      <td>...</td>\n",
       "      <td>0</td>\n",
       "      <td>0</td>\n",
       "      <td>0</td>\n",
       "      <td>0</td>\n",
       "      <td>0</td>\n",
       "      <td>0</td>\n",
       "      <td>0</td>\n",
       "      <td>0</td>\n",
       "      <td>0</td>\n",
       "      <td>0</td>\n",
       "    </tr>\n",
       "    <tr>\n",
       "      <th>1363439109948149760</th>\n",
       "      <td>0</td>\n",
       "      <td>0</td>\n",
       "      <td>0</td>\n",
       "      <td>0</td>\n",
       "      <td>0</td>\n",
       "      <td>0</td>\n",
       "      <td>0</td>\n",
       "      <td>0</td>\n",
       "      <td>0</td>\n",
       "      <td>0</td>\n",
       "      <td>...</td>\n",
       "      <td>0</td>\n",
       "      <td>0</td>\n",
       "      <td>0</td>\n",
       "      <td>0</td>\n",
       "      <td>0</td>\n",
       "      <td>0</td>\n",
       "      <td>0</td>\n",
       "      <td>0</td>\n",
       "      <td>0</td>\n",
       "      <td>0</td>\n",
       "    </tr>\n",
       "  </tbody>\n",
       "</table>\n",
       "<p>5 rows × 21131 columns</p>\n",
       "</div>"
      ],
      "text/plain": [
       "                     000  0008  008world  00s  010  0121  01482  0151  01sbuh  \\\n",
       "tid                                                                             \n",
       "1333476068192366593    0     0         0    0    0     0      0     0       0   \n",
       "1364161232270487553    0     0         0    0    0     0      0     0       0   \n",
       "1364161201291153414    0     0         0    0    0     0      0     0       0   \n",
       "1364161184505737217    0     0         0    0    0     0      0     0       0   \n",
       "1363439109948149760    0     0         0    0    0     0      0     0       0   \n",
       "\n",
       "                     02  ...  อนค  ትሐ  养皋ｄ  ｐｒ  𝐐𝐔𝐄𝐄𝐍ᵇᵍº  𝑱𝒐𝒌𝒆𝒔  𝗡𝗢𝗪  \\\n",
       "tid                      ...                                           \n",
       "1333476068192366593   0  ...    0   0    0   0         0      0    0   \n",
       "1364161232270487553   0  ...    0   0    0   0         0      0    0   \n",
       "1364161201291153414   0  ...    0   0    0   0         0      0    0   \n",
       "1364161184505737217   0  ...    0   0    0   0         0      0    0   \n",
       "1363439109948149760   0  ...    0   0    0   0         0      0    0   \n",
       "\n",
       "                     𝗥𝗘𝗚𝗜𝗦𝗧𝗘𝗥  𝘽𝙍𝙀𝘼𝙆𝙄𝙉𝙂  𝙊𝙏𝘾  \n",
       "tid                                           \n",
       "1333476068192366593         0         0    0  \n",
       "1364161232270487553         0         0    0  \n",
       "1364161201291153414         0         0    0  \n",
       "1364161184505737217         0         0    0  \n",
       "1363439109948149760         0         0    0  \n",
       "\n",
       "[5 rows x 21131 columns]"
      ]
     },
     "execution_count": 182,
     "metadata": {},
     "output_type": "execute_result"
    }
   ],
   "source": [
    "X_df.head()"
   ]
  },
  {
   "cell_type": "code",
   "execution_count": null,
   "metadata": {},
   "outputs": [],
   "source": []
  },
  {
   "cell_type": "markdown",
   "metadata": {},
   "source": [
    "#### extract keywords"
   ]
  },
  {
   "cell_type": "code",
   "execution_count": 290,
   "metadata": {},
   "outputs": [],
   "source": [
    "from gensim.summarization import keywords"
   ]
  },
  {
   "cell_type": "code",
   "execution_count": 293,
   "metadata": {},
   "outputs": [],
   "source": [
    "tdf['keywords'] = tdf['clean_no_@#'].apply(lambda x: keywords(x).split('\\n'))"
   ]
  },
  {
   "cell_type": "code",
   "execution_count": 294,
   "metadata": {},
   "outputs": [
    {
     "data": {
      "text/html": [
       "<div>\n",
       "<style scoped>\n",
       "    .dataframe tbody tr th:only-of-type {\n",
       "        vertical-align: middle;\n",
       "    }\n",
       "\n",
       "    .dataframe tbody tr th {\n",
       "        vertical-align: top;\n",
       "    }\n",
       "\n",
       "    .dataframe thead th {\n",
       "        text-align: right;\n",
       "    }\n",
       "</style>\n",
       "<table border=\"1\" class=\"dataframe\">\n",
       "  <thead>\n",
       "    <tr style=\"text-align: right;\">\n",
       "      <th></th>\n",
       "      <th>tid</th>\n",
       "      <th>full_text</th>\n",
       "      <th>clean</th>\n",
       "      <th>hashtags</th>\n",
       "      <th>hashtags_count</th>\n",
       "      <th>mentions</th>\n",
       "      <th>mentions_count</th>\n",
       "      <th>full_word_count</th>\n",
       "      <th>hashtags_ratio</th>\n",
       "      <th>mentions_ratio</th>\n",
       "      <th>clean_no_@#</th>\n",
       "      <th>keywords</th>\n",
       "    </tr>\n",
       "  </thead>\n",
       "  <tbody>\n",
       "    <tr>\n",
       "      <th>0</th>\n",
       "      <td>1333476068192366593</td>\n",
       "      <td>Teen pregnancy is high, HIV infection rate is growing fastest among teens, and teens are experim...</td>\n",
       "      <td>[teen, pregnancy, high, hiv, infection, rate, growing, fastest, among, teen, teen, experimenting...</td>\n",
       "      <td>[]</td>\n",
       "      <td>0</td>\n",
       "      <td>[]</td>\n",
       "      <td>0</td>\n",
       "      <td>22</td>\n",
       "      <td>0.000</td>\n",
       "      <td>0.000</td>\n",
       "      <td>teen pregnancy high hiv infection rate growing fastest among teen teen experimenting sex need srh</td>\n",
       "      <td>[infection]</td>\n",
       "    </tr>\n",
       "    <tr>\n",
       "      <th>1</th>\n",
       "      <td>1364161232270487553</td>\n",
       "      <td>Even though it was a charity.  Stevens thought that speaking to DHSS rather than those suffering...</td>\n",
       "      <td>[even, though, charity, stevens, thought, speaking, dhss, rather, suffering, 1980, 1990, hiv, ha...</td>\n",
       "      <td>[hiv, haemophilia]</td>\n",
       "      <td>2</td>\n",
       "      <td>[bloodinquiry]</td>\n",
       "      <td>1</td>\n",
       "      <td>25</td>\n",
       "      <td>0.167</td>\n",
       "      <td>0.083</td>\n",
       "      <td>even though charity stevens thought speaking dhss rather suffering 1980 1990 httpstcohzrl1mm0rx</td>\n",
       "      <td>[]</td>\n",
       "    </tr>\n",
       "    <tr>\n",
       "      <th>2</th>\n",
       "      <td>1364161201291153414</td>\n",
       "      <td>SCORA\\nStanding Committee on Sexual &amp;amp; Reproductive Health and Rights including HIV&amp;amp;AIDS\\...</td>\n",
       "      <td>[scora, standing, committee, sexual, reproductive, health, right, including, hivampaids, cimsa, ...</td>\n",
       "      <td>[]</td>\n",
       "      <td>0</td>\n",
       "      <td>[]</td>\n",
       "      <td>0</td>\n",
       "      <td>15</td>\n",
       "      <td>0.000</td>\n",
       "      <td>0.000</td>\n",
       "      <td>scora standing committee sexual reproductive health right including hivampaids cimsa empowering ...</td>\n",
       "      <td>[health, standing]</td>\n",
       "    </tr>\n",
       "    <tr>\n",
       "      <th>3</th>\n",
       "      <td>1364161184505737217</td>\n",
       "      <td>many females are HIV+, we wish you well, blessings, we can't heal you totally, but providing rel...</td>\n",
       "      <td>[many, female, hiv, wish, well, blessing, cant, heal, totally, providing, relief, medicine, salv...</td>\n",
       "      <td>[]</td>\n",
       "      <td>0</td>\n",
       "      <td>[]</td>\n",
       "      <td>0</td>\n",
       "      <td>33</td>\n",
       "      <td>0.000</td>\n",
       "      <td>0.000</td>\n",
       "      <td>many female hiv wish well blessing cant heal totally providing relief medicine salve specialty m...</td>\n",
       "      <td>[female, providing, provider]</td>\n",
       "    </tr>\n",
       "    <tr>\n",
       "      <th>4</th>\n",
       "      <td>1363439109948149760</td>\n",
       "      <td>@TheRustler83 Yep. Imagine if the government were demanding HIV tests weekly in every high school.</td>\n",
       "      <td>[therustler83, yep, imagine, government, demanding, hiv, test, weekly, every, high, school]</td>\n",
       "      <td>[]</td>\n",
       "      <td>0</td>\n",
       "      <td>[therustler83]</td>\n",
       "      <td>1</td>\n",
       "      <td>15</td>\n",
       "      <td>0.000</td>\n",
       "      <td>0.100</td>\n",
       "      <td>yep imagine government demanding hiv test weekly every high school</td>\n",
       "      <td>[]</td>\n",
       "    </tr>\n",
       "  </tbody>\n",
       "</table>\n",
       "</div>"
      ],
      "text/plain": [
       "                   tid  \\\n",
       "0  1333476068192366593   \n",
       "1  1364161232270487553   \n",
       "2  1364161201291153414   \n",
       "3  1364161184505737217   \n",
       "4  1363439109948149760   \n",
       "\n",
       "                                                                                             full_text  \\\n",
       "0  Teen pregnancy is high, HIV infection rate is growing fastest among teens, and teens are experim...   \n",
       "1  Even though it was a charity.  Stevens thought that speaking to DHSS rather than those suffering...   \n",
       "2  SCORA\\nStanding Committee on Sexual &amp; Reproductive Health and Rights including HIV&amp;AIDS\\...   \n",
       "3  many females are HIV+, we wish you well, blessings, we can't heal you totally, but providing rel...   \n",
       "4   @TheRustler83 Yep. Imagine if the government were demanding HIV tests weekly in every high school.   \n",
       "\n",
       "                                                                                                 clean  \\\n",
       "0  [teen, pregnancy, high, hiv, infection, rate, growing, fastest, among, teen, teen, experimenting...   \n",
       "1  [even, though, charity, stevens, thought, speaking, dhss, rather, suffering, 1980, 1990, hiv, ha...   \n",
       "2  [scora, standing, committee, sexual, reproductive, health, right, including, hivampaids, cimsa, ...   \n",
       "3  [many, female, hiv, wish, well, blessing, cant, heal, totally, providing, relief, medicine, salv...   \n",
       "4          [therustler83, yep, imagine, government, demanding, hiv, test, weekly, every, high, school]   \n",
       "\n",
       "             hashtags  hashtags_count        mentions  mentions_count  \\\n",
       "0                  []               0              []               0   \n",
       "1  [hiv, haemophilia]               2  [bloodinquiry]               1   \n",
       "2                  []               0              []               0   \n",
       "3                  []               0              []               0   \n",
       "4                  []               0  [therustler83]               1   \n",
       "\n",
       "   full_word_count  hashtags_ratio  mentions_ratio  \\\n",
       "0               22           0.000           0.000   \n",
       "1               25           0.167           0.083   \n",
       "2               15           0.000           0.000   \n",
       "3               33           0.000           0.000   \n",
       "4               15           0.000           0.100   \n",
       "\n",
       "                                                                                           clean_no_@#  \\\n",
       "0    teen pregnancy high hiv infection rate growing fastest among teen teen experimenting sex need srh   \n",
       "1      even though charity stevens thought speaking dhss rather suffering 1980 1990 httpstcohzrl1mm0rx   \n",
       "2  scora standing committee sexual reproductive health right including hivampaids cimsa empowering ...   \n",
       "3  many female hiv wish well blessing cant heal totally providing relief medicine salve specialty m...   \n",
       "4                                   yep imagine government demanding hiv test weekly every high school   \n",
       "\n",
       "                        keywords  \n",
       "0                    [infection]  \n",
       "1                             []  \n",
       "2             [health, standing]  \n",
       "3  [female, providing, provider]  \n",
       "4                             []  "
      ]
     },
     "execution_count": 294,
     "metadata": {},
     "output_type": "execute_result"
    }
   ],
   "source": [
    "tdf.head()"
   ]
  },
  {
   "cell_type": "markdown",
   "metadata": {},
   "source": [
    "count vectorize just the nltk keywords"
   ]
  },
  {
   "cell_type": "code",
   "execution_count": 322,
   "metadata": {},
   "outputs": [],
   "source": [
    "X_keywords = cv.fit_transform(tdf['keywords'].apply(lambda x: ' '.join(x)))"
   ]
  },
  {
   "cell_type": "code",
   "execution_count": 323,
   "metadata": {},
   "outputs": [
    {
     "data": {
      "text/plain": [
       "(7662, 3770)"
      ]
     },
     "execution_count": 323,
     "metadata": {},
     "output_type": "execute_result"
    }
   ],
   "source": [
    "X_keywords.shape"
   ]
  },
  {
   "cell_type": "code",
   "execution_count": 324,
   "metadata": {},
   "outputs": [
    {
     "data": {
      "text/html": [
       "<div>\n",
       "<style scoped>\n",
       "    .dataframe tbody tr th:only-of-type {\n",
       "        vertical-align: middle;\n",
       "    }\n",
       "\n",
       "    .dataframe tbody tr th {\n",
       "        vertical-align: top;\n",
       "    }\n",
       "\n",
       "    .dataframe thead th {\n",
       "        text-align: right;\n",
       "    }\n",
       "</style>\n",
       "<table border=\"1\" class=\"dataframe\">\n",
       "  <thead>\n",
       "    <tr style=\"text-align: right;\">\n",
       "      <th></th>\n",
       "      <th>abajo</th>\n",
       "      <th>abd</th>\n",
       "      <th>ability</th>\n",
       "      <th>able</th>\n",
       "      <th>aboot</th>\n",
       "      <th>aboriginal</th>\n",
       "      <th>abortion</th>\n",
       "      <th>absence</th>\n",
       "      <th>absolute</th>\n",
       "      <th>abstinence</th>\n",
       "      <th>...</th>\n",
       "      <th>zeal</th>\n",
       "      <th>zeitgeist</th>\n",
       "      <th>zika</th>\n",
       "      <th>zimbabwe</th>\n",
       "      <th>zimbabwean</th>\n",
       "      <th>zip</th>\n",
       "      <th>ยจำเป</th>\n",
       "      <th>𝗡𝗢𝗪</th>\n",
       "      <th>𝗥𝗘𝗚𝗜𝗦𝗧𝗘𝗥</th>\n",
       "      <th>𝘽𝙍𝙀𝘼𝙆𝙄𝙉𝙂</th>\n",
       "    </tr>\n",
       "    <tr>\n",
       "      <th>tid</th>\n",
       "      <th></th>\n",
       "      <th></th>\n",
       "      <th></th>\n",
       "      <th></th>\n",
       "      <th></th>\n",
       "      <th></th>\n",
       "      <th></th>\n",
       "      <th></th>\n",
       "      <th></th>\n",
       "      <th></th>\n",
       "      <th></th>\n",
       "      <th></th>\n",
       "      <th></th>\n",
       "      <th></th>\n",
       "      <th></th>\n",
       "      <th></th>\n",
       "      <th></th>\n",
       "      <th></th>\n",
       "      <th></th>\n",
       "      <th></th>\n",
       "      <th></th>\n",
       "    </tr>\n",
       "  </thead>\n",
       "  <tbody>\n",
       "    <tr>\n",
       "      <th>1333476068192366593</th>\n",
       "      <td>0</td>\n",
       "      <td>0</td>\n",
       "      <td>0</td>\n",
       "      <td>0</td>\n",
       "      <td>0</td>\n",
       "      <td>0</td>\n",
       "      <td>0</td>\n",
       "      <td>0</td>\n",
       "      <td>0</td>\n",
       "      <td>0</td>\n",
       "      <td>...</td>\n",
       "      <td>0</td>\n",
       "      <td>0</td>\n",
       "      <td>0</td>\n",
       "      <td>0</td>\n",
       "      <td>0</td>\n",
       "      <td>0</td>\n",
       "      <td>0</td>\n",
       "      <td>0</td>\n",
       "      <td>0</td>\n",
       "      <td>0</td>\n",
       "    </tr>\n",
       "    <tr>\n",
       "      <th>1364161232270487553</th>\n",
       "      <td>0</td>\n",
       "      <td>0</td>\n",
       "      <td>0</td>\n",
       "      <td>0</td>\n",
       "      <td>0</td>\n",
       "      <td>0</td>\n",
       "      <td>0</td>\n",
       "      <td>0</td>\n",
       "      <td>0</td>\n",
       "      <td>0</td>\n",
       "      <td>...</td>\n",
       "      <td>0</td>\n",
       "      <td>0</td>\n",
       "      <td>0</td>\n",
       "      <td>0</td>\n",
       "      <td>0</td>\n",
       "      <td>0</td>\n",
       "      <td>0</td>\n",
       "      <td>0</td>\n",
       "      <td>0</td>\n",
       "      <td>0</td>\n",
       "    </tr>\n",
       "    <tr>\n",
       "      <th>1364161201291153414</th>\n",
       "      <td>0</td>\n",
       "      <td>0</td>\n",
       "      <td>0</td>\n",
       "      <td>0</td>\n",
       "      <td>0</td>\n",
       "      <td>0</td>\n",
       "      <td>0</td>\n",
       "      <td>0</td>\n",
       "      <td>0</td>\n",
       "      <td>0</td>\n",
       "      <td>...</td>\n",
       "      <td>0</td>\n",
       "      <td>0</td>\n",
       "      <td>0</td>\n",
       "      <td>0</td>\n",
       "      <td>0</td>\n",
       "      <td>0</td>\n",
       "      <td>0</td>\n",
       "      <td>0</td>\n",
       "      <td>0</td>\n",
       "      <td>0</td>\n",
       "    </tr>\n",
       "    <tr>\n",
       "      <th>1364161184505737217</th>\n",
       "      <td>0</td>\n",
       "      <td>0</td>\n",
       "      <td>0</td>\n",
       "      <td>0</td>\n",
       "      <td>0</td>\n",
       "      <td>0</td>\n",
       "      <td>0</td>\n",
       "      <td>0</td>\n",
       "      <td>0</td>\n",
       "      <td>0</td>\n",
       "      <td>...</td>\n",
       "      <td>0</td>\n",
       "      <td>0</td>\n",
       "      <td>0</td>\n",
       "      <td>0</td>\n",
       "      <td>0</td>\n",
       "      <td>0</td>\n",
       "      <td>0</td>\n",
       "      <td>0</td>\n",
       "      <td>0</td>\n",
       "      <td>0</td>\n",
       "    </tr>\n",
       "    <tr>\n",
       "      <th>1363439109948149760</th>\n",
       "      <td>0</td>\n",
       "      <td>0</td>\n",
       "      <td>0</td>\n",
       "      <td>0</td>\n",
       "      <td>0</td>\n",
       "      <td>0</td>\n",
       "      <td>0</td>\n",
       "      <td>0</td>\n",
       "      <td>0</td>\n",
       "      <td>0</td>\n",
       "      <td>...</td>\n",
       "      <td>0</td>\n",
       "      <td>0</td>\n",
       "      <td>0</td>\n",
       "      <td>0</td>\n",
       "      <td>0</td>\n",
       "      <td>0</td>\n",
       "      <td>0</td>\n",
       "      <td>0</td>\n",
       "      <td>0</td>\n",
       "      <td>0</td>\n",
       "    </tr>\n",
       "  </tbody>\n",
       "</table>\n",
       "<p>5 rows × 3770 columns</p>\n",
       "</div>"
      ],
      "text/plain": [
       "                     abajo  abd  ability  able  aboot  aboriginal  abortion  \\\n",
       "tid                                                                           \n",
       "1333476068192366593      0    0        0     0      0           0         0   \n",
       "1364161232270487553      0    0        0     0      0           0         0   \n",
       "1364161201291153414      0    0        0     0      0           0         0   \n",
       "1364161184505737217      0    0        0     0      0           0         0   \n",
       "1363439109948149760      0    0        0     0      0           0         0   \n",
       "\n",
       "                     absence  absolute  abstinence  ...  zeal  zeitgeist  \\\n",
       "tid                                                 ...                    \n",
       "1333476068192366593        0         0           0  ...     0          0   \n",
       "1364161232270487553        0         0           0  ...     0          0   \n",
       "1364161201291153414        0         0           0  ...     0          0   \n",
       "1364161184505737217        0         0           0  ...     0          0   \n",
       "1363439109948149760        0         0           0  ...     0          0   \n",
       "\n",
       "                     zika  zimbabwe  zimbabwean  zip  ยจำเป  𝗡𝗢𝗪  𝗥𝗘𝗚𝗜𝗦𝗧𝗘𝗥  \\\n",
       "tid                                                                          \n",
       "1333476068192366593     0         0           0    0      0    0         0   \n",
       "1364161232270487553     0         0           0    0      0    0         0   \n",
       "1364161201291153414     0         0           0    0      0    0         0   \n",
       "1364161184505737217     0         0           0    0      0    0         0   \n",
       "1363439109948149760     0         0           0    0      0    0         0   \n",
       "\n",
       "                     𝘽𝙍𝙀𝘼𝙆𝙄𝙉𝙂  \n",
       "tid                            \n",
       "1333476068192366593         0  \n",
       "1364161232270487553         0  \n",
       "1364161201291153414         0  \n",
       "1364161184505737217         0  \n",
       "1363439109948149760         0  \n",
       "\n",
       "[5 rows x 3770 columns]"
      ]
     },
     "execution_count": 324,
     "metadata": {},
     "output_type": "execute_result"
    }
   ],
   "source": [
    "X_keywords_df = pd.DataFrame(X_keywords.toarray())\n",
    "X_keywords_df.columns = cv.get_feature_names()\n",
    "X_keywords_df.index = tdf.tid\n",
    "X_keywords_df.head()"
   ]
  },
  {
   "cell_type": "markdown",
   "metadata": {},
   "source": [
    "#### parts of speech"
   ]
  },
  {
   "cell_type": "code",
   "execution_count": 310,
   "metadata": {},
   "outputs": [],
   "source": [
    "from collections import Counter"
   ]
  },
  {
   "cell_type": "code",
   "execution_count": 314,
   "metadata": {},
   "outputs": [
    {
     "data": {
      "text/plain": [
       "Counter({'JJ': 5, 'NN': 6, 'VBG': 2, 'JJS': 1, 'IN': 1})"
      ]
     },
     "execution_count": 314,
     "metadata": {},
     "output_type": "execute_result"
    }
   ],
   "source": [
    "Counter([p[1] for p in nltk.pos_tag((tdf.iloc[0]['clean_no_@#']).split(' '))])"
   ]
  },
  {
   "cell_type": "code",
   "execution_count": 316,
   "metadata": {},
   "outputs": [],
   "source": [
    "pos_dict = {}\n",
    "for row in tdf.index:\n",
    "    counts = Counter([p[1] for p in nltk.pos_tag((tdf.at[row, 'clean_no_@#']).split(' '))])\n",
    "    ind = tdf.at[row, 'tid']\n",
    "    pos_dict[ind] = counts"
   ]
  },
  {
   "cell_type": "code",
   "execution_count": 318,
   "metadata": {},
   "outputs": [
    {
     "data": {
      "text/html": [
       "<div>\n",
       "<style scoped>\n",
       "    .dataframe tbody tr th:only-of-type {\n",
       "        vertical-align: middle;\n",
       "    }\n",
       "\n",
       "    .dataframe tbody tr th {\n",
       "        vertical-align: top;\n",
       "    }\n",
       "\n",
       "    .dataframe thead th {\n",
       "        text-align: right;\n",
       "    }\n",
       "</style>\n",
       "<table border=\"1\" class=\"dataframe\">\n",
       "  <thead>\n",
       "    <tr style=\"text-align: right;\">\n",
       "      <th></th>\n",
       "      <th>JJ</th>\n",
       "      <th>NN</th>\n",
       "      <th>VBG</th>\n",
       "      <th>JJS</th>\n",
       "      <th>IN</th>\n",
       "      <th>RB</th>\n",
       "      <th>NNS</th>\n",
       "      <th>VBD</th>\n",
       "      <th>CD</th>\n",
       "      <th>DT</th>\n",
       "      <th>...</th>\n",
       "      <th>WRB</th>\n",
       "      <th>WP$</th>\n",
       "      <th>TO</th>\n",
       "      <th>NNP</th>\n",
       "      <th>WP</th>\n",
       "      <th>PRP$</th>\n",
       "      <th>$</th>\n",
       "      <th>RP</th>\n",
       "      <th>POS</th>\n",
       "      <th>SYM</th>\n",
       "    </tr>\n",
       "  </thead>\n",
       "  <tbody>\n",
       "    <tr>\n",
       "      <th>1333476068192366593</th>\n",
       "      <td>5</td>\n",
       "      <td>6</td>\n",
       "      <td>2</td>\n",
       "      <td>1</td>\n",
       "      <td>1</td>\n",
       "      <td>0</td>\n",
       "      <td>0</td>\n",
       "      <td>0</td>\n",
       "      <td>0</td>\n",
       "      <td>0</td>\n",
       "      <td>...</td>\n",
       "      <td>0</td>\n",
       "      <td>0</td>\n",
       "      <td>0</td>\n",
       "      <td>0</td>\n",
       "      <td>0</td>\n",
       "      <td>0</td>\n",
       "      <td>0</td>\n",
       "      <td>0</td>\n",
       "      <td>0</td>\n",
       "      <td>0</td>\n",
       "    </tr>\n",
       "    <tr>\n",
       "      <th>1364161232270487553</th>\n",
       "      <td>0</td>\n",
       "      <td>3</td>\n",
       "      <td>2</td>\n",
       "      <td>0</td>\n",
       "      <td>1</td>\n",
       "      <td>2</td>\n",
       "      <td>1</td>\n",
       "      <td>1</td>\n",
       "      <td>2</td>\n",
       "      <td>0</td>\n",
       "      <td>...</td>\n",
       "      <td>0</td>\n",
       "      <td>0</td>\n",
       "      <td>0</td>\n",
       "      <td>0</td>\n",
       "      <td>0</td>\n",
       "      <td>0</td>\n",
       "      <td>0</td>\n",
       "      <td>0</td>\n",
       "      <td>0</td>\n",
       "      <td>0</td>\n",
       "    </tr>\n",
       "    <tr>\n",
       "      <th>1364161201291153414</th>\n",
       "      <td>3</td>\n",
       "      <td>6</td>\n",
       "      <td>4</td>\n",
       "      <td>0</td>\n",
       "      <td>0</td>\n",
       "      <td>1</td>\n",
       "      <td>2</td>\n",
       "      <td>0</td>\n",
       "      <td>0</td>\n",
       "      <td>0</td>\n",
       "      <td>...</td>\n",
       "      <td>0</td>\n",
       "      <td>0</td>\n",
       "      <td>0</td>\n",
       "      <td>0</td>\n",
       "      <td>0</td>\n",
       "      <td>0</td>\n",
       "      <td>0</td>\n",
       "      <td>0</td>\n",
       "      <td>0</td>\n",
       "      <td>0</td>\n",
       "    </tr>\n",
       "    <tr>\n",
       "      <th>1364161184505737217</th>\n",
       "      <td>6</td>\n",
       "      <td>12</td>\n",
       "      <td>2</td>\n",
       "      <td>0</td>\n",
       "      <td>0</td>\n",
       "      <td>2</td>\n",
       "      <td>1</td>\n",
       "      <td>0</td>\n",
       "      <td>0</td>\n",
       "      <td>0</td>\n",
       "      <td>...</td>\n",
       "      <td>0</td>\n",
       "      <td>0</td>\n",
       "      <td>0</td>\n",
       "      <td>0</td>\n",
       "      <td>0</td>\n",
       "      <td>0</td>\n",
       "      <td>0</td>\n",
       "      <td>0</td>\n",
       "      <td>0</td>\n",
       "      <td>0</td>\n",
       "    </tr>\n",
       "    <tr>\n",
       "      <th>1363439109948149760</th>\n",
       "      <td>3</td>\n",
       "      <td>4</td>\n",
       "      <td>1</td>\n",
       "      <td>0</td>\n",
       "      <td>0</td>\n",
       "      <td>0</td>\n",
       "      <td>1</td>\n",
       "      <td>0</td>\n",
       "      <td>0</td>\n",
       "      <td>1</td>\n",
       "      <td>...</td>\n",
       "      <td>0</td>\n",
       "      <td>0</td>\n",
       "      <td>0</td>\n",
       "      <td>0</td>\n",
       "      <td>0</td>\n",
       "      <td>0</td>\n",
       "      <td>0</td>\n",
       "      <td>0</td>\n",
       "      <td>0</td>\n",
       "      <td>0</td>\n",
       "    </tr>\n",
       "  </tbody>\n",
       "</table>\n",
       "<p>5 rows × 34 columns</p>\n",
       "</div>"
      ],
      "text/plain": [
       "                     JJ  NN  VBG  JJS  IN  RB  NNS  VBD  CD  DT  ...  WRB  \\\n",
       "1333476068192366593   5   6    2    1   1   0    0    0   0   0  ...    0   \n",
       "1364161232270487553   0   3    2    0   1   2    1    1   2   0  ...    0   \n",
       "1364161201291153414   3   6    4    0   0   1    2    0   0   0  ...    0   \n",
       "1364161184505737217   6  12    2    0   0   2    1    0   0   0  ...    0   \n",
       "1363439109948149760   3   4    1    0   0   0    1    0   0   1  ...    0   \n",
       "\n",
       "                     WP$  TO  NNP  WP  PRP$  $  RP  POS  SYM  \n",
       "1333476068192366593    0   0    0   0     0  0   0    0    0  \n",
       "1364161232270487553    0   0    0   0     0  0   0    0    0  \n",
       "1364161201291153414    0   0    0   0     0  0   0    0    0  \n",
       "1364161184505737217    0   0    0   0     0  0   0    0    0  \n",
       "1363439109948149760    0   0    0   0     0  0   0    0    0  \n",
       "\n",
       "[5 rows x 34 columns]"
      ]
     },
     "execution_count": 318,
     "metadata": {},
     "output_type": "execute_result"
    }
   ],
   "source": [
    "pos_df = pd.DataFrame(pos_dict).T\n",
    "pos_df.fillna(0, inplace=True)\n",
    "pos_df = pos_df.astype(int)\n",
    "pos_df.head()"
   ]
  },
  {
   "cell_type": "code",
   "execution_count": null,
   "metadata": {},
   "outputs": [],
   "source": [
    "from sklearn import StandardScalar\n",
    "#use this on tone assessment?"
   ]
  },
  {
   "cell_type": "code",
   "execution_count": null,
   "metadata": {},
   "outputs": [],
   "source": [
    "from skelearn.pipeline import make_pipeline"
   ]
  },
  {
   "cell_type": "code",
   "execution_count": null,
   "metadata": {},
   "outputs": [],
   "source": []
  },
  {
   "cell_type": "code",
   "execution_count": null,
   "metadata": {},
   "outputs": [],
   "source": []
  },
  {
   "cell_type": "code",
   "execution_count": null,
   "metadata": {},
   "outputs": [],
   "source": []
  },
  {
   "cell_type": "code",
   "execution_count": null,
   "metadata": {},
   "outputs": [],
   "source": []
  },
  {
   "cell_type": "code",
   "execution_count": null,
   "metadata": {},
   "outputs": [],
   "source": []
  }
 ],
 "metadata": {
  "kernelspec": {
   "display_name": "nlp",
   "language": "python",
   "name": "nlp"
  },
  "language_info": {
   "codemirror_mode": {
    "name": "ipython",
    "version": 3
   },
   "file_extension": ".py",
   "mimetype": "text/x-python",
   "name": "python",
   "nbconvert_exporter": "python",
   "pygments_lexer": "ipython3",
   "version": "3.8.5"
  }
 },
 "nbformat": 4,
 "nbformat_minor": 4
}

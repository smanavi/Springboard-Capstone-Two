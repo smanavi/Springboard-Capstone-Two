{
 "cells": [
  {
   "cell_type": "markdown",
   "metadata": {},
   "source": [
    "#### import the things"
   ]
  },
  {
   "cell_type": "code",
   "execution_count": 1,
   "metadata": {},
   "outputs": [],
   "source": [
    "import pandas as pd\n",
    "import json\n",
    "import os\n",
    "import numpy as np\n",
    "import matplotlib.pyplot as plt\n",
    "import seaborn as sns\n",
    "import random\n",
    "idx = pd.IndexSlice\n",
    "\n"
   ]
  },
  {
   "cell_type": "code",
   "execution_count": 2,
   "metadata": {},
   "outputs": [],
   "source": [
    "from sklearn.feature_extraction.text import CountVectorizer, TfidfVectorizer, TfidfTransformer\n",
    "from sklearn.pipeline import make_pipeline, Pipeline"
   ]
  },
  {
   "cell_type": "code",
   "execution_count": 7,
   "metadata": {},
   "outputs": [],
   "source": [
    "from sklearn.decomposition import NMF, LatentDirichletAllocation"
   ]
  },
  {
   "cell_type": "code",
   "execution_count": 105,
   "metadata": {},
   "outputs": [],
   "source": [
    "from sklearn import metrics"
   ]
  },
  {
   "cell_type": "code",
   "execution_count": 16,
   "metadata": {},
   "outputs": [],
   "source": [
    "X_train = pd.read_pickle(os.path.join(data_fol, \"combined_model\", \"__X_train.pkl\"))\n",
    "X_test = pd.read_pickle(os.path.join(data_fol, \"combined_model\", \"__X_test.pkl\"))\n",
    "y_train = pd.read_pickle(os.path.join(data_fol, \"combined_model\", \"__y_train.pkl\"))\n",
    "y_test = pd.read_pickle(os.path.join(data_fol, \"combined_model\", \"__y_test.pkl\"))"
   ]
  },
  {
   "cell_type": "code",
   "execution_count": null,
   "metadata": {},
   "outputs": [],
   "source": []
  },
  {
   "cell_type": "code",
   "execution_count": 17,
   "metadata": {},
   "outputs": [
    {
     "data": {
      "text/html": [
       "<div>\n",
       "<style scoped>\n",
       "    .dataframe tbody tr th:only-of-type {\n",
       "        vertical-align: middle;\n",
       "    }\n",
       "\n",
       "    .dataframe tbody tr th {\n",
       "        vertical-align: top;\n",
       "    }\n",
       "\n",
       "    .dataframe thead th {\n",
       "        text-align: right;\n",
       "    }\n",
       "</style>\n",
       "<table border=\"1\" class=\"dataframe\">\n",
       "  <thead>\n",
       "    <tr style=\"text-align: right;\">\n",
       "      <th></th>\n",
       "      <th>user_followers_count</th>\n",
       "      <th>user_verified</th>\n",
       "      <th>media_count</th>\n",
       "      <th>media_animated_gif</th>\n",
       "      <th>media_photo</th>\n",
       "      <th>media_video</th>\n",
       "      <th>hashtags_clean</th>\n",
       "      <th>text_clean</th>\n",
       "    </tr>\n",
       "    <tr>\n",
       "      <th>tid</th>\n",
       "      <th></th>\n",
       "      <th></th>\n",
       "      <th></th>\n",
       "      <th></th>\n",
       "      <th></th>\n",
       "      <th></th>\n",
       "      <th></th>\n",
       "      <th></th>\n",
       "    </tr>\n",
       "  </thead>\n",
       "  <tbody>\n",
       "    <tr>\n",
       "      <th>1361890179951296512</th>\n",
       "      <td>360</td>\n",
       "      <td>0</td>\n",
       "      <td>0</td>\n",
       "      <td>0</td>\n",
       "      <td>0</td>\n",
       "      <td>0</td>\n",
       "      <td></td>\n",
       "      <td>dellamorte  late september  clip  going around...</td>\n",
       "    </tr>\n",
       "    <tr>\n",
       "      <th>1358354354462289920</th>\n",
       "      <td>382</td>\n",
       "      <td>0</td>\n",
       "      <td>0</td>\n",
       "      <td>0</td>\n",
       "      <td>0</td>\n",
       "      <td>0</td>\n",
       "      <td></td>\n",
       "      <td>know lot poz ppl    even know many people ppl ...</td>\n",
       "    </tr>\n",
       "    <tr>\n",
       "      <th>1363916379519336448</th>\n",
       "      <td>417</td>\n",
       "      <td>0</td>\n",
       "      <td>0</td>\n",
       "      <td>0</td>\n",
       "      <td>0</td>\n",
       "      <td>0</td>\n",
       "      <td></td>\n",
       "      <td>hiv covid pandemic show u fear disease coloure...</td>\n",
       "    </tr>\n",
       "    <tr>\n",
       "      <th>1369296990782320648</th>\n",
       "      <td>6656</td>\n",
       "      <td>0</td>\n",
       "      <td>0</td>\n",
       "      <td>0</td>\n",
       "      <td>0</td>\n",
       "      <td>0</td>\n",
       "      <td>uequalsu</td>\n",
       "      <td>tomorrow wednesday march th pm et join tweetst...</td>\n",
       "    </tr>\n",
       "    <tr>\n",
       "      <th>1369559005811662851</th>\n",
       "      <td>104</td>\n",
       "      <td>0</td>\n",
       "      <td>0</td>\n",
       "      <td>0</td>\n",
       "      <td>0</td>\n",
       "      <td>0</td>\n",
       "      <td></td>\n",
       "      <td>next generation hiv drug looking really promis...</td>\n",
       "    </tr>\n",
       "    <tr>\n",
       "      <th>...</th>\n",
       "      <td>...</td>\n",
       "      <td>...</td>\n",
       "      <td>...</td>\n",
       "      <td>...</td>\n",
       "      <td>...</td>\n",
       "      <td>...</td>\n",
       "      <td>...</td>\n",
       "      <td>...</td>\n",
       "    </tr>\n",
       "    <tr>\n",
       "      <th>1369950382693232643</th>\n",
       "      <td>6045</td>\n",
       "      <td>0</td>\n",
       "      <td>0</td>\n",
       "      <td>0</td>\n",
       "      <td>0</td>\n",
       "      <td>0</td>\n",
       "      <td></td>\n",
       "      <td>want part multistakeholder task force  highlev...</td>\n",
       "    </tr>\n",
       "    <tr>\n",
       "      <th>1368967563837857792</th>\n",
       "      <td>15198</td>\n",
       "      <td>1</td>\n",
       "      <td>0</td>\n",
       "      <td>0</td>\n",
       "      <td>0</td>\n",
       "      <td>0</td>\n",
       "      <td></td>\n",
       "      <td>announced year collaboration radbouduni provi...</td>\n",
       "    </tr>\n",
       "    <tr>\n",
       "      <th>1365011079600824322</th>\n",
       "      <td>416</td>\n",
       "      <td>0</td>\n",
       "      <td>0</td>\n",
       "      <td>0</td>\n",
       "      <td>0</td>\n",
       "      <td>0</td>\n",
       "      <td></td>\n",
       "      <td>cjtvguy diamondsstart nurse ball aid hiv benef...</td>\n",
       "    </tr>\n",
       "    <tr>\n",
       "      <th>1364000370972786689</th>\n",
       "      <td>2284</td>\n",
       "      <td>0</td>\n",
       "      <td>0</td>\n",
       "      <td>0</td>\n",
       "      <td>0</td>\n",
       "      <td>0</td>\n",
       "      <td></td>\n",
       "      <td>key question whether lifestyle intervention im...</td>\n",
       "    </tr>\n",
       "    <tr>\n",
       "      <th>1342168161999876096</th>\n",
       "      <td>897</td>\n",
       "      <td>0</td>\n",
       "      <td>0</td>\n",
       "      <td>0</td>\n",
       "      <td>0</td>\n",
       "      <td>0</td>\n",
       "      <td>hiv</td>\n",
       "      <td>living feeling isolated need support visit myc...</td>\n",
       "    </tr>\n",
       "  </tbody>\n",
       "</table>\n",
       "<p>12009 rows × 8 columns</p>\n",
       "</div>"
      ],
      "text/plain": [
       "                     user_followers_count  user_verified  media_count  \\\n",
       "tid                                                                     \n",
       "1361890179951296512                   360              0            0   \n",
       "1358354354462289920                   382              0            0   \n",
       "1363916379519336448                   417              0            0   \n",
       "1369296990782320648                  6656              0            0   \n",
       "1369559005811662851                   104              0            0   \n",
       "...                                   ...            ...          ...   \n",
       "1369950382693232643                  6045              0            0   \n",
       "1368967563837857792                 15198              1            0   \n",
       "1365011079600824322                   416              0            0   \n",
       "1364000370972786689                  2284              0            0   \n",
       "1342168161999876096                   897              0            0   \n",
       "\n",
       "                     media_animated_gif  media_photo  media_video  \\\n",
       "tid                                                                 \n",
       "1361890179951296512                   0            0            0   \n",
       "1358354354462289920                   0            0            0   \n",
       "1363916379519336448                   0            0            0   \n",
       "1369296990782320648                   0            0            0   \n",
       "1369559005811662851                   0            0            0   \n",
       "...                                 ...          ...          ...   \n",
       "1369950382693232643                   0            0            0   \n",
       "1368967563837857792                   0            0            0   \n",
       "1365011079600824322                   0            0            0   \n",
       "1364000370972786689                   0            0            0   \n",
       "1342168161999876096                   0            0            0   \n",
       "\n",
       "                    hashtags_clean  \\\n",
       "tid                                  \n",
       "1361890179951296512                  \n",
       "1358354354462289920                  \n",
       "1363916379519336448                  \n",
       "1369296990782320648       uequalsu   \n",
       "1369559005811662851                  \n",
       "...                            ...   \n",
       "1369950382693232643                  \n",
       "1368967563837857792                  \n",
       "1365011079600824322                  \n",
       "1364000370972786689                  \n",
       "1342168161999876096            hiv   \n",
       "\n",
       "                                                            text_clean  \n",
       "tid                                                                     \n",
       "1361890179951296512  dellamorte  late september  clip  going around...  \n",
       "1358354354462289920  know lot poz ppl    even know many people ppl ...  \n",
       "1363916379519336448  hiv covid pandemic show u fear disease coloure...  \n",
       "1369296990782320648  tomorrow wednesday march th pm et join tweetst...  \n",
       "1369559005811662851  next generation hiv drug looking really promis...  \n",
       "...                                                                ...  \n",
       "1369950382693232643  want part multistakeholder task force  highlev...  \n",
       "1368967563837857792   announced year collaboration radbouduni provi...  \n",
       "1365011079600824322  cjtvguy diamondsstart nurse ball aid hiv benef...  \n",
       "1364000370972786689  key question whether lifestyle intervention im...  \n",
       "1342168161999876096  living feeling isolated need support visit myc...  \n",
       "\n",
       "[12009 rows x 8 columns]"
      ]
     },
     "execution_count": 17,
     "metadata": {},
     "output_type": "execute_result"
    }
   ],
   "source": [
    "X_train"
   ]
  },
  {
   "cell_type": "markdown",
   "metadata": {},
   "source": [
    "#### try a few different transformations"
   ]
  },
  {
   "cell_type": "markdown",
   "metadata": {},
   "source": [
    "Code adapted from https://scikit-learn.org/stable/auto_examples/applications/plot_topics_extraction_with_nmf_lda.html#sphx-glr-auto-examples-applications-plot-topics-extraction-with-nmf-lda-py"
   ]
  },
  {
   "cell_type": "code",
   "execution_count": 18,
   "metadata": {},
   "outputs": [],
   "source": [
    "text = X_train['text_clean']"
   ]
  },
  {
   "cell_type": "code",
   "execution_count": 24,
   "metadata": {},
   "outputs": [],
   "source": [
    "n_features = 100\n",
    "tfidf_vectorizer = TfidfVectorizer(max_df=0.95, min_df=2,\n",
    "                                   max_features=n_features,\n",
    "                                   stop_words='english')\n",
    "\n",
    "\n",
    "tfidf = tfidf_vectorizer.fit_transform(text)\n",
    "\n",
    "\n",
    "tf_vectorizer = CountVectorizer(max_df=0.95, min_df=2,\n",
    "                                max_features=n_features,\n",
    "                                stop_words='english')\n",
    "\n",
    "tf = tf_vectorizer.fit_transform(text)"
   ]
  },
  {
   "cell_type": "code",
   "execution_count": 25,
   "metadata": {},
   "outputs": [],
   "source": [
    "tfidf_df = pd.DataFrame(tfidf.toarray(), columns=tfidf_vectorizer.get_feature_names())"
   ]
  },
  {
   "cell_type": "code",
   "execution_count": 26,
   "metadata": {},
   "outputs": [
    {
     "data": {
      "text/html": [
       "<div>\n",
       "<style scoped>\n",
       "    .dataframe tbody tr th:only-of-type {\n",
       "        vertical-align: middle;\n",
       "    }\n",
       "\n",
       "    .dataframe tbody tr th {\n",
       "        vertical-align: top;\n",
       "    }\n",
       "\n",
       "    .dataframe thead th {\n",
       "        text-align: right;\n",
       "    }\n",
       "</style>\n",
       "<table border=\"1\" class=\"dataframe\">\n",
       "  <thead>\n",
       "    <tr style=\"text-align: right;\">\n",
       "      <th></th>\n",
       "      <th>africa</th>\n",
       "      <th>aid</th>\n",
       "      <th>awareness</th>\n",
       "      <th>black</th>\n",
       "      <th>blood</th>\n",
       "      <th>cancer</th>\n",
       "      <th>care</th>\n",
       "      <th>cause</th>\n",
       "      <th>child</th>\n",
       "      <th>come</th>\n",
       "      <th>...</th>\n",
       "      <th>treatment</th>\n",
       "      <th>use</th>\n",
       "      <th>vaccine</th>\n",
       "      <th>virus</th>\n",
       "      <th>want</th>\n",
       "      <th>way</th>\n",
       "      <th>woman</th>\n",
       "      <th>work</th>\n",
       "      <th>world</th>\n",
       "      <th>year</th>\n",
       "    </tr>\n",
       "  </thead>\n",
       "  <tbody>\n",
       "    <tr>\n",
       "      <th>0</th>\n",
       "      <td>0.0</td>\n",
       "      <td>0.00000</td>\n",
       "      <td>0.0</td>\n",
       "      <td>0.0</td>\n",
       "      <td>0.0</td>\n",
       "      <td>0.0</td>\n",
       "      <td>0.0</td>\n",
       "      <td>0.0</td>\n",
       "      <td>0.0</td>\n",
       "      <td>0.0</td>\n",
       "      <td>...</td>\n",
       "      <td>0.0</td>\n",
       "      <td>0.0</td>\n",
       "      <td>0.0</td>\n",
       "      <td>0.0</td>\n",
       "      <td>0.0</td>\n",
       "      <td>0.0</td>\n",
       "      <td>0.000000</td>\n",
       "      <td>0.0</td>\n",
       "      <td>0.0</td>\n",
       "      <td>0.0</td>\n",
       "    </tr>\n",
       "    <tr>\n",
       "      <th>1</th>\n",
       "      <td>0.0</td>\n",
       "      <td>0.52839</td>\n",
       "      <td>0.0</td>\n",
       "      <td>0.0</td>\n",
       "      <td>0.0</td>\n",
       "      <td>0.0</td>\n",
       "      <td>0.0</td>\n",
       "      <td>0.0</td>\n",
       "      <td>0.0</td>\n",
       "      <td>0.0</td>\n",
       "      <td>...</td>\n",
       "      <td>0.0</td>\n",
       "      <td>0.0</td>\n",
       "      <td>0.0</td>\n",
       "      <td>0.0</td>\n",
       "      <td>0.0</td>\n",
       "      <td>0.0</td>\n",
       "      <td>0.000000</td>\n",
       "      <td>0.0</td>\n",
       "      <td>0.0</td>\n",
       "      <td>0.0</td>\n",
       "    </tr>\n",
       "    <tr>\n",
       "      <th>2</th>\n",
       "      <td>0.0</td>\n",
       "      <td>0.00000</td>\n",
       "      <td>0.0</td>\n",
       "      <td>0.0</td>\n",
       "      <td>0.0</td>\n",
       "      <td>0.0</td>\n",
       "      <td>0.0</td>\n",
       "      <td>0.0</td>\n",
       "      <td>0.0</td>\n",
       "      <td>0.0</td>\n",
       "      <td>...</td>\n",
       "      <td>0.0</td>\n",
       "      <td>0.0</td>\n",
       "      <td>0.0</td>\n",
       "      <td>0.0</td>\n",
       "      <td>0.0</td>\n",
       "      <td>0.0</td>\n",
       "      <td>0.000000</td>\n",
       "      <td>0.0</td>\n",
       "      <td>0.0</td>\n",
       "      <td>0.0</td>\n",
       "    </tr>\n",
       "    <tr>\n",
       "      <th>3</th>\n",
       "      <td>0.0</td>\n",
       "      <td>0.00000</td>\n",
       "      <td>0.0</td>\n",
       "      <td>0.0</td>\n",
       "      <td>0.0</td>\n",
       "      <td>0.0</td>\n",
       "      <td>0.0</td>\n",
       "      <td>0.0</td>\n",
       "      <td>0.0</td>\n",
       "      <td>0.0</td>\n",
       "      <td>...</td>\n",
       "      <td>0.0</td>\n",
       "      <td>0.0</td>\n",
       "      <td>0.0</td>\n",
       "      <td>0.0</td>\n",
       "      <td>0.0</td>\n",
       "      <td>0.0</td>\n",
       "      <td>0.417984</td>\n",
       "      <td>0.0</td>\n",
       "      <td>0.0</td>\n",
       "      <td>0.0</td>\n",
       "    </tr>\n",
       "    <tr>\n",
       "      <th>4</th>\n",
       "      <td>0.0</td>\n",
       "      <td>0.00000</td>\n",
       "      <td>0.0</td>\n",
       "      <td>0.0</td>\n",
       "      <td>0.0</td>\n",
       "      <td>0.0</td>\n",
       "      <td>0.0</td>\n",
       "      <td>0.0</td>\n",
       "      <td>0.0</td>\n",
       "      <td>0.0</td>\n",
       "      <td>...</td>\n",
       "      <td>0.0</td>\n",
       "      <td>0.0</td>\n",
       "      <td>0.0</td>\n",
       "      <td>0.0</td>\n",
       "      <td>0.0</td>\n",
       "      <td>0.0</td>\n",
       "      <td>0.000000</td>\n",
       "      <td>0.0</td>\n",
       "      <td>0.0</td>\n",
       "      <td>0.0</td>\n",
       "    </tr>\n",
       "  </tbody>\n",
       "</table>\n",
       "<p>5 rows × 100 columns</p>\n",
       "</div>"
      ],
      "text/plain": [
       "   africa      aid  awareness  black  blood  cancer  care  cause  child  come  \\\n",
       "0     0.0  0.00000        0.0    0.0    0.0     0.0   0.0    0.0    0.0   0.0   \n",
       "1     0.0  0.52839        0.0    0.0    0.0     0.0   0.0    0.0    0.0   0.0   \n",
       "2     0.0  0.00000        0.0    0.0    0.0     0.0   0.0    0.0    0.0   0.0   \n",
       "3     0.0  0.00000        0.0    0.0    0.0     0.0   0.0    0.0    0.0   0.0   \n",
       "4     0.0  0.00000        0.0    0.0    0.0     0.0   0.0    0.0    0.0   0.0   \n",
       "\n",
       "   ...  treatment  use  vaccine  virus  want  way     woman  work  world  year  \n",
       "0  ...        0.0  0.0      0.0    0.0   0.0  0.0  0.000000   0.0    0.0   0.0  \n",
       "1  ...        0.0  0.0      0.0    0.0   0.0  0.0  0.000000   0.0    0.0   0.0  \n",
       "2  ...        0.0  0.0      0.0    0.0   0.0  0.0  0.000000   0.0    0.0   0.0  \n",
       "3  ...        0.0  0.0      0.0    0.0   0.0  0.0  0.417984   0.0    0.0   0.0  \n",
       "4  ...        0.0  0.0      0.0    0.0   0.0  0.0  0.000000   0.0    0.0   0.0  \n",
       "\n",
       "[5 rows x 100 columns]"
      ]
     },
     "execution_count": 26,
     "metadata": {},
     "output_type": "execute_result"
    }
   ],
   "source": [
    "tfidf_df.head()"
   ]
  },
  {
   "cell_type": "code",
   "execution_count": 27,
   "metadata": {},
   "outputs": [],
   "source": [
    "tfidf_test = tfidf_vectorizer.transform(X_test['text_clean'])"
   ]
  },
  {
   "cell_type": "code",
   "execution_count": 28,
   "metadata": {},
   "outputs": [],
   "source": [
    "tfidf_test_df = pd.DataFrame(tfidf_test.toarray(), columns=tfidf_vectorizer.get_feature_names())"
   ]
  },
  {
   "cell_type": "markdown",
   "metadata": {},
   "source": [
    "#### Optimize NMF"
   ]
  },
  {
   "cell_type": "code",
   "execution_count": 106,
   "metadata": {},
   "outputs": [],
   "source": [
    "def get_score(model, data, scorer=metrics.explained_variance_score):\n",
    "    \"\"\" Estimate performance of the model on the data \n",
    "    function from https://stackoverflow.com/questions/48148689/how-to-compare-predictive-power-of-pca-and-nmf\"\"\"\n",
    "    prediction = model.inverse_transform(model.transform(data))\n",
    "    return scorer(data, prediction)"
   ]
  },
  {
   "cell_type": "code",
   "execution_count": 126,
   "metadata": {},
   "outputs": [
    {
     "data": {
      "text/plain": [
       "((9608, 100), (2401, 100))"
      ]
     },
     "execution_count": 126,
     "metadata": {},
     "output_type": "execute_result"
    }
   ],
   "source": [
    "#create temp train/test split to evaluate NMF n_components\n",
    "tfidf_test_ind = random.sample(range(len(tfidf_df)), k=int(len(tfidf_df)*.2))\n",
    "\n",
    "tfidf_train = tfidf_df.drop(index=tfidf_test_ind)\n",
    "tfidf_test = tfidf_df.iloc[tfidf_test_ind]\n",
    "\n",
    "tfidf_train.shape, tfidf_test.shape"
   ]
  },
  {
   "cell_type": "code",
   "execution_count": 124,
   "metadata": {},
   "outputs": [
    {
     "name": "stdout",
     "output_type": "stream",
     "text": [
      "boom\n",
      "boom\n",
      "boom\n",
      "boom\n",
      "boom\n",
      "boom\n"
     ]
    }
   ],
   "source": [
    "#code adapated from same link as get_score function above\n",
    "ks = [5, 10, 30, 50, 80, 90]\n",
    "performance = []\n",
    "for k in ks:\n",
    "    nmf = NMF(n_components=k, init='random', random_state=1).fit(tfidf_train)\n",
    "    train = get_score(nmf, tfidf_train)\n",
    "    test = get_score(nmf, tfidf_test)\n",
    "    performance.append((\"for k={}, train explained variance is {} and test explained variance is {}\".format(k, train, test)))    \n",
    "    print('boom')\n"
   ]
  },
  {
   "cell_type": "code",
   "execution_count": 125,
   "metadata": {},
   "outputs": [
    {
     "data": {
      "text/plain": [
       "['for k=5, train explained variance is 0.04965222899504065 and test explained variance is 0.04854808037781701',\n",
       " 'for k=10, train explained variance is 0.10896900071835125 and test explained variance is 0.10726659797169909',\n",
       " 'for k=30, train explained variance is 0.3231908147694511 and test explained variance is 0.3195816958712332',\n",
       " 'for k=50, train explained variance is 0.5264733890853058 and test explained variance is 0.5225931094785763',\n",
       " 'for k=80, train explained variance is 0.816785492965659 and test explained variance is 0.8147271110699765',\n",
       " 'for k=90, train explained variance is 0.9135813727945948 and test explained variance is 0.9121370562701634']"
      ]
     },
     "execution_count": 125,
     "metadata": {},
     "output_type": "execute_result"
    }
   ],
   "source": [
    "performance"
   ]
  },
  {
   "cell_type": "markdown",
   "metadata": {},
   "source": [
    "to avoid overfitting, I will go with n_components=80. "
   ]
  },
  {
   "cell_type": "code",
   "execution_count": 127,
   "metadata": {},
   "outputs": [],
   "source": [
    "nmf = NMF(n_components=80, init='random', random_state=1)"
   ]
  },
  {
   "cell_type": "code",
   "execution_count": 128,
   "metadata": {},
   "outputs": [],
   "source": [
    "tfidf_nmf = nmf.fit_transform(tfidf_df)\n",
    "tfidf_nmf_test = nmf.transform(tfidf_test_df)"
   ]
  },
  {
   "cell_type": "code",
   "execution_count": 148,
   "metadata": {},
   "outputs": [],
   "source": [
    "tfidf_nmf_df = pd.DataFrame(tfidf_nmf, columns=range(tfidf_nmf.shape[1]), index=X_train.index)\n",
    "tfidf_nmf_test_df = pd.DataFrame(tfidf_nmf_test, columns=range(tfidf_nmf_test.shape[1]), index=X_test.index)"
   ]
  },
  {
   "cell_type": "code",
   "execution_count": 150,
   "metadata": {},
   "outputs": [],
   "source": [
    "fname = \"X_train_tfidf_nmf.pkl\"\n",
    "pd.to_pickle(tfidf_nmf_df, os.path.join(data_fol, \"combined_model\", fname))"
   ]
  },
  {
   "cell_type": "code",
   "execution_count": 151,
   "metadata": {},
   "outputs": [],
   "source": [
    "fname = \"X_test_tfidf_nmf.pkl\"\n",
    "pd.to_pickle(tfidf_nmf_test_df, os.path.join(data_fol, \"combined_model\", fname))"
   ]
  },
  {
   "cell_type": "code",
   "execution_count": null,
   "metadata": {},
   "outputs": [],
   "source": []
  },
  {
   "cell_type": "code",
   "execution_count": null,
   "metadata": {},
   "outputs": [],
   "source": []
  }
 ],
 "metadata": {
  "kernelspec": {
   "display_name": "nlp",
   "language": "python",
   "name": "nlp"
  },
  "language_info": {
   "codemirror_mode": {
    "name": "ipython",
    "version": 3
   },
   "file_extension": ".py",
   "mimetype": "text/x-python",
   "name": "python",
   "nbconvert_exporter": "python",
   "pygments_lexer": "ipython3",
   "version": "3.8.5"
  }
 },
 "nbformat": 4,
 "nbformat_minor": 4
}

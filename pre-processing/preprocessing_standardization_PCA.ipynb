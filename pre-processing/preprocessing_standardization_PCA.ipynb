{
 "cells": [
  {
   "cell_type": "code",
   "execution_count": 5,
   "metadata": {},
   "outputs": [],
   "source": [
    "import pandas as pd\n",
    "import os\n",
    "import matplotlib.pyplot as plt\n",
    "import numpy as np\n",
    "\n",
    "from sklearn.preprocessing import StandardScaler\n",
    "from sklearn.decomposition import PCA\n",
    "\n",
    "idx = pd.IndexSlice\n",
    "data_fol = r\"..\\data_files\""
   ]
  },
  {
   "cell_type": "markdown",
   "metadata": {},
   "source": [
    "### Bag of Words model"
   ]
  },
  {
   "cell_type": "code",
   "execution_count": 2,
   "metadata": {},
   "outputs": [],
   "source": [
    "bow_train = pd.read_pickle(os.path.join(data_fol, \"bow_model\", \"bow_X_train.pkl\"))\n",
    "bow_test = pd.read_pickle(os.path.join(data_fol, \"bow_model\", \"bow_X_test.pkl\"))"
   ]
  },
  {
   "cell_type": "code",
   "execution_count": 3,
   "metadata": {},
   "outputs": [
    {
     "data": {
      "text/plain": [
       "((12009, 186), (5915, 186))"
      ]
     },
     "execution_count": 3,
     "metadata": {},
     "output_type": "execute_result"
    }
   ],
   "source": [
    "bow_train.shape, bow_test.shape"
   ]
  },
  {
   "cell_type": "markdown",
   "metadata": {},
   "source": [
    "#### 1. Scale training data and find number of components needed to explain 80% of variance"
   ]
  },
  {
   "cell_type": "code",
   "execution_count": 6,
   "metadata": {},
   "outputs": [
    {
     "name": "stdout",
     "output_type": "stream",
     "text": [
      "components for 80% variance: 135\n"
     ]
    },
    {
     "data": {
      "image/png": "[encoded data removed]",
      "text/plain": [
       "<Figure size 432x288 with 1 Axes>"
      ]
     },
     "metadata": {
      "needs_background": "light"
     },
     "output_type": "display_data"
    }
   ],
   "source": [
    "stansca = StandardScaler()\n",
    "X = stansca.fit_transform(bow_train)\n",
    "pca = PCA()\n",
    "pca.fit(X)\n",
    "\n",
    "fig, ax = plt.subplots()\n",
    "ax.plot(np.cumsum(pca.explained_variance_ratio_),'-', linewidth=2, color='k', zorder=100)\n",
    "ax.axhline(.8, color='r')\n",
    "print(\"components for 80% variance: {}\".format(np.where(np.cumsum(pca.explained_variance_ratio_)>=.8)[0][0]))\n",
    "plt.show()"
   ]
  },
  {
   "cell_type": "markdown",
   "metadata": {},
   "source": [
    "#### 2. fit and transform training data"
   ]
  },
  {
   "cell_type": "code",
   "execution_count": 7,
   "metadata": {},
   "outputs": [],
   "source": [
    "ncomp = 135\n",
    "pca = PCA(n_components=ncomp)\n",
    "principalComponents = pca.fit_transform(X)\n",
    "principalDf = pd.DataFrame(data = principalComponents, \n",
    "                           columns = range(ncomp),\n",
    "                          index=bow_train.index)\n",
    "\n",
    "pd.to_pickle(principalDf, os.path.join(data_fol, \"bow_model\", \"bow_X_train_scaled_pca.pkl\"))"
   ]
  },
  {
   "cell_type": "markdown",
   "metadata": {},
   "source": [
    "#### 3. transform test data with standard scaler and PCA"
   ]
  },
  {
   "cell_type": "code",
   "execution_count": 8,
   "metadata": {},
   "outputs": [],
   "source": [
    "X_test = stansca.transform(bow_test)\n",
    "test_pcs = pca.transform(X_test)\n",
    "\n",
    "principalDf_test = pd.DataFrame(data = test_pcs, \n",
    "                           columns = range(ncomp),\n",
    "                          index=bow_test.index)\n",
    "\n",
    "pd.to_pickle(principalDf, os.path.join(data_fol, \"bow_model\", \"bow_X_test_scaled_pca.pkl\"))"
   ]
  },
  {
   "cell_type": "code",
   "execution_count": null,
   "metadata": {},
   "outputs": [],
   "source": []
  },
  {
   "cell_type": "code",
   "execution_count": null,
   "metadata": {},
   "outputs": [],
   "source": []
  },
  {
   "cell_type": "markdown",
   "metadata": {},
   "source": [
    "### Bigrams model"
   ]
  },
  {
   "cell_type": "code",
   "execution_count": 9,
   "metadata": {},
   "outputs": [],
   "source": [
    "gram2_train = pd.read_pickle(os.path.join(data_fol, \"bigrams_model\", \"gram2_X_train.pkl\"))\n",
    "gram2_test = pd.read_pickle(os.path.join(data_fol, \"bigrams_model\", \"gram2_X_test.pkl\"))"
   ]
  },
  {
   "cell_type": "code",
   "execution_count": 10,
   "metadata": {},
   "outputs": [
    {
     "data": {
      "text/plain": [
       "((12009, 186), (5915, 186))"
      ]
     },
     "execution_count": 10,
     "metadata": {},
     "output_type": "execute_result"
    }
   ],
   "source": [
    "gram2_train.shape, gram2_test.shape"
   ]
  },
  {
   "cell_type": "markdown",
   "metadata": {},
   "source": [
    "#### 1. Scale training data and find number of components needed to explain 80% of variance"
   ]
  },
  {
   "cell_type": "code",
   "execution_count": 11,
   "metadata": {},
   "outputs": [
    {
     "name": "stdout",
     "output_type": "stream",
     "text": [
      "components for 80% variance: 107\n"
     ]
    },
    {
     "data": {
      "image/png": "[encoded data removed]",
      "text/plain": [
       "<Figure size 432x288 with 1 Axes>"
      ]
     },
     "metadata": {
      "needs_background": "light"
     },
     "output_type": "display_data"
    }
   ],
   "source": [
    "stansca = StandardScaler()\n",
    "X = stansca.fit_transform(gram2_train)\n",
    "pca = PCA()\n",
    "pca.fit(X)\n",
    "\n",
    "fig, ax = plt.subplots()\n",
    "ax.plot(np.cumsum(pca.explained_variance_ratio_),'-', linewidth=2, color='k', zorder=100)\n",
    "ax.axhline(.8, color='r')\n",
    "print(\"components for 80% variance: {}\".format(np.where(np.cumsum(pca.explained_variance_ratio_)>=.8)[0][0]))\n",
    "plt.show()"
   ]
  },
  {
   "cell_type": "markdown",
   "metadata": {},
   "source": [
    "#### 2. fit and transform training data"
   ]
  },
  {
   "cell_type": "code",
   "execution_count": 12,
   "metadata": {},
   "outputs": [],
   "source": [
    "ncomp = 107\n",
    "pca = PCA(n_components=ncomp)\n",
    "principalComponents = pca.fit_transform(X)\n",
    "principalDf = pd.DataFrame(data = principalComponents, \n",
    "                           columns = range(ncomp),\n",
    "                          index=gram2_train.index)\n",
    "\n",
    "pd.to_pickle(principalDf, os.path.join(data_fol, \"bigrams_model\", \"gram2_X_train_scaled_pca.pkl\"))"
   ]
  },
  {
   "cell_type": "markdown",
   "metadata": {},
   "source": [
    "#### 3. transform test data with standard scaler and PCA"
   ]
  },
  {
   "cell_type": "code",
   "execution_count": 13,
   "metadata": {},
   "outputs": [],
   "source": [
    "X_test = stansca.transform(gram2_test)\n",
    "test_pcs = pca.transform(X_test)\n",
    "\n",
    "principalDf_test = pd.DataFrame(data = test_pcs, \n",
    "                           columns = range(ncomp),\n",
    "                          index=gram2_test.index)\n",
    "\n",
    "pd.to_pickle(principalDf, os.path.join(data_fol, \"bigrams_model\", \"gram2_X_test_scaled_pca.pkl\"))"
   ]
  },
  {
   "cell_type": "code",
   "execution_count": null,
   "metadata": {},
   "outputs": [],
   "source": []
  },
  {
   "cell_type": "code",
   "execution_count": null,
   "metadata": {},
   "outputs": [],
   "source": []
  },
  {
   "cell_type": "markdown",
   "metadata": {},
   "source": [
    "### Bi and tri gram model"
   ]
  },
  {
   "cell_type": "code",
   "execution_count": 14,
   "metadata": {},
   "outputs": [],
   "source": [
    "gram23_train = pd.read_pickle(os.path.join(data_fol, \"bitrigrams_model\", \"gram23_X_train.pkl\"))\n",
    "gram23_test = pd.read_pickle(os.path.join(data_fol, \"bitrigrams_model\", \"gram23_X_test.pkl\"))"
   ]
  },
  {
   "cell_type": "code",
   "execution_count": 15,
   "metadata": {},
   "outputs": [
    {
     "data": {
      "text/plain": [
       "((12009, 186), (5915, 186))"
      ]
     },
     "execution_count": 15,
     "metadata": {},
     "output_type": "execute_result"
    }
   ],
   "source": [
    "gram23_train.shape, gram23_test.shape"
   ]
  },
  {
   "cell_type": "markdown",
   "metadata": {},
   "source": [
    "#### 1. Scale training data and find number of components needed to explain 80% of variance"
   ]
  },
  {
   "cell_type": "code",
   "execution_count": 16,
   "metadata": {},
   "outputs": [
    {
     "name": "stdout",
     "output_type": "stream",
     "text": [
      "components for 80% variance: 79\n"
     ]
    },
    {
     "data": {
      "image/png": "[encoded data removed]",
      "text/plain": [
       "<Figure size 432x288 with 1 Axes>"
      ]
     },
     "metadata": {
      "needs_background": "light"
     },
     "output_type": "display_data"
    }
   ],
   "source": [
    "stansca = StandardScaler()\n",
    "X = stansca.fit_transform(gram23_train)\n",
    "pca = PCA()\n",
    "pca.fit(X)\n",
    "\n",
    "fig, ax = plt.subplots()\n",
    "ax.plot(np.cumsum(pca.explained_variance_ratio_),'-', linewidth=2, color='k', zorder=100)\n",
    "ax.axhline(.8, color='r')\n",
    "print(\"components for 80% variance: {}\".format(np.where(np.cumsum(pca.explained_variance_ratio_)>=.8)[0][0]))\n",
    "plt.show()"
   ]
  },
  {
   "cell_type": "markdown",
   "metadata": {},
   "source": [
    "#### 2. fit and transform training data"
   ]
  },
  {
   "cell_type": "code",
   "execution_count": 17,
   "metadata": {},
   "outputs": [],
   "source": [
    "ncomp = 79\n",
    "pca = PCA(n_components=ncomp)\n",
    "principalComponents = pca.fit_transform(X)\n",
    "principalDf = pd.DataFrame(data = principalComponents, \n",
    "                           columns = range(ncomp),\n",
    "                          index=gram23_train.index)\n",
    "\n",
    "pd.to_pickle(principalDf, os.path.join(data_fol, \"bitrigrams_model\", \"gram23_X_train_scaled_pca.pkl\"))"
   ]
  },
  {
   "cell_type": "markdown",
   "metadata": {},
   "source": [
    "#### 3. transform test data with standard scaler and PCA"
   ]
  },
  {
   "cell_type": "code",
   "execution_count": 18,
   "metadata": {},
   "outputs": [],
   "source": [
    "X_test = stansca.transform(gram23_test)\n",
    "test_pcs = pca.transform(X_test)\n",
    "\n",
    "principalDf_test = pd.DataFrame(data = test_pcs, \n",
    "                           columns = range(ncomp),\n",
    "                          index=gram23_test.index)\n",
    "\n",
    "pd.to_pickle(principalDf, os.path.join(data_fol, \"bitrigrams_model\", \"gram23_X_test_scaled_pca.pkl\"))"
   ]
  },
  {
   "cell_type": "code",
   "execution_count": null,
   "metadata": {},
   "outputs": [],
   "source": []
  }
 ],
 "metadata": {
  "kernelspec": {
   "display_name": "nlp",
   "language": "python",
   "name": "nlp"
  },
  "language_info": {
   "codemirror_mode": {
    "name": "ipython",
    "version": 3
   },
   "file_extension": ".py",
   "mimetype": "text/x-python",
   "name": "python",
   "nbconvert_exporter": "python",
   "pygments_lexer": "ipython3",
   "version": "3.8.5"
  }
 },
 "nbformat": 4,
 "nbformat_minor": 4
}

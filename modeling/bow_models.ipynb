{
 "cells": [
  {
   "cell_type": "code",
   "execution_count": 1,
   "metadata": {},
   "outputs": [],
   "source": [
    "import pandas as pd\n",
    "import json\n",
    "import os\n",
    "import numpy as np\n",
    "import matplotlib.pyplot as plt\n",
    "import seaborn as sns\n",
    "\n",
    "idx = pd.IndexSlice\n",
    "data_fol = r\"..\\data_files\""
   ]
  },
  {
   "cell_type": "code",
   "execution_count": 2,
   "metadata": {},
   "outputs": [],
   "source": [
    "X_path = os.path.join(data_fol, 'bow_model', \"bow_X_train_scaled_pca.pkl\")\n",
    "y_path = os.path.join(data_fol, 'bow_model', \"bow_y_train.pkl\")\n",
    "\n",
    "X = pd.read_pickle(X_path)\n",
    "y = pd.read_pickle(y_path)"
   ]
  },
  {
   "cell_type": "code",
   "execution_count": 3,
   "metadata": {},
   "outputs": [],
   "source": [
    "from sklearn.svm import SVR, SVC\n",
    "from sklearn.model_selection import cross_validate, cross_val_score\n",
    "from sklearn.linear_model import Lasso\n",
    "from sklearn.naive_bayes import MultinomialNB\n",
    "from sklearn.model_selection import RandomizedSearchCV, GridSearchCV"
   ]
  },
  {
   "cell_type": "code",
   "execution_count": 4,
   "metadata": {},
   "outputs": [
    {
     "data": {
      "text/plain": [
       "tid\n",
       "1361890179951296512      3.25\n",
       "1358354354462289920    165.00\n",
       "1363916379519336448      0.00\n",
       "1369296990782320648     31.00\n",
       "1369559005811662851      0.00\n",
       "Name: all_engagement, dtype: float64"
      ]
     },
     "execution_count": 4,
     "metadata": {},
     "output_type": "execute_result"
    }
   ],
   "source": [
    "y.head()"
   ]
  },
  {
   "cell_type": "code",
   "execution_count": 5,
   "metadata": {},
   "outputs": [
    {
     "data": {
      "image/png": "[encoded data removed]",
      "text/plain": [
       "<Figure size 432x288 with 1 Axes>"
      ]
     },
     "metadata": {
      "needs_background": "light"
     },
     "output_type": "display_data"
    }
   ],
   "source": [
    "plt.plot(y.sort_values(ascending=True).values)\n",
    "plt.show()"
   ]
  },
  {
   "cell_type": "code",
   "execution_count": 6,
   "metadata": {},
   "outputs": [
    {
     "data": {
      "text/plain": [
       "count    12009.000000\n",
       "mean         8.291177\n",
       "std         29.330109\n",
       "min          0.000000\n",
       "25%          0.000000\n",
       "50%          0.750000\n",
       "75%          4.500000\n",
       "max        463.250000\n",
       "Name: all_engagement, dtype: float64"
      ]
     },
     "execution_count": 6,
     "metadata": {},
     "output_type": "execute_result"
    }
   ],
   "source": [
    "y.describe()"
   ]
  },
  {
   "cell_type": "code",
   "execution_count": 7,
   "metadata": {},
   "outputs": [
    {
     "data": {
      "text/plain": [
       "array([ 4.5 , 35.25])"
      ]
     },
     "execution_count": 7,
     "metadata": {},
     "output_type": "execute_result"
    }
   ],
   "source": [
    "np.percentile(y.values, [75, 95])"
   ]
  },
  {
   "cell_type": "code",
   "execution_count": 8,
   "metadata": {},
   "outputs": [],
   "source": [
    "def map_categories(x):\n",
    "    if x < 1:\n",
    "        return \"zero\"\n",
    "    elif 1 <= x < 4.5:\n",
    "        return \"low\"\n",
    "    elif 4.5 <= x <= 35.25:\n",
    "        return \"med\"\n",
    "    else:\n",
    "        return \"high\"\n",
    "    "
   ]
  },
  {
   "cell_type": "code",
   "execution_count": 9,
   "metadata": {},
   "outputs": [],
   "source": [
    "y_cat = y.apply(lambda x: map_categories(x))"
   ]
  },
  {
   "cell_type": "code",
   "execution_count": 10,
   "metadata": {},
   "outputs": [
    {
     "data": {
      "text/plain": [
       "zero    6015\n",
       "low     2991\n",
       "med     2403\n",
       "high     600\n",
       "Name: all_engagement, dtype: int64"
      ]
     },
     "execution_count": 10,
     "metadata": {},
     "output_type": "execute_result"
    }
   ],
   "source": [
    "y_cat.value_counts()"
   ]
  },
  {
   "cell_type": "markdown",
   "metadata": {},
   "source": [
    "#### Support Vector Classification"
   ]
  },
  {
   "cell_type": "code",
   "execution_count": 55,
   "metadata": {},
   "outputs": [],
   "source": [
    "svc = SVC(C=.6, kernel='rbf')\n",
    "svc.fit(X, y_cat)\n",
    "labels = svc.predict(X)"
   ]
  },
  {
   "cell_type": "code",
   "execution_count": 56,
   "metadata": {},
   "outputs": [
    {
     "data": {
      "text/plain": [
       "array(['zero', 'zero', 'zero', ..., 'zero', 'zero', 'zero'], dtype=object)"
      ]
     },
     "execution_count": 56,
     "metadata": {},
     "output_type": "execute_result"
    }
   ],
   "source": [
    "labels"
   ]
  },
  {
   "cell_type": "code",
   "execution_count": 57,
   "metadata": {},
   "outputs": [
    {
     "data": {
      "text/html": [
       "<div>\n",
       "<style scoped>\n",
       "    .dataframe tbody tr th:only-of-type {\n",
       "        vertical-align: middle;\n",
       "    }\n",
       "\n",
       "    .dataframe tbody tr th {\n",
       "        vertical-align: top;\n",
       "    }\n",
       "\n",
       "    .dataframe thead th {\n",
       "        text-align: right;\n",
       "    }\n",
       "</style>\n",
       "<table border=\"1\" class=\"dataframe\">\n",
       "  <thead>\n",
       "    <tr style=\"text-align: right;\">\n",
       "      <th>labels</th>\n",
       "      <th>low</th>\n",
       "      <th>med</th>\n",
       "      <th>zero</th>\n",
       "    </tr>\n",
       "    <tr>\n",
       "      <th>all_engagement</th>\n",
       "      <th></th>\n",
       "      <th></th>\n",
       "      <th></th>\n",
       "    </tr>\n",
       "  </thead>\n",
       "  <tbody>\n",
       "    <tr>\n",
       "      <th>high</th>\n",
       "      <td>13</td>\n",
       "      <td>123</td>\n",
       "      <td>464</td>\n",
       "    </tr>\n",
       "    <tr>\n",
       "      <th>low</th>\n",
       "      <td>100</td>\n",
       "      <td>100</td>\n",
       "      <td>2791</td>\n",
       "    </tr>\n",
       "    <tr>\n",
       "      <th>med</th>\n",
       "      <td>23</td>\n",
       "      <td>479</td>\n",
       "      <td>1901</td>\n",
       "    </tr>\n",
       "    <tr>\n",
       "      <th>zero</th>\n",
       "      <td>6</td>\n",
       "      <td>67</td>\n",
       "      <td>5942</td>\n",
       "    </tr>\n",
       "  </tbody>\n",
       "</table>\n",
       "</div>"
      ],
      "text/plain": [
       "labels          low  med  zero\n",
       "all_engagement                \n",
       "high             13  123   464\n",
       "low             100  100  2791\n",
       "med              23  479  1901\n",
       "zero              6   67  5942"
      ]
     },
     "execution_count": 57,
     "metadata": {},
     "output_type": "execute_result"
    }
   ],
   "source": [
    "results = y_cat.to_frame()\n",
    "results['labels'] = labels\n",
    "pd.crosstab(results.all_engagement, results.labels)"
   ]
  },
  {
   "cell_type": "code",
   "execution_count": null,
   "metadata": {},
   "outputs": [],
   "source": [
    "svc = SVC(C=.6, kernel='rbf', class_weight='balanced')\n",
    "svc.fit(X, y_cat)\n",
    "labels = svc.predict(X)"
   ]
  },
  {
   "cell_type": "code",
   "execution_count": 58,
   "metadata": {},
   "outputs": [],
   "source": [
    "param_distributions = dict(C=[.1, .2, .3, .4])\n",
    "\n",
    "svc = SVC(kernel='rbf', class_weight='balanced')\n",
    "clf = GridSearchCV(svc, param_distributions, cv=3)\n",
    "search = clf.fit(X, y_cat)"
   ]
  },
  {
   "cell_type": "code",
   "execution_count": 59,
   "metadata": {},
   "outputs": [
    {
     "data": {
      "text/plain": [
       "{'mean_fit_time': array([35.23267261, 35.06617379, 33.03407756, 32.54525995]),\n",
       " 'std_fit_time': array([0.92365399, 1.57426762, 0.68068275, 0.52803115]),\n",
       " 'mean_score_time': array([15.30656918, 15.11157306, 15.22664809, 14.32242703]),\n",
       " 'std_score_time': array([0.40233232, 0.19578415, 0.95520503, 0.33850552]),\n",
       " 'param_C': masked_array(data=[0.1, 0.2, 0.3, 0.4],\n",
       "              mask=[False, False, False, False],\n",
       "        fill_value='?',\n",
       "             dtype=object),\n",
       " 'params': [{'C': 0.1}, {'C': 0.2}, {'C': 0.3}, {'C': 0.4}],\n",
       " 'split0_test_score': array([0.26829878, 0.32975269, 0.34823882, 0.35223582]),\n",
       " 'split1_test_score': array([0.30252311, 0.34424182, 0.36547589, 0.37446915]),\n",
       " 'split2_test_score': array([0.30127404, 0.34723957, 0.35748189, 0.36397702]),\n",
       " 'mean_test_score': array([0.29069864, 0.34041136, 0.35706553, 0.36356066]),\n",
       " 'std_test_score': array([0.0158473 , 0.00763554, 0.00704316, 0.00908149]),\n",
       " 'rank_test_score': array([4, 3, 2, 1])}"
      ]
     },
     "execution_count": 59,
     "metadata": {},
     "output_type": "execute_result"
    }
   ],
   "source": [
    "search.cv_results_"
   ]
  },
  {
   "cell_type": "code",
   "execution_count": 60,
   "metadata": {},
   "outputs": [
    {
     "data": {
      "text/plain": [
       "{'mean_fit_time': array([32.41652219, 32.76387159, 32.47613955]),\n",
       " 'std_fit_time': array([1.78474447, 1.59128616, 1.10563904]),\n",
       " 'mean_score_time': array([16.28217951, 15.51450594, 14.80547897]),\n",
       " 'std_score_time': array([1.14693445, 1.02323405, 0.26128521]),\n",
       " 'param_C': masked_array(data=[0.8, 1, 1.2],\n",
       "              mask=[False, False, False],\n",
       "        fill_value='?',\n",
       "             dtype=object),\n",
       " 'params': [{'C': 0.8}, {'C': 1}, {'C': 1.2}],\n",
       " 'split0_test_score': array([0.3714714 , 0.37796653, 0.37896578]),\n",
       " 'split1_test_score': array([0.38770922, 0.39395453, 0.39820135]),\n",
       " 'split2_test_score': array([0.38271297, 0.38845866, 0.39470397]),\n",
       " 'mean_test_score': array([0.38063119, 0.38679324, 0.3906237 ]),\n",
       " 'std_test_score': array([0.00679053, 0.00663246, 0.00836613]),\n",
       " 'rank_test_score': array([3, 2, 1])}"
      ]
     },
     "execution_count": 60,
     "metadata": {},
     "output_type": "execute_result"
    }
   ],
   "source": [
    "param_distributions = dict(C=[.8, 1, 1.2])\n",
    "\n",
    "svc = SVC(kernel='rbf', class_weight='balanced')\n",
    "clf = GridSearchCV(svc, param_distributions, cv=3)\n",
    "search = clf.fit(X, y_cat)\n",
    "search.cv_results_"
   ]
  },
  {
   "cell_type": "code",
   "execution_count": 61,
   "metadata": {},
   "outputs": [
    {
     "data": {
      "text/plain": [
       "{'mean_fit_time': array([31.98821529, 33.31172601, 31.49780234]),\n",
       " 'std_fit_time': array([0.07882307, 0.82199543, 1.01143911]),\n",
       " 'mean_score_time': array([14.57391381, 14.88001919, 14.65240288]),\n",
       " 'std_score_time': array([0.39712493, 0.49505774, 0.33328744]),\n",
       " 'param_C': masked_array(data=[1.5, 2, 2.5],\n",
       "              mask=[False, False, False],\n",
       "        fill_value='?',\n",
       "             dtype=object),\n",
       " 'params': [{'C': 1.5}, {'C': 2}, {'C': 2.5}],\n",
       " 'split0_test_score': array([0.38196353, 0.39170622, 0.39895079]),\n",
       " 'split1_test_score': array([0.40669498, 0.41069198, 0.41868599]),\n",
       " 'split2_test_score': array([0.40369723, 0.41368973, 0.41568823]),\n",
       " 'mean_test_score': array([0.39745191, 0.40536264, 0.41110834]),\n",
       " 'std_test_score': array([0.01102011, 0.00973379, 0.00868336]),\n",
       " 'rank_test_score': array([3, 2, 1])}"
      ]
     },
     "execution_count": 61,
     "metadata": {},
     "output_type": "execute_result"
    }
   ],
   "source": [
    "param_distributions = dict(C=[1.5, 2, 2.5])\n",
    "\n",
    "svc = SVC(kernel='rbf', class_weight='balanced')\n",
    "clf = GridSearchCV(svc, param_distributions, cv=3)\n",
    "search = clf.fit(X, y_cat)\n",
    "search.cv_results_"
   ]
  },
  {
   "cell_type": "code",
   "execution_count": 62,
   "metadata": {},
   "outputs": [
    {
     "data": {
      "text/plain": [
       "{'mean_fit_time': array([33.96714083, 31.9651192 , 33.86679959]),\n",
       " 'std_fit_time': array([1.7461636 , 0.09529258, 0.83572982]),\n",
       " 'mean_score_time': array([15.14521718, 14.73478762, 14.96198869]),\n",
       " 'std_score_time': array([0.76531572, 0.31216062, 0.45336855]),\n",
       " 'param_C': masked_array(data=[3, 4, 5],\n",
       "              mask=[False, False, False],\n",
       "        fill_value='?',\n",
       "             dtype=object),\n",
       " 'params': [{'C': 3}, {'C': 4}, {'C': 5}],\n",
       " 'split0_test_score': array([0.40294779, 0.40669498, 0.40794404]),\n",
       " 'split1_test_score': array([0.42593055, 0.43342493, 0.43217587]),\n",
       " 'split2_test_score': array([0.41793655, 0.41943542, 0.41843617]),\n",
       " 'mean_test_score': array([0.41560496, 0.41985178, 0.41951869]),\n",
       " 'std_test_score': array([0.00952642, 0.01091643, 0.00992217]),\n",
       " 'rank_test_score': array([3, 1, 2])}"
      ]
     },
     "execution_count": 62,
     "metadata": {},
     "output_type": "execute_result"
    }
   ],
   "source": [
    "param_distributions = dict(C=[3,4,5])\n",
    "\n",
    "svc = SVC(kernel='rbf', class_weight='balanced')\n",
    "clf = GridSearchCV(svc, param_distributions, cv=3)\n",
    "search = clf.fit(X, y_cat)\n",
    "search.cv_results_"
   ]
  },
  {
   "cell_type": "markdown",
   "metadata": {},
   "source": [
    "### Best model (?)"
   ]
  },
  {
   "cell_type": "code",
   "execution_count": 63,
   "metadata": {},
   "outputs": [],
   "source": [
    "svc = SVC(C=4, kernel='rbf', class_weight='balanced')\n",
    "svc.fit(X, y_cat)\n",
    "labels = svc.predict(X)"
   ]
  },
  {
   "cell_type": "code",
   "execution_count": 64,
   "metadata": {},
   "outputs": [
    {
     "data": {
      "text/html": [
       "<div>\n",
       "<style scoped>\n",
       "    .dataframe tbody tr th:only-of-type {\n",
       "        vertical-align: middle;\n",
       "    }\n",
       "\n",
       "    .dataframe tbody tr th {\n",
       "        vertical-align: top;\n",
       "    }\n",
       "\n",
       "    .dataframe thead th {\n",
       "        text-align: right;\n",
       "    }\n",
       "</style>\n",
       "<table border=\"1\" class=\"dataframe\">\n",
       "  <thead>\n",
       "    <tr style=\"text-align: right;\">\n",
       "      <th>labels</th>\n",
       "      <th>high</th>\n",
       "      <th>low</th>\n",
       "      <th>med</th>\n",
       "      <th>zero</th>\n",
       "    </tr>\n",
       "    <tr>\n",
       "      <th>all_engagement</th>\n",
       "      <th></th>\n",
       "      <th></th>\n",
       "      <th></th>\n",
       "      <th></th>\n",
       "    </tr>\n",
       "  </thead>\n",
       "  <tbody>\n",
       "    <tr>\n",
       "      <th>high</th>\n",
       "      <td>539</td>\n",
       "      <td>5</td>\n",
       "      <td>24</td>\n",
       "      <td>32</td>\n",
       "    </tr>\n",
       "    <tr>\n",
       "      <th>low</th>\n",
       "      <td>106</td>\n",
       "      <td>2272</td>\n",
       "      <td>198</td>\n",
       "      <td>415</td>\n",
       "    </tr>\n",
       "    <tr>\n",
       "      <th>med</th>\n",
       "      <td>85</td>\n",
       "      <td>97</td>\n",
       "      <td>2043</td>\n",
       "      <td>178</td>\n",
       "    </tr>\n",
       "    <tr>\n",
       "      <th>zero</th>\n",
       "      <td>258</td>\n",
       "      <td>446</td>\n",
       "      <td>417</td>\n",
       "      <td>4894</td>\n",
       "    </tr>\n",
       "  </tbody>\n",
       "</table>\n",
       "</div>"
      ],
      "text/plain": [
       "labels          high   low   med  zero\n",
       "all_engagement                        \n",
       "high             539     5    24    32\n",
       "low              106  2272   198   415\n",
       "med               85    97  2043   178\n",
       "zero             258   446   417  4894"
      ]
     },
     "execution_count": 64,
     "metadata": {},
     "output_type": "execute_result"
    }
   ],
   "source": [
    "results = y_cat.to_frame()\n",
    "results['labels'] = labels\n",
    "pd.crosstab(results.all_engagement, results.labels)"
   ]
  },
  {
   "cell_type": "code",
   "execution_count": null,
   "metadata": {},
   "outputs": [],
   "source": []
  },
  {
   "cell_type": "code",
   "execution_count": null,
   "metadata": {},
   "outputs": [],
   "source": []
  },
  {
   "cell_type": "code",
   "execution_count": 66,
   "metadata": {},
   "outputs": [],
   "source": [
    "svc = SVC(C=4, kernel='sigmoid', class_weight='balanced')\n",
    "svc.fit(X, y_cat)\n",
    "labels = svc.predict(X)"
   ]
  },
  {
   "cell_type": "code",
   "execution_count": 67,
   "metadata": {},
   "outputs": [
    {
     "data": {
      "text/html": [
       "<div>\n",
       "<style scoped>\n",
       "    .dataframe tbody tr th:only-of-type {\n",
       "        vertical-align: middle;\n",
       "    }\n",
       "\n",
       "    .dataframe tbody tr th {\n",
       "        vertical-align: top;\n",
       "    }\n",
       "\n",
       "    .dataframe thead th {\n",
       "        text-align: right;\n",
       "    }\n",
       "</style>\n",
       "<table border=\"1\" class=\"dataframe\">\n",
       "  <thead>\n",
       "    <tr style=\"text-align: right;\">\n",
       "      <th>labels</th>\n",
       "      <th>high</th>\n",
       "      <th>low</th>\n",
       "      <th>med</th>\n",
       "      <th>zero</th>\n",
       "    </tr>\n",
       "    <tr>\n",
       "      <th>all_engagement</th>\n",
       "      <th></th>\n",
       "      <th></th>\n",
       "      <th></th>\n",
       "      <th></th>\n",
       "    </tr>\n",
       "  </thead>\n",
       "  <tbody>\n",
       "    <tr>\n",
       "      <th>high</th>\n",
       "      <td>256</td>\n",
       "      <td>88</td>\n",
       "      <td>110</td>\n",
       "      <td>146</td>\n",
       "    </tr>\n",
       "    <tr>\n",
       "      <th>low</th>\n",
       "      <td>1002</td>\n",
       "      <td>509</td>\n",
       "      <td>530</td>\n",
       "      <td>950</td>\n",
       "    </tr>\n",
       "    <tr>\n",
       "      <th>med</th>\n",
       "      <td>966</td>\n",
       "      <td>430</td>\n",
       "      <td>375</td>\n",
       "      <td>632</td>\n",
       "    </tr>\n",
       "    <tr>\n",
       "      <th>zero</th>\n",
       "      <td>1922</td>\n",
       "      <td>1174</td>\n",
       "      <td>1064</td>\n",
       "      <td>1855</td>\n",
       "    </tr>\n",
       "  </tbody>\n",
       "</table>\n",
       "</div>"
      ],
      "text/plain": [
       "labels          high   low   med  zero\n",
       "all_engagement                        \n",
       "high             256    88   110   146\n",
       "low             1002   509   530   950\n",
       "med              966   430   375   632\n",
       "zero            1922  1174  1064  1855"
      ]
     },
     "execution_count": 67,
     "metadata": {},
     "output_type": "execute_result"
    }
   ],
   "source": [
    "results = y_cat.to_frame()\n",
    "results['labels'] = labels\n",
    "pd.crosstab(results.all_engagement, results.labels)"
   ]
  },
  {
   "cell_type": "code",
   "execution_count": 68,
   "metadata": {},
   "outputs": [
    {
     "data": {
      "text/plain": [
       "{'mean_fit_time': array([33.68530369, 31.27774938, 32.5229644 ]),\n",
       " 'std_fit_time': array([1.46314871, 0.66344536, 3.28797416]),\n",
       " 'mean_score_time': array([6.8593928 , 6.71774483, 6.69074885]),\n",
       " 'std_score_time': array([0.11926022, 0.19798117, 0.20728859]),\n",
       " 'param_C': masked_array(data=[1, 2, 3],\n",
       "              mask=[False, False, False],\n",
       "        fill_value='?',\n",
       "             dtype=object),\n",
       " 'params': [{'C': 1}, {'C': 2}, {'C': 3}],\n",
       " 'split0_test_score': array([0.31476393, 0.2885336 , 0.28703472]),\n",
       " 'split1_test_score': array([0.3102673 , 0.29178116, 0.27954034]),\n",
       " 'split2_test_score': array([0.29377967, 0.26754934, 0.25555833]),\n",
       " 'mean_test_score': array([0.3062703 , 0.28262137, 0.27404447]),\n",
       " 'std_test_score': array([0.00902097, 0.01073968, 0.01342496]),\n",
       " 'rank_test_score': array([1, 2, 3])}"
      ]
     },
     "execution_count": 68,
     "metadata": {},
     "output_type": "execute_result"
    }
   ],
   "source": [
    "param_distributions = dict(C=[1,2,3])\n",
    "\n",
    "svc = SVC(kernel='sigmoid', class_weight='balanced')\n",
    "clf = GridSearchCV(svc, param_distributions, cv=3)\n",
    "search = clf.fit(X, y_cat)\n",
    "search.cv_results_"
   ]
  },
  {
   "cell_type": "code",
   "execution_count": 70,
   "metadata": {},
   "outputs": [
    {
     "data": {
      "text/plain": [
       "{'mean_fit_time': array([35.39297716, 33.11770741, 30.74437308]),\n",
       " 'std_fit_time': array([0.23488829, 0.38179601, 0.78471659]),\n",
       " 'mean_score_time': array([7.4859906 , 6.50725754, 6.63127645]),\n",
       " 'std_score_time': array([0.83363147, 0.3446292 , 0.12405462]),\n",
       " 'param_C': masked_array(data=[0.2, 0.4, 0.6],\n",
       "              mask=[False, False, False],\n",
       "        fill_value='?',\n",
       "             dtype=object),\n",
       " 'params': [{'C': 0.2}, {'C': 0.4}, {'C': 0.6}],\n",
       " 'split0_test_score': array([0.36447664, 0.34798901, 0.32550587]),\n",
       " 'split1_test_score': array([0.36522608, 0.34673995, 0.3182613 ]),\n",
       " 'split2_test_score': array([0.35923058, 0.32775418, 0.31751187]),\n",
       " 'mean_test_score': array([0.36297777, 0.34082771, 0.32042635]),\n",
       " 'std_test_score': array([0.00266727, 0.00925843, 0.00360477]),\n",
       " 'rank_test_score': array([1, 2, 3])}"
      ]
     },
     "execution_count": 70,
     "metadata": {},
     "output_type": "execute_result"
    }
   ],
   "source": [
    "param_distributions = dict(C=[.2, .4, .6])\n",
    "\n",
    "svc = SVC(kernel='sigmoid', class_weight='balanced')\n",
    "clf = GridSearchCV(svc, param_distributions, cv=3)\n",
    "search = clf.fit(X, y_cat)\n",
    "search.cv_results_"
   ]
  },
  {
   "cell_type": "code",
   "execution_count": 71,
   "metadata": {},
   "outputs": [
    {
     "data": {
      "text/plain": [
       "{'mean_fit_time': array([30.59964991, 33.70428658, 34.18279123]),\n",
       " 'std_fit_time': array([0.65377388, 0.92614032, 0.2846565 ]),\n",
       " 'mean_score_time': array([6.38455772, 6.85193992, 6.69361059]),\n",
       " 'std_score_time': array([0.2926613, 0.0323002, 0.3531177]),\n",
       " 'param_C': masked_array(data=[0.1, 0.01, 0.001],\n",
       "              mask=[False, False, False],\n",
       "        fill_value='?',\n",
       "             dtype=object),\n",
       " 'params': [{'C': 0.1}, {'C': 0.01}, {'C': 0.001}],\n",
       " 'split0_test_score': array([0.37871596, 0.20234824, 0.20009993]),\n",
       " 'split1_test_score': array([0.3834624 , 0.22832875, 0.20009993]),\n",
       " 'split2_test_score': array([0.37297027, 0.20034974, 0.20009993]),\n",
       " 'mean_test_score': array([0.37838288, 0.21034224, 0.20009993]),\n",
       " 'std_test_score': array([0.00428986, 0.01274453, 0.        ]),\n",
       " 'rank_test_score': array([1, 2, 3])}"
      ]
     },
     "execution_count": 71,
     "metadata": {},
     "output_type": "execute_result"
    }
   ],
   "source": [
    "param_distributions = dict(C=[.1, .01, .001])\n",
    "\n",
    "svc = SVC(kernel='sigmoid', class_weight='balanced')\n",
    "clf = GridSearchCV(svc, param_distributions, cv=3)\n",
    "search = clf.fit(X, y_cat)\n",
    "search.cv_results_"
   ]
  },
  {
   "cell_type": "code",
   "execution_count": 72,
   "metadata": {},
   "outputs": [],
   "source": [
    "svc = SVC(C=.1, kernel='sigmoid', class_weight='balanced')\n",
    "svc.fit(X, y_cat)\n",
    "labels = svc.predict(X)"
   ]
  },
  {
   "cell_type": "code",
   "execution_count": 73,
   "metadata": {},
   "outputs": [
    {
     "data": {
      "text/html": [
       "<div>\n",
       "<style scoped>\n",
       "    .dataframe tbody tr th:only-of-type {\n",
       "        vertical-align: middle;\n",
       "    }\n",
       "\n",
       "    .dataframe tbody tr th {\n",
       "        vertical-align: top;\n",
       "    }\n",
       "\n",
       "    .dataframe thead th {\n",
       "        text-align: right;\n",
       "    }\n",
       "</style>\n",
       "<table border=\"1\" class=\"dataframe\">\n",
       "  <thead>\n",
       "    <tr style=\"text-align: right;\">\n",
       "      <th>labels</th>\n",
       "      <th>high</th>\n",
       "      <th>low</th>\n",
       "      <th>med</th>\n",
       "      <th>zero</th>\n",
       "    </tr>\n",
       "    <tr>\n",
       "      <th>all_engagement</th>\n",
       "      <th></th>\n",
       "      <th></th>\n",
       "      <th></th>\n",
       "      <th></th>\n",
       "    </tr>\n",
       "  </thead>\n",
       "  <tbody>\n",
       "    <tr>\n",
       "      <th>high</th>\n",
       "      <td>246</td>\n",
       "      <td>117</td>\n",
       "      <td>91</td>\n",
       "      <td>146</td>\n",
       "    </tr>\n",
       "    <tr>\n",
       "      <th>low</th>\n",
       "      <td>489</td>\n",
       "      <td>877</td>\n",
       "      <td>508</td>\n",
       "      <td>1117</td>\n",
       "    </tr>\n",
       "    <tr>\n",
       "      <th>med</th>\n",
       "      <td>526</td>\n",
       "      <td>529</td>\n",
       "      <td>660</td>\n",
       "      <td>688</td>\n",
       "    </tr>\n",
       "    <tr>\n",
       "      <th>zero</th>\n",
       "      <td>763</td>\n",
       "      <td>1398</td>\n",
       "      <td>849</td>\n",
       "      <td>3005</td>\n",
       "    </tr>\n",
       "  </tbody>\n",
       "</table>\n",
       "</div>"
      ],
      "text/plain": [
       "labels          high   low  med  zero\n",
       "all_engagement                       \n",
       "high             246   117   91   146\n",
       "low              489   877  508  1117\n",
       "med              526   529  660   688\n",
       "zero             763  1398  849  3005"
      ]
     },
     "execution_count": 73,
     "metadata": {},
     "output_type": "execute_result"
    }
   ],
   "source": [
    "results = y_cat.to_frame()\n",
    "results['labels'] = labels\n",
    "pd.crosstab(results.all_engagement, results.labels)"
   ]
  },
  {
   "cell_type": "code",
   "execution_count": null,
   "metadata": {},
   "outputs": [],
   "source": []
  },
  {
   "cell_type": "markdown",
   "metadata": {},
   "source": [
    "#### Multinomial NB"
   ]
  },
  {
   "cell_type": "code",
   "execution_count": 24,
   "metadata": {},
   "outputs": [
    {
     "data": {
      "text/plain": [
       "-8.888486387871101"
      ]
     },
     "execution_count": 24,
     "metadata": {},
     "output_type": "execute_result"
    }
   ],
   "source": [
    "X.values.min()"
   ]
  },
  {
   "cell_type": "code",
   "execution_count": 25,
   "metadata": {},
   "outputs": [],
   "source": [
    "X_noneg = X.apply(lambda x: x+9)"
   ]
  },
  {
   "cell_type": "code",
   "execution_count": 26,
   "metadata": {},
   "outputs": [
    {
     "data": {
      "text/plain": [
       "0.1115136121288991"
      ]
     },
     "execution_count": 26,
     "metadata": {},
     "output_type": "execute_result"
    }
   ],
   "source": [
    "X_noneg.values.min()"
   ]
  },
  {
   "cell_type": "code",
   "execution_count": 27,
   "metadata": {},
   "outputs": [
    {
     "data": {
      "text/plain": [
       "MultinomialNB()"
      ]
     },
     "execution_count": 27,
     "metadata": {},
     "output_type": "execute_result"
    }
   ],
   "source": [
    "mnb = MultinomialNB()\n",
    "mnb.fit(X_noneg,y_cat)"
   ]
  },
  {
   "cell_type": "code",
   "execution_count": 28,
   "metadata": {},
   "outputs": [
    {
     "data": {
      "text/plain": [
       "0.5012074277625115"
      ]
     },
     "execution_count": 28,
     "metadata": {},
     "output_type": "execute_result"
    }
   ],
   "source": [
    "mnb.score(X_noneg,y_cat)"
   ]
  },
  {
   "cell_type": "markdown",
   "metadata": {},
   "source": [
    "#### random forest"
   ]
  },
  {
   "cell_type": "code",
   "execution_count": 29,
   "metadata": {},
   "outputs": [],
   "source": [
    "from sklearn.ensemble import RandomForestClassifier"
   ]
  },
  {
   "cell_type": "code",
   "execution_count": 30,
   "metadata": {},
   "outputs": [],
   "source": [
    "param_distributions = dict(max_depth = [5,10,15])\n",
    "\n",
    "rf = RandomForestClassifier(n_estimators=30)\n",
    "clf = GridSearchCV(rf, param_distributions, cv=3)\n",
    "search = clf.fit(X, y_cat)"
   ]
  },
  {
   "cell_type": "code",
   "execution_count": 31,
   "metadata": {},
   "outputs": [
    {
     "data": {
      "text/plain": [
       "{'mean_fit_time': array([2.24494632, 3.82518323, 5.09537236]),\n",
       " 'std_fit_time': array([0.24812259, 0.15997612, 0.41416034]),\n",
       " 'mean_score_time': array([0.03699287, 0.06593315, 0.08518807]),\n",
       " 'std_score_time': array([0.00373275, 0.0019535 , 0.00886603]),\n",
       " 'param_max_depth': masked_array(data=[5, 10, 15],\n",
       "              mask=[False, False, False],\n",
       "        fill_value='?',\n",
       "             dtype=object),\n",
       " 'params': [{'max_depth': 5}, {'max_depth': 10}, {'max_depth': 15}],\n",
       " 'split0_test_score': array([0.50312266, 0.50012491, 0.49063203]),\n",
       " 'split1_test_score': array([0.50312266, 0.50362228, 0.49113165]),\n",
       " 'split2_test_score': array([0.50137397, 0.50637022, 0.48163877]),\n",
       " 'mean_test_score': array([0.50253976, 0.50337247, 0.48780082]),\n",
       " 'std_test_score': array([0.00082434, 0.00255575, 0.004362  ]),\n",
       " 'rank_test_score': array([2, 1, 3])}"
      ]
     },
     "execution_count": 31,
     "metadata": {},
     "output_type": "execute_result"
    }
   ],
   "source": [
    "search.cv_results_"
   ]
  },
  {
   "cell_type": "code",
   "execution_count": 32,
   "metadata": {},
   "outputs": [],
   "source": [
    "param_distributions = dict(max_depth = [5,20])\n",
    "\n",
    "rf = RandomForestClassifier(n_estimators=100)\n",
    "clf = GridSearchCV(rf, param_distributions, cv=3)\n",
    "search = clf.fit(X, y_cat)"
   ]
  },
  {
   "cell_type": "code",
   "execution_count": 33,
   "metadata": {},
   "outputs": [
    {
     "data": {
      "text/plain": [
       "{'mean_fit_time': array([ 6.90578405, 17.56171505]),\n",
       " 'std_fit_time': array([0.03711045, 0.15651664]),\n",
       " 'mean_score_time': array([0.10008764, 0.27260025]),\n",
       " 'std_score_time': array([0.00917529, 0.00902619]),\n",
       " 'param_max_depth': masked_array(data=[5, 20],\n",
       "              mask=[False, False],\n",
       "        fill_value='?',\n",
       "             dtype=object),\n",
       " 'params': [{'max_depth': 5}, {'max_depth': 20}],\n",
       " 'split0_test_score': array([0.50087434, 0.50512116]),\n",
       " 'split1_test_score': array([0.50112416, 0.49337997]),\n",
       " 'split2_test_score': array([0.50137397, 0.47939046]),\n",
       " 'mean_test_score': array([0.50112416, 0.49263053]),\n",
       " 'std_test_score': array([0.00020397, 0.01051787]),\n",
       " 'rank_test_score': array([1, 2])}"
      ]
     },
     "execution_count": 33,
     "metadata": {},
     "output_type": "execute_result"
    }
   ],
   "source": [
    "search.cv_results_"
   ]
  },
  {
   "cell_type": "code",
   "execution_count": 34,
   "metadata": {},
   "outputs": [],
   "source": [
    "param_distributions = dict(max_depth = [4,5,6])\n",
    "\n",
    "rf = RandomForestClassifier(n_estimators=100, criterion='entropy')\n",
    "clf = GridSearchCV(rf, param_distributions, cv=3)\n",
    "search = clf.fit(X, y_cat)"
   ]
  },
  {
   "cell_type": "code",
   "execution_count": 35,
   "metadata": {},
   "outputs": [
    {
     "data": {
      "text/plain": [
       "{'mean_fit_time': array([11.76126925, 14.7951173 , 17.59746615]),\n",
       " 'std_fit_time': array([0.81230013, 0.21967196, 0.42131007]),\n",
       " 'mean_score_time': array([0.10832286, 0.11067923, 0.11231621]),\n",
       " 'std_score_time': array([0.00469099, 0.00768008, 0.00255165]),\n",
       " 'param_max_depth': masked_array(data=[4, 5, 6],\n",
       "              mask=[False, False, False],\n",
       "        fill_value='?',\n",
       "             dtype=object),\n",
       " 'params': [{'max_depth': 4}, {'max_depth': 5}, {'max_depth': 6}],\n",
       " 'split0_test_score': array([0.50112416, 0.50087434, 0.50337247]),\n",
       " 'split1_test_score': array([0.50087434, 0.50112416, 0.50162378]),\n",
       " 'split2_test_score': array([0.50112416, 0.50087434, 0.50262303]),\n",
       " 'mean_test_score': array([0.50104089, 0.50095762, 0.50253976]),\n",
       " 'std_test_score': array([0.00011776, 0.00011776, 0.00071632]),\n",
       " 'rank_test_score': array([2, 3, 1])}"
      ]
     },
     "execution_count": 35,
     "metadata": {},
     "output_type": "execute_result"
    }
   ],
   "source": [
    "search.cv_results_"
   ]
  },
  {
   "cell_type": "markdown",
   "metadata": {},
   "source": [
    "#### kmeans"
   ]
  },
  {
   "cell_type": "code",
   "execution_count": 12,
   "metadata": {},
   "outputs": [],
   "source": [
    "from sklearn.cluster import KMeans"
   ]
  },
  {
   "cell_type": "code",
   "execution_count": 13,
   "metadata": {},
   "outputs": [
    {
     "data": {
      "text/plain": [
       "array([-572342.64663748, -568340.51461571, -581601.57594769])"
      ]
     },
     "execution_count": 13,
     "metadata": {},
     "output_type": "execute_result"
    }
   ],
   "source": [
    "kmeans = KMeans(n_clusters=4, random_state=0)\n",
    "crossval = cross_val_score(kmeans, X, y_cat, cv=3)\n",
    "crossval"
   ]
  },
  {
   "cell_type": "code",
   "execution_count": 14,
   "metadata": {},
   "outputs": [
    {
     "data": {
      "text/plain": [
       "KMeans(n_clusters=4, random_state=0)"
      ]
     },
     "execution_count": 14,
     "metadata": {},
     "output_type": "execute_result"
    }
   ],
   "source": [
    "kmeans.fit(X)"
   ]
  },
  {
   "cell_type": "code",
   "execution_count": 15,
   "metadata": {},
   "outputs": [
    {
     "data": {
      "text/plain": [
       "array([1, 1, 1, ..., 0, 2, 2])"
      ]
     },
     "execution_count": 15,
     "metadata": {},
     "output_type": "execute_result"
    }
   ],
   "source": [
    "kmeans.labels_"
   ]
  },
  {
   "cell_type": "code",
   "execution_count": 16,
   "metadata": {},
   "outputs": [
    {
     "data": {
      "text/html": [
       "<div>\n",
       "<style scoped>\n",
       "    .dataframe tbody tr th:only-of-type {\n",
       "        vertical-align: middle;\n",
       "    }\n",
       "\n",
       "    .dataframe tbody tr th {\n",
       "        vertical-align: top;\n",
       "    }\n",
       "\n",
       "    .dataframe thead th {\n",
       "        text-align: right;\n",
       "    }\n",
       "</style>\n",
       "<table border=\"1\" class=\"dataframe\">\n",
       "  <thead>\n",
       "    <tr style=\"text-align: right;\">\n",
       "      <th></th>\n",
       "      <th>all_engagement</th>\n",
       "      <th>clusters</th>\n",
       "    </tr>\n",
       "    <tr>\n",
       "      <th>tid</th>\n",
       "      <th></th>\n",
       "      <th></th>\n",
       "    </tr>\n",
       "  </thead>\n",
       "  <tbody>\n",
       "    <tr>\n",
       "      <th>1361890179951296512</th>\n",
       "      <td>low</td>\n",
       "      <td>1</td>\n",
       "    </tr>\n",
       "    <tr>\n",
       "      <th>1358354354462289920</th>\n",
       "      <td>high</td>\n",
       "      <td>1</td>\n",
       "    </tr>\n",
       "    <tr>\n",
       "      <th>1363916379519336448</th>\n",
       "      <td>zero</td>\n",
       "      <td>1</td>\n",
       "    </tr>\n",
       "    <tr>\n",
       "      <th>1369296990782320648</th>\n",
       "      <td>med</td>\n",
       "      <td>2</td>\n",
       "    </tr>\n",
       "    <tr>\n",
       "      <th>1369559005811662851</th>\n",
       "      <td>zero</td>\n",
       "      <td>1</td>\n",
       "    </tr>\n",
       "  </tbody>\n",
       "</table>\n",
       "</div>"
      ],
      "text/plain": [
       "                    all_engagement  clusters\n",
       "tid                                         \n",
       "1361890179951296512            low         1\n",
       "1358354354462289920           high         1\n",
       "1363916379519336448           zero         1\n",
       "1369296990782320648            med         2\n",
       "1369559005811662851           zero         1"
      ]
     },
     "execution_count": 16,
     "metadata": {},
     "output_type": "execute_result"
    }
   ],
   "source": [
    "results = y_cat.to_frame()\n",
    "results['clusters'] = kmeans.labels_\n",
    "results.head()"
   ]
  },
  {
   "cell_type": "code",
   "execution_count": 17,
   "metadata": {},
   "outputs": [
    {
     "data": {
      "text/html": [
       "<div>\n",
       "<style scoped>\n",
       "    .dataframe tbody tr th:only-of-type {\n",
       "        vertical-align: middle;\n",
       "    }\n",
       "\n",
       "    .dataframe tbody tr th {\n",
       "        vertical-align: top;\n",
       "    }\n",
       "\n",
       "    .dataframe thead th {\n",
       "        text-align: right;\n",
       "    }\n",
       "</style>\n",
       "<table border=\"1\" class=\"dataframe\">\n",
       "  <thead>\n",
       "    <tr style=\"text-align: right;\">\n",
       "      <th>clusters</th>\n",
       "      <th>0</th>\n",
       "      <th>1</th>\n",
       "      <th>2</th>\n",
       "      <th>3</th>\n",
       "    </tr>\n",
       "    <tr>\n",
       "      <th>all_engagement</th>\n",
       "      <th></th>\n",
       "      <th></th>\n",
       "      <th></th>\n",
       "      <th></th>\n",
       "    </tr>\n",
       "  </thead>\n",
       "  <tbody>\n",
       "    <tr>\n",
       "      <th>high</th>\n",
       "      <td>63</td>\n",
       "      <td>399</td>\n",
       "      <td>127</td>\n",
       "      <td>11</td>\n",
       "    </tr>\n",
       "    <tr>\n",
       "      <th>low</th>\n",
       "      <td>350</td>\n",
       "      <td>2158</td>\n",
       "      <td>441</td>\n",
       "      <td>42</td>\n",
       "    </tr>\n",
       "    <tr>\n",
       "      <th>med</th>\n",
       "      <td>319</td>\n",
       "      <td>1497</td>\n",
       "      <td>552</td>\n",
       "      <td>35</td>\n",
       "    </tr>\n",
       "    <tr>\n",
       "      <th>zero</th>\n",
       "      <td>735</td>\n",
       "      <td>4434</td>\n",
       "      <td>719</td>\n",
       "      <td>127</td>\n",
       "    </tr>\n",
       "  </tbody>\n",
       "</table>\n",
       "</div>"
      ],
      "text/plain": [
       "clusters          0     1    2    3\n",
       "all_engagement                     \n",
       "high             63   399  127   11\n",
       "low             350  2158  441   42\n",
       "med             319  1497  552   35\n",
       "zero            735  4434  719  127"
      ]
     },
     "execution_count": 17,
     "metadata": {},
     "output_type": "execute_result"
    }
   ],
   "source": [
    "pd.crosstab(results.all_engagement, results.clusters)"
   ]
  },
  {
   "cell_type": "code",
   "execution_count": 39,
   "metadata": {},
   "outputs": [],
   "source": [
    "Sum_of_squared_distances = []\n",
    "K = range(1,15)\n",
    "for k in K:\n",
    "    km = KMeans(n_clusters=k)\n",
    "    km = km.fit(X)\n",
    "    Sum_of_squared_distances.append(km.inertia_)"
   ]
  },
  {
   "cell_type": "code",
   "execution_count": 40,
   "metadata": {},
   "outputs": [
    {
     "data": {
      "image/png": "[encoded data removed]",
      "text/plain": [
       "<Figure size 432x288 with 1 Axes>"
      ]
     },
     "metadata": {
      "needs_background": "light"
     },
     "output_type": "display_data"
    }
   ],
   "source": [
    "fig, ax = plt.subplots()\n",
    "ax.plot(K, Sum_of_squared_distances, 'bx-')\n",
    "plt.show()"
   ]
  },
  {
   "cell_type": "code",
   "execution_count": 43,
   "metadata": {},
   "outputs": [],
   "source": [
    "kmeans = KMeans(n_clusters=6, random_state=0)\n",
    "clusters = kmeans.fit_predict(X)"
   ]
  },
  {
   "cell_type": "code",
   "execution_count": 44,
   "metadata": {},
   "outputs": [
    {
     "data": {
      "text/html": [
       "<div>\n",
       "<style scoped>\n",
       "    .dataframe tbody tr th:only-of-type {\n",
       "        vertical-align: middle;\n",
       "    }\n",
       "\n",
       "    .dataframe tbody tr th {\n",
       "        vertical-align: top;\n",
       "    }\n",
       "\n",
       "    .dataframe thead th {\n",
       "        text-align: right;\n",
       "    }\n",
       "</style>\n",
       "<table border=\"1\" class=\"dataframe\">\n",
       "  <thead>\n",
       "    <tr style=\"text-align: right;\">\n",
       "      <th>clusters</th>\n",
       "      <th>0</th>\n",
       "      <th>1</th>\n",
       "      <th>2</th>\n",
       "      <th>3</th>\n",
       "      <th>4</th>\n",
       "      <th>5</th>\n",
       "    </tr>\n",
       "    <tr>\n",
       "      <th>all_engagement</th>\n",
       "      <th></th>\n",
       "      <th></th>\n",
       "      <th></th>\n",
       "      <th></th>\n",
       "      <th></th>\n",
       "      <th></th>\n",
       "    </tr>\n",
       "  </thead>\n",
       "  <tbody>\n",
       "    <tr>\n",
       "      <th>high</th>\n",
       "      <td>29</td>\n",
       "      <td>36</td>\n",
       "      <td>522</td>\n",
       "      <td>2</td>\n",
       "      <td>9</td>\n",
       "      <td>2</td>\n",
       "    </tr>\n",
       "    <tr>\n",
       "      <th>low</th>\n",
       "      <td>230</td>\n",
       "      <td>142</td>\n",
       "      <td>2515</td>\n",
       "      <td>12</td>\n",
       "      <td>75</td>\n",
       "      <td>17</td>\n",
       "    </tr>\n",
       "    <tr>\n",
       "      <th>med</th>\n",
       "      <td>147</td>\n",
       "      <td>127</td>\n",
       "      <td>2029</td>\n",
       "      <td>11</td>\n",
       "      <td>83</td>\n",
       "      <td>6</td>\n",
       "    </tr>\n",
       "    <tr>\n",
       "      <th>zero</th>\n",
       "      <td>536</td>\n",
       "      <td>274</td>\n",
       "      <td>4936</td>\n",
       "      <td>107</td>\n",
       "      <td>95</td>\n",
       "      <td>67</td>\n",
       "    </tr>\n",
       "  </tbody>\n",
       "</table>\n",
       "</div>"
      ],
      "text/plain": [
       "clusters          0    1     2    3   4   5\n",
       "all_engagement                             \n",
       "high             29   36   522    2   9   2\n",
       "low             230  142  2515   12  75  17\n",
       "med             147  127  2029   11  83   6\n",
       "zero            536  274  4936  107  95  67"
      ]
     },
     "execution_count": 44,
     "metadata": {},
     "output_type": "execute_result"
    }
   ],
   "source": [
    "results = y_cat.to_frame()\n",
    "results['clusters'] = clusters\n",
    "pd.crosstab(results.all_engagement, results.clusters)"
   ]
  },
  {
   "cell_type": "code",
   "execution_count": 45,
   "metadata": {},
   "outputs": [],
   "source": [
    "results['values'] = y"
   ]
  },
  {
   "cell_type": "code",
   "execution_count": 46,
   "metadata": {},
   "outputs": [
    {
     "data": {
      "text/html": [
       "<div>\n",
       "<style scoped>\n",
       "    .dataframe tbody tr th:only-of-type {\n",
       "        vertical-align: middle;\n",
       "    }\n",
       "\n",
       "    .dataframe tbody tr th {\n",
       "        vertical-align: top;\n",
       "    }\n",
       "\n",
       "    .dataframe thead th {\n",
       "        text-align: right;\n",
       "    }\n",
       "</style>\n",
       "<table border=\"1\" class=\"dataframe\">\n",
       "  <thead>\n",
       "    <tr style=\"text-align: right;\">\n",
       "      <th></th>\n",
       "      <th>all_engagement</th>\n",
       "      <th>clusters</th>\n",
       "      <th>values</th>\n",
       "    </tr>\n",
       "    <tr>\n",
       "      <th>tid</th>\n",
       "      <th></th>\n",
       "      <th></th>\n",
       "      <th></th>\n",
       "    </tr>\n",
       "  </thead>\n",
       "  <tbody>\n",
       "    <tr>\n",
       "      <th>1361890179951296512</th>\n",
       "      <td>low</td>\n",
       "      <td>2</td>\n",
       "      <td>3.25</td>\n",
       "    </tr>\n",
       "    <tr>\n",
       "      <th>1358354354462289920</th>\n",
       "      <td>high</td>\n",
       "      <td>0</td>\n",
       "      <td>165.00</td>\n",
       "    </tr>\n",
       "    <tr>\n",
       "      <th>1363916379519336448</th>\n",
       "      <td>zero</td>\n",
       "      <td>0</td>\n",
       "      <td>0.00</td>\n",
       "    </tr>\n",
       "    <tr>\n",
       "      <th>1369296990782320648</th>\n",
       "      <td>med</td>\n",
       "      <td>2</td>\n",
       "      <td>31.00</td>\n",
       "    </tr>\n",
       "    <tr>\n",
       "      <th>1369559005811662851</th>\n",
       "      <td>zero</td>\n",
       "      <td>2</td>\n",
       "      <td>0.00</td>\n",
       "    </tr>\n",
       "  </tbody>\n",
       "</table>\n",
       "</div>"
      ],
      "text/plain": [
       "                    all_engagement  clusters  values\n",
       "tid                                                 \n",
       "1361890179951296512            low         2    3.25\n",
       "1358354354462289920           high         0  165.00\n",
       "1363916379519336448           zero         0    0.00\n",
       "1369296990782320648            med         2   31.00\n",
       "1369559005811662851           zero         2    0.00"
      ]
     },
     "execution_count": 46,
     "metadata": {},
     "output_type": "execute_result"
    }
   ],
   "source": [
    "results.head()"
   ]
  },
  {
   "cell_type": "code",
   "execution_count": 53,
   "metadata": {},
   "outputs": [
    {
     "data": {
      "image/png": "[encoded data removed]",
      "text/plain": [
       "<Figure size 720x1440 with 1 Axes>"
      ]
     },
     "metadata": {
      "needs_background": "light"
     },
     "output_type": "display_data"
    }
   ],
   "source": [
    "fig, ax = plt.subplots(figsize=(10,20))\n",
    "\n",
    "plt.scatter(results['values'].sort_values(ascending=False).values, range(len(y)), cmap='Set1', c=results['clusters'], alpha=.2)\n",
    "plt.show()"
   ]
  },
  {
   "cell_type": "code",
   "execution_count": null,
   "metadata": {},
   "outputs": [],
   "source": []
  },
  {
   "cell_type": "markdown",
   "metadata": {},
   "source": [
    "#### Gaussian Mixture"
   ]
  },
  {
   "cell_type": "code",
   "execution_count": 18,
   "metadata": {},
   "outputs": [],
   "source": [
    "from sklearn.mixture import GaussianMixture"
   ]
  },
  {
   "cell_type": "code",
   "execution_count": 19,
   "metadata": {},
   "outputs": [],
   "source": [
    "gmm = GaussianMixture(n_components=4, random_state=0)"
   ]
  },
  {
   "cell_type": "code",
   "execution_count": 20,
   "metadata": {},
   "outputs": [
    {
     "data": {
      "text/plain": [
       "GaussianMixture(n_components=4, random_state=0)"
      ]
     },
     "execution_count": 20,
     "metadata": {},
     "output_type": "execute_result"
    }
   ],
   "source": [
    "gmm.fit(X)"
   ]
  },
  {
   "cell_type": "code",
   "execution_count": 21,
   "metadata": {},
   "outputs": [],
   "source": [
    "labels = gmm.predict(X)"
   ]
  },
  {
   "cell_type": "code",
   "execution_count": 22,
   "metadata": {},
   "outputs": [
    {
     "data": {
      "text/html": [
       "<div>\n",
       "<style scoped>\n",
       "    .dataframe tbody tr th:only-of-type {\n",
       "        vertical-align: middle;\n",
       "    }\n",
       "\n",
       "    .dataframe tbody tr th {\n",
       "        vertical-align: top;\n",
       "    }\n",
       "\n",
       "    .dataframe thead th {\n",
       "        text-align: right;\n",
       "    }\n",
       "</style>\n",
       "<table border=\"1\" class=\"dataframe\">\n",
       "  <thead>\n",
       "    <tr style=\"text-align: right;\">\n",
       "      <th></th>\n",
       "      <th>all_engagement</th>\n",
       "      <th>clusters</th>\n",
       "    </tr>\n",
       "    <tr>\n",
       "      <th>tid</th>\n",
       "      <th></th>\n",
       "      <th></th>\n",
       "    </tr>\n",
       "  </thead>\n",
       "  <tbody>\n",
       "    <tr>\n",
       "      <th>1361890179951296512</th>\n",
       "      <td>low</td>\n",
       "      <td>1</td>\n",
       "    </tr>\n",
       "    <tr>\n",
       "      <th>1358354354462289920</th>\n",
       "      <td>high</td>\n",
       "      <td>2</td>\n",
       "    </tr>\n",
       "    <tr>\n",
       "      <th>1363916379519336448</th>\n",
       "      <td>zero</td>\n",
       "      <td>2</td>\n",
       "    </tr>\n",
       "    <tr>\n",
       "      <th>1369296990782320648</th>\n",
       "      <td>med</td>\n",
       "      <td>2</td>\n",
       "    </tr>\n",
       "    <tr>\n",
       "      <th>1369559005811662851</th>\n",
       "      <td>zero</td>\n",
       "      <td>1</td>\n",
       "    </tr>\n",
       "  </tbody>\n",
       "</table>\n",
       "</div>"
      ],
      "text/plain": [
       "                    all_engagement  clusters\n",
       "tid                                         \n",
       "1361890179951296512            low         1\n",
       "1358354354462289920           high         2\n",
       "1363916379519336448           zero         2\n",
       "1369296990782320648            med         2\n",
       "1369559005811662851           zero         1"
      ]
     },
     "execution_count": 22,
     "metadata": {},
     "output_type": "execute_result"
    }
   ],
   "source": [
    "results = y_cat.to_frame()\n",
    "results['clusters'] = labels\n",
    "results.head()"
   ]
  },
  {
   "cell_type": "code",
   "execution_count": 23,
   "metadata": {},
   "outputs": [
    {
     "data": {
      "text/html": [
       "<div>\n",
       "<style scoped>\n",
       "    .dataframe tbody tr th:only-of-type {\n",
       "        vertical-align: middle;\n",
       "    }\n",
       "\n",
       "    .dataframe tbody tr th {\n",
       "        vertical-align: top;\n",
       "    }\n",
       "\n",
       "    .dataframe thead th {\n",
       "        text-align: right;\n",
       "    }\n",
       "</style>\n",
       "<table border=\"1\" class=\"dataframe\">\n",
       "  <thead>\n",
       "    <tr style=\"text-align: right;\">\n",
       "      <th>clusters</th>\n",
       "      <th>0</th>\n",
       "      <th>1</th>\n",
       "      <th>2</th>\n",
       "      <th>3</th>\n",
       "    </tr>\n",
       "    <tr>\n",
       "      <th>all_engagement</th>\n",
       "      <th></th>\n",
       "      <th></th>\n",
       "      <th></th>\n",
       "      <th></th>\n",
       "    </tr>\n",
       "  </thead>\n",
       "  <tbody>\n",
       "    <tr>\n",
       "      <th>high</th>\n",
       "      <td>163</td>\n",
       "      <td>146</td>\n",
       "      <td>277</td>\n",
       "      <td>14</td>\n",
       "    </tr>\n",
       "    <tr>\n",
       "      <th>low</th>\n",
       "      <td>874</td>\n",
       "      <td>893</td>\n",
       "      <td>1132</td>\n",
       "      <td>92</td>\n",
       "    </tr>\n",
       "    <tr>\n",
       "      <th>med</th>\n",
       "      <td>751</td>\n",
       "      <td>532</td>\n",
       "      <td>1055</td>\n",
       "      <td>65</td>\n",
       "    </tr>\n",
       "    <tr>\n",
       "      <th>zero</th>\n",
       "      <td>1740</td>\n",
       "      <td>1901</td>\n",
       "      <td>2169</td>\n",
       "      <td>205</td>\n",
       "    </tr>\n",
       "  </tbody>\n",
       "</table>\n",
       "</div>"
      ],
      "text/plain": [
       "clusters           0     1     2    3\n",
       "all_engagement                       \n",
       "high             163   146   277   14\n",
       "low              874   893  1132   92\n",
       "med              751   532  1055   65\n",
       "zero            1740  1901  2169  205"
      ]
     },
     "execution_count": 23,
     "metadata": {},
     "output_type": "execute_result"
    }
   ],
   "source": [
    "pd.crosstab(results.all_engagement, results.clusters)"
   ]
  },
  {
   "cell_type": "markdown",
   "metadata": {},
   "source": [
    "#### ridge regression"
   ]
  },
  {
   "cell_type": "code",
   "execution_count": 36,
   "metadata": {},
   "outputs": [],
   "source": [
    "from sklearn.linear_model import Ridge"
   ]
  },
  {
   "cell_type": "code",
   "execution_count": 37,
   "metadata": {},
   "outputs": [],
   "source": [
    "param_distributions = dict(alpha = [.5, 1, 1.5])\n",
    "\n",
    "ridge = Ridge()\n",
    "clf = GridSearchCV(ridge, param_distributions, cv=3)\n",
    "search = clf.fit(X, y)"
   ]
  },
  {
   "cell_type": "code",
   "execution_count": 38,
   "metadata": {},
   "outputs": [
    {
     "data": {
      "text/plain": [
       "{'mean_fit_time': array([0.04789257, 0.04601868, 0.0439291 ]),\n",
       " 'std_fit_time': array([0.00075149, 0.00328111, 0.00418254]),\n",
       " 'mean_score_time': array([0.00777141, 0.0089922 , 0.0089132 ]),\n",
       " 'std_score_time': array([0.00250587, 0.00159214, 0.00348812]),\n",
       " 'param_alpha': masked_array(data=[0.5, 1, 1.5],\n",
       "              mask=[False, False, False],\n",
       "        fill_value='?',\n",
       "             dtype=object),\n",
       " 'params': [{'alpha': 0.5}, {'alpha': 1}, {'alpha': 1.5}],\n",
       " 'split0_test_score': array([0.024123  , 0.02412396, 0.02412491]),\n",
       " 'split1_test_score': array([-0.00699023, -0.00698509, -0.00697995]),\n",
       " 'split2_test_score': array([0.0349488 , 0.03495157, 0.03495434]),\n",
       " 'mean_test_score': array([0.01736052, 0.01736348, 0.01736643]),\n",
       " 'std_test_score': array([0.01777674, 0.01777543, 0.01777412]),\n",
       " 'rank_test_score': array([3, 2, 1])}"
      ]
     },
     "execution_count": 38,
     "metadata": {},
     "output_type": "execute_result"
    }
   ],
   "source": [
    "search.cv_results_"
   ]
  },
  {
   "cell_type": "code",
   "execution_count": null,
   "metadata": {},
   "outputs": [],
   "source": []
  },
  {
   "cell_type": "code",
   "execution_count": null,
   "metadata": {},
   "outputs": [],
   "source": []
  },
  {
   "cell_type": "code",
   "execution_count": null,
   "metadata": {},
   "outputs": [],
   "source": []
  },
  {
   "cell_type": "code",
   "execution_count": null,
   "metadata": {},
   "outputs": [],
   "source": []
  },
  {
   "cell_type": "code",
   "execution_count": null,
   "metadata": {},
   "outputs": [],
   "source": []
  },
  {
   "cell_type": "code",
   "execution_count": null,
   "metadata": {},
   "outputs": [],
   "source": []
  },
  {
   "cell_type": "code",
   "execution_count": null,
   "metadata": {},
   "outputs": [],
   "source": []
  }
 ],
 "metadata": {
  "kernelspec": {
   "display_name": "nlp",
   "language": "python",
   "name": "nlp"
  },
  "language_info": {
   "codemirror_mode": {
    "name": "ipython",
    "version": 3
   },
   "file_extension": ".py",
   "mimetype": "text/x-python",
   "name": "python",
   "nbconvert_exporter": "python",
   "pygments_lexer": "ipython3",
   "version": "3.8.5"
  }
 },
 "nbformat": 4,
 "nbformat_minor": 4
}

{
 "cells": [
  {
   "cell_type": "code",
   "execution_count": 1,
   "metadata": {},
   "outputs": [],
   "source": [
    "import pandas as pd\n",
    "import json\n",
    "import os\n",
    "import numpy as np\n",
    "import matplotlib.pyplot as plt\n",
    "import seaborn as sns\n",
    "\n",
    "idx = pd.IndexSlice\n",
    "data_fol = r\"..\\data_files\""
   ]
  },
  {
   "cell_type": "code",
   "execution_count": 5,
   "metadata": {},
   "outputs": [],
   "source": [
    "X_tfidf_path = os.path.join(data_fol, 'combined_model', \"X_train_tfidf_nmf.pkl\")\n",
    "X_other_path = os.path.join(data_fol, 'combined_model', \"__X_train.pkl\")\n",
    "y_path = os.path.join(data_fol, 'combined_model', \"__y_train.pkl\")\n",
    "\n",
    "X_tfidf = pd.read_pickle(X_tfidf_path)\n",
    "X_other = pd.read_pickle(X_other_path)\n",
    "y = pd.read_pickle(y_path)"
   ]
  },
  {
   "cell_type": "code",
   "execution_count": 3,
   "metadata": {},
   "outputs": [],
   "source": [
    "from sklearn.model_selection import cross_validate, cross_val_score\n",
    "from sklearn.model_selection import GridSearchCV"
   ]
  },
  {
   "cell_type": "code",
   "execution_count": 4,
   "metadata": {},
   "outputs": [
    {
     "data": {
      "text/html": [
       "<div>\n",
       "<style scoped>\n",
       "    .dataframe tbody tr th:only-of-type {\n",
       "        vertical-align: middle;\n",
       "    }\n",
       "\n",
       "    .dataframe tbody tr th {\n",
       "        vertical-align: top;\n",
       "    }\n",
       "\n",
       "    .dataframe thead th {\n",
       "        text-align: right;\n",
       "    }\n",
       "</style>\n",
       "<table border=\"1\" class=\"dataframe\">\n",
       "  <thead>\n",
       "    <tr style=\"text-align: right;\">\n",
       "      <th></th>\n",
       "      <th>all_engagement</th>\n",
       "      <th>categories</th>\n",
       "    </tr>\n",
       "    <tr>\n",
       "      <th>tid</th>\n",
       "      <th></th>\n",
       "      <th></th>\n",
       "    </tr>\n",
       "  </thead>\n",
       "  <tbody>\n",
       "    <tr>\n",
       "      <th>1361890179951296512</th>\n",
       "      <td>3.25</td>\n",
       "      <td>low</td>\n",
       "    </tr>\n",
       "    <tr>\n",
       "      <th>1358354354462289920</th>\n",
       "      <td>165.00</td>\n",
       "      <td>high</td>\n",
       "    </tr>\n",
       "    <tr>\n",
       "      <th>1363916379519336448</th>\n",
       "      <td>0.00</td>\n",
       "      <td>zero</td>\n",
       "    </tr>\n",
       "    <tr>\n",
       "      <th>1369296990782320648</th>\n",
       "      <td>31.00</td>\n",
       "      <td>med</td>\n",
       "    </tr>\n",
       "    <tr>\n",
       "      <th>1369559005811662851</th>\n",
       "      <td>0.00</td>\n",
       "      <td>zero</td>\n",
       "    </tr>\n",
       "  </tbody>\n",
       "</table>\n",
       "</div>"
      ],
      "text/plain": [
       "                     all_engagement categories\n",
       "tid                                           \n",
       "1361890179951296512            3.25        low\n",
       "1358354354462289920          165.00       high\n",
       "1363916379519336448            0.00       zero\n",
       "1369296990782320648           31.00        med\n",
       "1369559005811662851            0.00       zero"
      ]
     },
     "execution_count": 4,
     "metadata": {},
     "output_type": "execute_result"
    }
   ],
   "source": [
    "y.head()"
   ]
  },
  {
   "cell_type": "markdown",
   "metadata": {},
   "source": [
    "Combine two feature dataframes into one."
   ]
  },
  {
   "cell_type": "code",
   "execution_count": 10,
   "metadata": {},
   "outputs": [],
   "source": [
    "X = pd.concat([X_other.drop(columns = ['hashtags_clean', 'text_clean']), X_tfidf], axis=1)"
   ]
  },
  {
   "cell_type": "code",
   "execution_count": 11,
   "metadata": {},
   "outputs": [
    {
     "data": {
      "text/html": [
       "<div>\n",
       "<style scoped>\n",
       "    .dataframe tbody tr th:only-of-type {\n",
       "        vertical-align: middle;\n",
       "    }\n",
       "\n",
       "    .dataframe tbody tr th {\n",
       "        vertical-align: top;\n",
       "    }\n",
       "\n",
       "    .dataframe thead th {\n",
       "        text-align: right;\n",
       "    }\n",
       "</style>\n",
       "<table border=\"1\" class=\"dataframe\">\n",
       "  <thead>\n",
       "    <tr style=\"text-align: right;\">\n",
       "      <th></th>\n",
       "      <th>user_followers_count</th>\n",
       "      <th>user_verified</th>\n",
       "      <th>media_count</th>\n",
       "      <th>media_animated_gif</th>\n",
       "      <th>media_photo</th>\n",
       "      <th>media_video</th>\n",
       "      <th>0</th>\n",
       "      <th>1</th>\n",
       "      <th>2</th>\n",
       "      <th>3</th>\n",
       "      <th>...</th>\n",
       "      <th>70</th>\n",
       "      <th>71</th>\n",
       "      <th>72</th>\n",
       "      <th>73</th>\n",
       "      <th>74</th>\n",
       "      <th>75</th>\n",
       "      <th>76</th>\n",
       "      <th>77</th>\n",
       "      <th>78</th>\n",
       "      <th>79</th>\n",
       "    </tr>\n",
       "    <tr>\n",
       "      <th>tid</th>\n",
       "      <th></th>\n",
       "      <th></th>\n",
       "      <th></th>\n",
       "      <th></th>\n",
       "      <th></th>\n",
       "      <th></th>\n",
       "      <th></th>\n",
       "      <th></th>\n",
       "      <th></th>\n",
       "      <th></th>\n",
       "      <th></th>\n",
       "      <th></th>\n",
       "      <th></th>\n",
       "      <th></th>\n",
       "      <th></th>\n",
       "      <th></th>\n",
       "      <th></th>\n",
       "      <th></th>\n",
       "      <th></th>\n",
       "      <th></th>\n",
       "      <th></th>\n",
       "    </tr>\n",
       "  </thead>\n",
       "  <tbody>\n",
       "    <tr>\n",
       "      <th>1361890179951296512</th>\n",
       "      <td>360</td>\n",
       "      <td>0</td>\n",
       "      <td>0</td>\n",
       "      <td>0</td>\n",
       "      <td>0</td>\n",
       "      <td>0</td>\n",
       "      <td>0.0</td>\n",
       "      <td>0.000000</td>\n",
       "      <td>0.000000</td>\n",
       "      <td>0.000000</td>\n",
       "      <td>...</td>\n",
       "      <td>0.000000</td>\n",
       "      <td>0.000000</td>\n",
       "      <td>0.000000</td>\n",
       "      <td>0.000000</td>\n",
       "      <td>0.0</td>\n",
       "      <td>0.000000</td>\n",
       "      <td>0.000000</td>\n",
       "      <td>0.000000</td>\n",
       "      <td>0.000000</td>\n",
       "      <td>0.000000</td>\n",
       "    </tr>\n",
       "    <tr>\n",
       "      <th>1358354354462289920</th>\n",
       "      <td>382</td>\n",
       "      <td>0</td>\n",
       "      <td>0</td>\n",
       "      <td>0</td>\n",
       "      <td>0</td>\n",
       "      <td>0</td>\n",
       "      <td>0.0</td>\n",
       "      <td>0.000000</td>\n",
       "      <td>0.117835</td>\n",
       "      <td>0.000000</td>\n",
       "      <td>...</td>\n",
       "      <td>0.000000</td>\n",
       "      <td>0.000000</td>\n",
       "      <td>0.000000</td>\n",
       "      <td>0.002420</td>\n",
       "      <td>0.0</td>\n",
       "      <td>0.000106</td>\n",
       "      <td>0.004448</td>\n",
       "      <td>0.000000</td>\n",
       "      <td>0.000000</td>\n",
       "      <td>0.000000</td>\n",
       "    </tr>\n",
       "    <tr>\n",
       "      <th>1363916379519336448</th>\n",
       "      <td>417</td>\n",
       "      <td>0</td>\n",
       "      <td>0</td>\n",
       "      <td>0</td>\n",
       "      <td>0</td>\n",
       "      <td>0</td>\n",
       "      <td>0.0</td>\n",
       "      <td>0.000000</td>\n",
       "      <td>0.200776</td>\n",
       "      <td>0.000000</td>\n",
       "      <td>...</td>\n",
       "      <td>0.000000</td>\n",
       "      <td>0.780888</td>\n",
       "      <td>0.000000</td>\n",
       "      <td>0.000000</td>\n",
       "      <td>0.0</td>\n",
       "      <td>0.000000</td>\n",
       "      <td>0.000000</td>\n",
       "      <td>0.000000</td>\n",
       "      <td>0.000000</td>\n",
       "      <td>0.000000</td>\n",
       "    </tr>\n",
       "    <tr>\n",
       "      <th>1369296990782320648</th>\n",
       "      <td>6656</td>\n",
       "      <td>0</td>\n",
       "      <td>0</td>\n",
       "      <td>0</td>\n",
       "      <td>0</td>\n",
       "      <td>0</td>\n",
       "      <td>0.0</td>\n",
       "      <td>0.000000</td>\n",
       "      <td>0.171878</td>\n",
       "      <td>0.000000</td>\n",
       "      <td>...</td>\n",
       "      <td>0.000308</td>\n",
       "      <td>0.000000</td>\n",
       "      <td>0.000000</td>\n",
       "      <td>0.000063</td>\n",
       "      <td>0.0</td>\n",
       "      <td>0.000000</td>\n",
       "      <td>0.003795</td>\n",
       "      <td>0.000000</td>\n",
       "      <td>0.005820</td>\n",
       "      <td>0.007507</td>\n",
       "    </tr>\n",
       "    <tr>\n",
       "      <th>1369559005811662851</th>\n",
       "      <td>104</td>\n",
       "      <td>0</td>\n",
       "      <td>0</td>\n",
       "      <td>0</td>\n",
       "      <td>0</td>\n",
       "      <td>0</td>\n",
       "      <td>0.0</td>\n",
       "      <td>0.022518</td>\n",
       "      <td>0.240877</td>\n",
       "      <td>0.003185</td>\n",
       "      <td>...</td>\n",
       "      <td>0.000000</td>\n",
       "      <td>0.009873</td>\n",
       "      <td>0.001148</td>\n",
       "      <td>0.000000</td>\n",
       "      <td>0.0</td>\n",
       "      <td>0.000000</td>\n",
       "      <td>0.015886</td>\n",
       "      <td>0.027670</td>\n",
       "      <td>0.000000</td>\n",
       "      <td>0.000000</td>\n",
       "    </tr>\n",
       "    <tr>\n",
       "      <th>...</th>\n",
       "      <td>...</td>\n",
       "      <td>...</td>\n",
       "      <td>...</td>\n",
       "      <td>...</td>\n",
       "      <td>...</td>\n",
       "      <td>...</td>\n",
       "      <td>...</td>\n",
       "      <td>...</td>\n",
       "      <td>...</td>\n",
       "      <td>...</td>\n",
       "      <td>...</td>\n",
       "      <td>...</td>\n",
       "      <td>...</td>\n",
       "      <td>...</td>\n",
       "      <td>...</td>\n",
       "      <td>...</td>\n",
       "      <td>...</td>\n",
       "      <td>...</td>\n",
       "      <td>...</td>\n",
       "      <td>...</td>\n",
       "      <td>...</td>\n",
       "    </tr>\n",
       "    <tr>\n",
       "      <th>1369950382693232643</th>\n",
       "      <td>6045</td>\n",
       "      <td>0</td>\n",
       "      <td>0</td>\n",
       "      <td>0</td>\n",
       "      <td>0</td>\n",
       "      <td>0</td>\n",
       "      <td>0.0</td>\n",
       "      <td>0.000000</td>\n",
       "      <td>0.000000</td>\n",
       "      <td>0.000000</td>\n",
       "      <td>...</td>\n",
       "      <td>0.000000</td>\n",
       "      <td>0.000000</td>\n",
       "      <td>0.000000</td>\n",
       "      <td>0.000000</td>\n",
       "      <td>0.0</td>\n",
       "      <td>0.000000</td>\n",
       "      <td>0.000000</td>\n",
       "      <td>0.000000</td>\n",
       "      <td>0.000000</td>\n",
       "      <td>0.000000</td>\n",
       "    </tr>\n",
       "    <tr>\n",
       "      <th>1368967563837857792</th>\n",
       "      <td>15198</td>\n",
       "      <td>1</td>\n",
       "      <td>0</td>\n",
       "      <td>0</td>\n",
       "      <td>0</td>\n",
       "      <td>0</td>\n",
       "      <td>0.0</td>\n",
       "      <td>0.000000</td>\n",
       "      <td>0.000000</td>\n",
       "      <td>0.000000</td>\n",
       "      <td>...</td>\n",
       "      <td>0.825217</td>\n",
       "      <td>0.000000</td>\n",
       "      <td>0.000000</td>\n",
       "      <td>0.000000</td>\n",
       "      <td>0.0</td>\n",
       "      <td>0.000000</td>\n",
       "      <td>0.000000</td>\n",
       "      <td>0.000000</td>\n",
       "      <td>0.000000</td>\n",
       "      <td>0.000000</td>\n",
       "    </tr>\n",
       "    <tr>\n",
       "      <th>1365011079600824322</th>\n",
       "      <td>416</td>\n",
       "      <td>0</td>\n",
       "      <td>0</td>\n",
       "      <td>0</td>\n",
       "      <td>0</td>\n",
       "      <td>0</td>\n",
       "      <td>0.0</td>\n",
       "      <td>0.000000</td>\n",
       "      <td>0.357371</td>\n",
       "      <td>0.000000</td>\n",
       "      <td>...</td>\n",
       "      <td>0.344695</td>\n",
       "      <td>0.000000</td>\n",
       "      <td>0.000000</td>\n",
       "      <td>0.000000</td>\n",
       "      <td>0.0</td>\n",
       "      <td>0.000000</td>\n",
       "      <td>0.000000</td>\n",
       "      <td>0.000000</td>\n",
       "      <td>0.000000</td>\n",
       "      <td>0.000000</td>\n",
       "    </tr>\n",
       "    <tr>\n",
       "      <th>1364000370972786689</th>\n",
       "      <td>2284</td>\n",
       "      <td>0</td>\n",
       "      <td>0</td>\n",
       "      <td>0</td>\n",
       "      <td>0</td>\n",
       "      <td>0</td>\n",
       "      <td>0.0</td>\n",
       "      <td>0.000000</td>\n",
       "      <td>0.194376</td>\n",
       "      <td>0.000000</td>\n",
       "      <td>...</td>\n",
       "      <td>0.000000</td>\n",
       "      <td>0.000000</td>\n",
       "      <td>0.000000</td>\n",
       "      <td>0.000000</td>\n",
       "      <td>0.0</td>\n",
       "      <td>0.000000</td>\n",
       "      <td>0.000000</td>\n",
       "      <td>0.000000</td>\n",
       "      <td>0.000000</td>\n",
       "      <td>0.000000</td>\n",
       "    </tr>\n",
       "    <tr>\n",
       "      <th>1342168161999876096</th>\n",
       "      <td>897</td>\n",
       "      <td>0</td>\n",
       "      <td>0</td>\n",
       "      <td>0</td>\n",
       "      <td>0</td>\n",
       "      <td>0</td>\n",
       "      <td>0.0</td>\n",
       "      <td>0.000000</td>\n",
       "      <td>0.000000</td>\n",
       "      <td>0.000000</td>\n",
       "      <td>...</td>\n",
       "      <td>0.000000</td>\n",
       "      <td>0.000411</td>\n",
       "      <td>0.000000</td>\n",
       "      <td>0.000000</td>\n",
       "      <td>0.0</td>\n",
       "      <td>0.000000</td>\n",
       "      <td>0.000000</td>\n",
       "      <td>0.510236</td>\n",
       "      <td>0.002109</td>\n",
       "      <td>0.000000</td>\n",
       "    </tr>\n",
       "  </tbody>\n",
       "</table>\n",
       "<p>12009 rows × 86 columns</p>\n",
       "</div>"
      ],
      "text/plain": [
       "                     user_followers_count  user_verified  media_count  \\\n",
       "tid                                                                     \n",
       "1361890179951296512                   360              0            0   \n",
       "1358354354462289920                   382              0            0   \n",
       "1363916379519336448                   417              0            0   \n",
       "1369296990782320648                  6656              0            0   \n",
       "1369559005811662851                   104              0            0   \n",
       "...                                   ...            ...          ...   \n",
       "1369950382693232643                  6045              0            0   \n",
       "1368967563837857792                 15198              1            0   \n",
       "1365011079600824322                   416              0            0   \n",
       "1364000370972786689                  2284              0            0   \n",
       "1342168161999876096                   897              0            0   \n",
       "\n",
       "                     media_animated_gif  media_photo  media_video    0  \\\n",
       "tid                                                                      \n",
       "1361890179951296512                   0            0            0  0.0   \n",
       "1358354354462289920                   0            0            0  0.0   \n",
       "1363916379519336448                   0            0            0  0.0   \n",
       "1369296990782320648                   0            0            0  0.0   \n",
       "1369559005811662851                   0            0            0  0.0   \n",
       "...                                 ...          ...          ...  ...   \n",
       "1369950382693232643                   0            0            0  0.0   \n",
       "1368967563837857792                   0            0            0  0.0   \n",
       "1365011079600824322                   0            0            0  0.0   \n",
       "1364000370972786689                   0            0            0  0.0   \n",
       "1342168161999876096                   0            0            0  0.0   \n",
       "\n",
       "                            1         2         3  ...        70        71  \\\n",
       "tid                                                ...                       \n",
       "1361890179951296512  0.000000  0.000000  0.000000  ...  0.000000  0.000000   \n",
       "1358354354462289920  0.000000  0.117835  0.000000  ...  0.000000  0.000000   \n",
       "1363916379519336448  0.000000  0.200776  0.000000  ...  0.000000  0.780888   \n",
       "1369296990782320648  0.000000  0.171878  0.000000  ...  0.000308  0.000000   \n",
       "1369559005811662851  0.022518  0.240877  0.003185  ...  0.000000  0.009873   \n",
       "...                       ...       ...       ...  ...       ...       ...   \n",
       "1369950382693232643  0.000000  0.000000  0.000000  ...  0.000000  0.000000   \n",
       "1368967563837857792  0.000000  0.000000  0.000000  ...  0.825217  0.000000   \n",
       "1365011079600824322  0.000000  0.357371  0.000000  ...  0.344695  0.000000   \n",
       "1364000370972786689  0.000000  0.194376  0.000000  ...  0.000000  0.000000   \n",
       "1342168161999876096  0.000000  0.000000  0.000000  ...  0.000000  0.000411   \n",
       "\n",
       "                           72        73   74        75        76        77  \\\n",
       "tid                                                                          \n",
       "1361890179951296512  0.000000  0.000000  0.0  0.000000  0.000000  0.000000   \n",
       "1358354354462289920  0.000000  0.002420  0.0  0.000106  0.004448  0.000000   \n",
       "1363916379519336448  0.000000  0.000000  0.0  0.000000  0.000000  0.000000   \n",
       "1369296990782320648  0.000000  0.000063  0.0  0.000000  0.003795  0.000000   \n",
       "1369559005811662851  0.001148  0.000000  0.0  0.000000  0.015886  0.027670   \n",
       "...                       ...       ...  ...       ...       ...       ...   \n",
       "1369950382693232643  0.000000  0.000000  0.0  0.000000  0.000000  0.000000   \n",
       "1368967563837857792  0.000000  0.000000  0.0  0.000000  0.000000  0.000000   \n",
       "1365011079600824322  0.000000  0.000000  0.0  0.000000  0.000000  0.000000   \n",
       "1364000370972786689  0.000000  0.000000  0.0  0.000000  0.000000  0.000000   \n",
       "1342168161999876096  0.000000  0.000000  0.0  0.000000  0.000000  0.510236   \n",
       "\n",
       "                           78        79  \n",
       "tid                                      \n",
       "1361890179951296512  0.000000  0.000000  \n",
       "1358354354462289920  0.000000  0.000000  \n",
       "1363916379519336448  0.000000  0.000000  \n",
       "1369296990782320648  0.005820  0.007507  \n",
       "1369559005811662851  0.000000  0.000000  \n",
       "...                       ...       ...  \n",
       "1369950382693232643  0.000000  0.000000  \n",
       "1368967563837857792  0.000000  0.000000  \n",
       "1365011079600824322  0.000000  0.000000  \n",
       "1364000370972786689  0.000000  0.000000  \n",
       "1342168161999876096  0.002109  0.000000  \n",
       "\n",
       "[12009 rows x 86 columns]"
      ]
     },
     "execution_count": 11,
     "metadata": {},
     "output_type": "execute_result"
    }
   ],
   "source": [
    "X"
   ]
  },
  {
   "cell_type": "markdown",
   "metadata": {},
   "source": [
    "### Try some models"
   ]
  },
  {
   "cell_type": "markdown",
   "metadata": {},
   "source": [
    "#### Support Vector Classification"
   ]
  },
  {
   "cell_type": "code",
   "execution_count": null,
   "metadata": {},
   "outputs": [],
   "source": [
    "from sklearn.svm import SVC"
   ]
  },
  {
   "cell_type": "code",
   "execution_count": 18,
   "metadata": {},
   "outputs": [
    {
     "data": {
      "text/plain": [
       "{'mean_fit_time': array([25.28930887, 25.50243362, 23.96036641, 25.35421069]),\n",
       " 'std_fit_time': array([0.80197989, 0.97814514, 0.50269123, 1.43498245]),\n",
       " 'mean_score_time': array([13.06903577, 12.07717951, 12.51327928, 12.91928943]),\n",
       " 'std_score_time': array([0.307639  , 1.3419034 , 0.69869098, 0.27306695]),\n",
       " 'param_C': masked_array(data=[0.5, 1, 2, 3],\n",
       "              mask=[False, False, False, False],\n",
       "        fill_value='?',\n",
       "             dtype=object),\n",
       " 'params': [{'C': 0.5}, {'C': 1}, {'C': 2}, {'C': 3}],\n",
       " 'split0_test_score': array([0.5098676 , 0.50911816, 0.50662003, 0.50637022]),\n",
       " 'split1_test_score': array([0.50287285, 0.50012491, 0.50012491, 0.49887584]),\n",
       " 'split2_test_score': array([0.49987509, 0.50137397, 0.50312266, 0.50437172]),\n",
       " 'mean_test_score': array([0.50420518, 0.50353901, 0.5032892 , 0.50320593]),\n",
       " 'std_test_score': array([0.00418679, 0.00397787, 0.00265424, 0.00316867]),\n",
       " 'rank_test_score': array([1, 2, 3, 4])}"
      ]
     },
     "execution_count": 18,
     "metadata": {},
     "output_type": "execute_result"
    }
   ],
   "source": [
    "param_distributions = dict(C=[.5, 1, 2, 3])\n",
    "\n",
    "svc = SVC(kernel='rbf', class_weight='balanced')\n",
    "clf = GridSearchCV(svc, param_distributions, cv=3)\n",
    "search = clf.fit(X, y['categories'])\n",
    "search.cv_results_"
   ]
  },
  {
   "cell_type": "code",
   "execution_count": null,
   "metadata": {},
   "outputs": [],
   "source": []
  },
  {
   "cell_type": "code",
   "execution_count": 16,
   "metadata": {},
   "outputs": [],
   "source": [
    "#also trying c=4 just in case\n",
    "svc = SVC(C=4, kernel='rbf', class_weight='balanced')\n",
    "svc.fit(X, y['categories'])\n",
    "labels = svc.predict(X)"
   ]
  },
  {
   "cell_type": "code",
   "execution_count": 17,
   "metadata": {},
   "outputs": [
    {
     "data": {
      "text/html": [
       "<div>\n",
       "<style scoped>\n",
       "    .dataframe tbody tr th:only-of-type {\n",
       "        vertical-align: middle;\n",
       "    }\n",
       "\n",
       "    .dataframe tbody tr th {\n",
       "        vertical-align: top;\n",
       "    }\n",
       "\n",
       "    .dataframe thead th {\n",
       "        text-align: right;\n",
       "    }\n",
       "</style>\n",
       "<table border=\"1\" class=\"dataframe\">\n",
       "  <thead>\n",
       "    <tr style=\"text-align: right;\">\n",
       "      <th>labels</th>\n",
       "      <th>high</th>\n",
       "      <th>low</th>\n",
       "      <th>med</th>\n",
       "      <th>zero</th>\n",
       "    </tr>\n",
       "    <tr>\n",
       "      <th>categories</th>\n",
       "      <th></th>\n",
       "      <th></th>\n",
       "      <th></th>\n",
       "      <th></th>\n",
       "    </tr>\n",
       "  </thead>\n",
       "  <tbody>\n",
       "    <tr>\n",
       "      <th>high</th>\n",
       "      <td>165</td>\n",
       "      <td>33</td>\n",
       "      <td>16</td>\n",
       "      <td>140</td>\n",
       "    </tr>\n",
       "    <tr>\n",
       "      <th>low</th>\n",
       "      <td>232</td>\n",
       "      <td>115</td>\n",
       "      <td>38</td>\n",
       "      <td>2582</td>\n",
       "    </tr>\n",
       "    <tr>\n",
       "      <th>med</th>\n",
       "      <td>566</td>\n",
       "      <td>180</td>\n",
       "      <td>96</td>\n",
       "      <td>1831</td>\n",
       "    </tr>\n",
       "    <tr>\n",
       "      <th>zero</th>\n",
       "      <td>168</td>\n",
       "      <td>91</td>\n",
       "      <td>46</td>\n",
       "      <td>5710</td>\n",
       "    </tr>\n",
       "  </tbody>\n",
       "</table>\n",
       "</div>"
      ],
      "text/plain": [
       "labels      high  low  med  zero\n",
       "categories                      \n",
       "high         165   33   16   140\n",
       "low          232  115   38  2582\n",
       "med          566  180   96  1831\n",
       "zero         168   91   46  5710"
      ]
     },
     "execution_count": 17,
     "metadata": {},
     "output_type": "execute_result"
    }
   ],
   "source": [
    "results = y['categories'].to_frame()\n",
    "results['labels'] = labels\n",
    "pd.crosstab(results.categories, results.labels)"
   ]
  },
  {
   "cell_type": "code",
   "execution_count": null,
   "metadata": {},
   "outputs": [],
   "source": []
  },
  {
   "cell_type": "markdown",
   "metadata": {},
   "source": [
    "#### Multinomial NB"
   ]
  },
  {
   "cell_type": "code",
   "execution_count": 19,
   "metadata": {},
   "outputs": [],
   "source": [
    "from sklearn.naive_bayes import MultinomialNB"
   ]
  },
  {
   "cell_type": "code",
   "execution_count": 45,
   "metadata": {},
   "outputs": [
    {
     "data": {
      "text/plain": [
       "{'mean_fit_time': array([0.08907588, 0.09239189, 0.08867598, 0.08614953]),\n",
       " 'std_fit_time': array([0.01525196, 0.01083352, 0.00308387, 0.00552782]),\n",
       " 'mean_score_time': array([0.02228657, 0.02422261, 0.02141603, 0.02605025]),\n",
       " 'std_score_time': array([0.00776792, 0.00591056, 0.00142086, 0.00454143]),\n",
       " 'param_alpha': masked_array(data=[0.5, 1, 2, 3],\n",
       "              mask=[False, False, False, False],\n",
       "        fill_value='?',\n",
       "             dtype=object),\n",
       " 'params': [{'alpha': 0.5}, {'alpha': 1}, {'alpha': 2}, {'alpha': 3}],\n",
       " 'split0_test_score': array([0.52735448, 0.52810392, 0.52810392, 0.5276043 ]),\n",
       " 'split1_test_score': array([0.52285786, 0.52310767, 0.52260804, 0.52235823]),\n",
       " 'split2_test_score': array([0.53260055, 0.53260055, 0.53235074, 0.53260055]),\n",
       " 'mean_test_score': array([0.5276043 , 0.52793738, 0.52768757, 0.52752103]),\n",
       " 'std_test_score': array([0.00398136, 0.00387724, 0.00398832, 0.00418182]),\n",
       " 'rank_test_score': array([3, 1, 2, 4])}"
      ]
     },
     "execution_count": 45,
     "metadata": {},
     "output_type": "execute_result"
    }
   ],
   "source": [
    "param_distributions = dict(alpha=[.5, 1, 2, 3])\n",
    "\n",
    "mnb = MultinomialNB()\n",
    "clf = GridSearchCV(mnb, param_distributions, cv=3)\n",
    "search = clf.fit(X, y['categories'])\n",
    "search.cv_results_"
   ]
  },
  {
   "cell_type": "code",
   "execution_count": null,
   "metadata": {},
   "outputs": [],
   "source": []
  },
  {
   "cell_type": "markdown",
   "metadata": {},
   "source": [
    "#### random forest"
   ]
  },
  {
   "cell_type": "code",
   "execution_count": 23,
   "metadata": {},
   "outputs": [],
   "source": [
    "from sklearn.ensemble import RandomForestClassifier"
   ]
  },
  {
   "cell_type": "code",
   "execution_count": 24,
   "metadata": {},
   "outputs": [
    {
     "data": {
      "text/plain": [
       "{'mean_fit_time': array([0.50635576, 0.84192252, 0.97853192]),\n",
       " 'std_fit_time': array([0.02876492, 0.01471415, 0.03966343]),\n",
       " 'mean_score_time': array([0.04627339, 0.04650108, 0.06779035]),\n",
       " 'std_score_time': array([0.0078793 , 0.00601886, 0.00396257]),\n",
       " 'param_max_depth': masked_array(data=[5, 10, 15],\n",
       "              mask=[False, False, False],\n",
       "        fill_value='?',\n",
       "             dtype=object),\n",
       " 'params': [{'max_depth': 5}, {'max_depth': 10}, {'max_depth': 15}],\n",
       " 'split0_test_score': array([0.52660505, 0.53909568, 0.54758931]),\n",
       " 'split1_test_score': array([0.52385711, 0.54434174, 0.54509118]),\n",
       " 'split2_test_score': array([0.53384961, 0.54958781, 0.55458406]),\n",
       " 'mean_test_score': array([0.52810392, 0.54434174, 0.54908818]),\n",
       " 'std_test_score': array([0.00421486, 0.00428339, 0.00401777]),\n",
       " 'rank_test_score': array([3, 2, 1])}"
      ]
     },
     "execution_count": 24,
     "metadata": {},
     "output_type": "execute_result"
    }
   ],
   "source": [
    "param_distributions = dict(max_depth = [5,10,15])\n",
    "\n",
    "rf = RandomForestClassifier(n_estimators=30)\n",
    "clf = GridSearchCV(rf, param_distributions, cv=3)\n",
    "search = clf.fit(X, y['categories'])\n",
    "search.cv_results_"
   ]
  },
  {
   "cell_type": "code",
   "execution_count": null,
   "metadata": {},
   "outputs": [],
   "source": []
  },
  {
   "cell_type": "code",
   "execution_count": 25,
   "metadata": {},
   "outputs": [
    {
     "data": {
      "text/plain": [
       "{'mean_fit_time': array([1.20155056, 1.44906131]),\n",
       " 'std_fit_time': array([0.03207503, 0.0899621 ]),\n",
       " 'mean_score_time': array([0.07335289, 0.07280072]),\n",
       " 'std_score_time': array([0.00825034, 0.00751723]),\n",
       " 'param_max_depth': masked_array(data=[20, 30],\n",
       "              mask=[False, False],\n",
       "        fill_value='?',\n",
       "             dtype=object),\n",
       " 'params': [{'max_depth': 20}, {'max_depth': 30}],\n",
       " 'split0_test_score': array([0.54584062, 0.54359231]),\n",
       " 'split1_test_score': array([0.54484137, 0.54109418]),\n",
       " 'split2_test_score': array([0.54958781, 0.54634024]),\n",
       " 'mean_test_score': array([0.5467566 , 0.54367558]),\n",
       " 'std_test_score': array([0.00204311, 0.00214251]),\n",
       " 'rank_test_score': array([1, 2])}"
      ]
     },
     "execution_count": 25,
     "metadata": {},
     "output_type": "execute_result"
    }
   ],
   "source": [
    "param_distributions = dict(max_depth = [20,30])\n",
    "\n",
    "rf = RandomForestClassifier(n_estimators=30)\n",
    "clf = GridSearchCV(rf, param_distributions, cv=3)\n",
    "search = clf.fit(X, y['categories'])\n",
    "search.cv_results_"
   ]
  },
  {
   "cell_type": "code",
   "execution_count": null,
   "metadata": {},
   "outputs": [],
   "source": []
  },
  {
   "cell_type": "code",
   "execution_count": 26,
   "metadata": {},
   "outputs": [
    {
     "data": {
      "text/plain": [
       "{'mean_fit_time': array([0.95707393, 2.05869166, 2.9077549 ]),\n",
       " 'std_fit_time': array([0.01272559, 0.05567971, 0.07606303]),\n",
       " 'mean_score_time': array([0.06394053, 0.1054461 , 0.15117613]),\n",
       " 'std_score_time': array([0.00973499, 0.00941602, 0.01270135]),\n",
       " 'param_n_estimators': masked_array(data=[30, 60, 90],\n",
       "              mask=[False, False, False],\n",
       "        fill_value='?',\n",
       "             dtype=object),\n",
       " 'params': [{'n_estimators': 30}, {'n_estimators': 60}, {'n_estimators': 90}],\n",
       " 'split0_test_score': array([0.54584062, 0.54584062, 0.5473395 ]),\n",
       " 'split1_test_score': array([0.54634024, 0.54609043, 0.549338  ]),\n",
       " 'split2_test_score': array([0.55233575, 0.553335  , 0.55083687]),\n",
       " 'mean_test_score': array([0.5481722 , 0.54842202, 0.54917145]),\n",
       " 'std_test_score': array([0.00295113, 0.0034755 , 0.00143265]),\n",
       " 'rank_test_score': array([3, 2, 1])}"
      ]
     },
     "execution_count": 26,
     "metadata": {},
     "output_type": "execute_result"
    }
   ],
   "source": [
    "param_distributions = dict(n_estimators = [30,60,90])\n",
    "\n",
    "rf = RandomForestClassifier(max_depth=15)\n",
    "clf = GridSearchCV(rf, param_distributions, cv=3)\n",
    "search = clf.fit(X, y['categories'])\n",
    "search.cv_results_"
   ]
  },
  {
   "cell_type": "code",
   "execution_count": null,
   "metadata": {},
   "outputs": [],
   "source": []
  },
  {
   "cell_type": "markdown",
   "metadata": {},
   "source": [
    "#### kmeans"
   ]
  },
  {
   "cell_type": "code",
   "execution_count": 27,
   "metadata": {},
   "outputs": [],
   "source": [
    "from sklearn.cluster import KMeans"
   ]
  },
  {
   "cell_type": "code",
   "execution_count": 28,
   "metadata": {},
   "outputs": [],
   "source": [
    "Sum_of_squared_distances = []\n",
    "K = range(1,15)\n",
    "for k in K:\n",
    "    km = KMeans(n_clusters=k)\n",
    "    km = km.fit(X)\n",
    "    Sum_of_squared_distances.append(km.inertia_)"
   ]
  },
  {
   "cell_type": "code",
   "execution_count": 29,
   "metadata": {},
   "outputs": [
    {
     "data": {
      "image/png": "[encoded data removed]",
      "text/plain": [
       "<Figure size 432x288 with 1 Axes>"
      ]
     },
     "metadata": {
      "needs_background": "light"
     },
     "output_type": "display_data"
    }
   ],
   "source": [
    "fig, ax = plt.subplots()\n",
    "ax.plot(K, Sum_of_squared_distances, 'bx-')\n",
    "plt.show()"
   ]
  },
  {
   "cell_type": "code",
   "execution_count": 36,
   "metadata": {},
   "outputs": [],
   "source": [
    "kmeans = KMeans(n_clusters=4, random_state=0)\n",
    "clusters = kmeans.fit_predict(X)"
   ]
  },
  {
   "cell_type": "code",
   "execution_count": 37,
   "metadata": {},
   "outputs": [
    {
     "data": {
      "text/html": [
       "<div>\n",
       "<style scoped>\n",
       "    .dataframe tbody tr th:only-of-type {\n",
       "        vertical-align: middle;\n",
       "    }\n",
       "\n",
       "    .dataframe tbody tr th {\n",
       "        vertical-align: top;\n",
       "    }\n",
       "\n",
       "    .dataframe thead th {\n",
       "        text-align: right;\n",
       "    }\n",
       "</style>\n",
       "<table border=\"1\" class=\"dataframe\">\n",
       "  <thead>\n",
       "    <tr style=\"text-align: right;\">\n",
       "      <th>clusters</th>\n",
       "      <th>0</th>\n",
       "      <th>1</th>\n",
       "      <th>2</th>\n",
       "      <th>3</th>\n",
       "    </tr>\n",
       "    <tr>\n",
       "      <th>categories</th>\n",
       "      <th></th>\n",
       "      <th></th>\n",
       "      <th></th>\n",
       "      <th></th>\n",
       "    </tr>\n",
       "  </thead>\n",
       "  <tbody>\n",
       "    <tr>\n",
       "      <th>high</th>\n",
       "      <td>346</td>\n",
       "      <td>1</td>\n",
       "      <td>1</td>\n",
       "      <td>6</td>\n",
       "    </tr>\n",
       "    <tr>\n",
       "      <th>low</th>\n",
       "      <td>2967</td>\n",
       "      <td>0</td>\n",
       "      <td>0</td>\n",
       "      <td>0</td>\n",
       "    </tr>\n",
       "    <tr>\n",
       "      <th>med</th>\n",
       "      <td>2650</td>\n",
       "      <td>0</td>\n",
       "      <td>2</td>\n",
       "      <td>21</td>\n",
       "    </tr>\n",
       "    <tr>\n",
       "      <th>zero</th>\n",
       "      <td>6015</td>\n",
       "      <td>0</td>\n",
       "      <td>0</td>\n",
       "      <td>0</td>\n",
       "    </tr>\n",
       "  </tbody>\n",
       "</table>\n",
       "</div>"
      ],
      "text/plain": [
       "clusters       0  1  2   3\n",
       "categories                \n",
       "high         346  1  1   6\n",
       "low         2967  0  0   0\n",
       "med         2650  0  2  21\n",
       "zero        6015  0  0   0"
      ]
     },
     "execution_count": 37,
     "metadata": {},
     "output_type": "execute_result"
    }
   ],
   "source": [
    "results = y['categories'].to_frame()\n",
    "results['clusters'] = clusters\n",
    "pd.crosstab(results.categories, results.clusters)"
   ]
  },
  {
   "cell_type": "code",
   "execution_count": null,
   "metadata": {},
   "outputs": [],
   "source": []
  },
  {
   "cell_type": "markdown",
   "metadata": {},
   "source": [
    "#### Gaussian Mixture"
   ]
  },
  {
   "cell_type": "code",
   "execution_count": 38,
   "metadata": {},
   "outputs": [],
   "source": [
    "from sklearn.mixture import GaussianMixture"
   ]
  },
  {
   "cell_type": "code",
   "execution_count": 39,
   "metadata": {},
   "outputs": [],
   "source": [
    "gmm = GaussianMixture(n_components=4, random_state=0)"
   ]
  },
  {
   "cell_type": "code",
   "execution_count": 40,
   "metadata": {},
   "outputs": [
    {
     "data": {
      "text/plain": [
       "GaussianMixture(n_components=4, random_state=0)"
      ]
     },
     "execution_count": 40,
     "metadata": {},
     "output_type": "execute_result"
    }
   ],
   "source": [
    "gmm.fit(X)"
   ]
  },
  {
   "cell_type": "code",
   "execution_count": 41,
   "metadata": {},
   "outputs": [],
   "source": [
    "labels = gmm.predict(X)"
   ]
  },
  {
   "cell_type": "code",
   "execution_count": 42,
   "metadata": {},
   "outputs": [
    {
     "data": {
      "text/html": [
       "<div>\n",
       "<style scoped>\n",
       "    .dataframe tbody tr th:only-of-type {\n",
       "        vertical-align: middle;\n",
       "    }\n",
       "\n",
       "    .dataframe tbody tr th {\n",
       "        vertical-align: top;\n",
       "    }\n",
       "\n",
       "    .dataframe thead th {\n",
       "        text-align: right;\n",
       "    }\n",
       "</style>\n",
       "<table border=\"1\" class=\"dataframe\">\n",
       "  <thead>\n",
       "    <tr style=\"text-align: right;\">\n",
       "      <th>labels</th>\n",
       "      <th>0</th>\n",
       "      <th>1</th>\n",
       "      <th>2</th>\n",
       "      <th>3</th>\n",
       "    </tr>\n",
       "    <tr>\n",
       "      <th>categories</th>\n",
       "      <th></th>\n",
       "      <th></th>\n",
       "      <th></th>\n",
       "      <th></th>\n",
       "    </tr>\n",
       "  </thead>\n",
       "  <tbody>\n",
       "    <tr>\n",
       "      <th>high</th>\n",
       "      <td>343</td>\n",
       "      <td>1</td>\n",
       "      <td>3</td>\n",
       "      <td>7</td>\n",
       "    </tr>\n",
       "    <tr>\n",
       "      <th>low</th>\n",
       "      <td>2943</td>\n",
       "      <td>0</td>\n",
       "      <td>4</td>\n",
       "      <td>20</td>\n",
       "    </tr>\n",
       "    <tr>\n",
       "      <th>med</th>\n",
       "      <td>2632</td>\n",
       "      <td>0</td>\n",
       "      <td>14</td>\n",
       "      <td>27</td>\n",
       "    </tr>\n",
       "    <tr>\n",
       "      <th>zero</th>\n",
       "      <td>5983</td>\n",
       "      <td>0</td>\n",
       "      <td>3</td>\n",
       "      <td>29</td>\n",
       "    </tr>\n",
       "  </tbody>\n",
       "</table>\n",
       "</div>"
      ],
      "text/plain": [
       "labels         0  1   2   3\n",
       "categories                 \n",
       "high         343  1   3   7\n",
       "low         2943  0   4  20\n",
       "med         2632  0  14  27\n",
       "zero        5983  0   3  29"
      ]
     },
     "execution_count": 42,
     "metadata": {},
     "output_type": "execute_result"
    }
   ],
   "source": [
    "results = y['categories'].to_frame()\n",
    "results['labels'] = labels\n",
    "pd.crosstab(results.categories, results.labels)"
   ]
  },
  {
   "cell_type": "markdown",
   "metadata": {},
   "source": [
    "#### ridge regression"
   ]
  },
  {
   "cell_type": "code",
   "execution_count": 43,
   "metadata": {},
   "outputs": [],
   "source": [
    "from sklearn.linear_model import Ridge"
   ]
  },
  {
   "cell_type": "code",
   "execution_count": 44,
   "metadata": {},
   "outputs": [
    {
     "data": {
      "text/plain": [
       "{'mean_fit_time': array([0.04653811, 0.04909762, 0.04520925]),\n",
       " 'std_fit_time': array([0.00675742, 0.00072017, 0.00813493]),\n",
       " 'mean_score_time': array([0.01648418, 0.01722423, 0.01214155]),\n",
       " 'std_score_time': array([0.00101516, 0.0011054 , 0.00647132]),\n",
       " 'param_alpha': masked_array(data=[0.5, 1, 1.5],\n",
       "              mask=[False, False, False],\n",
       "        fill_value='?',\n",
       "             dtype=object),\n",
       " 'params': [{'alpha': 0.5}, {'alpha': 1}, {'alpha': 1.5}],\n",
       " 'split0_test_score': array([0.02434031, 0.02441884, 0.0244953 ]),\n",
       " 'split1_test_score': array([0.02322897, 0.0234556 , 0.02367701]),\n",
       " 'split2_test_score': array([0.04226362, 0.04234269, 0.04241513]),\n",
       " 'mean_test_score': array([0.0299443 , 0.03007238, 0.03019581]),\n",
       " 'std_test_score': array([0.00872288, 0.00868533, 0.00864681]),\n",
       " 'rank_test_score': array([3, 2, 1])}"
      ]
     },
     "execution_count": 44,
     "metadata": {},
     "output_type": "execute_result"
    }
   ],
   "source": [
    "param_distributions = dict(alpha = [.5, 1, 1.5])\n",
    "\n",
    "ridge = Ridge()\n",
    "clf = GridSearchCV(ridge, param_distributions, cv=3)\n",
    "search = clf.fit(X, y['all_engagement'])\n",
    "search.cv_results_"
   ]
  },
  {
   "cell_type": "code",
   "execution_count": null,
   "metadata": {},
   "outputs": [],
   "source": []
  },
  {
   "cell_type": "markdown",
   "metadata": {},
   "source": [
    "None of the models seem to be able to go much above 50% performance, suggesting that maybe there is not an underlying pattern to the data. There does not seem to be any point to running any of these models on the test data if they cannot even accurately predict the data they're being trained on."
   ]
  },
  {
   "cell_type": "code",
   "execution_count": null,
   "metadata": {},
   "outputs": [],
   "source": []
  }
 ],
 "metadata": {
  "kernelspec": {
   "display_name": "nlp",
   "language": "python",
   "name": "nlp"
  },
  "language_info": {
   "codemirror_mode": {
    "name": "ipython",
    "version": 3
   },
   "file_extension": ".py",
   "mimetype": "text/x-python",
   "name": "python",
   "nbconvert_exporter": "python",
   "pygments_lexer": "ipython3",
   "version": "3.8.5"
  }
 },
 "nbformat": 4,
 "nbformat_minor": 4
}

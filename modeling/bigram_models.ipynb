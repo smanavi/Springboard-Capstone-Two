{
 "cells": [
  {
   "cell_type": "code",
   "execution_count": 1,
   "metadata": {},
   "outputs": [],
   "source": [
    "import pandas as pd\n",
    "import json\n",
    "import os\n",
    "import numpy as np\n",
    "import matplotlib.pyplot as plt\n",
    "import seaborn as sns\n",
    "\n",
    "idx = pd.IndexSlice\n",
    "data_fol = r\"..\\data_files\""
   ]
  },
  {
   "cell_type": "code",
   "execution_count": 38,
   "metadata": {},
   "outputs": [],
   "source": [
    "X_path = os.path.join(data_fol, 'bigrams_model', \"gram2_X_train_scaled_pca.pkl\")\n",
    "y_path = os.path.join(data_fol, 'bigrams_model', \"gram2_y_train.pkl\")\n",
    "\n",
    "X = pd.read_pickle(X_path)\n",
    "y = pd.read_pickle(y_path)"
   ]
  },
  {
   "cell_type": "code",
   "execution_count": 44,
   "metadata": {},
   "outputs": [],
   "source": [
    "from sklearn.svm import SVR, SVC\n",
    "from sklearn.model_selection import cross_validate, cross_val_score\n",
    "from sklearn.linear_model import Lasso\n",
    "from sklearn.naive_bayes import MultinomialNB\n",
    "from sklearn.model_selection import RandomizedSearchCV, GridSearchCV"
   ]
  },
  {
   "cell_type": "code",
   "execution_count": 4,
   "metadata": {},
   "outputs": [
    {
     "data": {
      "text/plain": [
       "tid\n",
       "1361890179951296512      3.25\n",
       "1358354354462289920    165.00\n",
       "1363916379519336448      0.00\n",
       "1369296990782320648     31.00\n",
       "1369559005811662851      0.00\n",
       "Name: all_engagement, dtype: float64"
      ]
     },
     "execution_count": 4,
     "metadata": {},
     "output_type": "execute_result"
    }
   ],
   "source": [
    "y.head()"
   ]
  },
  {
   "cell_type": "code",
   "execution_count": 5,
   "metadata": {},
   "outputs": [
    {
     "data": {
      "image/png": "[encoded data removed]",
      "text/plain": [
       "<Figure size 432x288 with 1 Axes>"
      ]
     },
     "metadata": {
      "needs_background": "light"
     },
     "output_type": "display_data"
    }
   ],
   "source": [
    "plt.plot(y.sort_values(ascending=True).values)\n",
    "plt.show()"
   ]
  },
  {
   "cell_type": "code",
   "execution_count": 6,
   "metadata": {},
   "outputs": [
    {
     "data": {
      "text/plain": [
       "count    12009.000000\n",
       "mean         8.291177\n",
       "std         29.330109\n",
       "min          0.000000\n",
       "25%          0.000000\n",
       "50%          0.750000\n",
       "75%          4.500000\n",
       "max        463.250000\n",
       "Name: all_engagement, dtype: float64"
      ]
     },
     "execution_count": 6,
     "metadata": {},
     "output_type": "execute_result"
    }
   ],
   "source": [
    "y.describe()"
   ]
  },
  {
   "cell_type": "code",
   "execution_count": 7,
   "metadata": {},
   "outputs": [
    {
     "data": {
      "text/plain": [
       "array([ 4.5 , 35.25])"
      ]
     },
     "execution_count": 7,
     "metadata": {},
     "output_type": "execute_result"
    }
   ],
   "source": [
    "np.percentile(y.values, [75, 95])"
   ]
  },
  {
   "cell_type": "code",
   "execution_count": 8,
   "metadata": {},
   "outputs": [],
   "source": [
    "def map_categories(x):\n",
    "    if x < 1:\n",
    "        return \"zero\"\n",
    "    elif 1 <= x < 4.5:\n",
    "        return \"low\"\n",
    "    elif 4.5 <= x <= 35.25:\n",
    "        return \"med\"\n",
    "    else:\n",
    "        return \"high\"\n",
    "    "
   ]
  },
  {
   "cell_type": "code",
   "execution_count": 39,
   "metadata": {},
   "outputs": [],
   "source": [
    "y_cat = y.apply(lambda x: map_categories(x))"
   ]
  },
  {
   "cell_type": "code",
   "execution_count": 40,
   "metadata": {},
   "outputs": [
    {
     "data": {
      "text/plain": [
       "zero    6015\n",
       "low     2991\n",
       "med     2403\n",
       "high     600\n",
       "Name: all_engagement, dtype: int64"
      ]
     },
     "execution_count": 40,
     "metadata": {},
     "output_type": "execute_result"
    }
   ],
   "source": [
    "y_cat.value_counts()"
   ]
  },
  {
   "cell_type": "markdown",
   "metadata": {},
   "source": [
    "#### Support Vector Classification"
   ]
  },
  {
   "cell_type": "code",
   "execution_count": 11,
   "metadata": {},
   "outputs": [
    {
     "data": {
      "text/plain": [
       "array([0.51311516, 0.5058706 , 0.51486385])"
      ]
     },
     "execution_count": 11,
     "metadata": {},
     "output_type": "execute_result"
    }
   ],
   "source": [
    "svc = SVC()\n",
    "crossval = cross_val_score(svc, X, y['categories'], cv=3)\n",
    "crossval"
   ]
  },
  {
   "cell_type": "code",
   "execution_count": 12,
   "metadata": {},
   "outputs": [
    {
     "data": {
      "text/plain": [
       "array([0.51261554, 0.50562078, 0.5138646 ])"
      ]
     },
     "execution_count": 12,
     "metadata": {},
     "output_type": "execute_result"
    }
   ],
   "source": [
    "svc = SVC(gamma='auto')\n",
    "crossval = cross_val_score(svc, X, y['categories'], cv=3)\n",
    "crossval"
   ]
  },
  {
   "cell_type": "code",
   "execution_count": 17,
   "metadata": {},
   "outputs": [],
   "source": [
    "param_distributions = dict(C=[.6,.8,1,1.2])\n",
    "\n",
    "svc = SVC()\n",
    "clf = GridSearchCV(svc, param_distributions, cv=3)\n",
    "search = clf.fit(X, y['categories'])"
   ]
  },
  {
   "cell_type": "code",
   "execution_count": 24,
   "metadata": {},
   "outputs": [
    {
     "data": {
      "text/plain": [
       "{'mean_fit_time': array([13.83187048, 14.28327918, 14.7785933 , 14.78392752]),\n",
       " 'std_fit_time': array([1.19074224, 0.36370236, 0.67472446, 1.51664576]),\n",
       " 'mean_score_time': array([7.66266481, 7.45958177, 9.21878401, 7.4580578 ]),\n",
       " 'std_score_time': array([0.18544233, 0.15880022, 1.30577416, 0.68666271]),\n",
       " 'param_C': masked_array(data=[0.6, 0.8, 1, 1.2],\n",
       "              mask=[False, False, False, False],\n",
       "        fill_value='?',\n",
       "             dtype=object),\n",
       " 'params': [{'C': 0.6}, {'C': 0.8}, {'C': 1}, {'C': 1.2}],\n",
       " 'split0_test_score': array([0.51736198, 0.51661254, 0.51311516, 0.51211591]),\n",
       " 'split1_test_score': array([0.50711966, 0.50612041, 0.5058706 , 0.50612041]),\n",
       " 'split2_test_score': array([0.51561329, 0.51536348, 0.51486385, 0.51411441]),\n",
       " 'mean_test_score': array([0.51336498, 0.51269881, 0.5112832 , 0.51078358]),\n",
       " 'std_test_score': array([0.00447344, 0.0046795 , 0.0038933 , 0.0033968 ]),\n",
       " 'rank_test_score': array([1, 2, 3, 4])}"
      ]
     },
     "execution_count": 24,
     "metadata": {},
     "output_type": "execute_result"
    }
   ],
   "source": [
    "search.cv_results_"
   ]
  },
  {
   "cell_type": "code",
   "execution_count": 25,
   "metadata": {},
   "outputs": [],
   "source": [
    "param_distributions = dict(kernel = ['poly', 'rbf', 'sigmoid',])\n",
    "\n",
    "svc = SVC()\n",
    "clf = GridSearchCV(svc, param_distributions, cv=3)\n",
    "search = clf.fit(X, y['categories'])"
   ]
  },
  {
   "cell_type": "code",
   "execution_count": 26,
   "metadata": {},
   "outputs": [
    {
     "data": {
      "text/plain": [
       "{'mean_fit_time': array([15.94440905, 14.86807688, 53.96363036]),\n",
       " 'std_fit_time': array([ 0.24136008,  0.73589307, 49.20670094]),\n",
       " 'mean_score_time': array([2.87916613, 8.12712995, 3.11866252]),\n",
       " 'std_score_time': array([0.22514256, 0.12947434, 0.57878802]),\n",
       " 'param_kernel': masked_array(data=['poly', 'rbf', 'sigmoid'],\n",
       "              mask=[False, False, False],\n",
       "        fill_value='?',\n",
       "             dtype=object),\n",
       " 'params': [{'kernel': 'poly'}, {'kernel': 'rbf'}, {'kernel': 'sigmoid'}],\n",
       " 'split0_test_score': array([0.49313015, 0.51311516, 0.41868599]),\n",
       " 'split1_test_score': array([0.49163128, 0.5058706 , 0.40869348]),\n",
       " 'split2_test_score': array([0.4961279 , 0.51486385, 0.42817887]),\n",
       " 'mean_test_score': array([0.49362978, 0.5112832 , 0.41851944]),\n",
       " 'std_test_score': array([0.00186943, 0.0038933 , 0.00795575]),\n",
       " 'rank_test_score': array([2, 1, 3])}"
      ]
     },
     "execution_count": 26,
     "metadata": {},
     "output_type": "execute_result"
    }
   ],
   "source": [
    "search.cv_results_"
   ]
  },
  {
   "cell_type": "code",
   "execution_count": 28,
   "metadata": {},
   "outputs": [
    {
     "data": {
      "text/plain": [
       "{'kernel': 'rbf'}"
      ]
     },
     "execution_count": 28,
     "metadata": {},
     "output_type": "execute_result"
    }
   ],
   "source": [
    "search.best_params_"
   ]
  },
  {
   "cell_type": "code",
   "execution_count": 29,
   "metadata": {},
   "outputs": [
    {
     "data": {
      "text/plain": [
       "0.5112832042634691"
      ]
     },
     "execution_count": 29,
     "metadata": {},
     "output_type": "execute_result"
    }
   ],
   "source": [
    "search.best_score_"
   ]
  },
  {
   "cell_type": "code",
   "execution_count": 30,
   "metadata": {},
   "outputs": [],
   "source": [
    "param_distributions = dict(gamma = ['scale', 'auto'])\n",
    "\n",
    "svc = SVC(C=.6, kernel='rbf')\n",
    "clf = GridSearchCV(svc, param_distributions, cv=3)\n",
    "search = clf.fit(X, y['categories'])"
   ]
  },
  {
   "cell_type": "code",
   "execution_count": 31,
   "metadata": {},
   "outputs": [
    {
     "data": {
      "text/plain": [
       "{'mean_fit_time': array([14.8089234 , 16.14172022]),\n",
       " 'std_fit_time': array([1.05134109, 0.5491882 ]),\n",
       " 'mean_score_time': array([9.68356331, 7.90214642]),\n",
       " 'std_score_time': array([0.58455317, 0.53488863]),\n",
       " 'param_gamma': masked_array(data=['scale', 'auto'],\n",
       "              mask=[False, False],\n",
       "        fill_value='?',\n",
       "             dtype=object),\n",
       " 'params': [{'gamma': 'scale'}, {'gamma': 'auto'}],\n",
       " 'split0_test_score': array([0.51736198, 0.51561329]),\n",
       " 'split1_test_score': array([0.50711966, 0.5058706 ]),\n",
       " 'split2_test_score': array([0.51561329, 0.5158631 ]),\n",
       " 'mean_test_score': array([0.51336498, 0.512449  ]),\n",
       " 'std_test_score': array([0.00447344, 0.00465275]),\n",
       " 'rank_test_score': array([1, 2])}"
      ]
     },
     "execution_count": 31,
     "metadata": {},
     "output_type": "execute_result"
    }
   ],
   "source": [
    "search.cv_results_"
   ]
  },
  {
   "cell_type": "code",
   "execution_count": 32,
   "metadata": {},
   "outputs": [
    {
     "data": {
      "text/plain": [
       "{'gamma': 'scale'}"
      ]
     },
     "execution_count": 32,
     "metadata": {},
     "output_type": "execute_result"
    }
   ],
   "source": [
    "search.best_params_"
   ]
  },
  {
   "cell_type": "code",
   "execution_count": 45,
   "metadata": {},
   "outputs": [
    {
     "data": {
      "text/plain": [
       "array([-0.04409429, -0.05133614, -0.04152926])"
      ]
     },
     "execution_count": 45,
     "metadata": {},
     "output_type": "execute_result"
    }
   ],
   "source": [
    "svr = SVR()\n",
    "crossval = cross_val_score(svr, X, y, cv=3)\n",
    "crossval"
   ]
  },
  {
   "cell_type": "markdown",
   "metadata": {},
   "source": [
    "#### Multinomial NB"
   ]
  },
  {
   "cell_type": "code",
   "execution_count": 50,
   "metadata": {},
   "outputs": [
    {
     "data": {
      "text/plain": [
       "-33.655362535703894"
      ]
     },
     "execution_count": 50,
     "metadata": {},
     "output_type": "execute_result"
    }
   ],
   "source": [
    "X.values.min()"
   ]
  },
  {
   "cell_type": "code",
   "execution_count": 51,
   "metadata": {},
   "outputs": [],
   "source": [
    "X_noneg = X.apply(lambda x: x+34)"
   ]
  },
  {
   "cell_type": "code",
   "execution_count": 52,
   "metadata": {},
   "outputs": [
    {
     "data": {
      "text/plain": [
       "0.3446374642961061"
      ]
     },
     "execution_count": 52,
     "metadata": {},
     "output_type": "execute_result"
    }
   ],
   "source": [
    "X_noneg.values.min()"
   ]
  },
  {
   "cell_type": "code",
   "execution_count": 53,
   "metadata": {},
   "outputs": [
    {
     "data": {
      "text/plain": [
       "MultinomialNB()"
      ]
     },
     "execution_count": 53,
     "metadata": {},
     "output_type": "execute_result"
    }
   ],
   "source": [
    "mnb = MultinomialNB()\n",
    "mnb.fit(X_noneg,y_cat)"
   ]
  },
  {
   "cell_type": "code",
   "execution_count": 55,
   "metadata": {},
   "outputs": [
    {
     "data": {
      "text/plain": [
       "0.5008743442418186"
      ]
     },
     "execution_count": 55,
     "metadata": {},
     "output_type": "execute_result"
    }
   ],
   "source": [
    "mnb.score(X_noneg,y_cat)"
   ]
  },
  {
   "cell_type": "code",
   "execution_count": 56,
   "metadata": {},
   "outputs": [],
   "source": [
    "from sklearn.ensemble import RandomForestClassifier"
   ]
  },
  {
   "cell_type": "code",
   "execution_count": 58,
   "metadata": {},
   "outputs": [],
   "source": [
    "param_distributions = dict(max_depth = [5,10,15])\n",
    "\n",
    "rf = RandomForestClassifier(n_estimators=30)\n",
    "clf = GridSearchCV(rf, param_distributions, cv=3)\n",
    "search = clf.fit(X, y_cat)"
   ]
  },
  {
   "cell_type": "code",
   "execution_count": 59,
   "metadata": {},
   "outputs": [
    {
     "data": {
      "text/plain": [
       "{'mean_fit_time': array([0.93549848, 1.69712822, 1.96207412]),\n",
       " 'std_fit_time': array([0.03638173, 0.06171808, 0.0470537 ]),\n",
       " 'mean_score_time': array([0.03257966, 0.04587817, 0.05679345]),\n",
       " 'std_score_time': array([0.00981618, 0.01694438, 0.02313878]),\n",
       " 'param_max_depth': masked_array(data=[5, 10, 15],\n",
       "              mask=[False, False, False],\n",
       "        fill_value='?',\n",
       "             dtype=object),\n",
       " 'params': [{'max_depth': 5}, {'max_depth': 10}, {'max_depth': 15}],\n",
       " 'split0_test_score': array([0.53260055, 0.51686235, 0.48838371]),\n",
       " 'split1_test_score': array([0.52685486, 0.51811142, 0.49337997]),\n",
       " 'split2_test_score': array([0.52735448, 0.51961029, 0.50437172]),\n",
       " 'mean_test_score': array([0.52893663, 0.51819469, 0.49537847]),\n",
       " 'std_test_score': array([0.0025988 , 0.00112339, 0.0066783 ]),\n",
       " 'rank_test_score': array([1, 2, 3])}"
      ]
     },
     "execution_count": 59,
     "metadata": {},
     "output_type": "execute_result"
    }
   ],
   "source": [
    "search.cv_results_"
   ]
  },
  {
   "cell_type": "code",
   "execution_count": 60,
   "metadata": {},
   "outputs": [],
   "source": [
    "param_distributions = dict(max_depth = [5,20])\n",
    "\n",
    "rf = RandomForestClassifier(n_estimators=100)\n",
    "clf = GridSearchCV(rf, param_distributions, cv=3)\n",
    "search = clf.fit(X, y_cat)"
   ]
  },
  {
   "cell_type": "code",
   "execution_count": 61,
   "metadata": {},
   "outputs": [
    {
     "data": {
      "text/plain": [
       "{'mean_fit_time': array([ 2.60638698, 11.76140285]),\n",
       " 'std_fit_time': array([0.08245327, 2.89582593]),\n",
       " 'mean_score_time': array([0.0513049 , 0.25352804]),\n",
       " 'std_score_time': array([0.00440495, 0.01956199]),\n",
       " 'param_max_depth': masked_array(data=[5, 20],\n",
       "              mask=[False, False],\n",
       "        fill_value='?',\n",
       "             dtype=object),\n",
       " 'params': [{'max_depth': 5}, {'max_depth': 20}],\n",
       " 'split0_test_score': array([0.52885336, 0.4801399 ]),\n",
       " 'split1_test_score': array([0.52460655, 0.47814139]),\n",
       " 'split2_test_score': array([0.52710467, 0.48688484]),\n",
       " 'mean_test_score': array([0.52685486, 0.48172204]),\n",
       " 'std_test_score': array([0.00174273, 0.00374071]),\n",
       " 'rank_test_score': array([1, 2])}"
      ]
     },
     "execution_count": 61,
     "metadata": {},
     "output_type": "execute_result"
    }
   ],
   "source": [
    "search.cv_results_"
   ]
  },
  {
   "cell_type": "code",
   "execution_count": 62,
   "metadata": {},
   "outputs": [],
   "source": [
    "param_distributions = dict(max_depth = [4,5,6])\n",
    "\n",
    "rf = RandomForestClassifier(n_estimators=100, criterion='entropy')\n",
    "clf = GridSearchCV(rf, param_distributions, cv=3)\n",
    "search = clf.fit(X, y_cat)"
   ]
  },
  {
   "cell_type": "code",
   "execution_count": 64,
   "metadata": {},
   "outputs": [
    {
     "data": {
      "text/plain": [
       "{'mean_fit_time': array([ 8.27630909, 10.47319221, 12.52640375]),\n",
       " 'std_fit_time': array([0.4528509 , 0.67815479, 0.2557969 ]),\n",
       " 'mean_score_time': array([0.10269634, 0.11011227, 0.12393888]),\n",
       " 'std_score_time': array([0.01461381, 0.01365805, 0.00604498]),\n",
       " 'param_max_depth': masked_array(data=[4, 5, 6],\n",
       "              mask=[False, False, False],\n",
       "        fill_value='?',\n",
       "             dtype=object),\n",
       " 'params': [{'max_depth': 4}, {'max_depth': 5}, {'max_depth': 6}],\n",
       " 'split0_test_score': array([0.52610542, 0.52735448, 0.53085186]),\n",
       " 'split1_test_score': array([0.52385711, 0.52635523, 0.52610542]),\n",
       " 'split2_test_score': array([0.52510617, 0.52610542, 0.52810392]),\n",
       " 'mean_test_score': array([0.5250229 , 0.52660505, 0.52835373]),\n",
       " 'std_test_score': array([0.00091976, 0.00053966, 0.00194576]),\n",
       " 'rank_test_score': array([3, 2, 1])}"
      ]
     },
     "execution_count": 64,
     "metadata": {},
     "output_type": "execute_result"
    }
   ],
   "source": [
    "search.cv_results_"
   ]
  },
  {
   "cell_type": "markdown",
   "metadata": {},
   "source": [
    "#### kmeans"
   ]
  },
  {
   "cell_type": "code",
   "execution_count": 66,
   "metadata": {},
   "outputs": [],
   "source": [
    "from sklearn.cluster import KMeans"
   ]
  },
  {
   "cell_type": "code",
   "execution_count": 69,
   "metadata": {},
   "outputs": [
    {
     "data": {
      "text/plain": [
       "array([-470619.36201265, -518136.983882  , -524078.54905198])"
      ]
     },
     "execution_count": 69,
     "metadata": {},
     "output_type": "execute_result"
    }
   ],
   "source": [
    "kmeans = KMeans(n_clusters=4, random_state=0)\n",
    "crossval = cross_val_score(kmeans, X, y_cat, cv=3)\n",
    "crossval"
   ]
  },
  {
   "cell_type": "code",
   "execution_count": 72,
   "metadata": {},
   "outputs": [
    {
     "data": {
      "text/plain": [
       "KMeans(n_clusters=4, random_state=0)"
      ]
     },
     "execution_count": 72,
     "metadata": {},
     "output_type": "execute_result"
    }
   ],
   "source": [
    "kmeans.fit(X)"
   ]
  },
  {
   "cell_type": "code",
   "execution_count": 73,
   "metadata": {},
   "outputs": [
    {
     "data": {
      "text/plain": [
       "array([0, 0, 0, ..., 0, 0, 0])"
      ]
     },
     "execution_count": 73,
     "metadata": {},
     "output_type": "execute_result"
    }
   ],
   "source": [
    "kmeans.labels_"
   ]
  },
  {
   "cell_type": "code",
   "execution_count": 76,
   "metadata": {},
   "outputs": [
    {
     "data": {
      "text/html": [
       "<div>\n",
       "<style scoped>\n",
       "    .dataframe tbody tr th:only-of-type {\n",
       "        vertical-align: middle;\n",
       "    }\n",
       "\n",
       "    .dataframe tbody tr th {\n",
       "        vertical-align: top;\n",
       "    }\n",
       "\n",
       "    .dataframe thead th {\n",
       "        text-align: right;\n",
       "    }\n",
       "</style>\n",
       "<table border=\"1\" class=\"dataframe\">\n",
       "  <thead>\n",
       "    <tr style=\"text-align: right;\">\n",
       "      <th></th>\n",
       "      <th>all_engagement</th>\n",
       "      <th>clusters</th>\n",
       "    </tr>\n",
       "    <tr>\n",
       "      <th>tid</th>\n",
       "      <th></th>\n",
       "      <th></th>\n",
       "    </tr>\n",
       "  </thead>\n",
       "  <tbody>\n",
       "    <tr>\n",
       "      <th>1361890179951296512</th>\n",
       "      <td>low</td>\n",
       "      <td>0</td>\n",
       "    </tr>\n",
       "    <tr>\n",
       "      <th>1358354354462289920</th>\n",
       "      <td>high</td>\n",
       "      <td>0</td>\n",
       "    </tr>\n",
       "    <tr>\n",
       "      <th>1363916379519336448</th>\n",
       "      <td>zero</td>\n",
       "      <td>0</td>\n",
       "    </tr>\n",
       "    <tr>\n",
       "      <th>1369296990782320648</th>\n",
       "      <td>med</td>\n",
       "      <td>0</td>\n",
       "    </tr>\n",
       "    <tr>\n",
       "      <th>1369559005811662851</th>\n",
       "      <td>zero</td>\n",
       "      <td>0</td>\n",
       "    </tr>\n",
       "  </tbody>\n",
       "</table>\n",
       "</div>"
      ],
      "text/plain": [
       "                    all_engagement  clusters\n",
       "tid                                         \n",
       "1361890179951296512            low         0\n",
       "1358354354462289920           high         0\n",
       "1363916379519336448           zero         0\n",
       "1369296990782320648            med         0\n",
       "1369559005811662851           zero         0"
      ]
     },
     "execution_count": 76,
     "metadata": {},
     "output_type": "execute_result"
    }
   ],
   "source": [
    "results = y_cat.to_frame()\n",
    "results['clusters'] = kmeans.labels_\n",
    "results.head()"
   ]
  },
  {
   "cell_type": "code",
   "execution_count": 80,
   "metadata": {},
   "outputs": [
    {
     "data": {
      "text/html": [
       "<div>\n",
       "<style scoped>\n",
       "    .dataframe tbody tr th:only-of-type {\n",
       "        vertical-align: middle;\n",
       "    }\n",
       "\n",
       "    .dataframe tbody tr th {\n",
       "        vertical-align: top;\n",
       "    }\n",
       "\n",
       "    .dataframe thead th {\n",
       "        text-align: right;\n",
       "    }\n",
       "</style>\n",
       "<table border=\"1\" class=\"dataframe\">\n",
       "  <thead>\n",
       "    <tr style=\"text-align: right;\">\n",
       "      <th>clusters</th>\n",
       "      <th>0</th>\n",
       "      <th>1</th>\n",
       "      <th>2</th>\n",
       "      <th>3</th>\n",
       "    </tr>\n",
       "    <tr>\n",
       "      <th>all_engagement</th>\n",
       "      <th></th>\n",
       "      <th></th>\n",
       "      <th></th>\n",
       "      <th></th>\n",
       "    </tr>\n",
       "  </thead>\n",
       "  <tbody>\n",
       "    <tr>\n",
       "      <th>high</th>\n",
       "      <td>599</td>\n",
       "      <td>0</td>\n",
       "      <td>0</td>\n",
       "      <td>1</td>\n",
       "    </tr>\n",
       "    <tr>\n",
       "      <th>low</th>\n",
       "      <td>2972</td>\n",
       "      <td>0</td>\n",
       "      <td>10</td>\n",
       "      <td>9</td>\n",
       "    </tr>\n",
       "    <tr>\n",
       "      <th>med</th>\n",
       "      <td>2395</td>\n",
       "      <td>0</td>\n",
       "      <td>3</td>\n",
       "      <td>5</td>\n",
       "    </tr>\n",
       "    <tr>\n",
       "      <th>zero</th>\n",
       "      <td>5882</td>\n",
       "      <td>72</td>\n",
       "      <td>50</td>\n",
       "      <td>11</td>\n",
       "    </tr>\n",
       "  </tbody>\n",
       "</table>\n",
       "</div>"
      ],
      "text/plain": [
       "clusters           0   1   2   3\n",
       "all_engagement                  \n",
       "high             599   0   0   1\n",
       "low             2972   0  10   9\n",
       "med             2395   0   3   5\n",
       "zero            5882  72  50  11"
      ]
     },
     "execution_count": 80,
     "metadata": {},
     "output_type": "execute_result"
    }
   ],
   "source": [
    "pd.crosstab(results.all_engagement, results.clusters)"
   ]
  },
  {
   "cell_type": "code",
   "execution_count": 81,
   "metadata": {},
   "outputs": [],
   "source": [
    "from sklearn.mixture import GaussianMixture"
   ]
  },
  {
   "cell_type": "code",
   "execution_count": 84,
   "metadata": {},
   "outputs": [],
   "source": [
    "gmm = GaussianMixture(n_components=4, random_state=0)"
   ]
  },
  {
   "cell_type": "code",
   "execution_count": 85,
   "metadata": {},
   "outputs": [
    {
     "data": {
      "text/plain": [
       "GaussianMixture(n_components=4, random_state=0)"
      ]
     },
     "execution_count": 85,
     "metadata": {},
     "output_type": "execute_result"
    }
   ],
   "source": [
    "gmm.fit(X)"
   ]
  },
  {
   "cell_type": "code",
   "execution_count": 87,
   "metadata": {},
   "outputs": [
    {
     "data": {
      "text/plain": [
       "array([[ 2.92683077e-01,  3.38638424e-01, -2.12292482e-01,\n",
       "         1.09359034e-01,  2.45547349e-01, -8.57480200e-02,\n",
       "        -5.14627492e-02, -2.22024233e-02,  2.27211422e-01,\n",
       "        -2.48225151e-02,  9.08840558e-03, -1.70125229e-01,\n",
       "         1.43603212e-01,  9.14918061e-02,  6.30571580e-03,\n",
       "         7.85446972e-02,  1.80668968e-02,  2.21463786e-02,\n",
       "         1.25982060e-02, -6.87026347e-02,  9.37797549e-03,\n",
       "         4.85540581e-02,  4.63523232e-02,  5.34004590e-02,\n",
       "         7.40226410e-02,  5.42549046e-02,  1.34658882e-02,\n",
       "        -2.67378464e-02, -3.88343652e-02,  5.54953888e-02,\n",
       "         7.68580906e-03, -2.57182254e-02, -1.97989788e-02,\n",
       "        -3.47529931e-02, -5.97405295e-03, -2.24197173e-02,\n",
       "        -3.20581913e-04,  5.80419189e-03,  3.60620246e-03,\n",
       "        -1.50390701e-02, -3.04904683e-02,  3.59302704e-03,\n",
       "        -1.67052979e-02, -5.90356233e-02, -2.11271581e-02,\n",
       "        -2.25033110e-03, -1.33706014e-02,  5.75278572e-02,\n",
       "         1.63541401e-03,  2.17061686e-02,  1.11508606e-02,\n",
       "         4.27177270e-02, -2.30954846e-02,  5.35624435e-02,\n",
       "         1.39635692e-02, -6.74005006e-02, -2.63457663e-02,\n",
       "        -2.30479071e-02,  5.02606769e-03,  2.11768942e-02,\n",
       "         2.69767202e-02, -1.91775086e-02, -5.67140911e-02,\n",
       "        -4.63070671e-02,  7.05285858e-03, -3.43220897e-02,\n",
       "        -3.89455808e-02, -1.50332737e-02, -1.41152326e-02,\n",
       "        -1.11980545e-03,  2.58117631e-02, -4.12274179e-02,\n",
       "        -1.93899505e-02, -1.89998771e-02,  7.26298231e-02,\n",
       "        -1.12551845e-02,  4.86311613e-02,  9.93400947e-03,\n",
       "         1.71148513e-02, -4.59163246e-02, -1.16704233e-02,\n",
       "        -1.99999498e-02, -2.79578931e-02,  1.95891325e-02,\n",
       "        -6.11582467e-02, -2.30087031e-02, -2.20707610e-02,\n",
       "        -3.69603466e-02,  2.03324546e-02,  9.98716410e-02,\n",
       "         7.54081676e-02,  1.00988272e-02,  4.39324775e-04,\n",
       "        -7.18960740e-03, -3.01569147e-02, -3.43382009e-02,\n",
       "        -8.65937823e-03, -7.54087643e-02, -3.45670244e-03,\n",
       "         4.13055027e-02, -9.96638168e-03,  3.66838372e-02,\n",
       "        -4.47646670e-03,  2.22282919e-02, -4.78363909e-02,\n",
       "        -7.01157224e-02,  1.22246569e-01],\n",
       "       [-4.14744196e-01, -7.21150325e-01,  1.76275684e+01,\n",
       "         1.47107666e-02, -3.24467486e-02, -1.33790528e-01,\n",
       "         2.28731293e+00,  2.07211446e-03, -1.26002206e-01,\n",
       "         1.72632705e+00,  3.34811692e-02,  8.19203750e-02,\n",
       "        -1.25957987e-01,  9.09026480e-02, -1.07291608e-01,\n",
       "        -2.04203453e-01, -2.07853281e-01, -5.20227537e-02,\n",
       "        -4.51824898e-03,  1.03891448e+00,  4.28599075e-01,\n",
       "        -5.79752082e-01,  1.72714380e+00,  1.20580025e-01,\n",
       "        -6.73260565e-02, -6.53344454e-01, -4.96824529e-02,\n",
       "         1.60838753e-01,  1.54716912e-01,  1.28707305e-01,\n",
       "         2.12228371e-01,  4.44678985e-01, -3.51044599e-01,\n",
       "        -9.53859261e-02,  1.09591906e-01, -1.91851741e-01,\n",
       "         1.32777012e-01, -6.45451077e-02, -1.25019489e-01,\n",
       "         2.08513730e-01,  3.76071512e-01, -1.56801525e-01,\n",
       "         8.81873873e-02, -4.85837411e-02,  2.78857625e-02,\n",
       "        -1.63917184e-02,  7.06036858e-02, -1.13245979e-01,\n",
       "        -1.97921537e-01, -1.51987417e-02, -3.93148519e-02,\n",
       "         1.18701207e-01,  3.80181272e-02,  1.10399756e-01,\n",
       "         3.40828510e-01,  2.05887042e-01, -1.91982101e-01,\n",
       "        -1.99114455e-01, -1.13932035e-01,  1.22918834e-01,\n",
       "        -1.93979779e-01,  1.29458132e-01, -2.70213954e-01,\n",
       "        -1.45690499e-01,  1.87326628e-01,  4.75131673e-01,\n",
       "        -2.19365606e-02,  6.85331199e-02,  3.33025595e-01,\n",
       "         1.65495755e-02, -3.61757111e-01, -7.52351067e-02,\n",
       "         1.33979350e-01,  2.69128058e-02,  1.41355943e-01,\n",
       "        -2.17787337e-01,  1.02060361e-01,  1.09203015e-01,\n",
       "        -4.66713532e-02,  6.20487650e-02,  9.02829493e-02,\n",
       "        -3.93344339e-01, -1.18525142e-02,  5.95111708e-01,\n",
       "         4.66129901e-01,  6.50123353e-01, -1.52886921e-01,\n",
       "        -1.88526715e-02, -3.65840257e-01,  7.37668192e-01,\n",
       "         1.28254301e-01, -2.44002755e-01, -7.58024605e-02,\n",
       "        -3.00732637e-01, -2.63484591e-01,  4.09765630e-01,\n",
       "        -4.71499907e-01, -3.05556312e-01, -2.26119786e-01,\n",
       "        -3.90305991e-02,  8.41838904e-01,  2.56590194e-01,\n",
       "         8.09514936e-02, -6.55860430e-01,  3.31630570e-01,\n",
       "         2.11093139e-01,  2.45765531e-01],\n",
       "       [-2.51360232e-01, -3.75596372e-01, -2.97105142e-01,\n",
       "        -6.10779739e-02, -6.47101408e-01,  3.20406199e+01,\n",
       "         1.34504029e+00, -9.58924340e-01,  2.11197936e+00,\n",
       "         1.48781781e-01, -1.62122430e-01, -7.12777592e-01,\n",
       "         5.43753206e-01,  3.21572178e-01,  2.49680919e-01,\n",
       "         2.56558325e-01, -1.46739123e-01,  2.33688089e-01,\n",
       "         2.81682333e-01,  1.15017030e-02, -1.89634832e-02,\n",
       "         1.27651003e-01,  3.24055853e-01, -2.85386225e-02,\n",
       "         2.12615095e-01,  9.45487570e-02,  1.64112739e-01,\n",
       "        -2.79247530e-02,  1.18078743e-01, -1.34481011e-02,\n",
       "         5.06535456e-02,  1.27899555e-01, -4.16879249e-01,\n",
       "         9.07685930e-02, -2.44777001e-01, -1.19179230e-01,\n",
       "         5.19541165e-02,  9.17412059e-02,  1.98521516e-01,\n",
       "        -5.66980758e-02,  5.21129301e-02,  1.41117403e-01,\n",
       "         6.77637949e-02, -1.02293364e-01, -9.76317830e-02,\n",
       "         9.13978905e-02,  9.71597964e-02,  1.55978254e-01,\n",
       "        -3.97246089e-02,  1.03588048e-02,  4.34653432e-01,\n",
       "         4.41250525e-01,  7.35192089e-02,  3.38713186e-01,\n",
       "        -9.60181960e-02,  4.57694825e-02,  5.62875731e-02,\n",
       "        -2.52141332e-01,  2.50927888e-01, -2.22577764e-01,\n",
       "        -6.22983934e-02, -1.11649219e-02, -1.03562753e-02,\n",
       "         1.03089653e-01, -4.00784401e-01, -7.64990985e-02,\n",
       "         6.36520033e-02,  1.36813130e-01, -1.24054736e-01,\n",
       "        -2.97381561e-01,  1.37620539e-01, -2.49168252e-01,\n",
       "        -2.80188773e-01,  4.75310545e-01,  2.63224925e-01,\n",
       "         1.83047981e-01, -4.70438684e-01, -2.53516811e-02,\n",
       "         1.74586216e-01, -3.68173976e-02, -1.09390797e-01,\n",
       "         1.24602633e-01,  6.33927507e-01, -4.43879010e-02,\n",
       "         3.86243407e-01, -5.18459510e-01, -4.86173248e-03,\n",
       "        -3.41083746e-02,  7.71973891e-02, -7.34695141e-02,\n",
       "        -2.68906756e-01,  3.31857604e-01,  1.65666244e-01,\n",
       "         7.24332998e-02, -2.39404187e-01, -4.17089016e-01,\n",
       "        -8.76054336e-01, -6.90786771e-01,  2.59153739e-01,\n",
       "        -3.32639485e-01,  2.07588829e-01,  2.05224516e-01,\n",
       "         1.27481888e-01,  3.12651904e-01, -2.79410064e-01,\n",
       "        -7.32198854e-02,  1.78662726e-01],\n",
       "       [-2.41998050e-01, -2.74615889e-01, -1.87056369e-01,\n",
       "        -9.41071078e-02, -2.08084533e-01, -3.91013535e-02,\n",
       "        -8.70413556e-03,  2.25050484e-02, -2.00311096e-01,\n",
       "        -1.54946250e-02, -7.93237643e-03,  1.47110103e-01,\n",
       "        -1.22772627e-01, -8.17292830e-02, -4.06631139e-03,\n",
       "        -6.41587910e-02, -1.06325417e-02, -1.87892335e-02,\n",
       "        -1.17525214e-02,  3.71791395e-02, -1.70058126e-02,\n",
       "        -3.00136322e-02, -7.73348396e-02, -4.83418249e-02,\n",
       "        -6.29905078e-02, -3.32479346e-02, -1.11245482e-02,\n",
       "         1.97060312e-02,  2.97074549e-02, -5.03682265e-02,\n",
       "        -1.12528136e-02,  1.22989931e-02,  2.59072343e-02,\n",
       "         3.15558898e-02,  3.71510933e-03,  2.37387238e-02,\n",
       "        -2.70368679e-03, -3.96393703e-03, -1.18810084e-03,\n",
       "         8.74976947e-03,  1.81178559e-02, -3.01348044e-04,\n",
       "         1.22630864e-02,  5.21448531e-02,  1.79294740e-02,\n",
       "         1.94945910e-03,  9.65980796e-03, -4.76396781e-02,\n",
       "         2.89890453e-03, -1.83790552e-02, -1.03286371e-02,\n",
       "        -4.08136122e-02,  1.87909602e-02, -4.95924366e-02,\n",
       "        -1.88245720e-02,  5.34514014e-02,  2.64835150e-02,\n",
       "         2.49113558e-02, -2.83104873e-03, -1.99874531e-02,\n",
       "        -1.88889529e-02,  1.38055819e-02,  5.44772273e-02,\n",
       "         4.25024141e-02, -8.55583541e-03,  1.97932786e-02,\n",
       "         3.37138460e-02,  1.09896699e-02,  5.58060391e-03,\n",
       "         1.68798790e-03, -1.50811971e-02,  3.79252153e-02,\n",
       "         1.48640590e-02,  1.40533294e-02, -6.63635133e-02,\n",
       "         1.35949405e-02, -4.22573563e-02, -1.07451048e-02,\n",
       "        -1.43627479e-02,  3.83034376e-02,  8.52978545e-03,\n",
       "         2.50152214e-02,  2.19973640e-02, -2.91939281e-02,\n",
       "         4.13841249e-02,  7.98253941e-03,  2.22068675e-02,\n",
       "         3.22950713e-02, -1.00666036e-02, -1.01106929e-01,\n",
       "        -6.65561857e-02, -4.74938490e-03,  6.18256027e-04,\n",
       "         1.22429101e-02,  3.23306083e-02,  2.24107102e-02,\n",
       "         2.05201586e-02,  7.37481973e-02,  6.79096000e-03,\n",
       "        -3.34900425e-02, -9.88155514e-03, -3.76736221e-02,\n",
       "         1.68632943e-03, -6.44822022e-03,  3.51613873e-02,\n",
       "         5.61056990e-02, -1.10910211e-01]])"
      ]
     },
     "execution_count": 87,
     "metadata": {},
     "output_type": "execute_result"
    }
   ],
   "source": [
    "gmm.means_"
   ]
  },
  {
   "cell_type": "code",
   "execution_count": 89,
   "metadata": {},
   "outputs": [],
   "source": [
    "labels = gmm.predict(X)"
   ]
  },
  {
   "cell_type": "code",
   "execution_count": 90,
   "metadata": {},
   "outputs": [
    {
     "data": {
      "text/html": [
       "<div>\n",
       "<style scoped>\n",
       "    .dataframe tbody tr th:only-of-type {\n",
       "        vertical-align: middle;\n",
       "    }\n",
       "\n",
       "    .dataframe tbody tr th {\n",
       "        vertical-align: top;\n",
       "    }\n",
       "\n",
       "    .dataframe thead th {\n",
       "        text-align: right;\n",
       "    }\n",
       "</style>\n",
       "<table border=\"1\" class=\"dataframe\">\n",
       "  <thead>\n",
       "    <tr style=\"text-align: right;\">\n",
       "      <th></th>\n",
       "      <th>all_engagement</th>\n",
       "      <th>clusters</th>\n",
       "    </tr>\n",
       "    <tr>\n",
       "      <th>tid</th>\n",
       "      <th></th>\n",
       "      <th></th>\n",
       "    </tr>\n",
       "  </thead>\n",
       "  <tbody>\n",
       "    <tr>\n",
       "      <th>1361890179951296512</th>\n",
       "      <td>low</td>\n",
       "      <td>3</td>\n",
       "    </tr>\n",
       "    <tr>\n",
       "      <th>1358354354462289920</th>\n",
       "      <td>high</td>\n",
       "      <td>0</td>\n",
       "    </tr>\n",
       "    <tr>\n",
       "      <th>1363916379519336448</th>\n",
       "      <td>zero</td>\n",
       "      <td>3</td>\n",
       "    </tr>\n",
       "    <tr>\n",
       "      <th>1369296990782320648</th>\n",
       "      <td>med</td>\n",
       "      <td>0</td>\n",
       "    </tr>\n",
       "    <tr>\n",
       "      <th>1369559005811662851</th>\n",
       "      <td>zero</td>\n",
       "      <td>0</td>\n",
       "    </tr>\n",
       "  </tbody>\n",
       "</table>\n",
       "</div>"
      ],
      "text/plain": [
       "                    all_engagement  clusters\n",
       "tid                                         \n",
       "1361890179951296512            low         3\n",
       "1358354354462289920           high         0\n",
       "1363916379519336448           zero         3\n",
       "1369296990782320648            med         0\n",
       "1369559005811662851           zero         0"
      ]
     },
     "execution_count": 90,
     "metadata": {},
     "output_type": "execute_result"
    }
   ],
   "source": [
    "results = y_cat.to_frame()\n",
    "results['clusters'] = labels\n",
    "results.head()"
   ]
  },
  {
   "cell_type": "code",
   "execution_count": 91,
   "metadata": {},
   "outputs": [
    {
     "data": {
      "text/html": [
       "<div>\n",
       "<style scoped>\n",
       "    .dataframe tbody tr th:only-of-type {\n",
       "        vertical-align: middle;\n",
       "    }\n",
       "\n",
       "    .dataframe tbody tr th {\n",
       "        vertical-align: top;\n",
       "    }\n",
       "\n",
       "    .dataframe thead th {\n",
       "        text-align: right;\n",
       "    }\n",
       "</style>\n",
       "<table border=\"1\" class=\"dataframe\">\n",
       "  <thead>\n",
       "    <tr style=\"text-align: right;\">\n",
       "      <th>clusters</th>\n",
       "      <th>0</th>\n",
       "      <th>1</th>\n",
       "      <th>2</th>\n",
       "      <th>3</th>\n",
       "    </tr>\n",
       "    <tr>\n",
       "      <th>all_engagement</th>\n",
       "      <th></th>\n",
       "      <th></th>\n",
       "      <th></th>\n",
       "      <th></th>\n",
       "    </tr>\n",
       "  </thead>\n",
       "  <tbody>\n",
       "    <tr>\n",
       "      <th>high</th>\n",
       "      <td>270</td>\n",
       "      <td>2</td>\n",
       "      <td>0</td>\n",
       "      <td>328</td>\n",
       "    </tr>\n",
       "    <tr>\n",
       "      <th>low</th>\n",
       "      <td>1330</td>\n",
       "      <td>14</td>\n",
       "      <td>2</td>\n",
       "      <td>1645</td>\n",
       "    </tr>\n",
       "    <tr>\n",
       "      <th>med</th>\n",
       "      <td>964</td>\n",
       "      <td>17</td>\n",
       "      <td>5</td>\n",
       "      <td>1417</td>\n",
       "    </tr>\n",
       "    <tr>\n",
       "      <th>zero</th>\n",
       "      <td>2915</td>\n",
       "      <td>101</td>\n",
       "      <td>16</td>\n",
       "      <td>2983</td>\n",
       "    </tr>\n",
       "  </tbody>\n",
       "</table>\n",
       "</div>"
      ],
      "text/plain": [
       "clusters           0    1   2     3\n",
       "all_engagement                     \n",
       "high             270    2   0   328\n",
       "low             1330   14   2  1645\n",
       "med              964   17   5  1417\n",
       "zero            2915  101  16  2983"
      ]
     },
     "execution_count": 91,
     "metadata": {},
     "output_type": "execute_result"
    }
   ],
   "source": [
    "pd.crosstab(results.all_engagement, results.clusters)"
   ]
  },
  {
   "cell_type": "code",
   "execution_count": null,
   "metadata": {},
   "outputs": [],
   "source": []
  }
 ],
 "metadata": {
  "kernelspec": {
   "display_name": "nlp",
   "language": "python",
   "name": "nlp"
  },
  "language_info": {
   "codemirror_mode": {
    "name": "ipython",
    "version": 3
   },
   "file_extension": ".py",
   "mimetype": "text/x-python",
   "name": "python",
   "nbconvert_exporter": "python",
   "pygments_lexer": "ipython3",
   "version": "3.8.5"
  }
 },
 "nbformat": 4,
 "nbformat_minor": 4
}

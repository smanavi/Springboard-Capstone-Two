{
 "cells": [
  {
   "cell_type": "markdown",
   "metadata": {},
   "source": [
    "#### import the things"
   ]
  },
  {
   "cell_type": "code",
   "execution_count": 1,
   "metadata": {},
   "outputs": [],
   "source": [
    "import pandas as pd\n",
    "import json\n",
    "import os\n",
    "import numpy as np\n",
    "import matplotlib.pyplot as plt\n",
    "import seaborn as sns\n",
    "\n",
    "idx = pd.IndexSlice\n",
    "\n",
    "import scipy.stats\n",
    "import data\n",
    "raw_data_fol = os.path.join(data.__path__[0], \"raw\")"
   ]
  },
  {
   "cell_type": "code",
   "execution_count": 2,
   "metadata": {},
   "outputs": [],
   "source": [
    "from src.data import data_sorting_tools as dst\n",
    "%load_ext autoreload\n",
    "%autoreload 2"
   ]
  },
  {
   "cell_type": "code",
   "execution_count": 17,
   "metadata": {},
   "outputs": [],
   "source": [
    "import warnings\n",
    "warnings.filterwarnings('ignore')"
   ]
  },
  {
   "cell_type": "code",
   "execution_count": 3,
   "metadata": {},
   "outputs": [],
   "source": [
    "df = pd.read_pickle(os.path.join(data.__path__[0], \"compiled\", \"full_dataset_cleaned.pkl\"))"
   ]
  },
  {
   "cell_type": "code",
   "execution_count": 4,
   "metadata": {},
   "outputs": [
    {
     "data": {
      "text/html": [
       "<div>\n",
       "<style scoped>\n",
       "    .dataframe tbody tr th:only-of-type {\n",
       "        vertical-align: middle;\n",
       "    }\n",
       "\n",
       "    .dataframe tbody tr th {\n",
       "        vertical-align: top;\n",
       "    }\n",
       "\n",
       "    .dataframe thead th {\n",
       "        text-align: right;\n",
       "    }\n",
       "</style>\n",
       "<table border=\"1\" class=\"dataframe\">\n",
       "  <thead>\n",
       "    <tr style=\"text-align: right;\">\n",
       "      <th></th>\n",
       "      <th></th>\n",
       "      <th>quote_count</th>\n",
       "      <th>reply_count</th>\n",
       "      <th>retweet_count</th>\n",
       "      <th>favorite_count</th>\n",
       "      <th>user_followers_count</th>\n",
       "      <th>user_verified</th>\n",
       "      <th>full_text</th>\n",
       "      <th>media_count</th>\n",
       "      <th>media_types</th>\n",
       "    </tr>\n",
       "    <tr>\n",
       "      <th>tid</th>\n",
       "      <th>uid</th>\n",
       "      <th></th>\n",
       "      <th></th>\n",
       "      <th></th>\n",
       "      <th></th>\n",
       "      <th></th>\n",
       "      <th></th>\n",
       "      <th></th>\n",
       "      <th></th>\n",
       "      <th></th>\n",
       "    </tr>\n",
       "  </thead>\n",
       "  <tbody>\n",
       "    <tr>\n",
       "      <th>1333476068192366593</th>\n",
       "      <th>2152363202</th>\n",
       "      <td>0</td>\n",
       "      <td>2</td>\n",
       "      <td>3</td>\n",
       "      <td>16</td>\n",
       "      <td>6070</td>\n",
       "      <td>False</td>\n",
       "      <td>Teen pregnancy is high, HIV infection rate is ...</td>\n",
       "      <td>0</td>\n",
       "      <td>none</td>\n",
       "    </tr>\n",
       "    <tr>\n",
       "      <th>1364161232270487553</th>\n",
       "      <th>1331332400836726785</th>\n",
       "      <td>0</td>\n",
       "      <td>0</td>\n",
       "      <td>0</td>\n",
       "      <td>0</td>\n",
       "      <td>62</td>\n",
       "      <td>False</td>\n",
       "      <td>Even though it was a charity.  Stevens thought...</td>\n",
       "      <td>0</td>\n",
       "      <td>none</td>\n",
       "    </tr>\n",
       "    <tr>\n",
       "      <th>1364161201291153414</th>\n",
       "      <th>150301804</th>\n",
       "      <td>0</td>\n",
       "      <td>0</td>\n",
       "      <td>0</td>\n",
       "      <td>0</td>\n",
       "      <td>1044</td>\n",
       "      <td>False</td>\n",
       "      <td>SCORA\\nStanding Committee on Sexual &amp;amp; Repr...</td>\n",
       "      <td>0</td>\n",
       "      <td>none</td>\n",
       "    </tr>\n",
       "    <tr>\n",
       "      <th>1364161184505737217</th>\n",
       "      <th>1317091162159747075</th>\n",
       "      <td>0</td>\n",
       "      <td>0</td>\n",
       "      <td>0</td>\n",
       "      <td>0</td>\n",
       "      <td>15</td>\n",
       "      <td>False</td>\n",
       "      <td>many females are HIV+, we wish you well, bless...</td>\n",
       "      <td>0</td>\n",
       "      <td>none</td>\n",
       "    </tr>\n",
       "    <tr>\n",
       "      <th>1363439109948149760</th>\n",
       "      <th>1353391442408792066</th>\n",
       "      <td>0</td>\n",
       "      <td>0</td>\n",
       "      <td>2</td>\n",
       "      <td>24</td>\n",
       "      <td>184</td>\n",
       "      <td>False</td>\n",
       "      <td>@TheRustler83 Yep. Imagine if the government w...</td>\n",
       "      <td>0</td>\n",
       "      <td>none</td>\n",
       "    </tr>\n",
       "  </tbody>\n",
       "</table>\n",
       "</div>"
      ],
      "text/plain": [
       "                                         quote_count  reply_count  \\\n",
       "tid                 uid                                             \n",
       "1333476068192366593 2152363202                     0            2   \n",
       "1364161232270487553 1331332400836726785            0            0   \n",
       "1364161201291153414 150301804                      0            0   \n",
       "1364161184505737217 1317091162159747075            0            0   \n",
       "1363439109948149760 1353391442408792066            0            0   \n",
       "\n",
       "                                         retweet_count  favorite_count  \\\n",
       "tid                 uid                                                  \n",
       "1333476068192366593 2152363202                       3              16   \n",
       "1364161232270487553 1331332400836726785              0               0   \n",
       "1364161201291153414 150301804                        0               0   \n",
       "1364161184505737217 1317091162159747075              0               0   \n",
       "1363439109948149760 1353391442408792066              2              24   \n",
       "\n",
       "                                         user_followers_count  user_verified  \\\n",
       "tid                 uid                                                        \n",
       "1333476068192366593 2152363202                           6070          False   \n",
       "1364161232270487553 1331332400836726785                    62          False   \n",
       "1364161201291153414 150301804                            1044          False   \n",
       "1364161184505737217 1317091162159747075                    15          False   \n",
       "1363439109948149760 1353391442408792066                   184          False   \n",
       "\n",
       "                                                                                 full_text  \\\n",
       "tid                 uid                                                                      \n",
       "1333476068192366593 2152363202           Teen pregnancy is high, HIV infection rate is ...   \n",
       "1364161232270487553 1331332400836726785  Even though it was a charity.  Stevens thought...   \n",
       "1364161201291153414 150301804            SCORA\\nStanding Committee on Sexual &amp; Repr...   \n",
       "1364161184505737217 1317091162159747075  many females are HIV+, we wish you well, bless...   \n",
       "1363439109948149760 1353391442408792066  @TheRustler83 Yep. Imagine if the government w...   \n",
       "\n",
       "                                         media_count media_types  \n",
       "tid                 uid                                           \n",
       "1333476068192366593 2152363202                     0        none  \n",
       "1364161232270487553 1331332400836726785            0        none  \n",
       "1364161201291153414 150301804                      0        none  \n",
       "1364161184505737217 1317091162159747075            0        none  \n",
       "1363439109948149760 1353391442408792066            0        none  "
      ]
     },
     "execution_count": 4,
     "metadata": {},
     "output_type": "execute_result"
    }
   ],
   "source": [
    "df.head()"
   ]
  },
  {
   "cell_type": "code",
   "execution_count": 5,
   "metadata": {},
   "outputs": [
    {
     "name": "stdout",
     "output_type": "stream",
     "text": [
      "<class 'pandas.core.frame.DataFrame'>\n",
      "MultiIndex: 7662 entries, (1333476068192366593, 2152363202) to (1363949692288004103, 308788980)\n",
      "Data columns (total 9 columns):\n",
      " #   Column                Non-Null Count  Dtype  \n",
      "---  ------                --------------  -----  \n",
      " 0   quote_count           7662 non-null   Int64  \n",
      " 1   reply_count           7662 non-null   Int64  \n",
      " 2   retweet_count         7662 non-null   Int64  \n",
      " 3   favorite_count        7662 non-null   Int64  \n",
      " 4   user_followers_count  7662 non-null   Int64  \n",
      " 5   user_verified         7662 non-null   boolean\n",
      " 6   full_text             7662 non-null   object \n",
      " 7   media_count           7662 non-null   Int64  \n",
      " 8   media_types           7662 non-null   string \n",
      "dtypes: Int64(6), boolean(1), object(1), string(1)\n",
      "memory usage: 1.1+ MB\n"
     ]
    }
   ],
   "source": [
    "df.info()"
   ]
  },
  {
   "cell_type": "markdown",
   "metadata": {},
   "source": [
    "#### compare the distributions of different parameters based on if the user making the tweet is verified or not"
   ]
  },
  {
   "cell_type": "code",
   "execution_count": 6,
   "metadata": {},
   "outputs": [],
   "source": [
    "verified = df[df.user_verified==True]\n",
    "not_verified = df[df.user_verified==False]"
   ]
  },
  {
   "cell_type": "code",
   "execution_count": 7,
   "metadata": {},
   "outputs": [
    {
     "data": {
      "text/plain": [
       "((450, 9), (7212, 9))"
      ]
     },
     "execution_count": 7,
     "metadata": {},
     "output_type": "execute_result"
    }
   ],
   "source": [
    "verified.shape, not_verified.shape"
   ]
  },
  {
   "cell_type": "code",
   "execution_count": null,
   "metadata": {},
   "outputs": [],
   "source": []
  },
  {
   "cell_type": "code",
   "execution_count": 8,
   "metadata": {},
   "outputs": [
    {
     "data": {
      "image/png": "[encoded data removed]",
      "text/plain": [
       "<Figure size 1080x360 with 2 Axes>"
      ]
     },
     "metadata": {
      "needs_background": "light"
     },
     "output_type": "display_data"
    }
   ],
   "source": [
    "parameter = 'user_followers_count'\n",
    "\n",
    "fig, axs = plt.subplots(ncols=2, figsize=(15,5))\n",
    "sns.histplot(verified[verified[parameter]>0][parameter], ax=axs[0])\n",
    "sns.histplot(not_verified[not_verified[parameter]>0][parameter], ax=axs[1])\n",
    "\n",
    "axs[0].set_title('verified')\n",
    "axs[1].set_title('not verified')\n",
    "plt.suptitle(parameter)\n",
    "\n",
    "plt.show()"
   ]
  },
  {
   "cell_type": "code",
   "execution_count": 9,
   "metadata": {},
   "outputs": [
    {
     "data": {
      "image/png": "[encoded data removed]",
      "text/plain": [
       "<Figure size 1080x360 with 2 Axes>"
      ]
     },
     "metadata": {
      "needs_background": "light"
     },
     "output_type": "display_data"
    }
   ],
   "source": [
    "parameter = 'favorite_count'\n",
    "\n",
    "fig, axs = plt.subplots(ncols=2, figsize=(15,5))\n",
    "sns.histplot(verified[verified[parameter]>0][parameter], ax=axs[0])\n",
    "sns.histplot(not_verified[not_verified[parameter]>0][parameter], ax=axs[1])\n",
    "\n",
    "axs[0].set_title('verified')\n",
    "axs[1].set_title('not verified')\n",
    "plt.suptitle(parameter)\n",
    "\n",
    "plt.show()"
   ]
  },
  {
   "cell_type": "code",
   "execution_count": 14,
   "metadata": {},
   "outputs": [
    {
     "data": {
      "image/png": "[encoded data removed]",
      "text/plain": [
       "<Figure size 432x288 with 1 Axes>"
      ]
     },
     "metadata": {
      "needs_background": "light"
     },
     "output_type": "display_data"
    }
   ],
   "source": [
    "plt.hist(not_verified[not_verified[parameter]>0][parameter], bins=50)\n",
    "plt.show()"
   ]
  },
  {
   "cell_type": "code",
   "execution_count": 13,
   "metadata": {},
   "outputs": [
    {
     "data": {
      "image/png": "[encoded data removed]",
      "text/plain": [
       "<Figure size 432x288 with 1 Axes>"
      ]
     },
     "metadata": {
      "needs_background": "light"
     },
     "output_type": "display_data"
    }
   ],
   "source": [
    "plt.hist(verified[verified[parameter]>0][parameter], bins=50)\n",
    "plt.show()"
   ]
  },
  {
   "cell_type": "code",
   "execution_count": null,
   "metadata": {},
   "outputs": [],
   "source": []
  },
  {
   "cell_type": "code",
   "execution_count": null,
   "metadata": {
    "scrolled": false
   },
   "outputs": [],
   "source": [
    "parameter = 'retweet_count'\n",
    "\n",
    "fig, axs = plt.subplots(ncols=2, figsize=(15,5))\n",
    "sns.histplot(verified[verified[parameter]>0][parameter], ax=axs[0])\n",
    "sns.histplot(not_verified[not_verified[parameter]>0][parameter], ax=axs[1])\n",
    "\n",
    "axs[0].set_title('verified')\n",
    "axs[1].set_title('not verified')\n",
    "plt.suptitle(parameter)\n",
    "\n",
    "plt.show()"
   ]
  },
  {
   "cell_type": "code",
   "execution_count": null,
   "metadata": {},
   "outputs": [],
   "source": [
    "parameter = 'reply_count'\n",
    "\n",
    "fig, axs = plt.subplots(ncols=2, figsize=(15,5))\n",
    "sns.histplot(verified[verified[parameter]>0][parameter], ax=axs[0])\n",
    "sns.histplot(not_verified[not_verified[parameter]>0][parameter], ax=axs[1])\n",
    "\n",
    "axs[0].set_title('verified')\n",
    "axs[1].set_title('not verified')\n",
    "plt.suptitle(parameter)\n",
    "\n",
    "plt.show()"
   ]
  },
  {
   "cell_type": "code",
   "execution_count": null,
   "metadata": {},
   "outputs": [],
   "source": [
    "parameter = 'quote_count'\n",
    "\n",
    "fig, axs = plt.subplots(ncols=2, figsize=(15,5))\n",
    "sns.histplot(verified[verified[parameter]>0][parameter], ax=axs[0])\n",
    "sns.histplot(not_verified[not_verified[parameter]>0][parameter], ax=axs[1])\n",
    "\n",
    "axs[0].set_title('verified')\n",
    "axs[1].set_title('not verified')\n",
    "plt.suptitle(parameter)\n",
    "\n",
    "plt.show()"
   ]
  },
  {
   "cell_type": "code",
   "execution_count": null,
   "metadata": {},
   "outputs": [],
   "source": []
  },
  {
   "cell_type": "markdown",
   "metadata": {},
   "source": [
    "#### Doing permutation tests on the favorite count parameter to see if there's a statsical difference between verified and non verified users"
   ]
  },
  {
   "cell_type": "code",
   "execution_count": 16,
   "metadata": {},
   "outputs": [
    {
     "data": {
      "text/html": [
       "<div>\n",
       "<style scoped>\n",
       "    .dataframe tbody tr th:only-of-type {\n",
       "        vertical-align: middle;\n",
       "    }\n",
       "\n",
       "    .dataframe tbody tr th {\n",
       "        vertical-align: top;\n",
       "    }\n",
       "\n",
       "    .dataframe thead tr th {\n",
       "        text-align: left;\n",
       "    }\n",
       "\n",
       "    .dataframe thead tr:last-of-type th {\n",
       "        text-align: right;\n",
       "    }\n",
       "</style>\n",
       "<table border=\"1\" class=\"dataframe\">\n",
       "  <thead>\n",
       "    <tr>\n",
       "      <th></th>\n",
       "      <th colspan=\"8\" halign=\"left\">favorite_count</th>\n",
       "      <th colspan=\"8\" halign=\"left\">permutation</th>\n",
       "    </tr>\n",
       "    <tr>\n",
       "      <th></th>\n",
       "      <th>count</th>\n",
       "      <th>mean</th>\n",
       "      <th>std</th>\n",
       "      <th>min</th>\n",
       "      <th>25%</th>\n",
       "      <th>50%</th>\n",
       "      <th>75%</th>\n",
       "      <th>max</th>\n",
       "      <th>count</th>\n",
       "      <th>mean</th>\n",
       "      <th>std</th>\n",
       "      <th>min</th>\n",
       "      <th>25%</th>\n",
       "      <th>50%</th>\n",
       "      <th>75%</th>\n",
       "      <th>max</th>\n",
       "    </tr>\n",
       "    <tr>\n",
       "      <th>user_verified</th>\n",
       "      <th></th>\n",
       "      <th></th>\n",
       "      <th></th>\n",
       "      <th></th>\n",
       "      <th></th>\n",
       "      <th></th>\n",
       "      <th></th>\n",
       "      <th></th>\n",
       "      <th></th>\n",
       "      <th></th>\n",
       "      <th></th>\n",
       "      <th></th>\n",
       "      <th></th>\n",
       "      <th></th>\n",
       "      <th></th>\n",
       "      <th></th>\n",
       "    </tr>\n",
       "  </thead>\n",
       "  <tbody>\n",
       "    <tr>\n",
       "      <th>False</th>\n",
       "      <td>7212.0</td>\n",
       "      <td>25.323489</td>\n",
       "      <td>468.813686</td>\n",
       "      <td>0.0</td>\n",
       "      <td>0.0</td>\n",
       "      <td>1.0</td>\n",
       "      <td>3.0</td>\n",
       "      <td>26604.0</td>\n",
       "      <td>7212.0</td>\n",
       "      <td>45.432058</td>\n",
       "      <td>856.678459</td>\n",
       "      <td>0.0</td>\n",
       "      <td>0.0</td>\n",
       "      <td>1.0</td>\n",
       "      <td>4.0</td>\n",
       "      <td>53417.0</td>\n",
       "    </tr>\n",
       "    <tr>\n",
       "      <th>True</th>\n",
       "      <td>450.0</td>\n",
       "      <td>353.524444</td>\n",
       "      <td>2876.069471</td>\n",
       "      <td>0.0</td>\n",
       "      <td>2.0</td>\n",
       "      <td>9.0</td>\n",
       "      <td>28.0</td>\n",
       "      <td>53417.0</td>\n",
       "      <td>450.0</td>\n",
       "      <td>31.251111</td>\n",
       "      <td>341.318766</td>\n",
       "      <td>0.0</td>\n",
       "      <td>0.0</td>\n",
       "      <td>1.0</td>\n",
       "      <td>3.0</td>\n",
       "      <td>5377.0</td>\n",
       "    </tr>\n",
       "  </tbody>\n",
       "</table>\n",
       "</div>"
      ],
      "text/plain": [
       "              favorite_count                                                \\\n",
       "                       count        mean          std  min  25%  50%   75%   \n",
       "user_verified                                                                \n",
       "False                 7212.0   25.323489   468.813686  0.0  0.0  1.0   3.0   \n",
       "True                   450.0  353.524444  2876.069471  0.0  2.0  9.0  28.0   \n",
       "\n",
       "                       permutation                                             \\\n",
       "                   max       count       mean         std  min  25%  50%  75%   \n",
       "user_verified                                                                   \n",
       "False          26604.0      7212.0  45.432058  856.678459  0.0  0.0  1.0  4.0   \n",
       "True           53417.0       450.0  31.251111  341.318766  0.0  0.0  1.0  3.0   \n",
       "\n",
       "                        \n",
       "                   max  \n",
       "user_verified           \n",
       "False          53417.0  \n",
       "True            5377.0  "
      ]
     },
     "execution_count": 16,
     "metadata": {},
     "output_type": "execute_result"
    }
   ],
   "source": [
    "#using code from the Springboard apps project\n",
    "df['permutation'] = np.random.permutation(df['favorite_count'].values).astype(int)\n",
    "\n",
    "df.groupby('user_verified').describe()[['favorite_count', 'permutation']]"
   ]
  },
  {
   "cell_type": "code",
   "execution_count": 18,
   "metadata": {},
   "outputs": [
    {
     "data": {
      "text/html": [
       "<div>\n",
       "<style scoped>\n",
       "    .dataframe tbody tr th:only-of-type {\n",
       "        vertical-align: middle;\n",
       "    }\n",
       "\n",
       "    .dataframe tbody tr th {\n",
       "        vertical-align: top;\n",
       "    }\n",
       "\n",
       "    .dataframe thead th {\n",
       "        text-align: right;\n",
       "    }\n",
       "</style>\n",
       "<table border=\"1\" class=\"dataframe\">\n",
       "  <thead>\n",
       "    <tr style=\"text-align: right;\">\n",
       "      <th></th>\n",
       "      <th>favorite_count</th>\n",
       "      <th>permutation</th>\n",
       "    </tr>\n",
       "    <tr>\n",
       "      <th>user_verified</th>\n",
       "      <th></th>\n",
       "      <th></th>\n",
       "    </tr>\n",
       "  </thead>\n",
       "  <tbody>\n",
       "    <tr>\n",
       "      <th>False</th>\n",
       "      <td>25.323489</td>\n",
       "      <td>45.432058</td>\n",
       "    </tr>\n",
       "    <tr>\n",
       "      <th>True</th>\n",
       "      <td>353.524444</td>\n",
       "      <td>31.251111</td>\n",
       "    </tr>\n",
       "  </tbody>\n",
       "</table>\n",
       "</div>"
      ],
      "text/plain": [
       "               favorite_count  permutation\n",
       "user_verified                             \n",
       "False               25.323489    45.432058\n",
       "True               353.524444    31.251111"
      ]
     },
     "execution_count": 18,
     "metadata": {},
     "output_type": "execute_result"
    }
   ],
   "source": [
    "df.groupby('user_verified').mean()[['favorite_count', 'permutation']]"
   ]
  },
  {
   "cell_type": "code",
   "execution_count": 19,
   "metadata": {},
   "outputs": [],
   "source": [
    "difference = []\n",
    "perm_df = df[['user_verified', 'favorite_count', 'permutation']]   \n",
    "for n in range(10000):\n",
    "    perm_df.loc[:, 'permutation']  = np.random.permutation(perm_df['favorite_count'].values).astype(int)\n",
    "    gb_df = perm_df.groupby('user_verified').mean()\n",
    "    diff = gb_df.at[False, 'permutation'] - gb_df.at[True, 'permutation']\n",
    "    difference.append(diff)"
   ]
  },
  {
   "cell_type": "code",
   "execution_count": 20,
   "metadata": {},
   "outputs": [
    {
     "data": {
      "image/png": "[encoded data removed]",
      "text/plain": [
       "<Figure size 432x288 with 1 Axes>"
      ]
     },
     "metadata": {
      "needs_background": "light"
     },
     "output_type": "display_data"
    }
   ],
   "source": [
    "sns.histplot(difference)\n",
    "plt.show()"
   ]
  },
  {
   "cell_type": "code",
   "execution_count": 27,
   "metadata": {},
   "outputs": [
    {
     "data": {
      "text/plain": [
       "(25.32348863006101, 353.52444444444444)"
      ]
     },
     "execution_count": 27,
     "metadata": {},
     "output_type": "execute_result"
    }
   ],
   "source": [
    "df.groupby('user_verified').mean().at[False, 'favorite_count'], df.groupby('user_verified').mean().at[True, 'favorite_count']"
   ]
  },
  {
   "cell_type": "code",
   "execution_count": 22,
   "metadata": {},
   "outputs": [
    {
     "name": "stdout",
     "output_type": "stream",
     "text": [
      "328.2009558143834\n"
     ]
    }
   ],
   "source": [
    "obs_difference =  df.groupby('user_verified').mean().at[False, 'favorite_count'] - df.groupby('user_verified').mean().at[True, 'favorite_count']\n",
    "obs_difference = abs(obs_difference)\n",
    "print(obs_difference)"
   ]
  },
  {
   "cell_type": "code",
   "execution_count": 28,
   "metadata": {},
   "outputs": [
    {
     "data": {
      "text/plain": [
       "(1, 9)"
      ]
     },
     "execution_count": 28,
     "metadata": {},
     "output_type": "execute_result"
    }
   ],
   "source": [
    "df.groupby('user_verified').median().at[False, 'favorite_count'], df.groupby('user_verified').median().at[True, 'favorite_count']"
   ]
  },
  {
   "cell_type": "markdown",
   "metadata": {},
   "source": [
    "That is a VERY BIG difference between the observed means and the permutation means, and between their medians, too. Is there potentially an outlier throwing off the verified values? "
   ]
  },
  {
   "cell_type": "code",
   "execution_count": 23,
   "metadata": {},
   "outputs": [
    {
     "data": {
      "text/plain": [
       "tid                  uid       \n",
       "1050527244811030528  379408088     53417\n",
       "803879266416934913   637313893     23178\n",
       "1358792705728413696  19177501       9908\n",
       "1358119265774280709  19177501       9611\n",
       "1358460515266273281  19177501       5377\n",
       "1359431966123319299  19177501       5209\n",
       "1358853102577668096  19177501       4718\n",
       "1357804657154916354  78621972       4459\n",
       "1358812884277612550  65045121       4386\n",
       "1360514045502099457  19177501       3763\n",
       "1318482112564088832  2904913023     3698\n",
       "1010205546236874752  50037051       3329\n",
       "1053492330215292929  50037051       3226\n",
       "1357043244799045633  320316357      2166\n",
       "1356657885577687040  78621972       2104\n",
       "Name: favorite_count, dtype: Int64"
      ]
     },
     "execution_count": 23,
     "metadata": {},
     "output_type": "execute_result"
    }
   ],
   "source": [
    "verified['favorite_count'].sort_values(ascending=False)[:15]"
   ]
  },
  {
   "cell_type": "markdown",
   "metadata": {},
   "source": [
    "The top value is double the next highest value, and the 2nd highest is 2.5x the 3rd highest. "
   ]
  },
  {
   "cell_type": "code",
   "execution_count": 24,
   "metadata": {},
   "outputs": [
    {
     "data": {
      "text/plain": [
       "tid                  uid                \n",
       "1307763203733164033  3029911732             26604\n",
       "1115786788017180674  961498199159721985     21792\n",
       "1216699685022392321  491404434               9359\n",
       "1079473214315741186  485964552               8350\n",
       "1353812935458639872  2424318834              7051\n",
       "1195090950776926222  114985093               7039\n",
       "1080123466832072705  931896955625545730      6183\n",
       "1148701561549447169  1147986841573953537     4754\n",
       "1339973302480228362  23713246                4736\n",
       "1362583047317557248  760397096               3457\n",
       "1343618572761919489  1382158386              3123\n",
       "1364850787617107971  41088384                2040\n",
       "1310659145062928384  1159751594122076161     1926\n",
       "1360617380666351621  429614846               1904\n",
       "1359580924741058565  36778456                1887\n",
       "Name: favorite_count, dtype: Int64"
      ]
     },
     "execution_count": 24,
     "metadata": {},
     "output_type": "execute_result"
    }
   ],
   "source": [
    "not_verified['favorite_count'].sort_values(ascending=False)[:15]"
   ]
  },
  {
   "cell_type": "markdown",
   "metadata": {},
   "source": [
    "Of course, the non-verified accounts also have two very high values."
   ]
  },
  {
   "cell_type": "code",
   "execution_count": 29,
   "metadata": {},
   "outputs": [
    {
     "data": {
      "text/plain": [
       "tid                  uid               \n",
       "1050527244811030528  379408088             53417\n",
       "1307763203733164033  3029911732            26604\n",
       "803879266416934913   637313893             23178\n",
       "1115786788017180674  961498199159721985    21792\n",
       "1358792705728413696  19177501               9908\n",
       "Name: favorite_count, dtype: Int64"
      ]
     },
     "execution_count": 29,
     "metadata": {},
     "output_type": "execute_result"
    }
   ],
   "source": [
    "df['favorite_count'].sort_values(ascending=False).head()"
   ]
  },
  {
   "cell_type": "markdown",
   "metadata": {},
   "source": [
    "but overall, that top number is far beyond all the rest. So what if I drop it?"
   ]
  },
  {
   "cell_type": "code",
   "execution_count": 30,
   "metadata": {},
   "outputs": [
    {
     "data": {
      "text/plain": [
       "tid                  uid               \n",
       "1307763203733164033  3029911732            26604\n",
       "803879266416934913   637313893             23178\n",
       "1115786788017180674  961498199159721985    21792\n",
       "1358792705728413696  19177501               9908\n",
       "1358119265774280709  19177501               9611\n",
       "Name: favorite_count, dtype: Int64"
      ]
     },
     "execution_count": 30,
     "metadata": {},
     "output_type": "execute_result"
    }
   ],
   "source": [
    "df2 = df.drop(1050527244811030528, axis=0, level='tid')\n",
    "df2['favorite_count'].sort_values(ascending=False)[:5]"
   ]
  },
  {
   "cell_type": "code",
   "execution_count": 31,
   "metadata": {},
   "outputs": [
    {
     "data": {
      "text/html": [
       "<div>\n",
       "<style scoped>\n",
       "    .dataframe tbody tr th:only-of-type {\n",
       "        vertical-align: middle;\n",
       "    }\n",
       "\n",
       "    .dataframe tbody tr th {\n",
       "        vertical-align: top;\n",
       "    }\n",
       "\n",
       "    .dataframe thead th {\n",
       "        text-align: right;\n",
       "    }\n",
       "</style>\n",
       "<table border=\"1\" class=\"dataframe\">\n",
       "  <thead>\n",
       "    <tr style=\"text-align: right;\">\n",
       "      <th></th>\n",
       "      <th>favorite_count</th>\n",
       "      <th>permutation</th>\n",
       "    </tr>\n",
       "    <tr>\n",
       "      <th>user_verified</th>\n",
       "      <th></th>\n",
       "      <th></th>\n",
       "    </tr>\n",
       "  </thead>\n",
       "  <tbody>\n",
       "    <tr>\n",
       "      <th>False</th>\n",
       "      <td>25.323489</td>\n",
       "      <td>38.067942</td>\n",
       "    </tr>\n",
       "    <tr>\n",
       "      <th>True</th>\n",
       "      <td>235.342984</td>\n",
       "      <td>30.636971</td>\n",
       "    </tr>\n",
       "  </tbody>\n",
       "</table>\n",
       "</div>"
      ],
      "text/plain": [
       "               favorite_count  permutation\n",
       "user_verified                             \n",
       "False               25.323489    38.067942\n",
       "True               235.342984    30.636971"
      ]
     },
     "execution_count": 31,
     "metadata": {},
     "output_type": "execute_result"
    }
   ],
   "source": [
    "df2['permutation'] = np.random.permutation(df2['favorite_count'].values).astype(int)\n",
    "df2.groupby('user_verified').mean()[['favorite_count', 'permutation']]"
   ]
  },
  {
   "cell_type": "markdown",
   "metadata": {},
   "source": [
    "There is still a very big difference. I expect the difference will remain significant but I will repeat the whole process anyway."
   ]
  },
  {
   "cell_type": "code",
   "execution_count": 32,
   "metadata": {},
   "outputs": [],
   "source": [
    "difference = []\n",
    "perm_df = df2[['user_verified', 'favorite_count', 'permutation']]   \n",
    "for n in range(10000):\n",
    "    perm_df.loc[:, 'permutation']  = np.random.permutation(perm_df['favorite_count'].values).astype(int)\n",
    "    gb_df = perm_df.groupby('user_verified').mean()\n",
    "    diff = gb_df.at[False, 'permutation'] - gb_df.at[True, 'permutation']\n",
    "    difference.append(diff)"
   ]
  },
  {
   "cell_type": "code",
   "execution_count": 33,
   "metadata": {},
   "outputs": [
    {
     "data": {
      "image/png": "[encoded data removed]",
      "text/plain": [
       "<Figure size 432x288 with 1 Axes>"
      ]
     },
     "metadata": {
      "needs_background": "light"
     },
     "output_type": "display_data"
    }
   ],
   "source": [
    "sns.histplot(difference)\n",
    "plt.show()"
   ]
  },
  {
   "cell_type": "code",
   "execution_count": 34,
   "metadata": {},
   "outputs": [
    {
     "name": "stdout",
     "output_type": "stream",
     "text": [
      "210.01949577973855\n"
     ]
    }
   ],
   "source": [
    "obs_difference =  df2.groupby('user_verified').mean().at[False, 'favorite_count'] - df2.groupby('user_verified').mean().at[True, 'favorite_count']\n",
    "obs_difference = abs(obs_difference)\n",
    "print(obs_difference)"
   ]
  },
  {
   "cell_type": "markdown",
   "metadata": {},
   "source": [
    "While the difference in means is slightly less than previously calculated, it's still so far outside the distribution of means that the difference in favorite counts between verified and not verified users in not due to chance alone."
   ]
  },
  {
   "cell_type": "markdown",
   "metadata": {},
   "source": [
    "What about the other end of the distribution? Do non verified user tweets have a higher probability of being 0?"
   ]
  },
  {
   "cell_type": "code",
   "execution_count": 35,
   "metadata": {},
   "outputs": [],
   "source": [
    "v_0_fav =  len(verified[verified.favorite_count==0]) / len(verified)\n",
    "nv_0_fav = len(not_verified[not_verified.favorite_count==0]) / len(not_verified)"
   ]
  },
  {
   "cell_type": "code",
   "execution_count": 36,
   "metadata": {},
   "outputs": [
    {
     "data": {
      "text/plain": [
       "(0.1288888888888889, 0.4525790349417637)"
      ]
     },
     "execution_count": 36,
     "metadata": {},
     "output_type": "execute_result"
    }
   ],
   "source": [
    "v_0_fav, nv_0_fav"
   ]
  },
  {
   "cell_type": "markdown",
   "metadata": {},
   "source": [
    "About 45% of non verified user tweets don't get even 1 favorite, compared to under 13% of verified user tweets. that's a very big difference. "
   ]
  },
  {
   "cell_type": "markdown",
   "metadata": {},
   "source": [
    "If a tweet gets at least 1 favorite, then is there a statisitical difference between the number of favorites between verified and non verified user tweets?"
   ]
  },
  {
   "cell_type": "code",
   "execution_count": 37,
   "metadata": {},
   "outputs": [
    {
     "data": {
      "text/html": [
       "<div>\n",
       "<style scoped>\n",
       "    .dataframe tbody tr th:only-of-type {\n",
       "        vertical-align: middle;\n",
       "    }\n",
       "\n",
       "    .dataframe tbody tr th {\n",
       "        vertical-align: top;\n",
       "    }\n",
       "\n",
       "    .dataframe thead th {\n",
       "        text-align: right;\n",
       "    }\n",
       "</style>\n",
       "<table border=\"1\" class=\"dataframe\">\n",
       "  <thead>\n",
       "    <tr style=\"text-align: right;\">\n",
       "      <th></th>\n",
       "      <th>favorite_count</th>\n",
       "      <th>permutation</th>\n",
       "    </tr>\n",
       "    <tr>\n",
       "      <th>user_verified</th>\n",
       "      <th></th>\n",
       "      <th></th>\n",
       "    </tr>\n",
       "  </thead>\n",
       "  <tbody>\n",
       "    <tr>\n",
       "      <th>False</th>\n",
       "      <td>46.259625</td>\n",
       "      <td>69.366008</td>\n",
       "    </tr>\n",
       "    <tr>\n",
       "      <th>True</th>\n",
       "      <td>270.253197</td>\n",
       "      <td>36.943734</td>\n",
       "    </tr>\n",
       "  </tbody>\n",
       "</table>\n",
       "</div>"
      ],
      "text/plain": [
       "               favorite_count  permutation\n",
       "user_verified                             \n",
       "False               46.259625    69.366008\n",
       "True               270.253197    36.943734"
      ]
     },
     "execution_count": 37,
     "metadata": {},
     "output_type": "execute_result"
    }
   ],
   "source": [
    "df3 = df2[df2.favorite_count>0]\n",
    "df3['permutation'] = np.random.permutation(df3['favorite_count'].values).astype(int)\n",
    "df3.groupby('user_verified').mean()[['favorite_count', 'permutation']]"
   ]
  },
  {
   "cell_type": "code",
   "execution_count": 38,
   "metadata": {},
   "outputs": [],
   "source": [
    "difference = []\n",
    "perm_df = df3[['user_verified', 'favorite_count', 'permutation']]   \n",
    "for n in range(10000):\n",
    "    perm_df.loc[:, 'permutation']  = np.random.permutation(perm_df['favorite_count'].values).astype(int)\n",
    "    gb_df = perm_df.groupby('user_verified').mean()\n",
    "    diff = gb_df.at[False, 'permutation'] - gb_df.at[True, 'permutation']\n",
    "    difference.append(diff)"
   ]
  },
  {
   "cell_type": "code",
   "execution_count": 39,
   "metadata": {},
   "outputs": [
    {
     "data": {
      "image/png": "[encoded data removed]",
      "text/plain": [
       "<Figure size 432x288 with 1 Axes>"
      ]
     },
     "metadata": {
      "needs_background": "light"
     },
     "output_type": "display_data"
    }
   ],
   "source": [
    "sns.histplot(difference)\n",
    "plt.show()"
   ]
  },
  {
   "cell_type": "code",
   "execution_count": 40,
   "metadata": {},
   "outputs": [
    {
     "name": "stdout",
     "output_type": "stream",
     "text": [
      "223.99357180429988\n"
     ]
    }
   ],
   "source": [
    "obs_difference =  df3.groupby('user_verified').mean().at[False, 'favorite_count'] - df3.groupby('user_verified').mean().at[True, 'favorite_count']\n",
    "obs_difference = abs(obs_difference)\n",
    "print(obs_difference)"
   ]
  },
  {
   "cell_type": "code",
   "execution_count": 41,
   "metadata": {},
   "outputs": [
    {
     "data": {
      "text/plain": [
       "0.0"
      ]
     },
     "execution_count": 41,
     "metadata": {},
     "output_type": "execute_result"
    }
   ],
   "source": [
    "p = np.sum(np.array(difference) >= obs_difference) / len(difference)\n",
    "p"
   ]
  },
  {
   "cell_type": "markdown",
   "metadata": {},
   "source": [
    "Even removing all tweets with 0 favorites, the difference in number favorites per tweet between verified and not verified users is statistically significant, with a p value that is vanishingly small."
   ]
  },
  {
   "cell_type": "markdown",
   "metadata": {},
   "source": [
    "this presents a bit of a challenge for my analysis, since being verified or not is not always in the control of the account owners. While an organization has a better chance of getting verified than an individual, it's not a guarantee. I will have to consider whether or not to exclude tweets from verified accounts for my analysis."
   ]
  },
  {
   "cell_type": "code",
   "execution_count": null,
   "metadata": {},
   "outputs": [],
   "source": []
  },
  {
   "cell_type": "code",
   "execution_count": 42,
   "metadata": {},
   "outputs": [
    {
     "data": {
      "image/png": "[encoded data removed]",
      "text/plain": [
       "<Figure size 720x720 with 1 Axes>"
      ]
     },
     "metadata": {
      "needs_background": "light"
     },
     "output_type": "display_data"
    }
   ],
   "source": [
    "fig, ax = plt.subplots(figsize=(10,10))\n",
    "s = sns.scatterplot(data=df, x='user_followers_count', y='favorite_count', hue='user_verified',\n",
    "                alpha=.8, marker='+', s=100\n",
    "           )\n",
    "plt.show()"
   ]
  },
  {
   "cell_type": "markdown",
   "metadata": {},
   "source": [
    "while from this plot it looks like verified users tend to have more followers, it still looks like the majority of higher favorite count tweets come from accounts with relatively lower follower counts, whether or not they're verified."
   ]
  },
  {
   "cell_type": "code",
   "execution_count": 43,
   "metadata": {},
   "outputs": [],
   "source": [
    "x = np.array(df['user_followers_count'])\n",
    "y = np.array(df['favorite_count'])"
   ]
  },
  {
   "cell_type": "code",
   "execution_count": 44,
   "metadata": {},
   "outputs": [
    {
     "data": {
      "text/plain": [
       "0.329818917785391"
      ]
     },
     "execution_count": 44,
     "metadata": {},
     "output_type": "execute_result"
    }
   ],
   "source": [
    "r = np.corrcoef(x.astype(int),y.astype(int))[0,1]\n",
    "r_sq = r**2\n",
    "r_sq"
   ]
  },
  {
   "cell_type": "markdown",
   "metadata": {},
   "source": [
    "There is a weak correlation between user follower count and favorite count of a tweet they made. "
   ]
  },
  {
   "cell_type": "markdown",
   "metadata": {},
   "source": [
    "But it doesn't appear that verified users' tendency to have a higher follower count isn't what's responsible for the higher favorite counts. Likely, Twitter's algorithms which favor displaying tweets of verified users is what's responsible here. "
   ]
  },
  {
   "cell_type": "code",
   "execution_count": null,
   "metadata": {},
   "outputs": [],
   "source": []
  },
  {
   "cell_type": "code",
   "execution_count": null,
   "metadata": {},
   "outputs": [],
   "source": []
  },
  {
   "cell_type": "code",
   "execution_count": null,
   "metadata": {},
   "outputs": [],
   "source": []
  },
  {
   "cell_type": "code",
   "execution_count": null,
   "metadata": {},
   "outputs": [],
   "source": []
  },
  {
   "cell_type": "code",
   "execution_count": null,
   "metadata": {},
   "outputs": [],
   "source": []
  },
  {
   "cell_type": "code",
   "execution_count": null,
   "metadata": {},
   "outputs": [],
   "source": []
  },
  {
   "cell_type": "code",
   "execution_count": null,
   "metadata": {},
   "outputs": [],
   "source": []
  }
 ],
 "metadata": {
  "kernelspec": {
   "display_name": "capstone2",
   "language": "python",
   "name": "capstone2"
  },
  "language_info": {
   "codemirror_mode": {
    "name": "ipython",
    "version": 3
   },
   "file_extension": ".py",
   "mimetype": "text/x-python",
   "name": "python",
   "nbconvert_exporter": "python",
   "pygments_lexer": "ipython3",
   "version": "3.8.5"
  }
 },
 "nbformat": 4,
 "nbformat_minor": 4
}

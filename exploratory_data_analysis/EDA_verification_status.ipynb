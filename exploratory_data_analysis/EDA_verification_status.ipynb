{
 "cells": [
  {
   "cell_type": "markdown",
   "metadata": {},
   "source": [
    "#### import the things"
   ]
  },
  {
   "cell_type": "code",
   "execution_count": 3,
   "metadata": {},
   "outputs": [],
   "source": [
    "import pandas as pd\n",
    "import json\n",
    "import os\n",
    "import numpy as np\n",
    "import matplotlib.pyplot as plt\n",
    "import seaborn as sns\n",
    "\n",
    "idx = pd.IndexSlice"
   ]
  },
  {
   "cell_type": "code",
   "execution_count": 4,
   "metadata": {},
   "outputs": [],
   "source": [
    "data_fol = r\"..\\data_files\""
   ]
  },
  {
   "cell_type": "code",
   "execution_count": 5,
   "metadata": {},
   "outputs": [],
   "source": [
    "df = pd.read_pickle(os.path.join(data_fol, \"final_dataset.pkl\"))"
   ]
  },
  {
   "cell_type": "code",
   "execution_count": 6,
   "metadata": {},
   "outputs": [
    {
     "data": {
      "text/html": [
       "<div>\n",
       "<style scoped>\n",
       "    .dataframe tbody tr th:only-of-type {\n",
       "        vertical-align: middle;\n",
       "    }\n",
       "\n",
       "    .dataframe tbody tr th {\n",
       "        vertical-align: top;\n",
       "    }\n",
       "\n",
       "    .dataframe thead th {\n",
       "        text-align: right;\n",
       "    }\n",
       "</style>\n",
       "<table border=\"1\" class=\"dataframe\">\n",
       "  <thead>\n",
       "    <tr style=\"text-align: right;\">\n",
       "      <th></th>\n",
       "      <th></th>\n",
       "      <th>quote_count</th>\n",
       "      <th>reply_count</th>\n",
       "      <th>retweet_count</th>\n",
       "      <th>favorite_count</th>\n",
       "      <th>user_followers_count</th>\n",
       "      <th>user_verified</th>\n",
       "      <th>text</th>\n",
       "      <th>media_count</th>\n",
       "      <th>media_types</th>\n",
       "    </tr>\n",
       "    <tr>\n",
       "      <th>tid</th>\n",
       "      <th>uid</th>\n",
       "      <th></th>\n",
       "      <th></th>\n",
       "      <th></th>\n",
       "      <th></th>\n",
       "      <th></th>\n",
       "      <th></th>\n",
       "      <th></th>\n",
       "      <th></th>\n",
       "      <th></th>\n",
       "    </tr>\n",
       "  </thead>\n",
       "  <tbody>\n",
       "    <tr>\n",
       "      <th>1333476068192366593</th>\n",
       "      <th>2152363202</th>\n",
       "      <td>0</td>\n",
       "      <td>2</td>\n",
       "      <td>3</td>\n",
       "      <td>16</td>\n",
       "      <td>6070</td>\n",
       "      <td>False</td>\n",
       "      <td>Teen pregnancy is high, HIV infection rate is ...</td>\n",
       "      <td>0</td>\n",
       "      <td>none</td>\n",
       "    </tr>\n",
       "    <tr>\n",
       "      <th>1364161232270487553</th>\n",
       "      <th>1331332400836726785</th>\n",
       "      <td>0</td>\n",
       "      <td>0</td>\n",
       "      <td>0</td>\n",
       "      <td>0</td>\n",
       "      <td>62</td>\n",
       "      <td>False</td>\n",
       "      <td>Even though it was a charity.  Stevens thought...</td>\n",
       "      <td>0</td>\n",
       "      <td>none</td>\n",
       "    </tr>\n",
       "    <tr>\n",
       "      <th>1364161201291153414</th>\n",
       "      <th>150301804</th>\n",
       "      <td>0</td>\n",
       "      <td>0</td>\n",
       "      <td>0</td>\n",
       "      <td>0</td>\n",
       "      <td>1044</td>\n",
       "      <td>False</td>\n",
       "      <td>SCORA\\nStanding Committee on Sexual &amp;amp; Repr...</td>\n",
       "      <td>0</td>\n",
       "      <td>none</td>\n",
       "    </tr>\n",
       "    <tr>\n",
       "      <th>1364161184505737217</th>\n",
       "      <th>1317091162159747075</th>\n",
       "      <td>0</td>\n",
       "      <td>0</td>\n",
       "      <td>0</td>\n",
       "      <td>0</td>\n",
       "      <td>15</td>\n",
       "      <td>False</td>\n",
       "      <td>many females are HIV+, we wish you well, bless...</td>\n",
       "      <td>0</td>\n",
       "      <td>none</td>\n",
       "    </tr>\n",
       "    <tr>\n",
       "      <th>1363439109948149760</th>\n",
       "      <th>1353391442408792066</th>\n",
       "      <td>0</td>\n",
       "      <td>0</td>\n",
       "      <td>2</td>\n",
       "      <td>24</td>\n",
       "      <td>184</td>\n",
       "      <td>False</td>\n",
       "      <td>@TheRustler83 Yep. Imagine if the government w...</td>\n",
       "      <td>0</td>\n",
       "      <td>none</td>\n",
       "    </tr>\n",
       "  </tbody>\n",
       "</table>\n",
       "</div>"
      ],
      "text/plain": [
       "                                         quote_count  reply_count  \\\n",
       "tid                 uid                                             \n",
       "1333476068192366593 2152363202                     0            2   \n",
       "1364161232270487553 1331332400836726785            0            0   \n",
       "1364161201291153414 150301804                      0            0   \n",
       "1364161184505737217 1317091162159747075            0            0   \n",
       "1363439109948149760 1353391442408792066            0            0   \n",
       "\n",
       "                                         retweet_count  favorite_count  \\\n",
       "tid                 uid                                                  \n",
       "1333476068192366593 2152363202                       3              16   \n",
       "1364161232270487553 1331332400836726785              0               0   \n",
       "1364161201291153414 150301804                        0               0   \n",
       "1364161184505737217 1317091162159747075              0               0   \n",
       "1363439109948149760 1353391442408792066              2              24   \n",
       "\n",
       "                                         user_followers_count  user_verified  \\\n",
       "tid                 uid                                                        \n",
       "1333476068192366593 2152363202                           6070          False   \n",
       "1364161232270487553 1331332400836726785                    62          False   \n",
       "1364161201291153414 150301804                            1044          False   \n",
       "1364161184505737217 1317091162159747075                    15          False   \n",
       "1363439109948149760 1353391442408792066                   184          False   \n",
       "\n",
       "                                                                                      text  \\\n",
       "tid                 uid                                                                      \n",
       "1333476068192366593 2152363202           Teen pregnancy is high, HIV infection rate is ...   \n",
       "1364161232270487553 1331332400836726785  Even though it was a charity.  Stevens thought...   \n",
       "1364161201291153414 150301804            SCORA\\nStanding Committee on Sexual &amp; Repr...   \n",
       "1364161184505737217 1317091162159747075  many females are HIV+, we wish you well, bless...   \n",
       "1363439109948149760 1353391442408792066  @TheRustler83 Yep. Imagine if the government w...   \n",
       "\n",
       "                                         media_count media_types  \n",
       "tid                 uid                                           \n",
       "1333476068192366593 2152363202                     0        none  \n",
       "1364161232270487553 1331332400836726785            0        none  \n",
       "1364161201291153414 150301804                      0        none  \n",
       "1364161184505737217 1317091162159747075            0        none  \n",
       "1363439109948149760 1353391442408792066            0        none  "
      ]
     },
     "execution_count": 6,
     "metadata": {},
     "output_type": "execute_result"
    }
   ],
   "source": [
    "df.head()"
   ]
  },
  {
   "cell_type": "code",
   "execution_count": 7,
   "metadata": {},
   "outputs": [
    {
     "name": "stdout",
     "output_type": "stream",
     "text": [
      "<class 'pandas.core.frame.DataFrame'>\n",
      "MultiIndex: 18261 entries, (1333476068192366593, 2152363202) to (1343490641230233601, 2394619242)\n",
      "Data columns (total 9 columns):\n",
      " #   Column                Non-Null Count  Dtype  \n",
      "---  ------                --------------  -----  \n",
      " 0   quote_count           18261 non-null  Int64  \n",
      " 1   reply_count           18261 non-null  Int64  \n",
      " 2   retweet_count         18261 non-null  Int64  \n",
      " 3   favorite_count        18261 non-null  Int64  \n",
      " 4   user_followers_count  18261 non-null  Int64  \n",
      " 5   user_verified         18261 non-null  boolean\n",
      " 6   text                  18261 non-null  object \n",
      " 7   media_count           18261 non-null  Int64  \n",
      " 8   media_types           18261 non-null  string \n",
      "dtypes: Int64(6), boolean(1), object(1), string(1)\n",
      "memory usage: 2.8+ MB\n"
     ]
    }
   ],
   "source": [
    "df.info()"
   ]
  },
  {
   "cell_type": "code",
   "execution_count": null,
   "metadata": {},
   "outputs": [],
   "source": []
  },
  {
   "cell_type": "markdown",
   "metadata": {},
   "source": [
    "dealing with outliers"
   ]
  },
  {
   "cell_type": "code",
   "execution_count": 9,
   "metadata": {},
   "outputs": [
    {
     "data": {
      "image/png": "[encoded data removed]",
      "text/plain": [
       "<Figure size 432x288 with 1 Axes>"
      ]
     },
     "metadata": {
      "needs_background": "light"
     },
     "output_type": "display_data"
    }
   ],
   "source": [
    "fig, ax = plt.subplots()\n",
    "\n",
    "sns.boxplot(data=df[['quote_count', 'reply_count', 'retweet_count', 'favorite_count']])\n",
    "plt.show()"
   ]
  },
  {
   "cell_type": "code",
   "execution_count": 28,
   "metadata": {},
   "outputs": [
    {
     "data": {
      "image/png": "[encoded data removed]",
      "text/plain": [
       "<Figure size 1440x720 with 4 Axes>"
      ]
     },
     "metadata": {
      "needs_background": "light"
     },
     "output_type": "display_data"
    }
   ],
   "source": [
    "fig, axs = plt.subplots(2,2, figsize=(20,10))\n",
    "\n",
    "sns.boxplot(data=df[['favorite_count']], orient='h', ax=axs[0,0])\n",
    "axs[0,0].set_title='favorite_count'\n",
    "\n",
    "sns.boxplot(data=df[['retweet_count']], orient='h', ax=axs[0,1])\n",
    "axs[0,1].set_title='retweet_count'\n",
    "\n",
    "sns.boxplot(data=df[['reply_count']], orient='h', ax=axs[1,0])\n",
    "axs[1,0].set_title='reply_count'\n",
    "\n",
    "sns.boxplot(data=df[['quote_count']], orient='h', ax=axs[1,1])\n",
    "axs[1,1].set_title='quote_count'\n",
    "\n",
    "plt.tight_layout()\n",
    "plt.show()"
   ]
  },
  {
   "cell_type": "code",
   "execution_count": 32,
   "metadata": {},
   "outputs": [
    {
     "name": "stdout",
     "output_type": "stream",
     "text": [
      "quote_count [0.0 0.0 10.0] 178\n",
      "reply_count [0.0 0.0 19.0] 180\n",
      "retweet_count [0.0 0.0 116.80000000000291] 183\n",
      "favorite_count [0.0 1.0 517.8000000000029] 183\n"
     ]
    }
   ],
   "source": [
    "for col in ['quote_count', 'reply_count', 'retweet_count', 'favorite_count']:\n",
    "    quants = np.quantile(df[col], [.01, .5, .99])\n",
    "    count_above_99 = sum(df[col] > np.round(quants[2]))\n",
    "    print(col, quants, count_above_99)"
   ]
  },
  {
   "cell_type": "code",
   "execution_count": 34,
   "metadata": {},
   "outputs": [],
   "source": [
    "quote_inds = df[df['quote_count'] >= 10].index\n",
    "reply_inds = df[df['reply_count'] >= 19].index\n",
    "retweet_inds = df[df['retweet_count'] >= 117].index\n",
    "favorite_inds = df[df['favorite_count'] >= 518].index"
   ]
  },
  {
   "cell_type": "code",
   "execution_count": 35,
   "metadata": {},
   "outputs": [
    {
     "data": {
      "text/plain": [
       "(193, 186, 183, 183)"
      ]
     },
     "execution_count": 35,
     "metadata": {},
     "output_type": "execute_result"
    }
   ],
   "source": [
    "len(quote_inds), len(reply_inds), len(retweet_inds), len(favorite_inds)"
   ]
  },
  {
   "cell_type": "code",
   "execution_count": 42,
   "metadata": {},
   "outputs": [],
   "source": [
    "all_inds = set(list(quote_inds) + list(reply_inds) + list(retweet_inds) + list(favorite_inds))"
   ]
  },
  {
   "cell_type": "code",
   "execution_count": 43,
   "metadata": {},
   "outputs": [
    {
     "data": {
      "text/plain": [
       "337"
      ]
     },
     "execution_count": 43,
     "metadata": {},
     "output_type": "execute_result"
    }
   ],
   "source": [
    "len(all_inds)"
   ]
  },
  {
   "cell_type": "code",
   "execution_count": 45,
   "metadata": {},
   "outputs": [],
   "source": [
    "outliers_df = df.loc[all_inds]"
   ]
  },
  {
   "cell_type": "code",
   "execution_count": 46,
   "metadata": {},
   "outputs": [],
   "source": [
    "df.drop(index=all_inds, inplace=True)"
   ]
  },
  {
   "cell_type": "code",
   "execution_count": 47,
   "metadata": {},
   "outputs": [
    {
     "name": "stdout",
     "output_type": "stream",
     "text": [
      "<class 'pandas.core.frame.DataFrame'>\n",
      "MultiIndex: 17924 entries, (1333476068192366593, 2152363202) to (1343490641230233601, 2394619242)\n",
      "Data columns (total 9 columns):\n",
      " #   Column                Non-Null Count  Dtype  \n",
      "---  ------                --------------  -----  \n",
      " 0   quote_count           17924 non-null  Int64  \n",
      " 1   reply_count           17924 non-null  Int64  \n",
      " 2   retweet_count         17924 non-null  Int64  \n",
      " 3   favorite_count        17924 non-null  Int64  \n",
      " 4   user_followers_count  17924 non-null  Int64  \n",
      " 5   user_verified         17924 non-null  boolean\n",
      " 6   text                  17924 non-null  object \n",
      " 7   media_count           17924 non-null  Int64  \n",
      " 8   media_types           17924 non-null  string \n",
      "dtypes: Int64(6), boolean(1), object(1), string(1)\n",
      "memory usage: 2.8+ MB\n"
     ]
    }
   ],
   "source": [
    "df.info()"
   ]
  },
  {
   "cell_type": "code",
   "execution_count": 48,
   "metadata": {},
   "outputs": [
    {
     "data": {
      "text/html": [
       "<div>\n",
       "<style scoped>\n",
       "    .dataframe tbody tr th:only-of-type {\n",
       "        vertical-align: middle;\n",
       "    }\n",
       "\n",
       "    .dataframe tbody tr th {\n",
       "        vertical-align: top;\n",
       "    }\n",
       "\n",
       "    .dataframe thead th {\n",
       "        text-align: right;\n",
       "    }\n",
       "</style>\n",
       "<table border=\"1\" class=\"dataframe\">\n",
       "  <thead>\n",
       "    <tr style=\"text-align: right;\">\n",
       "      <th></th>\n",
       "      <th>quote_count</th>\n",
       "      <th>reply_count</th>\n",
       "      <th>retweet_count</th>\n",
       "      <th>favorite_count</th>\n",
       "      <th>user_followers_count</th>\n",
       "      <th>media_count</th>\n",
       "    </tr>\n",
       "  </thead>\n",
       "  <tbody>\n",
       "    <tr>\n",
       "      <th>count</th>\n",
       "      <td>17924.000000</td>\n",
       "      <td>17924.000000</td>\n",
       "      <td>17924.000000</td>\n",
       "      <td>17924.000000</td>\n",
       "      <td>1.792400e+04</td>\n",
       "      <td>17924.000000</td>\n",
       "    </tr>\n",
       "    <tr>\n",
       "      <th>mean</th>\n",
       "      <td>0.188295</td>\n",
       "      <td>0.593227</td>\n",
       "      <td>2.184111</td>\n",
       "      <td>8.549710</td>\n",
       "      <td>1.683921e+04</td>\n",
       "      <td>0.031522</td>\n",
       "    </tr>\n",
       "    <tr>\n",
       "      <th>std</th>\n",
       "      <td>0.755995</td>\n",
       "      <td>1.452616</td>\n",
       "      <td>7.726965</td>\n",
       "      <td>32.130848</td>\n",
       "      <td>2.054266e+05</td>\n",
       "      <td>0.204724</td>\n",
       "    </tr>\n",
       "    <tr>\n",
       "      <th>min</th>\n",
       "      <td>0.000000</td>\n",
       "      <td>0.000000</td>\n",
       "      <td>0.000000</td>\n",
       "      <td>0.000000</td>\n",
       "      <td>0.000000e+00</td>\n",
       "      <td>0.000000</td>\n",
       "    </tr>\n",
       "    <tr>\n",
       "      <th>25%</th>\n",
       "      <td>0.000000</td>\n",
       "      <td>0.000000</td>\n",
       "      <td>0.000000</td>\n",
       "      <td>0.000000</td>\n",
       "      <td>1.390000e+02</td>\n",
       "      <td>0.000000</td>\n",
       "    </tr>\n",
       "    <tr>\n",
       "      <th>50%</th>\n",
       "      <td>0.000000</td>\n",
       "      <td>0.000000</td>\n",
       "      <td>0.000000</td>\n",
       "      <td>1.000000</td>\n",
       "      <td>7.160000e+02</td>\n",
       "      <td>0.000000</td>\n",
       "    </tr>\n",
       "    <tr>\n",
       "      <th>75%</th>\n",
       "      <td>0.000000</td>\n",
       "      <td>1.000000</td>\n",
       "      <td>1.000000</td>\n",
       "      <td>4.000000</td>\n",
       "      <td>2.934250e+03</td>\n",
       "      <td>0.000000</td>\n",
       "    </tr>\n",
       "    <tr>\n",
       "      <th>max</th>\n",
       "      <td>9.000000</td>\n",
       "      <td>18.000000</td>\n",
       "      <td>115.000000</td>\n",
       "      <td>515.000000</td>\n",
       "      <td>1.804246e+07</td>\n",
       "      <td>4.000000</td>\n",
       "    </tr>\n",
       "  </tbody>\n",
       "</table>\n",
       "</div>"
      ],
      "text/plain": [
       "        quote_count   reply_count  retweet_count  favorite_count  \\\n",
       "count  17924.000000  17924.000000   17924.000000    17924.000000   \n",
       "mean       0.188295      0.593227       2.184111        8.549710   \n",
       "std        0.755995      1.452616       7.726965       32.130848   \n",
       "min        0.000000      0.000000       0.000000        0.000000   \n",
       "25%        0.000000      0.000000       0.000000        0.000000   \n",
       "50%        0.000000      0.000000       0.000000        1.000000   \n",
       "75%        0.000000      1.000000       1.000000        4.000000   \n",
       "max        9.000000     18.000000     115.000000      515.000000   \n",
       "\n",
       "       user_followers_count   media_count  \n",
       "count          1.792400e+04  17924.000000  \n",
       "mean           1.683921e+04      0.031522  \n",
       "std            2.054266e+05      0.204724  \n",
       "min            0.000000e+00      0.000000  \n",
       "25%            1.390000e+02      0.000000  \n",
       "50%            7.160000e+02      0.000000  \n",
       "75%            2.934250e+03      0.000000  \n",
       "max            1.804246e+07      4.000000  "
      ]
     },
     "execution_count": 48,
     "metadata": {},
     "output_type": "execute_result"
    }
   ],
   "source": [
    "df.describe()"
   ]
  },
  {
   "cell_type": "markdown",
   "metadata": {},
   "source": [
    "#### compare the distributions of different parameters based on if the user making the tweet is verified or not"
   ]
  },
  {
   "cell_type": "code",
   "execution_count": 49,
   "metadata": {},
   "outputs": [],
   "source": [
    "verified = df[df.user_verified==True]\n",
    "not_verified = df[df.user_verified==False]"
   ]
  },
  {
   "cell_type": "code",
   "execution_count": 50,
   "metadata": {},
   "outputs": [
    {
     "data": {
      "text/plain": [
       "((1073, 9), (16851, 9))"
      ]
     },
     "execution_count": 50,
     "metadata": {},
     "output_type": "execute_result"
    }
   ],
   "source": [
    "verified.shape, not_verified.shape"
   ]
  },
  {
   "cell_type": "code",
   "execution_count": 52,
   "metadata": {},
   "outputs": [],
   "source": [
    "from sklearn.preprocessing import StandardScaler"
   ]
  },
  {
   "cell_type": "code",
   "execution_count": 53,
   "metadata": {},
   "outputs": [],
   "source": [
    "sts = StandardScaler()"
   ]
  },
  {
   "cell_type": "code",
   "execution_count": 55,
   "metadata": {},
   "outputs": [],
   "source": [
    "sts_followers =  sts.fit_transform(df[['user_followers_count']])"
   ]
  },
  {
   "cell_type": "code",
   "execution_count": 56,
   "metadata": {},
   "outputs": [
    {
     "data": {
      "text/plain": [
       "array([[-0.05242508],\n",
       "       [-0.08167235],\n",
       "       [-0.07689192],\n",
       "       ...,\n",
       "       [ 0.1549443 ],\n",
       "       [-0.07816735],\n",
       "       [-0.03430131]])"
      ]
     },
     "execution_count": 56,
     "metadata": {},
     "output_type": "execute_result"
    }
   ],
   "source": [
    "sts_followers"
   ]
  },
  {
   "cell_type": "code",
   "execution_count": 57,
   "metadata": {
    "collapsed": true
   },
   "outputs": [
    {
     "name": "stderr",
     "output_type": "stream",
     "text": [
      "<ipython-input-57-c9f8f4f2e52e>:2: SettingWithCopyWarning: \n",
      "A value is trying to be set on a copy of a slice from a DataFrame.\n",
      "Try using .loc[row_indexer,col_indexer] = value instead\n",
      "\n",
      "See the caveats in the documentation: https://pandas.pydata.org/pandas-docs/stable/user_guide/indexing.html#returning-a-view-versus-a-copy\n",
      "  verified_df['xform_followers'] = sts_followers\n"
     ]
    }
   ],
   "source": [
    "verified_df = df[['user_verified']]\n",
    "verified_df['xform_followers'] = sts_followers"
   ]
  },
  {
   "cell_type": "code",
   "execution_count": 58,
   "metadata": {},
   "outputs": [
    {
     "data": {
      "text/html": [
       "<div>\n",
       "<style scoped>\n",
       "    .dataframe tbody tr th:only-of-type {\n",
       "        vertical-align: middle;\n",
       "    }\n",
       "\n",
       "    .dataframe tbody tr th {\n",
       "        vertical-align: top;\n",
       "    }\n",
       "\n",
       "    .dataframe thead th {\n",
       "        text-align: right;\n",
       "    }\n",
       "</style>\n",
       "<table border=\"1\" class=\"dataframe\">\n",
       "  <thead>\n",
       "    <tr style=\"text-align: right;\">\n",
       "      <th></th>\n",
       "      <th></th>\n",
       "      <th>user_verified</th>\n",
       "      <th>xform_followers</th>\n",
       "    </tr>\n",
       "    <tr>\n",
       "      <th>tid</th>\n",
       "      <th>uid</th>\n",
       "      <th></th>\n",
       "      <th></th>\n",
       "    </tr>\n",
       "  </thead>\n",
       "  <tbody>\n",
       "    <tr>\n",
       "      <th>1333476068192366593</th>\n",
       "      <th>2152363202</th>\n",
       "      <td>False</td>\n",
       "      <td>-0.052425</td>\n",
       "    </tr>\n",
       "    <tr>\n",
       "      <th>1364161232270487553</th>\n",
       "      <th>1331332400836726785</th>\n",
       "      <td>False</td>\n",
       "      <td>-0.081672</td>\n",
       "    </tr>\n",
       "    <tr>\n",
       "      <th>1364161201291153414</th>\n",
       "      <th>150301804</th>\n",
       "      <td>False</td>\n",
       "      <td>-0.076892</td>\n",
       "    </tr>\n",
       "    <tr>\n",
       "      <th>1364161184505737217</th>\n",
       "      <th>1317091162159747075</th>\n",
       "      <td>False</td>\n",
       "      <td>-0.081901</td>\n",
       "    </tr>\n",
       "    <tr>\n",
       "      <th>1363439109948149760</th>\n",
       "      <th>1353391442408792066</th>\n",
       "      <td>False</td>\n",
       "      <td>-0.081078</td>\n",
       "    </tr>\n",
       "  </tbody>\n",
       "</table>\n",
       "</div>"
      ],
      "text/plain": [
       "                                         user_verified  xform_followers\n",
       "tid                 uid                                                \n",
       "1333476068192366593 2152363202                   False        -0.052425\n",
       "1364161232270487553 1331332400836726785          False        -0.081672\n",
       "1364161201291153414 150301804                    False        -0.076892\n",
       "1364161184505737217 1317091162159747075          False        -0.081901\n",
       "1363439109948149760 1353391442408792066          False        -0.081078"
      ]
     },
     "execution_count": 58,
     "metadata": {},
     "output_type": "execute_result"
    }
   ],
   "source": [
    "verified_df.head()"
   ]
  },
  {
   "cell_type": "code",
   "execution_count": 63,
   "metadata": {},
   "outputs": [
    {
     "data": {
      "text/plain": [
       "-0.08197417047713251"
      ]
     },
     "execution_count": 63,
     "metadata": {},
     "output_type": "execute_result"
    }
   ],
   "source": [
    "verified_df.xform_followers.min()"
   ]
  },
  {
   "cell_type": "code",
   "execution_count": 67,
   "metadata": {},
   "outputs": [],
   "source": [
    "from scipy.stats import norm"
   ]
  },
  {
   "cell_type": "code",
   "execution_count": 75,
   "metadata": {},
   "outputs": [
    {
     "name": "stderr",
     "output_type": "stream",
     "text": [
      "C:\\Users\\smana\\anaconda3\\envs\\nlp\\lib\\site-packages\\seaborn\\distributions.py:2557: FutureWarning: `distplot` is a deprecated function and will be removed in a future version. Please adapt your code to use either `displot` (a figure-level function with similar flexibility) or `histplot` (an axes-level function for histograms).\n",
      "  warnings.warn(msg, FutureWarning)\n"
     ]
    },
    {
     "data": {
      "image/png": "[encoded data removed]",
      "text/plain": [
       "<Figure size 432x288 with 1 Axes>"
      ]
     },
     "metadata": {
      "needs_background": "light"
     },
     "output_type": "display_data"
    }
   ],
   "source": [
    "sns.distplot(verified_df[verified_df.user_verified==False].xform_followers, bins=50,\n",
    "            kde=False)\n",
    "\n",
    "plt.show()"
   ]
  },
  {
   "cell_type": "code",
   "execution_count": 80,
   "metadata": {},
   "outputs": [],
   "source": [
    "log_v = np.log(verified['user_followers_count'].values + 1)\n",
    "log_nv = np.log(not_verified['user_followers_count'].values + 1)"
   ]
  },
  {
   "cell_type": "code",
   "execution_count": 84,
   "metadata": {},
   "outputs": [
    {
     "data": {
      "image/png": "[encoded data removed]",
      "text/plain": [
       "<Figure size 1080x360 with 2 Axes>"
      ]
     },
     "metadata": {
      "needs_background": "light"
     },
     "output_type": "display_data"
    }
   ],
   "source": [
    "parameter = 'user_followers_count'\n",
    "\n",
    "log_v = np.log(verified[parameter].values + 1)\n",
    "log_nv = np.log(not_verified[parameter].values + 1)\n",
    "\n",
    "fig, axs = plt.subplots(ncols=2, figsize=(15,5))\n",
    "sns.histplot(log_v, ax=axs[0])\n",
    "sns.histplot(log_nv, ax=axs[1])\n",
    "\n",
    "axs[0].set_title('verified')\n",
    "axs[1].set_title('not verified')\n",
    "plt.suptitle(parameter)\n",
    "\n",
    "plt.show()"
   ]
  },
  {
   "cell_type": "code",
   "execution_count": null,
   "metadata": {},
   "outputs": [],
   "source": []
  },
  {
   "cell_type": "code",
   "execution_count": 85,
   "metadata": {},
   "outputs": [
    {
     "data": {
      "image/png": "[encoded data removed]",
      "text/plain": [
       "<Figure size 1080x360 with 2 Axes>"
      ]
     },
     "metadata": {
      "needs_background": "light"
     },
     "output_type": "display_data"
    }
   ],
   "source": [
    "parameter = 'favorite_count'\n",
    "\n",
    "log_v = np.log(verified[parameter].values + 1)\n",
    "log_nv = np.log(not_verified[parameter].values + 1)\n",
    "\n",
    "fig, axs = plt.subplots(ncols=2, figsize=(15,5))\n",
    "sns.histplot(log_v, ax=axs[0])\n",
    "sns.histplot(log_nv, ax=axs[1])\n",
    "\n",
    "axs[0].set_title('verified')\n",
    "axs[1].set_title('not verified')\n",
    "plt.suptitle(parameter)\n",
    "\n",
    "plt.show()"
   ]
  },
  {
   "cell_type": "code",
   "execution_count": 86,
   "metadata": {
    "scrolled": false
   },
   "outputs": [
    {
     "data": {
      "image/png": "[encoded data removed]",
      "text/plain": [
       "<Figure size 1080x360 with 2 Axes>"
      ]
     },
     "metadata": {
      "needs_background": "light"
     },
     "output_type": "display_data"
    }
   ],
   "source": [
    "parameter = 'retweet_count'\n",
    "\n",
    "log_v = np.log(verified[parameter].values + 1)\n",
    "log_nv = np.log(not_verified[parameter].values + 1)\n",
    "\n",
    "fig, axs = plt.subplots(ncols=2, figsize=(15,5))\n",
    "sns.histplot(log_v, ax=axs[0])\n",
    "sns.histplot(log_nv, ax=axs[1])\n",
    "\n",
    "axs[0].set_title('verified')\n",
    "axs[1].set_title('not verified')\n",
    "plt.suptitle(parameter)\n",
    "\n",
    "plt.show()"
   ]
  },
  {
   "cell_type": "code",
   "execution_count": 87,
   "metadata": {},
   "outputs": [
    {
     "data": {
      "image/png": "[encoded data removed]",
      "text/plain": [
       "<Figure size 1080x360 with 2 Axes>"
      ]
     },
     "metadata": {
      "needs_background": "light"
     },
     "output_type": "display_data"
    }
   ],
   "source": [
    "parameter = 'reply_count'\n",
    "\n",
    "log_v = np.log(verified[parameter].values + 1)\n",
    "log_nv = np.log(not_verified[parameter].values + 1)\n",
    "\n",
    "fig, axs = plt.subplots(ncols=2, figsize=(15,5))\n",
    "sns.histplot(log_v, ax=axs[0])\n",
    "sns.histplot(log_nv, ax=axs[1])\n",
    "\n",
    "axs[0].set_title('verified')\n",
    "axs[1].set_title('not verified')\n",
    "plt.suptitle(parameter)\n",
    "\n",
    "plt.show()"
   ]
  },
  {
   "cell_type": "code",
   "execution_count": 88,
   "metadata": {},
   "outputs": [
    {
     "data": {
      "image/png": "[encoded data removed]",
      "text/plain": [
       "<Figure size 1080x360 with 2 Axes>"
      ]
     },
     "metadata": {
      "needs_background": "light"
     },
     "output_type": "display_data"
    }
   ],
   "source": [
    "parameter = 'quote_count'\n",
    "\n",
    "log_v = np.log(verified[parameter].values + 1)\n",
    "log_nv = np.log(not_verified[parameter].values + 1)\n",
    "\n",
    "fig, axs = plt.subplots(ncols=2, figsize=(15,5))\n",
    "sns.histplot(log_v, ax=axs[0])\n",
    "sns.histplot(log_nv, ax=axs[1])\n",
    "\n",
    "axs[0].set_title('verified')\n",
    "axs[1].set_title('not verified')\n",
    "plt.suptitle(parameter)\n",
    "\n",
    "plt.show()"
   ]
  },
  {
   "cell_type": "code",
   "execution_count": null,
   "metadata": {},
   "outputs": [],
   "source": []
  },
  {
   "cell_type": "markdown",
   "metadata": {},
   "source": [
    "#### Doing permutation tests on the favorite count parameter to see if there's a statsical difference between verified and non verified users"
   ]
  },
  {
   "cell_type": "code",
   "execution_count": 89,
   "metadata": {},
   "outputs": [
    {
     "data": {
      "text/html": [
       "<div>\n",
       "<style scoped>\n",
       "    .dataframe tbody tr th:only-of-type {\n",
       "        vertical-align: middle;\n",
       "    }\n",
       "\n",
       "    .dataframe tbody tr th {\n",
       "        vertical-align: top;\n",
       "    }\n",
       "\n",
       "    .dataframe thead tr th {\n",
       "        text-align: left;\n",
       "    }\n",
       "\n",
       "    .dataframe thead tr:last-of-type th {\n",
       "        text-align: right;\n",
       "    }\n",
       "</style>\n",
       "<table border=\"1\" class=\"dataframe\">\n",
       "  <thead>\n",
       "    <tr>\n",
       "      <th></th>\n",
       "      <th colspan=\"8\" halign=\"left\">favorite_count</th>\n",
       "      <th colspan=\"8\" halign=\"left\">permutation</th>\n",
       "    </tr>\n",
       "    <tr>\n",
       "      <th></th>\n",
       "      <th>count</th>\n",
       "      <th>mean</th>\n",
       "      <th>std</th>\n",
       "      <th>min</th>\n",
       "      <th>25%</th>\n",
       "      <th>50%</th>\n",
       "      <th>75%</th>\n",
       "      <th>max</th>\n",
       "      <th>count</th>\n",
       "      <th>mean</th>\n",
       "      <th>std</th>\n",
       "      <th>min</th>\n",
       "      <th>25%</th>\n",
       "      <th>50%</th>\n",
       "      <th>75%</th>\n",
       "      <th>max</th>\n",
       "    </tr>\n",
       "    <tr>\n",
       "      <th>user_verified</th>\n",
       "      <th></th>\n",
       "      <th></th>\n",
       "      <th></th>\n",
       "      <th></th>\n",
       "      <th></th>\n",
       "      <th></th>\n",
       "      <th></th>\n",
       "      <th></th>\n",
       "      <th></th>\n",
       "      <th></th>\n",
       "      <th></th>\n",
       "      <th></th>\n",
       "      <th></th>\n",
       "      <th></th>\n",
       "      <th></th>\n",
       "      <th></th>\n",
       "    </tr>\n",
       "  </thead>\n",
       "  <tbody>\n",
       "    <tr>\n",
       "      <th>False</th>\n",
       "      <td>16851.0</td>\n",
       "      <td>7.17358</td>\n",
       "      <td>28.958670</td>\n",
       "      <td>0.0</td>\n",
       "      <td>0.0</td>\n",
       "      <td>1.0</td>\n",
       "      <td>4.0</td>\n",
       "      <td>515.0</td>\n",
       "      <td>16851.0</td>\n",
       "      <td>8.695092</td>\n",
       "      <td>32.620479</td>\n",
       "      <td>0.0</td>\n",
       "      <td>0.0</td>\n",
       "      <td>1.0</td>\n",
       "      <td>4.0</td>\n",
       "      <td>515.0</td>\n",
       "    </tr>\n",
       "    <tr>\n",
       "      <th>True</th>\n",
       "      <td>1073.0</td>\n",
       "      <td>30.16123</td>\n",
       "      <td>59.850553</td>\n",
       "      <td>0.0</td>\n",
       "      <td>2.0</td>\n",
       "      <td>8.0</td>\n",
       "      <td>26.0</td>\n",
       "      <td>498.0</td>\n",
       "      <td>1073.0</td>\n",
       "      <td>6.266542</td>\n",
       "      <td>23.010173</td>\n",
       "      <td>0.0</td>\n",
       "      <td>0.0</td>\n",
       "      <td>1.0</td>\n",
       "      <td>4.0</td>\n",
       "      <td>436.0</td>\n",
       "    </tr>\n",
       "  </tbody>\n",
       "</table>\n",
       "</div>"
      ],
      "text/plain": [
       "              favorite_count                                                   \\\n",
       "                       count      mean        std  min  25%  50%   75%    max   \n",
       "user_verified                                                                   \n",
       "False                16851.0   7.17358  28.958670  0.0  0.0  1.0   4.0  515.0   \n",
       "True                  1073.0  30.16123  59.850553  0.0  2.0  8.0  26.0  498.0   \n",
       "\n",
       "              permutation                                                  \n",
       "                    count      mean        std  min  25%  50%  75%    max  \n",
       "user_verified                                                              \n",
       "False             16851.0  8.695092  32.620479  0.0  0.0  1.0  4.0  515.0  \n",
       "True               1073.0  6.266542  23.010173  0.0  0.0  1.0  4.0  436.0  "
      ]
     },
     "execution_count": 89,
     "metadata": {},
     "output_type": "execute_result"
    }
   ],
   "source": [
    "#using code from the Springboard apps project\n",
    "df['permutation'] = np.random.permutation(df['favorite_count'].values).astype(int)\n",
    "\n",
    "df.groupby('user_verified').describe()[['favorite_count', 'permutation']]"
   ]
  },
  {
   "cell_type": "code",
   "execution_count": 90,
   "metadata": {},
   "outputs": [
    {
     "data": {
      "text/html": [
       "<div>\n",
       "<style scoped>\n",
       "    .dataframe tbody tr th:only-of-type {\n",
       "        vertical-align: middle;\n",
       "    }\n",
       "\n",
       "    .dataframe tbody tr th {\n",
       "        vertical-align: top;\n",
       "    }\n",
       "\n",
       "    .dataframe thead th {\n",
       "        text-align: right;\n",
       "    }\n",
       "</style>\n",
       "<table border=\"1\" class=\"dataframe\">\n",
       "  <thead>\n",
       "    <tr style=\"text-align: right;\">\n",
       "      <th></th>\n",
       "      <th>favorite_count</th>\n",
       "      <th>permutation</th>\n",
       "    </tr>\n",
       "    <tr>\n",
       "      <th>user_verified</th>\n",
       "      <th></th>\n",
       "      <th></th>\n",
       "    </tr>\n",
       "  </thead>\n",
       "  <tbody>\n",
       "    <tr>\n",
       "      <th>False</th>\n",
       "      <td>7.17358</td>\n",
       "      <td>8.695092</td>\n",
       "    </tr>\n",
       "    <tr>\n",
       "      <th>True</th>\n",
       "      <td>30.16123</td>\n",
       "      <td>6.266542</td>\n",
       "    </tr>\n",
       "  </tbody>\n",
       "</table>\n",
       "</div>"
      ],
      "text/plain": [
       "               favorite_count  permutation\n",
       "user_verified                             \n",
       "False                 7.17358     8.695092\n",
       "True                 30.16123     6.266542"
      ]
     },
     "execution_count": 90,
     "metadata": {},
     "output_type": "execute_result"
    }
   ],
   "source": [
    "df.groupby('user_verified').mean()[['favorite_count', 'permutation']]"
   ]
  },
  {
   "cell_type": "code",
   "execution_count": 92,
   "metadata": {},
   "outputs": [],
   "source": [
    "import warnings\n",
    "warnings.filterwarnings('ignore')"
   ]
  },
  {
   "cell_type": "code",
   "execution_count": 93,
   "metadata": {},
   "outputs": [],
   "source": [
    "difference = []\n",
    "perm_df = df[['user_verified', 'favorite_count', 'permutation']]   \n",
    "for n in range(10000):\n",
    "    perm_df.loc[:, 'permutation']  = np.random.permutation(perm_df['favorite_count'].values).astype(int)\n",
    "    gb_df = perm_df.groupby('user_verified').mean()\n",
    "    diff = gb_df.at[False, 'permutation'] - gb_df.at[True, 'permutation']\n",
    "    difference.append(diff)"
   ]
  },
  {
   "cell_type": "code",
   "execution_count": 94,
   "metadata": {},
   "outputs": [
    {
     "data": {
      "image/png": "[encoded data removed]",
      "text/plain": [
       "<Figure size 432x288 with 1 Axes>"
      ]
     },
     "metadata": {
      "needs_background": "light"
     },
     "output_type": "display_data"
    }
   ],
   "source": [
    "sns.histplot(difference)\n",
    "plt.show()"
   ]
  },
  {
   "cell_type": "code",
   "execution_count": 98,
   "metadata": {},
   "outputs": [
    {
     "data": {
      "text/plain": [
       "user_verified\n",
       "False     7.17358\n",
       "True     30.16123\n",
       "Name: favorite_count, dtype: float64"
      ]
     },
     "execution_count": 98,
     "metadata": {},
     "output_type": "execute_result"
    }
   ],
   "source": [
    "df.groupby('user_verified').mean()['favorite_count']"
   ]
  },
  {
   "cell_type": "code",
   "execution_count": 99,
   "metadata": {},
   "outputs": [
    {
     "data": {
      "text/plain": [
       "user_verified\n",
       "False    1\n",
       "True     8\n",
       "Name: favorite_count, dtype: Int64"
      ]
     },
     "execution_count": 99,
     "metadata": {},
     "output_type": "execute_result"
    }
   ],
   "source": [
    "df.groupby('user_verified').median()['favorite_count']"
   ]
  },
  {
   "cell_type": "code",
   "execution_count": 96,
   "metadata": {},
   "outputs": [
    {
     "name": "stdout",
     "output_type": "stream",
     "text": [
      "22.98764999275764\n"
     ]
    }
   ],
   "source": [
    "obs_difference =  df.groupby('user_verified').mean().at[False, 'favorite_count'] - df.groupby('user_verified').mean().at[True, 'favorite_count']\n",
    "obs_difference = abs(obs_difference)\n",
    "print(obs_difference)"
   ]
  },
  {
   "cell_type": "markdown",
   "metadata": {},
   "source": [
    "That is a VERY BIG difference between the observed means and the permutation means, and between their medians, too. Is there potentially an outlier throwing off the verified values? "
   ]
  },
  {
   "cell_type": "code",
   "execution_count": 100,
   "metadata": {
    "scrolled": true
   },
   "outputs": [
    {
     "data": {
      "text/plain": [
       "tid                  uid                \n",
       "1343660017489162240  1143921823735828480    498\n",
       "1371608833236348931  2729615444             491\n",
       "1372650235806285824  271650180              436\n",
       "1371935966798155781  369613362              424\n",
       "1360268284365594627  18831926               404\n",
       "1358109526411669505  65045121               395\n",
       "1369764677593395202  32774989               373\n",
       "1296129043864133636  29523440               348\n",
       "1343870667956097026  434239640              340\n",
       "1360348917989277696  78621972               340\n",
       "1368988745815490561  22279296               337\n",
       "1352275619464302592  19682187               326\n",
       "1347990182956560385  17662250               310\n",
       "1354191088173649927  125086098              301\n",
       "1347588880841773057  78621972               301\n",
       "Name: favorite_count, dtype: Int64"
      ]
     },
     "execution_count": 100,
     "metadata": {},
     "output_type": "execute_result"
    }
   ],
   "source": [
    "verified['favorite_count'].sort_values(ascending=False)[:15]"
   ]
  },
  {
   "cell_type": "code",
   "execution_count": 101,
   "metadata": {},
   "outputs": [
    {
     "data": {
      "text/plain": [
       "tid                  uid                \n",
       "1315392462295371783  36638077               515\n",
       "1356222328825389060  230378085              503\n",
       "1356176765794869250  248448795              490\n",
       "1360144333698195457  167474190              486\n",
       "1349719139389206528  2482562966             484\n",
       "1364727794215788547  29137381               479\n",
       "1371586080328269825  23797714               476\n",
       "1315376804312559618  36638077               470\n",
       "1358245541163855872  4551798614             456\n",
       "1315376797823971328  36638077               451\n",
       "1360300599162466306  487929240              449\n",
       "1358087110100590593  1336578177628434434    445\n",
       "792794026126761985   1230837734             444\n",
       "1362125809696317444  933028941220253697     439\n",
       "1374082448796098567  1285663194078482434    428\n",
       "Name: favorite_count, dtype: Int64"
      ]
     },
     "execution_count": 101,
     "metadata": {},
     "output_type": "execute_result"
    }
   ],
   "source": [
    "not_verified['favorite_count'].sort_values(ascending=False)[:15]"
   ]
  },
  {
   "cell_type": "markdown",
   "metadata": {},
   "source": [
    "no, because I already took care of outliers, the top values for both verified and non verified look the same. What about the bottom values though?"
   ]
  },
  {
   "cell_type": "code",
   "execution_count": 105,
   "metadata": {},
   "outputs": [
    {
     "data": {
      "text/plain": [
       "(109, 1073, 0.1015843429636533)"
      ]
     },
     "execution_count": 105,
     "metadata": {},
     "output_type": "execute_result"
    }
   ],
   "source": [
    "sum(verified['favorite_count'] == 0), len(verified), (sum(verified['favorite_count'] == 0) / len(verified))"
   ]
  },
  {
   "cell_type": "code",
   "execution_count": 106,
   "metadata": {},
   "outputs": [
    {
     "data": {
      "text/plain": [
       "(7393, 16851, 0.43872767194825235)"
      ]
     },
     "execution_count": 106,
     "metadata": {},
     "output_type": "execute_result"
    }
   ],
   "source": [
    "sum(not_verified['favorite_count'] == 0), len(not_verified), sum(not_verified['favorite_count'] == 0)/ len(not_verified)"
   ]
  },
  {
   "cell_type": "markdown",
   "metadata": {},
   "source": [
    "not only are there far fewer verified account tweets, but only 10% of them have 0 favorites, while almost 44% of the almost 17k non verified tweets have 0 favorites. This is definitely skewing the results here. "
   ]
  },
  {
   "cell_type": "markdown",
   "metadata": {},
   "source": [
    "If a tweet gets at least 1 favorite, then is there a statisitical difference between the number of favorites between verified and non verified user tweets?"
   ]
  },
  {
   "cell_type": "code",
   "execution_count": 108,
   "metadata": {},
   "outputs": [
    {
     "data": {
      "text/html": [
       "<div>\n",
       "<style scoped>\n",
       "    .dataframe tbody tr th:only-of-type {\n",
       "        vertical-align: middle;\n",
       "    }\n",
       "\n",
       "    .dataframe tbody tr th {\n",
       "        vertical-align: top;\n",
       "    }\n",
       "\n",
       "    .dataframe thead th {\n",
       "        text-align: right;\n",
       "    }\n",
       "</style>\n",
       "<table border=\"1\" class=\"dataframe\">\n",
       "  <thead>\n",
       "    <tr style=\"text-align: right;\">\n",
       "      <th></th>\n",
       "      <th>favorite_count</th>\n",
       "    </tr>\n",
       "    <tr>\n",
       "      <th>user_verified</th>\n",
       "      <th></th>\n",
       "    </tr>\n",
       "  </thead>\n",
       "  <tbody>\n",
       "    <tr>\n",
       "      <th>False</th>\n",
       "      <td>12.780926</td>\n",
       "    </tr>\n",
       "    <tr>\n",
       "      <th>True</th>\n",
       "      <td>33.571577</td>\n",
       "    </tr>\n",
       "  </tbody>\n",
       "</table>\n",
       "</div>"
      ],
      "text/plain": [
       "               favorite_count\n",
       "user_verified                \n",
       "False               12.780926\n",
       "True                33.571577"
      ]
     },
     "execution_count": 108,
     "metadata": {},
     "output_type": "execute_result"
    }
   ],
   "source": [
    "df_0 = df[df.favorite_count>0]\n",
    "df_0['permutation'] = np.random.permutation(df_0['favorite_count'].values).astype(int)\n",
    "df_0.groupby('user_verified').mean()[['favorite_count']]"
   ]
  },
  {
   "cell_type": "code",
   "execution_count": 109,
   "metadata": {},
   "outputs": [],
   "source": [
    "difference = []\n",
    "perm_df = df_0[['user_verified', 'favorite_count', 'permutation']]   \n",
    "for n in range(10000):\n",
    "    perm_df.loc[:, 'permutation']  = np.random.permutation(perm_df['favorite_count'].values).astype(int)\n",
    "    gb_df = perm_df.groupby('user_verified').mean()\n",
    "    diff = gb_df.at[False, 'permutation'] - gb_df.at[True, 'permutation']\n",
    "    difference.append(diff)"
   ]
  },
  {
   "cell_type": "code",
   "execution_count": 110,
   "metadata": {},
   "outputs": [
    {
     "data": {
      "image/png": "[encoded data removed]",
      "text/plain": [
       "<Figure size 432x288 with 1 Axes>"
      ]
     },
     "metadata": {
      "needs_background": "light"
     },
     "output_type": "display_data"
    }
   ],
   "source": [
    "sns.histplot(difference)\n",
    "plt.show()"
   ]
  },
  {
   "cell_type": "code",
   "execution_count": 112,
   "metadata": {},
   "outputs": [
    {
     "data": {
      "text/plain": [
       "user_verified\n",
       "False    12.780926\n",
       "True     33.571577\n",
       "Name: favorite_count, dtype: float64"
      ]
     },
     "execution_count": 112,
     "metadata": {},
     "output_type": "execute_result"
    }
   ],
   "source": [
    "df_0.groupby('user_verified').mean()['favorite_count']"
   ]
  },
  {
   "cell_type": "code",
   "execution_count": 113,
   "metadata": {},
   "outputs": [
    {
     "name": "stdout",
     "output_type": "stream",
     "text": [
      "20.79065056344318\n"
     ]
    }
   ],
   "source": [
    "obs_difference =  df_0.groupby('user_verified').mean().at[False, 'favorite_count'] - df_0.groupby('user_verified').mean().at[True, 'favorite_count']\n",
    "obs_difference = abs(obs_difference)\n",
    "print(obs_difference)"
   ]
  },
  {
   "cell_type": "code",
   "execution_count": 114,
   "metadata": {},
   "outputs": [
    {
     "data": {
      "text/plain": [
       "0.0"
      ]
     },
     "execution_count": 114,
     "metadata": {},
     "output_type": "execute_result"
    }
   ],
   "source": [
    "p = np.sum(np.array(difference) >= obs_difference) / len(difference)\n",
    "p"
   ]
  },
  {
   "cell_type": "markdown",
   "metadata": {},
   "source": [
    "Even removing all tweets with 0 favorites, the difference in number favorites per tweet between verified and not verified users is statistically significant, with a p value that is vanishingly small."
   ]
  },
  {
   "cell_type": "markdown",
   "metadata": {},
   "source": [
    "this presents a bit of a challenge for my analysis, since being verified or not is not always in the control of the account owners. While an organization has a better chance of getting verified than an individual, it's not a guarantee. I will have to consider whether or not to exclude tweets from verified accounts for my analysis."
   ]
  },
  {
   "cell_type": "code",
   "execution_count": 115,
   "metadata": {},
   "outputs": [
    {
     "data": {
      "image/png": "[encoded data removed]",
      "text/plain": [
       "<Figure size 720x720 with 1 Axes>"
      ]
     },
     "metadata": {
      "needs_background": "light"
     },
     "output_type": "display_data"
    }
   ],
   "source": [
    "fig, ax = plt.subplots(figsize=(10,10))\n",
    "s = sns.scatterplot(data=df, x='user_followers_count', y='favorite_count', hue='user_verified',\n",
    "                alpha=.8, marker='+', s=100\n",
    "           )\n",
    "plt.show()"
   ]
  },
  {
   "cell_type": "markdown",
   "metadata": {},
   "source": [
    "while from this plot it looks like verified users tend to have more followers, it still looks like the majority of higher favorite count tweets come from accounts with relatively lower follower counts, whether or not they're verified."
   ]
  },
  {
   "cell_type": "code",
   "execution_count": 116,
   "metadata": {},
   "outputs": [],
   "source": [
    "x = np.array(df['user_followers_count'])\n",
    "y = np.array(df['favorite_count'])"
   ]
  },
  {
   "cell_type": "code",
   "execution_count": 117,
   "metadata": {},
   "outputs": [
    {
     "data": {
      "text/plain": [
       "0.01370255059961829"
      ]
     },
     "execution_count": 117,
     "metadata": {},
     "output_type": "execute_result"
    }
   ],
   "source": [
    "r = np.corrcoef(x.astype(int),y.astype(int))[0,1]\n",
    "r_sq = r**2\n",
    "r_sq"
   ]
  },
  {
   "cell_type": "markdown",
   "metadata": {},
   "source": [
    "There is no correlation between user follower count and favorite count of a tweet they made. "
   ]
  },
  {
   "cell_type": "markdown",
   "metadata": {},
   "source": [
    "Just to check, since there are so many values that are zero, let's log+1 transform and try again."
   ]
  },
  {
   "cell_type": "code",
   "execution_count": 119,
   "metadata": {},
   "outputs": [
    {
     "data": {
      "image/png": "[encoded data removed]",
      "text/plain": [
       "<Figure size 720x720 with 1 Axes>"
      ]
     },
     "metadata": {
      "needs_background": "light"
     },
     "output_type": "display_data"
    }
   ],
   "source": [
    "fig, ax = plt.subplots(figsize=(10,10))\n",
    "log_v = np.log(verified[parameter].values + 1)\n",
    "log_nv = np.log(not_verified[parameter].values + 1)\n",
    "\n",
    "s = sns.scatterplot(data=df, x=np.log(df['user_followers_count'].values+1), \n",
    "                    y=np.log(df['favorite_count'].values+1), hue='user_verified',\n",
    "                alpha=.8, marker='+', s=100\n",
    "           )\n",
    "\n",
    "ax.set_xlabel(\"log(follower_count)\")\n",
    "ax.set_ylabel(\"log(favorite_count)\")\n",
    "plt.show()"
   ]
  },
  {
   "cell_type": "markdown",
   "metadata": {},
   "source": [
    "AGain, it looks like though verified users tend to have higher follower counts, the overall favorite count doesn't seem to be affected by follower count."
   ]
  },
  {
   "cell_type": "code",
   "execution_count": 120,
   "metadata": {},
   "outputs": [
    {
     "data": {
      "text/plain": [
       "0.19082457752694154"
      ]
     },
     "execution_count": 120,
     "metadata": {},
     "output_type": "execute_result"
    }
   ],
   "source": [
    "r = np.corrcoef(np.log(x.astype(int) +1),np.log(y.astype(int) +1))[0,1]\n",
    "r_sq = r**2\n",
    "r_sq"
   ]
  },
  {
   "cell_type": "markdown",
   "metadata": {},
   "source": [
    "There is a very weak correlation here. Still not enough to say that follower count itself is what's responsible for the increased favorites that verified accounts get."
   ]
  },
  {
   "cell_type": "markdown",
   "metadata": {},
   "source": [
    "So it doesn't appear that verified users' tendency to have a higher follower count isn't what's responsible for the higher favorite counts. Likely, Twitter's algorithms which favor displaying tweets of verified users is what's responsible here. "
   ]
  },
  {
   "cell_type": "markdown",
   "metadata": {},
   "source": [
    "This still leaves me with the decision of what to do regarding tweets from verified accounts. "
   ]
  },
  {
   "cell_type": "code",
   "execution_count": null,
   "metadata": {},
   "outputs": [],
   "source": []
  },
  {
   "cell_type": "code",
   "execution_count": null,
   "metadata": {},
   "outputs": [],
   "source": []
  },
  {
   "cell_type": "code",
   "execution_count": null,
   "metadata": {},
   "outputs": [],
   "source": []
  },
  {
   "cell_type": "code",
   "execution_count": null,
   "metadata": {},
   "outputs": [],
   "source": []
  },
  {
   "cell_type": "code",
   "execution_count": null,
   "metadata": {},
   "outputs": [],
   "source": []
  },
  {
   "cell_type": "code",
   "execution_count": null,
   "metadata": {},
   "outputs": [],
   "source": []
  }
 ],
 "metadata": {
  "kernelspec": {
   "display_name": "nlp",
   "language": "python",
   "name": "nlp"
  },
  "language_info": {
   "codemirror_mode": {
    "name": "ipython",
    "version": 3
   },
   "file_extension": ".py",
   "mimetype": "text/x-python",
   "name": "python",
   "nbconvert_exporter": "python",
   "pygments_lexer": "ipython3",
   "version": "3.8.5"
  }
 },
 "nbformat": 4,
 "nbformat_minor": 4
}

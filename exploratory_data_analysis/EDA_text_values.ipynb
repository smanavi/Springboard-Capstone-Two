{
 "cells": [
  {
   "cell_type": "markdown",
   "metadata": {},
   "source": [
    "#### import the things"
   ]
  },
  {
   "cell_type": "code",
   "execution_count": 1,
   "metadata": {},
   "outputs": [],
   "source": [
    "import pandas as pd\n",
    "import json\n",
    "import os\n",
    "import numpy as np\n",
    "import matplotlib.pyplot as plt\n",
    "import seaborn as sns\n",
    "\n",
    "idx = pd.IndexSlice\n",
    "\n"
   ]
  },
  {
   "cell_type": "code",
   "execution_count": 12,
   "metadata": {},
   "outputs": [],
   "source": [
    "from sklearn.feature_extraction.text import CountVectorizer, TfidfVectorizer, TfidfTransformer\n",
    "from sklearn.pipeline import make_pipeline, Pipeline"
   ]
  },
  {
   "cell_type": "code",
   "execution_count": 2,
   "metadata": {},
   "outputs": [
    {
     "name": "stderr",
     "output_type": "stream",
     "text": [
      "[nltk_data] Downloading package stopwords to\n",
      "[nltk_data]     C:\\Users\\smana\\AppData\\Roaming\\nltk_data...\n",
      "[nltk_data]   Package stopwords is already up-to-date!\n"
     ]
    }
   ],
   "source": [
    "# import re\n",
    "# from collections import Counter\n",
    "# from textblob import TextBlob as tb\n",
    "\n",
    "# import pattern.en as ptrn\n",
    "# import pattern\n",
    "\n",
    "# import nltk\n",
    "# nltk.download('stopwords')\n",
    "# from nltk.corpus import stopwords\n",
    "# from rake_nltk import Rake\n",
    "# from nltk.stem import WordNetLemmatizer\n",
    "\n",
    "# import string\n",
    "# custom_stopwords = ['amp']\n",
    "# punc = string.punctuation"
   ]
  },
  {
   "cell_type": "code",
   "execution_count": 4,
   "metadata": {},
   "outputs": [],
   "source": [
    "data_fol = r\"..\\data_files\"\n",
    "\n",
    "df = pd.read_pickle(os.path.join(data_fol, \"dataset_text_only.pkl\"))"
   ]
  },
  {
   "cell_type": "code",
   "execution_count": 6,
   "metadata": {},
   "outputs": [
    {
     "data": {
      "text/html": [
       "<div>\n",
       "<style scoped>\n",
       "    .dataframe tbody tr th:only-of-type {\n",
       "        vertical-align: middle;\n",
       "    }\n",
       "\n",
       "    .dataframe tbody tr th {\n",
       "        vertical-align: top;\n",
       "    }\n",
       "\n",
       "    .dataframe thead th {\n",
       "        text-align: right;\n",
       "    }\n",
       "</style>\n",
       "<table border=\"1\" class=\"dataframe\">\n",
       "  <thead>\n",
       "    <tr style=\"text-align: right;\">\n",
       "      <th></th>\n",
       "      <th>tid</th>\n",
       "      <th>text</th>\n",
       "      <th>clean</th>\n",
       "      <th>hashtags</th>\n",
       "      <th>hashtags_count</th>\n",
       "      <th>mentions</th>\n",
       "      <th>clean_no_@#</th>\n",
       "    </tr>\n",
       "  </thead>\n",
       "  <tbody>\n",
       "    <tr>\n",
       "      <th>0</th>\n",
       "      <td>1333476068192366593</td>\n",
       "      <td>Teen pregnancy is high, HIV infection rate is ...</td>\n",
       "      <td>[teen, pregnancy, high, hiv, infection, rate, ...</td>\n",
       "      <td>[]</td>\n",
       "      <td>0</td>\n",
       "      <td>[]</td>\n",
       "      <td>teen pregnancy high hiv infection rate growing...</td>\n",
       "    </tr>\n",
       "    <tr>\n",
       "      <th>1</th>\n",
       "      <td>1364161232270487553</td>\n",
       "      <td>Even though it was a charity.  Stevens thought...</td>\n",
       "      <td>[even, though, charity, stevens, thought, spea...</td>\n",
       "      <td>[hiv, haemophilia]</td>\n",
       "      <td>2</td>\n",
       "      <td>[bloodinquiry]</td>\n",
       "      <td>even though charity stevens thought speaking d...</td>\n",
       "    </tr>\n",
       "    <tr>\n",
       "      <th>2</th>\n",
       "      <td>1364161201291153414</td>\n",
       "      <td>SCORA\\nStanding Committee on Sexual &amp;amp; Repr...</td>\n",
       "      <td>[scora, standing, committee, sexual, reproduct...</td>\n",
       "      <td>[]</td>\n",
       "      <td>0</td>\n",
       "      <td>[]</td>\n",
       "      <td>scora standing committee sexual reproductive h...</td>\n",
       "    </tr>\n",
       "    <tr>\n",
       "      <th>3</th>\n",
       "      <td>1364161184505737217</td>\n",
       "      <td>many females are HIV+, we wish you well, bless...</td>\n",
       "      <td>[many, female, hiv, wish, well, blessing, cant...</td>\n",
       "      <td>[]</td>\n",
       "      <td>0</td>\n",
       "      <td>[]</td>\n",
       "      <td>many female hiv wish well blessing cant heal t...</td>\n",
       "    </tr>\n",
       "    <tr>\n",
       "      <th>4</th>\n",
       "      <td>1363439109948149760</td>\n",
       "      <td>@TheRustler83 Yep. Imagine if the government w...</td>\n",
       "      <td>[therustler83, yep, imagine, government, deman...</td>\n",
       "      <td>[]</td>\n",
       "      <td>0</td>\n",
       "      <td>[therustler83]</td>\n",
       "      <td>yep imagine government demanding hiv test week...</td>\n",
       "    </tr>\n",
       "  </tbody>\n",
       "</table>\n",
       "</div>"
      ],
      "text/plain": [
       "                   tid                                               text  \\\n",
       "0  1333476068192366593  Teen pregnancy is high, HIV infection rate is ...   \n",
       "1  1364161232270487553  Even though it was a charity.  Stevens thought...   \n",
       "2  1364161201291153414  SCORA\\nStanding Committee on Sexual &amp; Repr...   \n",
       "3  1364161184505737217  many females are HIV+, we wish you well, bless...   \n",
       "4  1363439109948149760  @TheRustler83 Yep. Imagine if the government w...   \n",
       "\n",
       "                                               clean            hashtags  \\\n",
       "0  [teen, pregnancy, high, hiv, infection, rate, ...                  []   \n",
       "1  [even, though, charity, stevens, thought, spea...  [hiv, haemophilia]   \n",
       "2  [scora, standing, committee, sexual, reproduct...                  []   \n",
       "3  [many, female, hiv, wish, well, blessing, cant...                  []   \n",
       "4  [therustler83, yep, imagine, government, deman...                  []   \n",
       "\n",
       "   hashtags_count        mentions  \\\n",
       "0               0              []   \n",
       "1               2  [bloodinquiry]   \n",
       "2               0              []   \n",
       "3               0              []   \n",
       "4               0  [therustler83]   \n",
       "\n",
       "                                         clean_no_@#  \n",
       "0  teen pregnancy high hiv infection rate growing...  \n",
       "1  even though charity stevens thought speaking d...  \n",
       "2  scora standing committee sexual reproductive h...  \n",
       "3  many female hiv wish well blessing cant heal t...  \n",
       "4  yep imagine government demanding hiv test week...  "
      ]
     },
     "execution_count": 6,
     "metadata": {},
     "output_type": "execute_result"
    }
   ],
   "source": [
    "df.head()"
   ]
  },
  {
   "cell_type": "markdown",
   "metadata": {},
   "source": [
    "#### try a few different transformations"
   ]
  },
  {
   "cell_type": "markdown",
   "metadata": {},
   "source": [
    "Pipeline of countvectorizing and tfdif"
   ]
  },
  {
   "cell_type": "code",
   "execution_count": 37,
   "metadata": {},
   "outputs": [],
   "source": [
    "pipeline = Pipeline(steps=[\n",
    "                        ('countvect', CountVectorizer(min_df=.005)),\n",
    "                        ('tfdif', TfidfTransformer())\n",
    "                            ])"
   ]
  },
  {
   "cell_type": "code",
   "execution_count": 38,
   "metadata": {},
   "outputs": [],
   "source": [
    "p_xform = pipeline.fit_transform(df['clean_no_@#'])"
   ]
  },
  {
   "cell_type": "code",
   "execution_count": 39,
   "metadata": {},
   "outputs": [
    {
     "data": {
      "text/html": [
       "<div>\n",
       "<style scoped>\n",
       "    .dataframe tbody tr th:only-of-type {\n",
       "        vertical-align: middle;\n",
       "    }\n",
       "\n",
       "    .dataframe tbody tr th {\n",
       "        vertical-align: top;\n",
       "    }\n",
       "\n",
       "    .dataframe thead th {\n",
       "        text-align: right;\n",
       "    }\n",
       "</style>\n",
       "<table border=\"1\" class=\"dataframe\">\n",
       "  <thead>\n",
       "    <tr style=\"text-align: right;\">\n",
       "      <th></th>\n",
       "      <th>10</th>\n",
       "      <th>12</th>\n",
       "      <th>1980s</th>\n",
       "      <th>20</th>\n",
       "      <th>2020</th>\n",
       "      <th>2021</th>\n",
       "      <th>30</th>\n",
       "      <th>40</th>\n",
       "      <th>80</th>\n",
       "      <th>90</th>\n",
       "      <th>...</th>\n",
       "      <th>worked</th>\n",
       "      <th>working</th>\n",
       "      <th>world</th>\n",
       "      <th>would</th>\n",
       "      <th>wrong</th>\n",
       "      <th>year</th>\n",
       "      <th>yes</th>\n",
       "      <th>yet</th>\n",
       "      <th>young</th>\n",
       "      <th>youre</th>\n",
       "    </tr>\n",
       "  </thead>\n",
       "  <tbody>\n",
       "    <tr>\n",
       "      <th>0</th>\n",
       "      <td>0.0</td>\n",
       "      <td>0.0</td>\n",
       "      <td>0.0</td>\n",
       "      <td>0.0</td>\n",
       "      <td>0.0</td>\n",
       "      <td>0.0</td>\n",
       "      <td>0.0</td>\n",
       "      <td>0.0</td>\n",
       "      <td>0.0</td>\n",
       "      <td>0.0</td>\n",
       "      <td>...</td>\n",
       "      <td>0.0</td>\n",
       "      <td>0.0</td>\n",
       "      <td>0.000000</td>\n",
       "      <td>0.00000</td>\n",
       "      <td>0.0</td>\n",
       "      <td>0.0</td>\n",
       "      <td>0.0</td>\n",
       "      <td>0.0</td>\n",
       "      <td>0.0</td>\n",
       "      <td>0.0</td>\n",
       "    </tr>\n",
       "    <tr>\n",
       "      <th>1</th>\n",
       "      <td>0.0</td>\n",
       "      <td>0.0</td>\n",
       "      <td>0.0</td>\n",
       "      <td>0.0</td>\n",
       "      <td>0.0</td>\n",
       "      <td>0.0</td>\n",
       "      <td>0.0</td>\n",
       "      <td>0.0</td>\n",
       "      <td>0.0</td>\n",
       "      <td>0.0</td>\n",
       "      <td>...</td>\n",
       "      <td>0.0</td>\n",
       "      <td>0.0</td>\n",
       "      <td>0.000000</td>\n",
       "      <td>0.00000</td>\n",
       "      <td>0.0</td>\n",
       "      <td>0.0</td>\n",
       "      <td>0.0</td>\n",
       "      <td>0.0</td>\n",
       "      <td>0.0</td>\n",
       "      <td>0.0</td>\n",
       "    </tr>\n",
       "    <tr>\n",
       "      <th>2</th>\n",
       "      <td>0.0</td>\n",
       "      <td>0.0</td>\n",
       "      <td>0.0</td>\n",
       "      <td>0.0</td>\n",
       "      <td>0.0</td>\n",
       "      <td>0.0</td>\n",
       "      <td>0.0</td>\n",
       "      <td>0.0</td>\n",
       "      <td>0.0</td>\n",
       "      <td>0.0</td>\n",
       "      <td>...</td>\n",
       "      <td>0.0</td>\n",
       "      <td>0.0</td>\n",
       "      <td>0.000000</td>\n",
       "      <td>0.00000</td>\n",
       "      <td>0.0</td>\n",
       "      <td>0.0</td>\n",
       "      <td>0.0</td>\n",
       "      <td>0.0</td>\n",
       "      <td>0.0</td>\n",
       "      <td>0.0</td>\n",
       "    </tr>\n",
       "    <tr>\n",
       "      <th>3</th>\n",
       "      <td>0.0</td>\n",
       "      <td>0.0</td>\n",
       "      <td>0.0</td>\n",
       "      <td>0.0</td>\n",
       "      <td>0.0</td>\n",
       "      <td>0.0</td>\n",
       "      <td>0.0</td>\n",
       "      <td>0.0</td>\n",
       "      <td>0.0</td>\n",
       "      <td>0.0</td>\n",
       "      <td>...</td>\n",
       "      <td>0.0</td>\n",
       "      <td>0.0</td>\n",
       "      <td>0.000000</td>\n",
       "      <td>0.00000</td>\n",
       "      <td>0.0</td>\n",
       "      <td>0.0</td>\n",
       "      <td>0.0</td>\n",
       "      <td>0.0</td>\n",
       "      <td>0.0</td>\n",
       "      <td>0.0</td>\n",
       "    </tr>\n",
       "    <tr>\n",
       "      <th>4</th>\n",
       "      <td>0.0</td>\n",
       "      <td>0.0</td>\n",
       "      <td>0.0</td>\n",
       "      <td>0.0</td>\n",
       "      <td>0.0</td>\n",
       "      <td>0.0</td>\n",
       "      <td>0.0</td>\n",
       "      <td>0.0</td>\n",
       "      <td>0.0</td>\n",
       "      <td>0.0</td>\n",
       "      <td>...</td>\n",
       "      <td>0.0</td>\n",
       "      <td>0.0</td>\n",
       "      <td>0.000000</td>\n",
       "      <td>0.00000</td>\n",
       "      <td>0.0</td>\n",
       "      <td>0.0</td>\n",
       "      <td>0.0</td>\n",
       "      <td>0.0</td>\n",
       "      <td>0.0</td>\n",
       "      <td>0.0</td>\n",
       "    </tr>\n",
       "    <tr>\n",
       "      <th>...</th>\n",
       "      <td>...</td>\n",
       "      <td>...</td>\n",
       "      <td>...</td>\n",
       "      <td>...</td>\n",
       "      <td>...</td>\n",
       "      <td>...</td>\n",
       "      <td>...</td>\n",
       "      <td>...</td>\n",
       "      <td>...</td>\n",
       "      <td>...</td>\n",
       "      <td>...</td>\n",
       "      <td>...</td>\n",
       "      <td>...</td>\n",
       "      <td>...</td>\n",
       "      <td>...</td>\n",
       "      <td>...</td>\n",
       "      <td>...</td>\n",
       "      <td>...</td>\n",
       "      <td>...</td>\n",
       "      <td>...</td>\n",
       "      <td>...</td>\n",
       "    </tr>\n",
       "    <tr>\n",
       "      <th>18256</th>\n",
       "      <td>0.0</td>\n",
       "      <td>0.0</td>\n",
       "      <td>0.0</td>\n",
       "      <td>0.0</td>\n",
       "      <td>0.0</td>\n",
       "      <td>0.0</td>\n",
       "      <td>0.0</td>\n",
       "      <td>0.0</td>\n",
       "      <td>0.0</td>\n",
       "      <td>0.0</td>\n",
       "      <td>...</td>\n",
       "      <td>0.0</td>\n",
       "      <td>0.0</td>\n",
       "      <td>0.150182</td>\n",
       "      <td>0.00000</td>\n",
       "      <td>0.0</td>\n",
       "      <td>0.0</td>\n",
       "      <td>0.0</td>\n",
       "      <td>0.0</td>\n",
       "      <td>0.0</td>\n",
       "      <td>0.0</td>\n",
       "    </tr>\n",
       "    <tr>\n",
       "      <th>18257</th>\n",
       "      <td>0.0</td>\n",
       "      <td>0.0</td>\n",
       "      <td>0.0</td>\n",
       "      <td>0.0</td>\n",
       "      <td>0.0</td>\n",
       "      <td>0.0</td>\n",
       "      <td>0.0</td>\n",
       "      <td>0.0</td>\n",
       "      <td>0.0</td>\n",
       "      <td>0.0</td>\n",
       "      <td>...</td>\n",
       "      <td>0.0</td>\n",
       "      <td>0.0</td>\n",
       "      <td>0.000000</td>\n",
       "      <td>0.00000</td>\n",
       "      <td>0.0</td>\n",
       "      <td>0.0</td>\n",
       "      <td>0.0</td>\n",
       "      <td>0.0</td>\n",
       "      <td>0.0</td>\n",
       "      <td>0.0</td>\n",
       "    </tr>\n",
       "    <tr>\n",
       "      <th>18258</th>\n",
       "      <td>0.0</td>\n",
       "      <td>0.0</td>\n",
       "      <td>0.0</td>\n",
       "      <td>0.0</td>\n",
       "      <td>0.0</td>\n",
       "      <td>0.0</td>\n",
       "      <td>0.0</td>\n",
       "      <td>0.0</td>\n",
       "      <td>0.0</td>\n",
       "      <td>0.0</td>\n",
       "      <td>...</td>\n",
       "      <td>0.0</td>\n",
       "      <td>0.0</td>\n",
       "      <td>0.000000</td>\n",
       "      <td>0.00000</td>\n",
       "      <td>0.0</td>\n",
       "      <td>0.0</td>\n",
       "      <td>0.0</td>\n",
       "      <td>0.0</td>\n",
       "      <td>0.0</td>\n",
       "      <td>0.0</td>\n",
       "    </tr>\n",
       "    <tr>\n",
       "      <th>18259</th>\n",
       "      <td>0.0</td>\n",
       "      <td>0.0</td>\n",
       "      <td>0.0</td>\n",
       "      <td>0.0</td>\n",
       "      <td>0.0</td>\n",
       "      <td>0.0</td>\n",
       "      <td>0.0</td>\n",
       "      <td>0.0</td>\n",
       "      <td>0.0</td>\n",
       "      <td>0.0</td>\n",
       "      <td>...</td>\n",
       "      <td>0.0</td>\n",
       "      <td>0.0</td>\n",
       "      <td>0.000000</td>\n",
       "      <td>0.34572</td>\n",
       "      <td>0.0</td>\n",
       "      <td>0.0</td>\n",
       "      <td>0.0</td>\n",
       "      <td>0.0</td>\n",
       "      <td>0.0</td>\n",
       "      <td>0.0</td>\n",
       "    </tr>\n",
       "    <tr>\n",
       "      <th>18260</th>\n",
       "      <td>0.0</td>\n",
       "      <td>0.0</td>\n",
       "      <td>0.0</td>\n",
       "      <td>0.0</td>\n",
       "      <td>0.0</td>\n",
       "      <td>0.0</td>\n",
       "      <td>0.0</td>\n",
       "      <td>0.0</td>\n",
       "      <td>0.0</td>\n",
       "      <td>0.0</td>\n",
       "      <td>...</td>\n",
       "      <td>0.0</td>\n",
       "      <td>0.0</td>\n",
       "      <td>0.000000</td>\n",
       "      <td>0.00000</td>\n",
       "      <td>0.0</td>\n",
       "      <td>0.0</td>\n",
       "      <td>0.0</td>\n",
       "      <td>0.0</td>\n",
       "      <td>0.0</td>\n",
       "      <td>0.0</td>\n",
       "    </tr>\n",
       "  </tbody>\n",
       "</table>\n",
       "<p>18261 rows × 457 columns</p>\n",
       "</div>"
      ],
      "text/plain": [
       "        10   12  1980s   20  2020  2021   30   40   80   90  ...  worked  \\\n",
       "0      0.0  0.0    0.0  0.0   0.0   0.0  0.0  0.0  0.0  0.0  ...     0.0   \n",
       "1      0.0  0.0    0.0  0.0   0.0   0.0  0.0  0.0  0.0  0.0  ...     0.0   \n",
       "2      0.0  0.0    0.0  0.0   0.0   0.0  0.0  0.0  0.0  0.0  ...     0.0   \n",
       "3      0.0  0.0    0.0  0.0   0.0   0.0  0.0  0.0  0.0  0.0  ...     0.0   \n",
       "4      0.0  0.0    0.0  0.0   0.0   0.0  0.0  0.0  0.0  0.0  ...     0.0   \n",
       "...    ...  ...    ...  ...   ...   ...  ...  ...  ...  ...  ...     ...   \n",
       "18256  0.0  0.0    0.0  0.0   0.0   0.0  0.0  0.0  0.0  0.0  ...     0.0   \n",
       "18257  0.0  0.0    0.0  0.0   0.0   0.0  0.0  0.0  0.0  0.0  ...     0.0   \n",
       "18258  0.0  0.0    0.0  0.0   0.0   0.0  0.0  0.0  0.0  0.0  ...     0.0   \n",
       "18259  0.0  0.0    0.0  0.0   0.0   0.0  0.0  0.0  0.0  0.0  ...     0.0   \n",
       "18260  0.0  0.0    0.0  0.0   0.0   0.0  0.0  0.0  0.0  0.0  ...     0.0   \n",
       "\n",
       "       working     world    would  wrong  year  yes  yet  young  youre  \n",
       "0          0.0  0.000000  0.00000    0.0   0.0  0.0  0.0    0.0    0.0  \n",
       "1          0.0  0.000000  0.00000    0.0   0.0  0.0  0.0    0.0    0.0  \n",
       "2          0.0  0.000000  0.00000    0.0   0.0  0.0  0.0    0.0    0.0  \n",
       "3          0.0  0.000000  0.00000    0.0   0.0  0.0  0.0    0.0    0.0  \n",
       "4          0.0  0.000000  0.00000    0.0   0.0  0.0  0.0    0.0    0.0  \n",
       "...        ...       ...      ...    ...   ...  ...  ...    ...    ...  \n",
       "18256      0.0  0.150182  0.00000    0.0   0.0  0.0  0.0    0.0    0.0  \n",
       "18257      0.0  0.000000  0.00000    0.0   0.0  0.0  0.0    0.0    0.0  \n",
       "18258      0.0  0.000000  0.00000    0.0   0.0  0.0  0.0    0.0    0.0  \n",
       "18259      0.0  0.000000  0.34572    0.0   0.0  0.0  0.0    0.0    0.0  \n",
       "18260      0.0  0.000000  0.00000    0.0   0.0  0.0  0.0    0.0    0.0  \n",
       "\n",
       "[18261 rows x 457 columns]"
      ]
     },
     "execution_count": 39,
     "metadata": {},
     "output_type": "execute_result"
    }
   ],
   "source": [
    "pd.DataFrame(p_xform.toarray(), columns=pipeline['countvect'].get_feature_names())"
   ]
  },
  {
   "cell_type": "markdown",
   "metadata": {},
   "source": [
    "Just tfidf with a feature limit"
   ]
  },
  {
   "cell_type": "code",
   "execution_count": 44,
   "metadata": {},
   "outputs": [
    {
     "data": {
      "text/html": [
       "<div>\n",
       "<style scoped>\n",
       "    .dataframe tbody tr th:only-of-type {\n",
       "        vertical-align: middle;\n",
       "    }\n",
       "\n",
       "    .dataframe tbody tr th {\n",
       "        vertical-align: top;\n",
       "    }\n",
       "\n",
       "    .dataframe thead th {\n",
       "        text-align: right;\n",
       "    }\n",
       "</style>\n",
       "<table border=\"1\" class=\"dataframe\">\n",
       "  <thead>\n",
       "    <tr style=\"text-align: right;\">\n",
       "      <th></th>\n",
       "      <th>2021</th>\n",
       "      <th>80</th>\n",
       "      <th>access</th>\n",
       "      <th>africa</th>\n",
       "      <th>ago</th>\n",
       "      <th>aid</th>\n",
       "      <th>awareness</th>\n",
       "      <th>better</th>\n",
       "      <th>black</th>\n",
       "      <th>blood</th>\n",
       "      <th>...</th>\n",
       "      <th>want</th>\n",
       "      <th>way</th>\n",
       "      <th>week</th>\n",
       "      <th>woman</th>\n",
       "      <th>work</th>\n",
       "      <th>world</th>\n",
       "      <th>year</th>\n",
       "      <th>yes</th>\n",
       "      <th>young</th>\n",
       "      <th>youre</th>\n",
       "    </tr>\n",
       "  </thead>\n",
       "  <tbody>\n",
       "    <tr>\n",
       "      <th>0</th>\n",
       "      <td>0.0</td>\n",
       "      <td>0.0</td>\n",
       "      <td>0.0</td>\n",
       "      <td>0.0</td>\n",
       "      <td>0.0</td>\n",
       "      <td>0.0</td>\n",
       "      <td>0.0</td>\n",
       "      <td>0.0</td>\n",
       "      <td>0.0</td>\n",
       "      <td>0.0</td>\n",
       "      <td>...</td>\n",
       "      <td>0.0</td>\n",
       "      <td>0.0</td>\n",
       "      <td>0.0</td>\n",
       "      <td>0.0</td>\n",
       "      <td>0.0</td>\n",
       "      <td>0.0</td>\n",
       "      <td>0.0</td>\n",
       "      <td>0.0</td>\n",
       "      <td>0.0</td>\n",
       "      <td>0.0</td>\n",
       "    </tr>\n",
       "    <tr>\n",
       "      <th>1</th>\n",
       "      <td>0.0</td>\n",
       "      <td>0.0</td>\n",
       "      <td>0.0</td>\n",
       "      <td>0.0</td>\n",
       "      <td>0.0</td>\n",
       "      <td>0.0</td>\n",
       "      <td>0.0</td>\n",
       "      <td>0.0</td>\n",
       "      <td>0.0</td>\n",
       "      <td>0.0</td>\n",
       "      <td>...</td>\n",
       "      <td>0.0</td>\n",
       "      <td>0.0</td>\n",
       "      <td>0.0</td>\n",
       "      <td>0.0</td>\n",
       "      <td>0.0</td>\n",
       "      <td>0.0</td>\n",
       "      <td>0.0</td>\n",
       "      <td>0.0</td>\n",
       "      <td>0.0</td>\n",
       "      <td>0.0</td>\n",
       "    </tr>\n",
       "    <tr>\n",
       "      <th>2</th>\n",
       "      <td>0.0</td>\n",
       "      <td>0.0</td>\n",
       "      <td>0.0</td>\n",
       "      <td>0.0</td>\n",
       "      <td>0.0</td>\n",
       "      <td>0.0</td>\n",
       "      <td>0.0</td>\n",
       "      <td>0.0</td>\n",
       "      <td>0.0</td>\n",
       "      <td>0.0</td>\n",
       "      <td>...</td>\n",
       "      <td>0.0</td>\n",
       "      <td>0.0</td>\n",
       "      <td>0.0</td>\n",
       "      <td>0.0</td>\n",
       "      <td>0.0</td>\n",
       "      <td>0.0</td>\n",
       "      <td>0.0</td>\n",
       "      <td>0.0</td>\n",
       "      <td>0.0</td>\n",
       "      <td>0.0</td>\n",
       "    </tr>\n",
       "    <tr>\n",
       "      <th>3</th>\n",
       "      <td>0.0</td>\n",
       "      <td>0.0</td>\n",
       "      <td>0.0</td>\n",
       "      <td>0.0</td>\n",
       "      <td>0.0</td>\n",
       "      <td>0.0</td>\n",
       "      <td>0.0</td>\n",
       "      <td>0.0</td>\n",
       "      <td>0.0</td>\n",
       "      <td>0.0</td>\n",
       "      <td>...</td>\n",
       "      <td>0.0</td>\n",
       "      <td>0.0</td>\n",
       "      <td>0.0</td>\n",
       "      <td>0.0</td>\n",
       "      <td>0.0</td>\n",
       "      <td>0.0</td>\n",
       "      <td>0.0</td>\n",
       "      <td>0.0</td>\n",
       "      <td>0.0</td>\n",
       "      <td>0.0</td>\n",
       "    </tr>\n",
       "    <tr>\n",
       "      <th>4</th>\n",
       "      <td>0.0</td>\n",
       "      <td>0.0</td>\n",
       "      <td>0.0</td>\n",
       "      <td>0.0</td>\n",
       "      <td>0.0</td>\n",
       "      <td>0.0</td>\n",
       "      <td>0.0</td>\n",
       "      <td>0.0</td>\n",
       "      <td>0.0</td>\n",
       "      <td>0.0</td>\n",
       "      <td>...</td>\n",
       "      <td>0.0</td>\n",
       "      <td>0.0</td>\n",
       "      <td>0.0</td>\n",
       "      <td>0.0</td>\n",
       "      <td>0.0</td>\n",
       "      <td>0.0</td>\n",
       "      <td>0.0</td>\n",
       "      <td>0.0</td>\n",
       "      <td>0.0</td>\n",
       "      <td>0.0</td>\n",
       "    </tr>\n",
       "  </tbody>\n",
       "</table>\n",
       "<p>5 rows × 180 columns</p>\n",
       "</div>"
      ],
      "text/plain": [
       "   2021   80  access  africa  ago  aid  awareness  better  black  blood  ...  \\\n",
       "0   0.0  0.0     0.0     0.0  0.0  0.0        0.0     0.0    0.0    0.0  ...   \n",
       "1   0.0  0.0     0.0     0.0  0.0  0.0        0.0     0.0    0.0    0.0  ...   \n",
       "2   0.0  0.0     0.0     0.0  0.0  0.0        0.0     0.0    0.0    0.0  ...   \n",
       "3   0.0  0.0     0.0     0.0  0.0  0.0        0.0     0.0    0.0    0.0  ...   \n",
       "4   0.0  0.0     0.0     0.0  0.0  0.0        0.0     0.0    0.0    0.0  ...   \n",
       "\n",
       "   want  way  week  woman  work  world  year  yes  young  youre  \n",
       "0   0.0  0.0   0.0    0.0   0.0    0.0   0.0  0.0    0.0    0.0  \n",
       "1   0.0  0.0   0.0    0.0   0.0    0.0   0.0  0.0    0.0    0.0  \n",
       "2   0.0  0.0   0.0    0.0   0.0    0.0   0.0  0.0    0.0    0.0  \n",
       "3   0.0  0.0   0.0    0.0   0.0    0.0   0.0  0.0    0.0    0.0  \n",
       "4   0.0  0.0   0.0    0.0   0.0    0.0   0.0  0.0    0.0    0.0  \n",
       "\n",
       "[5 rows x 180 columns]"
      ]
     },
     "execution_count": 44,
     "metadata": {},
     "output_type": "execute_result"
    }
   ],
   "source": [
    "tf = TfidfVectorizer(stop_words='english', max_features=180,)\n",
    "tf_xform = tf.fit_transform(df['clean_no_@#'])\n",
    "tf_df = pd.DataFrame(tf_xform.toarray(), columns=tf.get_feature_names())\n",
    "tf_df.head()"
   ]
  },
  {
   "cell_type": "code",
   "execution_count": 49,
   "metadata": {},
   "outputs": [
    {
     "data": {
      "text/plain": [
       "hiv        2853.303527\n",
       "people      804.401888\n",
       "hivaids     657.719958\n",
       "like        491.379114\n",
       "aid         477.967689\n",
       "              ...     \n",
       "impact       88.114741\n",
       "victim       82.255977\n",
       "stis         81.851746\n",
       "kit          79.904011\n",
       "seen         78.965078\n",
       "Length: 180, dtype: float64"
      ]
     },
     "execution_count": 49,
     "metadata": {},
     "output_type": "execute_result"
    }
   ],
   "source": [
    "tf_df.sum().sort_values(ascending=False)"
   ]
  },
  {
   "cell_type": "markdown",
   "metadata": {},
   "source": [
    "tfidf with 2-grams"
   ]
  },
  {
   "cell_type": "code",
   "execution_count": 50,
   "metadata": {},
   "outputs": [
    {
     "data": {
      "text/html": [
       "<div>\n",
       "<style scoped>\n",
       "    .dataframe tbody tr th:only-of-type {\n",
       "        vertical-align: middle;\n",
       "    }\n",
       "\n",
       "    .dataframe tbody tr th {\n",
       "        vertical-align: top;\n",
       "    }\n",
       "\n",
       "    .dataframe thead th {\n",
       "        text-align: right;\n",
       "    }\n",
       "</style>\n",
       "<table border=\"1\" class=\"dataframe\">\n",
       "  <thead>\n",
       "    <tr style=\"text-align: right;\">\n",
       "      <th></th>\n",
       "      <th>260 rape</th>\n",
       "      <th>30 year</th>\n",
       "      <th>40 year</th>\n",
       "      <th>accountability justice</th>\n",
       "      <th>acquire disease</th>\n",
       "      <th>affected hiv</th>\n",
       "      <th>aid crisis</th>\n",
       "      <th>aid hiv</th>\n",
       "      <th>antiretroviral therapy</th>\n",
       "      <th>awareness day</th>\n",
       "      <th>...</th>\n",
       "      <th>virus hiv</th>\n",
       "      <th>wife husbandsall</th>\n",
       "      <th>woman girl</th>\n",
       "      <th>woman hiv</th>\n",
       "      <th>woman living</th>\n",
       "      <th>work hiv</th>\n",
       "      <th>world test</th>\n",
       "      <th>year ago</th>\n",
       "      <th>year old</th>\n",
       "      <th>young people</th>\n",
       "    </tr>\n",
       "  </thead>\n",
       "  <tbody>\n",
       "    <tr>\n",
       "      <th>0</th>\n",
       "      <td>0.0</td>\n",
       "      <td>0.0</td>\n",
       "      <td>0.0</td>\n",
       "      <td>0.0</td>\n",
       "      <td>0.0</td>\n",
       "      <td>0.0</td>\n",
       "      <td>0.0</td>\n",
       "      <td>0.0</td>\n",
       "      <td>0.0</td>\n",
       "      <td>0.0</td>\n",
       "      <td>...</td>\n",
       "      <td>0.0</td>\n",
       "      <td>0.0</td>\n",
       "      <td>0.0</td>\n",
       "      <td>0.0</td>\n",
       "      <td>0.0</td>\n",
       "      <td>0.0</td>\n",
       "      <td>0.0</td>\n",
       "      <td>0.0</td>\n",
       "      <td>0.0</td>\n",
       "      <td>0.0</td>\n",
       "    </tr>\n",
       "    <tr>\n",
       "      <th>1</th>\n",
       "      <td>0.0</td>\n",
       "      <td>0.0</td>\n",
       "      <td>0.0</td>\n",
       "      <td>0.0</td>\n",
       "      <td>0.0</td>\n",
       "      <td>0.0</td>\n",
       "      <td>0.0</td>\n",
       "      <td>0.0</td>\n",
       "      <td>0.0</td>\n",
       "      <td>0.0</td>\n",
       "      <td>...</td>\n",
       "      <td>0.0</td>\n",
       "      <td>0.0</td>\n",
       "      <td>0.0</td>\n",
       "      <td>0.0</td>\n",
       "      <td>0.0</td>\n",
       "      <td>0.0</td>\n",
       "      <td>0.0</td>\n",
       "      <td>0.0</td>\n",
       "      <td>0.0</td>\n",
       "      <td>0.0</td>\n",
       "    </tr>\n",
       "    <tr>\n",
       "      <th>2</th>\n",
       "      <td>0.0</td>\n",
       "      <td>0.0</td>\n",
       "      <td>0.0</td>\n",
       "      <td>0.0</td>\n",
       "      <td>0.0</td>\n",
       "      <td>0.0</td>\n",
       "      <td>0.0</td>\n",
       "      <td>0.0</td>\n",
       "      <td>0.0</td>\n",
       "      <td>0.0</td>\n",
       "      <td>...</td>\n",
       "      <td>0.0</td>\n",
       "      <td>0.0</td>\n",
       "      <td>0.0</td>\n",
       "      <td>0.0</td>\n",
       "      <td>0.0</td>\n",
       "      <td>0.0</td>\n",
       "      <td>0.0</td>\n",
       "      <td>0.0</td>\n",
       "      <td>0.0</td>\n",
       "      <td>0.0</td>\n",
       "    </tr>\n",
       "    <tr>\n",
       "      <th>3</th>\n",
       "      <td>0.0</td>\n",
       "      <td>0.0</td>\n",
       "      <td>0.0</td>\n",
       "      <td>0.0</td>\n",
       "      <td>0.0</td>\n",
       "      <td>0.0</td>\n",
       "      <td>0.0</td>\n",
       "      <td>0.0</td>\n",
       "      <td>0.0</td>\n",
       "      <td>0.0</td>\n",
       "      <td>...</td>\n",
       "      <td>0.0</td>\n",
       "      <td>0.0</td>\n",
       "      <td>0.0</td>\n",
       "      <td>0.0</td>\n",
       "      <td>0.0</td>\n",
       "      <td>0.0</td>\n",
       "      <td>0.0</td>\n",
       "      <td>0.0</td>\n",
       "      <td>0.0</td>\n",
       "      <td>0.0</td>\n",
       "    </tr>\n",
       "    <tr>\n",
       "      <th>4</th>\n",
       "      <td>0.0</td>\n",
       "      <td>0.0</td>\n",
       "      <td>0.0</td>\n",
       "      <td>0.0</td>\n",
       "      <td>0.0</td>\n",
       "      <td>0.0</td>\n",
       "      <td>0.0</td>\n",
       "      <td>0.0</td>\n",
       "      <td>0.0</td>\n",
       "      <td>0.0</td>\n",
       "      <td>...</td>\n",
       "      <td>0.0</td>\n",
       "      <td>0.0</td>\n",
       "      <td>0.0</td>\n",
       "      <td>0.0</td>\n",
       "      <td>0.0</td>\n",
       "      <td>0.0</td>\n",
       "      <td>0.0</td>\n",
       "      <td>0.0</td>\n",
       "      <td>0.0</td>\n",
       "      <td>0.0</td>\n",
       "    </tr>\n",
       "  </tbody>\n",
       "</table>\n",
       "<p>5 rows × 180 columns</p>\n",
       "</div>"
      ],
      "text/plain": [
       "   260 rape  30 year  40 year  accountability justice  acquire disease  \\\n",
       "0       0.0      0.0      0.0                     0.0              0.0   \n",
       "1       0.0      0.0      0.0                     0.0              0.0   \n",
       "2       0.0      0.0      0.0                     0.0              0.0   \n",
       "3       0.0      0.0      0.0                     0.0              0.0   \n",
       "4       0.0      0.0      0.0                     0.0              0.0   \n",
       "\n",
       "   affected hiv  aid crisis  aid hiv  antiretroviral therapy  awareness day  \\\n",
       "0           0.0         0.0      0.0                     0.0            0.0   \n",
       "1           0.0         0.0      0.0                     0.0            0.0   \n",
       "2           0.0         0.0      0.0                     0.0            0.0   \n",
       "3           0.0         0.0      0.0                     0.0            0.0   \n",
       "4           0.0         0.0      0.0                     0.0            0.0   \n",
       "\n",
       "   ...  virus hiv  wife husbandsall  woman girl  woman hiv  woman living  \\\n",
       "0  ...        0.0               0.0         0.0        0.0           0.0   \n",
       "1  ...        0.0               0.0         0.0        0.0           0.0   \n",
       "2  ...        0.0               0.0         0.0        0.0           0.0   \n",
       "3  ...        0.0               0.0         0.0        0.0           0.0   \n",
       "4  ...        0.0               0.0         0.0        0.0           0.0   \n",
       "\n",
       "   work hiv  world test  year ago  year old  young people  \n",
       "0       0.0         0.0       0.0       0.0           0.0  \n",
       "1       0.0         0.0       0.0       0.0           0.0  \n",
       "2       0.0         0.0       0.0       0.0           0.0  \n",
       "3       0.0         0.0       0.0       0.0           0.0  \n",
       "4       0.0         0.0       0.0       0.0           0.0  \n",
       "\n",
       "[5 rows x 180 columns]"
      ]
     },
     "execution_count": 50,
     "metadata": {},
     "output_type": "execute_result"
    }
   ],
   "source": [
    "tf = TfidfVectorizer(stop_words='english', max_features=180, ngram_range=(2,2))\n",
    "tf_xform = tf.fit_transform(df['clean_no_@#'])\n",
    "tf_2gram_df = pd.DataFrame(tf_xform.toarray(), columns=tf.get_feature_names())\n",
    "tf_2gram_df.head()"
   ]
  },
  {
   "cell_type": "code",
   "execution_count": 51,
   "metadata": {},
   "outputs": [
    {
     "data": {
      "text/plain": [
       "hiv positive              376.400623\n",
       "living hiv                370.599440\n",
       "hiv aid                   360.054106\n",
       "people living             333.734663\n",
       "hiv test                  254.107145\n",
       "                             ...    \n",
       "nevada government          14.326177\n",
       "accountability justice     14.253097\n",
       "intentionally refusing     13.991585\n",
       "domestic terrorist         13.421788\n",
       "day national               12.536681\n",
       "Length: 180, dtype: float64"
      ]
     },
     "execution_count": 51,
     "metadata": {},
     "output_type": "execute_result"
    }
   ],
   "source": [
    "tf_2gram_df.sum().sort_values(ascending=False)"
   ]
  },
  {
   "cell_type": "markdown",
   "metadata": {},
   "source": [
    "tfidf with 2 and 3 grams"
   ]
  },
  {
   "cell_type": "code",
   "execution_count": 52,
   "metadata": {},
   "outputs": [
    {
     "data": {
      "text/html": [
       "<div>\n",
       "<style scoped>\n",
       "    .dataframe tbody tr th:only-of-type {\n",
       "        vertical-align: middle;\n",
       "    }\n",
       "\n",
       "    .dataframe tbody tr th {\n",
       "        vertical-align: top;\n",
       "    }\n",
       "\n",
       "    .dataframe thead th {\n",
       "        text-align: right;\n",
       "    }\n",
       "</style>\n",
       "<table border=\"1\" class=\"dataframe\">\n",
       "  <thead>\n",
       "    <tr style=\"text-align: right;\">\n",
       "      <th></th>\n",
       "      <th>260 rape</th>\n",
       "      <th>260 rape victim</th>\n",
       "      <th>30 year</th>\n",
       "      <th>40 year</th>\n",
       "      <th>accountability justice</th>\n",
       "      <th>acquire disease</th>\n",
       "      <th>acquire disease hiv</th>\n",
       "      <th>aid hiv</th>\n",
       "      <th>awareness day</th>\n",
       "      <th>billion peoplego</th>\n",
       "      <th>...</th>\n",
       "      <th>wife husbandsall usb</th>\n",
       "      <th>woman girl</th>\n",
       "      <th>woman girl hivaids</th>\n",
       "      <th>woman hiv</th>\n",
       "      <th>woman living</th>\n",
       "      <th>work hiv</th>\n",
       "      <th>world test</th>\n",
       "      <th>world test hiv</th>\n",
       "      <th>year ago</th>\n",
       "      <th>young people</th>\n",
       "    </tr>\n",
       "  </thead>\n",
       "  <tbody>\n",
       "    <tr>\n",
       "      <th>0</th>\n",
       "      <td>0.0</td>\n",
       "      <td>0.0</td>\n",
       "      <td>0.0</td>\n",
       "      <td>0.0</td>\n",
       "      <td>0.0</td>\n",
       "      <td>0.0</td>\n",
       "      <td>0.0</td>\n",
       "      <td>0.0</td>\n",
       "      <td>0.0</td>\n",
       "      <td>0.0</td>\n",
       "      <td>...</td>\n",
       "      <td>0.0</td>\n",
       "      <td>0.0</td>\n",
       "      <td>0.0</td>\n",
       "      <td>0.0</td>\n",
       "      <td>0.0</td>\n",
       "      <td>0.0</td>\n",
       "      <td>0.0</td>\n",
       "      <td>0.0</td>\n",
       "      <td>0.0</td>\n",
       "      <td>0.0</td>\n",
       "    </tr>\n",
       "    <tr>\n",
       "      <th>1</th>\n",
       "      <td>0.0</td>\n",
       "      <td>0.0</td>\n",
       "      <td>0.0</td>\n",
       "      <td>0.0</td>\n",
       "      <td>0.0</td>\n",
       "      <td>0.0</td>\n",
       "      <td>0.0</td>\n",
       "      <td>0.0</td>\n",
       "      <td>0.0</td>\n",
       "      <td>0.0</td>\n",
       "      <td>...</td>\n",
       "      <td>0.0</td>\n",
       "      <td>0.0</td>\n",
       "      <td>0.0</td>\n",
       "      <td>0.0</td>\n",
       "      <td>0.0</td>\n",
       "      <td>0.0</td>\n",
       "      <td>0.0</td>\n",
       "      <td>0.0</td>\n",
       "      <td>0.0</td>\n",
       "      <td>0.0</td>\n",
       "    </tr>\n",
       "    <tr>\n",
       "      <th>2</th>\n",
       "      <td>0.0</td>\n",
       "      <td>0.0</td>\n",
       "      <td>0.0</td>\n",
       "      <td>0.0</td>\n",
       "      <td>0.0</td>\n",
       "      <td>0.0</td>\n",
       "      <td>0.0</td>\n",
       "      <td>0.0</td>\n",
       "      <td>0.0</td>\n",
       "      <td>0.0</td>\n",
       "      <td>...</td>\n",
       "      <td>0.0</td>\n",
       "      <td>0.0</td>\n",
       "      <td>0.0</td>\n",
       "      <td>0.0</td>\n",
       "      <td>0.0</td>\n",
       "      <td>0.0</td>\n",
       "      <td>0.0</td>\n",
       "      <td>0.0</td>\n",
       "      <td>0.0</td>\n",
       "      <td>0.0</td>\n",
       "    </tr>\n",
       "    <tr>\n",
       "      <th>3</th>\n",
       "      <td>0.0</td>\n",
       "      <td>0.0</td>\n",
       "      <td>0.0</td>\n",
       "      <td>0.0</td>\n",
       "      <td>0.0</td>\n",
       "      <td>0.0</td>\n",
       "      <td>0.0</td>\n",
       "      <td>0.0</td>\n",
       "      <td>0.0</td>\n",
       "      <td>0.0</td>\n",
       "      <td>...</td>\n",
       "      <td>0.0</td>\n",
       "      <td>0.0</td>\n",
       "      <td>0.0</td>\n",
       "      <td>0.0</td>\n",
       "      <td>0.0</td>\n",
       "      <td>0.0</td>\n",
       "      <td>0.0</td>\n",
       "      <td>0.0</td>\n",
       "      <td>0.0</td>\n",
       "      <td>0.0</td>\n",
       "    </tr>\n",
       "    <tr>\n",
       "      <th>4</th>\n",
       "      <td>0.0</td>\n",
       "      <td>0.0</td>\n",
       "      <td>0.0</td>\n",
       "      <td>0.0</td>\n",
       "      <td>0.0</td>\n",
       "      <td>0.0</td>\n",
       "      <td>0.0</td>\n",
       "      <td>0.0</td>\n",
       "      <td>0.0</td>\n",
       "      <td>0.0</td>\n",
       "      <td>...</td>\n",
       "      <td>0.0</td>\n",
       "      <td>0.0</td>\n",
       "      <td>0.0</td>\n",
       "      <td>0.0</td>\n",
       "      <td>0.0</td>\n",
       "      <td>0.0</td>\n",
       "      <td>0.0</td>\n",
       "      <td>0.0</td>\n",
       "      <td>0.0</td>\n",
       "      <td>0.0</td>\n",
       "    </tr>\n",
       "  </tbody>\n",
       "</table>\n",
       "<p>5 rows × 180 columns</p>\n",
       "</div>"
      ],
      "text/plain": [
       "   260 rape  260 rape victim  30 year  40 year  accountability justice  \\\n",
       "0       0.0              0.0      0.0      0.0                     0.0   \n",
       "1       0.0              0.0      0.0      0.0                     0.0   \n",
       "2       0.0              0.0      0.0      0.0                     0.0   \n",
       "3       0.0              0.0      0.0      0.0                     0.0   \n",
       "4       0.0              0.0      0.0      0.0                     0.0   \n",
       "\n",
       "   acquire disease  acquire disease hiv  aid hiv  awareness day  \\\n",
       "0              0.0                  0.0      0.0            0.0   \n",
       "1              0.0                  0.0      0.0            0.0   \n",
       "2              0.0                  0.0      0.0            0.0   \n",
       "3              0.0                  0.0      0.0            0.0   \n",
       "4              0.0                  0.0      0.0            0.0   \n",
       "\n",
       "   billion peoplego  ...  wife husbandsall usb  woman girl  \\\n",
       "0               0.0  ...                   0.0         0.0   \n",
       "1               0.0  ...                   0.0         0.0   \n",
       "2               0.0  ...                   0.0         0.0   \n",
       "3               0.0  ...                   0.0         0.0   \n",
       "4               0.0  ...                   0.0         0.0   \n",
       "\n",
       "   woman girl hivaids  woman hiv  woman living  work hiv  world test  \\\n",
       "0                 0.0        0.0           0.0       0.0         0.0   \n",
       "1                 0.0        0.0           0.0       0.0         0.0   \n",
       "2                 0.0        0.0           0.0       0.0         0.0   \n",
       "3                 0.0        0.0           0.0       0.0         0.0   \n",
       "4                 0.0        0.0           0.0       0.0         0.0   \n",
       "\n",
       "   world test hiv  year ago  young people  \n",
       "0             0.0       0.0           0.0  \n",
       "1             0.0       0.0           0.0  \n",
       "2             0.0       0.0           0.0  \n",
       "3             0.0       0.0           0.0  \n",
       "4             0.0       0.0           0.0  \n",
       "\n",
       "[5 rows x 180 columns]"
      ]
     },
     "execution_count": 52,
     "metadata": {},
     "output_type": "execute_result"
    }
   ],
   "source": [
    "tf = TfidfVectorizer(stop_words='english', max_features=180, ngram_range=(2,3))\n",
    "tf_xform = tf.fit_transform(df['clean_no_@#'])\n",
    "tf_23gram_df = pd.DataFrame(tf_xform.toarray(), columns=tf.get_feature_names())\n",
    "tf_23gram_df.head()"
   ]
  },
  {
   "cell_type": "code",
   "execution_count": 53,
   "metadata": {},
   "outputs": [
    {
     "data": {
      "text/plain": [
       "hiv positive                397.275309\n",
       "hiv aid                     366.780391\n",
       "living hiv                  346.088642\n",
       "people living               311.357765\n",
       "hiv test                    255.418879\n",
       "                               ...    \n",
       "hiv hepatitis stis           14.620417\n",
       "stis violation               14.043125\n",
       "stis violation taken         14.043125\n",
       "hepatitis stis violation     14.043125\n",
       "accountability justice       12.884965\n",
       "Length: 180, dtype: float64"
      ]
     },
     "execution_count": 53,
     "metadata": {},
     "output_type": "execute_result"
    }
   ],
   "source": [
    "tf_23gram_df.sum().sort_values(ascending=False)"
   ]
  },
  {
   "cell_type": "code",
   "execution_count": null,
   "metadata": {},
   "outputs": [],
   "source": []
  },
  {
   "cell_type": "code",
   "execution_count": null,
   "metadata": {},
   "outputs": [],
   "source": []
  },
  {
   "cell_type": "code",
   "execution_count": null,
   "metadata": {},
   "outputs": [],
   "source": []
  },
  {
   "cell_type": "code",
   "execution_count": null,
   "metadata": {},
   "outputs": [],
   "source": []
  },
  {
   "cell_type": "code",
   "execution_count": null,
   "metadata": {},
   "outputs": [],
   "source": []
  },
  {
   "cell_type": "markdown",
   "metadata": {},
   "source": [
    "## only old stuff below this. stop here. "
   ]
  },
  {
   "cell_type": "code",
   "execution_count": null,
   "metadata": {},
   "outputs": [],
   "source": []
  },
  {
   "cell_type": "code",
   "execution_count": null,
   "metadata": {},
   "outputs": [],
   "source": []
  },
  {
   "cell_type": "code",
   "execution_count": null,
   "metadata": {},
   "outputs": [],
   "source": []
  },
  {
   "cell_type": "code",
   "execution_count": 41,
   "metadata": {},
   "outputs": [],
   "source": [
    "import gensim"
   ]
  },
  {
   "cell_type": "code",
   "execution_count": 45,
   "metadata": {
    "scrolled": true
   },
   "outputs": [],
   "source": [
    "from gensim.summarization import keywords, summarize"
   ]
  },
  {
   "cell_type": "code",
   "execution_count": null,
   "metadata": {},
   "outputs": [],
   "source": [
    "# from rake_nltk import Rake"
   ]
  },
  {
   "cell_type": "code",
   "execution_count": 15,
   "metadata": {},
   "outputs": [
    {
     "data": {
      "text/plain": [
       "['present highly skewed rw views',\n",
       " 'thay also advocate creationism',\n",
       " 'abortion causes breast cancer',\n",
       " 'oppose gun control',\n",
       " 'highly partial',\n",
       " 'little google',\n",
       " 'con fruit',\n",
       " 'cause aids',\n",
       " 'ultra',\n",
       " 'thehouseh',\n",
       " 'still',\n",
       " 'robinmonotti',\n",
       " 'review',\n",
       " 'nktcyork',\n",
       " 'misleading',\n",
       " 'loops',\n",
       " 'juliahb1',\n",
       " 'inspdet',\n",
       " 'hiv',\n",
       " 'amp',\n",
       " 'aaps',\n",
       " '101cognitive']"
      ]
     },
     "execution_count": 15,
     "metadata": {},
     "output_type": "execute_result"
    }
   ],
   "source": [
    "r = Rake()\n",
    "r.extract_keywords_from_text(tweet)\n",
    "r.get_ranked_phrases()"
   ]
  },
  {
   "cell_type": "code",
   "execution_count": null,
   "metadata": {},
   "outputs": [],
   "source": []
  },
  {
   "cell_type": "code",
   "execution_count": null,
   "metadata": {},
   "outputs": [],
   "source": []
  },
  {
   "cell_type": "code",
   "execution_count": null,
   "metadata": {},
   "outputs": [],
   "source": []
  },
  {
   "cell_type": "markdown",
   "metadata": {},
   "source": [
    "#### parts of speech"
   ]
  },
  {
   "cell_type": "code",
   "execution_count": 33,
   "metadata": {},
   "outputs": [
    {
     "data": {
      "text/plain": [
       "[('still', 'RB'),\n",
       " ('little', 'JJ'),\n",
       " ('google', 'JJ'),\n",
       " ('aaps', 'NNS'),\n",
       " ('ultra-con', 'JJ'),\n",
       " ('fruit-loops', 'JJ'),\n",
       " ('present', 'JJ'),\n",
       " ('highly', 'RB'),\n",
       " ('skewed', 'JJ'),\n",
       " ('rw', 'NN'),\n",
       " ('view', 'NN'),\n",
       " (\"'review\", 'POS'),\n",
       " ('highly', 'RB'),\n",
       " ('partial', 'JJ'),\n",
       " ('misleading', 'NN'),\n",
       " ('thay', 'NN'),\n",
       " ('also', 'RB'),\n",
       " ('advocate', 'JJ'),\n",
       " ('creationism', 'NN'),\n",
       " ('hiv', 'VBP'),\n",
       " (\"n't\", 'RB'),\n",
       " ('cause', 'VB'),\n",
       " ('aid', 'JJ'),\n",
       " ('abortion', 'NN'),\n",
       " ('cause', 'NN'),\n",
       " ('breast', 'NN'),\n",
       " ('cancer', 'NN'),\n",
       " ('oppose', 'VBP'),\n",
       " ('gun', 'NNS'),\n",
       " ('control', 'NN')]"
      ]
     },
     "execution_count": 33,
     "metadata": {},
     "output_type": "execute_result"
    }
   ],
   "source": [
    "nltk.pos_tag(t_lems)"
   ]
  },
  {
   "cell_type": "code",
   "execution_count": 34,
   "metadata": {
    "collapsed": true
   },
   "outputs": [
    {
     "data": {
      "text/plain": [
       "[('still', 'RB'),\n",
       " ('little', 'JJ'),\n",
       " ('google', 'NNP-ORG'),\n",
       " ('aaps', 'RB'),\n",
       " ('ultra-con', 'VB'),\n",
       " ('fruit-loops', 'NNS'),\n",
       " ('present', 'VBP'),\n",
       " ('highly', 'RB'),\n",
       " ('skewed', 'VBN'),\n",
       " ('rw', 'JJ'),\n",
       " ('view', 'NN'),\n",
       " (\"'\", \"''\"),\n",
       " ('review', 'NN'),\n",
       " ('highly', 'RB'),\n",
       " ('partial', 'JJ'),\n",
       " ('misleading', 'NN'),\n",
       " ('thay', 'NN'),\n",
       " ('also', 'RB'),\n",
       " ('advocate', 'VBP'),\n",
       " ('creationism', 'NN'),\n",
       " ('hiv', 'NNP'),\n",
       " (\"n't\", 'RB'),\n",
       " ('cause', 'VB'),\n",
       " ('aid', 'NN'),\n",
       " ('abortion', 'NN'),\n",
       " ('cause', 'NN'),\n",
       " ('breast', 'NN'),\n",
       " ('cancer', 'NN'),\n",
       " ('oppose', 'WP$'),\n",
       " ('gun', 'NN'),\n",
       " ('control', 'NN')]"
      ]
     },
     "execution_count": 34,
     "metadata": {},
     "output_type": "execute_result"
    }
   ],
   "source": [
    "ptrn.tag(' '.join(t_lems))"
   ]
  },
  {
   "cell_type": "code",
   "execution_count": 35,
   "metadata": {
    "collapsed": true
   },
   "outputs": [
    {
     "data": {
      "text/plain": [
       "[('still', 'RB'),\n",
       " ('little', 'JJ'),\n",
       " ('google', 'JJ'),\n",
       " ('aaps', 'NNS'),\n",
       " ('ultra-con', 'JJ'),\n",
       " ('fruit-loops', 'JJ'),\n",
       " ('present', 'JJ'),\n",
       " ('highly', 'RB'),\n",
       " ('skewed', 'JJ'),\n",
       " ('rw', 'NN'),\n",
       " ('view', 'NN'),\n",
       " (\"'review\", 'POS'),\n",
       " ('highly', 'RB'),\n",
       " ('partial', 'JJ'),\n",
       " ('misleading', 'NN'),\n",
       " ('thay', 'NN'),\n",
       " ('also', 'RB'),\n",
       " ('advocate', 'JJ'),\n",
       " ('creationism', 'NN'),\n",
       " ('hiv', 'VBP'),\n",
       " (\"n't\", 'RB'),\n",
       " ('cause', 'VB'),\n",
       " ('aid', 'JJ'),\n",
       " ('abortion', 'NN'),\n",
       " ('cause', 'NN'),\n",
       " ('breast', 'NN'),\n",
       " ('cancer', 'NN'),\n",
       " ('oppose', 'VBP'),\n",
       " ('gun', 'NNS'),\n",
       " ('control', 'NN')]"
      ]
     },
     "execution_count": 35,
     "metadata": {},
     "output_type": "execute_result"
    }
   ],
   "source": [
    "tb(' '.join(t_lems)).tags"
   ]
  },
  {
   "cell_type": "markdown",
   "metadata": {},
   "source": [
    "#### Sentiment"
   ]
  },
  {
   "cell_type": "code",
   "execution_count": 36,
   "metadata": {},
   "outputs": [],
   "source": [
    "from nltk.sentiment import SentimentIntensityAnalyzer"
   ]
  },
  {
   "cell_type": "code",
   "execution_count": 37,
   "metadata": {},
   "outputs": [
    {
     "name": "stderr",
     "output_type": "stream",
     "text": [
      "[nltk_data] Downloading package vader_lexicon to\n",
      "[nltk_data]     C:\\Users\\smana\\AppData\\Roaming\\nltk_data...\n",
      "[nltk_data]   Package vader_lexicon is already up-to-date!\n"
     ]
    },
    {
     "data": {
      "text/plain": [
       "True"
      ]
     },
     "execution_count": 37,
     "metadata": {},
     "output_type": "execute_result"
    }
   ],
   "source": [
    "nltk.download('vader_lexicon')"
   ]
  },
  {
   "cell_type": "code",
   "execution_count": 38,
   "metadata": {},
   "outputs": [
    {
     "data": {
      "text/plain": [
       "Sentiment(polarity=-0.038125, subjectivity=0.335)"
      ]
     },
     "execution_count": 38,
     "metadata": {},
     "output_type": "execute_result"
    }
   ],
   "source": [
    "tb(tweet).sentiment"
   ]
  },
  {
   "cell_type": "code",
   "execution_count": 39,
   "metadata": {},
   "outputs": [
    {
     "data": {
      "text/plain": [
       "(-0.038125, 0.335)"
      ]
     },
     "execution_count": 39,
     "metadata": {},
     "output_type": "execute_result"
    }
   ],
   "source": [
    "ptrn.sentiment(tweet)"
   ]
  },
  {
   "cell_type": "code",
   "execution_count": 40,
   "metadata": {},
   "outputs": [
    {
     "data": {
      "text/plain": [
       "{'neg': 0.177, 'neu': 0.793, 'pos': 0.03, 'compound': -0.8539}"
      ]
     },
     "execution_count": 40,
     "metadata": {},
     "output_type": "execute_result"
    }
   ],
   "source": [
    "SentimentIntensityAnalyzer().polarity_scores(tweet)"
   ]
  },
  {
   "cell_type": "code",
   "execution_count": 41,
   "metadata": {},
   "outputs": [],
   "source": [
    "sia = SentimentIntensityAnalyzer()\n",
    "senti = sia.polarity_scores(tweet)"
   ]
  },
  {
   "cell_type": "code",
   "execution_count": 42,
   "metadata": {},
   "outputs": [
    {
     "data": {
      "text/plain": [
       "{'neg': 0.177, 'neu': 0.793, 'pos': 0.03, 'compound': -0.8539}"
      ]
     },
     "execution_count": 42,
     "metadata": {},
     "output_type": "execute_result"
    }
   ],
   "source": [
    "senti"
   ]
  },
  {
   "cell_type": "code",
   "execution_count": 43,
   "metadata": {},
   "outputs": [
    {
     "data": {
      "text/plain": [
       "-0.8539"
      ]
     },
     "execution_count": 43,
     "metadata": {},
     "output_type": "execute_result"
    }
   ],
   "source": [
    "senti['compound']"
   ]
  },
  {
   "cell_type": "code",
   "execution_count": 44,
   "metadata": {},
   "outputs": [],
   "source": [
    "sendict = {}\n",
    "for l in range(len(tdf)):\n",
    "    temp = {}\n",
    "    tweet = tdf.iloc[l].values[0]\n",
    "    \n",
    "    pattern_vals = ptrn.sentiment(tweet)\n",
    "    textblob_vals = tb(tweet).sentiment\n",
    "    nltk_vals = SentimentIntensityAnalyzer().polarity_scores(tweet)\n",
    "    \n",
    "    ind = tdf.index[l]\n",
    "    temp['pattern_polarity'] = pattern_vals[0]\n",
    "    temp['pattern_subjectivity'] = pattern_vals[1]\n",
    "    temp['textblob_polarity'] = textblob_vals[0]\n",
    "    temp['textblob_subjectivity'] = textblob_vals[1]\n",
    "    temp['nltk_polarity'] = nltk_vals['compound']\n",
    "    sendict[ind] = temp"
   ]
  },
  {
   "cell_type": "code",
   "execution_count": 45,
   "metadata": {},
   "outputs": [],
   "source": [
    "sentiment_df = pd.DataFrame(sendict).T"
   ]
  },
  {
   "cell_type": "code",
   "execution_count": 46,
   "metadata": {},
   "outputs": [
    {
     "data": {
      "text/html": [
       "<div>\n",
       "<style scoped>\n",
       "    .dataframe tbody tr th:only-of-type {\n",
       "        vertical-align: middle;\n",
       "    }\n",
       "\n",
       "    .dataframe tbody tr th {\n",
       "        vertical-align: top;\n",
       "    }\n",
       "\n",
       "    .dataframe thead th {\n",
       "        text-align: right;\n",
       "    }\n",
       "</style>\n",
       "<table border=\"1\" class=\"dataframe\">\n",
       "  <thead>\n",
       "    <tr style=\"text-align: right;\">\n",
       "      <th></th>\n",
       "      <th>pattern_polarity</th>\n",
       "      <th>pattern_subjectivity</th>\n",
       "      <th>textblob_polarity</th>\n",
       "      <th>textblob_subjectivity</th>\n",
       "      <th>nltk_polarity</th>\n",
       "    </tr>\n",
       "  </thead>\n",
       "  <tbody>\n",
       "    <tr>\n",
       "      <th>1333476068192366593</th>\n",
       "      <td>0.08</td>\n",
       "      <td>0.270000</td>\n",
       "      <td>0.08</td>\n",
       "      <td>0.270000</td>\n",
       "      <td>0.1779</td>\n",
       "    </tr>\n",
       "    <tr>\n",
       "      <th>1364161232270487553</th>\n",
       "      <td>0.00</td>\n",
       "      <td>0.000000</td>\n",
       "      <td>0.00</td>\n",
       "      <td>0.000000</td>\n",
       "      <td>-0.0772</td>\n",
       "    </tr>\n",
       "    <tr>\n",
       "      <th>1364161201291153414</th>\n",
       "      <td>0.25</td>\n",
       "      <td>0.416667</td>\n",
       "      <td>0.25</td>\n",
       "      <td>0.416667</td>\n",
       "      <td>0.4215</td>\n",
       "    </tr>\n",
       "    <tr>\n",
       "      <th>1364161184505737217</th>\n",
       "      <td>0.17</td>\n",
       "      <td>0.413333</td>\n",
       "      <td>0.17</td>\n",
       "      <td>0.413333</td>\n",
       "      <td>0.9169</td>\n",
       "    </tr>\n",
       "    <tr>\n",
       "      <th>1363439109948149760</th>\n",
       "      <td>0.16</td>\n",
       "      <td>0.540000</td>\n",
       "      <td>0.16</td>\n",
       "      <td>0.540000</td>\n",
       "      <td>0.0772</td>\n",
       "    </tr>\n",
       "  </tbody>\n",
       "</table>\n",
       "</div>"
      ],
      "text/plain": [
       "                     pattern_polarity  pattern_subjectivity  \\\n",
       "1333476068192366593              0.08              0.270000   \n",
       "1364161232270487553              0.00              0.000000   \n",
       "1364161201291153414              0.25              0.416667   \n",
       "1364161184505737217              0.17              0.413333   \n",
       "1363439109948149760              0.16              0.540000   \n",
       "\n",
       "                     textblob_polarity  textblob_subjectivity  nltk_polarity  \n",
       "1333476068192366593               0.08               0.270000         0.1779  \n",
       "1364161232270487553               0.00               0.000000        -0.0772  \n",
       "1364161201291153414               0.25               0.416667         0.4215  \n",
       "1364161184505737217               0.17               0.413333         0.9169  \n",
       "1363439109948149760               0.16               0.540000         0.0772  "
      ]
     },
     "execution_count": 46,
     "metadata": {},
     "output_type": "execute_result"
    }
   ],
   "source": [
    "sentiment_df.head()"
   ]
  },
  {
   "cell_type": "code",
   "execution_count": 197,
   "metadata": {},
   "outputs": [
    {
     "data": {
      "image/png": "[encoded data removed]",
      "text/plain": [
       "<Figure size 720x720 with 1 Axes>"
      ]
     },
     "metadata": {
      "needs_background": "light"
     },
     "output_type": "display_data"
    }
   ],
   "source": [
    "fig, ax = plt.subplots(figsize=(10,10))\n",
    "\n",
    "sns.scatterplot(data=sentiment_df, x='textblob_polarity', y='nltk_polarity',\n",
    "               alpha=.3, s=5)\n",
    "plt.show()"
   ]
  },
  {
   "cell_type": "code",
   "execution_count": 199,
   "metadata": {},
   "outputs": [
    {
     "data": {
      "image/png": "[encoded data removed]",
      "text/plain": [
       "<Figure size 432x288 with 1 Axes>"
      ]
     },
     "metadata": {
      "needs_background": "light"
     },
     "output_type": "display_data"
    }
   ],
   "source": [
    "plt.hist(sentiment_df['textblob_polarity'], bins=20)\n",
    "\n",
    "plt.show()"
   ]
  },
  {
   "cell_type": "code",
   "execution_count": 200,
   "metadata": {},
   "outputs": [
    {
     "data": {
      "image/png": "[encoded data removed]",
      "text/plain": [
       "<Figure size 432x288 with 1 Axes>"
      ]
     },
     "metadata": {
      "needs_background": "light"
     },
     "output_type": "display_data"
    }
   ],
   "source": [
    "plt.hist(sentiment_df['nltk_polarity'], bins=20)\n",
    "\n",
    "plt.show()"
   ]
  },
  {
   "cell_type": "markdown",
   "metadata": {},
   "source": [
    "those distributions are very different..."
   ]
  },
  {
   "cell_type": "code",
   "execution_count": null,
   "metadata": {},
   "outputs": [],
   "source": []
  },
  {
   "cell_type": "markdown",
   "metadata": {},
   "source": [
    "#### below here is old code I don't want to get rid of just yet"
   ]
  },
  {
   "cell_type": "code",
   "execution_count": 12,
   "metadata": {},
   "outputs": [],
   "source": [
    "poss = []\n",
    "for l in range(100):\n",
    "    t_doc, t_clean, hashtags, mentions = preprocess_tweets(tdf.iloc[l].values[0])\n",
    "    \n",
    "    for w in t_doc:\n",
    "        poss.append(w.pos_)"
   ]
  },
  {
   "cell_type": "code",
   "execution_count": 15,
   "metadata": {},
   "outputs": [],
   "source": [
    "breakdown_dict = {}\n",
    "for l in range(len(tdf)):\n",
    "    temp_dict = {}\n",
    "    t_doc, t_clean, hashtags, mentions = preprocess_tweets(tdf.iloc[l].values[0])\n",
    "    poss = []\n",
    "    for w in t_doc:\n",
    "        poss.append(w.pos_)\n",
    "        \n",
    "    temp_dict['hashtags'] = hashtags\n",
    "    temp_dict['mentions'] = mentions\n",
    "    temp_dict['pos_count'] = dict(Counter(poss))\n",
    "    temp_dict['lemmas'] = t_clean\n",
    "    ind = tdf.index[l]\n",
    "    breakdown_dict[ind] = temp_dict"
   ]
  },
  {
   "cell_type": "code",
   "execution_count": 16,
   "metadata": {},
   "outputs": [
    {
     "data": {
      "text/plain": [
       "{'hashtags': [],\n",
       " 'mentions': [],\n",
       " 'pos_count': {'NOUN': 7,\n",
       "  'AUX': 3,\n",
       "  'VERB': 3,\n",
       "  'ADV': 1,\n",
       "  'ADP': 2,\n",
       "  'CCONJ': 1,\n",
       "  'PRON': 1},\n",
       " 'lemmas': ['teen',\n",
       "  'pregnancy',\n",
       "  'hiv',\n",
       "  'infection',\n",
       "  'rate',\n",
       "  'grow',\n",
       "  'fast',\n",
       "  'teen',\n",
       "  'experiment',\n",
       "  'need',\n",
       "  'srh']}"
      ]
     },
     "execution_count": 16,
     "metadata": {},
     "output_type": "execute_result"
    }
   ],
   "source": [
    "breakdown_dict[1333476068192366593]"
   ]
  },
  {
   "cell_type": "code",
   "execution_count": 17,
   "metadata": {},
   "outputs": [
    {
     "data": {
      "text/html": [
       "<div>\n",
       "<style scoped>\n",
       "    .dataframe tbody tr th:only-of-type {\n",
       "        vertical-align: middle;\n",
       "    }\n",
       "\n",
       "    .dataframe tbody tr th {\n",
       "        vertical-align: top;\n",
       "    }\n",
       "\n",
       "    .dataframe thead th {\n",
       "        text-align: right;\n",
       "    }\n",
       "</style>\n",
       "<table border=\"1\" class=\"dataframe\">\n",
       "  <thead>\n",
       "    <tr style=\"text-align: right;\">\n",
       "      <th></th>\n",
       "      <th>hashtags</th>\n",
       "      <th>mentions</th>\n",
       "      <th>pos_count</th>\n",
       "      <th>lemmas</th>\n",
       "    </tr>\n",
       "  </thead>\n",
       "  <tbody>\n",
       "    <tr>\n",
       "      <th>1333476068192366593</th>\n",
       "      <td>[]</td>\n",
       "      <td>[]</td>\n",
       "      <td>{'NOUN': 7, 'AUX': 3, 'VERB': 3, 'ADV': 1, 'AD...</td>\n",
       "      <td>[teen, pregnancy, hiv, infection, rate, grow, ...</td>\n",
       "    </tr>\n",
       "    <tr>\n",
       "      <th>1364161232270487553</th>\n",
       "      <td>[hiv, haemophilia]</td>\n",
       "      <td>[bloodinquiry]</td>\n",
       "      <td>{'ADV': 2, 'SCONJ': 3, 'PRON': 1, 'VERB': 5, '...</td>\n",
       "      <td>[stevens, think, speak, dhss, suffer]</td>\n",
       "    </tr>\n",
       "    <tr>\n",
       "      <th>1364161201291153414</th>\n",
       "      <td>[]</td>\n",
       "      <td>[]</td>\n",
       "      <td>{'NOUN': 4, 'ADP': 1, 'ADJ': 3, 'CCONJ': 1, 'V...</td>\n",
       "      <td>[committee, sexual, reproductive, health, righ...</td>\n",
       "    </tr>\n",
       "    <tr>\n",
       "      <th>1364161184505737217</th>\n",
       "      <td>[]</td>\n",
       "      <td>[]</td>\n",
       "      <td>{'ADJ': 4, 'NOUN': 6, 'AUX': 1, 'PRON': 4, 'VE...</td>\n",
       "      <td>[female, wish, heal, provide, relief, specialt...</td>\n",
       "    </tr>\n",
       "    <tr>\n",
       "      <th>1363439109948149760</th>\n",
       "      <td>[]</td>\n",
       "      <td>[therustler83]</td>\n",
       "      <td>{'VERB': 2, 'SCONJ': 1, 'DET': 2, 'NOUN': 3, '...</td>\n",
       "      <td>[imagine, government, demand, hiv, test, weekl...</td>\n",
       "    </tr>\n",
       "    <tr>\n",
       "      <th>...</th>\n",
       "      <td>...</td>\n",
       "      <td>...</td>\n",
       "      <td>...</td>\n",
       "      <td>...</td>\n",
       "    </tr>\n",
       "    <tr>\n",
       "      <th>1363947236128866322</th>\n",
       "      <td>[]</td>\n",
       "      <td>[]</td>\n",
       "      <td>{'ADJ': 2, 'NOUN': 6, 'VERB': 4, 'PRON': 1, 'P...</td>\n",
       "      <td>[ebony, darkness, dementia, raven, way, fake, ...</td>\n",
       "    </tr>\n",
       "    <tr>\n",
       "      <th>1363947304705753090</th>\n",
       "      <td>[]</td>\n",
       "      <td>[samirasawlani]</td>\n",
       "      <td>{'PRON': 1, 'VERB': 2, 'ADJ': 4, 'ADP': 6, 'NO...</td>\n",
       "      <td>[covid, china, major, killer, young, populatio...</td>\n",
       "    </tr>\n",
       "    <tr>\n",
       "      <th>1363947807921561600</th>\n",
       "      <td>[]</td>\n",
       "      <td>[]</td>\n",
       "      <td>{'ADV': 1, 'AUX': 1, 'NOUN': 1}</td>\n",
       "      <td>[case]</td>\n",
       "    </tr>\n",
       "    <tr>\n",
       "      <th>1363949275005263879</th>\n",
       "      <td>[boomhealth, bronx, covidvaccine]</td>\n",
       "      <td>[]</td>\n",
       "      <td>{'NOUN': 5, 'VERB': 8, 'ADP': 4, 'AUX': 2, 'AD...</td>\n",
       "      <td>[nyer, live, hiv, eligible, receive, covid, va...</td>\n",
       "    </tr>\n",
       "    <tr>\n",
       "      <th>1363949692288004103</th>\n",
       "      <td>[]</td>\n",
       "      <td>[]</td>\n",
       "      <td>{'ADV': 3, 'PRON': 2, 'VERB': 3, 'DET': 3, 'AU...</td>\n",
       "      <td>[guy, charge, hiv, die, covid]</td>\n",
       "    </tr>\n",
       "  </tbody>\n",
       "</table>\n",
       "<p>7662 rows × 4 columns</p>\n",
       "</div>"
      ],
      "text/plain": [
       "                                              hashtags         mentions  \\\n",
       "1333476068192366593                                 []               []   \n",
       "1364161232270487553                 [hiv, haemophilia]   [bloodinquiry]   \n",
       "1364161201291153414                                 []               []   \n",
       "1364161184505737217                                 []               []   \n",
       "1363439109948149760                                 []   [therustler83]   \n",
       "...                                                ...              ...   \n",
       "1363947236128866322                                 []               []   \n",
       "1363947304705753090                                 []  [samirasawlani]   \n",
       "1363947807921561600                                 []               []   \n",
       "1363949275005263879  [boomhealth, bronx, covidvaccine]               []   \n",
       "1363949692288004103                                 []               []   \n",
       "\n",
       "                                                             pos_count  \\\n",
       "1333476068192366593  {'NOUN': 7, 'AUX': 3, 'VERB': 3, 'ADV': 1, 'AD...   \n",
       "1364161232270487553  {'ADV': 2, 'SCONJ': 3, 'PRON': 1, 'VERB': 5, '...   \n",
       "1364161201291153414  {'NOUN': 4, 'ADP': 1, 'ADJ': 3, 'CCONJ': 1, 'V...   \n",
       "1364161184505737217  {'ADJ': 4, 'NOUN': 6, 'AUX': 1, 'PRON': 4, 'VE...   \n",
       "1363439109948149760  {'VERB': 2, 'SCONJ': 1, 'DET': 2, 'NOUN': 3, '...   \n",
       "...                                                                ...   \n",
       "1363947236128866322  {'ADJ': 2, 'NOUN': 6, 'VERB': 4, 'PRON': 1, 'P...   \n",
       "1363947304705753090  {'PRON': 1, 'VERB': 2, 'ADJ': 4, 'ADP': 6, 'NO...   \n",
       "1363947807921561600                    {'ADV': 1, 'AUX': 1, 'NOUN': 1}   \n",
       "1363949275005263879  {'NOUN': 5, 'VERB': 8, 'ADP': 4, 'AUX': 2, 'AD...   \n",
       "1363949692288004103  {'ADV': 3, 'PRON': 2, 'VERB': 3, 'DET': 3, 'AU...   \n",
       "\n",
       "                                                                lemmas  \n",
       "1333476068192366593  [teen, pregnancy, hiv, infection, rate, grow, ...  \n",
       "1364161232270487553              [stevens, think, speak, dhss, suffer]  \n",
       "1364161201291153414  [committee, sexual, reproductive, health, righ...  \n",
       "1364161184505737217  [female, wish, heal, provide, relief, specialt...  \n",
       "1363439109948149760  [imagine, government, demand, hiv, test, weekl...  \n",
       "...                                                                ...  \n",
       "1363947236128866322  [ebony, darkness, dementia, raven, way, fake, ...  \n",
       "1363947304705753090  [covid, china, major, killer, young, populatio...  \n",
       "1363947807921561600                                             [case]  \n",
       "1363949275005263879  [nyer, live, hiv, eligible, receive, covid, va...  \n",
       "1363949692288004103                     [guy, charge, hiv, die, covid]  \n",
       "\n",
       "[7662 rows x 4 columns]"
      ]
     },
     "execution_count": 17,
     "metadata": {},
     "output_type": "execute_result"
    }
   ],
   "source": [
    "pd.DataFrame(breakdown_dict).T"
   ]
  },
  {
   "cell_type": "code",
   "execution_count": 18,
   "metadata": {},
   "outputs": [],
   "source": [
    "pos_dict = {key:breakdown_dict[key]['pos_count'] for key in breakdown_dict.keys()}"
   ]
  },
  {
   "cell_type": "code",
   "execution_count": 19,
   "metadata": {},
   "outputs": [],
   "source": [
    "pos_df = pd.DataFrame(pos_dict).T\n",
    "pos_df.fillna(0, inplace=True)\n",
    "pos_df = pos_df.astype(int)"
   ]
  },
  {
   "cell_type": "code",
   "execution_count": 20,
   "metadata": {},
   "outputs": [
    {
     "data": {
      "text/html": [
       "<div>\n",
       "<style scoped>\n",
       "    .dataframe tbody tr th:only-of-type {\n",
       "        vertical-align: middle;\n",
       "    }\n",
       "\n",
       "    .dataframe tbody tr th {\n",
       "        vertical-align: top;\n",
       "    }\n",
       "\n",
       "    .dataframe thead th {\n",
       "        text-align: right;\n",
       "    }\n",
       "</style>\n",
       "<table border=\"1\" class=\"dataframe\">\n",
       "  <thead>\n",
       "    <tr style=\"text-align: right;\">\n",
       "      <th></th>\n",
       "      <th>NOUN</th>\n",
       "      <th>AUX</th>\n",
       "      <th>VERB</th>\n",
       "      <th>ADV</th>\n",
       "      <th>ADP</th>\n",
       "      <th>CCONJ</th>\n",
       "      <th>PRON</th>\n",
       "      <th>SCONJ</th>\n",
       "      <th>DET</th>\n",
       "      <th>PROPN</th>\n",
       "      <th>PART</th>\n",
       "      <th>ADJ</th>\n",
       "      <th>NUM</th>\n",
       "      <th>INTJ</th>\n",
       "      <th>X</th>\n",
       "      <th>PUNCT</th>\n",
       "      <th>SYM</th>\n",
       "    </tr>\n",
       "  </thead>\n",
       "  <tbody>\n",
       "    <tr>\n",
       "      <th>1333476068192366593</th>\n",
       "      <td>7</td>\n",
       "      <td>3</td>\n",
       "      <td>3</td>\n",
       "      <td>1</td>\n",
       "      <td>2</td>\n",
       "      <td>1</td>\n",
       "      <td>1</td>\n",
       "      <td>0</td>\n",
       "      <td>0</td>\n",
       "      <td>0</td>\n",
       "      <td>0</td>\n",
       "      <td>0</td>\n",
       "      <td>0</td>\n",
       "      <td>0</td>\n",
       "      <td>0</td>\n",
       "      <td>0</td>\n",
       "      <td>0</td>\n",
       "    </tr>\n",
       "    <tr>\n",
       "      <th>1364161232270487553</th>\n",
       "      <td>0</td>\n",
       "      <td>0</td>\n",
       "      <td>5</td>\n",
       "      <td>2</td>\n",
       "      <td>1</td>\n",
       "      <td>0</td>\n",
       "      <td>1</td>\n",
       "      <td>3</td>\n",
       "      <td>3</td>\n",
       "      <td>1</td>\n",
       "      <td>1</td>\n",
       "      <td>0</td>\n",
       "      <td>0</td>\n",
       "      <td>0</td>\n",
       "      <td>0</td>\n",
       "      <td>0</td>\n",
       "      <td>0</td>\n",
       "    </tr>\n",
       "    <tr>\n",
       "      <th>1364161201291153414</th>\n",
       "      <td>4</td>\n",
       "      <td>0</td>\n",
       "      <td>1</td>\n",
       "      <td>0</td>\n",
       "      <td>1</td>\n",
       "      <td>1</td>\n",
       "      <td>0</td>\n",
       "      <td>0</td>\n",
       "      <td>0</td>\n",
       "      <td>0</td>\n",
       "      <td>0</td>\n",
       "      <td>3</td>\n",
       "      <td>0</td>\n",
       "      <td>0</td>\n",
       "      <td>0</td>\n",
       "      <td>0</td>\n",
       "      <td>0</td>\n",
       "    </tr>\n",
       "    <tr>\n",
       "      <th>1364161184505737217</th>\n",
       "      <td>6</td>\n",
       "      <td>1</td>\n",
       "      <td>3</td>\n",
       "      <td>0</td>\n",
       "      <td>3</td>\n",
       "      <td>1</td>\n",
       "      <td>4</td>\n",
       "      <td>0</td>\n",
       "      <td>1</td>\n",
       "      <td>1</td>\n",
       "      <td>0</td>\n",
       "      <td>4</td>\n",
       "      <td>0</td>\n",
       "      <td>0</td>\n",
       "      <td>0</td>\n",
       "      <td>0</td>\n",
       "      <td>0</td>\n",
       "    </tr>\n",
       "    <tr>\n",
       "      <th>1363439109948149760</th>\n",
       "      <td>3</td>\n",
       "      <td>1</td>\n",
       "      <td>2</td>\n",
       "      <td>1</td>\n",
       "      <td>1</td>\n",
       "      <td>0</td>\n",
       "      <td>0</td>\n",
       "      <td>1</td>\n",
       "      <td>2</td>\n",
       "      <td>0</td>\n",
       "      <td>0</td>\n",
       "      <td>1</td>\n",
       "      <td>0</td>\n",
       "      <td>0</td>\n",
       "      <td>0</td>\n",
       "      <td>0</td>\n",
       "      <td>0</td>\n",
       "    </tr>\n",
       "  </tbody>\n",
       "</table>\n",
       "</div>"
      ],
      "text/plain": [
       "                     NOUN  AUX  VERB  ADV  ADP  CCONJ  PRON  SCONJ  DET  \\\n",
       "1333476068192366593     7    3     3    1    2      1     1      0    0   \n",
       "1364161232270487553     0    0     5    2    1      0     1      3    3   \n",
       "1364161201291153414     4    0     1    0    1      1     0      0    0   \n",
       "1364161184505737217     6    1     3    0    3      1     4      0    1   \n",
       "1363439109948149760     3    1     2    1    1      0     0      1    2   \n",
       "\n",
       "                     PROPN  PART  ADJ  NUM  INTJ  X  PUNCT  SYM  \n",
       "1333476068192366593      0     0    0    0     0  0      0    0  \n",
       "1364161232270487553      1     1    0    0     0  0      0    0  \n",
       "1364161201291153414      0     0    3    0     0  0      0    0  \n",
       "1364161184505737217      1     0    4    0     0  0      0    0  \n",
       "1363439109948149760      0     0    1    0     0  0      0    0  "
      ]
     },
     "execution_count": 20,
     "metadata": {},
     "output_type": "execute_result"
    }
   ],
   "source": [
    "pos_df.head()"
   ]
  },
  {
   "cell_type": "code",
   "execution_count": 21,
   "metadata": {},
   "outputs": [
    {
     "data": {
      "text/plain": [
       "Index(['NOUN', 'AUX', 'VERB', 'ADV', 'ADP', 'CCONJ', 'PRON', 'SCONJ', 'DET',\n",
       "       'PROPN', 'PART', 'ADJ', 'NUM', 'INTJ', 'X', 'PUNCT', 'SYM'],\n",
       "      dtype='object')"
      ]
     },
     "execution_count": 21,
     "metadata": {},
     "output_type": "execute_result"
    }
   ],
   "source": [
    "pos_df.mean(axis=0).index"
   ]
  },
  {
   "cell_type": "code",
   "execution_count": 22,
   "metadata": {},
   "outputs": [
    {
     "data": {
      "text/plain": [
       "array([5.55559906e+00, 1.07843905e+00, 3.50234926e+00, 1.09201253e+00,\n",
       "       3.02701644e+00, 8.40772644e-01, 1.93539546e+00, 3.16496998e-01,\n",
       "       2.07987471e+00, 1.51265988e-01, 5.90185330e-01, 1.78908901e+00,\n",
       "       7.40015662e-02, 8.15713913e-02, 8.33985904e-02, 2.47977029e-03,\n",
       "       2.61028452e-04])"
      ]
     },
     "execution_count": 22,
     "metadata": {},
     "output_type": "execute_result"
    }
   ],
   "source": [
    "pos_df.mean(axis=0).values"
   ]
  },
  {
   "cell_type": "code",
   "execution_count": 25,
   "metadata": {},
   "outputs": [
    {
     "data": {
      "image/png": "[encoded data removed]",
      "text/plain": [
       "<Figure size 432x288 with 1 Axes>"
      ]
     },
     "metadata": {
      "needs_background": "light"
     },
     "output_type": "display_data"
    }
   ],
   "source": [
    "sns.barplot(data=pos_df)\n",
    "plt.show()"
   ]
  },
  {
   "cell_type": "code",
   "execution_count": 26,
   "metadata": {},
   "outputs": [
    {
     "data": {
      "image/png": "[encoded data removed]",
      "text/plain": [
       "<Figure size 432x288 with 1 Axes>"
      ]
     },
     "metadata": {
      "needs_background": "light"
     },
     "output_type": "display_data"
    }
   ],
   "source": [
    "gif, a\n",
    "plt.bar(height=pos_df.mean(axis=0).values, x=pos_df.mean(axis=0).index)\n",
    "plt.show()"
   ]
  },
  {
   "cell_type": "code",
   "execution_count": null,
   "metadata": {},
   "outputs": [],
   "source": []
  },
  {
   "cell_type": "code",
   "execution_count": null,
   "metadata": {},
   "outputs": [],
   "source": []
  },
  {
   "cell_type": "code",
   "execution_count": null,
   "metadata": {},
   "outputs": [],
   "source": []
  },
  {
   "cell_type": "code",
   "execution_count": null,
   "metadata": {},
   "outputs": [],
   "source": []
  },
  {
   "cell_type": "code",
   "execution_count": null,
   "metadata": {},
   "outputs": [],
   "source": []
  },
  {
   "cell_type": "code",
   "execution_count": null,
   "metadata": {},
   "outputs": [],
   "source": []
  },
  {
   "cell_type": "code",
   "execution_count": null,
   "metadata": {},
   "outputs": [],
   "source": []
  },
  {
   "cell_type": "code",
   "execution_count": null,
   "metadata": {},
   "outputs": [],
   "source": []
  }
 ],
 "metadata": {
  "kernelspec": {
   "display_name": "nlp",
   "language": "python",
   "name": "nlp"
  },
  "language_info": {
   "codemirror_mode": {
    "name": "ipython",
    "version": 3
   },
   "file_extension": ".py",
   "mimetype": "text/x-python",
   "name": "python",
   "nbconvert_exporter": "python",
   "pygments_lexer": "ipython3",
   "version": "3.8.5"
  }
 },
 "nbformat": 4,
 "nbformat_minor": 4
}

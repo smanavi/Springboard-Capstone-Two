{
 "cells": [
  {
   "cell_type": "markdown",
   "metadata": {},
   "source": [
    "#### import the things"
   ]
  },
  {
   "cell_type": "code",
   "execution_count": 2,
   "metadata": {},
   "outputs": [],
   "source": [
    "import pandas as pd\n",
    "import json\n",
    "import os\n",
    "import numpy as np\n",
    "import matplotlib.pyplot as plt\n",
    "import seaborn as sns\n",
    "\n",
    "idx = pd.IndexSlice\n",
    "\n",
    "import scipy.stats\n",
    "import data\n",
    "raw_data_fol = os.path.join(data.__path__[0], \"raw\")"
   ]
  },
  {
   "cell_type": "code",
   "execution_count": 3,
   "metadata": {},
   "outputs": [],
   "source": [
    "from src.data import data_sorting_tools as dst\n",
    "%load_ext autoreload\n",
    "%autoreload 2"
   ]
  },
  {
   "cell_type": "code",
   "execution_count": 4,
   "metadata": {},
   "outputs": [],
   "source": [
    "numeric_df = pd.read_pickle(os.path.join(data.__path__[0], \"compiled\", \"first_6000_numeric.pkl\"))"
   ]
  },
  {
   "cell_type": "code",
   "execution_count": 4,
   "metadata": {},
   "outputs": [
    {
     "data": {
      "text/html": [
       "<div>\n",
       "<style scoped>\n",
       "    .dataframe tbody tr th:only-of-type {\n",
       "        vertical-align: middle;\n",
       "    }\n",
       "\n",
       "    .dataframe tbody tr th {\n",
       "        vertical-align: top;\n",
       "    }\n",
       "\n",
       "    .dataframe thead th {\n",
       "        text-align: right;\n",
       "    }\n",
       "</style>\n",
       "<table border=\"1\" class=\"dataframe\">\n",
       "  <thead>\n",
       "    <tr style=\"text-align: right;\">\n",
       "      <th></th>\n",
       "      <th></th>\n",
       "      <th>quote_count</th>\n",
       "      <th>reply_count</th>\n",
       "      <th>retweet_count</th>\n",
       "      <th>favorite_count</th>\n",
       "      <th>user_followers_count</th>\n",
       "      <th>user_verified</th>\n",
       "      <th>user_statuses_count</th>\n",
       "      <th>media_count</th>\n",
       "      <th>media_types</th>\n",
       "    </tr>\n",
       "    <tr>\n",
       "      <th>tid</th>\n",
       "      <th>uid</th>\n",
       "      <th></th>\n",
       "      <th></th>\n",
       "      <th></th>\n",
       "      <th></th>\n",
       "      <th></th>\n",
       "      <th></th>\n",
       "      <th></th>\n",
       "      <th></th>\n",
       "      <th></th>\n",
       "    </tr>\n",
       "  </thead>\n",
       "  <tbody>\n",
       "    <tr>\n",
       "      <th>1363937142200762376</th>\n",
       "      <th>1044743429413117955</th>\n",
       "      <td>0</td>\n",
       "      <td>0</td>\n",
       "      <td>0</td>\n",
       "      <td>0</td>\n",
       "      <td>74</td>\n",
       "      <td>False</td>\n",
       "      <td>511</td>\n",
       "      <td>0</td>\n",
       "      <td>none</td>\n",
       "    </tr>\n",
       "    <tr>\n",
       "      <th>1363937239315709958</th>\n",
       "      <th>320715610</th>\n",
       "      <td>0</td>\n",
       "      <td>0</td>\n",
       "      <td>0</td>\n",
       "      <td>0</td>\n",
       "      <td>770</td>\n",
       "      <td>False</td>\n",
       "      <td>5420</td>\n",
       "      <td>0</td>\n",
       "      <td>none</td>\n",
       "    </tr>\n",
       "    <tr>\n",
       "      <th>1363937250707451906</th>\n",
       "      <th>194303094</th>\n",
       "      <td>0</td>\n",
       "      <td>0</td>\n",
       "      <td>5</td>\n",
       "      <td>15</td>\n",
       "      <td>3935</td>\n",
       "      <td>False</td>\n",
       "      <td>9899</td>\n",
       "      <td>0</td>\n",
       "      <td>none</td>\n",
       "    </tr>\n",
       "    <tr>\n",
       "      <th>1363937296089812992</th>\n",
       "      <th>3185064115</th>\n",
       "      <td>0</td>\n",
       "      <td>0</td>\n",
       "      <td>0</td>\n",
       "      <td>0</td>\n",
       "      <td>14743</td>\n",
       "      <td>False</td>\n",
       "      <td>97453</td>\n",
       "      <td>0</td>\n",
       "      <td>none</td>\n",
       "    </tr>\n",
       "    <tr>\n",
       "      <th>1363937322262290442</th>\n",
       "      <th>1150224588921606145</th>\n",
       "      <td>0</td>\n",
       "      <td>0</td>\n",
       "      <td>0</td>\n",
       "      <td>0</td>\n",
       "      <td>22</td>\n",
       "      <td>False</td>\n",
       "      <td>23115</td>\n",
       "      <td>0</td>\n",
       "      <td>none</td>\n",
       "    </tr>\n",
       "  </tbody>\n",
       "</table>\n",
       "</div>"
      ],
      "text/plain": [
       "                                         quote_count  reply_count  \\\n",
       "tid                 uid                                             \n",
       "1363937142200762376 1044743429413117955            0            0   \n",
       "1363937239315709958 320715610                      0            0   \n",
       "1363937250707451906 194303094                      0            0   \n",
       "1363937296089812992 3185064115                     0            0   \n",
       "1363937322262290442 1150224588921606145            0            0   \n",
       "\n",
       "                                         retweet_count  favorite_count  \\\n",
       "tid                 uid                                                  \n",
       "1363937142200762376 1044743429413117955              0               0   \n",
       "1363937239315709958 320715610                        0               0   \n",
       "1363937250707451906 194303094                        5              15   \n",
       "1363937296089812992 3185064115                       0               0   \n",
       "1363937322262290442 1150224588921606145              0               0   \n",
       "\n",
       "                                         user_followers_count  user_verified  \\\n",
       "tid                 uid                                                        \n",
       "1363937142200762376 1044743429413117955                    74          False   \n",
       "1363937239315709958 320715610                             770          False   \n",
       "1363937250707451906 194303094                            3935          False   \n",
       "1363937296089812992 3185064115                          14743          False   \n",
       "1363937322262290442 1150224588921606145                    22          False   \n",
       "\n",
       "                                         user_statuses_count  media_count  \\\n",
       "tid                 uid                                                     \n",
       "1363937142200762376 1044743429413117955                  511            0   \n",
       "1363937239315709958 320715610                           5420            0   \n",
       "1363937250707451906 194303094                           9899            0   \n",
       "1363937296089812992 3185064115                         97453            0   \n",
       "1363937322262290442 1150224588921606145                23115            0   \n",
       "\n",
       "                                        media_types  \n",
       "tid                 uid                              \n",
       "1363937142200762376 1044743429413117955        none  \n",
       "1363937239315709958 320715610                  none  \n",
       "1363937250707451906 194303094                  none  \n",
       "1363937296089812992 3185064115                 none  \n",
       "1363937322262290442 1150224588921606145        none  "
      ]
     },
     "execution_count": 4,
     "metadata": {},
     "output_type": "execute_result"
    }
   ],
   "source": [
    "numeric_df.head()"
   ]
  },
  {
   "cell_type": "code",
   "execution_count": 7,
   "metadata": {},
   "outputs": [
    {
     "name": "stdout",
     "output_type": "stream",
     "text": [
      "<class 'pandas.core.frame.DataFrame'>\n",
      "MultiIndex: 4567 entries, (1363937142200762376, 1044743429413117955) to (1363860840206712836, 553839116)\n",
      "Data columns (total 9 columns):\n",
      " #   Column                Non-Null Count  Dtype  \n",
      "---  ------                --------------  -----  \n",
      " 0   quote_count           4567 non-null   Int64  \n",
      " 1   reply_count           4567 non-null   Int64  \n",
      " 2   retweet_count         4567 non-null   Int64  \n",
      " 3   favorite_count        4567 non-null   Int64  \n",
      " 4   user_followers_count  4567 non-null   Int64  \n",
      " 5   user_verified         4567 non-null   boolean\n",
      " 6   user_statuses_count   4567 non-null   Int64  \n",
      " 7   media_count           4567 non-null   Int64  \n",
      " 8   media_types           4567 non-null   string \n",
      "dtypes: Int64(7), boolean(1), string(1)\n",
      "memory usage: 748.5 KB\n"
     ]
    }
   ],
   "source": [
    "numeric_df.info()"
   ]
  },
  {
   "cell_type": "markdown",
   "metadata": {},
   "source": [
    "#### make some plots to look at the data"
   ]
  },
  {
   "cell_type": "code",
   "execution_count": 89,
   "metadata": {},
   "outputs": [
    {
     "data": {
      "image/png": "[encoded data removed]",
      "text/plain": [
       "<Figure size 1080x1080 with 42 Axes>"
      ]
     },
     "metadata": {
      "needs_background": "light"
     },
     "output_type": "display_data"
    }
   ],
   "source": [
    "sns.pairplot(numeric_df[['quote_count', 'reply_count', 'retweet_count', 'favorite_count', \n",
    "                         'user_followers_count', 'user_statuses_count']])\n",
    "plt.show()"
   ]
  },
  {
   "cell_type": "code",
   "execution_count": 5,
   "metadata": {},
   "outputs": [
    {
     "data": {
      "text/html": [
       "<div>\n",
       "<style scoped>\n",
       "    .dataframe tbody tr th:only-of-type {\n",
       "        vertical-align: middle;\n",
       "    }\n",
       "\n",
       "    .dataframe tbody tr th {\n",
       "        vertical-align: top;\n",
       "    }\n",
       "\n",
       "    .dataframe thead th {\n",
       "        text-align: right;\n",
       "    }\n",
       "</style>\n",
       "<table border=\"1\" class=\"dataframe\">\n",
       "  <thead>\n",
       "    <tr style=\"text-align: right;\">\n",
       "      <th></th>\n",
       "      <th>quote_count</th>\n",
       "      <th>reply_count</th>\n",
       "      <th>retweet_count</th>\n",
       "      <th>favorite_count</th>\n",
       "      <th>user_followers_count</th>\n",
       "      <th>user_verified</th>\n",
       "      <th>user_statuses_count</th>\n",
       "      <th>media_count</th>\n",
       "    </tr>\n",
       "  </thead>\n",
       "  <tbody>\n",
       "    <tr>\n",
       "      <th>quote_count</th>\n",
       "      <td>1.000000</td>\n",
       "      <td>0.349570</td>\n",
       "      <td>0.609355</td>\n",
       "      <td>0.539414</td>\n",
       "      <td>0.238743</td>\n",
       "      <td>0.173510</td>\n",
       "      <td>0.010816</td>\n",
       "      <td>0.003828</td>\n",
       "    </tr>\n",
       "    <tr>\n",
       "      <th>reply_count</th>\n",
       "      <td>0.349570</td>\n",
       "      <td>1.000000</td>\n",
       "      <td>0.475218</td>\n",
       "      <td>0.525826</td>\n",
       "      <td>0.123054</td>\n",
       "      <td>0.131908</td>\n",
       "      <td>-0.003032</td>\n",
       "      <td>0.007119</td>\n",
       "    </tr>\n",
       "    <tr>\n",
       "      <th>retweet_count</th>\n",
       "      <td>0.609355</td>\n",
       "      <td>0.475218</td>\n",
       "      <td>1.000000</td>\n",
       "      <td>0.890733</td>\n",
       "      <td>0.219247</td>\n",
       "      <td>0.196849</td>\n",
       "      <td>0.010201</td>\n",
       "      <td>0.007721</td>\n",
       "    </tr>\n",
       "    <tr>\n",
       "      <th>favorite_count</th>\n",
       "      <td>0.539414</td>\n",
       "      <td>0.525826</td>\n",
       "      <td>0.890733</td>\n",
       "      <td>1.000000</td>\n",
       "      <td>0.210956</td>\n",
       "      <td>0.181651</td>\n",
       "      <td>0.000803</td>\n",
       "      <td>0.002162</td>\n",
       "    </tr>\n",
       "    <tr>\n",
       "      <th>user_followers_count</th>\n",
       "      <td>0.238743</td>\n",
       "      <td>0.123054</td>\n",
       "      <td>0.219247</td>\n",
       "      <td>0.210956</td>\n",
       "      <td>1.000000</td>\n",
       "      <td>0.135519</td>\n",
       "      <td>0.054324</td>\n",
       "      <td>-0.001175</td>\n",
       "    </tr>\n",
       "    <tr>\n",
       "      <th>user_verified</th>\n",
       "      <td>0.173510</td>\n",
       "      <td>0.131908</td>\n",
       "      <td>0.196849</td>\n",
       "      <td>0.181651</td>\n",
       "      <td>0.135519</td>\n",
       "      <td>1.000000</td>\n",
       "      <td>0.018813</td>\n",
       "      <td>-0.019142</td>\n",
       "    </tr>\n",
       "    <tr>\n",
       "      <th>user_statuses_count</th>\n",
       "      <td>0.010816</td>\n",
       "      <td>-0.003032</td>\n",
       "      <td>0.010201</td>\n",
       "      <td>0.000803</td>\n",
       "      <td>0.054324</td>\n",
       "      <td>0.018813</td>\n",
       "      <td>1.000000</td>\n",
       "      <td>-0.002719</td>\n",
       "    </tr>\n",
       "    <tr>\n",
       "      <th>media_count</th>\n",
       "      <td>0.003828</td>\n",
       "      <td>0.007119</td>\n",
       "      <td>0.007721</td>\n",
       "      <td>0.002162</td>\n",
       "      <td>-0.001175</td>\n",
       "      <td>-0.019142</td>\n",
       "      <td>-0.002719</td>\n",
       "      <td>1.000000</td>\n",
       "    </tr>\n",
       "  </tbody>\n",
       "</table>\n",
       "</div>"
      ],
      "text/plain": [
       "                      quote_count  reply_count  retweet_count  favorite_count  \\\n",
       "quote_count              1.000000     0.349570       0.609355        0.539414   \n",
       "reply_count              0.349570     1.000000       0.475218        0.525826   \n",
       "retweet_count            0.609355     0.475218       1.000000        0.890733   \n",
       "favorite_count           0.539414     0.525826       0.890733        1.000000   \n",
       "user_followers_count     0.238743     0.123054       0.219247        0.210956   \n",
       "user_verified            0.173510     0.131908       0.196849        0.181651   \n",
       "user_statuses_count      0.010816    -0.003032       0.010201        0.000803   \n",
       "media_count              0.003828     0.007119       0.007721        0.002162   \n",
       "\n",
       "                      user_followers_count  user_verified  \\\n",
       "quote_count                       0.238743       0.173510   \n",
       "reply_count                       0.123054       0.131908   \n",
       "retweet_count                     0.219247       0.196849   \n",
       "favorite_count                    0.210956       0.181651   \n",
       "user_followers_count              1.000000       0.135519   \n",
       "user_verified                     0.135519       1.000000   \n",
       "user_statuses_count               0.054324       0.018813   \n",
       "media_count                      -0.001175      -0.019142   \n",
       "\n",
       "                      user_statuses_count  media_count  \n",
       "quote_count                      0.010816     0.003828  \n",
       "reply_count                     -0.003032     0.007119  \n",
       "retweet_count                    0.010201     0.007721  \n",
       "favorite_count                   0.000803     0.002162  \n",
       "user_followers_count             0.054324    -0.001175  \n",
       "user_verified                    0.018813    -0.019142  \n",
       "user_statuses_count              1.000000    -0.002719  \n",
       "media_count                     -0.002719     1.000000  "
      ]
     },
     "execution_count": 5,
     "metadata": {},
     "output_type": "execute_result"
    }
   ],
   "source": [
    "numeric_df.corr()"
   ]
  },
  {
   "cell_type": "code",
   "execution_count": 6,
   "metadata": {},
   "outputs": [
    {
     "data": {
      "image/png": "[encoded data removed]",
      "text/plain": [
       "<Figure size 432x288 with 2 Axes>"
      ]
     },
     "metadata": {
      "needs_background": "light"
     },
     "output_type": "display_data"
    }
   ],
   "source": [
    "corr = numeric_df.corr()\n",
    "mask = np.triu(np.ones_like(corr, dtype=bool))\n",
    "sns.heatmap(corr,\n",
    "           vmin=-1,\n",
    "           vmax=1,\n",
    "           cmap='seismic',\n",
    "           mask=mask)\n",
    "\n",
    "plt.show()"
   ]
  },
  {
   "cell_type": "code",
   "execution_count": 173,
   "metadata": {
    "scrolled": false
   },
   "outputs": [
    {
     "data": {
      "image/png": "[encoded data removed]",
      "text/plain": [
       "<Figure size 720x720 with 20 Axes>"
      ]
     },
     "metadata": {
      "needs_background": "light"
     },
     "output_type": "display_data"
    }
   ],
   "source": [
    "sns.pairplot(numeric_df[['reply_count', 'retweet_count', 'quote_count', 'favorite_count']])\n",
    "plt.show()"
   ]
  },
  {
   "cell_type": "code",
   "execution_count": 8,
   "metadata": {},
   "outputs": [
    {
     "data": {
      "image/png": "[encoded data removed]",
      "text/plain": [
       "<Figure size 432x288 with 2 Axes>"
      ]
     },
     "metadata": {
      "needs_background": "light"
     },
     "output_type": "display_data"
    }
   ],
   "source": [
    "corr = numeric_df[['reply_count', 'retweet_count', 'quote_count', 'favorite_count']].corr()\n",
    "mask = np.triu(np.ones_like(corr, dtype=bool))\n",
    "\n",
    "\n",
    "sns.heatmap(corr,\n",
    "           vmin=-1,\n",
    "           vmax=1,\n",
    "           cmap='seismic',\n",
    "           annot=True,\n",
    "           mask=mask)\n",
    "\n",
    "plt.show()"
   ]
  },
  {
   "cell_type": "code",
   "execution_count": null,
   "metadata": {},
   "outputs": [],
   "source": []
  },
  {
   "cell_type": "code",
   "execution_count": 5,
   "metadata": {},
   "outputs": [
    {
     "data": {
      "text/plain": [
       "uid\n",
       "138418838              14\n",
       "1693803998             14\n",
       "140883428              14\n",
       "926449271901163521     13\n",
       "1273807044403965952    13\n",
       "64767085               11\n",
       "968627720232972288     10\n",
       "1170056843391131652    10\n",
       "1360564874628186112     9\n",
       "1335779329670848517     9\n",
       "1091808811428397056     9\n",
       "121158213               9\n",
       "1413955044              9\n",
       "78621972                8\n",
       "783964422800891904      8\n",
       "36866990                8\n",
       "1280173604              8\n",
       "3027787911              7\n",
       "773794861535391744      7\n",
       "15368404                7\n",
       "dtype: int64"
      ]
     },
     "execution_count": 5,
     "metadata": {},
     "output_type": "execute_result"
    }
   ],
   "source": [
    "top_20_posters = numeric_df.value_counts('uid')[:20]\n",
    "top_20_posters"
   ]
  },
  {
   "cell_type": "code",
   "execution_count": 10,
   "metadata": {},
   "outputs": [
    {
     "data": {
      "text/html": [
       "<div>\n",
       "<style scoped>\n",
       "    .dataframe tbody tr th:only-of-type {\n",
       "        vertical-align: middle;\n",
       "    }\n",
       "\n",
       "    .dataframe tbody tr th {\n",
       "        vertical-align: top;\n",
       "    }\n",
       "\n",
       "    .dataframe thead th {\n",
       "        text-align: right;\n",
       "    }\n",
       "</style>\n",
       "<table border=\"1\" class=\"dataframe\">\n",
       "  <thead>\n",
       "    <tr style=\"text-align: right;\">\n",
       "      <th></th>\n",
       "      <th>quote_count</th>\n",
       "      <th>reply_count</th>\n",
       "      <th>retweet_count</th>\n",
       "      <th>favorite_count</th>\n",
       "      <th>user_verified</th>\n",
       "    </tr>\n",
       "    <tr>\n",
       "      <th>uid</th>\n",
       "      <th></th>\n",
       "      <th></th>\n",
       "      <th></th>\n",
       "      <th></th>\n",
       "      <th></th>\n",
       "    </tr>\n",
       "  </thead>\n",
       "  <tbody>\n",
       "    <tr>\n",
       "      <th>15368404</th>\n",
       "      <td>0</td>\n",
       "      <td>4</td>\n",
       "      <td>14</td>\n",
       "      <td>21</td>\n",
       "      <td>7</td>\n",
       "    </tr>\n",
       "    <tr>\n",
       "      <th>36866990</th>\n",
       "      <td>0</td>\n",
       "      <td>6</td>\n",
       "      <td>11</td>\n",
       "      <td>29</td>\n",
       "      <td>0</td>\n",
       "    </tr>\n",
       "    <tr>\n",
       "      <th>64767085</th>\n",
       "      <td>0</td>\n",
       "      <td>0</td>\n",
       "      <td>3</td>\n",
       "      <td>15</td>\n",
       "      <td>0</td>\n",
       "    </tr>\n",
       "    <tr>\n",
       "      <th>78621972</th>\n",
       "      <td>6</td>\n",
       "      <td>9</td>\n",
       "      <td>54</td>\n",
       "      <td>210</td>\n",
       "      <td>8</td>\n",
       "    </tr>\n",
       "    <tr>\n",
       "      <th>121158213</th>\n",
       "      <td>0</td>\n",
       "      <td>0</td>\n",
       "      <td>2</td>\n",
       "      <td>8</td>\n",
       "      <td>0</td>\n",
       "    </tr>\n",
       "    <tr>\n",
       "      <th>138418838</th>\n",
       "      <td>0</td>\n",
       "      <td>0</td>\n",
       "      <td>6</td>\n",
       "      <td>1</td>\n",
       "      <td>0</td>\n",
       "    </tr>\n",
       "    <tr>\n",
       "      <th>140883428</th>\n",
       "      <td>0</td>\n",
       "      <td>1</td>\n",
       "      <td>0</td>\n",
       "      <td>0</td>\n",
       "      <td>0</td>\n",
       "    </tr>\n",
       "    <tr>\n",
       "      <th>1280173604</th>\n",
       "      <td>1</td>\n",
       "      <td>6</td>\n",
       "      <td>4</td>\n",
       "      <td>6</td>\n",
       "      <td>0</td>\n",
       "    </tr>\n",
       "    <tr>\n",
       "      <th>1413955044</th>\n",
       "      <td>0</td>\n",
       "      <td>0</td>\n",
       "      <td>0</td>\n",
       "      <td>0</td>\n",
       "      <td>0</td>\n",
       "    </tr>\n",
       "    <tr>\n",
       "      <th>1693803998</th>\n",
       "      <td>0</td>\n",
       "      <td>0</td>\n",
       "      <td>0</td>\n",
       "      <td>4</td>\n",
       "      <td>0</td>\n",
       "    </tr>\n",
       "    <tr>\n",
       "      <th>3027787911</th>\n",
       "      <td>0</td>\n",
       "      <td>0</td>\n",
       "      <td>0</td>\n",
       "      <td>0</td>\n",
       "      <td>0</td>\n",
       "    </tr>\n",
       "    <tr>\n",
       "      <th>773794861535391744</th>\n",
       "      <td>0</td>\n",
       "      <td>0</td>\n",
       "      <td>0</td>\n",
       "      <td>0</td>\n",
       "      <td>0</td>\n",
       "    </tr>\n",
       "    <tr>\n",
       "      <th>783964422800891904</th>\n",
       "      <td>0</td>\n",
       "      <td>0</td>\n",
       "      <td>0</td>\n",
       "      <td>0</td>\n",
       "      <td>0</td>\n",
       "    </tr>\n",
       "    <tr>\n",
       "      <th>926449271901163521</th>\n",
       "      <td>0</td>\n",
       "      <td>12</td>\n",
       "      <td>3</td>\n",
       "      <td>5</td>\n",
       "      <td>0</td>\n",
       "    </tr>\n",
       "    <tr>\n",
       "      <th>968627720232972288</th>\n",
       "      <td>0</td>\n",
       "      <td>0</td>\n",
       "      <td>0</td>\n",
       "      <td>0</td>\n",
       "      <td>0</td>\n",
       "    </tr>\n",
       "    <tr>\n",
       "      <th>1091808811428397056</th>\n",
       "      <td>0</td>\n",
       "      <td>0</td>\n",
       "      <td>0</td>\n",
       "      <td>0</td>\n",
       "      <td>0</td>\n",
       "    </tr>\n",
       "    <tr>\n",
       "      <th>1170056843391131652</th>\n",
       "      <td>0</td>\n",
       "      <td>0</td>\n",
       "      <td>0</td>\n",
       "      <td>0</td>\n",
       "      <td>0</td>\n",
       "    </tr>\n",
       "    <tr>\n",
       "      <th>1273807044403965952</th>\n",
       "      <td>10</td>\n",
       "      <td>4</td>\n",
       "      <td>52</td>\n",
       "      <td>146</td>\n",
       "      <td>0</td>\n",
       "    </tr>\n",
       "    <tr>\n",
       "      <th>1335779329670848517</th>\n",
       "      <td>0</td>\n",
       "      <td>0</td>\n",
       "      <td>0</td>\n",
       "      <td>0</td>\n",
       "      <td>0</td>\n",
       "    </tr>\n",
       "    <tr>\n",
       "      <th>1360564874628186112</th>\n",
       "      <td>0</td>\n",
       "      <td>6</td>\n",
       "      <td>0</td>\n",
       "      <td>0</td>\n",
       "      <td>0</td>\n",
       "    </tr>\n",
       "  </tbody>\n",
       "</table>\n",
       "</div>"
      ],
      "text/plain": [
       "                     quote_count  reply_count  retweet_count  favorite_count  \\\n",
       "uid                                                                            \n",
       "15368404                       0            4             14              21   \n",
       "36866990                       0            6             11              29   \n",
       "64767085                       0            0              3              15   \n",
       "78621972                       6            9             54             210   \n",
       "121158213                      0            0              2               8   \n",
       "138418838                      0            0              6               1   \n",
       "140883428                      0            1              0               0   \n",
       "1280173604                     1            6              4               6   \n",
       "1413955044                     0            0              0               0   \n",
       "1693803998                     0            0              0               4   \n",
       "3027787911                     0            0              0               0   \n",
       "773794861535391744             0            0              0               0   \n",
       "783964422800891904             0            0              0               0   \n",
       "926449271901163521             0           12              3               5   \n",
       "968627720232972288             0            0              0               0   \n",
       "1091808811428397056            0            0              0               0   \n",
       "1170056843391131652            0            0              0               0   \n",
       "1273807044403965952           10            4             52             146   \n",
       "1335779329670848517            0            0              0               0   \n",
       "1360564874628186112            0            6              0               0   \n",
       "\n",
       "                     user_verified  \n",
       "uid                                 \n",
       "15368404                         7  \n",
       "36866990                         0  \n",
       "64767085                         0  \n",
       "78621972                         8  \n",
       "121158213                        0  \n",
       "138418838                        0  \n",
       "140883428                        0  \n",
       "1280173604                       0  \n",
       "1413955044                       0  \n",
       "1693803998                       0  \n",
       "3027787911                       0  \n",
       "773794861535391744               0  \n",
       "783964422800891904               0  \n",
       "926449271901163521               0  \n",
       "968627720232972288               0  \n",
       "1091808811428397056              0  \n",
       "1170056843391131652              0  \n",
       "1273807044403965952              0  \n",
       "1335779329670848517              0  \n",
       "1360564874628186112              0  "
      ]
     },
     "execution_count": 10,
     "metadata": {},
     "output_type": "execute_result"
    }
   ],
   "source": [
    "numeric_df.loc[idx[:,top_20_posters.index],:].groupby('uid').sum()[['quote_count', 'reply_count', 'retweet_count', \n",
    "                                                                   'favorite_count', 'user_verified']]"
   ]
  },
  {
   "cell_type": "code",
   "execution_count": 6,
   "metadata": {},
   "outputs": [
    {
     "data": {
      "text/plain": [
       "uid\n",
       "935543111928942597    1\n",
       "935536344738222081    1\n",
       "935446829730291717    1\n",
       "934905742443859968    1\n",
       "934061335444447232    1\n",
       "933486024378011648    1\n",
       "933055483686072321    1\n",
       "932159095423033344    1\n",
       "931964153585168384    1\n",
       "931280690158690304    1\n",
       "931163186501337088    1\n",
       "930987806255730688    1\n",
       "930812764439896064    1\n",
       "927206780110852097    1\n",
       "926860756129337345    1\n",
       "925683142312235008    1\n",
       "925303491190501376    1\n",
       "923956572535083008    1\n",
       "923921421910380544    1\n",
       "807095                1\n",
       "dtype: int64"
      ]
     },
     "execution_count": 6,
     "metadata": {},
     "output_type": "execute_result"
    }
   ],
   "source": [
    "bottom_20_posters = numeric_df.value_counts('uid')[-20:]\n",
    "bottom_20_posters"
   ]
  },
  {
   "cell_type": "code",
   "execution_count": 12,
   "metadata": {},
   "outputs": [
    {
     "data": {
      "text/html": [
       "<div>\n",
       "<style scoped>\n",
       "    .dataframe tbody tr th:only-of-type {\n",
       "        vertical-align: middle;\n",
       "    }\n",
       "\n",
       "    .dataframe tbody tr th {\n",
       "        vertical-align: top;\n",
       "    }\n",
       "\n",
       "    .dataframe thead th {\n",
       "        text-align: right;\n",
       "    }\n",
       "</style>\n",
       "<table border=\"1\" class=\"dataframe\">\n",
       "  <thead>\n",
       "    <tr style=\"text-align: right;\">\n",
       "      <th></th>\n",
       "      <th>quote_count</th>\n",
       "      <th>reply_count</th>\n",
       "      <th>retweet_count</th>\n",
       "      <th>favorite_count</th>\n",
       "      <th>user_verified</th>\n",
       "    </tr>\n",
       "    <tr>\n",
       "      <th>uid</th>\n",
       "      <th></th>\n",
       "      <th></th>\n",
       "      <th></th>\n",
       "      <th></th>\n",
       "      <th></th>\n",
       "    </tr>\n",
       "  </thead>\n",
       "  <tbody>\n",
       "    <tr>\n",
       "      <th>807095</th>\n",
       "      <td>12</td>\n",
       "      <td>15</td>\n",
       "      <td>63</td>\n",
       "      <td>346</td>\n",
       "      <td>1</td>\n",
       "    </tr>\n",
       "    <tr>\n",
       "      <th>923921421910380544</th>\n",
       "      <td>0</td>\n",
       "      <td>0</td>\n",
       "      <td>0</td>\n",
       "      <td>0</td>\n",
       "      <td>0</td>\n",
       "    </tr>\n",
       "    <tr>\n",
       "      <th>923956572535083008</th>\n",
       "      <td>0</td>\n",
       "      <td>0</td>\n",
       "      <td>0</td>\n",
       "      <td>1</td>\n",
       "      <td>0</td>\n",
       "    </tr>\n",
       "    <tr>\n",
       "      <th>925303491190501376</th>\n",
       "      <td>0</td>\n",
       "      <td>0</td>\n",
       "      <td>0</td>\n",
       "      <td>0</td>\n",
       "      <td>0</td>\n",
       "    </tr>\n",
       "    <tr>\n",
       "      <th>925683142312235008</th>\n",
       "      <td>0</td>\n",
       "      <td>0</td>\n",
       "      <td>0</td>\n",
       "      <td>0</td>\n",
       "      <td>0</td>\n",
       "    </tr>\n",
       "    <tr>\n",
       "      <th>926860756129337345</th>\n",
       "      <td>0</td>\n",
       "      <td>0</td>\n",
       "      <td>0</td>\n",
       "      <td>0</td>\n",
       "      <td>0</td>\n",
       "    </tr>\n",
       "    <tr>\n",
       "      <th>927206780110852097</th>\n",
       "      <td>0</td>\n",
       "      <td>0</td>\n",
       "      <td>0</td>\n",
       "      <td>0</td>\n",
       "      <td>0</td>\n",
       "    </tr>\n",
       "    <tr>\n",
       "      <th>930812764439896064</th>\n",
       "      <td>0</td>\n",
       "      <td>0</td>\n",
       "      <td>0</td>\n",
       "      <td>0</td>\n",
       "      <td>0</td>\n",
       "    </tr>\n",
       "    <tr>\n",
       "      <th>930987806255730688</th>\n",
       "      <td>0</td>\n",
       "      <td>0</td>\n",
       "      <td>0</td>\n",
       "      <td>0</td>\n",
       "      <td>0</td>\n",
       "    </tr>\n",
       "    <tr>\n",
       "      <th>931163186501337088</th>\n",
       "      <td>0</td>\n",
       "      <td>0</td>\n",
       "      <td>0</td>\n",
       "      <td>0</td>\n",
       "      <td>0</td>\n",
       "    </tr>\n",
       "    <tr>\n",
       "      <th>931280690158690304</th>\n",
       "      <td>0</td>\n",
       "      <td>0</td>\n",
       "      <td>0</td>\n",
       "      <td>0</td>\n",
       "      <td>0</td>\n",
       "    </tr>\n",
       "    <tr>\n",
       "      <th>931964153585168384</th>\n",
       "      <td>0</td>\n",
       "      <td>0</td>\n",
       "      <td>0</td>\n",
       "      <td>0</td>\n",
       "      <td>0</td>\n",
       "    </tr>\n",
       "    <tr>\n",
       "      <th>932159095423033344</th>\n",
       "      <td>0</td>\n",
       "      <td>0</td>\n",
       "      <td>0</td>\n",
       "      <td>0</td>\n",
       "      <td>0</td>\n",
       "    </tr>\n",
       "    <tr>\n",
       "      <th>933055483686072321</th>\n",
       "      <td>0</td>\n",
       "      <td>0</td>\n",
       "      <td>0</td>\n",
       "      <td>0</td>\n",
       "      <td>0</td>\n",
       "    </tr>\n",
       "    <tr>\n",
       "      <th>933486024378011648</th>\n",
       "      <td>0</td>\n",
       "      <td>0</td>\n",
       "      <td>0</td>\n",
       "      <td>0</td>\n",
       "      <td>0</td>\n",
       "    </tr>\n",
       "    <tr>\n",
       "      <th>934061335444447232</th>\n",
       "      <td>0</td>\n",
       "      <td>1</td>\n",
       "      <td>0</td>\n",
       "      <td>6</td>\n",
       "      <td>0</td>\n",
       "    </tr>\n",
       "    <tr>\n",
       "      <th>934905742443859968</th>\n",
       "      <td>0</td>\n",
       "      <td>1</td>\n",
       "      <td>0</td>\n",
       "      <td>0</td>\n",
       "      <td>0</td>\n",
       "    </tr>\n",
       "    <tr>\n",
       "      <th>935446829730291717</th>\n",
       "      <td>0</td>\n",
       "      <td>0</td>\n",
       "      <td>0</td>\n",
       "      <td>0</td>\n",
       "      <td>0</td>\n",
       "    </tr>\n",
       "    <tr>\n",
       "      <th>935536344738222081</th>\n",
       "      <td>0</td>\n",
       "      <td>0</td>\n",
       "      <td>0</td>\n",
       "      <td>0</td>\n",
       "      <td>0</td>\n",
       "    </tr>\n",
       "    <tr>\n",
       "      <th>935543111928942597</th>\n",
       "      <td>1</td>\n",
       "      <td>1</td>\n",
       "      <td>4</td>\n",
       "      <td>30</td>\n",
       "      <td>0</td>\n",
       "    </tr>\n",
       "  </tbody>\n",
       "</table>\n",
       "</div>"
      ],
      "text/plain": [
       "                    quote_count  reply_count  retweet_count  favorite_count  \\\n",
       "uid                                                                           \n",
       "807095                       12           15             63             346   \n",
       "923921421910380544            0            0              0               0   \n",
       "923956572535083008            0            0              0               1   \n",
       "925303491190501376            0            0              0               0   \n",
       "925683142312235008            0            0              0               0   \n",
       "926860756129337345            0            0              0               0   \n",
       "927206780110852097            0            0              0               0   \n",
       "930812764439896064            0            0              0               0   \n",
       "930987806255730688            0            0              0               0   \n",
       "931163186501337088            0            0              0               0   \n",
       "931280690158690304            0            0              0               0   \n",
       "931964153585168384            0            0              0               0   \n",
       "932159095423033344            0            0              0               0   \n",
       "933055483686072321            0            0              0               0   \n",
       "933486024378011648            0            0              0               0   \n",
       "934061335444447232            0            1              0               6   \n",
       "934905742443859968            0            1              0               0   \n",
       "935446829730291717            0            0              0               0   \n",
       "935536344738222081            0            0              0               0   \n",
       "935543111928942597            1            1              4              30   \n",
       "\n",
       "                    user_verified  \n",
       "uid                                \n",
       "807095                          1  \n",
       "923921421910380544              0  \n",
       "923956572535083008              0  \n",
       "925303491190501376              0  \n",
       "925683142312235008              0  \n",
       "926860756129337345              0  \n",
       "927206780110852097              0  \n",
       "930812764439896064              0  \n",
       "930987806255730688              0  \n",
       "931163186501337088              0  \n",
       "931280690158690304              0  \n",
       "931964153585168384              0  \n",
       "932159095423033344              0  \n",
       "933055483686072321              0  \n",
       "933486024378011648              0  \n",
       "934061335444447232              0  \n",
       "934905742443859968              0  \n",
       "935446829730291717              0  \n",
       "935536344738222081              0  \n",
       "935543111928942597              0  "
      ]
     },
     "execution_count": 12,
     "metadata": {},
     "output_type": "execute_result"
    }
   ],
   "source": [
    "numeric_df.loc[idx[:,bottom_20_posters.index],:].groupby('uid').sum()[['quote_count', 'reply_count', 'retweet_count', \n",
    "                                                                   'favorite_count', 'user_verified']]"
   ]
  },
  {
   "cell_type": "code",
   "execution_count": 13,
   "metadata": {},
   "outputs": [
    {
     "data": {
      "text/html": [
       "<div>\n",
       "<style scoped>\n",
       "    .dataframe tbody tr th:only-of-type {\n",
       "        vertical-align: middle;\n",
       "    }\n",
       "\n",
       "    .dataframe tbody tr th {\n",
       "        vertical-align: top;\n",
       "    }\n",
       "\n",
       "    .dataframe thead th {\n",
       "        text-align: right;\n",
       "    }\n",
       "</style>\n",
       "<table border=\"1\" class=\"dataframe\">\n",
       "  <thead>\n",
       "    <tr style=\"text-align: right;\">\n",
       "      <th></th>\n",
       "      <th>quote_count</th>\n",
       "      <th>reply_count</th>\n",
       "      <th>retweet_count</th>\n",
       "      <th>favorite_count</th>\n",
       "      <th>user_followers_count</th>\n",
       "      <th>user_statuses_count</th>\n",
       "      <th>media_count</th>\n",
       "    </tr>\n",
       "    <tr>\n",
       "      <th>user_verified</th>\n",
       "      <th></th>\n",
       "      <th></th>\n",
       "      <th></th>\n",
       "      <th></th>\n",
       "      <th></th>\n",
       "      <th></th>\n",
       "      <th></th>\n",
       "    </tr>\n",
       "  </thead>\n",
       "  <tbody>\n",
       "    <tr>\n",
       "      <th>False</th>\n",
       "      <td>210</td>\n",
       "      <td>741</td>\n",
       "      <td>1934</td>\n",
       "      <td>8311</td>\n",
       "      <td>15173751</td>\n",
       "      <td>224780885</td>\n",
       "      <td>115</td>\n",
       "    </tr>\n",
       "    <tr>\n",
       "      <th>True</th>\n",
       "      <td>157</td>\n",
       "      <td>283</td>\n",
       "      <td>1057</td>\n",
       "      <td>4944</td>\n",
       "      <td>98731519</td>\n",
       "      <td>13094667</td>\n",
       "      <td>2</td>\n",
       "    </tr>\n",
       "  </tbody>\n",
       "</table>\n",
       "</div>"
      ],
      "text/plain": [
       "               quote_count  reply_count  retweet_count  favorite_count  \\\n",
       "user_verified                                                            \n",
       "False                  210          741           1934            8311   \n",
       "True                   157          283           1057            4944   \n",
       "\n",
       "               user_followers_count  user_statuses_count  media_count  \n",
       "user_verified                                                          \n",
       "False                      15173751            224780885          115  \n",
       "True                       98731519             13094667            2  "
      ]
     },
     "execution_count": 13,
     "metadata": {},
     "output_type": "execute_result"
    }
   ],
   "source": [
    "numeric_df.groupby('user_verified').sum()"
   ]
  },
  {
   "cell_type": "code",
   "execution_count": 14,
   "metadata": {},
   "outputs": [
    {
     "data": {
      "text/html": [
       "<div>\n",
       "<style scoped>\n",
       "    .dataframe tbody tr th:only-of-type {\n",
       "        vertical-align: middle;\n",
       "    }\n",
       "\n",
       "    .dataframe tbody tr th {\n",
       "        vertical-align: top;\n",
       "    }\n",
       "\n",
       "    .dataframe thead th {\n",
       "        text-align: right;\n",
       "    }\n",
       "</style>\n",
       "<table border=\"1\" class=\"dataframe\">\n",
       "  <thead>\n",
       "    <tr style=\"text-align: right;\">\n",
       "      <th></th>\n",
       "      <th>quote_count</th>\n",
       "      <th>reply_count</th>\n",
       "      <th>retweet_count</th>\n",
       "      <th>favorite_count</th>\n",
       "      <th>user_followers_count</th>\n",
       "      <th>user_statuses_count</th>\n",
       "      <th>media_count</th>\n",
       "      <th>media_types</th>\n",
       "    </tr>\n",
       "    <tr>\n",
       "      <th>user_verified</th>\n",
       "      <th></th>\n",
       "      <th></th>\n",
       "      <th></th>\n",
       "      <th></th>\n",
       "      <th></th>\n",
       "      <th></th>\n",
       "      <th></th>\n",
       "      <th></th>\n",
       "    </tr>\n",
       "  </thead>\n",
       "  <tbody>\n",
       "    <tr>\n",
       "      <th>False</th>\n",
       "      <td>4374</td>\n",
       "      <td>4374</td>\n",
       "      <td>4374</td>\n",
       "      <td>4374</td>\n",
       "      <td>4374</td>\n",
       "      <td>4374</td>\n",
       "      <td>4374</td>\n",
       "      <td>4374</td>\n",
       "    </tr>\n",
       "    <tr>\n",
       "      <th>True</th>\n",
       "      <td>193</td>\n",
       "      <td>193</td>\n",
       "      <td>193</td>\n",
       "      <td>193</td>\n",
       "      <td>193</td>\n",
       "      <td>193</td>\n",
       "      <td>193</td>\n",
       "      <td>193</td>\n",
       "    </tr>\n",
       "  </tbody>\n",
       "</table>\n",
       "</div>"
      ],
      "text/plain": [
       "               quote_count  reply_count  retweet_count  favorite_count  \\\n",
       "user_verified                                                            \n",
       "False                 4374         4374           4374            4374   \n",
       "True                   193          193            193             193   \n",
       "\n",
       "               user_followers_count  user_statuses_count  media_count  \\\n",
       "user_verified                                                           \n",
       "False                          4374                 4374         4374   \n",
       "True                            193                  193          193   \n",
       "\n",
       "               media_types  \n",
       "user_verified               \n",
       "False                 4374  \n",
       "True                   193  "
      ]
     },
     "execution_count": 14,
     "metadata": {},
     "output_type": "execute_result"
    }
   ],
   "source": [
    "numeric_df.groupby('user_verified').count()"
   ]
  },
  {
   "cell_type": "code",
   "execution_count": null,
   "metadata": {},
   "outputs": [],
   "source": []
  },
  {
   "cell_type": "markdown",
   "metadata": {},
   "source": [
    "#### reply counts"
   ]
  },
  {
   "cell_type": "code",
   "execution_count": 15,
   "metadata": {},
   "outputs": [
    {
     "data": {
      "image/png": "[encoded data removed]",
      "text/plain": [
       "<Figure size 432x288 with 1 Axes>"
      ]
     },
     "metadata": {
      "needs_background": "light"
     },
     "output_type": "display_data"
    }
   ],
   "source": [
    "plt.boxplot(numeric_df['reply_count'])\n",
    "plt.show()"
   ]
  },
  {
   "cell_type": "code",
   "execution_count": 16,
   "metadata": {},
   "outputs": [
    {
     "data": {
      "text/plain": [
       "tid                  uid                \n",
       "1363909584969216000  240420946              112\n",
       "1363876719791403010  1023533797449580544     38\n",
       "1363880834898526211  30183485                21\n",
       "1363892350850904064  1030129847035719681     20\n",
       "1363918767328231425  1361255214125355008     20\n",
       "1363935248996847619  180326389               17\n",
       "1363892936719622144  1340611413669232640     16\n",
       "1363869939413696513  807095                  15\n",
       "1363888791061221386  1957125536              14\n",
       "1363851795538137088  83487731                11\n",
       "1363873925642469378  301458322                9\n",
       "1363892949583552522  1034833882040999936      9\n",
       "1363829842815442948  832187313241329664       7\n",
       "1363923678023409667  16836187                 7\n",
       "1363855838184677381  87818409                 7\n",
       "Name: reply_count, dtype: Int64"
      ]
     },
     "execution_count": 16,
     "metadata": {},
     "output_type": "execute_result"
    }
   ],
   "source": [
    "numeric_df.reply_count.sort_values(ascending=False)[:15]"
   ]
  },
  {
   "cell_type": "code",
   "execution_count": 17,
   "metadata": {},
   "outputs": [
    {
     "data": {
      "text/html": [
       "<div>\n",
       "<style scoped>\n",
       "    .dataframe tbody tr th:only-of-type {\n",
       "        vertical-align: middle;\n",
       "    }\n",
       "\n",
       "    .dataframe tbody tr th {\n",
       "        vertical-align: top;\n",
       "    }\n",
       "\n",
       "    .dataframe thead th {\n",
       "        text-align: right;\n",
       "    }\n",
       "</style>\n",
       "<table border=\"1\" class=\"dataframe\">\n",
       "  <thead>\n",
       "    <tr style=\"text-align: right;\">\n",
       "      <th></th>\n",
       "      <th></th>\n",
       "      <th>quote_count</th>\n",
       "      <th>reply_count</th>\n",
       "      <th>retweet_count</th>\n",
       "      <th>favorite_count</th>\n",
       "      <th>user_followers_count</th>\n",
       "      <th>user_verified</th>\n",
       "      <th>user_statuses_count</th>\n",
       "      <th>media_count</th>\n",
       "      <th>media_types</th>\n",
       "    </tr>\n",
       "    <tr>\n",
       "      <th>tid</th>\n",
       "      <th>uid</th>\n",
       "      <th></th>\n",
       "      <th></th>\n",
       "      <th></th>\n",
       "      <th></th>\n",
       "      <th></th>\n",
       "      <th></th>\n",
       "      <th></th>\n",
       "      <th></th>\n",
       "      <th></th>\n",
       "    </tr>\n",
       "  </thead>\n",
       "  <tbody>\n",
       "    <tr>\n",
       "      <th>1363909584969216000</th>\n",
       "      <th>240420946</th>\n",
       "      <td>14</td>\n",
       "      <td>112</td>\n",
       "      <td>58</td>\n",
       "      <td>439</td>\n",
       "      <td>29756</td>\n",
       "      <td>True</td>\n",
       "      <td>7074</td>\n",
       "      <td>0</td>\n",
       "      <td>none</td>\n",
       "    </tr>\n",
       "  </tbody>\n",
       "</table>\n",
       "</div>"
      ],
      "text/plain": [
       "                               quote_count  reply_count  retweet_count  \\\n",
       "tid                 uid                                                  \n",
       "1363909584969216000 240420946           14          112             58   \n",
       "\n",
       "                               favorite_count  user_followers_count  \\\n",
       "tid                 uid                                               \n",
       "1363909584969216000 240420946             439                 29756   \n",
       "\n",
       "                               user_verified  user_statuses_count  \\\n",
       "tid                 uid                                             \n",
       "1363909584969216000 240420946           True                 7074   \n",
       "\n",
       "                               media_count media_types  \n",
       "tid                 uid                                 \n",
       "1363909584969216000 240420946            0        none  "
      ]
     },
     "execution_count": 17,
     "metadata": {},
     "output_type": "execute_result"
    }
   ],
   "source": [
    "numeric_df.loc[idx[1363909584969216000,:],:]"
   ]
  },
  {
   "cell_type": "code",
   "execution_count": 18,
   "metadata": {},
   "outputs": [
    {
     "data": {
      "text/plain": [
       "array([1.0, 1.0, 1.019999999999527, 2.0, 3.0, 5.0], dtype=object)"
      ]
     },
     "execution_count": 18,
     "metadata": {},
     "output_type": "execute_result"
    }
   ],
   "source": [
    "np.percentile(numeric_df.reply_count.values, [95,96,97,98,99,99.5])"
   ]
  },
  {
   "cell_type": "code",
   "execution_count": 19,
   "metadata": {},
   "outputs": [
    {
     "data": {
      "text/plain": [
       "99.78103788044669"
      ]
     },
     "execution_count": 19,
     "metadata": {},
     "output_type": "execute_result"
    }
   ],
   "source": [
    "scipy.stats.percentileofscore(numeric_df.reply_count.values, 10)"
   ]
  },
  {
   "cell_type": "markdown",
   "metadata": {},
   "source": [
    "#### favorite counts"
   ]
  },
  {
   "cell_type": "code",
   "execution_count": 20,
   "metadata": {},
   "outputs": [
    {
     "data": {
      "text/plain": [
       "tid                  uid                \n",
       "1363880834898526211  30183485               1280\n",
       "1363909584969216000  240420946               439\n",
       "1363888791061221386  1957125536              401\n",
       "1363864096676995072  15721456                389\n",
       "1363859416844500993  21701757                359\n",
       "1363869939413696513  807095                  346\n",
       "1363900873466908675  1289321986989096960     344\n",
       "1363935248996847619  180326389               297\n",
       "1363892350850904064  1030129847035719681     278\n",
       "1363931543786450944  1163435133384515586     206\n",
       "1363876719791403010  1023533797449580544     190\n",
       "1363906743617662987  63849197                176\n",
       "1363892949583552522  1034833882040999936     154\n",
       "1363857829979967491  1273807044403965952     146\n",
       "1363848441596583936  368183460               139\n",
       "Name: favorite_count, dtype: Int64"
      ]
     },
     "execution_count": 20,
     "metadata": {},
     "output_type": "execute_result"
    }
   ],
   "source": [
    "numeric_df.favorite_count.sort_values(ascending=False)[:15]"
   ]
  },
  {
   "cell_type": "code",
   "execution_count": 24,
   "metadata": {},
   "outputs": [
    {
     "data": {
      "text/html": [
       "<div>\n",
       "<style scoped>\n",
       "    .dataframe tbody tr th:only-of-type {\n",
       "        vertical-align: middle;\n",
       "    }\n",
       "\n",
       "    .dataframe tbody tr th {\n",
       "        vertical-align: top;\n",
       "    }\n",
       "\n",
       "    .dataframe thead th {\n",
       "        text-align: right;\n",
       "    }\n",
       "</style>\n",
       "<table border=\"1\" class=\"dataframe\">\n",
       "  <thead>\n",
       "    <tr style=\"text-align: right;\">\n",
       "      <th></th>\n",
       "      <th></th>\n",
       "      <th>quote_count</th>\n",
       "      <th>reply_count</th>\n",
       "      <th>retweet_count</th>\n",
       "      <th>favorite_count</th>\n",
       "      <th>user_followers_count</th>\n",
       "      <th>user_verified</th>\n",
       "      <th>user_statuses_count</th>\n",
       "      <th>media_count</th>\n",
       "      <th>media_types</th>\n",
       "    </tr>\n",
       "    <tr>\n",
       "      <th>tid</th>\n",
       "      <th>uid</th>\n",
       "      <th></th>\n",
       "      <th></th>\n",
       "      <th></th>\n",
       "      <th></th>\n",
       "      <th></th>\n",
       "      <th></th>\n",
       "      <th></th>\n",
       "      <th></th>\n",
       "      <th></th>\n",
       "    </tr>\n",
       "  </thead>\n",
       "  <tbody>\n",
       "    <tr>\n",
       "      <th>1363880834898526211</th>\n",
       "      <th>30183485</th>\n",
       "      <td>9</td>\n",
       "      <td>21</td>\n",
       "      <td>209</td>\n",
       "      <td>1280</td>\n",
       "      <td>53201</td>\n",
       "      <td>True</td>\n",
       "      <td>52596</td>\n",
       "      <td>0</td>\n",
       "      <td>none</td>\n",
       "    </tr>\n",
       "  </tbody>\n",
       "</table>\n",
       "</div>"
      ],
      "text/plain": [
       "                              quote_count  reply_count  retweet_count  \\\n",
       "tid                 uid                                                 \n",
       "1363880834898526211 30183485            9           21            209   \n",
       "\n",
       "                              favorite_count  user_followers_count  \\\n",
       "tid                 uid                                              \n",
       "1363880834898526211 30183485            1280                 53201   \n",
       "\n",
       "                              user_verified  user_statuses_count  media_count  \\\n",
       "tid                 uid                                                         \n",
       "1363880834898526211 30183485           True                52596            0   \n",
       "\n",
       "                             media_types  \n",
       "tid                 uid                   \n",
       "1363880834898526211 30183485        none  "
      ]
     },
     "execution_count": 24,
     "metadata": {},
     "output_type": "execute_result"
    }
   ],
   "source": [
    "numeric_df.loc[idx[1363880834898526211,:],:]"
   ]
  },
  {
   "cell_type": "code",
   "execution_count": 7,
   "metadata": {},
   "outputs": [],
   "source": [
    "fav_no_outliers = numeric_df[(numeric_df.favorite_count < 500)&(numeric_df.favorite_count > 0)].favorite_count"
   ]
  },
  {
   "cell_type": "code",
   "execution_count": 26,
   "metadata": {},
   "outputs": [
    {
     "data": {
      "image/png": "[encoded data removed]",
      "text/plain": [
       "<Figure size 432x288 with 1 Axes>"
      ]
     },
     "metadata": {
      "needs_background": "light"
     },
     "output_type": "display_data"
    }
   ],
   "source": [
    "plt.hist(fav_no_outliers, bins=200)\n",
    "plt.xlim(-2,100)\n",
    "plt.show()"
   ]
  },
  {
   "cell_type": "code",
   "execution_count": 27,
   "metadata": {},
   "outputs": [
    {
     "data": {
      "text/plain": [
       "array([8.0, 11.0, 16.0, 26.0, 56.340000000000146, 95.34000000000015],\n",
       "      dtype=object)"
      ]
     },
     "execution_count": 27,
     "metadata": {},
     "output_type": "execute_result"
    }
   ],
   "source": [
    "np.percentile(numeric_df.favorite_count.values, [95,96,97,98,99,99.5])"
   ]
  },
  {
   "cell_type": "code",
   "execution_count": 28,
   "metadata": {},
   "outputs": [
    {
     "data": {
      "text/plain": [
       "82.97569520472958"
      ]
     },
     "execution_count": 28,
     "metadata": {},
     "output_type": "execute_result"
    }
   ],
   "source": [
    "scipy.stats.percentileofscore(numeric_df.favorite_count.values, 1)"
   ]
  },
  {
   "cell_type": "code",
   "execution_count": 29,
   "metadata": {},
   "outputs": [
    {
     "data": {
      "text/plain": [
       "97.50383183709218"
      ]
     },
     "execution_count": 29,
     "metadata": {},
     "output_type": "execute_result"
    }
   ],
   "source": [
    "scipy.stats.percentileofscore(numeric_df.favorite_count.values, 20)"
   ]
  },
  {
   "cell_type": "markdown",
   "metadata": {},
   "source": [
    "#### retweet counts"
   ]
  },
  {
   "cell_type": "code",
   "execution_count": 30,
   "metadata": {},
   "outputs": [
    {
     "data": {
      "text/plain": [
       "tid                  uid                \n",
       "1363880834898526211  30183485               209\n",
       "1363859416844500993  21701757                85\n",
       "1363892350850904064  1030129847035719681     79\n",
       "1363891147446358018  608259051               79\n",
       "1363935248996847619  180326389               69\n",
       "1363876719791403010  1023533797449580544     69\n",
       "1363888791061221386  1957125536              68\n",
       "1363869939413696513  807095                  63\n",
       "1363902676573036546  15808647                59\n",
       "1363909584969216000  240420946               58\n",
       "1363857829979967491  1273807044403965952     52\n",
       "1363855299015237634  266143766               52\n",
       "1363931543786450944  1163435133384515586     48\n",
       "1363855838184677381  87818409                45\n",
       "1363864096676995072  15721456                42\n",
       "Name: retweet_count, dtype: Int64"
      ]
     },
     "execution_count": 30,
     "metadata": {},
     "output_type": "execute_result"
    }
   ],
   "source": [
    "numeric_df.retweet_count.sort_values(ascending=False)[:15]"
   ]
  },
  {
   "cell_type": "code",
   "execution_count": 32,
   "metadata": {},
   "outputs": [
    {
     "data": {
      "text/html": [
       "<div>\n",
       "<style scoped>\n",
       "    .dataframe tbody tr th:only-of-type {\n",
       "        vertical-align: middle;\n",
       "    }\n",
       "\n",
       "    .dataframe tbody tr th {\n",
       "        vertical-align: top;\n",
       "    }\n",
       "\n",
       "    .dataframe thead th {\n",
       "        text-align: right;\n",
       "    }\n",
       "</style>\n",
       "<table border=\"1\" class=\"dataframe\">\n",
       "  <thead>\n",
       "    <tr style=\"text-align: right;\">\n",
       "      <th></th>\n",
       "      <th></th>\n",
       "      <th>quote_count</th>\n",
       "      <th>reply_count</th>\n",
       "      <th>retweet_count</th>\n",
       "      <th>favorite_count</th>\n",
       "      <th>user_followers_count</th>\n",
       "      <th>user_verified</th>\n",
       "      <th>user_statuses_count</th>\n",
       "      <th>media_count</th>\n",
       "      <th>media_types</th>\n",
       "    </tr>\n",
       "    <tr>\n",
       "      <th>tid</th>\n",
       "      <th>uid</th>\n",
       "      <th></th>\n",
       "      <th></th>\n",
       "      <th></th>\n",
       "      <th></th>\n",
       "      <th></th>\n",
       "      <th></th>\n",
       "      <th></th>\n",
       "      <th></th>\n",
       "      <th></th>\n",
       "    </tr>\n",
       "  </thead>\n",
       "  <tbody>\n",
       "    <tr>\n",
       "      <th>1363880834898526211</th>\n",
       "      <th>30183485</th>\n",
       "      <td>9</td>\n",
       "      <td>21</td>\n",
       "      <td>209</td>\n",
       "      <td>1280</td>\n",
       "      <td>53201</td>\n",
       "      <td>True</td>\n",
       "      <td>52596</td>\n",
       "      <td>0</td>\n",
       "      <td>none</td>\n",
       "    </tr>\n",
       "  </tbody>\n",
       "</table>\n",
       "</div>"
      ],
      "text/plain": [
       "                              quote_count  reply_count  retweet_count  \\\n",
       "tid                 uid                                                 \n",
       "1363880834898526211 30183485            9           21            209   \n",
       "\n",
       "                              favorite_count  user_followers_count  \\\n",
       "tid                 uid                                              \n",
       "1363880834898526211 30183485            1280                 53201   \n",
       "\n",
       "                              user_verified  user_statuses_count  media_count  \\\n",
       "tid                 uid                                                         \n",
       "1363880834898526211 30183485           True                52596            0   \n",
       "\n",
       "                             media_types  \n",
       "tid                 uid                   \n",
       "1363880834898526211 30183485        none  "
      ]
     },
     "execution_count": 32,
     "metadata": {},
     "output_type": "execute_result"
    }
   ],
   "source": [
    "numeric_df.loc[idx[1363880834898526211,:],:]"
   ]
  },
  {
   "cell_type": "code",
   "execution_count": 33,
   "metadata": {},
   "outputs": [
    {
     "data": {
      "image/png": "[encoded data removed]",
      "text/plain": [
       "<Figure size 432x288 with 1 Axes>"
      ]
     },
     "metadata": {
      "needs_background": "light"
     },
     "output_type": "display_data"
    }
   ],
   "source": [
    "\n",
    "plt.boxplot(numeric_df['retweet_count'])\n",
    "plt.show()"
   ]
  },
  {
   "cell_type": "code",
   "execution_count": 34,
   "metadata": {},
   "outputs": [
    {
     "data": {
      "text/plain": [
       "99.40880227720605"
      ]
     },
     "execution_count": 34,
     "metadata": {},
     "output_type": "execute_result"
    }
   ],
   "source": [
    "scipy.stats.percentileofscore(numeric_df.retweet_count.values, 20)"
   ]
  },
  {
   "cell_type": "code",
   "execution_count": 35,
   "metadata": {},
   "outputs": [
    {
     "data": {
      "text/plain": [
       "array([2.0, 3.0, 4.0, 7.0, 13.0, 25.51000000000022], dtype=object)"
      ]
     },
     "execution_count": 35,
     "metadata": {},
     "output_type": "execute_result"
    }
   ],
   "source": [
    "np.percentile(numeric_df.retweet_count.values, [95,96,97,98,99,99.5])"
   ]
  },
  {
   "cell_type": "markdown",
   "metadata": {},
   "source": [
    "#### quote retweet counts"
   ]
  },
  {
   "cell_type": "code",
   "execution_count": 36,
   "metadata": {},
   "outputs": [
    {
     "data": {
      "text/plain": [
       "tid                  uid                \n",
       "1363859416844500993  21701757               43\n",
       "1363855299015237634  266143766              19\n",
       "1363909584969216000  240420946              14\n",
       "1363869939413696513  807095                 12\n",
       "1363857829979967491  1273807044403965952    10\n",
       "1363880834898526211  30183485                9\n",
       "1363880239621959680  148477475               9\n",
       "1363900936851255298  1321276434812469249     9\n",
       "1363880452277166082  1063609340521865217     8\n",
       "1363864096676995072  15721456                7\n",
       "1363855838184677381  87818409                7\n",
       "1363893898381262849  1321276434812469249     7\n",
       "1363892949583552522  1034833882040999936     6\n",
       "1363867882342522882  78621972                5\n",
       "1363909052099563520  101790067               5\n",
       "Name: quote_count, dtype: Int64"
      ]
     },
     "execution_count": 36,
     "metadata": {},
     "output_type": "execute_result"
    }
   ],
   "source": [
    "numeric_df.quote_count.sort_values(ascending=False)[:15]"
   ]
  },
  {
   "cell_type": "code",
   "execution_count": 37,
   "metadata": {},
   "outputs": [
    {
     "data": {
      "text/html": [
       "<div>\n",
       "<style scoped>\n",
       "    .dataframe tbody tr th:only-of-type {\n",
       "        vertical-align: middle;\n",
       "    }\n",
       "\n",
       "    .dataframe tbody tr th {\n",
       "        vertical-align: top;\n",
       "    }\n",
       "\n",
       "    .dataframe thead th {\n",
       "        text-align: right;\n",
       "    }\n",
       "</style>\n",
       "<table border=\"1\" class=\"dataframe\">\n",
       "  <thead>\n",
       "    <tr style=\"text-align: right;\">\n",
       "      <th></th>\n",
       "      <th></th>\n",
       "      <th>quote_count</th>\n",
       "      <th>reply_count</th>\n",
       "      <th>retweet_count</th>\n",
       "      <th>favorite_count</th>\n",
       "      <th>user_followers_count</th>\n",
       "      <th>user_verified</th>\n",
       "      <th>user_statuses_count</th>\n",
       "      <th>media_count</th>\n",
       "      <th>media_types</th>\n",
       "    </tr>\n",
       "    <tr>\n",
       "      <th>tid</th>\n",
       "      <th>uid</th>\n",
       "      <th></th>\n",
       "      <th></th>\n",
       "      <th></th>\n",
       "      <th></th>\n",
       "      <th></th>\n",
       "      <th></th>\n",
       "      <th></th>\n",
       "      <th></th>\n",
       "      <th></th>\n",
       "    </tr>\n",
       "  </thead>\n",
       "  <tbody>\n",
       "    <tr>\n",
       "      <th>1363859416844500993</th>\n",
       "      <th>21701757</th>\n",
       "      <td>43</td>\n",
       "      <td>3</td>\n",
       "      <td>85</td>\n",
       "      <td>359</td>\n",
       "      <td>1338501</td>\n",
       "      <td>True</td>\n",
       "      <td>139903</td>\n",
       "      <td>0</td>\n",
       "      <td>none</td>\n",
       "    </tr>\n",
       "  </tbody>\n",
       "</table>\n",
       "</div>"
      ],
      "text/plain": [
       "                              quote_count  reply_count  retweet_count  \\\n",
       "tid                 uid                                                 \n",
       "1363859416844500993 21701757           43            3             85   \n",
       "\n",
       "                              favorite_count  user_followers_count  \\\n",
       "tid                 uid                                              \n",
       "1363859416844500993 21701757             359               1338501   \n",
       "\n",
       "                              user_verified  user_statuses_count  media_count  \\\n",
       "tid                 uid                                                         \n",
       "1363859416844500993 21701757           True               139903            0   \n",
       "\n",
       "                             media_types  \n",
       "tid                 uid                   \n",
       "1363859416844500993 21701757        none  "
      ]
     },
     "execution_count": 37,
     "metadata": {},
     "output_type": "execute_result"
    }
   ],
   "source": [
    "numeric_df.loc[idx[1363859416844500993,:],:]"
   ]
  },
  {
   "cell_type": "code",
   "execution_count": 8,
   "metadata": {},
   "outputs": [],
   "source": [
    "verified = numeric_df[numeric_df.user_verified==True]\n",
    "not_verified = numeric_df[numeric_df.user_verified==False]"
   ]
  },
  {
   "cell_type": "code",
   "execution_count": 92,
   "metadata": {},
   "outputs": [
    {
     "data": {
      "image/png": "[encoded data removed]",
      "text/plain": [
       "<Figure size 720x720 with 1 Axes>"
      ]
     },
     "metadata": {
      "needs_background": "light"
     },
     "output_type": "display_data"
    }
   ],
   "source": [
    "fig, ax = plt.subplots(figsize=(10,10))\n",
    "sns.scatterplot(data=numeric_df, x='retweet_count', y='favorite_count', hue='user_verified',\n",
    "                alpha=.8, marker='+', s=100\n",
    "           )\n",
    "\n",
    "ax.set_xlim(0,100)\n",
    "ax.set_ylim(0,600)\n",
    "plt.show()"
   ]
  },
  {
   "cell_type": "code",
   "execution_count": 17,
   "metadata": {},
   "outputs": [
    {
     "data": {
      "text/html": [
       "<div>\n",
       "<style scoped>\n",
       "    .dataframe tbody tr th:only-of-type {\n",
       "        vertical-align: middle;\n",
       "    }\n",
       "\n",
       "    .dataframe tbody tr th {\n",
       "        vertical-align: top;\n",
       "    }\n",
       "\n",
       "    .dataframe thead th {\n",
       "        text-align: right;\n",
       "    }\n",
       "</style>\n",
       "<table border=\"1\" class=\"dataframe\">\n",
       "  <thead>\n",
       "    <tr style=\"text-align: right;\">\n",
       "      <th></th>\n",
       "      <th></th>\n",
       "      <th>quote_count</th>\n",
       "      <th>reply_count</th>\n",
       "      <th>retweet_count</th>\n",
       "      <th>favorite_count</th>\n",
       "      <th>user_followers_count</th>\n",
       "      <th>user_verified</th>\n",
       "      <th>user_statuses_count</th>\n",
       "      <th>media_count</th>\n",
       "      <th>media_types</th>\n",
       "    </tr>\n",
       "    <tr>\n",
       "      <th>tid</th>\n",
       "      <th>uid</th>\n",
       "      <th></th>\n",
       "      <th></th>\n",
       "      <th></th>\n",
       "      <th></th>\n",
       "      <th></th>\n",
       "      <th></th>\n",
       "      <th></th>\n",
       "      <th></th>\n",
       "      <th></th>\n",
       "    </tr>\n",
       "  </thead>\n",
       "  <tbody>\n",
       "    <tr>\n",
       "      <th>1363938241762578434</th>\n",
       "      <th>2483954344</th>\n",
       "      <td>0</td>\n",
       "      <td>0</td>\n",
       "      <td>6</td>\n",
       "      <td>7</td>\n",
       "      <td>217366</td>\n",
       "      <td>True</td>\n",
       "      <td>170891</td>\n",
       "      <td>0</td>\n",
       "      <td>none</td>\n",
       "    </tr>\n",
       "    <tr>\n",
       "      <th>1363939051137622017</th>\n",
       "      <th>25105436</th>\n",
       "      <td>0</td>\n",
       "      <td>0</td>\n",
       "      <td>1</td>\n",
       "      <td>2</td>\n",
       "      <td>26258</td>\n",
       "      <td>True</td>\n",
       "      <td>69077</td>\n",
       "      <td>0</td>\n",
       "      <td>none</td>\n",
       "    </tr>\n",
       "    <tr>\n",
       "      <th>1363939589006753793</th>\n",
       "      <th>182675886</th>\n",
       "      <td>0</td>\n",
       "      <td>1</td>\n",
       "      <td>0</td>\n",
       "      <td>3</td>\n",
       "      <td>11113</td>\n",
       "      <td>True</td>\n",
       "      <td>43968</td>\n",
       "      <td>0</td>\n",
       "      <td>none</td>\n",
       "    </tr>\n",
       "    <tr>\n",
       "      <th>1363941650351853568</th>\n",
       "      <th>91316071</th>\n",
       "      <td>0</td>\n",
       "      <td>0</td>\n",
       "      <td>6</td>\n",
       "      <td>4</td>\n",
       "      <td>1815688</td>\n",
       "      <td>True</td>\n",
       "      <td>190894</td>\n",
       "      <td>0</td>\n",
       "      <td>none</td>\n",
       "    </tr>\n",
       "    <tr>\n",
       "      <th>1363941999901106183</th>\n",
       "      <th>182675886</th>\n",
       "      <td>0</td>\n",
       "      <td>1</td>\n",
       "      <td>0</td>\n",
       "      <td>3</td>\n",
       "      <td>11113</td>\n",
       "      <td>True</td>\n",
       "      <td>43968</td>\n",
       "      <td>0</td>\n",
       "      <td>none</td>\n",
       "    </tr>\n",
       "    <tr>\n",
       "      <th>...</th>\n",
       "      <th>...</th>\n",
       "      <td>...</td>\n",
       "      <td>...</td>\n",
       "      <td>...</td>\n",
       "      <td>...</td>\n",
       "      <td>...</td>\n",
       "      <td>...</td>\n",
       "      <td>...</td>\n",
       "      <td>...</td>\n",
       "      <td>...</td>\n",
       "    </tr>\n",
       "    <tr>\n",
       "      <th>1363855838184677381</th>\n",
       "      <th>87818409</th>\n",
       "      <td>7</td>\n",
       "      <td>7</td>\n",
       "      <td>45</td>\n",
       "      <td>93</td>\n",
       "      <td>9577604</td>\n",
       "      <td>True</td>\n",
       "      <td>658804</td>\n",
       "      <td>0</td>\n",
       "      <td>none</td>\n",
       "    </tr>\n",
       "    <tr>\n",
       "      <th>1363856339554869254</th>\n",
       "      <th>25772065</th>\n",
       "      <td>0</td>\n",
       "      <td>1</td>\n",
       "      <td>0</td>\n",
       "      <td>13</td>\n",
       "      <td>46901</td>\n",
       "      <td>True</td>\n",
       "      <td>838</td>\n",
       "      <td>0</td>\n",
       "      <td>none</td>\n",
       "    </tr>\n",
       "    <tr>\n",
       "      <th>1363857820530184200</th>\n",
       "      <th>24559364</th>\n",
       "      <td>0</td>\n",
       "      <td>0</td>\n",
       "      <td>8</td>\n",
       "      <td>36</td>\n",
       "      <td>25542</td>\n",
       "      <td>True</td>\n",
       "      <td>9680</td>\n",
       "      <td>0</td>\n",
       "      <td>none</td>\n",
       "    </tr>\n",
       "    <tr>\n",
       "      <th>1363859416844500993</th>\n",
       "      <th>21701757</th>\n",
       "      <td>43</td>\n",
       "      <td>3</td>\n",
       "      <td>85</td>\n",
       "      <td>359</td>\n",
       "      <td>1338501</td>\n",
       "      <td>True</td>\n",
       "      <td>139903</td>\n",
       "      <td>0</td>\n",
       "      <td>none</td>\n",
       "    </tr>\n",
       "    <tr>\n",
       "      <th>1363859424276848647</th>\n",
       "      <th>21701757</th>\n",
       "      <td>0</td>\n",
       "      <td>0</td>\n",
       "      <td>12</td>\n",
       "      <td>51</td>\n",
       "      <td>1338501</td>\n",
       "      <td>True</td>\n",
       "      <td>139903</td>\n",
       "      <td>1</td>\n",
       "      <td>photo</td>\n",
       "    </tr>\n",
       "  </tbody>\n",
       "</table>\n",
       "<p>99 rows × 9 columns</p>\n",
       "</div>"
      ],
      "text/plain": [
       "                                quote_count  reply_count  retweet_count  \\\n",
       "tid                 uid                                                   \n",
       "1363938241762578434 2483954344            0            0              6   \n",
       "1363939051137622017 25105436              0            0              1   \n",
       "1363939589006753793 182675886             0            1              0   \n",
       "1363941650351853568 91316071              0            0              6   \n",
       "1363941999901106183 182675886             0            1              0   \n",
       "...                                     ...          ...            ...   \n",
       "1363855838184677381 87818409              7            7             45   \n",
       "1363856339554869254 25772065              0            1              0   \n",
       "1363857820530184200 24559364              0            0              8   \n",
       "1363859416844500993 21701757             43            3             85   \n",
       "1363859424276848647 21701757              0            0             12   \n",
       "\n",
       "                                favorite_count  user_followers_count  \\\n",
       "tid                 uid                                                \n",
       "1363938241762578434 2483954344               7                217366   \n",
       "1363939051137622017 25105436                 2                 26258   \n",
       "1363939589006753793 182675886                3                 11113   \n",
       "1363941650351853568 91316071                 4               1815688   \n",
       "1363941999901106183 182675886                3                 11113   \n",
       "...                                        ...                   ...   \n",
       "1363855838184677381 87818409                93               9577604   \n",
       "1363856339554869254 25772065                13                 46901   \n",
       "1363857820530184200 24559364                36                 25542   \n",
       "1363859416844500993 21701757               359               1338501   \n",
       "1363859424276848647 21701757                51               1338501   \n",
       "\n",
       "                                user_verified  user_statuses_count  \\\n",
       "tid                 uid                                              \n",
       "1363938241762578434 2483954344           True               170891   \n",
       "1363939051137622017 25105436             True                69077   \n",
       "1363939589006753793 182675886            True                43968   \n",
       "1363941650351853568 91316071             True               190894   \n",
       "1363941999901106183 182675886            True                43968   \n",
       "...                                       ...                  ...   \n",
       "1363855838184677381 87818409             True               658804   \n",
       "1363856339554869254 25772065             True                  838   \n",
       "1363857820530184200 24559364             True                 9680   \n",
       "1363859416844500993 21701757             True               139903   \n",
       "1363859424276848647 21701757             True               139903   \n",
       "\n",
       "                                media_count media_types  \n",
       "tid                 uid                                  \n",
       "1363938241762578434 2483954344            0        none  \n",
       "1363939051137622017 25105436              0        none  \n",
       "1363939589006753793 182675886             0        none  \n",
       "1363941650351853568 91316071              0        none  \n",
       "1363941999901106183 182675886             0        none  \n",
       "...                                     ...         ...  \n",
       "1363855838184677381 87818409              0        none  \n",
       "1363856339554869254 25772065              0        none  \n",
       "1363857820530184200 24559364              0        none  \n",
       "1363859416844500993 21701757              0        none  \n",
       "1363859424276848647 21701757              1       photo  \n",
       "\n",
       "[99 rows x 9 columns]"
      ]
     },
     "execution_count": 17,
     "metadata": {},
     "output_type": "execute_result"
    }
   ],
   "source": [
    "verified[verified['favorite_count']>0].favorite_count"
   ]
  },
  {
   "cell_type": "code",
   "execution_count": 18,
   "metadata": {},
   "outputs": [
    {
     "data": {
      "image/png": "[encoded data removed]",
      "text/plain": [
       "<Figure size 1080x360 with 2 Axes>"
      ]
     },
     "metadata": {
      "needs_background": "light"
     },
     "output_type": "display_data"
    }
   ],
   "source": [
    "fig, axs = plt.subplots(ncols=2, figsize=(15,5))\n",
    "sns.histplot(verified[verified['favorite_count']>0].favorite_count, ax=axs[0])\n",
    "sns.histplot(not_verified[not_verified['favorite_count']>0].favorite_count, ax=axs[1])\n",
    "\n",
    "plt.show()"
   ]
  },
  {
   "cell_type": "code",
   "execution_count": null,
   "metadata": {},
   "outputs": [],
   "source": []
  }
 ],
 "metadata": {
  "kernelspec": {
   "display_name": "capstone2",
   "language": "python",
   "name": "capstone2"
  },
  "language_info": {
   "codemirror_mode": {
    "name": "ipython",
    "version": 3
   },
   "file_extension": ".py",
   "mimetype": "text/x-python",
   "name": "python",
   "nbconvert_exporter": "python",
   "pygments_lexer": "ipython3",
   "version": "3.8.5"
  }
 },
 "nbformat": 4,
 "nbformat_minor": 4
}
